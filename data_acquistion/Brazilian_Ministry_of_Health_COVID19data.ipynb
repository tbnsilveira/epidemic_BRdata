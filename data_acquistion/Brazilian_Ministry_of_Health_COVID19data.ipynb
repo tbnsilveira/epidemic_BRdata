{
 "cells": [
  {
   "cell_type": "markdown",
   "metadata": {
    "deletable": true,
    "editable": true
   },
   "source": [
    "# Exploring COVID-19 numbers: the data acquisition process"
   ]
  },
  {
   "cell_type": "markdown",
   "metadata": {
    "deletable": true,
    "editable": true
   },
   "source": [
    "### Environment log:"
   ]
  },
  {
   "cell_type": "markdown",
   "metadata": {
    "deletable": true,
    "editable": true
   },
   "source": [
    "(1) Using the \"analytics3\" anaconda environment; installing python packages directly through *pip* command.  \n",
    "(2) Installed *pyvirtualenv*, *selenium*, and *[bs4](https://www.crummy.com/software/BeautifulSoup/bs4/doc/#)* packages.  \n",
    "(3) Installed *chromedriver* through \"pip install chromedriver\".  \n",
    "\n",
    "(4) Got this error when initializing the Display function:\n",
    "> display = Display(visible=0, size=(800,600))\n",
    "> display.start()  \n",
    ">> FileNotFoundError: [Errno 2] No such file or directory: 'Xvfb': 'Xvfb'\n",
    ">> EasyProcessError: start error EasyProcess cmd_param=['Xvfb', '-help'] cmd=['Xvfb', '-help'] oserror=[Errno 2] No such file or directory: 'Xvfb': 'Xvfb' return_code=None stdout=\"None\" stderr=\"None\" timeout_happened=False>\n",
    "\n",
    "**Solution found in: https://bugs.debian.org/cgi-bin/bugreport.cgi?bug=860501**   \n",
    " \n",
    "(5) Installed the system package xvfb through the shell line: *sudo apt-get install xvfb*.\n",
    "\n",
    "- When running the \"driver = webdriver.Chrome()\" python command, I received the following error:  \n",
    "> driver = webdriver.Chrome()\n",
    ">> FileNotFoundError: [Errno 2] No such file or directory: 'chromedriver': 'chromedriver'  \n",
    "\n",
    "(6) Even though, since I'm using conda environment I have set the chromedriver path before:  \n",
    "> chromeDriverPath = '~/anaconda3/envs/anaytics3/'\n",
    "\n",
    "The solution was to create a symbolic link in the path shown above, through the system bash, which made it work properly:  \n",
    "> $ ln -s ~/anaconda3/envs/analytics3/chromedriver-Linux64 chromedriver  \n",
    "\n",
    "(7) There are some broken links in the BMH oficial page: it misses the \"https://portalarquivos.saude.gov.br/\" portion of the link. We defined a function to address this issue.\n"
   ]
  },
  {
   "cell_type": "markdown",
   "metadata": {
    "deletable": true,
    "editable": true
   },
   "source": [
    "## Epidemiological bulletins from World Health Organization - WHO\n",
    "https://www.who.int/emergencies/diseases/novel-coronavirus-2019/situation-reports/  \n",
    "https://github.com/danielsteman/COVID-19_WHO  \n",
    "https://github.com/danielsteman/COVID-19_WHO/blob/master/WHO_webscrape.ipynb (the author uses PyPDF2)"
   ]
  },
  {
   "cell_type": "markdown",
   "metadata": {
    "deletable": true,
    "editable": true
   },
   "source": [
    "## Epidemiological bulletins from Brazilian Ministry of Health\n",
    "https://www.saude.gov.br/boletins-epidemiologicos\n",
    "  - Coronavírus/COVID-19  \n",
    "  - Dengue"
   ]
  },
  {
   "cell_type": "markdown",
   "metadata": {
    "deletable": true,
    "editable": true
   },
   "source": [
    "## COVID-19 pandemic: official dashboard of the Ministry of Health of Brazil\n",
    "https://covid.saude.gov.br/"
   ]
  },
  {
   "cell_type": "markdown",
   "metadata": {
    "deletable": true,
    "editable": true
   },
   "source": [
    "### Initial statements"
   ]
  },
  {
   "cell_type": "code",
   "execution_count": 66,
   "metadata": {
    "collapsed": false,
    "deletable": true,
    "editable": true
   },
   "outputs": [],
   "source": [
    "import time\n",
    "import pdb   # Python debugger\n",
    "from pyvirtualdisplay import Display\n",
    "from selenium import webdriver\n",
    "from bs4 import BeautifulSoup"
   ]
  },
  {
   "cell_type": "code",
   "execution_count": 67,
   "metadata": {
    "collapsed": true,
    "deletable": true,
    "editable": true
   },
   "outputs": [],
   "source": [
    "# Definição de parâmetros\n",
    "url = 'https://covid.saude.gov.br'\n",
    "chromeDriverPath = '~/anaconda3/envs/analytics3/'\n",
    "firefoxDriverPath = '~/anaconda3/envs/analytics3/'"
   ]
  },
  {
   "cell_type": "markdown",
   "metadata": {
    "deletable": true,
    "editable": true
   },
   "source": [
    "### Web browsing"
   ]
  },
  {
   "cell_type": "markdown",
   "metadata": {
    "deletable": true,
    "editable": true
   },
   "source": [
    "In this step of our data crawling we want to access the webpage through the Chromium driver. It is then appropriate to create some functions both for the page access as for its content analysis. However, it would be only possible if we know the page structure. In order to reach it, at this time we will try to read and explore it, trying to find the patterns and links we are looking for."
   ]
  },
  {
   "cell_type": "code",
   "execution_count": 68,
   "metadata": {
    "collapsed": false,
    "deletable": true,
    "editable": true
   },
   "outputs": [
    {
     "data": {
      "text/plain": [
       "<Display cmd_param=['Xvfb', '-br', '-nolisten', 'tcp', '-screen', '0', '800x600x24', ':1009'] cmd=['Xvfb', '-br', '-nolisten', 'tcp', '-screen', '0', '800x600x24', ':1009'] oserror=None return_code=None stdout=\"None\" stderr=\"None\" timeout_happened=False>"
      ]
     },
     "execution_count": 68,
     "metadata": {},
     "output_type": "execute_result"
    }
   ],
   "source": [
    "# Display starting:\n",
    "display = Display(visible=0, size=(800,600))\n",
    "display.start()"
   ]
  },
  {
   "cell_type": "code",
   "execution_count": 69,
   "metadata": {
    "collapsed": true,
    "deletable": true,
    "editable": true
   },
   "outputs": [],
   "source": [
    "# Open the Chromium.driver for the intended page:\n",
    "driver = webdriver.Chrome()"
   ]
  },
  {
   "cell_type": "code",
   "execution_count": 70,
   "metadata": {
    "collapsed": true,
    "deletable": true,
    "editable": true
   },
   "outputs": [],
   "source": [
    "# Reading the page content and saving it specifying its encoding scheme:\n",
    "driver.get(url)\n",
    "page = driver.page_source.encode('utf-8')"
   ]
  },
  {
   "cell_type": "markdown",
   "metadata": {
    "deletable": true,
    "editable": true
   },
   "source": [
    "### Initial exploration"
   ]
  },
  {
   "cell_type": "code",
   "execution_count": 71,
   "metadata": {
    "collapsed": false,
    "deletable": true,
    "editable": true
   },
   "outputs": [
    {
     "name": "stdout",
     "output_type": "stream",
     "text": [
      "122044\n",
      "<class 'bytes'>\n"
     ]
    }
   ],
   "source": [
    "# How large is the loaded page?\n",
    "print(len(page))\n",
    "# Data streaming type is expected:\n",
    "print(type(page))"
   ]
  },
  {
   "cell_type": "code",
   "execution_count": 72,
   "metadata": {
    "collapsed": false,
    "deletable": true,
    "editable": true
   },
   "outputs": [
    {
     "name": "stdout",
     "output_type": "stream",
     "text": [
      "b'<!DOCTYPE html><html xmlns=\"http://www.w3.org/1999/xhtml\" lang=\"en\" class=\"plt-phablet plt-desktop md hydrated\" mode=\"md\"><head>\\n    <meta charset=\"utf-8\" /><style data-styles=\"\">ion-select-popover,ion-select,ion-select-option,ion-menu-button,ion-menu,ion-menu-toggle,ion-action-sheet,ion-fab-button,ion-fab,ion-fab-list,ion-refresher-content,ion-refresher,ion-back-button,ion-backdrop,ion-alert,ion-loading,ion-toast,ion-card,ion-card-content,ion-card-header,ion-card-subtitle,ion-card-title,ion-item-option,ion-item-options,ion-item-sliding,ion-infinite-scroll-content,ion-infinite-scroll,ion-reorder,ion-reorder-group,ion-segment-button,ion-segment,ion-tab-button,ion-tab-bar,ion-chip,ion-modal,ion-popover,ion-searchbar,ion-app,ion-buttons,ion-content,ion-footer,ion-header,ion-router-outlet,ion-title,ion-toolbar,ion-route,ion-route-redirect,ion-router,ion-router-link,ion-avatar,ion-badge,ion-thumbnail,ion-col,ion-grid,ion-row,ion-nav,ion-nav-link,ion-slide,ion-slides,ion-checkbox,ion-img,ion-input,ion-progress-bar,ion-range,ion-split-pane,ion-text,ion-textarea,ion-toggle,ion-virtual-scroll,ion-picker,ion-datetime,ion-picker-column,ion-radio,ion-radio-group,ion-spinner,ion-ripple-effect,ion-button,ion-icon,ion-item-divider,ion-item-group,ion-note,ion-skeleton-text,ion-item,ion-label,ion-list,ion-list-header{visibility:hidden}.hydrated{visibility:inherit}</style>\\n    <title>Coronav\\xc3\\xadrus Brasil</title>\\n\\n    <base href=\"/\" />\\n\\n    <meta name=\"viewport\" content=\"viewport-fit=cover, width=device-width, initial-scale=1.0, minimum-scale=1.0, maximum-scale=1.0, user-scalable=no\" />\\n    <meta name=\"format-detection\" content=\"telephone=no\" />\\n    <meta name=\"msapplication-tap-highlight\" content=\"no\" />\\n    <style>html.plt-mobile ion-app{-webkit-user-select:none;-moz-user-select:none;-ms-user-select:none;user-select:none}ion-app.force-statusbar-padding{--ion-safe-area-top:20px}</style><style>ion-header{display:block;position:relative;-ms-flex-order:-1;order:-1;width:100%;z-index:10}i'\n"
     ]
    }
   ],
   "source": [
    "## Showing only the first 2k positions of the bytes stream:\n",
    "print(page[:2000])"
   ]
  },
  {
   "cell_type": "markdown",
   "metadata": {
    "deletable": true,
    "editable": true
   },
   "source": [
    "------------------"
   ]
  },
  {
   "cell_type": "markdown",
   "metadata": {
    "deletable": true,
    "editable": true
   },
   "source": [
    "Once the website is loaded, **BeautifulSoup is typically used to mine its content and explore links of interest**. In this case, however, **the new portal made available by BMH was created in Firebase**. That is, there is no link to the database, but a response to the action of clicking the button.\n",
    "\n",
    "Using Chrome's inspection tool, we can locate the element related to downloading the data and then emulate its click through the Selenium library."
   ]
  },
  {
   "cell_type": "code",
   "execution_count": 73,
   "metadata": {
    "collapsed": true,
    "deletable": true,
    "editable": true
   },
   "outputs": [],
   "source": [
    "## Element corresponding to \"Arquivo CSV\" button:\n",
    "dataDownloader = driver.find_element_by_xpath('/html/body/app-root/ion-app/ion-router-outlet/app-home/ion-content/div[1]/div[2]/ion-button')"
   ]
  },
  {
   "cell_type": "code",
   "execution_count": 74,
   "metadata": {
    "collapsed": true,
    "deletable": true,
    "editable": true
   },
   "outputs": [],
   "source": [
    "dataDownloader.click()"
   ]
  },
  {
   "cell_type": "markdown",
   "metadata": {
    "deletable": true,
    "editable": true
   },
   "source": [
    "The steps above allowed us to download the CSV file to the default downloading directory. An open issue from this script is to set the specific file destiny. There are some references saying Selenium does not support dialogue boxes. Other references explore ways to do it out:\n",
    "\n",
    "https://medium.com/@moungpeter/how-to-automate-downloading-files-using-python-selenium-and-headless-chrome-9014f0cdd196"
   ]
  },
  {
   "cell_type": "markdown",
   "metadata": {
    "deletable": true,
    "editable": true
   },
   "source": [
    "---------------------"
   ]
  },
  {
   "cell_type": "markdown",
   "metadata": {
    "deletable": true,
    "editable": true
   },
   "source": [
    "### Reading the downloaded CSV file:"
   ]
  },
  {
   "cell_type": "code",
   "execution_count": 75,
   "metadata": {
    "collapsed": true,
    "deletable": true,
    "editable": true
   },
   "outputs": [],
   "source": [
    "import os\n",
    "import glob"
   ]
  },
  {
   "cell_type": "markdown",
   "metadata": {},
   "source": [
    "To figure out how to select the last downloaded file in a directory, I used the code available in https://stackoverflow.com/questions/39327032/how-to-get-the-latest-file-in-a-folder-using-python."
   ]
  },
  {
   "cell_type": "code",
   "execution_count": 87,
   "metadata": {
    "collapsed": false
   },
   "outputs": [
    {
     "name": "stdout",
     "output_type": "stream",
     "text": [
      "/home/tbnsilveira/Downloads/HIST_PAINEL_COVIDBR_20mai2020.xlsx\n"
     ]
    }
   ],
   "source": [
    "## Picking the last XLSX downloaded file:\n",
    "list_of_files = glob.glob('/home/tbnsilveira/Downloads/*.xlsx') # * means all if need specific format then *.csv\n",
    "latest_file = max(list_of_files, key=os.path.getctime)\n",
    "print(latest_file)"
   ]
  },
  {
   "cell_type": "code",
   "execution_count": 47,
   "metadata": {
    "collapsed": true,
    "deletable": true,
    "editable": true
   },
   "outputs": [],
   "source": [
    "import pandas as pd\n",
    "\n",
    "import matplotlib.pyplot as plt\n",
    "import seaborn as sns\n",
    "%matplotlib inline"
   ]
  },
  {
   "cell_type": "code",
   "execution_count": 88,
   "metadata": {
    "collapsed": false,
    "deletable": true,
    "editable": true
   },
   "outputs": [],
   "source": [
    "covidData = pd.read_excel(latest_file)"
   ]
  },
  {
   "cell_type": "code",
   "execution_count": 89,
   "metadata": {
    "collapsed": false,
    "deletable": true,
    "editable": true
   },
   "outputs": [
    {
     "data": {
      "text/html": [
       "<div>\n",
       "<style scoped>\n",
       "    .dataframe tbody tr th:only-of-type {\n",
       "        vertical-align: middle;\n",
       "    }\n",
       "\n",
       "    .dataframe tbody tr th {\n",
       "        vertical-align: top;\n",
       "    }\n",
       "\n",
       "    .dataframe thead th {\n",
       "        text-align: right;\n",
       "    }\n",
       "</style>\n",
       "<table border=\"1\" class=\"dataframe\">\n",
       "  <thead>\n",
       "    <tr style=\"text-align: right;\">\n",
       "      <th></th>\n",
       "      <th>regiao</th>\n",
       "      <th>estado</th>\n",
       "      <th>municipio</th>\n",
       "      <th>coduf</th>\n",
       "      <th>codmun</th>\n",
       "      <th>codRegiaoSaude</th>\n",
       "      <th>nomeRegiaoSaude</th>\n",
       "      <th>data</th>\n",
       "      <th>semanaEpi</th>\n",
       "      <th>populacaoTCU2019</th>\n",
       "      <th>casosAcumulado</th>\n",
       "      <th>obitosAcumulado</th>\n",
       "      <th>Recuperadosnovos</th>\n",
       "      <th>emAcompanhamentoNovos</th>\n",
       "    </tr>\n",
       "  </thead>\n",
       "  <tbody>\n",
       "    <tr>\n",
       "      <th>0</th>\n",
       "      <td>Brasil</td>\n",
       "      <td>NaN</td>\n",
       "      <td>NaN</td>\n",
       "      <td>76</td>\n",
       "      <td>NaN</td>\n",
       "      <td>NaN</td>\n",
       "      <td>NaN</td>\n",
       "      <td>2020-02-26</td>\n",
       "      <td>9</td>\n",
       "      <td>210147125.0</td>\n",
       "      <td>1</td>\n",
       "      <td>0</td>\n",
       "      <td>NaN</td>\n",
       "      <td>NaN</td>\n",
       "    </tr>\n",
       "    <tr>\n",
       "      <th>1</th>\n",
       "      <td>Brasil</td>\n",
       "      <td>NaN</td>\n",
       "      <td>NaN</td>\n",
       "      <td>76</td>\n",
       "      <td>NaN</td>\n",
       "      <td>NaN</td>\n",
       "      <td>NaN</td>\n",
       "      <td>2020-02-27</td>\n",
       "      <td>9</td>\n",
       "      <td>210147125.0</td>\n",
       "      <td>1</td>\n",
       "      <td>0</td>\n",
       "      <td>NaN</td>\n",
       "      <td>NaN</td>\n",
       "    </tr>\n",
       "    <tr>\n",
       "      <th>2</th>\n",
       "      <td>Brasil</td>\n",
       "      <td>NaN</td>\n",
       "      <td>NaN</td>\n",
       "      <td>76</td>\n",
       "      <td>NaN</td>\n",
       "      <td>NaN</td>\n",
       "      <td>NaN</td>\n",
       "      <td>2020-02-28</td>\n",
       "      <td>9</td>\n",
       "      <td>210147125.0</td>\n",
       "      <td>1</td>\n",
       "      <td>0</td>\n",
       "      <td>NaN</td>\n",
       "      <td>NaN</td>\n",
       "    </tr>\n",
       "    <tr>\n",
       "      <th>3</th>\n",
       "      <td>Brasil</td>\n",
       "      <td>NaN</td>\n",
       "      <td>NaN</td>\n",
       "      <td>76</td>\n",
       "      <td>NaN</td>\n",
       "      <td>NaN</td>\n",
       "      <td>NaN</td>\n",
       "      <td>2020-02-29</td>\n",
       "      <td>9</td>\n",
       "      <td>210147125.0</td>\n",
       "      <td>2</td>\n",
       "      <td>0</td>\n",
       "      <td>NaN</td>\n",
       "      <td>NaN</td>\n",
       "    </tr>\n",
       "    <tr>\n",
       "      <th>4</th>\n",
       "      <td>Brasil</td>\n",
       "      <td>NaN</td>\n",
       "      <td>NaN</td>\n",
       "      <td>76</td>\n",
       "      <td>NaN</td>\n",
       "      <td>NaN</td>\n",
       "      <td>NaN</td>\n",
       "      <td>2020-03-01</td>\n",
       "      <td>10</td>\n",
       "      <td>210147125.0</td>\n",
       "      <td>2</td>\n",
       "      <td>0</td>\n",
       "      <td>NaN</td>\n",
       "      <td>NaN</td>\n",
       "    </tr>\n",
       "    <tr>\n",
       "      <th>...</th>\n",
       "      <td>...</td>\n",
       "      <td>...</td>\n",
       "      <td>...</td>\n",
       "      <td>...</td>\n",
       "      <td>...</td>\n",
       "      <td>...</td>\n",
       "      <td>...</td>\n",
       "      <td>...</td>\n",
       "      <td>...</td>\n",
       "      <td>...</td>\n",
       "      <td>...</td>\n",
       "      <td>...</td>\n",
       "      <td>...</td>\n",
       "      <td>...</td>\n",
       "    </tr>\n",
       "    <tr>\n",
       "      <th>95911</th>\n",
       "      <td>Centro-Oeste</td>\n",
       "      <td>DF</td>\n",
       "      <td>Brasília</td>\n",
       "      <td>53</td>\n",
       "      <td>530010.0</td>\n",
       "      <td>53001.0</td>\n",
       "      <td>Brasília</td>\n",
       "      <td>2020-05-16</td>\n",
       "      <td>20</td>\n",
       "      <td>3015268.0</td>\n",
       "      <td>4140</td>\n",
       "      <td>56</td>\n",
       "      <td>NaN</td>\n",
       "      <td>NaN</td>\n",
       "    </tr>\n",
       "    <tr>\n",
       "      <th>95912</th>\n",
       "      <td>Centro-Oeste</td>\n",
       "      <td>DF</td>\n",
       "      <td>Brasília</td>\n",
       "      <td>53</td>\n",
       "      <td>530010.0</td>\n",
       "      <td>53001.0</td>\n",
       "      <td>Brasília</td>\n",
       "      <td>2020-05-17</td>\n",
       "      <td>21</td>\n",
       "      <td>3015268.0</td>\n",
       "      <td>4368</td>\n",
       "      <td>59</td>\n",
       "      <td>NaN</td>\n",
       "      <td>NaN</td>\n",
       "    </tr>\n",
       "    <tr>\n",
       "      <th>95913</th>\n",
       "      <td>Centro-Oeste</td>\n",
       "      <td>DF</td>\n",
       "      <td>Brasília</td>\n",
       "      <td>53</td>\n",
       "      <td>530010.0</td>\n",
       "      <td>53001.0</td>\n",
       "      <td>Brasília</td>\n",
       "      <td>2020-05-18</td>\n",
       "      <td>21</td>\n",
       "      <td>3015268.0</td>\n",
       "      <td>4619</td>\n",
       "      <td>66</td>\n",
       "      <td>NaN</td>\n",
       "      <td>NaN</td>\n",
       "    </tr>\n",
       "    <tr>\n",
       "      <th>95914</th>\n",
       "      <td>Centro-Oeste</td>\n",
       "      <td>DF</td>\n",
       "      <td>Brasília</td>\n",
       "      <td>53</td>\n",
       "      <td>530010.0</td>\n",
       "      <td>53001.0</td>\n",
       "      <td>Brasília</td>\n",
       "      <td>2020-05-19</td>\n",
       "      <td>21</td>\n",
       "      <td>3015268.0</td>\n",
       "      <td>4853</td>\n",
       "      <td>72</td>\n",
       "      <td>NaN</td>\n",
       "      <td>NaN</td>\n",
       "    </tr>\n",
       "    <tr>\n",
       "      <th>95915</th>\n",
       "      <td>Centro-Oeste</td>\n",
       "      <td>DF</td>\n",
       "      <td>Brasília</td>\n",
       "      <td>53</td>\n",
       "      <td>530010.0</td>\n",
       "      <td>53001.0</td>\n",
       "      <td>Brasília</td>\n",
       "      <td>2020-05-20</td>\n",
       "      <td>21</td>\n",
       "      <td>3015268.0</td>\n",
       "      <td>5161</td>\n",
       "      <td>77</td>\n",
       "      <td>NaN</td>\n",
       "      <td>NaN</td>\n",
       "    </tr>\n",
       "  </tbody>\n",
       "</table>\n",
       "<p>95916 rows × 14 columns</p>\n",
       "</div>"
      ],
      "text/plain": [
       "             regiao estado municipio  coduf    codmun  codRegiaoSaude  \\\n",
       "0            Brasil    NaN       NaN     76       NaN             NaN   \n",
       "1            Brasil    NaN       NaN     76       NaN             NaN   \n",
       "2            Brasil    NaN       NaN     76       NaN             NaN   \n",
       "3            Brasil    NaN       NaN     76       NaN             NaN   \n",
       "4            Brasil    NaN       NaN     76       NaN             NaN   \n",
       "...             ...    ...       ...    ...       ...             ...   \n",
       "95911  Centro-Oeste     DF  Brasília     53  530010.0         53001.0   \n",
       "95912  Centro-Oeste     DF  Brasília     53  530010.0         53001.0   \n",
       "95913  Centro-Oeste     DF  Brasília     53  530010.0         53001.0   \n",
       "95914  Centro-Oeste     DF  Brasília     53  530010.0         53001.0   \n",
       "95915  Centro-Oeste     DF  Brasília     53  530010.0         53001.0   \n",
       "\n",
       "      nomeRegiaoSaude        data  semanaEpi  populacaoTCU2019  \\\n",
       "0                 NaN  2020-02-26          9       210147125.0   \n",
       "1                 NaN  2020-02-27          9       210147125.0   \n",
       "2                 NaN  2020-02-28          9       210147125.0   \n",
       "3                 NaN  2020-02-29          9       210147125.0   \n",
       "4                 NaN  2020-03-01         10       210147125.0   \n",
       "...               ...         ...        ...               ...   \n",
       "95911        Brasília  2020-05-16         20         3015268.0   \n",
       "95912        Brasília  2020-05-17         21         3015268.0   \n",
       "95913        Brasília  2020-05-18         21         3015268.0   \n",
       "95914        Brasília  2020-05-19         21         3015268.0   \n",
       "95915        Brasília  2020-05-20         21         3015268.0   \n",
       "\n",
       "       casosAcumulado  obitosAcumulado  Recuperadosnovos  \\\n",
       "0                   1                0               NaN   \n",
       "1                   1                0               NaN   \n",
       "2                   1                0               NaN   \n",
       "3                   2                0               NaN   \n",
       "4                   2                0               NaN   \n",
       "...               ...              ...               ...   \n",
       "95911            4140               56               NaN   \n",
       "95912            4368               59               NaN   \n",
       "95913            4619               66               NaN   \n",
       "95914            4853               72               NaN   \n",
       "95915            5161               77               NaN   \n",
       "\n",
       "       emAcompanhamentoNovos  \n",
       "0                        NaN  \n",
       "1                        NaN  \n",
       "2                        NaN  \n",
       "3                        NaN  \n",
       "4                        NaN  \n",
       "...                      ...  \n",
       "95911                    NaN  \n",
       "95912                    NaN  \n",
       "95913                    NaN  \n",
       "95914                    NaN  \n",
       "95915                    NaN  \n",
       "\n",
       "[95916 rows x 14 columns]"
      ]
     },
     "execution_count": 89,
     "metadata": {},
     "output_type": "execute_result"
    }
   ],
   "source": [
    "covidData"
   ]
  },
  {
   "cell_type": "markdown",
   "metadata": {
    "deletable": true,
    "editable": true
   },
   "source": [
    "-----------------"
   ]
  },
  {
   "cell_type": "markdown",
   "metadata": {
    "deletable": true,
    "editable": true
   },
   "source": [
    "In the way this script was initialy built, it was important to remove the CSV file after reading it, thus preventing the most current versions from being downloaded under another name. However, in the second week of May, the BMH changed the file format to XLSX, thus requiring to adapt the script. In this case, I choose to read the last downloaded file, then keeping all the copies in my system. In the case you don't want these copies, you can just uncomment the line below:"
   ]
  },
  {
   "cell_type": "code",
   "execution_count": 90,
   "metadata": {
    "collapsed": false,
    "deletable": true,
    "editable": true
   },
   "outputs": [],
   "source": [
    "## In some situations you'll have to replace \"~/\" by the full local address (/home/user...)\n",
    "#os.remove(latest_file)"
   ]
  },
  {
   "cell_type": "markdown",
   "metadata": {
    "deletable": true,
    "editable": true
   },
   "source": [
    "------------------"
   ]
  },
  {
   "cell_type": "markdown",
   "metadata": {
    "deletable": true,
    "editable": true
   },
   "source": [
    "## Visualizing some data:"
   ]
  },
  {
   "cell_type": "code",
   "execution_count": 91,
   "metadata": {
    "collapsed": false,
    "deletable": true,
    "editable": true
   },
   "outputs": [
    {
     "data": {
      "text/html": [
       "<div>\n",
       "<style scoped>\n",
       "    .dataframe tbody tr th:only-of-type {\n",
       "        vertical-align: middle;\n",
       "    }\n",
       "\n",
       "    .dataframe tbody tr th {\n",
       "        vertical-align: top;\n",
       "    }\n",
       "\n",
       "    .dataframe thead th {\n",
       "        text-align: right;\n",
       "    }\n",
       "</style>\n",
       "<table border=\"1\" class=\"dataframe\">\n",
       "  <thead>\n",
       "    <tr style=\"text-align: right;\">\n",
       "      <th></th>\n",
       "      <th>regiao</th>\n",
       "      <th>estado</th>\n",
       "      <th>municipio</th>\n",
       "      <th>coduf</th>\n",
       "      <th>codmun</th>\n",
       "      <th>codRegiaoSaude</th>\n",
       "      <th>nomeRegiaoSaude</th>\n",
       "      <th>data</th>\n",
       "      <th>semanaEpi</th>\n",
       "      <th>populacaoTCU2019</th>\n",
       "      <th>casosAcumulado</th>\n",
       "      <th>obitosAcumulado</th>\n",
       "      <th>Recuperadosnovos</th>\n",
       "      <th>emAcompanhamentoNovos</th>\n",
       "    </tr>\n",
       "  </thead>\n",
       "  <tbody>\n",
       "    <tr>\n",
       "      <th>0</th>\n",
       "      <td>Brasil</td>\n",
       "      <td>NaN</td>\n",
       "      <td>NaN</td>\n",
       "      <td>76</td>\n",
       "      <td>NaN</td>\n",
       "      <td>NaN</td>\n",
       "      <td>NaN</td>\n",
       "      <td>2020-02-26</td>\n",
       "      <td>9</td>\n",
       "      <td>210147125.0</td>\n",
       "      <td>1</td>\n",
       "      <td>0</td>\n",
       "      <td>NaN</td>\n",
       "      <td>NaN</td>\n",
       "    </tr>\n",
       "    <tr>\n",
       "      <th>1</th>\n",
       "      <td>Brasil</td>\n",
       "      <td>NaN</td>\n",
       "      <td>NaN</td>\n",
       "      <td>76</td>\n",
       "      <td>NaN</td>\n",
       "      <td>NaN</td>\n",
       "      <td>NaN</td>\n",
       "      <td>2020-02-27</td>\n",
       "      <td>9</td>\n",
       "      <td>210147125.0</td>\n",
       "      <td>1</td>\n",
       "      <td>0</td>\n",
       "      <td>NaN</td>\n",
       "      <td>NaN</td>\n",
       "    </tr>\n",
       "    <tr>\n",
       "      <th>2</th>\n",
       "      <td>Brasil</td>\n",
       "      <td>NaN</td>\n",
       "      <td>NaN</td>\n",
       "      <td>76</td>\n",
       "      <td>NaN</td>\n",
       "      <td>NaN</td>\n",
       "      <td>NaN</td>\n",
       "      <td>2020-02-28</td>\n",
       "      <td>9</td>\n",
       "      <td>210147125.0</td>\n",
       "      <td>1</td>\n",
       "      <td>0</td>\n",
       "      <td>NaN</td>\n",
       "      <td>NaN</td>\n",
       "    </tr>\n",
       "    <tr>\n",
       "      <th>3</th>\n",
       "      <td>Brasil</td>\n",
       "      <td>NaN</td>\n",
       "      <td>NaN</td>\n",
       "      <td>76</td>\n",
       "      <td>NaN</td>\n",
       "      <td>NaN</td>\n",
       "      <td>NaN</td>\n",
       "      <td>2020-02-29</td>\n",
       "      <td>9</td>\n",
       "      <td>210147125.0</td>\n",
       "      <td>2</td>\n",
       "      <td>0</td>\n",
       "      <td>NaN</td>\n",
       "      <td>NaN</td>\n",
       "    </tr>\n",
       "    <tr>\n",
       "      <th>4</th>\n",
       "      <td>Brasil</td>\n",
       "      <td>NaN</td>\n",
       "      <td>NaN</td>\n",
       "      <td>76</td>\n",
       "      <td>NaN</td>\n",
       "      <td>NaN</td>\n",
       "      <td>NaN</td>\n",
       "      <td>2020-03-01</td>\n",
       "      <td>10</td>\n",
       "      <td>210147125.0</td>\n",
       "      <td>2</td>\n",
       "      <td>0</td>\n",
       "      <td>NaN</td>\n",
       "      <td>NaN</td>\n",
       "    </tr>\n",
       "  </tbody>\n",
       "</table>\n",
       "</div>"
      ],
      "text/plain": [
       "   regiao estado municipio  coduf  codmun  codRegiaoSaude nomeRegiaoSaude  \\\n",
       "0  Brasil    NaN       NaN     76     NaN             NaN             NaN   \n",
       "1  Brasil    NaN       NaN     76     NaN             NaN             NaN   \n",
       "2  Brasil    NaN       NaN     76     NaN             NaN             NaN   \n",
       "3  Brasil    NaN       NaN     76     NaN             NaN             NaN   \n",
       "4  Brasil    NaN       NaN     76     NaN             NaN             NaN   \n",
       "\n",
       "         data  semanaEpi  populacaoTCU2019  casosAcumulado  obitosAcumulado  \\\n",
       "0  2020-02-26          9       210147125.0               1                0   \n",
       "1  2020-02-27          9       210147125.0               1                0   \n",
       "2  2020-02-28          9       210147125.0               1                0   \n",
       "3  2020-02-29          9       210147125.0               2                0   \n",
       "4  2020-03-01         10       210147125.0               2                0   \n",
       "\n",
       "   Recuperadosnovos  emAcompanhamentoNovos  \n",
       "0               NaN                    NaN  \n",
       "1               NaN                    NaN  \n",
       "2               NaN                    NaN  \n",
       "3               NaN                    NaN  \n",
       "4               NaN                    NaN  "
      ]
     },
     "execution_count": 91,
     "metadata": {},
     "output_type": "execute_result"
    }
   ],
   "source": [
    "covidData.head()"
   ]
  },
  {
   "cell_type": "code",
   "execution_count": 92,
   "metadata": {
    "collapsed": false,
    "deletable": true,
    "editable": true
   },
   "outputs": [
    {
     "data": {
      "text/plain": [
       "84"
      ]
     },
     "execution_count": 92,
     "metadata": {},
     "output_type": "execute_result"
    }
   ],
   "source": [
    "covidData.obitosAcumulado.idxmax()"
   ]
  },
  {
   "cell_type": "code",
   "execution_count": 17,
   "metadata": {
    "collapsed": false,
    "deletable": true,
    "editable": true
   },
   "outputs": [
    {
     "data": {
      "text/plain": [
       "regiao                        Brasil\n",
       "estado                           NaN\n",
       "municipio                        NaN\n",
       "coduf                             76\n",
       "codmun                           NaN\n",
       "codRegiaoSaude                   NaN\n",
       "nomeRegiaoSaude                  NaN\n",
       "data                      2020-05-17\n",
       "semanaEpi                         21\n",
       "populacaoTCU2019         2.10147e+08\n",
       "casosAcumulado                241080\n",
       "obitosAcumulado                16118\n",
       "Recuperadosnovos               94122\n",
       "emAcompanhamentoNovos         130840\n",
       "Name: 81, dtype: object"
      ]
     },
     "execution_count": 17,
     "metadata": {},
     "output_type": "execute_result"
    }
   ],
   "source": [
    "covidData.iloc[81]"
   ]
  },
  {
   "cell_type": "markdown",
   "metadata": {
    "deletable": true,
    "editable": true
   },
   "source": [
    "----------"
   ]
  },
  {
   "cell_type": "markdown",
   "metadata": {
    "deletable": true,
    "editable": true
   },
   "source": [
    "#### Exploring only SC municipalities"
   ]
  },
  {
   "cell_type": "code",
   "execution_count": 18,
   "metadata": {
    "collapsed": false,
    "deletable": true,
    "editable": true
   },
   "outputs": [],
   "source": [
    "covid_SC = covidData[covidData.estado == 'SC']"
   ]
  },
  {
   "cell_type": "code",
   "execution_count": 19,
   "metadata": {
    "collapsed": false,
    "deletable": true,
    "editable": true
   },
   "outputs": [
    {
     "data": {
      "text/plain": [
       "array([nan, 'Abelardo Luz', 'Água Doce', 'Águas de Chapecó',\n",
       "       'Águas Mornas', 'Alto Bela Vista', 'Anchieta', 'Anita Garibaldi',\n",
       "       'Antônio Carlos', 'Arabutã', 'Araquari', 'Araranguá', 'Armazém',\n",
       "       'Arvoredo', 'Atalanta', 'Aurora', 'Balneário Arroio do Silva',\n",
       "       'Balneário Camboriú', 'Balneário Barra do Sul',\n",
       "       'Balneário Gaivota', 'Barra Velha', 'Benedito Novo', 'Biguaçu',\n",
       "       'Blumenau', 'Bombinhas', 'Botuverá', 'Braço do Norte', 'Brusque',\n",
       "       'Caçador', 'Camboriú', 'Campo Erê', 'Canelinha', 'Canoinhas',\n",
       "       'Capivari de Baixo', 'Catanduvas', 'Caxambu do Sul', 'Chapecó',\n",
       "       'Cocal do Sul', 'Concórdia', 'Cordilheira Alta', 'Coronel Freitas',\n",
       "       'Criciúma', 'Cunha Porã', 'Entre Rios', 'Faxinal dos Guedes',\n",
       "       'Florianópolis', 'Forquilhinha', 'Fraiburgo', 'Garopaba', 'Garuva',\n",
       "       'Gaspar', 'Governador Celso Ramos', 'Grão Pará', 'Gravatal',\n",
       "       'Guabiruba', 'Guaramirim', 'Guatambú', \"Herval d'Oeste\", 'Ibicaré',\n",
       "       'Ibirama', 'Içara', 'Ilhota', 'Imbituba', 'Indaial', 'Ipira',\n",
       "       'Ipuaçu', 'Ipumirim', 'Irani', 'Irati', 'Itá', 'Itaiópolis',\n",
       "       'Itajaí', 'Itapema', 'Itapiranga', 'Ituporanga', 'Jaborá',\n",
       "       'Jacinto Machado', 'Jaguaruna', 'Jaraguá do Sul', 'Joaçaba',\n",
       "       'Joinville', 'Lages', 'Laguna', 'Lindóia do Sul', 'Luiz Alves',\n",
       "       'Luzerna', 'Mafra', 'Maracajá', 'Maravilha', 'Massaranduba',\n",
       "       'Meleiro', 'Mondaí', 'Morro da Fumaça', 'Morro Grande',\n",
       "       'Navegantes', 'Nova Erechim', 'Nova Trento', 'Nova Veneza',\n",
       "       'Orleans', 'Ouro', 'Paial', 'Palhoça', 'Palma Sola', 'Palmitos',\n",
       "       'Papanduva', 'Passo de Torres', 'Paulo Lopes', 'Pedras Grandes',\n",
       "       'Penha', 'Peritiba', 'Pescaria Brava', 'Balneário Piçarras',\n",
       "       'Pinhalzinho', 'Piratuba', 'Planalto Alegre', 'Pomerode',\n",
       "       'Ponte Serrada', 'Porto Belo', 'Porto União', 'Pouso Redondo',\n",
       "       'Praia Grande', 'Presidente Castello Branco', 'Rancho Queimado',\n",
       "       'Rio do Oeste', 'Rio do Sul', 'Rio Fortuna', 'Rio Negrinho',\n",
       "       'Rio Rufino', 'Rodeio', 'Salete', 'Sangão', 'Santa Cecília',\n",
       "       'Santa Helena', 'Santa Rosa de Lima', 'Santa Rosa do Sul',\n",
       "       'Santo Amaro da Imperatriz', 'São Bernardino', 'São Bento do Sul',\n",
       "       'São Carlos', 'São Domingos', 'São Francisco do Sul',\n",
       "       'São João do Itaperiú', 'São José', 'São Lourenço do Oeste',\n",
       "       'São Ludgero', 'São Martinho', 'São Miguel do Oeste',\n",
       "       'São Pedro de Alcântara', 'Schroeder', 'Seara', 'Serra Alta',\n",
       "       'Siderópolis', 'Sombrio', 'Taió', 'Tangará', 'Tigrinhos',\n",
       "       'Tijucas', 'Timbé do Sul', 'Timbó', 'Três Barras', 'Treviso',\n",
       "       'Treze de Maio', 'Treze Tílias', 'Trombudo Central', 'Tubarão',\n",
       "       'Tunápolis', 'Turvo', 'Urussanga', 'Vargem', 'Vargem Bonita',\n",
       "       'Vidal Ramos', 'Videira', 'Xanxerê', 'Xavantina', 'Xaxim',\n",
       "       'Zortéa', 'Balneário Rincão'], dtype=object)"
      ]
     },
     "execution_count": 19,
     "metadata": {},
     "output_type": "execute_result"
    }
   ],
   "source": [
    "covid_SC.municipio.unique()"
   ]
  },
  {
   "cell_type": "code",
   "execution_count": 289,
   "metadata": {
    "collapsed": false,
    "deletable": true,
    "editable": true
   },
   "outputs": [],
   "source": [
    "covidBLU = covid_SC[covid_SC['municipio'] == 'Itajaí']"
   ]
  },
  {
   "cell_type": "code",
   "execution_count": 290,
   "metadata": {
    "collapsed": false,
    "deletable": true,
    "editable": true
   },
   "outputs": [
    {
     "data": {
      "text/plain": [
       "<matplotlib.axes._subplots.AxesSubplot at 0x7f5833d2a6d8>"
      ]
     },
     "execution_count": 290,
     "metadata": {},
     "output_type": "execute_result"
    },
    {
     "data": {
      "image/png": "[encoded data removed]",
      "text/plain": [
       "<Figure size 432x288 with 1 Axes>"
      ]
     },
     "metadata": {},
     "output_type": "display_data"
    }
   ],
   "source": [
    "covidBLU.casosAcumulado.plot()"
   ]
  },
  {
   "cell_type": "code",
   "execution_count": 20,
   "metadata": {
    "collapsed": true,
    "deletable": true,
    "editable": true
   },
   "outputs": [],
   "source": [
    "sns.set_style(\"whitegrid\")"
   ]
  },
  {
   "cell_type": "code",
   "execution_count": 292,
   "metadata": {
    "collapsed": false,
    "deletable": true,
    "editable": true
   },
   "outputs": [
    {
     "data": {
      "text/plain": [
       "Text(0.5, 1.0, 'Número de casos COVID-19 acumulados em Itajaí, SC, em 12/05/2020')"
      ]
     },
     "execution_count": 292,
     "metadata": {},
     "output_type": "execute_result"
    },
    {
     "data": {
      "image/png": "[encoded data removed]",
      "text/plain": [
       "<Figure size 1080x432 with 1 Axes>"
      ]
     },
     "metadata": {},
     "output_type": "display_data"
    }
   ],
   "source": [
    "fig, ax = plt.subplots(figsize=(15,6))\n",
    "\n",
    "ax = sns.barplot(x='data', y='casosAcumulado', data=covidBLU, palette='YlOrRd')\n",
    "plt.xticks(rotation='vertical');\n",
    "plt.title('Número de casos COVID-19 acumulados em Itajaí, SC, em 12/05/2020')\n"
   ]
  },
  {
   "cell_type": "code",
   "execution_count": null,
   "metadata": {
    "collapsed": true,
    "deletable": true,
    "editable": true
   },
   "outputs": [],
   "source": []
  },
  {
   "cell_type": "code",
   "execution_count": 35,
   "metadata": {
    "collapsed": false,
    "deletable": true,
    "editable": true
   },
   "outputs": [
    {
     "data": {
      "text/plain": [
       "Text(0.5, 1.0, 'Número de casos COVID-19 acumulados em Florianópolis, SC, em 12/05/2020')"
      ]
     },
     "execution_count": 35,
     "metadata": {},
     "output_type": "execute_result"
    },
    {
     "data": {
      "image/png": "[encoded data removed]",
      "text/plain": [
       "<Figure size 1080x432 with 1 Axes>"
      ]
     },
     "metadata": {},
     "output_type": "display_data"
    }
   ],
   "source": [
    "fig, ax = plt.subplots(figsize=(15,6))\n",
    "cidade = 'Florianópolis'\n",
    "\n",
    "ax = sns.barplot(x='data', y='casosAcumulado', data=covid_SC[covid_SC['municipio'] == cidade], palette='YlOrRd')\n",
    "plt.xticks(rotation='vertical');\n",
    "plt.title('Número de casos COVID-19 acumulados em {0}, SC, em 12/05/2020'.format(cidade))\n"
   ]
  },
  {
   "cell_type": "code",
   "execution_count": 294,
   "metadata": {
    "collapsed": false,
    "deletable": true,
    "editable": true,
    "scrolled": true
   },
   "outputs": [
    {
     "data": {
      "text/html": [
       "<div>\n",
       "<style scoped>\n",
       "    .dataframe tbody tr th:only-of-type {\n",
       "        vertical-align: middle;\n",
       "    }\n",
       "\n",
       "    .dataframe tbody tr th {\n",
       "        vertical-align: top;\n",
       "    }\n",
       "\n",
       "    .dataframe thead th {\n",
       "        text-align: right;\n",
       "    }\n",
       "</style>\n",
       "<table border=\"1\" class=\"dataframe\">\n",
       "  <thead>\n",
       "    <tr style=\"text-align: right;\">\n",
       "      <th></th>\n",
       "      <th>regiao</th>\n",
       "      <th>estado</th>\n",
       "      <th>municipio</th>\n",
       "      <th>coduf</th>\n",
       "      <th>codmun</th>\n",
       "      <th>codRegiaoSaude</th>\n",
       "      <th>nomeRegiaoSaude</th>\n",
       "      <th>data</th>\n",
       "      <th>semanaEpi</th>\n",
       "      <th>populacaoTCU2019</th>\n",
       "      <th>casosAcumulado</th>\n",
       "      <th>obitosAcumulado</th>\n",
       "      <th>Recuperadosnovos</th>\n",
       "      <th>emAcompanhamentoNovos</th>\n",
       "    </tr>\n",
       "  </thead>\n",
       "  <tbody>\n",
       "    <tr>\n",
       "      <th>67511</th>\n",
       "      <td>Sul</td>\n",
       "      <td>SC</td>\n",
       "      <td>Itajaí</td>\n",
       "      <td>42</td>\n",
       "      <td>420820.0</td>\n",
       "      <td>42005.0</td>\n",
       "      <td>Foz do Rio Itajaí</td>\n",
       "      <td>2020-03-28</td>\n",
       "      <td>13</td>\n",
       "      <td>219536.0</td>\n",
       "      <td>18</td>\n",
       "      <td>0</td>\n",
       "      <td>NaN</td>\n",
       "      <td>NaN</td>\n",
       "    </tr>\n",
       "    <tr>\n",
       "      <th>67512</th>\n",
       "      <td>Sul</td>\n",
       "      <td>SC</td>\n",
       "      <td>Itajaí</td>\n",
       "      <td>42</td>\n",
       "      <td>420820.0</td>\n",
       "      <td>42005.0</td>\n",
       "      <td>Foz do Rio Itajaí</td>\n",
       "      <td>2020-03-29</td>\n",
       "      <td>14</td>\n",
       "      <td>219536.0</td>\n",
       "      <td>18</td>\n",
       "      <td>0</td>\n",
       "      <td>NaN</td>\n",
       "      <td>NaN</td>\n",
       "    </tr>\n",
       "    <tr>\n",
       "      <th>67513</th>\n",
       "      <td>Sul</td>\n",
       "      <td>SC</td>\n",
       "      <td>Itajaí</td>\n",
       "      <td>42</td>\n",
       "      <td>420820.0</td>\n",
       "      <td>42005.0</td>\n",
       "      <td>Foz do Rio Itajaí</td>\n",
       "      <td>2020-03-30</td>\n",
       "      <td>14</td>\n",
       "      <td>219536.0</td>\n",
       "      <td>18</td>\n",
       "      <td>0</td>\n",
       "      <td>NaN</td>\n",
       "      <td>NaN</td>\n",
       "    </tr>\n",
       "    <tr>\n",
       "      <th>67514</th>\n",
       "      <td>Sul</td>\n",
       "      <td>SC</td>\n",
       "      <td>Itajaí</td>\n",
       "      <td>42</td>\n",
       "      <td>420820.0</td>\n",
       "      <td>42005.0</td>\n",
       "      <td>Foz do Rio Itajaí</td>\n",
       "      <td>2020-03-31</td>\n",
       "      <td>14</td>\n",
       "      <td>219536.0</td>\n",
       "      <td>18</td>\n",
       "      <td>0</td>\n",
       "      <td>NaN</td>\n",
       "      <td>NaN</td>\n",
       "    </tr>\n",
       "    <tr>\n",
       "      <th>67515</th>\n",
       "      <td>Sul</td>\n",
       "      <td>SC</td>\n",
       "      <td>Itajaí</td>\n",
       "      <td>42</td>\n",
       "      <td>420820.0</td>\n",
       "      <td>42005.0</td>\n",
       "      <td>Foz do Rio Itajaí</td>\n",
       "      <td>2020-04-01</td>\n",
       "      <td>14</td>\n",
       "      <td>219536.0</td>\n",
       "      <td>18</td>\n",
       "      <td>0</td>\n",
       "      <td>NaN</td>\n",
       "      <td>NaN</td>\n",
       "    </tr>\n",
       "  </tbody>\n",
       "</table>\n",
       "</div>"
      ],
      "text/plain": [
       "      regiao estado municipio  coduf    codmun  codRegiaoSaude  \\\n",
       "67511    Sul     SC    Itajaí     42  420820.0         42005.0   \n",
       "67512    Sul     SC    Itajaí     42  420820.0         42005.0   \n",
       "67513    Sul     SC    Itajaí     42  420820.0         42005.0   \n",
       "67514    Sul     SC    Itajaí     42  420820.0         42005.0   \n",
       "67515    Sul     SC    Itajaí     42  420820.0         42005.0   \n",
       "\n",
       "         nomeRegiaoSaude        data  semanaEpi  populacaoTCU2019  \\\n",
       "67511  Foz do Rio Itajaí  2020-03-28         13          219536.0   \n",
       "67512  Foz do Rio Itajaí  2020-03-29         14          219536.0   \n",
       "67513  Foz do Rio Itajaí  2020-03-30         14          219536.0   \n",
       "67514  Foz do Rio Itajaí  2020-03-31         14          219536.0   \n",
       "67515  Foz do Rio Itajaí  2020-04-01         14          219536.0   \n",
       "\n",
       "       casosAcumulado  obitosAcumulado  Recuperadosnovos  \\\n",
       "67511              18                0               NaN   \n",
       "67512              18                0               NaN   \n",
       "67513              18                0               NaN   \n",
       "67514              18                0               NaN   \n",
       "67515              18                0               NaN   \n",
       "\n",
       "       emAcompanhamentoNovos  \n",
       "67511                    NaN  \n",
       "67512                    NaN  \n",
       "67513                    NaN  \n",
       "67514                    NaN  \n",
       "67515                    NaN  "
      ]
     },
     "execution_count": 294,
     "metadata": {},
     "output_type": "execute_result"
    }
   ],
   "source": [
    "covidBLU.head()"
   ]
  },
  {
   "cell_type": "markdown",
   "metadata": {
    "deletable": true,
    "editable": true
   },
   "source": [
    "----------------"
   ]
  },
  {
   "cell_type": "markdown",
   "metadata": {
    "deletable": true,
    "editable": true
   },
   "source": [
    "For this \"trial\" chart, I will choose data only from some states:"
   ]
  },
  {
   "cell_type": "code",
   "execution_count": null,
   "metadata": {
    "collapsed": true,
    "deletable": true,
    "editable": true
   },
   "outputs": [],
   "source": []
  }
 ],
 "metadata": {
  "anaconda-cloud": {},
  "kernelspec": {
   "display_name": "Python 3",
   "language": "python",
   "name": "python3"
  },
  "language_info": {
   "codemirror_mode": {
    "name": "ipython",
    "version": 3
   },
   "file_extension": ".py",
   "mimetype": "text/x-python",
   "name": "python",
   "nbconvert_exporter": "python",
   "pygments_lexer": "ipython3",
   "version": "3.6.8"
  }
 },
 "nbformat": 4,
 "nbformat_minor": 1
}
