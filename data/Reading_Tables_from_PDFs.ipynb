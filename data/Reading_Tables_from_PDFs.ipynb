{
 "cells": [
  {
   "cell_type": "markdown",
   "metadata": {
    "deletable": true,
    "editable": true
   },
   "source": [
    "# Reading tables from PDF files\n",
    "In this project, our intention is to read informational tables from the reports of Brazilian Ministry of Health. \n",
    "In order to do so, we will make use of the *PDFplumber* library, which has shown itself the easiest available tool for this task.  \n",
    "\n",
    "The sample files are in the following folder:  \n",
    "~/workplace/github/epidemic_BRdata/BMH_Bulletins/"
   ]
  },
  {
   "cell_type": "markdown",
   "metadata": {
    "deletable": true,
    "editable": true
   },
   "source": [
    "### General statements"
   ]
  },
  {
   "cell_type": "code",
   "execution_count": 1,
   "metadata": {
    "collapsed": true,
    "deletable": true,
    "editable": true
   },
   "outputs": [],
   "source": [
    "import pandas as pd"
   ]
  },
  {
   "cell_type": "code",
   "execution_count": 3,
   "metadata": {
    "collapsed": true,
    "deletable": true,
    "editable": true
   },
   "outputs": [],
   "source": [
    "import pdfplumber"
   ]
  },
  {
   "cell_type": "markdown",
   "metadata": {
    "deletable": true,
    "editable": true
   },
   "source": [
    "--------------------"
   ]
  },
  {
   "cell_type": "markdown",
   "metadata": {
    "collapsed": true,
    "deletable": true,
    "editable": true
   },
   "source": [
    "## Listing and checking available files  \n",
    "- List all the bulletins available in the \"covid\" directory;  \n",
    "- Check whether it was already downloaded and parsed, or not. "
   ]
  },
  {
   "cell_type": "code",
   "execution_count": 2,
   "metadata": {
    "collapsed": true,
    "deletable": true,
    "editable": true
   },
   "outputs": [],
   "source": [
    "file = '/home/tbnsilveira/workplace/github/epidemic_BRdata/data/BMH_Bulletins/covid/2020-04-17---BE11---Boletim-do-COE-21h.pdf'"
   ]
  },
  {
   "cell_type": "markdown",
   "metadata": {
    "deletable": true,
    "editable": true
   },
   "source": [
    "--------------------"
   ]
  },
  {
   "cell_type": "markdown",
   "metadata": {
    "collapsed": true,
    "deletable": true,
    "editable": true
   },
   "source": [
    "## Reading tables with PDFplumber:  \n",
    "General reference: http://blog.rubypdf.com/2019/07/09/extract-table-from-pdf-with-python/"
   ]
  },
  {
   "cell_type": "code",
   "execution_count": 4,
   "metadata": {
    "collapsed": true,
    "deletable": true,
    "editable": true
   },
   "outputs": [],
   "source": [
    "## Openning the PDF file:\n",
    "pdf = pdfplumber.open(file)"
   ]
  },
  {
   "cell_type": "code",
   "execution_count": 6,
   "metadata": {
    "collapsed": false,
    "deletable": true,
    "editable": true,
    "scrolled": true
   },
   "outputs": [
    {
     "data": {
      "text/plain": [
       "{'CreationDate': \"D:20200418000047+00'00'\",\n",
       " 'Creator': 'Mozilla/5.0 (Windows NT 10.0; Win64; x64) AppleWebKit/537.36 (KHTML, like Gecko) Chrome/81.0.4044.113 Safari/537.36',\n",
       " 'ModDate': \"D:20200418000047+00'00'\",\n",
       " 'Producer': 'Skia/PDF m81'}"
      ]
     },
     "execution_count": 6,
     "metadata": {},
     "output_type": "execute_result"
    }
   ],
   "source": [
    "## Reading the file metada (there wasn't any useful information, in this case)\n",
    "pdf.metadata"
   ]
  },
  {
   "cell_type": "code",
   "execution_count": 5,
   "metadata": {
    "collapsed": false,
    "deletable": true,
    "editable": true
   },
   "outputs": [
    {
     "data": {
      "text/plain": [
       "37"
      ]
     },
     "execution_count": 5,
     "metadata": {},
     "output_type": "execute_result"
    }
   ],
   "source": [
    "## Checking the number of pages (remembering it outputs a list)\n",
    "len(pdf.pages)"
   ]
  },
  {
   "cell_type": "markdown",
   "metadata": {
    "deletable": true,
    "editable": true
   },
   "source": [
    "#### Exploring how the PDFplumber works based on a page of interest from the document:  \n",
    "We are interested in catching out the tables 1 and 2 from the document, which are in the pages 2 and 4, respectively. "
   ]
  },
  {
   "cell_type": "code",
   "execution_count": 39,
   "metadata": {
    "collapsed": true,
    "deletable": true,
    "editable": true
   },
   "outputs": [],
   "source": [
    "page2 = pdf.pages[1]\n",
    "page4 = pdf.pages[3]"
   ]
  },
  {
   "cell_type": "code",
   "execution_count": 55,
   "metadata": {
    "collapsed": false,
    "deletable": true,
    "editable": true
   },
   "outputs": [
    {
     "name": "stdout",
     "output_type": "stream",
     "text": [
      "Tabela   2:    Distribuição   dos   casos   e   óbitos   por   COVID-19   por   região   e   Unidade   da   Federação.   Brasil,   2020.  \n",
      "CONFIRMADOS   ÓBITOS  \n",
      "ID   UF/REGIÃO  \n",
      "N   (%)   N   (%)  \n",
      "NORTE   3.158   (9,4%)   193   (6,1%)  \n",
      "1   AC   135   5  \n",
      "2   AM   1.809   145  \n",
      "3   AP   370   10  \n",
      "4   PA   557   26  \n",
      "5   RO   92   3  \n",
      "6   RR   164   3  \n",
      "7   TO   31   1  \n",
      "NORDESTE   7.469   (22,2%)   479   (6,4%)  \n",
      "8   AL   110   7  \n",
      "9   BA   1.059   36  \n",
      "10   CE   2.684   149  \n",
      "11   MA   797   40  \n",
      "12   PB   195   26  \n",
      "13   PE   2.006   186  \n",
      "14   PI   102   8  \n",
      "15   RN   463   23  \n",
      "16   SE   53   4  \n",
      "SUDESTE   19.067   (56,6%)   1.329   (7,0%)  \n",
      "17   ES   856   25  \n",
      "18   MG   1.021   35  \n",
      "19   RJ   4.349   341  \n",
      "20   SP   12.841   928  \n",
      "CENTRO-OESTE   1.386   (4,1%)   46   (3,3%)  \n",
      "21   DF    746   20  \n",
      "22   GO   335   16  \n",
      "23   MS   143   5  \n",
      "24   MT   162   5  \n",
      "SUL   2.602   (7,7%)   94   (3,6%)  \n",
      "25   PR   874   42  \n",
      "26   RS   802   22  \n",
      "27   SC   926   30  \n",
      "BRASIL  \n",
      "33.682   2.141   (6,4%)  \n",
      "Fonte:    Secretaria   de   Vigilância   em   Saúde/Ministério   da   Saúde.   Dados   atualizados   em   17   de   abril   de   2020   às   14h,   sujeitos   a   revisões.  \n",
      "Boletim   Epidemiológico    11   –   COE-COVID19   –   17   de   abril   de   2020     4\n"
     ]
    }
   ],
   "source": [
    "print(page4.extract_tables()[0][2][0])"
   ]
  },
  {
   "cell_type": "code",
   "execution_count": 50,
   "metadata": {
    "collapsed": true,
    "deletable": true,
    "editable": true
   },
   "outputs": [],
   "source": [
    "table1_df = pd.DataFrame(page4.extract_tables()[1])"
   ]
  },
  {
   "cell_type": "code",
   "execution_count": 51,
   "metadata": {
    "collapsed": false,
    "deletable": true,
    "editable": true
   },
   "outputs": [
    {
     "data": {
      "text/html": [
       "<div>\n",
       "<style scoped>\n",
       "    .dataframe tbody tr th:only-of-type {\n",
       "        vertical-align: middle;\n",
       "    }\n",
       "\n",
       "    .dataframe tbody tr th {\n",
       "        vertical-align: top;\n",
       "    }\n",
       "\n",
       "    .dataframe thead th {\n",
       "        text-align: right;\n",
       "    }\n",
       "</style>\n",
       "<table border=\"1\" class=\"dataframe\">\n",
       "  <thead>\n",
       "    <tr style=\"text-align: right;\">\n",
       "      <th></th>\n",
       "      <th>0</th>\n",
       "      <th>1</th>\n",
       "      <th>2</th>\n",
       "      <th>3</th>\n",
       "    </tr>\n",
       "  </thead>\n",
       "  <tbody>\n",
       "    <tr>\n",
       "      <th>0</th>\n",
       "      <td>ID</td>\n",
       "      <td>UF/REGIÃO</td>\n",
       "      <td>CONFIRMADOS</td>\n",
       "      <td>ÓBITOS</td>\n",
       "    </tr>\n",
       "    <tr>\n",
       "      <th>1</th>\n",
       "      <td>None</td>\n",
       "      <td>None</td>\n",
       "      <td>N   (%)</td>\n",
       "      <td>N   (%)</td>\n",
       "    </tr>\n",
       "    <tr>\n",
       "      <th>2</th>\n",
       "      <td>NORTE</td>\n",
       "      <td>None</td>\n",
       "      <td>3.158   (9,4%)</td>\n",
       "      <td>193   (6,1%)</td>\n",
       "    </tr>\n",
       "    <tr>\n",
       "      <th>3</th>\n",
       "      <td>1</td>\n",
       "      <td>AC</td>\n",
       "      <td>135</td>\n",
       "      <td>5</td>\n",
       "    </tr>\n",
       "    <tr>\n",
       "      <th>4</th>\n",
       "      <td>2</td>\n",
       "      <td>AM</td>\n",
       "      <td>1.809</td>\n",
       "      <td>145</td>\n",
       "    </tr>\n",
       "    <tr>\n",
       "      <th>5</th>\n",
       "      <td>3</td>\n",
       "      <td>AP</td>\n",
       "      <td>370</td>\n",
       "      <td>10</td>\n",
       "    </tr>\n",
       "    <tr>\n",
       "      <th>6</th>\n",
       "      <td>4</td>\n",
       "      <td>PA</td>\n",
       "      <td>557</td>\n",
       "      <td>26</td>\n",
       "    </tr>\n",
       "    <tr>\n",
       "      <th>7</th>\n",
       "      <td>5</td>\n",
       "      <td>RO</td>\n",
       "      <td>92</td>\n",
       "      <td>3</td>\n",
       "    </tr>\n",
       "    <tr>\n",
       "      <th>8</th>\n",
       "      <td>6</td>\n",
       "      <td>RR</td>\n",
       "      <td>164</td>\n",
       "      <td>3</td>\n",
       "    </tr>\n",
       "    <tr>\n",
       "      <th>9</th>\n",
       "      <td>7</td>\n",
       "      <td>TO</td>\n",
       "      <td>31</td>\n",
       "      <td>1</td>\n",
       "    </tr>\n",
       "    <tr>\n",
       "      <th>10</th>\n",
       "      <td>NORDESTE</td>\n",
       "      <td>None</td>\n",
       "      <td>7.469   (22,2%)</td>\n",
       "      <td>479   (6,4%)</td>\n",
       "    </tr>\n",
       "    <tr>\n",
       "      <th>11</th>\n",
       "      <td>8</td>\n",
       "      <td>AL</td>\n",
       "      <td>110</td>\n",
       "      <td>7</td>\n",
       "    </tr>\n",
       "    <tr>\n",
       "      <th>12</th>\n",
       "      <td>9</td>\n",
       "      <td>BA</td>\n",
       "      <td>1.059</td>\n",
       "      <td>36</td>\n",
       "    </tr>\n",
       "    <tr>\n",
       "      <th>13</th>\n",
       "      <td>10</td>\n",
       "      <td>CE</td>\n",
       "      <td>2.684</td>\n",
       "      <td>149</td>\n",
       "    </tr>\n",
       "    <tr>\n",
       "      <th>14</th>\n",
       "      <td>11</td>\n",
       "      <td>MA</td>\n",
       "      <td>797</td>\n",
       "      <td>40</td>\n",
       "    </tr>\n",
       "    <tr>\n",
       "      <th>15</th>\n",
       "      <td>12</td>\n",
       "      <td>PB</td>\n",
       "      <td>195</td>\n",
       "      <td>26</td>\n",
       "    </tr>\n",
       "    <tr>\n",
       "      <th>16</th>\n",
       "      <td>13</td>\n",
       "      <td>PE</td>\n",
       "      <td>2.006</td>\n",
       "      <td>186</td>\n",
       "    </tr>\n",
       "    <tr>\n",
       "      <th>17</th>\n",
       "      <td>14</td>\n",
       "      <td>PI</td>\n",
       "      <td>102</td>\n",
       "      <td>8</td>\n",
       "    </tr>\n",
       "    <tr>\n",
       "      <th>18</th>\n",
       "      <td>15</td>\n",
       "      <td>RN</td>\n",
       "      <td>463</td>\n",
       "      <td>23</td>\n",
       "    </tr>\n",
       "    <tr>\n",
       "      <th>19</th>\n",
       "      <td>16</td>\n",
       "      <td>SE</td>\n",
       "      <td>53</td>\n",
       "      <td>4</td>\n",
       "    </tr>\n",
       "    <tr>\n",
       "      <th>20</th>\n",
       "      <td>SUDESTE</td>\n",
       "      <td>None</td>\n",
       "      <td>19.067   (56,6%)</td>\n",
       "      <td>1.329   (7,0%)</td>\n",
       "    </tr>\n",
       "    <tr>\n",
       "      <th>21</th>\n",
       "      <td>17</td>\n",
       "      <td>ES</td>\n",
       "      <td>856</td>\n",
       "      <td>25</td>\n",
       "    </tr>\n",
       "    <tr>\n",
       "      <th>22</th>\n",
       "      <td>18</td>\n",
       "      <td>MG</td>\n",
       "      <td>1.021</td>\n",
       "      <td>35</td>\n",
       "    </tr>\n",
       "    <tr>\n",
       "      <th>23</th>\n",
       "      <td>19</td>\n",
       "      <td>RJ</td>\n",
       "      <td>4.349</td>\n",
       "      <td>341</td>\n",
       "    </tr>\n",
       "    <tr>\n",
       "      <th>24</th>\n",
       "      <td>20</td>\n",
       "      <td>SP</td>\n",
       "      <td>12.841</td>\n",
       "      <td>928</td>\n",
       "    </tr>\n",
       "    <tr>\n",
       "      <th>25</th>\n",
       "      <td>CENTRO-OESTE</td>\n",
       "      <td>None</td>\n",
       "      <td>1.386   (4,1%)</td>\n",
       "      <td>46   (3,3%)</td>\n",
       "    </tr>\n",
       "    <tr>\n",
       "      <th>26</th>\n",
       "      <td>21</td>\n",
       "      <td>DF</td>\n",
       "      <td>746</td>\n",
       "      <td>20</td>\n",
       "    </tr>\n",
       "    <tr>\n",
       "      <th>27</th>\n",
       "      <td>22</td>\n",
       "      <td>GO</td>\n",
       "      <td>335</td>\n",
       "      <td>16</td>\n",
       "    </tr>\n",
       "    <tr>\n",
       "      <th>28</th>\n",
       "      <td>23</td>\n",
       "      <td>MS</td>\n",
       "      <td>143</td>\n",
       "      <td>5</td>\n",
       "    </tr>\n",
       "    <tr>\n",
       "      <th>29</th>\n",
       "      <td>24</td>\n",
       "      <td>MT</td>\n",
       "      <td>162</td>\n",
       "      <td>5</td>\n",
       "    </tr>\n",
       "    <tr>\n",
       "      <th>30</th>\n",
       "      <td>SUL</td>\n",
       "      <td>None</td>\n",
       "      <td>2.602   (7,7%)</td>\n",
       "      <td>94   (3,6%)</td>\n",
       "    </tr>\n",
       "    <tr>\n",
       "      <th>31</th>\n",
       "      <td>25</td>\n",
       "      <td>PR</td>\n",
       "      <td>874</td>\n",
       "      <td>42</td>\n",
       "    </tr>\n",
       "    <tr>\n",
       "      <th>32</th>\n",
       "      <td>26</td>\n",
       "      <td>RS</td>\n",
       "      <td>802</td>\n",
       "      <td>22</td>\n",
       "    </tr>\n",
       "    <tr>\n",
       "      <th>33</th>\n",
       "      <td>27</td>\n",
       "      <td>SC</td>\n",
       "      <td>926</td>\n",
       "      <td>30</td>\n",
       "    </tr>\n",
       "    <tr>\n",
       "      <th>34</th>\n",
       "      <td>BRASIL</td>\n",
       "      <td>None</td>\n",
       "      <td>33.682</td>\n",
       "      <td>2.141   (6,4%)</td>\n",
       "    </tr>\n",
       "  </tbody>\n",
       "</table>\n",
       "</div>"
      ],
      "text/plain": [
       "               0          1                 2               3\n",
       "0             ID  UF/REGIÃO       CONFIRMADOS          ÓBITOS\n",
       "1           None       None           N   (%)         N   (%)\n",
       "2          NORTE       None    3.158   (9,4%)    193   (6,1%)\n",
       "3              1         AC               135               5\n",
       "4              2         AM             1.809             145\n",
       "5              3         AP               370              10\n",
       "6              4         PA               557              26\n",
       "7              5         RO                92               3\n",
       "8              6         RR               164               3\n",
       "9              7         TO                31               1\n",
       "10      NORDESTE       None   7.469   (22,2%)    479   (6,4%)\n",
       "11             8         AL               110               7\n",
       "12             9         BA             1.059              36\n",
       "13            10         CE             2.684             149\n",
       "14            11         MA               797              40\n",
       "15            12         PB               195              26\n",
       "16            13         PE             2.006             186\n",
       "17            14         PI               102               8\n",
       "18            15         RN               463              23\n",
       "19            16         SE                53               4\n",
       "20       SUDESTE       None  19.067   (56,6%)  1.329   (7,0%)\n",
       "21            17         ES               856              25\n",
       "22            18         MG             1.021              35\n",
       "23            19         RJ             4.349             341\n",
       "24            20         SP            12.841             928\n",
       "25  CENTRO-OESTE       None    1.386   (4,1%)     46   (3,3%)\n",
       "26            21         DF               746              20\n",
       "27            22         GO               335              16\n",
       "28            23         MS               143               5\n",
       "29            24         MT               162               5\n",
       "30           SUL       None    2.602   (7,7%)     94   (3,6%)\n",
       "31            25         PR               874              42\n",
       "32            26         RS               802              22\n",
       "33            27         SC               926              30\n",
       "34        BRASIL       None            33.682  2.141   (6,4%)"
      ]
     },
     "execution_count": 51,
     "metadata": {},
     "output_type": "execute_result"
    }
   ],
   "source": [
    "table1_df"
   ]
  },
  {
   "cell_type": "code",
   "execution_count": null,
   "metadata": {
    "collapsed": true,
    "deletable": true,
    "editable": true
   },
   "outputs": [],
   "source": []
  }
 ],
 "metadata": {
  "kernelspec": {
   "display_name": "Python 3",
   "language": "python",
   "name": "python3"
  },
  "language_info": {
   "codemirror_mode": {
    "name": "ipython",
    "version": 3
   },
   "file_extension": ".py",
   "mimetype": "text/x-python",
   "name": "python",
   "nbconvert_exporter": "python",
   "pygments_lexer": "ipython3",
   "version": "3.6.8"
  }
 },
 "nbformat": 4,
 "nbformat_minor": 2
}
