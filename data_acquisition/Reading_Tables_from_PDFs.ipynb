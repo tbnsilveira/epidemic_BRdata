{
 "cells": [
  {
   "cell_type": "markdown",
   "metadata": {
    "deletable": true,
    "editable": true
   },
   "source": [
    "# Reading tables from PDF files\n",
    "In this project, our intention is to read informational tables from the reports of Brazilian Ministry of Health. \n",
    "In order to do so, we will make use of the *PDFplumber* library, which has shown itself the easiest available tool for this task.  \n",
    "\n",
    "The sample files are in the following folder:  \n",
    "~/workplace/github/epidemic_BRdata/BMH_Bulletins/"
   ]
  },
  {
   "cell_type": "markdown",
   "metadata": {
    "deletable": true,
    "editable": true
   },
   "source": [
    "### General statements"
   ]
  },
  {
   "cell_type": "code",
   "execution_count": 18,
   "metadata": {
    "collapsed": false,
    "deletable": true,
    "editable": true
   },
   "outputs": [],
   "source": [
    "import pandas as pd\n",
    "import os\n",
    "import re"
   ]
  },
  {
   "cell_type": "code",
   "execution_count": 19,
   "metadata": {
    "collapsed": true,
    "deletable": true,
    "editable": true
   },
   "outputs": [],
   "source": [
    "import pdfplumber"
   ]
  },
  {
   "cell_type": "markdown",
   "metadata": {
    "deletable": true,
    "editable": true
   },
   "source": [
    "--------------------"
   ]
  },
  {
   "cell_type": "markdown",
   "metadata": {
    "collapsed": true,
    "deletable": true,
    "editable": true
   },
   "source": [
    "## Listing and checking available files  \n",
    "- List all the bulletins available in the \"covid\" directory;  \n",
    "- Check whether it was already downloaded and parsed, or not. "
   ]
  },
  {
   "cell_type": "code",
   "execution_count": 20,
   "metadata": {
    "collapsed": false,
    "deletable": true,
    "editable": true
   },
   "outputs": [
    {
     "data": {
      "text/plain": [
       "['.directory',\n",
       " 'be-covid-08-final-2.pdf',\n",
       " 'Boletim-epidemiologico-SVS-04fev20.pdf',\n",
       " '2020-04-27-18-05h-BEE14-Boletim-do-COE.pdf',\n",
       " 'BE6-Boletim-Especial-do-COE.pdf',\n",
       " 'BE13---Boletim-do-COE.pdf',\n",
       " 'be-covid-08-final.pdf',\n",
       " 'Boletim-epidemiologico-SVS-01-COE-inundacao.pdf',\n",
       " '2020-04-06-BE7-Boletim-Especial-do-COE-Atualizacao-da-Avaliacao-de-Risco.pdf',\n",
       " '2020-04-16---BE10---Boletim-do-COE-21h.pdf',\n",
       " '2020-02-21-Boletim-Epidemiologico03.pdf',\n",
       " 'BE12-Boletim-do-COE.pdf',\n",
       " '2020-04-11-BE9-Boletim-do-COE.pdf',\n",
       " 'Boletim-epidemiologico-COEcorona-SVS-13fev20.pdf',\n",
       " '2020-03-02-Boletim-Epidemiol--gico-04-corrigido.pdf',\n",
       " '2020-04-17---BE11---Boletim-do-COE-21h.pdf']"
      ]
     },
     "execution_count": 20,
     "metadata": {},
     "output_type": "execute_result"
    }
   ],
   "source": [
    "os.listdir('BMH_Bulletins/covid')"
   ]
  },
  {
   "cell_type": "code",
   "execution_count": 21,
   "metadata": {
    "collapsed": true,
    "deletable": true,
    "editable": true
   },
   "outputs": [],
   "source": [
    "file1 = 'BMH_Bulletins/covid/2020-04-17---BE11---Boletim-do-COE-21h.pdf'"
   ]
  },
  {
   "cell_type": "code",
   "execution_count": 22,
   "metadata": {
    "collapsed": true,
    "deletable": true,
    "editable": true
   },
   "outputs": [],
   "source": [
    "file2 = 'BMH_Bulletins/covid/2020-02-21-Boletim-Epidemiologico03.pdf'"
   ]
  },
  {
   "cell_type": "code",
   "execution_count": 26,
   "metadata": {
    "collapsed": true
   },
   "outputs": [],
   "source": [
    "file3 = 'BMH_Bulletins/covid/2020-04-27-18-05h-BEE14-Boletim-do-COE.pdf'"
   ]
  },
  {
   "cell_type": "markdown",
   "metadata": {
    "deletable": true,
    "editable": true
   },
   "source": [
    "--------------------"
   ]
  },
  {
   "cell_type": "markdown",
   "metadata": {
    "collapsed": true,
    "deletable": true,
    "editable": true
   },
   "source": [
    "## Reading tables with PDFplumber:  \n",
    "General reference: http://blog.rubypdf.com/2019/07/09/extract-table-from-pdf-with-python/"
   ]
  },
  {
   "cell_type": "markdown",
   "metadata": {
    "deletable": true,
    "editable": true
   },
   "source": [
    "#### Reading the file and extracting its tables automatically:"
   ]
  },
  {
   "cell_type": "code",
   "execution_count": 23,
   "metadata": {
    "collapsed": true,
    "deletable": true,
    "editable": true
   },
   "outputs": [],
   "source": [
    "def parse_pdf(file):\n",
    "    ## Openning the PDF file:\n",
    "    filename = re.findall('(?:[^/]+)$(?<=(?:.jpg)|(?:.pdf))', file)[0]  #The last term is to take the filename out of the list type.\n",
    "    try:\n",
    "        print('Reading the file \"{0}\"'.format(filename))\n",
    "        pdf = pdfplumber.open(file)\n",
    "    except: \n",
    "        print('It was not possible to open the file \"{0}\"'.format(filename))    \n",
    "    print('Done: {0} pages read.'.format(len(pdf.pages)))\n",
    "    \n",
    "    \n",
    "    return pdf"
   ]
  },
  {
   "cell_type": "code",
   "execution_count": 73,
   "metadata": {
    "collapsed": false,
    "deletable": true,
    "editable": true
   },
   "outputs": [
    {
     "name": "stdout",
     "output_type": "stream",
     "text": [
      "Reading the file \"2020-04-17---BE11---Boletim-do-COE-21h.pdf\"\n",
      "Done: 37 pages read.\n"
     ]
    }
   ],
   "source": [
    "pdf = parse_pdf(file1)"
   ]
  },
  {
   "cell_type": "markdown",
   "metadata": {},
   "source": [
    "--------------"
   ]
  },
  {
   "cell_type": "markdown",
   "metadata": {},
   "source": [
    "#### Trying to read each page and show how many Tables we found:"
   ]
  },
  {
   "cell_type": "code",
   "execution_count": null,
   "metadata": {
    "collapsed": true
   },
   "outputs": [],
   "source": [
    "for page in pdf.pages:\n",
    "    "
   ]
  },
  {
   "cell_type": "code",
   "execution_count": 79,
   "metadata": {
    "collapsed": false
   },
   "outputs": [],
   "source": [
    "page1 = pdf.pages[2]"
   ]
  },
  {
   "cell_type": "code",
   "execution_count": 84,
   "metadata": {
    "collapsed": false
   },
   "outputs": [],
   "source": [
    "table1 = page1.find_tables()[0]"
   ]
  },
  {
   "cell_type": "code",
   "execution_count": 89,
   "metadata": {
    "collapsed": false
   },
   "outputs": [],
   "source": [
    "row1 = table1.rows[2]"
   ]
  },
  {
   "cell_type": "code",
   "execution_count": 95,
   "metadata": {
    "collapsed": false
   },
   "outputs": [
    {
     "name": "stdout",
     "output_type": "stream",
     "text": [
      "Fonte:   Secretaria   de   Vigilância   em   Saúde/Ministério   da   Saúde.   Dados   atualizados   em   17   de   abril   de   2020   às   15h,   sujeitos   a   revisões. \n",
      "Figura    1:  Incidência   de   casos   conﬁrmados   de   COVID-19   (A)   e   cumulativo   dos   casos   (B)   por   data   de  \n",
      "notiﬁcação.   Brasil,   2020.  \n",
      " \n",
      " \n",
      "Fonte:   Secretaria   de   Vigilância   em   Saúde/Ministério   da   Saúde.   Dados   atualizados   em   17   de   abril   de   2020   às   15h,   sujeitos   a   revisões.  \n",
      "Figura    2:   Incidência   de   casos   conﬁrmados   de   COVID-19   (A)   e   cumulativo   dos   casos   (B)   por   semana  \n",
      "epidemiológica.   Brasil,   2020.  \n",
      " \n",
      "Como   mostrado   na  Tabela   2,    a   maior   parte   dos   casos   concentrou-se   na   região   Sudeste   (19.067;   56,6%)  \n",
      "seguido   das   regiões   Nordeste   (7.469;   22,2%)   e   Sul   (2.602;   7,7%).   Dentre   as   Unidades   Federadas,   São   Paulo  \n",
      "apresentou   o   maior   número   de   casos   conﬁrmados   da   doença   (12.841),   seguido   de   Rio   de   Janeiro   (4.349),  \n",
      "Ceará    (2.684),    Pernambuco    (2.006)    e   Amazonas   (1.809).   A  Figura    3  mostra   a   distribuição   dos   casos  \n",
      "conﬁrmados   para   COVID-19   por   município.   \n",
      "Boletim   Epidemiológico    11   –   COE-COVID19   –   17   de   abril   de   2020     3\n"
     ]
    }
   ],
   "source": [
    "print(table1.extract()[2][0])"
   ]
  },
  {
   "cell_type": "code",
   "execution_count": null,
   "metadata": {
    "collapsed": true
   },
   "outputs": [],
   "source": []
  },
  {
   "cell_type": "code",
   "execution_count": null,
   "metadata": {
    "collapsed": true
   },
   "outputs": [],
   "source": []
  },
  {
   "cell_type": "markdown",
   "metadata": {
    "deletable": true,
    "editable": true
   },
   "source": [
    "--------------"
   ]
  },
  {
   "cell_type": "code",
   "execution_count": 74,
   "metadata": {
    "collapsed": false,
    "deletable": true,
    "editable": true
   },
   "outputs": [
    {
     "data": {
      "text/plain": [
       "[<pdfplumber.page.Page at 0x7fe2fceb5ef0>,\n",
       " <pdfplumber.page.Page at 0x7fe2fceb7160>,\n",
       " <pdfplumber.page.Page at 0x7fe2fceb73c8>,\n",
       " <pdfplumber.page.Page at 0x7fe2fceb75c0>,\n",
       " <pdfplumber.page.Page at 0x7fe2fceb7828>,\n",
       " <pdfplumber.page.Page at 0x7fe2fceb7a90>,\n",
       " <pdfplumber.page.Page at 0x7fe2fceb7d30>,\n",
       " <pdfplumber.page.Page at 0x7fe2fceb7f98>,\n",
       " <pdfplumber.page.Page at 0x7fe2fcec0438>,\n",
       " <pdfplumber.page.Page at 0x7fe2fcec06d8>,\n",
       " <pdfplumber.page.Page at 0x7fe2fcec0940>,\n",
       " <pdfplumber.page.Page at 0x7fe2fcec0ba8>,\n",
       " <pdfplumber.page.Page at 0x7fe2fcec0dd8>,\n",
       " <pdfplumber.page.Page at 0x7fe2fcec5080>,\n",
       " <pdfplumber.page.Page at 0x7fe2fcec52b0>,\n",
       " <pdfplumber.page.Page at 0x7fe2fcec5518>,\n",
       " <pdfplumber.page.Page at 0x7fe2fcec5940>,\n",
       " <pdfplumber.page.Page at 0x7fe2fcec5b70>,\n",
       " <pdfplumber.page.Page at 0x7fe2fcec5dd8>,\n",
       " <pdfplumber.page.Page at 0x7fe2fcec5fd0>,\n",
       " <pdfplumber.page.Page at 0x7fe2fcecb240>,\n",
       " <pdfplumber.page.Page at 0x7fe2fcecb4a8>,\n",
       " <pdfplumber.page.Page at 0x7fe2fcecb748>,\n",
       " <pdfplumber.page.Page at 0x7fe2fcecb9b0>,\n",
       " <pdfplumber.page.Page at 0x7fe2fcecbdd8>,\n",
       " <pdfplumber.page.Page at 0x7fe2fced01d0>,\n",
       " <pdfplumber.page.Page at 0x7fe2fced05f8>,\n",
       " <pdfplumber.page.Page at 0x7fe2fced07f0>,\n",
       " <pdfplumber.page.Page at 0x7fe2fced09e8>,\n",
       " <pdfplumber.page.Page at 0x7fe2fced0be0>,\n",
       " <pdfplumber.page.Page at 0x7fe2fced0dd8>,\n",
       " <pdfplumber.page.Page at 0x7fe2fced0fd0>,\n",
       " <pdfplumber.page.Page at 0x7fe2fced8358>,\n",
       " <pdfplumber.page.Page at 0x7fe2fced8550>,\n",
       " <pdfplumber.page.Page at 0x7fe2fced8748>,\n",
       " <pdfplumber.page.Page at 0x7fe2fced8940>,\n",
       " <pdfplumber.page.Page at 0x7fe2fced8b38>]"
      ]
     },
     "execution_count": 74,
     "metadata": {},
     "output_type": "execute_result"
    }
   ],
   "source": [
    "pdf.pages"
   ]
  },
  {
   "cell_type": "markdown",
   "metadata": {
    "deletable": true,
    "editable": true
   },
   "source": [
    "--------------------"
   ]
  },
  {
   "cell_type": "markdown",
   "metadata": {
    "deletable": true,
    "editable": true
   },
   "source": [
    "#### Reading the file and extracting its tables manually:"
   ]
  },
  {
   "cell_type": "code",
   "execution_count": 45,
   "metadata": {
    "collapsed": true,
    "deletable": true,
    "editable": true
   },
   "outputs": [],
   "source": [
    "## Openning the PDF file:\n",
    "pdf = pdfplumber.open(file1)"
   ]
  },
  {
   "cell_type": "code",
   "execution_count": 29,
   "metadata": {
    "collapsed": false,
    "deletable": true,
    "editable": true,
    "scrolled": true
   },
   "outputs": [
    {
     "data": {
      "text/plain": [
       "{'CreationDate': \"D:20200429120015+00'00'\",\n",
       " 'Creator': 'Mozilla/5.0 (Windows NT 10.0; Win64; x64) AppleWebKit/537.36 (KHTML, like Gecko) Chrome/80.0.3987.163 Safari/537.36',\n",
       " 'ModDate': \"D:20200429120015+00'00'\",\n",
       " 'Producer': 'Skia/PDF m80'}"
      ]
     },
     "execution_count": 29,
     "metadata": {},
     "output_type": "execute_result"
    }
   ],
   "source": [
    "## Reading the file metada (there wasn't any useful information, in this case)\n",
    "pdf.metadata"
   ]
  },
  {
   "cell_type": "code",
   "execution_count": 30,
   "metadata": {
    "collapsed": false,
    "deletable": true,
    "editable": true
   },
   "outputs": [
    {
     "data": {
      "text/plain": [
       "48"
      ]
     },
     "execution_count": 30,
     "metadata": {},
     "output_type": "execute_result"
    }
   ],
   "source": [
    "## Checking the number of pages (remembering it outputs a list)\n",
    "len(pdf.pages)"
   ]
  },
  {
   "cell_type": "markdown",
   "metadata": {
    "deletable": true,
    "editable": true
   },
   "source": [
    "#### Exploring how the PDFplumber works based on a page of interest from the document:  \n",
    "We are interested in catching out the tables 1 and 2 from the document, which are in the pages 2 and 4, respectively. "
   ]
  },
  {
   "cell_type": "code",
   "execution_count": 33,
   "metadata": {
    "collapsed": true,
    "deletable": true,
    "editable": true
   },
   "outputs": [],
   "source": [
    "page2 = pdf.pages[1]\n",
    "page4 = pdf.pages[3]\n",
    "page9 = pdf.pages[8]"
   ]
  },
  {
   "cell_type": "code",
   "execution_count": 32,
   "metadata": {
    "collapsed": false,
    "deletable": true,
    "editable": true
   },
   "outputs": [
    {
     "name": "stdout",
     "output_type": "stream",
     "text": [
      "pode   parecer   contraditório,   pois   a   COVID-19   gera   menos   casos   que   o   sarampo   (F igura   3) ,   por   exemplo.   No  \n",
      "entanto,   essa   doença,   por   ser   ainda   desconhecida   em   vários   aspectos,   gera   impacto   na   sociedade   de  \n",
      "modo   desproporcional   em   cada   região.   Os   modelos   matemáticos,   estatísticos   e   epidemiológicos   ainda  \n",
      "não   conseguem   contemplar   toda   a   complexidade   da   situação   (F igura   4) .   \n",
      " \n",
      "Figura   3:    Taxa   de   transmissibilidade   (R0)   de   doenças   diferentes   em   até   três   gerações   de   transmissão.   \n",
      "  \n",
      "Figura   4:   Contando   a   história   natural   e   parcial   da   COVID-19   a   partir   de   conhecimentos   disponíveis   até  \n",
      "abril   de   2020.  \n",
      "Considerando   que   a   Alemanha   é   um   dos   países   de   referência   na   resposta   internacional,   até   mesmo   o  \n",
      "virologista   símbolo   da   medida   de   distanciamento   social   no   país,   o   virologista   Christian   Drosten   um   dos  \n",
      "criadores   de   Protocolo   Charité   de   rRT-PCR   do   COVID-19   utilizado   em   todo   o   mundo,   considera   que   a  \n",
      "manutenção   do   bloqueio   por   mais   tempo   não   impedirá   a   ocorrência   de   bolsões   de   alta   prevalência,  \n",
      "como   casas   de   idosos,   onde   se   levará   mais   tempo   para   erradicar   a   doença   e   onde   poderia   ser   observado  \n",
      "um   rápido   ressurgimento,   mesmo   se   o   bloqueio   fosse   prolongado.  \n",
      "BOLETIM   EPIDEMIOLÓGICO   ESPECIAL    -   14   |     SE   18   -   26   de   abril   de   2020                                4\n"
     ]
    }
   ],
   "source": [
    "print(page4.extract_tables()[0][2][0])"
   ]
  },
  {
   "cell_type": "code",
   "execution_count": 36,
   "metadata": {
    "collapsed": false,
    "deletable": true,
    "editable": true
   },
   "outputs": [
    {
     "name": "stdout",
     "output_type": "stream",
     "text": [
      "Tabela   3:    Comparação   entre   os   dados   da   Central   de   Informações   do   Registro   Civil   e   do   Ministério   da  \n",
      "Saúde   em   relação   aos   óbitos   por   COVID-19.   Brasil,   2020.  \n",
      "Óbitos   por   COVID-19*   em   2020  \n",
      "Unidade   da   Federação  \n",
      "CRC   Nacional   Ministério   da   Saúde   Diferença**  \n",
      "Acre   6   11   -5  \n",
      "Alagoas   18   32   -14  \n",
      "Amazonas   170   304   -134  \n",
      "Amapá   0   21   -21  \n",
      "Bahia   23   73   -50  \n",
      "Ceará   315   327   -12  \n",
      "Distrito   Federal   46   27   19  \n",
      "Espírito   Santo   50   51   -1  \n",
      "Goiás   56   25   31  \n",
      "Maranhão   81   112   -31  \n",
      "Minas   Gerais   143   61   82  \n",
      "Mato   Grosso   do   Sul   5   7   -2  \n",
      "Mato   Grosso   6   9   -3  \n",
      "Pará   16   100   -84  \n",
      "Paraíba   23   49   -26  \n",
      "Pernambuco   159   415   -256  \n",
      "Piauí   4   18   -14  \n",
      "Paraná   78   72   6  \n",
      "Rio   de   Janeiro   1.140   645   495  \n",
      "Rio   Grande   do   Norte   15   44   -29  \n",
      "Rondônia   10   10   0  \n",
      "Roraima   2   4   -2  \n",
      "Rio   Grande   do   Sul   44   35   9  \n",
      "Santa   Catarina   41   42   -1  \n",
      "Sergipe   3   9   -6  \n",
      "São   Paulo   2.007   1.700   307  \n",
      "Tocantins   1   2   -1  \n",
      "Brasil   4.462   4.205   257  \n",
      "Fontes:  h  ttps://transparencia.registrocivil.org.br/especial-covid    e  h  ttps://covid.saude.gov.br/.    Dados   referentes   ao   dia   26   de   abril   de   2020.   \n",
      "Nota:   O   estado   de   Pernambuco   recomenda   que,   na   DO   de   óbitos   suspeitos   de   COVID-19,   ou   seja,   sem   exame   positivo,   seja   preenchido   na   parte   I  \n",
      "do   atestado   como   Síndrome   Respiratória   Aguda   Grave   (SRAG)   (Portaria   138   de   07/04/2020).  \n",
      "*A   CRC   considera   óbitos   suspeitos   ou   conﬁrmados   de   COVID-19,   enquanto   que   o   Ministério   da   Saúde   divulga   apenas   óbitos   conﬁrmados   da  \n",
      "doença.   **Diferença   =   Óbitos   com   suspeita   ou   conﬁrmação   de   COVID-19   em   2020   informados   pela   CRC   Nacional   -   número   de   óbitos   por   com  \n",
      "conﬁrmação   de   COVID-19   informados   pelo   Ministério   da   Saúde.  \n",
      "BOLETIM   EPIDEMIOLÓGICO   ESPECIAL    -   14   |     SE   18   -   26   de   abril   de   2020                                9\n"
     ]
    }
   ],
   "source": [
    "print(page9.extract_tables()[0][2][0])"
   ]
  },
  {
   "cell_type": "code",
   "execution_count": 50,
   "metadata": {
    "collapsed": true,
    "deletable": true,
    "editable": true
   },
   "outputs": [],
   "source": [
    "table1_df = pd.DataFrame(page4.extract_tables()[1])"
   ]
  },
  {
   "cell_type": "code",
   "execution_count": 51,
   "metadata": {
    "collapsed": false,
    "deletable": true,
    "editable": true
   },
   "outputs": [
    {
     "data": {
      "text/html": [
       "<div>\n",
       "<style scoped>\n",
       "    .dataframe tbody tr th:only-of-type {\n",
       "        vertical-align: middle;\n",
       "    }\n",
       "\n",
       "    .dataframe tbody tr th {\n",
       "        vertical-align: top;\n",
       "    }\n",
       "\n",
       "    .dataframe thead th {\n",
       "        text-align: right;\n",
       "    }\n",
       "</style>\n",
       "<table border=\"1\" class=\"dataframe\">\n",
       "  <thead>\n",
       "    <tr style=\"text-align: right;\">\n",
       "      <th></th>\n",
       "      <th>0</th>\n",
       "      <th>1</th>\n",
       "      <th>2</th>\n",
       "      <th>3</th>\n",
       "    </tr>\n",
       "  </thead>\n",
       "  <tbody>\n",
       "    <tr>\n",
       "      <th>0</th>\n",
       "      <td>ID</td>\n",
       "      <td>UF/REGIÃO</td>\n",
       "      <td>CONFIRMADOS</td>\n",
       "      <td>ÓBITOS</td>\n",
       "    </tr>\n",
       "    <tr>\n",
       "      <th>1</th>\n",
       "      <td>None</td>\n",
       "      <td>None</td>\n",
       "      <td>N   (%)</td>\n",
       "      <td>N   (%)</td>\n",
       "    </tr>\n",
       "    <tr>\n",
       "      <th>2</th>\n",
       "      <td>NORTE</td>\n",
       "      <td>None</td>\n",
       "      <td>3.158   (9,4%)</td>\n",
       "      <td>193   (6,1%)</td>\n",
       "    </tr>\n",
       "    <tr>\n",
       "      <th>3</th>\n",
       "      <td>1</td>\n",
       "      <td>AC</td>\n",
       "      <td>135</td>\n",
       "      <td>5</td>\n",
       "    </tr>\n",
       "    <tr>\n",
       "      <th>4</th>\n",
       "      <td>2</td>\n",
       "      <td>AM</td>\n",
       "      <td>1.809</td>\n",
       "      <td>145</td>\n",
       "    </tr>\n",
       "    <tr>\n",
       "      <th>5</th>\n",
       "      <td>3</td>\n",
       "      <td>AP</td>\n",
       "      <td>370</td>\n",
       "      <td>10</td>\n",
       "    </tr>\n",
       "    <tr>\n",
       "      <th>6</th>\n",
       "      <td>4</td>\n",
       "      <td>PA</td>\n",
       "      <td>557</td>\n",
       "      <td>26</td>\n",
       "    </tr>\n",
       "    <tr>\n",
       "      <th>7</th>\n",
       "      <td>5</td>\n",
       "      <td>RO</td>\n",
       "      <td>92</td>\n",
       "      <td>3</td>\n",
       "    </tr>\n",
       "    <tr>\n",
       "      <th>8</th>\n",
       "      <td>6</td>\n",
       "      <td>RR</td>\n",
       "      <td>164</td>\n",
       "      <td>3</td>\n",
       "    </tr>\n",
       "    <tr>\n",
       "      <th>9</th>\n",
       "      <td>7</td>\n",
       "      <td>TO</td>\n",
       "      <td>31</td>\n",
       "      <td>1</td>\n",
       "    </tr>\n",
       "    <tr>\n",
       "      <th>10</th>\n",
       "      <td>NORDESTE</td>\n",
       "      <td>None</td>\n",
       "      <td>7.469   (22,2%)</td>\n",
       "      <td>479   (6,4%)</td>\n",
       "    </tr>\n",
       "    <tr>\n",
       "      <th>11</th>\n",
       "      <td>8</td>\n",
       "      <td>AL</td>\n",
       "      <td>110</td>\n",
       "      <td>7</td>\n",
       "    </tr>\n",
       "    <tr>\n",
       "      <th>12</th>\n",
       "      <td>9</td>\n",
       "      <td>BA</td>\n",
       "      <td>1.059</td>\n",
       "      <td>36</td>\n",
       "    </tr>\n",
       "    <tr>\n",
       "      <th>13</th>\n",
       "      <td>10</td>\n",
       "      <td>CE</td>\n",
       "      <td>2.684</td>\n",
       "      <td>149</td>\n",
       "    </tr>\n",
       "    <tr>\n",
       "      <th>14</th>\n",
       "      <td>11</td>\n",
       "      <td>MA</td>\n",
       "      <td>797</td>\n",
       "      <td>40</td>\n",
       "    </tr>\n",
       "    <tr>\n",
       "      <th>15</th>\n",
       "      <td>12</td>\n",
       "      <td>PB</td>\n",
       "      <td>195</td>\n",
       "      <td>26</td>\n",
       "    </tr>\n",
       "    <tr>\n",
       "      <th>16</th>\n",
       "      <td>13</td>\n",
       "      <td>PE</td>\n",
       "      <td>2.006</td>\n",
       "      <td>186</td>\n",
       "    </tr>\n",
       "    <tr>\n",
       "      <th>17</th>\n",
       "      <td>14</td>\n",
       "      <td>PI</td>\n",
       "      <td>102</td>\n",
       "      <td>8</td>\n",
       "    </tr>\n",
       "    <tr>\n",
       "      <th>18</th>\n",
       "      <td>15</td>\n",
       "      <td>RN</td>\n",
       "      <td>463</td>\n",
       "      <td>23</td>\n",
       "    </tr>\n",
       "    <tr>\n",
       "      <th>19</th>\n",
       "      <td>16</td>\n",
       "      <td>SE</td>\n",
       "      <td>53</td>\n",
       "      <td>4</td>\n",
       "    </tr>\n",
       "    <tr>\n",
       "      <th>20</th>\n",
       "      <td>SUDESTE</td>\n",
       "      <td>None</td>\n",
       "      <td>19.067   (56,6%)</td>\n",
       "      <td>1.329   (7,0%)</td>\n",
       "    </tr>\n",
       "    <tr>\n",
       "      <th>21</th>\n",
       "      <td>17</td>\n",
       "      <td>ES</td>\n",
       "      <td>856</td>\n",
       "      <td>25</td>\n",
       "    </tr>\n",
       "    <tr>\n",
       "      <th>22</th>\n",
       "      <td>18</td>\n",
       "      <td>MG</td>\n",
       "      <td>1.021</td>\n",
       "      <td>35</td>\n",
       "    </tr>\n",
       "    <tr>\n",
       "      <th>23</th>\n",
       "      <td>19</td>\n",
       "      <td>RJ</td>\n",
       "      <td>4.349</td>\n",
       "      <td>341</td>\n",
       "    </tr>\n",
       "    <tr>\n",
       "      <th>24</th>\n",
       "      <td>20</td>\n",
       "      <td>SP</td>\n",
       "      <td>12.841</td>\n",
       "      <td>928</td>\n",
       "    </tr>\n",
       "    <tr>\n",
       "      <th>25</th>\n",
       "      <td>CENTRO-OESTE</td>\n",
       "      <td>None</td>\n",
       "      <td>1.386   (4,1%)</td>\n",
       "      <td>46   (3,3%)</td>\n",
       "    </tr>\n",
       "    <tr>\n",
       "      <th>26</th>\n",
       "      <td>21</td>\n",
       "      <td>DF</td>\n",
       "      <td>746</td>\n",
       "      <td>20</td>\n",
       "    </tr>\n",
       "    <tr>\n",
       "      <th>27</th>\n",
       "      <td>22</td>\n",
       "      <td>GO</td>\n",
       "      <td>335</td>\n",
       "      <td>16</td>\n",
       "    </tr>\n",
       "    <tr>\n",
       "      <th>28</th>\n",
       "      <td>23</td>\n",
       "      <td>MS</td>\n",
       "      <td>143</td>\n",
       "      <td>5</td>\n",
       "    </tr>\n",
       "    <tr>\n",
       "      <th>29</th>\n",
       "      <td>24</td>\n",
       "      <td>MT</td>\n",
       "      <td>162</td>\n",
       "      <td>5</td>\n",
       "    </tr>\n",
       "    <tr>\n",
       "      <th>30</th>\n",
       "      <td>SUL</td>\n",
       "      <td>None</td>\n",
       "      <td>2.602   (7,7%)</td>\n",
       "      <td>94   (3,6%)</td>\n",
       "    </tr>\n",
       "    <tr>\n",
       "      <th>31</th>\n",
       "      <td>25</td>\n",
       "      <td>PR</td>\n",
       "      <td>874</td>\n",
       "      <td>42</td>\n",
       "    </tr>\n",
       "    <tr>\n",
       "      <th>32</th>\n",
       "      <td>26</td>\n",
       "      <td>RS</td>\n",
       "      <td>802</td>\n",
       "      <td>22</td>\n",
       "    </tr>\n",
       "    <tr>\n",
       "      <th>33</th>\n",
       "      <td>27</td>\n",
       "      <td>SC</td>\n",
       "      <td>926</td>\n",
       "      <td>30</td>\n",
       "    </tr>\n",
       "    <tr>\n",
       "      <th>34</th>\n",
       "      <td>BRASIL</td>\n",
       "      <td>None</td>\n",
       "      <td>33.682</td>\n",
       "      <td>2.141   (6,4%)</td>\n",
       "    </tr>\n",
       "  </tbody>\n",
       "</table>\n",
       "</div>"
      ],
      "text/plain": [
       "               0          1                 2               3\n",
       "0             ID  UF/REGIÃO       CONFIRMADOS          ÓBITOS\n",
       "1           None       None           N   (%)         N   (%)\n",
       "2          NORTE       None    3.158   (9,4%)    193   (6,1%)\n",
       "3              1         AC               135               5\n",
       "4              2         AM             1.809             145\n",
       "5              3         AP               370              10\n",
       "6              4         PA               557              26\n",
       "7              5         RO                92               3\n",
       "8              6         RR               164               3\n",
       "9              7         TO                31               1\n",
       "10      NORDESTE       None   7.469   (22,2%)    479   (6,4%)\n",
       "11             8         AL               110               7\n",
       "12             9         BA             1.059              36\n",
       "13            10         CE             2.684             149\n",
       "14            11         MA               797              40\n",
       "15            12         PB               195              26\n",
       "16            13         PE             2.006             186\n",
       "17            14         PI               102               8\n",
       "18            15         RN               463              23\n",
       "19            16         SE                53               4\n",
       "20       SUDESTE       None  19.067   (56,6%)  1.329   (7,0%)\n",
       "21            17         ES               856              25\n",
       "22            18         MG             1.021              35\n",
       "23            19         RJ             4.349             341\n",
       "24            20         SP            12.841             928\n",
       "25  CENTRO-OESTE       None    1.386   (4,1%)     46   (3,3%)\n",
       "26            21         DF               746              20\n",
       "27            22         GO               335              16\n",
       "28            23         MS               143               5\n",
       "29            24         MT               162               5\n",
       "30           SUL       None    2.602   (7,7%)     94   (3,6%)\n",
       "31            25         PR               874              42\n",
       "32            26         RS               802              22\n",
       "33            27         SC               926              30\n",
       "34        BRASIL       None            33.682  2.141   (6,4%)"
      ]
     },
     "execution_count": 51,
     "metadata": {},
     "output_type": "execute_result"
    }
   ],
   "source": [
    "table1_df"
   ]
  },
  {
   "cell_type": "code",
   "execution_count": 40,
   "metadata": {
    "collapsed": false,
    "deletable": true,
    "editable": true
   },
   "outputs": [
    {
     "data": {
      "text/html": [
       "<div>\n",
       "<style scoped>\n",
       "    .dataframe tbody tr th:only-of-type {\n",
       "        vertical-align: middle;\n",
       "    }\n",
       "\n",
       "    .dataframe tbody tr th {\n",
       "        vertical-align: top;\n",
       "    }\n",
       "\n",
       "    .dataframe thead th {\n",
       "        text-align: right;\n",
       "    }\n",
       "</style>\n",
       "<table border=\"1\" class=\"dataframe\">\n",
       "  <thead>\n",
       "    <tr style=\"text-align: right;\">\n",
       "      <th></th>\n",
       "      <th>0</th>\n",
       "      <th>1</th>\n",
       "      <th>2</th>\n",
       "      <th>3</th>\n",
       "    </tr>\n",
       "  </thead>\n",
       "  <tbody>\n",
       "    <tr>\n",
       "      <th>0</th>\n",
       "      <td>Unidade   da   Federação</td>\n",
       "      <td>Óbitos   por   COVID-19*   em   2020</td>\n",
       "      <td>None</td>\n",
       "      <td>None</td>\n",
       "    </tr>\n",
       "    <tr>\n",
       "      <th>1</th>\n",
       "      <td>None</td>\n",
       "      <td>CRC   Nacional</td>\n",
       "      <td>Ministério   da   Saúde</td>\n",
       "      <td>Diferença**</td>\n",
       "    </tr>\n",
       "    <tr>\n",
       "      <th>2</th>\n",
       "      <td>Acre</td>\n",
       "      <td>6</td>\n",
       "      <td>11</td>\n",
       "      <td>-5</td>\n",
       "    </tr>\n",
       "    <tr>\n",
       "      <th>3</th>\n",
       "      <td>Alagoas</td>\n",
       "      <td>18</td>\n",
       "      <td>32</td>\n",
       "      <td>-14</td>\n",
       "    </tr>\n",
       "    <tr>\n",
       "      <th>4</th>\n",
       "      <td>Amazonas</td>\n",
       "      <td>170</td>\n",
       "      <td>304</td>\n",
       "      <td>-134</td>\n",
       "    </tr>\n",
       "    <tr>\n",
       "      <th>5</th>\n",
       "      <td>Amapá</td>\n",
       "      <td>0</td>\n",
       "      <td>21</td>\n",
       "      <td>-21</td>\n",
       "    </tr>\n",
       "    <tr>\n",
       "      <th>6</th>\n",
       "      <td>Bahia</td>\n",
       "      <td>23</td>\n",
       "      <td>73</td>\n",
       "      <td>-50</td>\n",
       "    </tr>\n",
       "    <tr>\n",
       "      <th>7</th>\n",
       "      <td>Ceará</td>\n",
       "      <td>315</td>\n",
       "      <td>327</td>\n",
       "      <td>-12</td>\n",
       "    </tr>\n",
       "    <tr>\n",
       "      <th>8</th>\n",
       "      <td>Distrito   Federal</td>\n",
       "      <td>46</td>\n",
       "      <td>27</td>\n",
       "      <td>19</td>\n",
       "    </tr>\n",
       "    <tr>\n",
       "      <th>9</th>\n",
       "      <td>Espírito   Santo</td>\n",
       "      <td>50</td>\n",
       "      <td>51</td>\n",
       "      <td>-1</td>\n",
       "    </tr>\n",
       "    <tr>\n",
       "      <th>10</th>\n",
       "      <td>Goiás</td>\n",
       "      <td>56</td>\n",
       "      <td>25</td>\n",
       "      <td>31</td>\n",
       "    </tr>\n",
       "    <tr>\n",
       "      <th>11</th>\n",
       "      <td>Maranhão</td>\n",
       "      <td>81</td>\n",
       "      <td>112</td>\n",
       "      <td>-31</td>\n",
       "    </tr>\n",
       "    <tr>\n",
       "      <th>12</th>\n",
       "      <td>Minas   Gerais</td>\n",
       "      <td>143</td>\n",
       "      <td>61</td>\n",
       "      <td>82</td>\n",
       "    </tr>\n",
       "    <tr>\n",
       "      <th>13</th>\n",
       "      <td>Mato   Grosso   do   Sul</td>\n",
       "      <td>5</td>\n",
       "      <td>7</td>\n",
       "      <td>-2</td>\n",
       "    </tr>\n",
       "    <tr>\n",
       "      <th>14</th>\n",
       "      <td>Mato   Grosso</td>\n",
       "      <td>6</td>\n",
       "      <td>9</td>\n",
       "      <td>-3</td>\n",
       "    </tr>\n",
       "    <tr>\n",
       "      <th>15</th>\n",
       "      <td>Pará</td>\n",
       "      <td>16</td>\n",
       "      <td>100</td>\n",
       "      <td>-84</td>\n",
       "    </tr>\n",
       "    <tr>\n",
       "      <th>16</th>\n",
       "      <td>Paraíba</td>\n",
       "      <td>23</td>\n",
       "      <td>49</td>\n",
       "      <td>-26</td>\n",
       "    </tr>\n",
       "    <tr>\n",
       "      <th>17</th>\n",
       "      <td>Pernambuco</td>\n",
       "      <td>159</td>\n",
       "      <td>415</td>\n",
       "      <td>-256</td>\n",
       "    </tr>\n",
       "    <tr>\n",
       "      <th>18</th>\n",
       "      <td>Piauí</td>\n",
       "      <td>4</td>\n",
       "      <td>18</td>\n",
       "      <td>-14</td>\n",
       "    </tr>\n",
       "    <tr>\n",
       "      <th>19</th>\n",
       "      <td>Paraná</td>\n",
       "      <td>78</td>\n",
       "      <td>72</td>\n",
       "      <td>6</td>\n",
       "    </tr>\n",
       "    <tr>\n",
       "      <th>20</th>\n",
       "      <td>Rio   de   Janeiro</td>\n",
       "      <td>1.140</td>\n",
       "      <td>645</td>\n",
       "      <td>495</td>\n",
       "    </tr>\n",
       "    <tr>\n",
       "      <th>21</th>\n",
       "      <td>Rio   Grande   do   Norte</td>\n",
       "      <td>15</td>\n",
       "      <td>44</td>\n",
       "      <td>-29</td>\n",
       "    </tr>\n",
       "    <tr>\n",
       "      <th>22</th>\n",
       "      <td>Rondônia</td>\n",
       "      <td>10</td>\n",
       "      <td>10</td>\n",
       "      <td>0</td>\n",
       "    </tr>\n",
       "    <tr>\n",
       "      <th>23</th>\n",
       "      <td>Roraima</td>\n",
       "      <td>2</td>\n",
       "      <td>4</td>\n",
       "      <td>-2</td>\n",
       "    </tr>\n",
       "    <tr>\n",
       "      <th>24</th>\n",
       "      <td>Rio   Grande   do   Sul</td>\n",
       "      <td>44</td>\n",
       "      <td>35</td>\n",
       "      <td>9</td>\n",
       "    </tr>\n",
       "    <tr>\n",
       "      <th>25</th>\n",
       "      <td>Santa   Catarina</td>\n",
       "      <td>41</td>\n",
       "      <td>42</td>\n",
       "      <td>-1</td>\n",
       "    </tr>\n",
       "    <tr>\n",
       "      <th>26</th>\n",
       "      <td>Sergipe</td>\n",
       "      <td>3</td>\n",
       "      <td>9</td>\n",
       "      <td>-6</td>\n",
       "    </tr>\n",
       "    <tr>\n",
       "      <th>27</th>\n",
       "      <td>São   Paulo</td>\n",
       "      <td>2.007</td>\n",
       "      <td>1.700</td>\n",
       "      <td>307</td>\n",
       "    </tr>\n",
       "    <tr>\n",
       "      <th>28</th>\n",
       "      <td>Tocantins</td>\n",
       "      <td>1</td>\n",
       "      <td>2</td>\n",
       "      <td>-1</td>\n",
       "    </tr>\n",
       "    <tr>\n",
       "      <th>29</th>\n",
       "      <td>Brasil</td>\n",
       "      <td>4.462</td>\n",
       "      <td>4.205</td>\n",
       "      <td>257</td>\n",
       "    </tr>\n",
       "  </tbody>\n",
       "</table>\n",
       "</div>"
      ],
      "text/plain": [
       "                            0                                     1  \\\n",
       "0    Unidade   da   Federação  Óbitos   por   COVID-19*   em   2020   \n",
       "1                        None                        CRC   Nacional   \n",
       "2                        Acre                                     6   \n",
       "3                     Alagoas                                    18   \n",
       "4                    Amazonas                                   170   \n",
       "5                       Amapá                                     0   \n",
       "6                       Bahia                                    23   \n",
       "7                       Ceará                                   315   \n",
       "8          Distrito   Federal                                    46   \n",
       "9            Espírito   Santo                                    50   \n",
       "10                      Goiás                                    56   \n",
       "11                   Maranhão                                    81   \n",
       "12             Minas   Gerais                                   143   \n",
       "13   Mato   Grosso   do   Sul                                     5   \n",
       "14              Mato   Grosso                                     6   \n",
       "15                       Pará                                    16   \n",
       "16                    Paraíba                                    23   \n",
       "17                 Pernambuco                                   159   \n",
       "18                      Piauí                                     4   \n",
       "19                     Paraná                                    78   \n",
       "20         Rio   de   Janeiro                                 1.140   \n",
       "21  Rio   Grande   do   Norte                                    15   \n",
       "22                   Rondônia                                    10   \n",
       "23                    Roraima                                     2   \n",
       "24    Rio   Grande   do   Sul                                    44   \n",
       "25           Santa   Catarina                                    41   \n",
       "26                    Sergipe                                     3   \n",
       "27                São   Paulo                                 2.007   \n",
       "28                  Tocantins                                     1   \n",
       "29                     Brasil                                 4.462   \n",
       "\n",
       "                          2            3  \n",
       "0                      None         None  \n",
       "1   Ministério   da   Saúde  Diferença**  \n",
       "2                        11           -5  \n",
       "3                        32          -14  \n",
       "4                       304         -134  \n",
       "5                        21          -21  \n",
       "6                        73          -50  \n",
       "7                       327          -12  \n",
       "8                        27           19  \n",
       "9                        51           -1  \n",
       "10                       25           31  \n",
       "11                      112          -31  \n",
       "12                       61           82  \n",
       "13                        7           -2  \n",
       "14                        9           -3  \n",
       "15                      100          -84  \n",
       "16                       49          -26  \n",
       "17                      415         -256  \n",
       "18                       18          -14  \n",
       "19                       72            6  \n",
       "20                      645          495  \n",
       "21                       44          -29  \n",
       "22                       10            0  \n",
       "23                        4           -2  \n",
       "24                       35            9  \n",
       "25                       42           -1  \n",
       "26                        9           -6  \n",
       "27                    1.700          307  \n",
       "28                        2           -1  \n",
       "29                    4.205          257  "
      ]
     },
     "execution_count": 40,
     "metadata": {},
     "output_type": "execute_result"
    }
   ],
   "source": [
    "pd.DataFrame(page9.extract_tables()[1])"
   ]
  },
  {
   "cell_type": "code",
   "execution_count": null,
   "metadata": {
    "collapsed": true
   },
   "outputs": [],
   "source": []
  },
  {
   "cell_type": "markdown",
   "metadata": {},
   "source": [
    "### For each page, get the Table and Figure subtitle:"
   ]
  },
  {
   "cell_type": "markdown",
   "metadata": {},
   "source": [
    "File: 2020-04-27, page 28 has 2 tables:"
   ]
  },
  {
   "cell_type": "code",
   "execution_count": 41,
   "metadata": {
    "collapsed": true
   },
   "outputs": [],
   "source": [
    "page28 = pdf.pages[27]"
   ]
  },
  {
   "cell_type": "code",
   "execution_count": 54,
   "metadata": {
    "collapsed": false
   },
   "outputs": [
    {
     "data": {
      "text/plain": [
       "4"
      ]
     },
     "execution_count": 54,
     "metadata": {},
     "output_type": "execute_result"
    }
   ],
   "source": [
    "len(page28.extract_tables()[0])"
   ]
  },
  {
   "cell_type": "code",
   "execution_count": 65,
   "metadata": {
    "collapsed": false
   },
   "outputs": [
    {
     "name": "stdout",
     "output_type": "stream",
     "text": [
      "Tabela   9:    Distribuição   dos   casos   de   Síndrome   Respiratória   Aguda   Grave   (SRAG)   segundo   faixa   etária   e  \n",
      "fatores   de   risco/comorbidades.   Brasil,   2020.  \n",
      "Fatores   de   risco/comorbidades  \n",
      "Casos   de   Taxa   de  \n",
      "Faixa   etária   SRAG   no   hospitalização   Doenças   crônicas2   \n",
      "(anos)   População1    SGIrVipEeP     (podre   1   h   mabil.h)  ão   Sem   1   2+   ImImuunnooddeeﬁpcriêensscãiao/     GPeusétrapnetrea/3      Obesidade  \n",
      "registro  \n",
      "0   a   9   28.918.854   9.587   331,5   7.634   1.661   292   240   ---   7  \n",
      "10   a   19   32.974.096   1.807   54,8   1.285   443   79   116   193   26  \n",
      "20   a   29   33.996.173   4.345   127,8   3.431   755   159   208   509   96  \n",
      "30   a   39   34.503.246   7.780   225,5   5.846   1.555   379   410   419   268  \n",
      "40   a   49   28.746.122   8.982   312,5   5.733   2.344   905   477   59   349  \n",
      "50   a   59   23.377.297   10.217   437,0   5.067   3.219   1.931   593   22   362  \n",
      "60   a   69   15.946.086   10.439   654,6   3.859   3.614   2.966   558   ---   285  \n",
      "70   a   79   8.236.034   9.118   1107,1   2.662   3.305   3.151   465   ---   213  \n",
      "80+   3.961.105   7.789   1966,4   2.123   2.973   2.693   257   ---   91  \n",
      "TOTAL   210.659.013   70.064   332,6   37.640   19.869   12.555   3.324   1.202   1.697  \n",
      "Fonte:   Sistema   de   Informação   de   Vigilância   da   Gripe.   Dados   atualizados   em   26   de   abril   de   2020   às   14h,   sujeitos   a   revisões.  \n",
      "1  Projeção   da   população   do   Brasil   e   Unidades   da   Federação   por   sexo   e   idade   para   o   período   2000-2030.   2  Inclui   doença   cardiovascular   crônica,   doença   hematológica  \n",
      "crônica,   doença   hepática   crônica,   asma,   diabetes   mellitus,   doença   neurológica   crônica,   pneumopatia   crônica   e   doença   renal   crônica.    3  P  uérpera   até   45   dias   do   parto.  \n",
      " \n",
      " \n",
      "Tabela   10:  Distribuição   dos   casos   de   Síndrome   Respiratória   Aguda   Grave   (SRAG)   com   conﬁrmação   de  \n",
      "doença   pelo   coronavírus   2019   (COVID-19)   segundo   faixa   etária   e   fatores   de   risco/comorbidades.   Brasil,  \n",
      "2020.  \n",
      "Fatores   de   risco/comorbidades  \n",
      "Casos   de   Taxa   de  \n",
      "Faixa   etária   SRAG   com   hospitalização   Doenças   crônicas2   \n",
      "(anos)   População1    cdoen   CﬁOrmVIaDç-1ã9o    (por   1h   mabil.h)  ão   de   Sem   1   2+   ImImuunnooddeeﬁpcrieêsnscãiao/     GPeusétrapnetrea/3      Obesidade  \n",
      "registro  \n",
      "0   a   9   28.918.854   176   6,1   135   32   9   9   ---   ---  \n",
      "10   a   19   32.974.096   78   2,4   54   17   7   6   11   1  \n",
      "20   a   29   33.996.173   526   15,5   432   80   14   22   48   22  \n",
      "30   a   39   34.503.246   1.648   47,8   13   275   73   36   51   72  \n",
      "40   a   49   28.746.122   2.239   77,9   1.481   557   201   68   8   105  \n",
      "50   a   59   23.377.297   2.604   111,4   1.362   813   429   95   3   133  \n",
      "60   a   69   15.946.086   2.526   158,4   972   879   675   110   ---   72  \n",
      "70   a   79   8.236.034   1.932   234,6   619   643   670   92   ---   50  \n",
      "80+   3.961.105   1.454   367,1   366   523   565   46   ---   24  \n",
      "TOTAL   210.659.013   13.183   62,6   5.434   3.819   2.643   484   121   479  \n",
      "Fonte:   Sistema   de   Informação   de   Vigilância   da   Gripe.   Dados   atualizados   em   26   de   abril   de   2020   às   14h,   sujeitos   a   revisões.  \n",
      "1  Projeção   da   população   do   Brasil   e   Unidades   da   Federação   por   sexo   e   idade   para   o   período   2000-2030.   2  Inclui   doença   cardiovascular   crônica,   doença   hematológica  \n",
      "crônica,   doença   hepática   crônica,   asma,   diabetes   mellitus,   doença   neurológica   crônica,   pneumopatia   crônica   e   doença   renal   crônica.    3  P  uérpera   até   45   dias   do   parto.  \n",
      " \n",
      "LABORATÓRIO  \n",
      "Em   2020,   até   o   dia   26   de   abril,   foram   registrados   360.005   exames   no   Sistema   Gerenciador   de   Ambiente  \n",
      "Laboratorial   (GAL),   dos   quais   224.196   (62,3%)   já   haviam   sido   realizados.   Entre   os   demais   exames,   43.803  \n",
      "BOLETIM   EPIDEMIOLÓGICO   ESPECIAL    -   14   |     SE   18   -   26   de   abril   de   2020                                28\n"
     ]
    }
   ],
   "source": [
    "print(page28.extract_tables()[0][2][0])"
   ]
  },
  {
   "cell_type": "code",
   "execution_count": null,
   "metadata": {
    "collapsed": true
   },
   "outputs": [],
   "source": [
    "print(page9.extract_tables()[0][2][0])"
   ]
  },
  {
   "cell_type": "code",
   "execution_count": 66,
   "metadata": {
    "collapsed": false
   },
   "outputs": [
    {
     "data": {
      "text/plain": [
       "[<pdfplumber.table.Table at 0x7fe2fd05b128>,\n",
       " <pdfplumber.table.Table at 0x7fe2fd05ba90>]"
      ]
     },
     "execution_count": 66,
     "metadata": {},
     "output_type": "execute_result"
    }
   ],
   "source": [
    "page9.find_tables()"
   ]
  },
  {
   "cell_type": "code",
   "execution_count": 70,
   "metadata": {
    "collapsed": false
   },
   "outputs": [],
   "source": [
    "teste = pd.read_csv('covid_saude_gov_br/20200504_2000.csv', sep=';')"
   ]
  },
  {
   "cell_type": "code",
   "execution_count": 71,
   "metadata": {
    "collapsed": false
   },
   "outputs": [
    {
     "data": {
      "text/html": [
       "<div>\n",
       "<style scoped>\n",
       "    .dataframe tbody tr th:only-of-type {\n",
       "        vertical-align: middle;\n",
       "    }\n",
       "\n",
       "    .dataframe tbody tr th {\n",
       "        vertical-align: top;\n",
       "    }\n",
       "\n",
       "    .dataframe thead th {\n",
       "        text-align: right;\n",
       "    }\n",
       "</style>\n",
       "<table border=\"1\" class=\"dataframe\">\n",
       "  <thead>\n",
       "    <tr style=\"text-align: right;\">\n",
       "      <th></th>\n",
       "      <th>regiao</th>\n",
       "      <th>estado</th>\n",
       "      <th>data</th>\n",
       "      <th>casosNovos</th>\n",
       "      <th>casosAcumulados</th>\n",
       "      <th>obitosNovos</th>\n",
       "      <th>obitosAcumulados</th>\n",
       "    </tr>\n",
       "  </thead>\n",
       "  <tbody>\n",
       "    <tr>\n",
       "      <th>0</th>\n",
       "      <td>Norte</td>\n",
       "      <td>RO</td>\n",
       "      <td>2020-01-30</td>\n",
       "      <td>0</td>\n",
       "      <td>0</td>\n",
       "      <td>0</td>\n",
       "      <td>0</td>\n",
       "    </tr>\n",
       "    <tr>\n",
       "      <th>1</th>\n",
       "      <td>Norte</td>\n",
       "      <td>RO</td>\n",
       "      <td>2020-01-31</td>\n",
       "      <td>0</td>\n",
       "      <td>0</td>\n",
       "      <td>0</td>\n",
       "      <td>0</td>\n",
       "    </tr>\n",
       "    <tr>\n",
       "      <th>2</th>\n",
       "      <td>Norte</td>\n",
       "      <td>RO</td>\n",
       "      <td>2020-02-01</td>\n",
       "      <td>0</td>\n",
       "      <td>0</td>\n",
       "      <td>0</td>\n",
       "      <td>0</td>\n",
       "    </tr>\n",
       "    <tr>\n",
       "      <th>3</th>\n",
       "      <td>Norte</td>\n",
       "      <td>RO</td>\n",
       "      <td>2020-02-02</td>\n",
       "      <td>0</td>\n",
       "      <td>0</td>\n",
       "      <td>0</td>\n",
       "      <td>0</td>\n",
       "    </tr>\n",
       "    <tr>\n",
       "      <th>4</th>\n",
       "      <td>Norte</td>\n",
       "      <td>RO</td>\n",
       "      <td>2020-02-03</td>\n",
       "      <td>0</td>\n",
       "      <td>0</td>\n",
       "      <td>0</td>\n",
       "      <td>0</td>\n",
       "    </tr>\n",
       "    <tr>\n",
       "      <th>...</th>\n",
       "      <td>...</td>\n",
       "      <td>...</td>\n",
       "      <td>...</td>\n",
       "      <td>...</td>\n",
       "      <td>...</td>\n",
       "      <td>...</td>\n",
       "      <td>...</td>\n",
       "    </tr>\n",
       "    <tr>\n",
       "      <th>2587</th>\n",
       "      <td>Centro-Oeste</td>\n",
       "      <td>DF</td>\n",
       "      <td>2020-04-30</td>\n",
       "      <td>81</td>\n",
       "      <td>1356</td>\n",
       "      <td>2</td>\n",
       "      <td>30</td>\n",
       "    </tr>\n",
       "    <tr>\n",
       "      <th>2588</th>\n",
       "      <td>Centro-Oeste</td>\n",
       "      <td>DF</td>\n",
       "      <td>2020-05-01</td>\n",
       "      <td>110</td>\n",
       "      <td>1466</td>\n",
       "      <td>0</td>\n",
       "      <td>30</td>\n",
       "    </tr>\n",
       "    <tr>\n",
       "      <th>2589</th>\n",
       "      <td>Centro-Oeste</td>\n",
       "      <td>DF</td>\n",
       "      <td>2020-05-02</td>\n",
       "      <td>100</td>\n",
       "      <td>1566</td>\n",
       "      <td>1</td>\n",
       "      <td>31</td>\n",
       "    </tr>\n",
       "    <tr>\n",
       "      <th>2590</th>\n",
       "      <td>Centro-Oeste</td>\n",
       "      <td>DF</td>\n",
       "      <td>2020-05-03</td>\n",
       "      <td>83</td>\n",
       "      <td>1649</td>\n",
       "      <td>2</td>\n",
       "      <td>33</td>\n",
       "    </tr>\n",
       "    <tr>\n",
       "      <th>2591</th>\n",
       "      <td>Centro-Oeste</td>\n",
       "      <td>DF</td>\n",
       "      <td>2020-05-04</td>\n",
       "      <td>119</td>\n",
       "      <td>1768</td>\n",
       "      <td>0</td>\n",
       "      <td>33</td>\n",
       "    </tr>\n",
       "  </tbody>\n",
       "</table>\n",
       "<p>2592 rows × 7 columns</p>\n",
       "</div>"
      ],
      "text/plain": [
       "            regiao estado        data  casosNovos  casosAcumulados  \\\n",
       "0            Norte     RO  2020-01-30           0                0   \n",
       "1            Norte     RO  2020-01-31           0                0   \n",
       "2            Norte     RO  2020-02-01           0                0   \n",
       "3            Norte     RO  2020-02-02           0                0   \n",
       "4            Norte     RO  2020-02-03           0                0   \n",
       "...            ...    ...         ...         ...              ...   \n",
       "2587  Centro-Oeste     DF  2020-04-30          81             1356   \n",
       "2588  Centro-Oeste     DF  2020-05-01         110             1466   \n",
       "2589  Centro-Oeste     DF  2020-05-02         100             1566   \n",
       "2590  Centro-Oeste     DF  2020-05-03          83             1649   \n",
       "2591  Centro-Oeste     DF  2020-05-04         119             1768   \n",
       "\n",
       "      obitosNovos  obitosAcumulados  \n",
       "0               0                 0  \n",
       "1               0                 0  \n",
       "2               0                 0  \n",
       "3               0                 0  \n",
       "4               0                 0  \n",
       "...           ...               ...  \n",
       "2587            2                30  \n",
       "2588            0                30  \n",
       "2589            1                31  \n",
       "2590            2                33  \n",
       "2591            0                33  \n",
       "\n",
       "[2592 rows x 7 columns]"
      ]
     },
     "execution_count": 71,
     "metadata": {},
     "output_type": "execute_result"
    }
   ],
   "source": [
    "teste"
   ]
  },
  {
   "cell_type": "code",
   "execution_count": null,
   "metadata": {
    "collapsed": true
   },
   "outputs": [],
   "source": []
  }
 ],
 "metadata": {
  "kernelspec": {
   "display_name": "Python 3",
   "language": "python",
   "name": "python3"
  },
  "language_info": {
   "codemirror_mode": {
    "name": "ipython",
    "version": 3
   },
   "file_extension": ".py",
   "mimetype": "text/x-python",
   "name": "python",
   "nbconvert_exporter": "python",
   "pygments_lexer": "ipython3",
   "version": "3.6.8"
  }
 },
 "nbformat": 4,
 "nbformat_minor": 2
}
