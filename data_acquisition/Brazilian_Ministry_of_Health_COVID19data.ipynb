{
 "cells": [
  {
   "cell_type": "markdown",
   "metadata": {
    "deletable": true,
    "editable": true
   },
   "source": [
    "# Exploring COVID-19 numbers: the data acquisition process"
   ]
  },
  {
   "cell_type": "markdown",
   "metadata": {
    "deletable": true,
    "editable": true
   },
   "source": [
    "### Environment log:"
   ]
  },
  {
   "cell_type": "markdown",
   "metadata": {
    "deletable": true,
    "editable": true
   },
   "source": [
    "(1) Using the \"analytics3\" anaconda environment; installing python packages directly through *pip* command.  \n",
    "(2) Installed *pyvirtualenv*, *selenium*, and *[bs4](https://www.crummy.com/software/BeautifulSoup/bs4/doc/#)* packages.  \n",
    "(3) Installed *chromedriver* through \"pip install chromedriver\".  \n",
    "\n",
    "(4) Got this error when initializing the Display function:\n",
    "> display = Display(visible=0, size=(800,600))\n",
    "> display.start()  \n",
    ">> FileNotFoundError: [Errno 2] No such file or directory: 'Xvfb': 'Xvfb'\n",
    ">> EasyProcessError: start error EasyProcess cmd_param=['Xvfb', '-help'] cmd=['Xvfb', '-help'] oserror=[Errno 2] No such file or directory: 'Xvfb': 'Xvfb' return_code=None stdout=\"None\" stderr=\"None\" timeout_happened=False>\n",
    "\n",
    "**Solution found in: https://bugs.debian.org/cgi-bin/bugreport.cgi?bug=860501**   \n",
    " \n",
    "(5) Installed the system package xvfb through the shell line: *sudo apt-get install xvfb*.\n",
    "\n",
    "- When running the \"driver = webdriver.Chrome()\" python command, I received the following error:  \n",
    "> driver = webdriver.Chrome()\n",
    ">> FileNotFoundError: [Errno 2] No such file or directory: 'chromedriver': 'chromedriver'  \n",
    "\n",
    "(6) Even though, since I'm using conda environment I have set the chromedriver path before:  \n",
    "> chromeDriverPath = '~/anaconda3/envs/anaytics3/'\n",
    "\n",
    "The solution was to create a symbolic link in the path shown above, through the system bash, which made it work properly:  \n",
    "> $ ln -s ~/anaconda3/envs/analytics3/chromedriver-Linux64 chromedriver  \n",
    "\n",
    "(7) There are some broken links in the BMH oficial page: it misses the \"https://portalarquivos.saude.gov.br/\" portion of the link. We defined a function to address this issue.\n"
   ]
  },
  {
   "cell_type": "markdown",
   "metadata": {
    "deletable": true,
    "editable": true
   },
   "source": [
    "## Epidemiological bulletins from World Health Organization - WHO\n",
    "https://www.who.int/emergencies/diseases/novel-coronavirus-2019/situation-reports/  \n",
    "https://github.com/danielsteman/COVID-19_WHO  \n",
    "https://github.com/danielsteman/COVID-19_WHO/blob/master/WHO_webscrape.ipynb (the author uses PyPDF2)"
   ]
  },
  {
   "cell_type": "markdown",
   "metadata": {
    "deletable": true,
    "editable": true
   },
   "source": [
    "## Epidemiological bulletins from Brazilian Ministry of Health\n",
    "https://www.saude.gov.br/boletins-epidemiologicos\n",
    "  - Coronavírus/COVID-19  \n",
    "  - Dengue"
   ]
  },
  {
   "cell_type": "markdown",
   "metadata": {
    "deletable": true,
    "editable": true
   },
   "source": [
    "## COVID-19 pandemic: official dashboard of the Ministry of Health of Brazil\n",
    "https://covid.saude.gov.br/"
   ]
  },
  {
   "cell_type": "markdown",
   "metadata": {
    "deletable": true,
    "editable": true
   },
   "source": [
    "### Initial statements"
   ]
  },
  {
   "cell_type": "code",
   "execution_count": 1,
   "metadata": {
    "collapsed": false,
    "deletable": true,
    "editable": true
   },
   "outputs": [],
   "source": [
    "from pyvirtualdisplay import Display\n",
    "from selenium import webdriver\n",
    "\n",
    "## BeautifulSoup - BeautifulSoup is not needed at this time, since there's no parsing.\n",
    "#from bs4 import "
   ]
  },
  {
   "cell_type": "code",
   "execution_count": 2,
   "metadata": {
    "collapsed": true,
    "deletable": true,
    "editable": true
   },
   "outputs": [],
   "source": [
    "# Definição de parâmetros\n",
    "url = 'https://covid.saude.gov.br'\n",
    "chromeDriverPath = '~/anaconda3/envs/analytics3/'\n",
    "firefoxDriverPath = '~/anaconda3/envs/analytics3/'"
   ]
  },
  {
   "cell_type": "markdown",
   "metadata": {
    "deletable": true,
    "editable": true
   },
   "source": [
    "### Web browsing"
   ]
  },
  {
   "cell_type": "markdown",
   "metadata": {
    "deletable": true,
    "editable": true
   },
   "source": [
    "In this step of our data crawling we want to access the webpage through the Chromium driver. It is then appropriate to create some functions both for the page access as for its content analysis. However, it would be only possible if we know the page structure. In order to reach it, at this time we will try to read and explore it, trying to find the patterns and links we are looking for."
   ]
  },
  {
   "cell_type": "code",
   "execution_count": 3,
   "metadata": {
    "collapsed": false,
    "deletable": true,
    "editable": true
   },
   "outputs": [
    {
     "data": {
      "text/plain": [
       "<Display cmd_param=['Xvfb', '-br', '-nolisten', 'tcp', '-screen', '0', '800x600x24', ':1021'] cmd=['Xvfb', '-br', '-nolisten', 'tcp', '-screen', '0', '800x600x24', ':1021'] oserror=None return_code=None stdout=\"None\" stderr=\"None\" timeout_happened=False>"
      ]
     },
     "execution_count": 3,
     "metadata": {},
     "output_type": "execute_result"
    }
   ],
   "source": [
    "# Display starting:\n",
    "display = Display(visible=0, size=(800,600))\n",
    "display.start()"
   ]
  },
  {
   "cell_type": "code",
   "execution_count": 4,
   "metadata": {
    "collapsed": true,
    "deletable": true,
    "editable": true
   },
   "outputs": [],
   "source": [
    "# Open the Chromium.driver for the intended page:\n",
    "driver = webdriver.Chrome()"
   ]
  },
  {
   "cell_type": "code",
   "execution_count": 5,
   "metadata": {
    "collapsed": true,
    "deletable": true,
    "editable": true
   },
   "outputs": [],
   "source": [
    "# Reading the page content and saving it specifying its encoding scheme:\n",
    "driver.get(url)\n",
    "page = driver.page_source.encode('utf-8')"
   ]
  },
  {
   "cell_type": "markdown",
   "metadata": {
    "deletable": true,
    "editable": true
   },
   "source": [
    "### Initial exploration"
   ]
  },
  {
   "cell_type": "code",
   "execution_count": 6,
   "metadata": {
    "collapsed": false,
    "deletable": true,
    "editable": true
   },
   "outputs": [
    {
     "name": "stdout",
     "output_type": "stream",
     "text": [
      "121907\n",
      "<class 'bytes'>\n"
     ]
    }
   ],
   "source": [
    "# How large is the loaded page?\n",
    "print(len(page))\n",
    "# Data streaming type is expected:\n",
    "print(type(page))"
   ]
  },
  {
   "cell_type": "code",
   "execution_count": 7,
   "metadata": {
    "collapsed": false,
    "deletable": true,
    "editable": true
   },
   "outputs": [
    {
     "name": "stdout",
     "output_type": "stream",
     "text": [
      "b'<!DOCTYPE html><html xmlns=\"http://www.w3.org/1999/xhtml\" lang=\"en\" class=\"plt-phablet plt-desktop md hydrated\" mode=\"md\"><head>\\n    <meta charset=\"utf-8\" /><style data-styles=\"\">ion-select-popover,ion-select,ion-select-option,ion-menu-button,ion-menu,ion-menu-toggle,ion-action-sheet,ion-fab-button,ion-fab,ion-fab-list,ion-refresher-content,ion-refresher,ion-back-button,ion-backdrop,ion-alert,ion-loading,ion-toast,ion-card,ion-card-content,ion-card-header,ion-card-subtitle,ion-card-title,ion-item-option,ion-item-options,ion-item-sliding,ion-infinite-scroll-content,ion-infinite-scroll,ion-reorder,ion-reorder-group,ion-segment-button,ion-segment,ion-tab-button,ion-tab-bar,ion-chip,ion-modal,ion-popover,ion-searchbar,ion-app,ion-buttons,ion-content,ion-footer,ion-header,ion-router-outlet,ion-title,ion-toolbar,ion-route,ion-route-redirect,ion-router,ion-router-link,ion-avatar,ion-badge,ion-thumbnail,ion-col,ion-grid,ion-row,ion-nav,ion-nav-link,ion-slide,ion-slides,ion-checkbox,ion-img,ion-input,ion-progress-bar,ion-range,ion-split-pane,ion-text,ion-textarea,ion-toggle,ion-virtual-scroll,ion-picker,ion-datetime,ion-picker-column,ion-radio,ion-radio-group,ion-spinner,ion-ripple-effect,ion-button,ion-icon,ion-item-divider,ion-item-group,ion-note,ion-skeleton-text,ion-item,ion-label,ion-list,ion-list-header{visibility:hidden}.hydrated{visibility:inherit}</style>\\n    <title>Coronav\\xc3\\xadrus Brasil</title>\\n\\n    <base href=\"/\" />\\n\\n    <meta name=\"viewport\" content=\"viewport-fit=cover, width=device-width, initial-scale=1.0, minimum-scale=1.0, maximum-scale=1.0, user-scalable=no\" />\\n    <meta name=\"format-detection\" content=\"telephone=no\" />\\n    <meta name=\"msapplication-tap-highlight\" content=\"no\" />\\n    <style>html.plt-mobile ion-app{-webkit-user-select:none;-moz-user-select:none;-ms-user-select:none;user-select:none}ion-app.force-statusbar-padding{--ion-safe-area-top:20px}</style><style>ion-header{display:block;position:relative;-ms-flex-order:-1;order:-1;width:100%;z-index:10}i'\n"
     ]
    }
   ],
   "source": [
    "## Showing only the first 2k positions of the bytes stream:\n",
    "print(page[:2000])"
   ]
  },
  {
   "cell_type": "markdown",
   "metadata": {
    "deletable": true,
    "editable": true
   },
   "source": [
    "------------------"
   ]
  },
  {
   "cell_type": "markdown",
   "metadata": {
    "deletable": true,
    "editable": true
   },
   "source": [
    "Once the website is loaded, **BeautifulSoup is typically used to mine its content and explore links of interest**. In this case, however, **the new portal made available by BMH was created in Firebase**. That is, there is no link to the database, but a response to the action of clicking the button.\n",
    "\n",
    "Using Chrome's inspection tool, we can locate the element related to downloading the data and then emulate its click through the Selenium library."
   ]
  },
  {
   "cell_type": "code",
   "execution_count": 8,
   "metadata": {
    "collapsed": true,
    "deletable": true,
    "editable": true
   },
   "outputs": [],
   "source": [
    "## Path of the element from Chrome inspection tool:\n",
    "xpathElement = '/html/body/app-root/ion-app/ion-router-outlet/app-home/ion-content/div[1]/div[2]/ion-button'\n",
    "\n",
    "## Element corresponding to \"Arquivo CSV\" button:\n",
    "dataDownloader = driver.find_element_by_xpath(xpathElement)"
   ]
  },
  {
   "cell_type": "code",
   "execution_count": 9,
   "metadata": {
    "collapsed": true,
    "deletable": true,
    "editable": true
   },
   "outputs": [],
   "source": [
    "dataDownloader.click()"
   ]
  },
  {
   "cell_type": "markdown",
   "metadata": {
    "deletable": true,
    "editable": true
   },
   "source": [
    "The steps above allowed us to download the CSV file to the default downloading directory. An open issue from this script is to set the specific file destiny. There are some references saying Selenium does not support dialogue boxes. Other references explore ways to do it out:\n",
    "\n",
    "https://medium.com/@moungpeter/how-to-automate-downloading-files-using-python-selenium-and-headless-chrome-9014f0cdd196"
   ]
  },
  {
   "cell_type": "markdown",
   "metadata": {
    "deletable": true,
    "editable": true
   },
   "source": [
    "---------------------"
   ]
  },
  {
   "cell_type": "markdown",
   "metadata": {
    "deletable": true,
    "editable": true
   },
   "source": [
    "### Reading the downloaded CSV file:"
   ]
  },
  {
   "cell_type": "code",
   "execution_count": 10,
   "metadata": {
    "collapsed": true,
    "deletable": true,
    "editable": true
   },
   "outputs": [],
   "source": [
    "import os\n",
    "import glob"
   ]
  },
  {
   "cell_type": "markdown",
   "metadata": {
    "deletable": true,
    "editable": true
   },
   "source": [
    "To figure out how to select the last downloaded file in a directory, I used the code available in https://stackoverflow.com/questions/39327032/how-to-get-the-latest-file-in-a-folder-using-python."
   ]
  },
  {
   "cell_type": "code",
   "execution_count": 92,
   "metadata": {
    "collapsed": false,
    "deletable": true,
    "editable": true
   },
   "outputs": [
    {
     "name": "stdout",
     "output_type": "stream",
     "text": [
      "/home/tbnsilveira/Downloads/HIST_PAINEL_COVIDBR_21mai2020.xlsx\n"
     ]
    }
   ],
   "source": [
    "## Picking the last XLSX downloaded file:\n",
    "list_of_files = glob.glob('/home/tbnsilveira/Downloads/*.xlsx') # * means all if need specific format then *.csv\n",
    "latest_file = max(list_of_files, key=os.path.getctime)\n",
    "print(latest_file)"
   ]
  },
  {
   "cell_type": "code",
   "execution_count": 70,
   "metadata": {
    "collapsed": false
   },
   "outputs": [
    {
     "data": {
      "text/plain": [
       "'/home/tbnsilveira/Downloads/HIST_PAINEL_COVIDBR_20mai2020 (2).xlsx'"
      ]
     },
     "execution_count": 70,
     "metadata": {},
     "output_type": "execute_result"
    }
   ],
   "source": [
    "latest_file = list_of_files[2]\n",
    "latest_file"
   ]
  },
  {
   "cell_type": "code",
   "execution_count": 71,
   "metadata": {
    "collapsed": true,
    "deletable": true,
    "editable": true
   },
   "outputs": [],
   "source": [
    "import pandas as pd\n",
    "\n",
    "import matplotlib.pyplot as plt\n",
    "import seaborn as sns\n",
    "%matplotlib inline"
   ]
  },
  {
   "cell_type": "code",
   "execution_count": 93,
   "metadata": {
    "collapsed": false,
    "deletable": true,
    "editable": true
   },
   "outputs": [],
   "source": [
    "covidData = pd.read_excel(latest_file)"
   ]
  },
  {
   "cell_type": "code",
   "execution_count": 73,
   "metadata": {
    "collapsed": false,
    "deletable": true,
    "editable": true
   },
   "outputs": [
    {
     "data": {
      "text/html": [
       "<div>\n",
       "<style scoped>\n",
       "    .dataframe tbody tr th:only-of-type {\n",
       "        vertical-align: middle;\n",
       "    }\n",
       "\n",
       "    .dataframe tbody tr th {\n",
       "        vertical-align: top;\n",
       "    }\n",
       "\n",
       "    .dataframe thead th {\n",
       "        text-align: right;\n",
       "    }\n",
       "</style>\n",
       "<table border=\"1\" class=\"dataframe\">\n",
       "  <thead>\n",
       "    <tr style=\"text-align: right;\">\n",
       "      <th></th>\n",
       "      <th>regiao</th>\n",
       "      <th>estado</th>\n",
       "      <th>municipio</th>\n",
       "      <th>coduf</th>\n",
       "      <th>codmun</th>\n",
       "      <th>codRegiaoSaude</th>\n",
       "      <th>nomeRegiaoSaude</th>\n",
       "      <th>data</th>\n",
       "      <th>semanaEpi</th>\n",
       "      <th>populacaoTCU2019</th>\n",
       "      <th>casosAcumulado</th>\n",
       "      <th>obitosAcumulado</th>\n",
       "      <th>Recuperadosnovos</th>\n",
       "      <th>emAcompanhamentoNovos</th>\n",
       "    </tr>\n",
       "  </thead>\n",
       "  <tbody>\n",
       "    <tr>\n",
       "      <th>0</th>\n",
       "      <td>Brasil</td>\n",
       "      <td>NaN</td>\n",
       "      <td>NaN</td>\n",
       "      <td>76</td>\n",
       "      <td>NaN</td>\n",
       "      <td>NaN</td>\n",
       "      <td>NaN</td>\n",
       "      <td>2020-02-26</td>\n",
       "      <td>9</td>\n",
       "      <td>210147125.0</td>\n",
       "      <td>1</td>\n",
       "      <td>0</td>\n",
       "      <td>NaN</td>\n",
       "      <td>NaN</td>\n",
       "    </tr>\n",
       "    <tr>\n",
       "      <th>1</th>\n",
       "      <td>Brasil</td>\n",
       "      <td>NaN</td>\n",
       "      <td>NaN</td>\n",
       "      <td>76</td>\n",
       "      <td>NaN</td>\n",
       "      <td>NaN</td>\n",
       "      <td>NaN</td>\n",
       "      <td>2020-02-27</td>\n",
       "      <td>9</td>\n",
       "      <td>210147125.0</td>\n",
       "      <td>1</td>\n",
       "      <td>0</td>\n",
       "      <td>NaN</td>\n",
       "      <td>NaN</td>\n",
       "    </tr>\n",
       "    <tr>\n",
       "      <th>2</th>\n",
       "      <td>Brasil</td>\n",
       "      <td>NaN</td>\n",
       "      <td>NaN</td>\n",
       "      <td>76</td>\n",
       "      <td>NaN</td>\n",
       "      <td>NaN</td>\n",
       "      <td>NaN</td>\n",
       "      <td>2020-02-28</td>\n",
       "      <td>9</td>\n",
       "      <td>210147125.0</td>\n",
       "      <td>1</td>\n",
       "      <td>0</td>\n",
       "      <td>NaN</td>\n",
       "      <td>NaN</td>\n",
       "    </tr>\n",
       "    <tr>\n",
       "      <th>3</th>\n",
       "      <td>Brasil</td>\n",
       "      <td>NaN</td>\n",
       "      <td>NaN</td>\n",
       "      <td>76</td>\n",
       "      <td>NaN</td>\n",
       "      <td>NaN</td>\n",
       "      <td>NaN</td>\n",
       "      <td>2020-02-29</td>\n",
       "      <td>9</td>\n",
       "      <td>210147125.0</td>\n",
       "      <td>2</td>\n",
       "      <td>0</td>\n",
       "      <td>NaN</td>\n",
       "      <td>NaN</td>\n",
       "    </tr>\n",
       "    <tr>\n",
       "      <th>4</th>\n",
       "      <td>Brasil</td>\n",
       "      <td>NaN</td>\n",
       "      <td>NaN</td>\n",
       "      <td>76</td>\n",
       "      <td>NaN</td>\n",
       "      <td>NaN</td>\n",
       "      <td>NaN</td>\n",
       "      <td>2020-03-01</td>\n",
       "      <td>10</td>\n",
       "      <td>210147125.0</td>\n",
       "      <td>2</td>\n",
       "      <td>0</td>\n",
       "      <td>NaN</td>\n",
       "      <td>NaN</td>\n",
       "    </tr>\n",
       "    <tr>\n",
       "      <th>...</th>\n",
       "      <td>...</td>\n",
       "      <td>...</td>\n",
       "      <td>...</td>\n",
       "      <td>...</td>\n",
       "      <td>...</td>\n",
       "      <td>...</td>\n",
       "      <td>...</td>\n",
       "      <td>...</td>\n",
       "      <td>...</td>\n",
       "      <td>...</td>\n",
       "      <td>...</td>\n",
       "      <td>...</td>\n",
       "      <td>...</td>\n",
       "      <td>...</td>\n",
       "    </tr>\n",
       "    <tr>\n",
       "      <th>95911</th>\n",
       "      <td>Centro-Oeste</td>\n",
       "      <td>DF</td>\n",
       "      <td>Brasília</td>\n",
       "      <td>53</td>\n",
       "      <td>530010.0</td>\n",
       "      <td>53001.0</td>\n",
       "      <td>Brasília</td>\n",
       "      <td>2020-05-16</td>\n",
       "      <td>20</td>\n",
       "      <td>3015268.0</td>\n",
       "      <td>4140</td>\n",
       "      <td>56</td>\n",
       "      <td>NaN</td>\n",
       "      <td>NaN</td>\n",
       "    </tr>\n",
       "    <tr>\n",
       "      <th>95912</th>\n",
       "      <td>Centro-Oeste</td>\n",
       "      <td>DF</td>\n",
       "      <td>Brasília</td>\n",
       "      <td>53</td>\n",
       "      <td>530010.0</td>\n",
       "      <td>53001.0</td>\n",
       "      <td>Brasília</td>\n",
       "      <td>2020-05-17</td>\n",
       "      <td>21</td>\n",
       "      <td>3015268.0</td>\n",
       "      <td>4368</td>\n",
       "      <td>59</td>\n",
       "      <td>NaN</td>\n",
       "      <td>NaN</td>\n",
       "    </tr>\n",
       "    <tr>\n",
       "      <th>95913</th>\n",
       "      <td>Centro-Oeste</td>\n",
       "      <td>DF</td>\n",
       "      <td>Brasília</td>\n",
       "      <td>53</td>\n",
       "      <td>530010.0</td>\n",
       "      <td>53001.0</td>\n",
       "      <td>Brasília</td>\n",
       "      <td>2020-05-18</td>\n",
       "      <td>21</td>\n",
       "      <td>3015268.0</td>\n",
       "      <td>4619</td>\n",
       "      <td>66</td>\n",
       "      <td>NaN</td>\n",
       "      <td>NaN</td>\n",
       "    </tr>\n",
       "    <tr>\n",
       "      <th>95914</th>\n",
       "      <td>Centro-Oeste</td>\n",
       "      <td>DF</td>\n",
       "      <td>Brasília</td>\n",
       "      <td>53</td>\n",
       "      <td>530010.0</td>\n",
       "      <td>53001.0</td>\n",
       "      <td>Brasília</td>\n",
       "      <td>2020-05-19</td>\n",
       "      <td>21</td>\n",
       "      <td>3015268.0</td>\n",
       "      <td>4853</td>\n",
       "      <td>72</td>\n",
       "      <td>NaN</td>\n",
       "      <td>NaN</td>\n",
       "    </tr>\n",
       "    <tr>\n",
       "      <th>95915</th>\n",
       "      <td>Centro-Oeste</td>\n",
       "      <td>DF</td>\n",
       "      <td>Brasília</td>\n",
       "      <td>53</td>\n",
       "      <td>530010.0</td>\n",
       "      <td>53001.0</td>\n",
       "      <td>Brasília</td>\n",
       "      <td>2020-05-20</td>\n",
       "      <td>21</td>\n",
       "      <td>3015268.0</td>\n",
       "      <td>5161</td>\n",
       "      <td>77</td>\n",
       "      <td>NaN</td>\n",
       "      <td>NaN</td>\n",
       "    </tr>\n",
       "  </tbody>\n",
       "</table>\n",
       "<p>95916 rows × 14 columns</p>\n",
       "</div>"
      ],
      "text/plain": [
       "             regiao estado municipio  coduf    codmun  codRegiaoSaude  \\\n",
       "0            Brasil    NaN       NaN     76       NaN             NaN   \n",
       "1            Brasil    NaN       NaN     76       NaN             NaN   \n",
       "2            Brasil    NaN       NaN     76       NaN             NaN   \n",
       "3            Brasil    NaN       NaN     76       NaN             NaN   \n",
       "4            Brasil    NaN       NaN     76       NaN             NaN   \n",
       "...             ...    ...       ...    ...       ...             ...   \n",
       "95911  Centro-Oeste     DF  Brasília     53  530010.0         53001.0   \n",
       "95912  Centro-Oeste     DF  Brasília     53  530010.0         53001.0   \n",
       "95913  Centro-Oeste     DF  Brasília     53  530010.0         53001.0   \n",
       "95914  Centro-Oeste     DF  Brasília     53  530010.0         53001.0   \n",
       "95915  Centro-Oeste     DF  Brasília     53  530010.0         53001.0   \n",
       "\n",
       "      nomeRegiaoSaude        data  semanaEpi  populacaoTCU2019  \\\n",
       "0                 NaN  2020-02-26          9       210147125.0   \n",
       "1                 NaN  2020-02-27          9       210147125.0   \n",
       "2                 NaN  2020-02-28          9       210147125.0   \n",
       "3                 NaN  2020-02-29          9       210147125.0   \n",
       "4                 NaN  2020-03-01         10       210147125.0   \n",
       "...               ...         ...        ...               ...   \n",
       "95911        Brasília  2020-05-16         20         3015268.0   \n",
       "95912        Brasília  2020-05-17         21         3015268.0   \n",
       "95913        Brasília  2020-05-18         21         3015268.0   \n",
       "95914        Brasília  2020-05-19         21         3015268.0   \n",
       "95915        Brasília  2020-05-20         21         3015268.0   \n",
       "\n",
       "       casosAcumulado  obitosAcumulado  Recuperadosnovos  \\\n",
       "0                   1                0               NaN   \n",
       "1                   1                0               NaN   \n",
       "2                   1                0               NaN   \n",
       "3                   2                0               NaN   \n",
       "4                   2                0               NaN   \n",
       "...               ...              ...               ...   \n",
       "95911            4140               56               NaN   \n",
       "95912            4368               59               NaN   \n",
       "95913            4619               66               NaN   \n",
       "95914            4853               72               NaN   \n",
       "95915            5161               77               NaN   \n",
       "\n",
       "       emAcompanhamentoNovos  \n",
       "0                        NaN  \n",
       "1                        NaN  \n",
       "2                        NaN  \n",
       "3                        NaN  \n",
       "4                        NaN  \n",
       "...                      ...  \n",
       "95911                    NaN  \n",
       "95912                    NaN  \n",
       "95913                    NaN  \n",
       "95914                    NaN  \n",
       "95915                    NaN  \n",
       "\n",
       "[95916 rows x 14 columns]"
      ]
     },
     "execution_count": 73,
     "metadata": {},
     "output_type": "execute_result"
    }
   ],
   "source": [
    "covidData"
   ]
  },
  {
   "cell_type": "markdown",
   "metadata": {
    "deletable": true,
    "editable": true
   },
   "source": [
    "-----------------"
   ]
  },
  {
   "cell_type": "markdown",
   "metadata": {
    "deletable": true,
    "editable": true
   },
   "source": [
    "In the way this script was initialy built, it was important to remove the CSV file after reading it, thus preventing the most current versions from being downloaded under another name. However, in the second week of May, the BMH changed the file format to XLSX, thus requiring to adapt the script. In this case, I choose to read the last downloaded file, then keeping all the copies in my system. In the case you don't want these copies, you can just uncomment the line below:"
   ]
  },
  {
   "cell_type": "code",
   "execution_count": 74,
   "metadata": {
    "collapsed": false,
    "deletable": true,
    "editable": true
   },
   "outputs": [],
   "source": [
    "## In some situations you'll have to replace \"~/\" by the full local address (/home/user...)\n",
    "#os.remove(latest_file)"
   ]
  },
  {
   "cell_type": "markdown",
   "metadata": {
    "deletable": true,
    "editable": true
   },
   "source": [
    "------------------"
   ]
  },
  {
   "cell_type": "markdown",
   "metadata": {
    "deletable": true,
    "editable": true
   },
   "source": [
    "## Visualizing some data:"
   ]
  },
  {
   "cell_type": "code",
   "execution_count": 75,
   "metadata": {
    "collapsed": false,
    "deletable": true,
    "editable": true,
    "scrolled": false
   },
   "outputs": [
    {
     "data": {
      "text/html": [
       "<div>\n",
       "<style scoped>\n",
       "    .dataframe tbody tr th:only-of-type {\n",
       "        vertical-align: middle;\n",
       "    }\n",
       "\n",
       "    .dataframe tbody tr th {\n",
       "        vertical-align: top;\n",
       "    }\n",
       "\n",
       "    .dataframe thead th {\n",
       "        text-align: right;\n",
       "    }\n",
       "</style>\n",
       "<table border=\"1\" class=\"dataframe\">\n",
       "  <thead>\n",
       "    <tr style=\"text-align: right;\">\n",
       "      <th></th>\n",
       "      <th>regiao</th>\n",
       "      <th>estado</th>\n",
       "      <th>municipio</th>\n",
       "      <th>coduf</th>\n",
       "      <th>codmun</th>\n",
       "      <th>codRegiaoSaude</th>\n",
       "      <th>nomeRegiaoSaude</th>\n",
       "      <th>data</th>\n",
       "      <th>semanaEpi</th>\n",
       "      <th>populacaoTCU2019</th>\n",
       "      <th>casosAcumulado</th>\n",
       "      <th>obitosAcumulado</th>\n",
       "      <th>Recuperadosnovos</th>\n",
       "      <th>emAcompanhamentoNovos</th>\n",
       "    </tr>\n",
       "  </thead>\n",
       "  <tbody>\n",
       "    <tr>\n",
       "      <th>0</th>\n",
       "      <td>Brasil</td>\n",
       "      <td>NaN</td>\n",
       "      <td>NaN</td>\n",
       "      <td>76</td>\n",
       "      <td>NaN</td>\n",
       "      <td>NaN</td>\n",
       "      <td>NaN</td>\n",
       "      <td>2020-02-26</td>\n",
       "      <td>9</td>\n",
       "      <td>210147125.0</td>\n",
       "      <td>1</td>\n",
       "      <td>0</td>\n",
       "      <td>NaN</td>\n",
       "      <td>NaN</td>\n",
       "    </tr>\n",
       "    <tr>\n",
       "      <th>1</th>\n",
       "      <td>Brasil</td>\n",
       "      <td>NaN</td>\n",
       "      <td>NaN</td>\n",
       "      <td>76</td>\n",
       "      <td>NaN</td>\n",
       "      <td>NaN</td>\n",
       "      <td>NaN</td>\n",
       "      <td>2020-02-27</td>\n",
       "      <td>9</td>\n",
       "      <td>210147125.0</td>\n",
       "      <td>1</td>\n",
       "      <td>0</td>\n",
       "      <td>NaN</td>\n",
       "      <td>NaN</td>\n",
       "    </tr>\n",
       "    <tr>\n",
       "      <th>2</th>\n",
       "      <td>Brasil</td>\n",
       "      <td>NaN</td>\n",
       "      <td>NaN</td>\n",
       "      <td>76</td>\n",
       "      <td>NaN</td>\n",
       "      <td>NaN</td>\n",
       "      <td>NaN</td>\n",
       "      <td>2020-02-28</td>\n",
       "      <td>9</td>\n",
       "      <td>210147125.0</td>\n",
       "      <td>1</td>\n",
       "      <td>0</td>\n",
       "      <td>NaN</td>\n",
       "      <td>NaN</td>\n",
       "    </tr>\n",
       "    <tr>\n",
       "      <th>3</th>\n",
       "      <td>Brasil</td>\n",
       "      <td>NaN</td>\n",
       "      <td>NaN</td>\n",
       "      <td>76</td>\n",
       "      <td>NaN</td>\n",
       "      <td>NaN</td>\n",
       "      <td>NaN</td>\n",
       "      <td>2020-02-29</td>\n",
       "      <td>9</td>\n",
       "      <td>210147125.0</td>\n",
       "      <td>2</td>\n",
       "      <td>0</td>\n",
       "      <td>NaN</td>\n",
       "      <td>NaN</td>\n",
       "    </tr>\n",
       "    <tr>\n",
       "      <th>4</th>\n",
       "      <td>Brasil</td>\n",
       "      <td>NaN</td>\n",
       "      <td>NaN</td>\n",
       "      <td>76</td>\n",
       "      <td>NaN</td>\n",
       "      <td>NaN</td>\n",
       "      <td>NaN</td>\n",
       "      <td>2020-03-01</td>\n",
       "      <td>10</td>\n",
       "      <td>210147125.0</td>\n",
       "      <td>2</td>\n",
       "      <td>0</td>\n",
       "      <td>NaN</td>\n",
       "      <td>NaN</td>\n",
       "    </tr>\n",
       "    <tr>\n",
       "      <th>...</th>\n",
       "      <td>...</td>\n",
       "      <td>...</td>\n",
       "      <td>...</td>\n",
       "      <td>...</td>\n",
       "      <td>...</td>\n",
       "      <td>...</td>\n",
       "      <td>...</td>\n",
       "      <td>...</td>\n",
       "      <td>...</td>\n",
       "      <td>...</td>\n",
       "      <td>...</td>\n",
       "      <td>...</td>\n",
       "      <td>...</td>\n",
       "      <td>...</td>\n",
       "    </tr>\n",
       "    <tr>\n",
       "      <th>95911</th>\n",
       "      <td>Centro-Oeste</td>\n",
       "      <td>DF</td>\n",
       "      <td>Brasília</td>\n",
       "      <td>53</td>\n",
       "      <td>530010.0</td>\n",
       "      <td>53001.0</td>\n",
       "      <td>Brasília</td>\n",
       "      <td>2020-05-16</td>\n",
       "      <td>20</td>\n",
       "      <td>3015268.0</td>\n",
       "      <td>4140</td>\n",
       "      <td>56</td>\n",
       "      <td>NaN</td>\n",
       "      <td>NaN</td>\n",
       "    </tr>\n",
       "    <tr>\n",
       "      <th>95912</th>\n",
       "      <td>Centro-Oeste</td>\n",
       "      <td>DF</td>\n",
       "      <td>Brasília</td>\n",
       "      <td>53</td>\n",
       "      <td>530010.0</td>\n",
       "      <td>53001.0</td>\n",
       "      <td>Brasília</td>\n",
       "      <td>2020-05-17</td>\n",
       "      <td>21</td>\n",
       "      <td>3015268.0</td>\n",
       "      <td>4368</td>\n",
       "      <td>59</td>\n",
       "      <td>NaN</td>\n",
       "      <td>NaN</td>\n",
       "    </tr>\n",
       "    <tr>\n",
       "      <th>95913</th>\n",
       "      <td>Centro-Oeste</td>\n",
       "      <td>DF</td>\n",
       "      <td>Brasília</td>\n",
       "      <td>53</td>\n",
       "      <td>530010.0</td>\n",
       "      <td>53001.0</td>\n",
       "      <td>Brasília</td>\n",
       "      <td>2020-05-18</td>\n",
       "      <td>21</td>\n",
       "      <td>3015268.0</td>\n",
       "      <td>4619</td>\n",
       "      <td>66</td>\n",
       "      <td>NaN</td>\n",
       "      <td>NaN</td>\n",
       "    </tr>\n",
       "    <tr>\n",
       "      <th>95914</th>\n",
       "      <td>Centro-Oeste</td>\n",
       "      <td>DF</td>\n",
       "      <td>Brasília</td>\n",
       "      <td>53</td>\n",
       "      <td>530010.0</td>\n",
       "      <td>53001.0</td>\n",
       "      <td>Brasília</td>\n",
       "      <td>2020-05-19</td>\n",
       "      <td>21</td>\n",
       "      <td>3015268.0</td>\n",
       "      <td>4853</td>\n",
       "      <td>72</td>\n",
       "      <td>NaN</td>\n",
       "      <td>NaN</td>\n",
       "    </tr>\n",
       "    <tr>\n",
       "      <th>95915</th>\n",
       "      <td>Centro-Oeste</td>\n",
       "      <td>DF</td>\n",
       "      <td>Brasília</td>\n",
       "      <td>53</td>\n",
       "      <td>530010.0</td>\n",
       "      <td>53001.0</td>\n",
       "      <td>Brasília</td>\n",
       "      <td>2020-05-20</td>\n",
       "      <td>21</td>\n",
       "      <td>3015268.0</td>\n",
       "      <td>5161</td>\n",
       "      <td>77</td>\n",
       "      <td>NaN</td>\n",
       "      <td>NaN</td>\n",
       "    </tr>\n",
       "  </tbody>\n",
       "</table>\n",
       "<p>95916 rows × 14 columns</p>\n",
       "</div>"
      ],
      "text/plain": [
       "             regiao estado municipio  coduf    codmun  codRegiaoSaude  \\\n",
       "0            Brasil    NaN       NaN     76       NaN             NaN   \n",
       "1            Brasil    NaN       NaN     76       NaN             NaN   \n",
       "2            Brasil    NaN       NaN     76       NaN             NaN   \n",
       "3            Brasil    NaN       NaN     76       NaN             NaN   \n",
       "4            Brasil    NaN       NaN     76       NaN             NaN   \n",
       "...             ...    ...       ...    ...       ...             ...   \n",
       "95911  Centro-Oeste     DF  Brasília     53  530010.0         53001.0   \n",
       "95912  Centro-Oeste     DF  Brasília     53  530010.0         53001.0   \n",
       "95913  Centro-Oeste     DF  Brasília     53  530010.0         53001.0   \n",
       "95914  Centro-Oeste     DF  Brasília     53  530010.0         53001.0   \n",
       "95915  Centro-Oeste     DF  Brasília     53  530010.0         53001.0   \n",
       "\n",
       "      nomeRegiaoSaude        data  semanaEpi  populacaoTCU2019  \\\n",
       "0                 NaN  2020-02-26          9       210147125.0   \n",
       "1                 NaN  2020-02-27          9       210147125.0   \n",
       "2                 NaN  2020-02-28          9       210147125.0   \n",
       "3                 NaN  2020-02-29          9       210147125.0   \n",
       "4                 NaN  2020-03-01         10       210147125.0   \n",
       "...               ...         ...        ...               ...   \n",
       "95911        Brasília  2020-05-16         20         3015268.0   \n",
       "95912        Brasília  2020-05-17         21         3015268.0   \n",
       "95913        Brasília  2020-05-18         21         3015268.0   \n",
       "95914        Brasília  2020-05-19         21         3015268.0   \n",
       "95915        Brasília  2020-05-20         21         3015268.0   \n",
       "\n",
       "       casosAcumulado  obitosAcumulado  Recuperadosnovos  \\\n",
       "0                   1                0               NaN   \n",
       "1                   1                0               NaN   \n",
       "2                   1                0               NaN   \n",
       "3                   2                0               NaN   \n",
       "4                   2                0               NaN   \n",
       "...               ...              ...               ...   \n",
       "95911            4140               56               NaN   \n",
       "95912            4368               59               NaN   \n",
       "95913            4619               66               NaN   \n",
       "95914            4853               72               NaN   \n",
       "95915            5161               77               NaN   \n",
       "\n",
       "       emAcompanhamentoNovos  \n",
       "0                        NaN  \n",
       "1                        NaN  \n",
       "2                        NaN  \n",
       "3                        NaN  \n",
       "4                        NaN  \n",
       "...                      ...  \n",
       "95911                    NaN  \n",
       "95912                    NaN  \n",
       "95913                    NaN  \n",
       "95914                    NaN  \n",
       "95915                    NaN  \n",
       "\n",
       "[95916 rows x 14 columns]"
      ]
     },
     "execution_count": 75,
     "metadata": {},
     "output_type": "execute_result"
    }
   ],
   "source": [
    "covidData"
   ]
  },
  {
   "cell_type": "code",
   "execution_count": 76,
   "metadata": {
    "collapsed": false,
    "deletable": true,
    "editable": true
   },
   "outputs": [
    {
     "data": {
      "text/plain": [
       "regiao                        Brasil\n",
       "estado                           NaN\n",
       "municipio                        NaN\n",
       "coduf                             76\n",
       "codmun                           NaN\n",
       "codRegiaoSaude                   NaN\n",
       "nomeRegiaoSaude                  NaN\n",
       "data                      2020-05-20\n",
       "semanaEpi                         21\n",
       "populacaoTCU2019         2.10147e+08\n",
       "casosAcumulado                291579\n",
       "obitosAcumulado                18859\n",
       "Recuperadosnovos              116683\n",
       "emAcompanhamentoNovos         156037\n",
       "Name: 84, dtype: object"
      ]
     },
     "execution_count": 76,
     "metadata": {},
     "output_type": "execute_result"
    }
   ],
   "source": [
    "## Showing the line with the highest number of deaths:\n",
    "idx = covidData.obitosAcumulado.idxmax()\n",
    "covidData.iloc[idx]"
   ]
  },
  {
   "cell_type": "markdown",
   "metadata": {
    "deletable": true,
    "editable": true
   },
   "source": [
    "----------"
   ]
  },
  {
   "cell_type": "markdown",
   "metadata": {
    "deletable": true,
    "editable": true
   },
   "source": [
    "#### Exploring only SC municipalities"
   ]
  },
  {
   "cell_type": "code",
   "execution_count": 77,
   "metadata": {
    "collapsed": false,
    "deletable": true,
    "editable": true
   },
   "outputs": [],
   "source": [
    "covid_SC = covidData[covidData.estado == 'SC']"
   ]
  },
  {
   "cell_type": "code",
   "execution_count": 78,
   "metadata": {
    "collapsed": false,
    "deletable": true,
    "editable": true
   },
   "outputs": [
    {
     "data": {
      "text/plain": [
       "array([nan, 'Abelardo Luz', 'Agronômica', 'Água Doce', 'Águas de Chapecó',\n",
       "       'Águas Mornas', 'Alto Bela Vista', 'Anchieta', 'Anita Garibaldi',\n",
       "       'Antônio Carlos', 'Arabutã', 'Araquari', 'Araranguá', 'Armazém',\n",
       "       'Arvoredo', 'Atalanta', 'Aurora', 'Balneário Arroio do Silva',\n",
       "       'Balneário Camboriú', 'Balneário Barra do Sul',\n",
       "       'Balneário Gaivota', 'Barra Velha', 'Benedito Novo', 'Biguaçu',\n",
       "       'Blumenau', 'Bombinhas', 'Botuverá', 'Braço do Norte', 'Brusque',\n",
       "       'Caçador', 'Camboriú', 'Campo Erê', 'Campos Novos', 'Canelinha',\n",
       "       'Canoinhas', 'Capivari de Baixo', 'Catanduvas', 'Caxambu do Sul',\n",
       "       'Chapecó', 'Cocal do Sul', 'Concórdia', 'Cordilheira Alta',\n",
       "       'Coronel Freitas', 'Criciúma', 'Cunha Porã', 'Entre Rios',\n",
       "       'Faxinal dos Guedes', 'Florianópolis', 'Forquilhinha', 'Fraiburgo',\n",
       "       'Garopaba', 'Garuva', 'Gaspar', 'Governador Celso Ramos',\n",
       "       'Grão Pará', 'Gravatal', 'Guabiruba', 'Guaramirim', 'Guatambú',\n",
       "       \"Herval d'Oeste\", 'Ibicaré', 'Ibirama', 'Içara', 'Ilhota',\n",
       "       'Imbituba', 'Imbuia', 'Indaial', 'Ipira', 'Ipuaçu', 'Ipumirim',\n",
       "       'Irani', 'Irati', 'Itá', 'Itaiópolis', 'Itajaí', 'Itapema',\n",
       "       'Itapiranga', 'Ituporanga', 'Jaborá', 'Jacinto Machado',\n",
       "       'Jaguaruna', 'Jaraguá do Sul', 'Joaçaba', 'Joinville', 'Lages',\n",
       "       'Laguna', 'Lauro Muller', 'Lindóia do Sul', 'Luiz Alves',\n",
       "       'Luzerna', 'Mafra', 'Maracajá', 'Maravilha', 'Massaranduba',\n",
       "       'Meleiro', 'Mondaí', 'Morro da Fumaça', 'Morro Grande',\n",
       "       'Navegantes', 'Nova Erechim', 'Nova Itaberaba', 'Nova Trento',\n",
       "       'Nova Veneza', 'Orleans', 'Ouro', 'Paial', 'Palhoça', 'Palma Sola',\n",
       "       'Palmitos', 'Papanduva', 'Passo de Torres', 'Paulo Lopes',\n",
       "       'Pedras Grandes', 'Penha', 'Peritiba', 'Pescaria Brava',\n",
       "       'Petrolândia', 'Balneário Piçarras', 'Pinhalzinho', 'Piratuba',\n",
       "       'Planalto Alegre', 'Pomerode', 'Ponte Serrada', 'Porto Belo',\n",
       "       'Porto União', 'Pouso Redondo', 'Praia Grande',\n",
       "       'Presidente Castello Branco', 'Quilombo', 'Rancho Queimado',\n",
       "       'Rio do Oeste', 'Rio do Sul', 'Rio Fortuna', 'Rio Negrinho',\n",
       "       'Rio Rufino', 'Rodeio', 'Salete', 'Sangão', 'Santa Cecília',\n",
       "       'Santa Helena', 'Santa Rosa de Lima', 'Santa Rosa do Sul',\n",
       "       'Santo Amaro da Imperatriz', 'São Bernardino', 'São Bento do Sul',\n",
       "       'São Carlos', 'São Domingos', 'São Francisco do Sul',\n",
       "       'São João Batista', 'São João do Itaperiú', 'São José',\n",
       "       'São Lourenço do Oeste', 'São Ludgero', 'São Martinho',\n",
       "       'São Miguel do Oeste', 'São Pedro de Alcântara', 'Schroeder',\n",
       "       'Seara', 'Serra Alta', 'Siderópolis', 'Sombrio', 'Taió', 'Tangará',\n",
       "       'Tigrinhos', 'Tijucas', 'Timbé do Sul', 'Timbó', 'Três Barras',\n",
       "       'Treviso', 'Treze de Maio', 'Treze Tílias', 'Trombudo Central',\n",
       "       'Tubarão', 'Tunápolis', 'Turvo', 'Urussanga', 'Vargem',\n",
       "       'Vargem Bonita', 'Vidal Ramos', 'Videira', 'Xanxerê', 'Xavantina',\n",
       "       'Xaxim', 'Zortéa', 'Balneário Rincão'], dtype=object)"
      ]
     },
     "execution_count": 78,
     "metadata": {},
     "output_type": "execute_result"
    }
   ],
   "source": [
    "covid_SC.municipio.unique()"
   ]
  },
  {
   "cell_type": "code",
   "execution_count": 79,
   "metadata": {
    "collapsed": true,
    "deletable": true,
    "editable": true
   },
   "outputs": [],
   "source": [
    "sns.set_style(\"whitegrid\")"
   ]
  },
  {
   "cell_type": "code",
   "execution_count": 83,
   "metadata": {
    "collapsed": false
   },
   "outputs": [],
   "source": [
    "cidade = 'Florianópolis'"
   ]
  },
  {
   "cell_type": "code",
   "execution_count": 84,
   "metadata": {
    "collapsed": false,
    "deletable": true,
    "editable": true
   },
   "outputs": [
    {
     "data": {
      "text/plain": [
       "Text(0.5, 1.0, 'Número de casos COVID-19 acumulados em Florianópolis, SC, em 21/05/2020')"
      ]
     },
     "execution_count": 84,
     "metadata": {},
     "output_type": "execute_result"
    },
    {
     "data": {
      "image/png": "[encoded data removed]",
      "text/plain": [
       "<Figure size 1080x432 with 1 Axes>"
      ]
     },
     "metadata": {},
     "output_type": "display_data"
    }
   ],
   "source": [
    "fig, ax = plt.subplots(figsize=(15,6))\n",
    "\n",
    "ax = sns.barplot(x='data', y='casosAcumulado', data=covid_SC[covid_SC['municipio'] == cidade], palette='YlOrRd')\n",
    "plt.xticks(rotation='vertical');\n",
    "plt.title('Número de casos COVID-19 acumulados em {0}, SC, em 21/05/2020'.format(cidade))"
   ]
  },
  {
   "cell_type": "code",
   "execution_count": 85,
   "metadata": {
    "collapsed": false
   },
   "outputs": [
    {
     "data": {
      "text/html": [
       "<div>\n",
       "<style scoped>\n",
       "    .dataframe tbody tr th:only-of-type {\n",
       "        vertical-align: middle;\n",
       "    }\n",
       "\n",
       "    .dataframe tbody tr th {\n",
       "        vertical-align: top;\n",
       "    }\n",
       "\n",
       "    .dataframe thead th {\n",
       "        text-align: right;\n",
       "    }\n",
       "</style>\n",
       "<table border=\"1\" class=\"dataframe\">\n",
       "  <thead>\n",
       "    <tr style=\"text-align: right;\">\n",
       "      <th></th>\n",
       "      <th>regiao</th>\n",
       "      <th>estado</th>\n",
       "      <th>municipio</th>\n",
       "      <th>coduf</th>\n",
       "      <th>codmun</th>\n",
       "      <th>codRegiaoSaude</th>\n",
       "      <th>nomeRegiaoSaude</th>\n",
       "      <th>data</th>\n",
       "      <th>semanaEpi</th>\n",
       "      <th>populacaoTCU2019</th>\n",
       "      <th>casosAcumulado</th>\n",
       "      <th>obitosAcumulado</th>\n",
       "      <th>Recuperadosnovos</th>\n",
       "      <th>emAcompanhamentoNovos</th>\n",
       "    </tr>\n",
       "  </thead>\n",
       "  <tbody>\n",
       "    <tr>\n",
       "      <th>78789</th>\n",
       "      <td>Sul</td>\n",
       "      <td>SC</td>\n",
       "      <td>Blumenau</td>\n",
       "      <td>42</td>\n",
       "      <td>420240.0</td>\n",
       "      <td>42006.0</td>\n",
       "      <td>Médio Vale do Itajaí</td>\n",
       "      <td>2020-03-28</td>\n",
       "      <td>13</td>\n",
       "      <td>357199.0</td>\n",
       "      <td>12</td>\n",
       "      <td>0</td>\n",
       "      <td>NaN</td>\n",
       "      <td>NaN</td>\n",
       "    </tr>\n",
       "    <tr>\n",
       "      <th>78790</th>\n",
       "      <td>Sul</td>\n",
       "      <td>SC</td>\n",
       "      <td>Blumenau</td>\n",
       "      <td>42</td>\n",
       "      <td>420240.0</td>\n",
       "      <td>42006.0</td>\n",
       "      <td>Médio Vale do Itajaí</td>\n",
       "      <td>2020-03-29</td>\n",
       "      <td>14</td>\n",
       "      <td>357199.0</td>\n",
       "      <td>12</td>\n",
       "      <td>0</td>\n",
       "      <td>NaN</td>\n",
       "      <td>NaN</td>\n",
       "    </tr>\n",
       "    <tr>\n",
       "      <th>78791</th>\n",
       "      <td>Sul</td>\n",
       "      <td>SC</td>\n",
       "      <td>Blumenau</td>\n",
       "      <td>42</td>\n",
       "      <td>420240.0</td>\n",
       "      <td>42006.0</td>\n",
       "      <td>Médio Vale do Itajaí</td>\n",
       "      <td>2020-03-30</td>\n",
       "      <td>14</td>\n",
       "      <td>357199.0</td>\n",
       "      <td>12</td>\n",
       "      <td>0</td>\n",
       "      <td>NaN</td>\n",
       "      <td>NaN</td>\n",
       "    </tr>\n",
       "    <tr>\n",
       "      <th>78792</th>\n",
       "      <td>Sul</td>\n",
       "      <td>SC</td>\n",
       "      <td>Blumenau</td>\n",
       "      <td>42</td>\n",
       "      <td>420240.0</td>\n",
       "      <td>42006.0</td>\n",
       "      <td>Médio Vale do Itajaí</td>\n",
       "      <td>2020-03-31</td>\n",
       "      <td>14</td>\n",
       "      <td>357199.0</td>\n",
       "      <td>19</td>\n",
       "      <td>0</td>\n",
       "      <td>NaN</td>\n",
       "      <td>NaN</td>\n",
       "    </tr>\n",
       "    <tr>\n",
       "      <th>78793</th>\n",
       "      <td>Sul</td>\n",
       "      <td>SC</td>\n",
       "      <td>Blumenau</td>\n",
       "      <td>42</td>\n",
       "      <td>420240.0</td>\n",
       "      <td>42006.0</td>\n",
       "      <td>Médio Vale do Itajaí</td>\n",
       "      <td>2020-04-01</td>\n",
       "      <td>14</td>\n",
       "      <td>357199.0</td>\n",
       "      <td>19</td>\n",
       "      <td>0</td>\n",
       "      <td>NaN</td>\n",
       "      <td>NaN</td>\n",
       "    </tr>\n",
       "    <tr>\n",
       "      <th>78794</th>\n",
       "      <td>Sul</td>\n",
       "      <td>SC</td>\n",
       "      <td>Blumenau</td>\n",
       "      <td>42</td>\n",
       "      <td>420240.0</td>\n",
       "      <td>42006.0</td>\n",
       "      <td>Médio Vale do Itajaí</td>\n",
       "      <td>2020-04-02</td>\n",
       "      <td>14</td>\n",
       "      <td>357199.0</td>\n",
       "      <td>22</td>\n",
       "      <td>0</td>\n",
       "      <td>NaN</td>\n",
       "      <td>NaN</td>\n",
       "    </tr>\n",
       "    <tr>\n",
       "      <th>78795</th>\n",
       "      <td>Sul</td>\n",
       "      <td>SC</td>\n",
       "      <td>Blumenau</td>\n",
       "      <td>42</td>\n",
       "      <td>420240.0</td>\n",
       "      <td>42006.0</td>\n",
       "      <td>Médio Vale do Itajaí</td>\n",
       "      <td>2020-04-03</td>\n",
       "      <td>14</td>\n",
       "      <td>357199.0</td>\n",
       "      <td>22</td>\n",
       "      <td>0</td>\n",
       "      <td>NaN</td>\n",
       "      <td>NaN</td>\n",
       "    </tr>\n",
       "    <tr>\n",
       "      <th>78796</th>\n",
       "      <td>Sul</td>\n",
       "      <td>SC</td>\n",
       "      <td>Blumenau</td>\n",
       "      <td>42</td>\n",
       "      <td>420240.0</td>\n",
       "      <td>42006.0</td>\n",
       "      <td>Médio Vale do Itajaí</td>\n",
       "      <td>2020-04-04</td>\n",
       "      <td>14</td>\n",
       "      <td>357199.0</td>\n",
       "      <td>25</td>\n",
       "      <td>0</td>\n",
       "      <td>NaN</td>\n",
       "      <td>NaN</td>\n",
       "    </tr>\n",
       "    <tr>\n",
       "      <th>78797</th>\n",
       "      <td>Sul</td>\n",
       "      <td>SC</td>\n",
       "      <td>Blumenau</td>\n",
       "      <td>42</td>\n",
       "      <td>420240.0</td>\n",
       "      <td>42006.0</td>\n",
       "      <td>Médio Vale do Itajaí</td>\n",
       "      <td>2020-04-05</td>\n",
       "      <td>15</td>\n",
       "      <td>357199.0</td>\n",
       "      <td>26</td>\n",
       "      <td>0</td>\n",
       "      <td>NaN</td>\n",
       "      <td>NaN</td>\n",
       "    </tr>\n",
       "    <tr>\n",
       "      <th>78798</th>\n",
       "      <td>Sul</td>\n",
       "      <td>SC</td>\n",
       "      <td>Blumenau</td>\n",
       "      <td>42</td>\n",
       "      <td>420240.0</td>\n",
       "      <td>42006.0</td>\n",
       "      <td>Médio Vale do Itajaí</td>\n",
       "      <td>2020-04-06</td>\n",
       "      <td>15</td>\n",
       "      <td>357199.0</td>\n",
       "      <td>26</td>\n",
       "      <td>0</td>\n",
       "      <td>NaN</td>\n",
       "      <td>NaN</td>\n",
       "    </tr>\n",
       "    <tr>\n",
       "      <th>78799</th>\n",
       "      <td>Sul</td>\n",
       "      <td>SC</td>\n",
       "      <td>Blumenau</td>\n",
       "      <td>42</td>\n",
       "      <td>420240.0</td>\n",
       "      <td>42006.0</td>\n",
       "      <td>Médio Vale do Itajaí</td>\n",
       "      <td>2020-04-07</td>\n",
       "      <td>15</td>\n",
       "      <td>357199.0</td>\n",
       "      <td>52</td>\n",
       "      <td>0</td>\n",
       "      <td>NaN</td>\n",
       "      <td>NaN</td>\n",
       "    </tr>\n",
       "    <tr>\n",
       "      <th>78800</th>\n",
       "      <td>Sul</td>\n",
       "      <td>SC</td>\n",
       "      <td>Blumenau</td>\n",
       "      <td>42</td>\n",
       "      <td>420240.0</td>\n",
       "      <td>42006.0</td>\n",
       "      <td>Médio Vale do Itajaí</td>\n",
       "      <td>2020-04-08</td>\n",
       "      <td>15</td>\n",
       "      <td>357199.0</td>\n",
       "      <td>52</td>\n",
       "      <td>0</td>\n",
       "      <td>NaN</td>\n",
       "      <td>NaN</td>\n",
       "    </tr>\n",
       "    <tr>\n",
       "      <th>78801</th>\n",
       "      <td>Sul</td>\n",
       "      <td>SC</td>\n",
       "      <td>Blumenau</td>\n",
       "      <td>42</td>\n",
       "      <td>420240.0</td>\n",
       "      <td>42006.0</td>\n",
       "      <td>Médio Vale do Itajaí</td>\n",
       "      <td>2020-04-09</td>\n",
       "      <td>15</td>\n",
       "      <td>357199.0</td>\n",
       "      <td>55</td>\n",
       "      <td>0</td>\n",
       "      <td>NaN</td>\n",
       "      <td>NaN</td>\n",
       "    </tr>\n",
       "    <tr>\n",
       "      <th>78802</th>\n",
       "      <td>Sul</td>\n",
       "      <td>SC</td>\n",
       "      <td>Blumenau</td>\n",
       "      <td>42</td>\n",
       "      <td>420240.0</td>\n",
       "      <td>42006.0</td>\n",
       "      <td>Médio Vale do Itajaí</td>\n",
       "      <td>2020-04-10</td>\n",
       "      <td>15</td>\n",
       "      <td>357199.0</td>\n",
       "      <td>59</td>\n",
       "      <td>0</td>\n",
       "      <td>NaN</td>\n",
       "      <td>NaN</td>\n",
       "    </tr>\n",
       "    <tr>\n",
       "      <th>78803</th>\n",
       "      <td>Sul</td>\n",
       "      <td>SC</td>\n",
       "      <td>Blumenau</td>\n",
       "      <td>42</td>\n",
       "      <td>420240.0</td>\n",
       "      <td>42006.0</td>\n",
       "      <td>Médio Vale do Itajaí</td>\n",
       "      <td>2020-04-11</td>\n",
       "      <td>15</td>\n",
       "      <td>357199.0</td>\n",
       "      <td>61</td>\n",
       "      <td>0</td>\n",
       "      <td>NaN</td>\n",
       "      <td>NaN</td>\n",
       "    </tr>\n",
       "    <tr>\n",
       "      <th>78804</th>\n",
       "      <td>Sul</td>\n",
       "      <td>SC</td>\n",
       "      <td>Blumenau</td>\n",
       "      <td>42</td>\n",
       "      <td>420240.0</td>\n",
       "      <td>42006.0</td>\n",
       "      <td>Médio Vale do Itajaí</td>\n",
       "      <td>2020-04-12</td>\n",
       "      <td>16</td>\n",
       "      <td>357199.0</td>\n",
       "      <td>61</td>\n",
       "      <td>0</td>\n",
       "      <td>NaN</td>\n",
       "      <td>NaN</td>\n",
       "    </tr>\n",
       "    <tr>\n",
       "      <th>78805</th>\n",
       "      <td>Sul</td>\n",
       "      <td>SC</td>\n",
       "      <td>Blumenau</td>\n",
       "      <td>42</td>\n",
       "      <td>420240.0</td>\n",
       "      <td>42006.0</td>\n",
       "      <td>Médio Vale do Itajaí</td>\n",
       "      <td>2020-04-13</td>\n",
       "      <td>16</td>\n",
       "      <td>357199.0</td>\n",
       "      <td>68</td>\n",
       "      <td>0</td>\n",
       "      <td>NaN</td>\n",
       "      <td>NaN</td>\n",
       "    </tr>\n",
       "    <tr>\n",
       "      <th>78806</th>\n",
       "      <td>Sul</td>\n",
       "      <td>SC</td>\n",
       "      <td>Blumenau</td>\n",
       "      <td>42</td>\n",
       "      <td>420240.0</td>\n",
       "      <td>42006.0</td>\n",
       "      <td>Médio Vale do Itajaí</td>\n",
       "      <td>2020-04-14</td>\n",
       "      <td>16</td>\n",
       "      <td>357199.0</td>\n",
       "      <td>69</td>\n",
       "      <td>0</td>\n",
       "      <td>NaN</td>\n",
       "      <td>NaN</td>\n",
       "    </tr>\n",
       "    <tr>\n",
       "      <th>78807</th>\n",
       "      <td>Sul</td>\n",
       "      <td>SC</td>\n",
       "      <td>Blumenau</td>\n",
       "      <td>42</td>\n",
       "      <td>420240.0</td>\n",
       "      <td>42006.0</td>\n",
       "      <td>Médio Vale do Itajaí</td>\n",
       "      <td>2020-04-15</td>\n",
       "      <td>16</td>\n",
       "      <td>357199.0</td>\n",
       "      <td>69</td>\n",
       "      <td>0</td>\n",
       "      <td>NaN</td>\n",
       "      <td>NaN</td>\n",
       "    </tr>\n",
       "    <tr>\n",
       "      <th>78808</th>\n",
       "      <td>Sul</td>\n",
       "      <td>SC</td>\n",
       "      <td>Blumenau</td>\n",
       "      <td>42</td>\n",
       "      <td>420240.0</td>\n",
       "      <td>42006.0</td>\n",
       "      <td>Médio Vale do Itajaí</td>\n",
       "      <td>2020-04-16</td>\n",
       "      <td>16</td>\n",
       "      <td>357199.0</td>\n",
       "      <td>70</td>\n",
       "      <td>0</td>\n",
       "      <td>NaN</td>\n",
       "      <td>NaN</td>\n",
       "    </tr>\n",
       "    <tr>\n",
       "      <th>78809</th>\n",
       "      <td>Sul</td>\n",
       "      <td>SC</td>\n",
       "      <td>Blumenau</td>\n",
       "      <td>42</td>\n",
       "      <td>420240.0</td>\n",
       "      <td>42006.0</td>\n",
       "      <td>Médio Vale do Itajaí</td>\n",
       "      <td>2020-04-17</td>\n",
       "      <td>16</td>\n",
       "      <td>357199.0</td>\n",
       "      <td>71</td>\n",
       "      <td>0</td>\n",
       "      <td>NaN</td>\n",
       "      <td>NaN</td>\n",
       "    </tr>\n",
       "    <tr>\n",
       "      <th>78810</th>\n",
       "      <td>Sul</td>\n",
       "      <td>SC</td>\n",
       "      <td>Blumenau</td>\n",
       "      <td>42</td>\n",
       "      <td>420240.0</td>\n",
       "      <td>42006.0</td>\n",
       "      <td>Médio Vale do Itajaí</td>\n",
       "      <td>2020-04-18</td>\n",
       "      <td>16</td>\n",
       "      <td>357199.0</td>\n",
       "      <td>75</td>\n",
       "      <td>0</td>\n",
       "      <td>NaN</td>\n",
       "      <td>NaN</td>\n",
       "    </tr>\n",
       "    <tr>\n",
       "      <th>78811</th>\n",
       "      <td>Sul</td>\n",
       "      <td>SC</td>\n",
       "      <td>Blumenau</td>\n",
       "      <td>42</td>\n",
       "      <td>420240.0</td>\n",
       "      <td>42006.0</td>\n",
       "      <td>Médio Vale do Itajaí</td>\n",
       "      <td>2020-04-19</td>\n",
       "      <td>17</td>\n",
       "      <td>357199.0</td>\n",
       "      <td>75</td>\n",
       "      <td>0</td>\n",
       "      <td>NaN</td>\n",
       "      <td>NaN</td>\n",
       "    </tr>\n",
       "    <tr>\n",
       "      <th>78812</th>\n",
       "      <td>Sul</td>\n",
       "      <td>SC</td>\n",
       "      <td>Blumenau</td>\n",
       "      <td>42</td>\n",
       "      <td>420240.0</td>\n",
       "      <td>42006.0</td>\n",
       "      <td>Médio Vale do Itajaí</td>\n",
       "      <td>2020-04-20</td>\n",
       "      <td>17</td>\n",
       "      <td>357199.0</td>\n",
       "      <td>75</td>\n",
       "      <td>0</td>\n",
       "      <td>NaN</td>\n",
       "      <td>NaN</td>\n",
       "    </tr>\n",
       "    <tr>\n",
       "      <th>78813</th>\n",
       "      <td>Sul</td>\n",
       "      <td>SC</td>\n",
       "      <td>Blumenau</td>\n",
       "      <td>42</td>\n",
       "      <td>420240.0</td>\n",
       "      <td>42006.0</td>\n",
       "      <td>Médio Vale do Itajaí</td>\n",
       "      <td>2020-04-21</td>\n",
       "      <td>17</td>\n",
       "      <td>357199.0</td>\n",
       "      <td>79</td>\n",
       "      <td>0</td>\n",
       "      <td>NaN</td>\n",
       "      <td>NaN</td>\n",
       "    </tr>\n",
       "    <tr>\n",
       "      <th>78814</th>\n",
       "      <td>Sul</td>\n",
       "      <td>SC</td>\n",
       "      <td>Blumenau</td>\n",
       "      <td>42</td>\n",
       "      <td>420240.0</td>\n",
       "      <td>42006.0</td>\n",
       "      <td>Médio Vale do Itajaí</td>\n",
       "      <td>2020-04-22</td>\n",
       "      <td>17</td>\n",
       "      <td>357199.0</td>\n",
       "      <td>81</td>\n",
       "      <td>0</td>\n",
       "      <td>NaN</td>\n",
       "      <td>NaN</td>\n",
       "    </tr>\n",
       "    <tr>\n",
       "      <th>78815</th>\n",
       "      <td>Sul</td>\n",
       "      <td>SC</td>\n",
       "      <td>Blumenau</td>\n",
       "      <td>42</td>\n",
       "      <td>420240.0</td>\n",
       "      <td>42006.0</td>\n",
       "      <td>Médio Vale do Itajaí</td>\n",
       "      <td>2020-04-23</td>\n",
       "      <td>17</td>\n",
       "      <td>357199.0</td>\n",
       "      <td>81</td>\n",
       "      <td>0</td>\n",
       "      <td>NaN</td>\n",
       "      <td>NaN</td>\n",
       "    </tr>\n",
       "    <tr>\n",
       "      <th>78816</th>\n",
       "      <td>Sul</td>\n",
       "      <td>SC</td>\n",
       "      <td>Blumenau</td>\n",
       "      <td>42</td>\n",
       "      <td>420240.0</td>\n",
       "      <td>42006.0</td>\n",
       "      <td>Médio Vale do Itajaí</td>\n",
       "      <td>2020-04-24</td>\n",
       "      <td>17</td>\n",
       "      <td>357199.0</td>\n",
       "      <td>86</td>\n",
       "      <td>0</td>\n",
       "      <td>NaN</td>\n",
       "      <td>NaN</td>\n",
       "    </tr>\n",
       "    <tr>\n",
       "      <th>78817</th>\n",
       "      <td>Sul</td>\n",
       "      <td>SC</td>\n",
       "      <td>Blumenau</td>\n",
       "      <td>42</td>\n",
       "      <td>420240.0</td>\n",
       "      <td>42006.0</td>\n",
       "      <td>Médio Vale do Itajaí</td>\n",
       "      <td>2020-04-25</td>\n",
       "      <td>17</td>\n",
       "      <td>357199.0</td>\n",
       "      <td>90</td>\n",
       "      <td>0</td>\n",
       "      <td>NaN</td>\n",
       "      <td>NaN</td>\n",
       "    </tr>\n",
       "    <tr>\n",
       "      <th>78818</th>\n",
       "      <td>Sul</td>\n",
       "      <td>SC</td>\n",
       "      <td>Blumenau</td>\n",
       "      <td>42</td>\n",
       "      <td>420240.0</td>\n",
       "      <td>42006.0</td>\n",
       "      <td>Médio Vale do Itajaí</td>\n",
       "      <td>2020-04-26</td>\n",
       "      <td>18</td>\n",
       "      <td>357199.0</td>\n",
       "      <td>90</td>\n",
       "      <td>0</td>\n",
       "      <td>NaN</td>\n",
       "      <td>NaN</td>\n",
       "    </tr>\n",
       "    <tr>\n",
       "      <th>78819</th>\n",
       "      <td>Sul</td>\n",
       "      <td>SC</td>\n",
       "      <td>Blumenau</td>\n",
       "      <td>42</td>\n",
       "      <td>420240.0</td>\n",
       "      <td>42006.0</td>\n",
       "      <td>Médio Vale do Itajaí</td>\n",
       "      <td>2020-04-27</td>\n",
       "      <td>18</td>\n",
       "      <td>357199.0</td>\n",
       "      <td>100</td>\n",
       "      <td>0</td>\n",
       "      <td>NaN</td>\n",
       "      <td>NaN</td>\n",
       "    </tr>\n",
       "    <tr>\n",
       "      <th>78820</th>\n",
       "      <td>Sul</td>\n",
       "      <td>SC</td>\n",
       "      <td>Blumenau</td>\n",
       "      <td>42</td>\n",
       "      <td>420240.0</td>\n",
       "      <td>42006.0</td>\n",
       "      <td>Médio Vale do Itajaí</td>\n",
       "      <td>2020-04-28</td>\n",
       "      <td>18</td>\n",
       "      <td>357199.0</td>\n",
       "      <td>159</td>\n",
       "      <td>0</td>\n",
       "      <td>NaN</td>\n",
       "      <td>NaN</td>\n",
       "    </tr>\n",
       "    <tr>\n",
       "      <th>78821</th>\n",
       "      <td>Sul</td>\n",
       "      <td>SC</td>\n",
       "      <td>Blumenau</td>\n",
       "      <td>42</td>\n",
       "      <td>420240.0</td>\n",
       "      <td>42006.0</td>\n",
       "      <td>Médio Vale do Itajaí</td>\n",
       "      <td>2020-04-29</td>\n",
       "      <td>18</td>\n",
       "      <td>357199.0</td>\n",
       "      <td>177</td>\n",
       "      <td>0</td>\n",
       "      <td>NaN</td>\n",
       "      <td>NaN</td>\n",
       "    </tr>\n",
       "    <tr>\n",
       "      <th>78822</th>\n",
       "      <td>Sul</td>\n",
       "      <td>SC</td>\n",
       "      <td>Blumenau</td>\n",
       "      <td>42</td>\n",
       "      <td>420240.0</td>\n",
       "      <td>42006.0</td>\n",
       "      <td>Médio Vale do Itajaí</td>\n",
       "      <td>2020-04-30</td>\n",
       "      <td>18</td>\n",
       "      <td>357199.0</td>\n",
       "      <td>200</td>\n",
       "      <td>0</td>\n",
       "      <td>NaN</td>\n",
       "      <td>NaN</td>\n",
       "    </tr>\n",
       "    <tr>\n",
       "      <th>78823</th>\n",
       "      <td>Sul</td>\n",
       "      <td>SC</td>\n",
       "      <td>Blumenau</td>\n",
       "      <td>42</td>\n",
       "      <td>420240.0</td>\n",
       "      <td>42006.0</td>\n",
       "      <td>Médio Vale do Itajaí</td>\n",
       "      <td>2020-05-01</td>\n",
       "      <td>18</td>\n",
       "      <td>357199.0</td>\n",
       "      <td>194</td>\n",
       "      <td>0</td>\n",
       "      <td>NaN</td>\n",
       "      <td>NaN</td>\n",
       "    </tr>\n",
       "    <tr>\n",
       "      <th>78824</th>\n",
       "      <td>Sul</td>\n",
       "      <td>SC</td>\n",
       "      <td>Blumenau</td>\n",
       "      <td>42</td>\n",
       "      <td>420240.0</td>\n",
       "      <td>42006.0</td>\n",
       "      <td>Médio Vale do Itajaí</td>\n",
       "      <td>2020-05-02</td>\n",
       "      <td>18</td>\n",
       "      <td>357199.0</td>\n",
       "      <td>213</td>\n",
       "      <td>0</td>\n",
       "      <td>NaN</td>\n",
       "      <td>NaN</td>\n",
       "    </tr>\n",
       "    <tr>\n",
       "      <th>78825</th>\n",
       "      <td>Sul</td>\n",
       "      <td>SC</td>\n",
       "      <td>Blumenau</td>\n",
       "      <td>42</td>\n",
       "      <td>420240.0</td>\n",
       "      <td>42006.0</td>\n",
       "      <td>Médio Vale do Itajaí</td>\n",
       "      <td>2020-05-03</td>\n",
       "      <td>19</td>\n",
       "      <td>357199.0</td>\n",
       "      <td>213</td>\n",
       "      <td>0</td>\n",
       "      <td>NaN</td>\n",
       "      <td>NaN</td>\n",
       "    </tr>\n",
       "    <tr>\n",
       "      <th>78826</th>\n",
       "      <td>Sul</td>\n",
       "      <td>SC</td>\n",
       "      <td>Blumenau</td>\n",
       "      <td>42</td>\n",
       "      <td>420240.0</td>\n",
       "      <td>42006.0</td>\n",
       "      <td>Médio Vale do Itajaí</td>\n",
       "      <td>2020-05-04</td>\n",
       "      <td>19</td>\n",
       "      <td>357199.0</td>\n",
       "      <td>224</td>\n",
       "      <td>0</td>\n",
       "      <td>NaN</td>\n",
       "      <td>NaN</td>\n",
       "    </tr>\n",
       "    <tr>\n",
       "      <th>78827</th>\n",
       "      <td>Sul</td>\n",
       "      <td>SC</td>\n",
       "      <td>Blumenau</td>\n",
       "      <td>42</td>\n",
       "      <td>420240.0</td>\n",
       "      <td>42006.0</td>\n",
       "      <td>Médio Vale do Itajaí</td>\n",
       "      <td>2020-05-05</td>\n",
       "      <td>19</td>\n",
       "      <td>357199.0</td>\n",
       "      <td>241</td>\n",
       "      <td>0</td>\n",
       "      <td>NaN</td>\n",
       "      <td>NaN</td>\n",
       "    </tr>\n",
       "    <tr>\n",
       "      <th>78828</th>\n",
       "      <td>Sul</td>\n",
       "      <td>SC</td>\n",
       "      <td>Blumenau</td>\n",
       "      <td>42</td>\n",
       "      <td>420240.0</td>\n",
       "      <td>42006.0</td>\n",
       "      <td>Médio Vale do Itajaí</td>\n",
       "      <td>2020-05-06</td>\n",
       "      <td>19</td>\n",
       "      <td>357199.0</td>\n",
       "      <td>263</td>\n",
       "      <td>1</td>\n",
       "      <td>NaN</td>\n",
       "      <td>NaN</td>\n",
       "    </tr>\n",
       "    <tr>\n",
       "      <th>78829</th>\n",
       "      <td>Sul</td>\n",
       "      <td>SC</td>\n",
       "      <td>Blumenau</td>\n",
       "      <td>42</td>\n",
       "      <td>420240.0</td>\n",
       "      <td>42006.0</td>\n",
       "      <td>Médio Vale do Itajaí</td>\n",
       "      <td>2020-05-07</td>\n",
       "      <td>19</td>\n",
       "      <td>357199.0</td>\n",
       "      <td>284</td>\n",
       "      <td>2</td>\n",
       "      <td>NaN</td>\n",
       "      <td>NaN</td>\n",
       "    </tr>\n",
       "    <tr>\n",
       "      <th>78830</th>\n",
       "      <td>Sul</td>\n",
       "      <td>SC</td>\n",
       "      <td>Blumenau</td>\n",
       "      <td>42</td>\n",
       "      <td>420240.0</td>\n",
       "      <td>42006.0</td>\n",
       "      <td>Médio Vale do Itajaí</td>\n",
       "      <td>2020-05-08</td>\n",
       "      <td>19</td>\n",
       "      <td>357199.0</td>\n",
       "      <td>285</td>\n",
       "      <td>2</td>\n",
       "      <td>NaN</td>\n",
       "      <td>NaN</td>\n",
       "    </tr>\n",
       "    <tr>\n",
       "      <th>78831</th>\n",
       "      <td>Sul</td>\n",
       "      <td>SC</td>\n",
       "      <td>Blumenau</td>\n",
       "      <td>42</td>\n",
       "      <td>420240.0</td>\n",
       "      <td>42006.0</td>\n",
       "      <td>Médio Vale do Itajaí</td>\n",
       "      <td>2020-05-09</td>\n",
       "      <td>19</td>\n",
       "      <td>357199.0</td>\n",
       "      <td>296</td>\n",
       "      <td>2</td>\n",
       "      <td>NaN</td>\n",
       "      <td>NaN</td>\n",
       "    </tr>\n",
       "    <tr>\n",
       "      <th>78832</th>\n",
       "      <td>Sul</td>\n",
       "      <td>SC</td>\n",
       "      <td>Blumenau</td>\n",
       "      <td>42</td>\n",
       "      <td>420240.0</td>\n",
       "      <td>42006.0</td>\n",
       "      <td>Médio Vale do Itajaí</td>\n",
       "      <td>2020-05-10</td>\n",
       "      <td>20</td>\n",
       "      <td>357199.0</td>\n",
       "      <td>297</td>\n",
       "      <td>2</td>\n",
       "      <td>NaN</td>\n",
       "      <td>NaN</td>\n",
       "    </tr>\n",
       "    <tr>\n",
       "      <th>78833</th>\n",
       "      <td>Sul</td>\n",
       "      <td>SC</td>\n",
       "      <td>Blumenau</td>\n",
       "      <td>42</td>\n",
       "      <td>420240.0</td>\n",
       "      <td>42006.0</td>\n",
       "      <td>Médio Vale do Itajaí</td>\n",
       "      <td>2020-05-11</td>\n",
       "      <td>20</td>\n",
       "      <td>357199.0</td>\n",
       "      <td>299</td>\n",
       "      <td>3</td>\n",
       "      <td>NaN</td>\n",
       "      <td>NaN</td>\n",
       "    </tr>\n",
       "    <tr>\n",
       "      <th>78834</th>\n",
       "      <td>Sul</td>\n",
       "      <td>SC</td>\n",
       "      <td>Blumenau</td>\n",
       "      <td>42</td>\n",
       "      <td>420240.0</td>\n",
       "      <td>42006.0</td>\n",
       "      <td>Médio Vale do Itajaí</td>\n",
       "      <td>2020-05-12</td>\n",
       "      <td>20</td>\n",
       "      <td>357199.0</td>\n",
       "      <td>345</td>\n",
       "      <td>3</td>\n",
       "      <td>NaN</td>\n",
       "      <td>NaN</td>\n",
       "    </tr>\n",
       "    <tr>\n",
       "      <th>78835</th>\n",
       "      <td>Sul</td>\n",
       "      <td>SC</td>\n",
       "      <td>Blumenau</td>\n",
       "      <td>42</td>\n",
       "      <td>420240.0</td>\n",
       "      <td>42006.0</td>\n",
       "      <td>Médio Vale do Itajaí</td>\n",
       "      <td>2020-05-13</td>\n",
       "      <td>20</td>\n",
       "      <td>357199.0</td>\n",
       "      <td>356</td>\n",
       "      <td>3</td>\n",
       "      <td>NaN</td>\n",
       "      <td>NaN</td>\n",
       "    </tr>\n",
       "    <tr>\n",
       "      <th>78836</th>\n",
       "      <td>Sul</td>\n",
       "      <td>SC</td>\n",
       "      <td>Blumenau</td>\n",
       "      <td>42</td>\n",
       "      <td>420240.0</td>\n",
       "      <td>42006.0</td>\n",
       "      <td>Médio Vale do Itajaí</td>\n",
       "      <td>2020-05-14</td>\n",
       "      <td>20</td>\n",
       "      <td>357199.0</td>\n",
       "      <td>382</td>\n",
       "      <td>3</td>\n",
       "      <td>NaN</td>\n",
       "      <td>NaN</td>\n",
       "    </tr>\n",
       "    <tr>\n",
       "      <th>78837</th>\n",
       "      <td>Sul</td>\n",
       "      <td>SC</td>\n",
       "      <td>Blumenau</td>\n",
       "      <td>42</td>\n",
       "      <td>420240.0</td>\n",
       "      <td>42006.0</td>\n",
       "      <td>Médio Vale do Itajaí</td>\n",
       "      <td>2020-05-15</td>\n",
       "      <td>20</td>\n",
       "      <td>357199.0</td>\n",
       "      <td>415</td>\n",
       "      <td>3</td>\n",
       "      <td>NaN</td>\n",
       "      <td>NaN</td>\n",
       "    </tr>\n",
       "    <tr>\n",
       "      <th>78838</th>\n",
       "      <td>Sul</td>\n",
       "      <td>SC</td>\n",
       "      <td>Blumenau</td>\n",
       "      <td>42</td>\n",
       "      <td>420240.0</td>\n",
       "      <td>42006.0</td>\n",
       "      <td>Médio Vale do Itajaí</td>\n",
       "      <td>2020-05-16</td>\n",
       "      <td>20</td>\n",
       "      <td>357199.0</td>\n",
       "      <td>418</td>\n",
       "      <td>3</td>\n",
       "      <td>NaN</td>\n",
       "      <td>NaN</td>\n",
       "    </tr>\n",
       "    <tr>\n",
       "      <th>78839</th>\n",
       "      <td>Sul</td>\n",
       "      <td>SC</td>\n",
       "      <td>Blumenau</td>\n",
       "      <td>42</td>\n",
       "      <td>420240.0</td>\n",
       "      <td>42006.0</td>\n",
       "      <td>Médio Vale do Itajaí</td>\n",
       "      <td>2020-05-17</td>\n",
       "      <td>21</td>\n",
       "      <td>357199.0</td>\n",
       "      <td>418</td>\n",
       "      <td>3</td>\n",
       "      <td>NaN</td>\n",
       "      <td>NaN</td>\n",
       "    </tr>\n",
       "    <tr>\n",
       "      <th>78840</th>\n",
       "      <td>Sul</td>\n",
       "      <td>SC</td>\n",
       "      <td>Blumenau</td>\n",
       "      <td>42</td>\n",
       "      <td>420240.0</td>\n",
       "      <td>42006.0</td>\n",
       "      <td>Médio Vale do Itajaí</td>\n",
       "      <td>2020-05-18</td>\n",
       "      <td>21</td>\n",
       "      <td>357199.0</td>\n",
       "      <td>474</td>\n",
       "      <td>3</td>\n",
       "      <td>NaN</td>\n",
       "      <td>NaN</td>\n",
       "    </tr>\n",
       "    <tr>\n",
       "      <th>78841</th>\n",
       "      <td>Sul</td>\n",
       "      <td>SC</td>\n",
       "      <td>Blumenau</td>\n",
       "      <td>42</td>\n",
       "      <td>420240.0</td>\n",
       "      <td>42006.0</td>\n",
       "      <td>Médio Vale do Itajaí</td>\n",
       "      <td>2020-05-19</td>\n",
       "      <td>21</td>\n",
       "      <td>357199.0</td>\n",
       "      <td>480</td>\n",
       "      <td>3</td>\n",
       "      <td>NaN</td>\n",
       "      <td>NaN</td>\n",
       "    </tr>\n",
       "    <tr>\n",
       "      <th>78842</th>\n",
       "      <td>Sul</td>\n",
       "      <td>SC</td>\n",
       "      <td>Blumenau</td>\n",
       "      <td>42</td>\n",
       "      <td>420240.0</td>\n",
       "      <td>42006.0</td>\n",
       "      <td>Médio Vale do Itajaí</td>\n",
       "      <td>2020-05-20</td>\n",
       "      <td>21</td>\n",
       "      <td>357199.0</td>\n",
       "      <td>480</td>\n",
       "      <td>3</td>\n",
       "      <td>NaN</td>\n",
       "      <td>NaN</td>\n",
       "    </tr>\n",
       "  </tbody>\n",
       "</table>\n",
       "</div>"
      ],
      "text/plain": [
       "      regiao estado municipio  coduf    codmun  codRegiaoSaude  \\\n",
       "78789    Sul     SC  Blumenau     42  420240.0         42006.0   \n",
       "78790    Sul     SC  Blumenau     42  420240.0         42006.0   \n",
       "78791    Sul     SC  Blumenau     42  420240.0         42006.0   \n",
       "78792    Sul     SC  Blumenau     42  420240.0         42006.0   \n",
       "78793    Sul     SC  Blumenau     42  420240.0         42006.0   \n",
       "78794    Sul     SC  Blumenau     42  420240.0         42006.0   \n",
       "78795    Sul     SC  Blumenau     42  420240.0         42006.0   \n",
       "78796    Sul     SC  Blumenau     42  420240.0         42006.0   \n",
       "78797    Sul     SC  Blumenau     42  420240.0         42006.0   \n",
       "78798    Sul     SC  Blumenau     42  420240.0         42006.0   \n",
       "78799    Sul     SC  Blumenau     42  420240.0         42006.0   \n",
       "78800    Sul     SC  Blumenau     42  420240.0         42006.0   \n",
       "78801    Sul     SC  Blumenau     42  420240.0         42006.0   \n",
       "78802    Sul     SC  Blumenau     42  420240.0         42006.0   \n",
       "78803    Sul     SC  Blumenau     42  420240.0         42006.0   \n",
       "78804    Sul     SC  Blumenau     42  420240.0         42006.0   \n",
       "78805    Sul     SC  Blumenau     42  420240.0         42006.0   \n",
       "78806    Sul     SC  Blumenau     42  420240.0         42006.0   \n",
       "78807    Sul     SC  Blumenau     42  420240.0         42006.0   \n",
       "78808    Sul     SC  Blumenau     42  420240.0         42006.0   \n",
       "78809    Sul     SC  Blumenau     42  420240.0         42006.0   \n",
       "78810    Sul     SC  Blumenau     42  420240.0         42006.0   \n",
       "78811    Sul     SC  Blumenau     42  420240.0         42006.0   \n",
       "78812    Sul     SC  Blumenau     42  420240.0         42006.0   \n",
       "78813    Sul     SC  Blumenau     42  420240.0         42006.0   \n",
       "78814    Sul     SC  Blumenau     42  420240.0         42006.0   \n",
       "78815    Sul     SC  Blumenau     42  420240.0         42006.0   \n",
       "78816    Sul     SC  Blumenau     42  420240.0         42006.0   \n",
       "78817    Sul     SC  Blumenau     42  420240.0         42006.0   \n",
       "78818    Sul     SC  Blumenau     42  420240.0         42006.0   \n",
       "78819    Sul     SC  Blumenau     42  420240.0         42006.0   \n",
       "78820    Sul     SC  Blumenau     42  420240.0         42006.0   \n",
       "78821    Sul     SC  Blumenau     42  420240.0         42006.0   \n",
       "78822    Sul     SC  Blumenau     42  420240.0         42006.0   \n",
       "78823    Sul     SC  Blumenau     42  420240.0         42006.0   \n",
       "78824    Sul     SC  Blumenau     42  420240.0         42006.0   \n",
       "78825    Sul     SC  Blumenau     42  420240.0         42006.0   \n",
       "78826    Sul     SC  Blumenau     42  420240.0         42006.0   \n",
       "78827    Sul     SC  Blumenau     42  420240.0         42006.0   \n",
       "78828    Sul     SC  Blumenau     42  420240.0         42006.0   \n",
       "78829    Sul     SC  Blumenau     42  420240.0         42006.0   \n",
       "78830    Sul     SC  Blumenau     42  420240.0         42006.0   \n",
       "78831    Sul     SC  Blumenau     42  420240.0         42006.0   \n",
       "78832    Sul     SC  Blumenau     42  420240.0         42006.0   \n",
       "78833    Sul     SC  Blumenau     42  420240.0         42006.0   \n",
       "78834    Sul     SC  Blumenau     42  420240.0         42006.0   \n",
       "78835    Sul     SC  Blumenau     42  420240.0         42006.0   \n",
       "78836    Sul     SC  Blumenau     42  420240.0         42006.0   \n",
       "78837    Sul     SC  Blumenau     42  420240.0         42006.0   \n",
       "78838    Sul     SC  Blumenau     42  420240.0         42006.0   \n",
       "78839    Sul     SC  Blumenau     42  420240.0         42006.0   \n",
       "78840    Sul     SC  Blumenau     42  420240.0         42006.0   \n",
       "78841    Sul     SC  Blumenau     42  420240.0         42006.0   \n",
       "78842    Sul     SC  Blumenau     42  420240.0         42006.0   \n",
       "\n",
       "            nomeRegiaoSaude        data  semanaEpi  populacaoTCU2019  \\\n",
       "78789  Médio Vale do Itajaí  2020-03-28         13          357199.0   \n",
       "78790  Médio Vale do Itajaí  2020-03-29         14          357199.0   \n",
       "78791  Médio Vale do Itajaí  2020-03-30         14          357199.0   \n",
       "78792  Médio Vale do Itajaí  2020-03-31         14          357199.0   \n",
       "78793  Médio Vale do Itajaí  2020-04-01         14          357199.0   \n",
       "78794  Médio Vale do Itajaí  2020-04-02         14          357199.0   \n",
       "78795  Médio Vale do Itajaí  2020-04-03         14          357199.0   \n",
       "78796  Médio Vale do Itajaí  2020-04-04         14          357199.0   \n",
       "78797  Médio Vale do Itajaí  2020-04-05         15          357199.0   \n",
       "78798  Médio Vale do Itajaí  2020-04-06         15          357199.0   \n",
       "78799  Médio Vale do Itajaí  2020-04-07         15          357199.0   \n",
       "78800  Médio Vale do Itajaí  2020-04-08         15          357199.0   \n",
       "78801  Médio Vale do Itajaí  2020-04-09         15          357199.0   \n",
       "78802  Médio Vale do Itajaí  2020-04-10         15          357199.0   \n",
       "78803  Médio Vale do Itajaí  2020-04-11         15          357199.0   \n",
       "78804  Médio Vale do Itajaí  2020-04-12         16          357199.0   \n",
       "78805  Médio Vale do Itajaí  2020-04-13         16          357199.0   \n",
       "78806  Médio Vale do Itajaí  2020-04-14         16          357199.0   \n",
       "78807  Médio Vale do Itajaí  2020-04-15         16          357199.0   \n",
       "78808  Médio Vale do Itajaí  2020-04-16         16          357199.0   \n",
       "78809  Médio Vale do Itajaí  2020-04-17         16          357199.0   \n",
       "78810  Médio Vale do Itajaí  2020-04-18         16          357199.0   \n",
       "78811  Médio Vale do Itajaí  2020-04-19         17          357199.0   \n",
       "78812  Médio Vale do Itajaí  2020-04-20         17          357199.0   \n",
       "78813  Médio Vale do Itajaí  2020-04-21         17          357199.0   \n",
       "78814  Médio Vale do Itajaí  2020-04-22         17          357199.0   \n",
       "78815  Médio Vale do Itajaí  2020-04-23         17          357199.0   \n",
       "78816  Médio Vale do Itajaí  2020-04-24         17          357199.0   \n",
       "78817  Médio Vale do Itajaí  2020-04-25         17          357199.0   \n",
       "78818  Médio Vale do Itajaí  2020-04-26         18          357199.0   \n",
       "78819  Médio Vale do Itajaí  2020-04-27         18          357199.0   \n",
       "78820  Médio Vale do Itajaí  2020-04-28         18          357199.0   \n",
       "78821  Médio Vale do Itajaí  2020-04-29         18          357199.0   \n",
       "78822  Médio Vale do Itajaí  2020-04-30         18          357199.0   \n",
       "78823  Médio Vale do Itajaí  2020-05-01         18          357199.0   \n",
       "78824  Médio Vale do Itajaí  2020-05-02         18          357199.0   \n",
       "78825  Médio Vale do Itajaí  2020-05-03         19          357199.0   \n",
       "78826  Médio Vale do Itajaí  2020-05-04         19          357199.0   \n",
       "78827  Médio Vale do Itajaí  2020-05-05         19          357199.0   \n",
       "78828  Médio Vale do Itajaí  2020-05-06         19          357199.0   \n",
       "78829  Médio Vale do Itajaí  2020-05-07         19          357199.0   \n",
       "78830  Médio Vale do Itajaí  2020-05-08         19          357199.0   \n",
       "78831  Médio Vale do Itajaí  2020-05-09         19          357199.0   \n",
       "78832  Médio Vale do Itajaí  2020-05-10         20          357199.0   \n",
       "78833  Médio Vale do Itajaí  2020-05-11         20          357199.0   \n",
       "78834  Médio Vale do Itajaí  2020-05-12         20          357199.0   \n",
       "78835  Médio Vale do Itajaí  2020-05-13         20          357199.0   \n",
       "78836  Médio Vale do Itajaí  2020-05-14         20          357199.0   \n",
       "78837  Médio Vale do Itajaí  2020-05-15         20          357199.0   \n",
       "78838  Médio Vale do Itajaí  2020-05-16         20          357199.0   \n",
       "78839  Médio Vale do Itajaí  2020-05-17         21          357199.0   \n",
       "78840  Médio Vale do Itajaí  2020-05-18         21          357199.0   \n",
       "78841  Médio Vale do Itajaí  2020-05-19         21          357199.0   \n",
       "78842  Médio Vale do Itajaí  2020-05-20         21          357199.0   \n",
       "\n",
       "       casosAcumulado  obitosAcumulado  Recuperadosnovos  \\\n",
       "78789              12                0               NaN   \n",
       "78790              12                0               NaN   \n",
       "78791              12                0               NaN   \n",
       "78792              19                0               NaN   \n",
       "78793              19                0               NaN   \n",
       "78794              22                0               NaN   \n",
       "78795              22                0               NaN   \n",
       "78796              25                0               NaN   \n",
       "78797              26                0               NaN   \n",
       "78798              26                0               NaN   \n",
       "78799              52                0               NaN   \n",
       "78800              52                0               NaN   \n",
       "78801              55                0               NaN   \n",
       "78802              59                0               NaN   \n",
       "78803              61                0               NaN   \n",
       "78804              61                0               NaN   \n",
       "78805              68                0               NaN   \n",
       "78806              69                0               NaN   \n",
       "78807              69                0               NaN   \n",
       "78808              70                0               NaN   \n",
       "78809              71                0               NaN   \n",
       "78810              75                0               NaN   \n",
       "78811              75                0               NaN   \n",
       "78812              75                0               NaN   \n",
       "78813              79                0               NaN   \n",
       "78814              81                0               NaN   \n",
       "78815              81                0               NaN   \n",
       "78816              86                0               NaN   \n",
       "78817              90                0               NaN   \n",
       "78818              90                0               NaN   \n",
       "78819             100                0               NaN   \n",
       "78820             159                0               NaN   \n",
       "78821             177                0               NaN   \n",
       "78822             200                0               NaN   \n",
       "78823             194                0               NaN   \n",
       "78824             213                0               NaN   \n",
       "78825             213                0               NaN   \n",
       "78826             224                0               NaN   \n",
       "78827             241                0               NaN   \n",
       "78828             263                1               NaN   \n",
       "78829             284                2               NaN   \n",
       "78830             285                2               NaN   \n",
       "78831             296                2               NaN   \n",
       "78832             297                2               NaN   \n",
       "78833             299                3               NaN   \n",
       "78834             345                3               NaN   \n",
       "78835             356                3               NaN   \n",
       "78836             382                3               NaN   \n",
       "78837             415                3               NaN   \n",
       "78838             418                3               NaN   \n",
       "78839             418                3               NaN   \n",
       "78840             474                3               NaN   \n",
       "78841             480                3               NaN   \n",
       "78842             480                3               NaN   \n",
       "\n",
       "       emAcompanhamentoNovos  \n",
       "78789                    NaN  \n",
       "78790                    NaN  \n",
       "78791                    NaN  \n",
       "78792                    NaN  \n",
       "78793                    NaN  \n",
       "78794                    NaN  \n",
       "78795                    NaN  \n",
       "78796                    NaN  \n",
       "78797                    NaN  \n",
       "78798                    NaN  \n",
       "78799                    NaN  \n",
       "78800                    NaN  \n",
       "78801                    NaN  \n",
       "78802                    NaN  \n",
       "78803                    NaN  \n",
       "78804                    NaN  \n",
       "78805                    NaN  \n",
       "78806                    NaN  \n",
       "78807                    NaN  \n",
       "78808                    NaN  \n",
       "78809                    NaN  \n",
       "78810                    NaN  \n",
       "78811                    NaN  \n",
       "78812                    NaN  \n",
       "78813                    NaN  \n",
       "78814                    NaN  \n",
       "78815                    NaN  \n",
       "78816                    NaN  \n",
       "78817                    NaN  \n",
       "78818                    NaN  \n",
       "78819                    NaN  \n",
       "78820                    NaN  \n",
       "78821                    NaN  \n",
       "78822                    NaN  \n",
       "78823                    NaN  \n",
       "78824                    NaN  \n",
       "78825                    NaN  \n",
       "78826                    NaN  \n",
       "78827                    NaN  \n",
       "78828                    NaN  \n",
       "78829                    NaN  \n",
       "78830                    NaN  \n",
       "78831                    NaN  \n",
       "78832                    NaN  \n",
       "78833                    NaN  \n",
       "78834                    NaN  \n",
       "78835                    NaN  \n",
       "78836                    NaN  \n",
       "78837                    NaN  \n",
       "78838                    NaN  \n",
       "78839                    NaN  \n",
       "78840                    NaN  \n",
       "78841                    NaN  \n",
       "78842                    NaN  "
      ]
     },
     "execution_count": 85,
     "metadata": {},
     "output_type": "execute_result"
    }
   ],
   "source": [
    "covid_SC[covid_SC['municipio'] == 'Blumenau']"
   ]
  },
  {
   "cell_type": "code",
   "execution_count": null,
   "metadata": {
    "collapsed": true
   },
   "outputs": [],
   "source": []
  },
  {
   "cell_type": "markdown",
   "metadata": {
    "deletable": true,
    "editable": true
   },
   "source": [
    "----------------"
   ]
  },
  {
   "cell_type": "markdown",
   "metadata": {
    "deletable": true,
    "editable": true
   },
   "source": [
    "## Visualizing the number of cases by state"
   ]
  },
  {
   "cell_type": "markdown",
   "metadata": {
    "deletable": true,
    "editable": true
   },
   "source": [
    "#### Preparing the dataset only with tha state data:"
   ]
  },
  {
   "cell_type": "code",
   "execution_count": 94,
   "metadata": {
    "collapsed": false,
    "deletable": true,
    "editable": true
   },
   "outputs": [
    {
     "data": {
      "text/plain": [
       "'2020-05-21'"
      ]
     },
     "execution_count": 94,
     "metadata": {},
     "output_type": "execute_result"
    }
   ],
   "source": [
    "## Getting the last date from data:\n",
    "lastDay = covidData.data.max()\n",
    "lastDay"
   ]
  },
  {
   "cell_type": "code",
   "execution_count": 95,
   "metadata": {
    "collapsed": true,
    "deletable": true,
    "editable": true
   },
   "outputs": [],
   "source": [
    "covidLastDay = covidData[covidData.data == lastDay]"
   ]
  },
  {
   "cell_type": "code",
   "execution_count": 96,
   "metadata": {
    "collapsed": false,
    "deletable": true,
    "editable": true
   },
   "outputs": [],
   "source": [
    "covidLastDay = covidLastDay[(covidLastDay.estado.isna() == False) & \n",
    "                            (covidLastDay.municipio.isna() == True) &\n",
    "                            (covidLastDay.populacaoTCU2019.isna() == False)]\n",
    "\n",
    "covidLastDay = covidLastDay[['regiao','estado','data','populacaoTCU2019','casosAcumulado','obitosAcumulado']]"
   ]
  },
  {
   "cell_type": "code",
   "execution_count": 97,
   "metadata": {
    "collapsed": false,
    "scrolled": false
   },
   "outputs": [
    {
     "data": {
      "text/html": [
       "<div>\n",
       "<style scoped>\n",
       "    .dataframe tbody tr th:only-of-type {\n",
       "        vertical-align: middle;\n",
       "    }\n",
       "\n",
       "    .dataframe tbody tr th {\n",
       "        vertical-align: top;\n",
       "    }\n",
       "\n",
       "    .dataframe thead th {\n",
       "        text-align: right;\n",
       "    }\n",
       "</style>\n",
       "<table border=\"1\" class=\"dataframe\">\n",
       "  <thead>\n",
       "    <tr style=\"text-align: right;\">\n",
       "      <th></th>\n",
       "      <th>regiao</th>\n",
       "      <th>estado</th>\n",
       "      <th>data</th>\n",
       "      <th>populacaoTCU2019</th>\n",
       "      <th>casosAcumulado</th>\n",
       "      <th>obitosAcumulado</th>\n",
       "    </tr>\n",
       "  </thead>\n",
       "  <tbody>\n",
       "    <tr>\n",
       "      <th>148</th>\n",
       "      <td>Norte</td>\n",
       "      <td>RO</td>\n",
       "      <td>2020-05-21</td>\n",
       "      <td>1777225.0</td>\n",
       "      <td>2659</td>\n",
       "      <td>101</td>\n",
       "    </tr>\n",
       "    <tr>\n",
       "      <th>212</th>\n",
       "      <td>Norte</td>\n",
       "      <td>AC</td>\n",
       "      <td>2020-05-21</td>\n",
       "      <td>881935.0</td>\n",
       "      <td>3103</td>\n",
       "      <td>78</td>\n",
       "    </tr>\n",
       "    <tr>\n",
       "      <th>280</th>\n",
       "      <td>Norte</td>\n",
       "      <td>AM</td>\n",
       "      <td>2020-05-21</td>\n",
       "      <td>4144597.0</td>\n",
       "      <td>25367</td>\n",
       "      <td>1620</td>\n",
       "    </tr>\n",
       "    <tr>\n",
       "      <th>341</th>\n",
       "      <td>Norte</td>\n",
       "      <td>RR</td>\n",
       "      <td>2020-05-21</td>\n",
       "      <td>605761.0</td>\n",
       "      <td>2146</td>\n",
       "      <td>72</td>\n",
       "    </tr>\n",
       "    <tr>\n",
       "      <th>405</th>\n",
       "      <td>Norte</td>\n",
       "      <td>PA</td>\n",
       "      <td>2020-05-21</td>\n",
       "      <td>8602865.0</td>\n",
       "      <td>19756</td>\n",
       "      <td>1852</td>\n",
       "    </tr>\n",
       "    <tr>\n",
       "      <th>468</th>\n",
       "      <td>Norte</td>\n",
       "      <td>AP</td>\n",
       "      <td>2020-05-21</td>\n",
       "      <td>845731.0</td>\n",
       "      <td>5188</td>\n",
       "      <td>151</td>\n",
       "    </tr>\n",
       "    <tr>\n",
       "      <th>532</th>\n",
       "      <td>Norte</td>\n",
       "      <td>TO</td>\n",
       "      <td>2020-05-21</td>\n",
       "      <td>1572866.0</td>\n",
       "      <td>1976</td>\n",
       "      <td>47</td>\n",
       "    </tr>\n",
       "    <tr>\n",
       "      <th>594</th>\n",
       "      <td>Nordeste</td>\n",
       "      <td>MA</td>\n",
       "      <td>2020-05-21</td>\n",
       "      <td>7075181.0</td>\n",
       "      <td>16058</td>\n",
       "      <td>663</td>\n",
       "    </tr>\n",
       "    <tr>\n",
       "      <th>657</th>\n",
       "      <td>Nordeste</td>\n",
       "      <td>PI</td>\n",
       "      <td>2020-05-21</td>\n",
       "      <td>3273227.0</td>\n",
       "      <td>2852</td>\n",
       "      <td>91</td>\n",
       "    </tr>\n",
       "    <tr>\n",
       "      <th>723</th>\n",
       "      <td>Nordeste</td>\n",
       "      <td>CE</td>\n",
       "      <td>2020-05-21</td>\n",
       "      <td>9132078.0</td>\n",
       "      <td>31413</td>\n",
       "      <td>2161</td>\n",
       "    </tr>\n",
       "    <tr>\n",
       "      <th>793</th>\n",
       "      <td>Nordeste</td>\n",
       "      <td>RN</td>\n",
       "      <td>2020-05-21</td>\n",
       "      <td>3506853.0</td>\n",
       "      <td>4060</td>\n",
       "      <td>178</td>\n",
       "    </tr>\n",
       "    <tr>\n",
       "      <th>857</th>\n",
       "      <td>Nordeste</td>\n",
       "      <td>PB</td>\n",
       "      <td>2020-05-21</td>\n",
       "      <td>4018127.0</td>\n",
       "      <td>6238</td>\n",
       "      <td>245</td>\n",
       "    </tr>\n",
       "    <tr>\n",
       "      <th>928</th>\n",
       "      <td>Nordeste</td>\n",
       "      <td>PE</td>\n",
       "      <td>2020-05-21</td>\n",
       "      <td>9557071.0</td>\n",
       "      <td>23911</td>\n",
       "      <td>1925</td>\n",
       "    </tr>\n",
       "    <tr>\n",
       "      <th>1003</th>\n",
       "      <td>Nordeste</td>\n",
       "      <td>AL</td>\n",
       "      <td>2020-05-21</td>\n",
       "      <td>3337357.0</td>\n",
       "      <td>4916</td>\n",
       "      <td>262</td>\n",
       "    </tr>\n",
       "    <tr>\n",
       "      <th>1071</th>\n",
       "      <td>Nordeste</td>\n",
       "      <td>SE</td>\n",
       "      <td>2020-05-21</td>\n",
       "      <td>2298696.0</td>\n",
       "      <td>4734</td>\n",
       "      <td>76</td>\n",
       "    </tr>\n",
       "    <tr>\n",
       "      <th>1148</th>\n",
       "      <td>Nordeste</td>\n",
       "      <td>BA</td>\n",
       "      <td>2020-05-21</td>\n",
       "      <td>14873064.0</td>\n",
       "      <td>11941</td>\n",
       "      <td>376</td>\n",
       "    </tr>\n",
       "    <tr>\n",
       "      <th>1223</th>\n",
       "      <td>Sudeste</td>\n",
       "      <td>MG</td>\n",
       "      <td>2020-05-21</td>\n",
       "      <td>21168791.0</td>\n",
       "      <td>5596</td>\n",
       "      <td>191</td>\n",
       "    </tr>\n",
       "    <tr>\n",
       "      <th>1300</th>\n",
       "      <td>Sudeste</td>\n",
       "      <td>ES</td>\n",
       "      <td>2020-05-21</td>\n",
       "      <td>4018650.0</td>\n",
       "      <td>8878</td>\n",
       "      <td>363</td>\n",
       "    </tr>\n",
       "    <tr>\n",
       "      <th>1378</th>\n",
       "      <td>Sudeste</td>\n",
       "      <td>RJ</td>\n",
       "      <td>2020-05-21</td>\n",
       "      <td>17264943.0</td>\n",
       "      <td>32089</td>\n",
       "      <td>3412</td>\n",
       "    </tr>\n",
       "    <tr>\n",
       "      <th>1464</th>\n",
       "      <td>Sudeste</td>\n",
       "      <td>SP</td>\n",
       "      <td>2020-05-21</td>\n",
       "      <td>45919049.0</td>\n",
       "      <td>73739</td>\n",
       "      <td>5558</td>\n",
       "    </tr>\n",
       "    <tr>\n",
       "      <th>1535</th>\n",
       "      <td>Sul</td>\n",
       "      <td>PR</td>\n",
       "      <td>2020-05-21</td>\n",
       "      <td>11433957.0</td>\n",
       "      <td>2810</td>\n",
       "      <td>141</td>\n",
       "    </tr>\n",
       "    <tr>\n",
       "      <th>1605</th>\n",
       "      <td>Sul</td>\n",
       "      <td>SC</td>\n",
       "      <td>2020-05-21</td>\n",
       "      <td>7164788.0</td>\n",
       "      <td>5610</td>\n",
       "      <td>98</td>\n",
       "    </tr>\n",
       "    <tr>\n",
       "      <th>1678</th>\n",
       "      <td>Sul</td>\n",
       "      <td>RS</td>\n",
       "      <td>2020-05-21</td>\n",
       "      <td>11377239.0</td>\n",
       "      <td>5473</td>\n",
       "      <td>166</td>\n",
       "    </tr>\n",
       "    <tr>\n",
       "      <th>1745</th>\n",
       "      <td>Centro-Oeste</td>\n",
       "      <td>MS</td>\n",
       "      <td>2020-05-21</td>\n",
       "      <td>2778986.0</td>\n",
       "      <td>746</td>\n",
       "      <td>17</td>\n",
       "    </tr>\n",
       "    <tr>\n",
       "      <th>1808</th>\n",
       "      <td>Centro-Oeste</td>\n",
       "      <td>MT</td>\n",
       "      <td>2020-05-21</td>\n",
       "      <td>3484466.0</td>\n",
       "      <td>1172</td>\n",
       "      <td>34</td>\n",
       "    </tr>\n",
       "    <tr>\n",
       "      <th>1878</th>\n",
       "      <td>Centro-Oeste</td>\n",
       "      <td>GO</td>\n",
       "      <td>2020-05-21</td>\n",
       "      <td>7018354.0</td>\n",
       "      <td>2114</td>\n",
       "      <td>85</td>\n",
       "    </tr>\n",
       "    <tr>\n",
       "      <th>1954</th>\n",
       "      <td>Centro-Oeste</td>\n",
       "      <td>DF</td>\n",
       "      <td>2020-05-21</td>\n",
       "      <td>3015268.0</td>\n",
       "      <td>5542</td>\n",
       "      <td>84</td>\n",
       "    </tr>\n",
       "  </tbody>\n",
       "</table>\n",
       "</div>"
      ],
      "text/plain": [
       "            regiao estado        data  populacaoTCU2019  casosAcumulado  \\\n",
       "148          Norte     RO  2020-05-21         1777225.0            2659   \n",
       "212          Norte     AC  2020-05-21          881935.0            3103   \n",
       "280          Norte     AM  2020-05-21         4144597.0           25367   \n",
       "341          Norte     RR  2020-05-21          605761.0            2146   \n",
       "405          Norte     PA  2020-05-21         8602865.0           19756   \n",
       "468          Norte     AP  2020-05-21          845731.0            5188   \n",
       "532          Norte     TO  2020-05-21         1572866.0            1976   \n",
       "594       Nordeste     MA  2020-05-21         7075181.0           16058   \n",
       "657       Nordeste     PI  2020-05-21         3273227.0            2852   \n",
       "723       Nordeste     CE  2020-05-21         9132078.0           31413   \n",
       "793       Nordeste     RN  2020-05-21         3506853.0            4060   \n",
       "857       Nordeste     PB  2020-05-21         4018127.0            6238   \n",
       "928       Nordeste     PE  2020-05-21         9557071.0           23911   \n",
       "1003      Nordeste     AL  2020-05-21         3337357.0            4916   \n",
       "1071      Nordeste     SE  2020-05-21         2298696.0            4734   \n",
       "1148      Nordeste     BA  2020-05-21        14873064.0           11941   \n",
       "1223       Sudeste     MG  2020-05-21        21168791.0            5596   \n",
       "1300       Sudeste     ES  2020-05-21         4018650.0            8878   \n",
       "1378       Sudeste     RJ  2020-05-21        17264943.0           32089   \n",
       "1464       Sudeste     SP  2020-05-21        45919049.0           73739   \n",
       "1535           Sul     PR  2020-05-21        11433957.0            2810   \n",
       "1605           Sul     SC  2020-05-21         7164788.0            5610   \n",
       "1678           Sul     RS  2020-05-21        11377239.0            5473   \n",
       "1745  Centro-Oeste     MS  2020-05-21         2778986.0             746   \n",
       "1808  Centro-Oeste     MT  2020-05-21         3484466.0            1172   \n",
       "1878  Centro-Oeste     GO  2020-05-21         7018354.0            2114   \n",
       "1954  Centro-Oeste     DF  2020-05-21         3015268.0            5542   \n",
       "\n",
       "      obitosAcumulado  \n",
       "148               101  \n",
       "212                78  \n",
       "280              1620  \n",
       "341                72  \n",
       "405              1852  \n",
       "468               151  \n",
       "532                47  \n",
       "594               663  \n",
       "657                91  \n",
       "723              2161  \n",
       "793               178  \n",
       "857               245  \n",
       "928              1925  \n",
       "1003              262  \n",
       "1071               76  \n",
       "1148              376  \n",
       "1223              191  \n",
       "1300              363  \n",
       "1378             3412  \n",
       "1464             5558  \n",
       "1535              141  \n",
       "1605               98  \n",
       "1678              166  \n",
       "1745               17  \n",
       "1808               34  \n",
       "1878               85  \n",
       "1954               84  "
      ]
     },
     "execution_count": 97,
     "metadata": {},
     "output_type": "execute_result"
    }
   ],
   "source": [
    "covidLastDay"
   ]
  },
  {
   "cell_type": "markdown",
   "metadata": {},
   "source": [
    "#### Normalizing data:"
   ]
  },
  {
   "cell_type": "code",
   "execution_count": 117,
   "metadata": {
    "collapsed": true
   },
   "outputs": [],
   "source": [
    "normalCovid = covidLastDay.copy()"
   ]
  },
  {
   "cell_type": "code",
   "execution_count": 119,
   "metadata": {
    "collapsed": true
   },
   "outputs": [],
   "source": [
    "## Contamination rate (pct of population)\n",
    "normalCovid['contamRate'] = (normalCovid['casosAcumulado'] / normalCovid['populacaoTCU2019']) * 100\n",
    "## Lethality rate (pct of cases)\n",
    "normalCovid['lethality_pct'] = (normalCovid['obitosAcumulado'] / normalCovid['casosAcumulado']) * 100\n",
    "## Death rate (pct of population)\n",
    "normalCovid['deathRate'] = (normalCovid['obitosAcumulado'] / normalCovid['populacaoTCU2019']) * 100"
   ]
  },
  {
   "cell_type": "code",
   "execution_count": 120,
   "metadata": {
    "collapsed": false
   },
   "outputs": [
    {
     "data": {
      "text/plain": [
       "73739"
      ]
     },
     "execution_count": 120,
     "metadata": {},
     "output_type": "execute_result"
    }
   ],
   "source": [
    "normalCovid['casosAcumulado'].max()"
   ]
  },
  {
   "cell_type": "code",
   "execution_count": 121,
   "metadata": {
    "collapsed": false
   },
   "outputs": [
    {
     "data": {
      "text/plain": [
       "5558"
      ]
     },
     "execution_count": 121,
     "metadata": {},
     "output_type": "execute_result"
    }
   ],
   "source": [
    "normalCovid['obitosAcumulado'].max()"
   ]
  },
  {
   "cell_type": "code",
   "execution_count": 123,
   "metadata": {
    "collapsed": false
   },
   "outputs": [
    {
     "data": {
      "text/plain": [
       "1378"
      ]
     },
     "execution_count": 123,
     "metadata": {},
     "output_type": "execute_result"
    }
   ],
   "source": [
    "normalCovid.lethality_pct.idxmax()"
   ]
  },
  {
   "cell_type": "code",
   "execution_count": 124,
   "metadata": {
    "collapsed": false,
    "scrolled": true
   },
   "outputs": [
    {
     "data": {
      "text/html": [
       "<div>\n",
       "<style scoped>\n",
       "    .dataframe tbody tr th:only-of-type {\n",
       "        vertical-align: middle;\n",
       "    }\n",
       "\n",
       "    .dataframe tbody tr th {\n",
       "        vertical-align: top;\n",
       "    }\n",
       "\n",
       "    .dataframe thead th {\n",
       "        text-align: right;\n",
       "    }\n",
       "</style>\n",
       "<table border=\"1\" class=\"dataframe\">\n",
       "  <thead>\n",
       "    <tr style=\"text-align: right;\">\n",
       "      <th></th>\n",
       "      <th>regiao</th>\n",
       "      <th>estado</th>\n",
       "      <th>data</th>\n",
       "      <th>populacaoTCU2019</th>\n",
       "      <th>casosAcumulado</th>\n",
       "      <th>obitosAcumulado</th>\n",
       "      <th>contamRate</th>\n",
       "      <th>lethality_pct</th>\n",
       "      <th>deathRate</th>\n",
       "    </tr>\n",
       "  </thead>\n",
       "  <tbody>\n",
       "    <tr>\n",
       "      <th>212</th>\n",
       "      <td>Norte</td>\n",
       "      <td>AC</td>\n",
       "      <td>2020-05-21</td>\n",
       "      <td>881935.0</td>\n",
       "      <td>3103</td>\n",
       "      <td>78</td>\n",
       "      <td>0.351840</td>\n",
       "      <td>2.513696</td>\n",
       "      <td>0.008844</td>\n",
       "    </tr>\n",
       "    <tr>\n",
       "      <th>1003</th>\n",
       "      <td>Nordeste</td>\n",
       "      <td>AL</td>\n",
       "      <td>2020-05-21</td>\n",
       "      <td>3337357.0</td>\n",
       "      <td>4916</td>\n",
       "      <td>262</td>\n",
       "      <td>0.147302</td>\n",
       "      <td>5.329536</td>\n",
       "      <td>0.007851</td>\n",
       "    </tr>\n",
       "    <tr>\n",
       "      <th>280</th>\n",
       "      <td>Norte</td>\n",
       "      <td>AM</td>\n",
       "      <td>2020-05-21</td>\n",
       "      <td>4144597.0</td>\n",
       "      <td>25367</td>\n",
       "      <td>1620</td>\n",
       "      <td>0.612050</td>\n",
       "      <td>6.386250</td>\n",
       "      <td>0.039087</td>\n",
       "    </tr>\n",
       "    <tr>\n",
       "      <th>468</th>\n",
       "      <td>Norte</td>\n",
       "      <td>AP</td>\n",
       "      <td>2020-05-21</td>\n",
       "      <td>845731.0</td>\n",
       "      <td>5188</td>\n",
       "      <td>151</td>\n",
       "      <td>0.613434</td>\n",
       "      <td>2.910563</td>\n",
       "      <td>0.017854</td>\n",
       "    </tr>\n",
       "    <tr>\n",
       "      <th>1148</th>\n",
       "      <td>Nordeste</td>\n",
       "      <td>BA</td>\n",
       "      <td>2020-05-21</td>\n",
       "      <td>14873064.0</td>\n",
       "      <td>11941</td>\n",
       "      <td>376</td>\n",
       "      <td>0.080286</td>\n",
       "      <td>3.148815</td>\n",
       "      <td>0.002528</td>\n",
       "    </tr>\n",
       "    <tr>\n",
       "      <th>723</th>\n",
       "      <td>Nordeste</td>\n",
       "      <td>CE</td>\n",
       "      <td>2020-05-21</td>\n",
       "      <td>9132078.0</td>\n",
       "      <td>31413</td>\n",
       "      <td>2161</td>\n",
       "      <td>0.343985</td>\n",
       "      <td>6.879317</td>\n",
       "      <td>0.023664</td>\n",
       "    </tr>\n",
       "    <tr>\n",
       "      <th>1954</th>\n",
       "      <td>Centro-Oeste</td>\n",
       "      <td>DF</td>\n",
       "      <td>2020-05-21</td>\n",
       "      <td>3015268.0</td>\n",
       "      <td>5542</td>\n",
       "      <td>84</td>\n",
       "      <td>0.183798</td>\n",
       "      <td>1.515698</td>\n",
       "      <td>0.002786</td>\n",
       "    </tr>\n",
       "    <tr>\n",
       "      <th>1300</th>\n",
       "      <td>Sudeste</td>\n",
       "      <td>ES</td>\n",
       "      <td>2020-05-21</td>\n",
       "      <td>4018650.0</td>\n",
       "      <td>8878</td>\n",
       "      <td>363</td>\n",
       "      <td>0.220920</td>\n",
       "      <td>4.088759</td>\n",
       "      <td>0.009033</td>\n",
       "    </tr>\n",
       "    <tr>\n",
       "      <th>1878</th>\n",
       "      <td>Centro-Oeste</td>\n",
       "      <td>GO</td>\n",
       "      <td>2020-05-21</td>\n",
       "      <td>7018354.0</td>\n",
       "      <td>2114</td>\n",
       "      <td>85</td>\n",
       "      <td>0.030121</td>\n",
       "      <td>4.020814</td>\n",
       "      <td>0.001211</td>\n",
       "    </tr>\n",
       "    <tr>\n",
       "      <th>594</th>\n",
       "      <td>Nordeste</td>\n",
       "      <td>MA</td>\n",
       "      <td>2020-05-21</td>\n",
       "      <td>7075181.0</td>\n",
       "      <td>16058</td>\n",
       "      <td>663</td>\n",
       "      <td>0.226962</td>\n",
       "      <td>4.128783</td>\n",
       "      <td>0.009371</td>\n",
       "    </tr>\n",
       "    <tr>\n",
       "      <th>1223</th>\n",
       "      <td>Sudeste</td>\n",
       "      <td>MG</td>\n",
       "      <td>2020-05-21</td>\n",
       "      <td>21168791.0</td>\n",
       "      <td>5596</td>\n",
       "      <td>191</td>\n",
       "      <td>0.026435</td>\n",
       "      <td>3.413152</td>\n",
       "      <td>0.000902</td>\n",
       "    </tr>\n",
       "    <tr>\n",
       "      <th>1745</th>\n",
       "      <td>Centro-Oeste</td>\n",
       "      <td>MS</td>\n",
       "      <td>2020-05-21</td>\n",
       "      <td>2778986.0</td>\n",
       "      <td>746</td>\n",
       "      <td>17</td>\n",
       "      <td>0.026844</td>\n",
       "      <td>2.278820</td>\n",
       "      <td>0.000612</td>\n",
       "    </tr>\n",
       "    <tr>\n",
       "      <th>1808</th>\n",
       "      <td>Centro-Oeste</td>\n",
       "      <td>MT</td>\n",
       "      <td>2020-05-21</td>\n",
       "      <td>3484466.0</td>\n",
       "      <td>1172</td>\n",
       "      <td>34</td>\n",
       "      <td>0.033635</td>\n",
       "      <td>2.901024</td>\n",
       "      <td>0.000976</td>\n",
       "    </tr>\n",
       "    <tr>\n",
       "      <th>405</th>\n",
       "      <td>Norte</td>\n",
       "      <td>PA</td>\n",
       "      <td>2020-05-21</td>\n",
       "      <td>8602865.0</td>\n",
       "      <td>19756</td>\n",
       "      <td>1852</td>\n",
       "      <td>0.229644</td>\n",
       "      <td>9.374367</td>\n",
       "      <td>0.021528</td>\n",
       "    </tr>\n",
       "    <tr>\n",
       "      <th>857</th>\n",
       "      <td>Nordeste</td>\n",
       "      <td>PB</td>\n",
       "      <td>2020-05-21</td>\n",
       "      <td>4018127.0</td>\n",
       "      <td>6238</td>\n",
       "      <td>245</td>\n",
       "      <td>0.155246</td>\n",
       "      <td>3.927541</td>\n",
       "      <td>0.006097</td>\n",
       "    </tr>\n",
       "    <tr>\n",
       "      <th>928</th>\n",
       "      <td>Nordeste</td>\n",
       "      <td>PE</td>\n",
       "      <td>2020-05-21</td>\n",
       "      <td>9557071.0</td>\n",
       "      <td>23911</td>\n",
       "      <td>1925</td>\n",
       "      <td>0.250192</td>\n",
       "      <td>8.050688</td>\n",
       "      <td>0.020142</td>\n",
       "    </tr>\n",
       "    <tr>\n",
       "      <th>657</th>\n",
       "      <td>Nordeste</td>\n",
       "      <td>PI</td>\n",
       "      <td>2020-05-21</td>\n",
       "      <td>3273227.0</td>\n",
       "      <td>2852</td>\n",
       "      <td>91</td>\n",
       "      <td>0.087131</td>\n",
       "      <td>3.190743</td>\n",
       "      <td>0.002780</td>\n",
       "    </tr>\n",
       "    <tr>\n",
       "      <th>1535</th>\n",
       "      <td>Sul</td>\n",
       "      <td>PR</td>\n",
       "      <td>2020-05-21</td>\n",
       "      <td>11433957.0</td>\n",
       "      <td>2810</td>\n",
       "      <td>141</td>\n",
       "      <td>0.024576</td>\n",
       "      <td>5.017794</td>\n",
       "      <td>0.001233</td>\n",
       "    </tr>\n",
       "    <tr>\n",
       "      <th>1378</th>\n",
       "      <td>Sudeste</td>\n",
       "      <td>RJ</td>\n",
       "      <td>2020-05-21</td>\n",
       "      <td>17264943.0</td>\n",
       "      <td>32089</td>\n",
       "      <td>3412</td>\n",
       "      <td>0.185862</td>\n",
       "      <td>10.632927</td>\n",
       "      <td>0.019763</td>\n",
       "    </tr>\n",
       "    <tr>\n",
       "      <th>793</th>\n",
       "      <td>Nordeste</td>\n",
       "      <td>RN</td>\n",
       "      <td>2020-05-21</td>\n",
       "      <td>3506853.0</td>\n",
       "      <td>4060</td>\n",
       "      <td>178</td>\n",
       "      <td>0.115773</td>\n",
       "      <td>4.384236</td>\n",
       "      <td>0.005076</td>\n",
       "    </tr>\n",
       "    <tr>\n",
       "      <th>148</th>\n",
       "      <td>Norte</td>\n",
       "      <td>RO</td>\n",
       "      <td>2020-05-21</td>\n",
       "      <td>1777225.0</td>\n",
       "      <td>2659</td>\n",
       "      <td>101</td>\n",
       "      <td>0.149615</td>\n",
       "      <td>3.798420</td>\n",
       "      <td>0.005683</td>\n",
       "    </tr>\n",
       "    <tr>\n",
       "      <th>341</th>\n",
       "      <td>Norte</td>\n",
       "      <td>RR</td>\n",
       "      <td>2020-05-21</td>\n",
       "      <td>605761.0</td>\n",
       "      <td>2146</td>\n",
       "      <td>72</td>\n",
       "      <td>0.354265</td>\n",
       "      <td>3.355079</td>\n",
       "      <td>0.011886</td>\n",
       "    </tr>\n",
       "    <tr>\n",
       "      <th>1678</th>\n",
       "      <td>Sul</td>\n",
       "      <td>RS</td>\n",
       "      <td>2020-05-21</td>\n",
       "      <td>11377239.0</td>\n",
       "      <td>5473</td>\n",
       "      <td>166</td>\n",
       "      <td>0.048105</td>\n",
       "      <td>3.033071</td>\n",
       "      <td>0.001459</td>\n",
       "    </tr>\n",
       "    <tr>\n",
       "      <th>1605</th>\n",
       "      <td>Sul</td>\n",
       "      <td>SC</td>\n",
       "      <td>2020-05-21</td>\n",
       "      <td>7164788.0</td>\n",
       "      <td>5610</td>\n",
       "      <td>98</td>\n",
       "      <td>0.078300</td>\n",
       "      <td>1.746881</td>\n",
       "      <td>0.001368</td>\n",
       "    </tr>\n",
       "    <tr>\n",
       "      <th>1071</th>\n",
       "      <td>Nordeste</td>\n",
       "      <td>SE</td>\n",
       "      <td>2020-05-21</td>\n",
       "      <td>2298696.0</td>\n",
       "      <td>4734</td>\n",
       "      <td>76</td>\n",
       "      <td>0.205943</td>\n",
       "      <td>1.605408</td>\n",
       "      <td>0.003306</td>\n",
       "    </tr>\n",
       "    <tr>\n",
       "      <th>1464</th>\n",
       "      <td>Sudeste</td>\n",
       "      <td>SP</td>\n",
       "      <td>2020-05-21</td>\n",
       "      <td>45919049.0</td>\n",
       "      <td>73739</td>\n",
       "      <td>5558</td>\n",
       "      <td>0.160585</td>\n",
       "      <td>7.537395</td>\n",
       "      <td>0.012104</td>\n",
       "    </tr>\n",
       "    <tr>\n",
       "      <th>532</th>\n",
       "      <td>Norte</td>\n",
       "      <td>TO</td>\n",
       "      <td>2020-05-21</td>\n",
       "      <td>1572866.0</td>\n",
       "      <td>1976</td>\n",
       "      <td>47</td>\n",
       "      <td>0.125631</td>\n",
       "      <td>2.378543</td>\n",
       "      <td>0.002988</td>\n",
       "    </tr>\n",
       "  </tbody>\n",
       "</table>\n",
       "</div>"
      ],
      "text/plain": [
       "            regiao estado        data  populacaoTCU2019  casosAcumulado  \\\n",
       "212          Norte     AC  2020-05-21          881935.0            3103   \n",
       "1003      Nordeste     AL  2020-05-21         3337357.0            4916   \n",
       "280          Norte     AM  2020-05-21         4144597.0           25367   \n",
       "468          Norte     AP  2020-05-21          845731.0            5188   \n",
       "1148      Nordeste     BA  2020-05-21        14873064.0           11941   \n",
       "723       Nordeste     CE  2020-05-21         9132078.0           31413   \n",
       "1954  Centro-Oeste     DF  2020-05-21         3015268.0            5542   \n",
       "1300       Sudeste     ES  2020-05-21         4018650.0            8878   \n",
       "1878  Centro-Oeste     GO  2020-05-21         7018354.0            2114   \n",
       "594       Nordeste     MA  2020-05-21         7075181.0           16058   \n",
       "1223       Sudeste     MG  2020-05-21        21168791.0            5596   \n",
       "1745  Centro-Oeste     MS  2020-05-21         2778986.0             746   \n",
       "1808  Centro-Oeste     MT  2020-05-21         3484466.0            1172   \n",
       "405          Norte     PA  2020-05-21         8602865.0           19756   \n",
       "857       Nordeste     PB  2020-05-21         4018127.0            6238   \n",
       "928       Nordeste     PE  2020-05-21         9557071.0           23911   \n",
       "657       Nordeste     PI  2020-05-21         3273227.0            2852   \n",
       "1535           Sul     PR  2020-05-21        11433957.0            2810   \n",
       "1378       Sudeste     RJ  2020-05-21        17264943.0           32089   \n",
       "793       Nordeste     RN  2020-05-21         3506853.0            4060   \n",
       "148          Norte     RO  2020-05-21         1777225.0            2659   \n",
       "341          Norte     RR  2020-05-21          605761.0            2146   \n",
       "1678           Sul     RS  2020-05-21        11377239.0            5473   \n",
       "1605           Sul     SC  2020-05-21         7164788.0            5610   \n",
       "1071      Nordeste     SE  2020-05-21         2298696.0            4734   \n",
       "1464       Sudeste     SP  2020-05-21        45919049.0           73739   \n",
       "532          Norte     TO  2020-05-21         1572866.0            1976   \n",
       "\n",
       "      obitosAcumulado  contamRate  lethality_pct  deathRate  \n",
       "212                78    0.351840       2.513696   0.008844  \n",
       "1003              262    0.147302       5.329536   0.007851  \n",
       "280              1620    0.612050       6.386250   0.039087  \n",
       "468               151    0.613434       2.910563   0.017854  \n",
       "1148              376    0.080286       3.148815   0.002528  \n",
       "723              2161    0.343985       6.879317   0.023664  \n",
       "1954               84    0.183798       1.515698   0.002786  \n",
       "1300              363    0.220920       4.088759   0.009033  \n",
       "1878               85    0.030121       4.020814   0.001211  \n",
       "594               663    0.226962       4.128783   0.009371  \n",
       "1223              191    0.026435       3.413152   0.000902  \n",
       "1745               17    0.026844       2.278820   0.000612  \n",
       "1808               34    0.033635       2.901024   0.000976  \n",
       "405              1852    0.229644       9.374367   0.021528  \n",
       "857               245    0.155246       3.927541   0.006097  \n",
       "928              1925    0.250192       8.050688   0.020142  \n",
       "657                91    0.087131       3.190743   0.002780  \n",
       "1535              141    0.024576       5.017794   0.001233  \n",
       "1378             3412    0.185862      10.632927   0.019763  \n",
       "793               178    0.115773       4.384236   0.005076  \n",
       "148               101    0.149615       3.798420   0.005683  \n",
       "341                72    0.354265       3.355079   0.011886  \n",
       "1678              166    0.048105       3.033071   0.001459  \n",
       "1605               98    0.078300       1.746881   0.001368  \n",
       "1071               76    0.205943       1.605408   0.003306  \n",
       "1464             5558    0.160585       7.537395   0.012104  \n",
       "532                47    0.125631       2.378543   0.002988  "
      ]
     },
     "execution_count": 124,
     "metadata": {},
     "output_type": "execute_result"
    }
   ],
   "source": [
    "normalCovid.sort_values(by=['estado'])"
   ]
  },
  {
   "cell_type": "markdown",
   "metadata": {},
   "source": [
    "#### Dataframe queries:"
   ]
  },
  {
   "cell_type": "code",
   "execution_count": 125,
   "metadata": {
    "collapsed": false
   },
   "outputs": [
    {
     "data": {
      "text/html": [
       "<div>\n",
       "<style scoped>\n",
       "    .dataframe tbody tr th:only-of-type {\n",
       "        vertical-align: middle;\n",
       "    }\n",
       "\n",
       "    .dataframe tbody tr th {\n",
       "        vertical-align: top;\n",
       "    }\n",
       "\n",
       "    .dataframe thead th {\n",
       "        text-align: right;\n",
       "    }\n",
       "</style>\n",
       "<table border=\"1\" class=\"dataframe\">\n",
       "  <thead>\n",
       "    <tr style=\"text-align: right;\">\n",
       "      <th></th>\n",
       "      <th>regiao</th>\n",
       "      <th>estado</th>\n",
       "      <th>data</th>\n",
       "      <th>populacaoTCU2019</th>\n",
       "      <th>casosAcumulado</th>\n",
       "      <th>obitosAcumulado</th>\n",
       "      <th>contamRate</th>\n",
       "      <th>lethality_pct</th>\n",
       "      <th>deathRate</th>\n",
       "    </tr>\n",
       "  </thead>\n",
       "  <tbody>\n",
       "    <tr>\n",
       "      <th>212</th>\n",
       "      <td>Norte</td>\n",
       "      <td>AC</td>\n",
       "      <td>2020-05-21</td>\n",
       "      <td>881935.0</td>\n",
       "      <td>3103</td>\n",
       "      <td>78</td>\n",
       "      <td>0.35184</td>\n",
       "      <td>2.513696</td>\n",
       "      <td>0.008844</td>\n",
       "    </tr>\n",
       "  </tbody>\n",
       "</table>\n",
       "</div>"
      ],
      "text/plain": [
       "    regiao estado        data  populacaoTCU2019  casosAcumulado  \\\n",
       "212  Norte     AC  2020-05-21          881935.0            3103   \n",
       "\n",
       "     obitosAcumulado  contamRate  lethality_pct  deathRate  \n",
       "212               78     0.35184       2.513696   0.008844  "
      ]
     },
     "execution_count": 125,
     "metadata": {},
     "output_type": "execute_result"
    }
   ],
   "source": [
    "normalCovid.query(\"estado=='AC'\")"
   ]
  },
  {
   "cell_type": "code",
   "execution_count": 126,
   "metadata": {
    "collapsed": false
   },
   "outputs": [
    {
     "data": {
      "text/html": [
       "<div>\n",
       "<style scoped>\n",
       "    .dataframe tbody tr th:only-of-type {\n",
       "        vertical-align: middle;\n",
       "    }\n",
       "\n",
       "    .dataframe tbody tr th {\n",
       "        vertical-align: top;\n",
       "    }\n",
       "\n",
       "    .dataframe thead th {\n",
       "        text-align: right;\n",
       "    }\n",
       "</style>\n",
       "<table border=\"1\" class=\"dataframe\">\n",
       "  <thead>\n",
       "    <tr style=\"text-align: right;\">\n",
       "      <th></th>\n",
       "      <th>regiao</th>\n",
       "      <th>estado</th>\n",
       "      <th>data</th>\n",
       "      <th>populacaoTCU2019</th>\n",
       "      <th>casosAcumulado</th>\n",
       "      <th>obitosAcumulado</th>\n",
       "      <th>contamRate</th>\n",
       "      <th>lethality_pct</th>\n",
       "      <th>deathRate</th>\n",
       "    </tr>\n",
       "  </thead>\n",
       "  <tbody>\n",
       "    <tr>\n",
       "      <th>280</th>\n",
       "      <td>Norte</td>\n",
       "      <td>AM</td>\n",
       "      <td>2020-05-21</td>\n",
       "      <td>4144597.0</td>\n",
       "      <td>25367</td>\n",
       "      <td>1620</td>\n",
       "      <td>0.612050</td>\n",
       "      <td>6.386250</td>\n",
       "      <td>0.039087</td>\n",
       "    </tr>\n",
       "    <tr>\n",
       "      <th>405</th>\n",
       "      <td>Norte</td>\n",
       "      <td>PA</td>\n",
       "      <td>2020-05-21</td>\n",
       "      <td>8602865.0</td>\n",
       "      <td>19756</td>\n",
       "      <td>1852</td>\n",
       "      <td>0.229644</td>\n",
       "      <td>9.374367</td>\n",
       "      <td>0.021528</td>\n",
       "    </tr>\n",
       "    <tr>\n",
       "      <th>723</th>\n",
       "      <td>Nordeste</td>\n",
       "      <td>CE</td>\n",
       "      <td>2020-05-21</td>\n",
       "      <td>9132078.0</td>\n",
       "      <td>31413</td>\n",
       "      <td>2161</td>\n",
       "      <td>0.343985</td>\n",
       "      <td>6.879317</td>\n",
       "      <td>0.023664</td>\n",
       "    </tr>\n",
       "    <tr>\n",
       "      <th>928</th>\n",
       "      <td>Nordeste</td>\n",
       "      <td>PE</td>\n",
       "      <td>2020-05-21</td>\n",
       "      <td>9557071.0</td>\n",
       "      <td>23911</td>\n",
       "      <td>1925</td>\n",
       "      <td>0.250192</td>\n",
       "      <td>8.050688</td>\n",
       "      <td>0.020142</td>\n",
       "    </tr>\n",
       "    <tr>\n",
       "      <th>1378</th>\n",
       "      <td>Sudeste</td>\n",
       "      <td>RJ</td>\n",
       "      <td>2020-05-21</td>\n",
       "      <td>17264943.0</td>\n",
       "      <td>32089</td>\n",
       "      <td>3412</td>\n",
       "      <td>0.185862</td>\n",
       "      <td>10.632927</td>\n",
       "      <td>0.019763</td>\n",
       "    </tr>\n",
       "    <tr>\n",
       "      <th>1464</th>\n",
       "      <td>Sudeste</td>\n",
       "      <td>SP</td>\n",
       "      <td>2020-05-21</td>\n",
       "      <td>45919049.0</td>\n",
       "      <td>73739</td>\n",
       "      <td>5558</td>\n",
       "      <td>0.160585</td>\n",
       "      <td>7.537395</td>\n",
       "      <td>0.012104</td>\n",
       "    </tr>\n",
       "  </tbody>\n",
       "</table>\n",
       "</div>"
      ],
      "text/plain": [
       "        regiao estado        data  populacaoTCU2019  casosAcumulado  \\\n",
       "280      Norte     AM  2020-05-21         4144597.0           25367   \n",
       "405      Norte     PA  2020-05-21         8602865.0           19756   \n",
       "723   Nordeste     CE  2020-05-21         9132078.0           31413   \n",
       "928   Nordeste     PE  2020-05-21         9557071.0           23911   \n",
       "1378   Sudeste     RJ  2020-05-21        17264943.0           32089   \n",
       "1464   Sudeste     SP  2020-05-21        45919049.0           73739   \n",
       "\n",
       "      obitosAcumulado  contamRate  lethality_pct  deathRate  \n",
       "280              1620    0.612050       6.386250   0.039087  \n",
       "405              1852    0.229644       9.374367   0.021528  \n",
       "723              2161    0.343985       6.879317   0.023664  \n",
       "928              1925    0.250192       8.050688   0.020142  \n",
       "1378             3412    0.185862      10.632927   0.019763  \n",
       "1464             5558    0.160585       7.537395   0.012104  "
      ]
     },
     "execution_count": 126,
     "metadata": {},
     "output_type": "execute_result"
    }
   ],
   "source": [
    "normalCovid.query(\"obitosAcumulado > 1000\")"
   ]
  },
  {
   "cell_type": "markdown",
   "metadata": {
    "deletable": true,
    "editable": true
   },
   "source": [
    "-----------------"
   ]
  },
  {
   "cell_type": "markdown",
   "metadata": {},
   "source": [
    "### Four-Quadrant chart via Plotly:"
   ]
  },
  {
   "cell_type": "code",
   "execution_count": 270,
   "metadata": {
    "collapsed": true
   },
   "outputs": [],
   "source": [
    "import plotly.express as px\n",
    "## List of colormaps available in: https://plotly.com/python/builtin-colorscales/"
   ]
  },
  {
   "cell_type": "code",
   "execution_count": 377,
   "metadata": {
    "collapsed": false,
    "deletable": true,
    "editable": true,
    "scrolled": false
   },
   "outputs": [
    {
     "data": {
      "application/vnd.plotly.v1+json": {
       "config": {
        "plotlyServerURL": "https://plot.ly"
       },
       "data": [
        {
         "hoverlabel": {
          "namelength": 0
         },
         "hovertemplate": "<b>%{hovertext}</b><br><br>lethality_pct=%{x}<br>contamRate=%{y}<br>deathRate=%{marker.size}<br>estado=%{text}<br>obitosAcumulado=%{marker.color}",
         "hovertext": [
          "RO",
          "AC",
          "AM",
          "RR",
          "PA",
          "AP",
          "TO",
          "MA",
          "PI",
          "CE",
          "RN",
          "PB",
          "PE",
          "AL",
          "SE",
          "BA",
          "MG",
          "ES",
          "RJ",
          "SP",
          "PR",
          "SC",
          "RS",
          "MS",
          "MT",
          "GO",
          "DF"
         ],
         "legendgroup": "",
         "marker": {
          "color": [
           101,
           78,
           1620,
           72,
           1852,
           151,
           47,
           663,
           91,
           2161,
           178,
           245,
           1925,
           262,
           76,
           376,
           191,
           363,
           3412,
           5558,
           141,
           98,
           166,
           17,
           34,
           85,
           84
          ],
          "coloraxis": "coloraxis",
          "size": [
           0.005683017063118063,
           0.008844189197616604,
           0.03908703306980148,
           0.011885875782693175,
           0.021527711988971115,
           0.01785437686451129,
           0.0029881757250776607,
           0.009370785001825395,
           0.002780131044990158,
           0.023663836423648592,
           0.005075775916469838,
           0.006097368251426598,
           0.02014215443204304,
           0.007850523632922699,
           0.0033062223103881502,
           0.002528060122648568,
           0.0009022716507522795,
           0.009032884177522302,
           0.019762590586021627,
           0.01210390920770158,
           0.0012331688845777537,
           0.001367800415029726,
           0.0014590534663111148,
           0.0006117339202140636,
           0.0009757592698565575,
           0.0012111101833848792,
           0.0027858220231170164
          ],
          "sizemode": "area",
          "sizeref": 2.4429395668625925e-05,
          "symbol": "circle"
         },
         "mode": "markers+text",
         "name": "",
         "showlegend": false,
         "text": [
          "RO",
          "AC",
          "AM",
          "RR",
          "PA",
          "AP",
          "TO",
          "MA",
          "PI",
          "CE",
          "RN",
          "PB",
          "PE",
          "AL",
          "SE",
          "BA",
          "MG",
          "ES",
          "RJ",
          "SP",
          "PR",
          "SC",
          "RS",
          "MS",
          "MT",
          "GO",
          "DF"
         ],
         "textfont": {
          "family": "sans serif",
          "size": 13
         },
         "textposition": "middle center",
         "type": "scatter",
         "x": [
          3.798420458819105,
          2.5136964228166288,
          6.386249852170142,
          3.3550792171481825,
          9.374367280826078,
          2.9105628373168853,
          2.3785425101214575,
          4.128783161041225,
          3.190743338008415,
          6.879317480024194,
          4.384236453201971,
          3.9275408784866945,
          8.050687967880892,
          5.32953620829943,
          1.6054076890578792,
          3.1488150071183316,
          3.4131522516082917,
          4.088758729443569,
          10.632927171304809,
          7.5373954081286705,
          5.01779359430605,
          1.7468805704099821,
          3.0330714416225106,
          2.278820375335121,
          2.901023890784983,
          4.02081362346263,
          1.5156983038614218
         ],
         "xaxis": "x",
         "y": [
          0.14961527099832606,
          0.3518399882077477,
          0.6120498567170705,
          0.3542651309674938,
          0.2296444265950936,
          0.6134338223383085,
          0.12563053686709486,
          0.22696239149217526,
          0.08713114000342781,
          0.34398523534293074,
          0.11577331584757046,
          0.155246461846527,
          0.2501917166880941,
          0.14730219152461066,
          0.2059428475970724,
          0.08028607958655998,
          0.02643514218643852,
          0.22091996068331404,
          0.18586218326929893,
          0.16058477169246255,
          0.02457591890541481,
          0.07829959518690574,
          0.048104816994703196,
          0.02684432379292303,
          0.03363499600799663,
          0.030121022678536873,
          0.1837979244299346
         ],
         "yaxis": "y"
        }
       ],
       "layout": {
        "annotations": [
         {
          "align": "center",
          "bgcolor": "#E9967A",
          "bordercolor": "#708090",
          "borderwidth": 2,
          "font": {
           "color": "DarkRed"
          },
          "height": 20,
          "showarrow": false,
          "text": "<b>Zona crítica</b>",
          "width": 110,
          "x": 0.98,
          "xref": "paper",
          "y": 0.99,
          "yref": "paper"
         },
         {
          "align": "center",
          "bgcolor": "#DCDCDC",
          "bordercolor": "#708090",
          "borderwidth": 2,
          "font": {
           "color": "black"
          },
          "height": 20,
          "showarrow": false,
          "text": "Alta letalidade",
          "width": 110,
          "x": 0.98,
          "xref": "paper",
          "y": 0.01,
          "yref": "paper"
         },
         {
          "align": "center",
          "bgcolor": "#DCDCDC",
          "bordercolor": "#708090",
          "borderwidth": 2,
          "font": {
           "color": "DarkRed"
          },
          "height": 20,
          "showarrow": false,
          "text": "Alta contaminação",
          "width": 110,
          "x": 0,
          "xref": "paper",
          "y": 0.99,
          "yref": "paper"
         },
         {
          "align": "center",
          "bgcolor": "#DCDCDC",
          "bordercolor": "#708090",
          "borderwidth": 2,
          "font": {
           "color": "black"
          },
          "height": 20,
          "showarrow": false,
          "text": "Zona controlada",
          "width": 110,
          "x": 0,
          "xref": "paper",
          "y": 0.01,
          "yref": "paper"
         }
        ],
        "coloraxis": {
         "colorbar": {
          "title": {
           "text": "<b>Óbitos</b>"
          }
         },
         "colorscale": [
          [
           0,
           "rgb(252, 222, 156)"
          ],
          [
           0.16666666666666666,
           "rgb(250, 164, 118)"
          ],
          [
           0.3333333333333333,
           "rgb(240, 116, 110)"
          ],
          [
           0.5,
           "rgb(227, 79, 111)"
          ],
          [
           0.6666666666666666,
           "rgb(220, 57, 119)"
          ],
          [
           0.8333333333333334,
           "rgb(185, 37, 122)"
          ],
          [
           1,
           "rgb(124, 29, 111)"
          ]
         ]
        },
        "height": 520,
        "hovermode": false,
        "legend": {
         "itemsizing": "constant",
         "tracegroupgap": 0
        },
        "margin": {
         "t": 60
        },
        "plot_bgcolor": "rgb(245,245,245)",
        "shapes": [
         {
          "line": {
           "color": "gray",
           "dash": "dashdot",
           "width": 1
          },
          "type": "line",
          "x0": 6,
          "x1": 6,
          "xref": "x",
          "y0": 0,
          "y1": 0.8,
          "yref": "y"
         },
         {
          "line": {
           "color": "gray",
           "dash": "dashdot",
           "width": 1
          },
          "type": "line",
          "x0": 0,
          "x1": 12,
          "xref": "x",
          "y0": 0.4,
          "y1": 0.4,
          "yref": "y"
         }
        ],
        "template": {
         "data": {
          "bar": [
           {
            "error_x": {
             "color": "#2a3f5f"
            },
            "error_y": {
             "color": "#2a3f5f"
            },
            "marker": {
             "line": {
              "color": "#E5ECF6",
              "width": 0.5
             }
            },
            "type": "bar"
           }
          ],
          "barpolar": [
           {
            "marker": {
             "line": {
              "color": "#E5ECF6",
              "width": 0.5
             }
            },
            "type": "barpolar"
           }
          ],
          "carpet": [
           {
            "aaxis": {
             "endlinecolor": "#2a3f5f",
             "gridcolor": "white",
             "linecolor": "white",
             "minorgridcolor": "white",
             "startlinecolor": "#2a3f5f"
            },
            "baxis": {
             "endlinecolor": "#2a3f5f",
             "gridcolor": "white",
             "linecolor": "white",
             "minorgridcolor": "white",
             "startlinecolor": "#2a3f5f"
            },
            "type": "carpet"
           }
          ],
          "choropleth": [
           {
            "colorbar": {
             "outlinewidth": 0,
             "ticks": ""
            },
            "type": "choropleth"
           }
          ],
          "contour": [
           {
            "colorbar": {
             "outlinewidth": 0,
             "ticks": ""
            },
            "colorscale": [
             [
              0,
              "#0d0887"
             ],
             [
              0.1111111111111111,
              "#46039f"
             ],
             [
              0.2222222222222222,
              "#7201a8"
             ],
             [
              0.3333333333333333,
              "#9c179e"
             ],
             [
              0.4444444444444444,
              "#bd3786"
             ],
             [
              0.5555555555555556,
              "#d8576b"
             ],
             [
              0.6666666666666666,
              "#ed7953"
             ],
             [
              0.7777777777777778,
              "#fb9f3a"
             ],
             [
              0.8888888888888888,
              "#fdca26"
             ],
             [
              1,
              "#f0f921"
             ]
            ],
            "type": "contour"
           }
          ],
          "contourcarpet": [
           {
            "colorbar": {
             "outlinewidth": 0,
             "ticks": ""
            },
            "type": "contourcarpet"
           }
          ],
          "heatmap": [
           {
            "colorbar": {
             "outlinewidth": 0,
             "ticks": ""
            },
            "colorscale": [
             [
              0,
              "#0d0887"
             ],
             [
              0.1111111111111111,
              "#46039f"
             ],
             [
              0.2222222222222222,
              "#7201a8"
             ],
             [
              0.3333333333333333,
              "#9c179e"
             ],
             [
              0.4444444444444444,
              "#bd3786"
             ],
             [
              0.5555555555555556,
              "#d8576b"
             ],
             [
              0.6666666666666666,
              "#ed7953"
             ],
             [
              0.7777777777777778,
              "#fb9f3a"
             ],
             [
              0.8888888888888888,
              "#fdca26"
             ],
             [
              1,
              "#f0f921"
             ]
            ],
            "type": "heatmap"
           }
          ],
          "heatmapgl": [
           {
            "colorbar": {
             "outlinewidth": 0,
             "ticks": ""
            },
            "colorscale": [
             [
              0,
              "#0d0887"
             ],
             [
              0.1111111111111111,
              "#46039f"
             ],
             [
              0.2222222222222222,
              "#7201a8"
             ],
             [
              0.3333333333333333,
              "#9c179e"
             ],
             [
              0.4444444444444444,
              "#bd3786"
             ],
             [
              0.5555555555555556,
              "#d8576b"
             ],
             [
              0.6666666666666666,
              "#ed7953"
             ],
             [
              0.7777777777777778,
              "#fb9f3a"
             ],
             [
              0.8888888888888888,
              "#fdca26"
             ],
             [
              1,
              "#f0f921"
             ]
            ],
            "type": "heatmapgl"
           }
          ],
          "histogram": [
           {
            "marker": {
             "colorbar": {
              "outlinewidth": 0,
              "ticks": ""
             }
            },
            "type": "histogram"
           }
          ],
          "histogram2d": [
           {
            "colorbar": {
             "outlinewidth": 0,
             "ticks": ""
            },
            "colorscale": [
             [
              0,
              "#0d0887"
             ],
             [
              0.1111111111111111,
              "#46039f"
             ],
             [
              0.2222222222222222,
              "#7201a8"
             ],
             [
              0.3333333333333333,
              "#9c179e"
             ],
             [
              0.4444444444444444,
              "#bd3786"
             ],
             [
              0.5555555555555556,
              "#d8576b"
             ],
             [
              0.6666666666666666,
              "#ed7953"
             ],
             [
              0.7777777777777778,
              "#fb9f3a"
             ],
             [
              0.8888888888888888,
              "#fdca26"
             ],
             [
              1,
              "#f0f921"
             ]
            ],
            "type": "histogram2d"
           }
          ],
          "histogram2dcontour": [
           {
            "colorbar": {
             "outlinewidth": 0,
             "ticks": ""
            },
            "colorscale": [
             [
              0,
              "#0d0887"
             ],
             [
              0.1111111111111111,
              "#46039f"
             ],
             [
              0.2222222222222222,
              "#7201a8"
             ],
             [
              0.3333333333333333,
              "#9c179e"
             ],
             [
              0.4444444444444444,
              "#bd3786"
             ],
             [
              0.5555555555555556,
              "#d8576b"
             ],
             [
              0.6666666666666666,
              "#ed7953"
             ],
             [
              0.7777777777777778,
              "#fb9f3a"
             ],
             [
              0.8888888888888888,
              "#fdca26"
             ],
             [
              1,
              "#f0f921"
             ]
            ],
            "type": "histogram2dcontour"
           }
          ],
          "mesh3d": [
           {
            "colorbar": {
             "outlinewidth": 0,
             "ticks": ""
            },
            "type": "mesh3d"
           }
          ],
          "parcoords": [
           {
            "line": {
             "colorbar": {
              "outlinewidth": 0,
              "ticks": ""
             }
            },
            "type": "parcoords"
           }
          ],
          "scatter": [
           {
            "marker": {
             "colorbar": {
              "outlinewidth": 0,
              "ticks": ""
             }
            },
            "type": "scatter"
           }
          ],
          "scatter3d": [
           {
            "line": {
             "colorbar": {
              "outlinewidth": 0,
              "ticks": ""
             }
            },
            "marker": {
             "colorbar": {
              "outlinewidth": 0,
              "ticks": ""
             }
            },
            "type": "scatter3d"
           }
          ],
          "scattercarpet": [
           {
            "marker": {
             "colorbar": {
              "outlinewidth": 0,
              "ticks": ""
             }
            },
            "type": "scattercarpet"
           }
          ],
          "scattergeo": [
           {
            "marker": {
             "colorbar": {
              "outlinewidth": 0,
              "ticks": ""
             }
            },
            "type": "scattergeo"
           }
          ],
          "scattergl": [
           {
            "marker": {
             "colorbar": {
              "outlinewidth": 0,
              "ticks": ""
             }
            },
            "type": "scattergl"
           }
          ],
          "scattermapbox": [
           {
            "marker": {
             "colorbar": {
              "outlinewidth": 0,
              "ticks": ""
             }
            },
            "type": "scattermapbox"
           }
          ],
          "scatterpolar": [
           {
            "marker": {
             "colorbar": {
              "outlinewidth": 0,
              "ticks": ""
             }
            },
            "type": "scatterpolar"
           }
          ],
          "scatterpolargl": [
           {
            "marker": {
             "colorbar": {
              "outlinewidth": 0,
              "ticks": ""
             }
            },
            "type": "scatterpolargl"
           }
          ],
          "scatterternary": [
           {
            "marker": {
             "colorbar": {
              "outlinewidth": 0,
              "ticks": ""
             }
            },
            "type": "scatterternary"
           }
          ],
          "surface": [
           {
            "colorbar": {
             "outlinewidth": 0,
             "ticks": ""
            },
            "colorscale": [
             [
              0,
              "#0d0887"
             ],
             [
              0.1111111111111111,
              "#46039f"
             ],
             [
              0.2222222222222222,
              "#7201a8"
             ],
             [
              0.3333333333333333,
              "#9c179e"
             ],
             [
              0.4444444444444444,
              "#bd3786"
             ],
             [
              0.5555555555555556,
              "#d8576b"
             ],
             [
              0.6666666666666666,
              "#ed7953"
             ],
             [
              0.7777777777777778,
              "#fb9f3a"
             ],
             [
              0.8888888888888888,
              "#fdca26"
             ],
             [
              1,
              "#f0f921"
             ]
            ],
            "type": "surface"
           }
          ],
          "table": [
           {
            "cells": {
             "fill": {
              "color": "#EBF0F8"
             },
             "line": {
              "color": "white"
             }
            },
            "header": {
             "fill": {
              "color": "#C8D4E3"
             },
             "line": {
              "color": "white"
             }
            },
            "type": "table"
           }
          ]
         },
         "layout": {
          "annotationdefaults": {
           "arrowcolor": "#2a3f5f",
           "arrowhead": 0,
           "arrowwidth": 1
          },
          "colorscale": {
           "diverging": [
            [
             0,
             "#8e0152"
            ],
            [
             0.1,
             "#c51b7d"
            ],
            [
             0.2,
             "#de77ae"
            ],
            [
             0.3,
             "#f1b6da"
            ],
            [
             0.4,
             "#fde0ef"
            ],
            [
             0.5,
             "#f7f7f7"
            ],
            [
             0.6,
             "#e6f5d0"
            ],
            [
             0.7,
             "#b8e186"
            ],
            [
             0.8,
             "#7fbc41"
            ],
            [
             0.9,
             "#4d9221"
            ],
            [
             1,
             "#276419"
            ]
           ],
           "sequential": [
            [
             0,
             "#0d0887"
            ],
            [
             0.1111111111111111,
             "#46039f"
            ],
            [
             0.2222222222222222,
             "#7201a8"
            ],
            [
             0.3333333333333333,
             "#9c179e"
            ],
            [
             0.4444444444444444,
             "#bd3786"
            ],
            [
             0.5555555555555556,
             "#d8576b"
            ],
            [
             0.6666666666666666,
             "#ed7953"
            ],
            [
             0.7777777777777778,
             "#fb9f3a"
            ],
            [
             0.8888888888888888,
             "#fdca26"
            ],
            [
             1,
             "#f0f921"
            ]
           ],
           "sequentialminus": [
            [
             0,
             "#0d0887"
            ],
            [
             0.1111111111111111,
             "#46039f"
            ],
            [
             0.2222222222222222,
             "#7201a8"
            ],
            [
             0.3333333333333333,
             "#9c179e"
            ],
            [
             0.4444444444444444,
             "#bd3786"
            ],
            [
             0.5555555555555556,
             "#d8576b"
            ],
            [
             0.6666666666666666,
             "#ed7953"
            ],
            [
             0.7777777777777778,
             "#fb9f3a"
            ],
            [
             0.8888888888888888,
             "#fdca26"
            ],
            [
             1,
             "#f0f921"
            ]
           ]
          },
          "colorway": [
           "#636efa",
           "#EF553B",
           "#00cc96",
           "#ab63fa",
           "#FFA15A",
           "#19d3f3",
           "#FF6692",
           "#B6E880",
           "#FF97FF",
           "#FECB52"
          ],
          "font": {
           "color": "#2a3f5f"
          },
          "geo": {
           "bgcolor": "white",
           "lakecolor": "white",
           "landcolor": "#E5ECF6",
           "showlakes": true,
           "showland": true,
           "subunitcolor": "white"
          },
          "hoverlabel": {
           "align": "left"
          },
          "hovermode": "closest",
          "mapbox": {
           "style": "light"
          },
          "paper_bgcolor": "white",
          "plot_bgcolor": "#E5ECF6",
          "polar": {
           "angularaxis": {
            "gridcolor": "white",
            "linecolor": "white",
            "ticks": ""
           },
           "bgcolor": "#E5ECF6",
           "radialaxis": {
            "gridcolor": "white",
            "linecolor": "white",
            "ticks": ""
           }
          },
          "scene": {
           "xaxis": {
            "backgroundcolor": "#E5ECF6",
            "gridcolor": "white",
            "gridwidth": 2,
            "linecolor": "white",
            "showbackground": true,
            "ticks": "",
            "zerolinecolor": "white"
           },
           "yaxis": {
            "backgroundcolor": "#E5ECF6",
            "gridcolor": "white",
            "gridwidth": 2,
            "linecolor": "white",
            "showbackground": true,
            "ticks": "",
            "zerolinecolor": "white"
           },
           "zaxis": {
            "backgroundcolor": "#E5ECF6",
            "gridcolor": "white",
            "gridwidth": 2,
            "linecolor": "white",
            "showbackground": true,
            "ticks": "",
            "zerolinecolor": "white"
           }
          },
          "shapedefaults": {
           "line": {
            "color": "#2a3f5f"
           }
          },
          "ternary": {
           "aaxis": {
            "gridcolor": "white",
            "linecolor": "white",
            "ticks": ""
           },
           "baxis": {
            "gridcolor": "white",
            "linecolor": "white",
            "ticks": ""
           },
           "bgcolor": "#E5ECF6",
           "caxis": {
            "gridcolor": "white",
            "linecolor": "white",
            "ticks": ""
           }
          },
          "title": {
           "x": 0.05
          },
          "xaxis": {
           "automargin": true,
           "gridcolor": "white",
           "linecolor": "white",
           "ticks": "",
           "zerolinecolor": "white",
           "zerolinewidth": 2
          },
          "yaxis": {
           "automargin": true,
           "gridcolor": "white",
           "linecolor": "white",
           "ticks": "",
           "zerolinecolor": "white",
           "zerolinewidth": 2
          }
         }
        },
        "title": {
         "text": "Relação entre número de casos e letalidade da COVID-19 no Brasil, por estado - 2020.05.22"
        },
        "width": 980,
        "xaxis": {
         "anchor": "y",
         "autorange": false,
         "domain": [
          0,
          0.98
         ],
         "range": [
          0,
          12
         ],
         "title": {
          "text": "<b>Letalidade (% óbitos/casos)</b>"
         },
         "type": "linear"
        },
        "yaxis": {
         "anchor": "x",
         "autorange": false,
         "domain": [
          0,
          1
         ],
         "range": [
          0,
          0.8
         ],
         "title": {
          "text": "<b>Contaminação (% casos/população)</b>"
         },
         "type": "linear"
        }
       }
      },
      "text/html": [
       "<div>\n",
       "        \n",
       "        \n",
       "            <div id=\"e377d569-c826-4f32-b3bc-e4f1d84d0604\" class=\"plotly-graph-div\" style=\"height:520px; width:980px;\"></div>\n",
       "            <script type=\"text/javascript\">\n",
       "                require([\"plotly\"], function(Plotly) {\n",
       "                    window.PLOTLYENV=window.PLOTLYENV || {};\n",
       "                    \n",
       "                if (document.getElementById(\"e377d569-c826-4f32-b3bc-e4f1d84d0604\")) {\n",
       "                    Plotly.newPlot(\n",
       "                        'e377d569-c826-4f32-b3bc-e4f1d84d0604',\n",
       "                        [{\"hoverlabel\": {\"namelength\": 0}, \"hovertemplate\": \"<b>%{hovertext}</b><br><br>lethality_pct=%{x}<br>contamRate=%{y}<br>deathRate=%{marker.size}<br>estado=%{text}<br>obitosAcumulado=%{marker.color}\", \"hovertext\": [\"RO\", \"AC\", \"AM\", \"RR\", \"PA\", \"AP\", \"TO\", \"MA\", \"PI\", \"CE\", \"RN\", \"PB\", \"PE\", \"AL\", \"SE\", \"BA\", \"MG\", \"ES\", \"RJ\", \"SP\", \"PR\", \"SC\", \"RS\", \"MS\", \"MT\", \"GO\", \"DF\"], \"legendgroup\": \"\", \"marker\": {\"color\": [101, 78, 1620, 72, 1852, 151, 47, 663, 91, 2161, 178, 245, 1925, 262, 76, 376, 191, 363, 3412, 5558, 141, 98, 166, 17, 34, 85, 84], \"coloraxis\": \"coloraxis\", \"size\": [0.005683017063118063, 0.008844189197616604, 0.03908703306980148, 0.011885875782693175, 0.021527711988971115, 0.01785437686451129, 0.0029881757250776607, 0.009370785001825395, 0.002780131044990158, 0.023663836423648592, 0.005075775916469838, 0.006097368251426598, 0.02014215443204304, 0.007850523632922699, 0.0033062223103881502, 0.002528060122648568, 0.0009022716507522795, 0.009032884177522302, 0.019762590586021627, 0.01210390920770158, 0.0012331688845777537, 0.001367800415029726, 0.0014590534663111148, 0.0006117339202140636, 0.0009757592698565575, 0.0012111101833848792, 0.0027858220231170164], \"sizemode\": \"area\", \"sizeref\": 2.4429395668625925e-05, \"symbol\": \"circle\"}, \"mode\": \"markers+text\", \"name\": \"\", \"showlegend\": false, \"text\": [\"RO\", \"AC\", \"AM\", \"RR\", \"PA\", \"AP\", \"TO\", \"MA\", \"PI\", \"CE\", \"RN\", \"PB\", \"PE\", \"AL\", \"SE\", \"BA\", \"MG\", \"ES\", \"RJ\", \"SP\", \"PR\", \"SC\", \"RS\", \"MS\", \"MT\", \"GO\", \"DF\"], \"textfont\": {\"family\": \"sans serif\", \"size\": 13}, \"textposition\": \"middle center\", \"type\": \"scatter\", \"x\": [3.798420458819105, 2.5136964228166288, 6.386249852170142, 3.3550792171481825, 9.374367280826078, 2.9105628373168853, 2.3785425101214575, 4.128783161041225, 3.190743338008415, 6.879317480024194, 4.384236453201971, 3.9275408784866945, 8.050687967880892, 5.32953620829943, 1.6054076890578792, 3.1488150071183316, 3.4131522516082917, 4.088758729443569, 10.632927171304809, 7.5373954081286705, 5.01779359430605, 1.7468805704099821, 3.0330714416225106, 2.278820375335121, 2.901023890784983, 4.02081362346263, 1.5156983038614218], \"xaxis\": \"x\", \"y\": [0.14961527099832606, 0.3518399882077477, 0.6120498567170705, 0.3542651309674938, 0.2296444265950936, 0.6134338223383085, 0.12563053686709486, 0.22696239149217526, 0.08713114000342781, 0.34398523534293074, 0.11577331584757046, 0.155246461846527, 0.2501917166880941, 0.14730219152461066, 0.2059428475970724, 0.08028607958655998, 0.02643514218643852, 0.22091996068331404, 0.18586218326929893, 0.16058477169246255, 0.02457591890541481, 0.07829959518690574, 0.048104816994703196, 0.02684432379292303, 0.03363499600799663, 0.030121022678536873, 0.1837979244299346], \"yaxis\": \"y\"}],\n",
       "                        {\"annotations\": [{\"align\": \"center\", \"bgcolor\": \"#E9967A\", \"bordercolor\": \"#708090\", \"borderwidth\": 2, \"font\": {\"color\": \"DarkRed\"}, \"height\": 20, \"showarrow\": false, \"text\": \"<b>Zona cr\\u00edtica</b>\", \"width\": 110, \"x\": 0.98, \"xref\": \"paper\", \"y\": 0.99, \"yref\": \"paper\"}, {\"align\": \"center\", \"bgcolor\": \"#DCDCDC\", \"bordercolor\": \"#708090\", \"borderwidth\": 2, \"font\": {\"color\": \"black\"}, \"height\": 20, \"showarrow\": false, \"text\": \"Alta letalidade\", \"width\": 110, \"x\": 0.98, \"xref\": \"paper\", \"y\": 0.01, \"yref\": \"paper\"}, {\"align\": \"center\", \"bgcolor\": \"#DCDCDC\", \"bordercolor\": \"#708090\", \"borderwidth\": 2, \"font\": {\"color\": \"DarkRed\"}, \"height\": 20, \"showarrow\": false, \"text\": \"Alta contamina\\u00e7\\u00e3o\", \"width\": 110, \"x\": 0, \"xref\": \"paper\", \"y\": 0.99, \"yref\": \"paper\"}, {\"align\": \"center\", \"bgcolor\": \"#DCDCDC\", \"bordercolor\": \"#708090\", \"borderwidth\": 2, \"font\": {\"color\": \"black\"}, \"height\": 20, \"showarrow\": false, \"text\": \"Zona controlada\", \"width\": 110, \"x\": 0, \"xref\": \"paper\", \"y\": 0.01, \"yref\": \"paper\"}], \"coloraxis\": {\"colorbar\": {\"title\": {\"text\": \"<b>\\u00d3bitos</b>\"}}, \"colorscale\": [[0.0, \"rgb(252, 222, 156)\"], [0.16666666666666666, \"rgb(250, 164, 118)\"], [0.3333333333333333, \"rgb(240, 116, 110)\"], [0.5, \"rgb(227, 79, 111)\"], [0.6666666666666666, \"rgb(220, 57, 119)\"], [0.8333333333333334, \"rgb(185, 37, 122)\"], [1.0, \"rgb(124, 29, 111)\"]]}, \"height\": 520, \"hovermode\": false, \"legend\": {\"itemsizing\": \"constant\", \"tracegroupgap\": 0}, \"margin\": {\"t\": 60}, \"plot_bgcolor\": \"rgb(245,245,245)\", \"shapes\": [{\"line\": {\"color\": \"gray\", \"dash\": \"dashdot\", \"width\": 1}, \"type\": \"line\", \"x0\": 6, \"x1\": 6, \"xref\": \"x\", \"y0\": 0, \"y1\": 0.8, \"yref\": \"y\"}, {\"line\": {\"color\": \"gray\", \"dash\": \"dashdot\", \"width\": 1}, \"type\": \"line\", \"x0\": 0, \"x1\": 12, \"xref\": \"x\", \"y0\": 0.4, \"y1\": 0.4, \"yref\": \"y\"}], \"template\": {\"data\": {\"bar\": [{\"error_x\": {\"color\": \"#2a3f5f\"}, \"error_y\": {\"color\": \"#2a3f5f\"}, \"marker\": {\"line\": {\"color\": \"#E5ECF6\", \"width\": 0.5}}, \"type\": \"bar\"}], \"barpolar\": [{\"marker\": {\"line\": {\"color\": \"#E5ECF6\", \"width\": 0.5}}, \"type\": \"barpolar\"}], \"carpet\": [{\"aaxis\": {\"endlinecolor\": \"#2a3f5f\", \"gridcolor\": \"white\", \"linecolor\": \"white\", \"minorgridcolor\": \"white\", \"startlinecolor\": \"#2a3f5f\"}, \"baxis\": {\"endlinecolor\": \"#2a3f5f\", \"gridcolor\": \"white\", \"linecolor\": \"white\", \"minorgridcolor\": \"white\", \"startlinecolor\": \"#2a3f5f\"}, \"type\": \"carpet\"}], \"choropleth\": [{\"colorbar\": {\"outlinewidth\": 0, \"ticks\": \"\"}, \"type\": \"choropleth\"}], \"contour\": [{\"colorbar\": {\"outlinewidth\": 0, \"ticks\": \"\"}, \"colorscale\": [[0.0, \"#0d0887\"], [0.1111111111111111, \"#46039f\"], [0.2222222222222222, \"#7201a8\"], [0.3333333333333333, \"#9c179e\"], [0.4444444444444444, \"#bd3786\"], [0.5555555555555556, \"#d8576b\"], [0.6666666666666666, \"#ed7953\"], [0.7777777777777778, \"#fb9f3a\"], [0.8888888888888888, \"#fdca26\"], [1.0, \"#f0f921\"]], \"type\": \"contour\"}], \"contourcarpet\": [{\"colorbar\": {\"outlinewidth\": 0, \"ticks\": \"\"}, \"type\": \"contourcarpet\"}], \"heatmap\": [{\"colorbar\": {\"outlinewidth\": 0, \"ticks\": \"\"}, \"colorscale\": [[0.0, \"#0d0887\"], [0.1111111111111111, \"#46039f\"], [0.2222222222222222, \"#7201a8\"], [0.3333333333333333, \"#9c179e\"], [0.4444444444444444, \"#bd3786\"], [0.5555555555555556, \"#d8576b\"], [0.6666666666666666, \"#ed7953\"], [0.7777777777777778, \"#fb9f3a\"], [0.8888888888888888, \"#fdca26\"], [1.0, \"#f0f921\"]], \"type\": \"heatmap\"}], \"heatmapgl\": [{\"colorbar\": {\"outlinewidth\": 0, \"ticks\": \"\"}, \"colorscale\": [[0.0, \"#0d0887\"], [0.1111111111111111, \"#46039f\"], [0.2222222222222222, \"#7201a8\"], [0.3333333333333333, \"#9c179e\"], [0.4444444444444444, \"#bd3786\"], [0.5555555555555556, \"#d8576b\"], [0.6666666666666666, \"#ed7953\"], [0.7777777777777778, \"#fb9f3a\"], [0.8888888888888888, \"#fdca26\"], [1.0, \"#f0f921\"]], \"type\": \"heatmapgl\"}], \"histogram\": [{\"marker\": {\"colorbar\": {\"outlinewidth\": 0, \"ticks\": \"\"}}, \"type\": \"histogram\"}], \"histogram2d\": [{\"colorbar\": {\"outlinewidth\": 0, \"ticks\": \"\"}, \"colorscale\": [[0.0, \"#0d0887\"], [0.1111111111111111, \"#46039f\"], [0.2222222222222222, \"#7201a8\"], [0.3333333333333333, \"#9c179e\"], [0.4444444444444444, \"#bd3786\"], [0.5555555555555556, \"#d8576b\"], [0.6666666666666666, \"#ed7953\"], [0.7777777777777778, \"#fb9f3a\"], [0.8888888888888888, \"#fdca26\"], [1.0, \"#f0f921\"]], \"type\": \"histogram2d\"}], \"histogram2dcontour\": [{\"colorbar\": {\"outlinewidth\": 0, \"ticks\": \"\"}, \"colorscale\": [[0.0, \"#0d0887\"], [0.1111111111111111, \"#46039f\"], [0.2222222222222222, \"#7201a8\"], [0.3333333333333333, \"#9c179e\"], [0.4444444444444444, \"#bd3786\"], [0.5555555555555556, \"#d8576b\"], [0.6666666666666666, \"#ed7953\"], [0.7777777777777778, \"#fb9f3a\"], [0.8888888888888888, \"#fdca26\"], [1.0, \"#f0f921\"]], \"type\": \"histogram2dcontour\"}], \"mesh3d\": [{\"colorbar\": {\"outlinewidth\": 0, \"ticks\": \"\"}, \"type\": \"mesh3d\"}], \"parcoords\": [{\"line\": {\"colorbar\": {\"outlinewidth\": 0, \"ticks\": \"\"}}, \"type\": \"parcoords\"}], \"scatter\": [{\"marker\": {\"colorbar\": {\"outlinewidth\": 0, \"ticks\": \"\"}}, \"type\": \"scatter\"}], \"scatter3d\": [{\"line\": {\"colorbar\": {\"outlinewidth\": 0, \"ticks\": \"\"}}, \"marker\": {\"colorbar\": {\"outlinewidth\": 0, \"ticks\": \"\"}}, \"type\": \"scatter3d\"}], \"scattercarpet\": [{\"marker\": {\"colorbar\": {\"outlinewidth\": 0, \"ticks\": \"\"}}, \"type\": \"scattercarpet\"}], \"scattergeo\": [{\"marker\": {\"colorbar\": {\"outlinewidth\": 0, \"ticks\": \"\"}}, \"type\": \"scattergeo\"}], \"scattergl\": [{\"marker\": {\"colorbar\": {\"outlinewidth\": 0, \"ticks\": \"\"}}, \"type\": \"scattergl\"}], \"scattermapbox\": [{\"marker\": {\"colorbar\": {\"outlinewidth\": 0, \"ticks\": \"\"}}, \"type\": \"scattermapbox\"}], \"scatterpolar\": [{\"marker\": {\"colorbar\": {\"outlinewidth\": 0, \"ticks\": \"\"}}, \"type\": \"scatterpolar\"}], \"scatterpolargl\": [{\"marker\": {\"colorbar\": {\"outlinewidth\": 0, \"ticks\": \"\"}}, \"type\": \"scatterpolargl\"}], \"scatterternary\": [{\"marker\": {\"colorbar\": {\"outlinewidth\": 0, \"ticks\": \"\"}}, \"type\": \"scatterternary\"}], \"surface\": [{\"colorbar\": {\"outlinewidth\": 0, \"ticks\": \"\"}, \"colorscale\": [[0.0, \"#0d0887\"], [0.1111111111111111, \"#46039f\"], [0.2222222222222222, \"#7201a8\"], [0.3333333333333333, \"#9c179e\"], [0.4444444444444444, \"#bd3786\"], [0.5555555555555556, \"#d8576b\"], [0.6666666666666666, \"#ed7953\"], [0.7777777777777778, \"#fb9f3a\"], [0.8888888888888888, \"#fdca26\"], [1.0, \"#f0f921\"]], \"type\": \"surface\"}], \"table\": [{\"cells\": {\"fill\": {\"color\": \"#EBF0F8\"}, \"line\": {\"color\": \"white\"}}, \"header\": {\"fill\": {\"color\": \"#C8D4E3\"}, \"line\": {\"color\": \"white\"}}, \"type\": \"table\"}]}, \"layout\": {\"annotationdefaults\": {\"arrowcolor\": \"#2a3f5f\", \"arrowhead\": 0, \"arrowwidth\": 1}, \"colorscale\": {\"diverging\": [[0, \"#8e0152\"], [0.1, \"#c51b7d\"], [0.2, \"#de77ae\"], [0.3, \"#f1b6da\"], [0.4, \"#fde0ef\"], [0.5, \"#f7f7f7\"], [0.6, \"#e6f5d0\"], [0.7, \"#b8e186\"], [0.8, \"#7fbc41\"], [0.9, \"#4d9221\"], [1, \"#276419\"]], \"sequential\": [[0.0, \"#0d0887\"], [0.1111111111111111, \"#46039f\"], [0.2222222222222222, \"#7201a8\"], [0.3333333333333333, \"#9c179e\"], [0.4444444444444444, \"#bd3786\"], [0.5555555555555556, \"#d8576b\"], [0.6666666666666666, \"#ed7953\"], [0.7777777777777778, \"#fb9f3a\"], [0.8888888888888888, \"#fdca26\"], [1.0, \"#f0f921\"]], \"sequentialminus\": [[0.0, \"#0d0887\"], [0.1111111111111111, \"#46039f\"], [0.2222222222222222, \"#7201a8\"], [0.3333333333333333, \"#9c179e\"], [0.4444444444444444, \"#bd3786\"], [0.5555555555555556, \"#d8576b\"], [0.6666666666666666, \"#ed7953\"], [0.7777777777777778, \"#fb9f3a\"], [0.8888888888888888, \"#fdca26\"], [1.0, \"#f0f921\"]]}, \"colorway\": [\"#636efa\", \"#EF553B\", \"#00cc96\", \"#ab63fa\", \"#FFA15A\", \"#19d3f3\", \"#FF6692\", \"#B6E880\", \"#FF97FF\", \"#FECB52\"], \"font\": {\"color\": \"#2a3f5f\"}, \"geo\": {\"bgcolor\": \"white\", \"lakecolor\": \"white\", \"landcolor\": \"#E5ECF6\", \"showlakes\": true, \"showland\": true, \"subunitcolor\": \"white\"}, \"hoverlabel\": {\"align\": \"left\"}, \"hovermode\": \"closest\", \"mapbox\": {\"style\": \"light\"}, \"paper_bgcolor\": \"white\", \"plot_bgcolor\": \"#E5ECF6\", \"polar\": {\"angularaxis\": {\"gridcolor\": \"white\", \"linecolor\": \"white\", \"ticks\": \"\"}, \"bgcolor\": \"#E5ECF6\", \"radialaxis\": {\"gridcolor\": \"white\", \"linecolor\": \"white\", \"ticks\": \"\"}}, \"scene\": {\"xaxis\": {\"backgroundcolor\": \"#E5ECF6\", \"gridcolor\": \"white\", \"gridwidth\": 2, \"linecolor\": \"white\", \"showbackground\": true, \"ticks\": \"\", \"zerolinecolor\": \"white\"}, \"yaxis\": {\"backgroundcolor\": \"#E5ECF6\", \"gridcolor\": \"white\", \"gridwidth\": 2, \"linecolor\": \"white\", \"showbackground\": true, \"ticks\": \"\", \"zerolinecolor\": \"white\"}, \"zaxis\": {\"backgroundcolor\": \"#E5ECF6\", \"gridcolor\": \"white\", \"gridwidth\": 2, \"linecolor\": \"white\", \"showbackground\": true, \"ticks\": \"\", \"zerolinecolor\": \"white\"}}, \"shapedefaults\": {\"line\": {\"color\": \"#2a3f5f\"}}, \"ternary\": {\"aaxis\": {\"gridcolor\": \"white\", \"linecolor\": \"white\", \"ticks\": \"\"}, \"baxis\": {\"gridcolor\": \"white\", \"linecolor\": \"white\", \"ticks\": \"\"}, \"bgcolor\": \"#E5ECF6\", \"caxis\": {\"gridcolor\": \"white\", \"linecolor\": \"white\", \"ticks\": \"\"}}, \"title\": {\"x\": 0.05}, \"xaxis\": {\"automargin\": true, \"gridcolor\": \"white\", \"linecolor\": \"white\", \"ticks\": \"\", \"zerolinecolor\": \"white\", \"zerolinewidth\": 2}, \"yaxis\": {\"automargin\": true, \"gridcolor\": \"white\", \"linecolor\": \"white\", \"ticks\": \"\", \"zerolinecolor\": \"white\", \"zerolinewidth\": 2}}}, \"title\": {\"text\": \"Rela\\u00e7\\u00e3o entre n\\u00famero de casos e letalidade da COVID-19 no Brasil, por estado - 2020.05.22\"}, \"width\": 980, \"xaxis\": {\"anchor\": \"y\", \"autorange\": false, \"domain\": [0.0, 0.98], \"range\": [0, 12], \"title\": {\"text\": \"<b>Letalidade (% \\u00f3bitos/casos)</b>\"}, \"type\": \"linear\"}, \"yaxis\": {\"anchor\": \"x\", \"autorange\": false, \"domain\": [0.0, 1.0], \"range\": [0, 0.8], \"title\": {\"text\": \"<b>Contamina\\u00e7\\u00e3o (% casos/popula\\u00e7\\u00e3o)</b>\"}, \"type\": \"linear\"}},\n",
       "                        {\"responsive\": true}\n",
       "                    ).then(function(){\n",
       "                            \n",
       "var gd = document.getElementById('e377d569-c826-4f32-b3bc-e4f1d84d0604');\n",
       "var x = new MutationObserver(function (mutations, observer) {{\n",
       "        var display = window.getComputedStyle(gd).display;\n",
       "        if (!display || display === 'none') {{\n",
       "            console.log([gd, 'removed!']);\n",
       "            Plotly.purge(gd);\n",
       "            observer.disconnect();\n",
       "        }}\n",
       "}});\n",
       "\n",
       "// Listen for the removal of the full notebook cells\n",
       "var notebookContainer = gd.closest('#notebook-container');\n",
       "if (notebookContainer) {{\n",
       "    x.observe(notebookContainer, {childList: true});\n",
       "}}\n",
       "\n",
       "// Listen for the clearing of the current output cell\n",
       "var outputEl = gd.closest('.output');\n",
       "if (outputEl) {{\n",
       "    x.observe(outputEl, {childList: true});\n",
       "}}\n",
       "\n",
       "                        })\n",
       "                };\n",
       "                });\n",
       "            </script>\n",
       "        </div>"
      ]
     },
     "metadata": {},
     "output_type": "display_data"
    }
   ],
   "source": [
    "fig.update_traces(textposition='middle center',\n",
    "                  textfont=dict(family=\"sans serif\",\n",
    "                                size=13))\n",
    "\n",
    "fig.update_layout(\n",
    "    ## Chart general set:\n",
    "    height=520,\n",
    "    width=980,\n",
    "    plot_bgcolor='rgb(245,245,245)',\n",
    "    title_text='Relação entre número de casos e letalidade da COVID-19 no Brasil, por estado - 2020.05.22',\n",
    "    xaxis_title=\"<b>Letalidade (% óbitos/casos)</b>\",\n",
    "    yaxis_title=\"<b>Contaminação (% casos/população)</b>\",\n",
    "    hovermode=False,  #Disable the hover information.\n",
    "    ## Axis ranges:\n",
    "    xaxis=dict(\n",
    "        autorange=False,\n",
    "        range=[0, 12],\n",
    "        type=\"linear\"\n",
    "    ),\n",
    "    yaxis=dict(\n",
    "        autorange=False,\n",
    "        range=[0, 0.8],\n",
    "        type=\"linear\"),\n",
    "    ## Adjusting the colorbar title:\n",
    "    coloraxis=dict(\n",
    "        colorbar=dict(\n",
    "            title=dict(\n",
    "                text='<b>Óbitos</b>'\n",
    "            )\n",
    "        )),\n",
    "    ## Vertical and horizontal lines\n",
    "    shapes=[\n",
    "        dict(\n",
    "          type= 'line',\n",
    "          yref= 'y', y0= 0, y1= 0.8,\n",
    "          xref= 'x', x0= 6, x1= 6,\n",
    "          line=dict(\n",
    "                color=\"gray\",\n",
    "                width=1,\n",
    "                dash=\"dashdot\",\n",
    "                )),\n",
    "        dict(\n",
    "          type= 'line',\n",
    "          yref= 'y', y0= 0.4, y1= 0.4,\n",
    "          xref= 'x', x0= 0, x1= 12,\n",
    "          line=dict(\n",
    "                color=\"gray\",\n",
    "                width=1,\n",
    "                dash=\"dashdot\",\n",
    "                ))\n",
    "        ],    \n",
    "    ## Points annotations:\n",
    "    annotations=[\n",
    "        go.layout.Annotation(\n",
    "            text='<b>Zona crítica</b>',\n",
    "            align='center',\n",
    "            showarrow=False,\n",
    "            xref='paper',\n",
    "            yref='paper',\n",
    "            x=.98,\n",
    "            y=.99,\n",
    "            bordercolor='#708090',\n",
    "            borderwidth=2,\n",
    "            bgcolor='#E9967A',\n",
    "            font=dict(\n",
    "                color='DarkRed'),\n",
    "            width=110,\n",
    "            height=20),\n",
    "        go.layout.Annotation(\n",
    "            text='Alta letalidade',\n",
    "            align='center',\n",
    "            showarrow=False,\n",
    "            xref='paper',\n",
    "            yref='paper',\n",
    "            x=.98,\n",
    "            y=.01,\n",
    "            bordercolor='#708090',\n",
    "            borderwidth=2,\n",
    "            bgcolor='#DCDCDC',\n",
    "            font=dict(\n",
    "                color='black'),\n",
    "            width=110,\n",
    "            height=20),\n",
    "        go.layout.Annotation(\n",
    "            text='Alta contaminação',\n",
    "            align='center',\n",
    "            showarrow=False,\n",
    "            xref='paper',\n",
    "            yref='paper',\n",
    "            x=0,\n",
    "            y=.99,\n",
    "            bordercolor='#708090',\n",
    "            borderwidth=2,\n",
    "            bgcolor='#DCDCDC',\n",
    "            font=dict(\n",
    "                color='DarkRed'),\n",
    "            width=110,\n",
    "            height=20),\n",
    "        go.layout.Annotation(\n",
    "            text='Zona controlada',\n",
    "            align='center',\n",
    "            showarrow=False,\n",
    "            xref='paper',\n",
    "            yref='paper',\n",
    "            x=0,\n",
    "            y=.01,\n",
    "            bordercolor='#708090',\n",
    "            borderwidth=2,\n",
    "            bgcolor='#DCDCDC',\n",
    "            font=dict(\n",
    "                color='black'),\n",
    "            width=110,\n",
    "            height=20),\n",
    "    ]\n",
    ")\n",
    "\n",
    "fig.show()"
   ]
  },
  {
   "cell_type": "markdown",
   "metadata": {},
   "source": [
    "The command below shows all the figure parameters, in the case it is needed to change something."
   ]
  },
  {
   "cell_type": "code",
   "execution_count": 368,
   "metadata": {
    "collapsed": false,
    "scrolled": true
   },
   "outputs": [
    {
     "name": "stdout",
     "output_type": "stream",
     "text": [
      "Figure({\n",
      "    'data': [{'hoverlabel': {'namelength': 0},\n",
      "              'hovertemplate': ('<b>%{hovertext}</b><br><br>let' ... 'bitosAcumulado=%{marker.color}'),\n",
      "              'hovertext': array(['RO', 'AC', 'AM', 'RR', 'PA', 'AP', 'TO', 'MA', 'PI', 'CE', 'RN', 'PB',\n",
      "                                  'PE', 'AL', 'SE', 'BA', 'MG', 'ES', 'RJ', 'SP', 'PR', 'SC', 'RS', 'MS',\n",
      "                                  'MT', 'GO', 'DF'], dtype=object),\n",
      "              'legendgroup': '',\n",
      "              'marker': {'color': array([ 101,   78, 1620,   72, 1852,  151,   47,  663,   91, 2161,  178,  245,\n",
      "                                         1925,  262,   76,  376,  191,  363, 3412, 5558,  141,   98,  166,   17,\n",
      "                                           34,   85,   84]),\n",
      "                         'coloraxis': 'coloraxis',\n",
      "                         'size': array([0.00568302, 0.00884419, 0.03908703, 0.01188588, 0.02152771, 0.01785438,\n",
      "                                        0.00298818, 0.00937079, 0.00278013, 0.02366384, 0.00507578, 0.00609737,\n",
      "                                        0.02014215, 0.00785052, 0.00330622, 0.00252806, 0.00090227, 0.00903288,\n",
      "                                        0.01976259, 0.01210391, 0.00123317, 0.0013678 , 0.00145905, 0.00061173,\n",
      "                                        0.00097576, 0.00121111, 0.00278582]),\n",
      "                         'sizemode': 'area',\n",
      "                         'sizeref': 2.4429395668625925e-05,\n",
      "                         'symbol': 'circle'},\n",
      "              'mode': 'markers+text',\n",
      "              'name': '',\n",
      "              'showlegend': False,\n",
      "              'text': array(['RO', 'AC', 'AM', 'RR', 'PA', 'AP', 'TO', 'MA', 'PI', 'CE', 'RN', 'PB',\n",
      "                             'PE', 'AL', 'SE', 'BA', 'MG', 'ES', 'RJ', 'SP', 'PR', 'SC', 'RS', 'MS',\n",
      "                             'MT', 'GO', 'DF'], dtype=object),\n",
      "              'textfont': {'family': 'sans serif', 'size': 13},\n",
      "              'textposition': 'middle center',\n",
      "              'type': 'scatter',\n",
      "              'x': array([ 3.79842046,  2.51369642,  6.38624985,  3.35507922,  9.37436728,\n",
      "                           2.91056284,  2.37854251,  4.12878316,  3.19074334,  6.87931748,\n",
      "                           4.38423645,  3.92754088,  8.05068797,  5.32953621,  1.60540769,\n",
      "                           3.14881501,  3.41315225,  4.08875873, 10.63292717,  7.53739541,\n",
      "                           5.01779359,  1.74688057,  3.03307144,  2.27882038,  2.90102389,\n",
      "                           4.02081362,  1.5156983 ]),\n",
      "              'xaxis': 'x',\n",
      "              'y': array([0.14961527, 0.35183999, 0.61204986, 0.35426513, 0.22964443, 0.61343382,\n",
      "                          0.12563054, 0.22696239, 0.08713114, 0.34398524, 0.11577332, 0.15524646,\n",
      "                          0.25019172, 0.14730219, 0.20594285, 0.08028608, 0.02643514, 0.22091996,\n",
      "                          0.18586218, 0.16058477, 0.02457592, 0.0782996 , 0.04810482, 0.02684432,\n",
      "                          0.033635  , 0.03012102, 0.18379792]),\n",
      "              'yaxis': 'y'}],\n",
      "    'layout': {'annotations': [{'align': 'center',\n",
      "                                'bgcolor': '#E9967A',\n",
      "                                'bordercolor': '#708090',\n",
      "                                'borderwidth': 2,\n",
      "                                'font': {'color': 'DarkRed'},\n",
      "                                'height': 20,\n",
      "                                'showarrow': False,\n",
      "                                'text': '<b>Zona crítica</b>',\n",
      "                                'width': 110,\n",
      "                                'x': 0.98,\n",
      "                                'xref': 'paper',\n",
      "                                'y': 0.99,\n",
      "                                'yref': 'paper'},\n",
      "                               {'align': 'center',\n",
      "                                'bgcolor': '#DCDCDC',\n",
      "                                'bordercolor': '#708090',\n",
      "                                'borderwidth': 2,\n",
      "                                'font': {'color': 'black'},\n",
      "                                'height': 20,\n",
      "                                'showarrow': False,\n",
      "                                'text': 'Alta letalidade',\n",
      "                                'width': 110,\n",
      "                                'x': 0.98,\n",
      "                                'xref': 'paper',\n",
      "                                'y': 0.01,\n",
      "                                'yref': 'paper'},\n",
      "                               {'align': 'center',\n",
      "                                'bgcolor': '#DCDCDC',\n",
      "                                'bordercolor': '#708090',\n",
      "                                'borderwidth': 2,\n",
      "                                'font': {'color': 'DarkRed'},\n",
      "                                'height': 20,\n",
      "                                'showarrow': False,\n",
      "                                'text': 'Alta contaminação',\n",
      "                                'width': 110,\n",
      "                                'x': 0,\n",
      "                                'xref': 'paper',\n",
      "                                'y': 0.99,\n",
      "                                'yref': 'paper'},\n",
      "                               {'align': 'center',\n",
      "                                'bgcolor': '#DCDCDC',\n",
      "                                'bordercolor': '#708090',\n",
      "                                'borderwidth': 2,\n",
      "                                'font': {'color': 'black'},\n",
      "                                'height': 20,\n",
      "                                'showarrow': False,\n",
      "                                'text': 'Zona controlada',\n",
      "                                'width': 110,\n",
      "                                'x': 0,\n",
      "                                'xref': 'paper',\n",
      "                                'y': 0.01,\n",
      "                                'yref': 'paper'}],\n",
      "               'coloraxis': {'colorbar': {'title': {'text': 'obitosAcumulado'}},\n",
      "                             'colorscale': [[0.0, 'rgb(252, 222, 156)'],\n",
      "                                            [0.16666666666666666, 'rgb(250, 164,\n",
      "                                            118)'], [0.3333333333333333, 'rgb(240,\n",
      "                                            116, 110)'], [0.5, 'rgb(227, 79,\n",
      "                                            111)'], [0.6666666666666666, 'rgb(220,\n",
      "                                            57, 119)'], [0.8333333333333334,\n",
      "                                            'rgb(185, 37, 122)'], [1.0, 'rgb(124,\n",
      "                                            29, 111)']]},\n",
      "               'height': 520,\n",
      "               'hovermode': False,\n",
      "               'legend': {'itemsizing': 'constant', 'tracegroupgap': 0},\n",
      "               'margin': {'t': 60},\n",
      "               'plot_bgcolor': 'rgb(245,245,245)',\n",
      "               'shapes': [{'line': {'color': 'gray', 'dash': 'dashdot', 'width': 1},\n",
      "                           'type': 'line',\n",
      "                           'x0': 6,\n",
      "                           'x1': 6,\n",
      "                           'xref': 'x',\n",
      "                           'y0': 0,\n",
      "                           'y1': 0.8,\n",
      "                           'yref': 'y'},\n",
      "                          {'line': {'color': 'gray', 'dash': 'dashdot', 'width': 1},\n",
      "                           'type': 'line',\n",
      "                           'x0': 0,\n",
      "                           'x1': 12,\n",
      "                           'xref': 'x',\n",
      "                           'y0': 0.4,\n",
      "                           'y1': 0.4,\n",
      "                           'yref': 'y'}],\n",
      "               'template': '...',\n",
      "               'title': {'text': 'GDP and Life Expectancy (Americas, 2007)'},\n",
      "               'width': 980,\n",
      "               'xaxis': {'anchor': 'y',\n",
      "                         'autorange': False,\n",
      "                         'domain': [0.0, 0.98],\n",
      "                         'range': [0, 12],\n",
      "                         'title': {'text': '<b>Letalidade (% óbitos/casos)</b>'},\n",
      "                         'type': 'linear'},\n",
      "               'yaxis': {'anchor': 'x',\n",
      "                         'autorange': False,\n",
      "                         'domain': [0.0, 1.0],\n",
      "                         'range': [0, 0.8],\n",
      "                         'title': {'text': '<b>Contaminação (% casos/população)</b>'},\n",
      "                         'type': 'linear'}}\n",
      "})\n"
     ]
    }
   ],
   "source": [
    "print(fig)"
   ]
  },
  {
   "cell_type": "code",
   "execution_count": null,
   "metadata": {
    "collapsed": true
   },
   "outputs": [],
   "source": []
  }
 ],
 "metadata": {
  "anaconda-cloud": {},
  "kernelspec": {
   "display_name": "Python 3",
   "language": "python",
   "name": "python3"
  },
  "language_info": {
   "codemirror_mode": {
    "name": "ipython",
    "version": 3
   },
   "file_extension": ".py",
   "mimetype": "text/x-python",
   "name": "python",
   "nbconvert_exporter": "python",
   "pygments_lexer": "ipython3",
   "version": "3.6.8"
  }
 },
 "nbformat": 4,
 "nbformat_minor": 1
}
