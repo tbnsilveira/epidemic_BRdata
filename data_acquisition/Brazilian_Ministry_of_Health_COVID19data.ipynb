{
 "cells": [
  {
   "cell_type": "markdown",
   "metadata": {},
   "source": [
    "# Exploring COVID-19 numbers: the data acquisition process"
   ]
  },
  {
   "cell_type": "markdown",
   "metadata": {},
   "source": [
    "### Environment log:"
   ]
  },
  {
   "cell_type": "markdown",
   "metadata": {},
   "source": [
    "(1) Using the \"analytics3\" anaconda environment; installing python packages directly through *pip* command.  \n",
    "(2) Installed *pyvirtualenv*, *selenium*, and *[bs4](https://www.crummy.com/software/BeautifulSoup/bs4/doc/#)* packages.  \n",
    "(3) Installed *chromedriver* through \"pip install chromedriver\".  \n",
    "\n",
    "(4) Got this error when initializing the Display function:\n",
    "> display = Display(visible=0, size=(800,600))\n",
    "> display.start()  \n",
    ">> FileNotFoundError: [Errno 2] No such file or directory: 'Xvfb': 'Xvfb'\n",
    ">> EasyProcessError: start error EasyProcess cmd_param=['Xvfb', '-help'] cmd=['Xvfb', '-help'] oserror=[Errno 2] No such file or directory: 'Xvfb': 'Xvfb' return_code=None stdout=\"None\" stderr=\"None\" timeout_happened=False>\n",
    "\n",
    "**Solution found in: https://bugs.debian.org/cgi-bin/bugreport.cgi?bug=860501**   \n",
    " \n",
    "(5) Installed the system package xvfb through the shell line: *sudo apt-get install xvfb*.\n",
    "\n",
    "- When running the \"driver = webdriver.Chrome()\" python command, I received the following error:  \n",
    "> driver = webdriver.Chrome()\n",
    ">> FileNotFoundError: [Errno 2] No such file or directory: 'chromedriver': 'chromedriver'  \n",
    "\n",
    "(6) Even though, since I'm using conda environment I have set the chromedriver path before:  \n",
    "> chromeDriverPath = '~/anaconda3/envs/analytics3/'\n",
    "\n",
    "The solution was to create a symbolic link in the path shown above, through the system bash, which made it work properly:  \n",
    "> $ ln -s ~/anaconda3/envs/analytics3/chromedriver-Linux64 chromedriver  \n",
    "\n",
    "(7) There are some broken links in the BMH oficial page: it misses the \"https://portalarquivos.saude.gov.br/\" portion of the link. We defined a function to address this issue.\n"
   ]
  },
  {
   "cell_type": "markdown",
   "metadata": {},
   "source": [
    "## Epidemiological bulletins from World Health Organization - WHO\n",
    "https://www.who.int/emergencies/diseases/novel-coronavirus-2019/situation-reports/  \n",
    "https://github.com/danielsteman/COVID-19_WHO  \n",
    "https://github.com/danielsteman/COVID-19_WHO/blob/master/WHO_webscrape.ipynb (the author uses PyPDF2)"
   ]
  },
  {
   "cell_type": "markdown",
   "metadata": {},
   "source": [
    "## Epidemiological bulletins from Brazilian Ministry of Health\n",
    "https://www.saude.gov.br/boletins-epidemiologicos\n",
    "  - Coronavírus/COVID-19  \n",
    "  - Dengue"
   ]
  },
  {
   "cell_type": "markdown",
   "metadata": {},
   "source": [
    "## COVID-19 pandemic: official dashboard of the Ministry of Health of Brazil\n",
    "https://covid.saude.gov.br/"
   ]
  },
  {
   "cell_type": "markdown",
   "metadata": {},
   "source": [
    "### Initial statements"
   ]
  },
  {
   "cell_type": "code",
   "execution_count": 1,
   "metadata": {},
   "outputs": [
    {
     "name": "stdout",
     "output_type": "stream",
     "text": [
      "3.7.4 (default, Aug 13 2019, 20:35:49) \n",
      "[GCC 7.3.0]\n"
     ]
    }
   ],
   "source": [
    "import sys\n",
    "print(sys.version)"
   ]
  },
  {
   "cell_type": "code",
   "execution_count": 2,
   "metadata": {},
   "outputs": [],
   "source": [
    "from pyvirtualdisplay import Display\n",
    "from selenium import webdriver\n",
    "\n",
    "## BeautifulSoup - BeautifulSoup is not needed at this time, since there's no parsing.\n",
    "#from bs4 import "
   ]
  },
  {
   "cell_type": "code",
   "execution_count": 3,
   "metadata": {},
   "outputs": [],
   "source": [
    "# Definição de parâmetros\n",
    "url = 'https://covid.saude.gov.br'\n",
    "chromeDriverPath = '/home/tbnsilveira/anaconda3/envs/analytics/chromedriver'"
   ]
  },
  {
   "cell_type": "markdown",
   "metadata": {},
   "source": [
    "### Web browsing"
   ]
  },
  {
   "cell_type": "markdown",
   "metadata": {},
   "source": [
    "In this step of our data crawling we want to access the webpage through the Chromium driver. It is then appropriate to create some functions both for the page access as for its content analysis. However, it would be only possible if we know the page structure. In order to reach it, at this time we will try to read and explore it, trying to find the patterns and links we are looking for."
   ]
  },
  {
   "cell_type": "code",
   "execution_count": 4,
   "metadata": {},
   "outputs": [
    {
     "data": {
      "text/plain": [
       "<pyvirtualdisplay.display.Display at 0x7fb1343c15d0>"
      ]
     },
     "execution_count": 4,
     "metadata": {},
     "output_type": "execute_result"
    }
   ],
   "source": [
    "# Display starting:\n",
    "display = Display(visible=0, size=(800,600))\n",
    "display.start()"
   ]
  },
  {
   "cell_type": "code",
   "execution_count": 5,
   "metadata": {},
   "outputs": [],
   "source": [
    "# Open the Chromium.driver for the intended page:\n",
    "driver = webdriver.Chrome(chromeDriverPath)"
   ]
  },
  {
   "cell_type": "code",
   "execution_count": 6,
   "metadata": {},
   "outputs": [],
   "source": [
    "# Reading the page content and saving it specifying its encoding scheme:\n",
    "driver.get(url)\n",
    "page = driver.page_source.encode('utf-8')"
   ]
  },
  {
   "cell_type": "markdown",
   "metadata": {},
   "source": [
    "### Initial exploration"
   ]
  },
  {
   "cell_type": "code",
   "execution_count": 7,
   "metadata": {},
   "outputs": [
    {
     "name": "stdout",
     "output_type": "stream",
     "text": [
      "112616\n",
      "<class 'bytes'>\n"
     ]
    }
   ],
   "source": [
    "# How large is the loaded page?\n",
    "print(len(page))\n",
    "# Data streaming type is expected:\n",
    "print(type(page))"
   ]
  },
  {
   "cell_type": "code",
   "execution_count": 9,
   "metadata": {},
   "outputs": [
    {
     "name": "stdout",
     "output_type": "stream",
     "text": [
      "b'<!DOCTYPE html><html xmlns=\"http://www.w3.org/1999/xhtml\" lang=\"en\" class=\"plt-phablet plt-desktop md hydrated\" mode=\"md\"><head>\\n    <meta charset=\"utf-8\" /><style data-styles=\"\">ion-select-popover,ion-select,ion-select-option,ion-menu-button,ion-menu,ion-menu-toggle,ion-action-sheet,ion-fab-button,ion-fab,ion-fab-list,ion-refresher-content,ion-refresher,ion-back-button,ion-backdrop,ion-alert,ion-loading,ion-toast,ion-card,ion-card-content,ion-card-header,ion-card-subtitle,ion-card-title,ion-item-option,ion-item-options,ion-item-sliding,ion-infinite-scroll-content,ion-infinite-scroll,ion-reorder,ion-reorder-group,ion-segment-button,ion-segment,ion-tab-button,ion-tab-bar,ion-chip,ion-modal,ion-popover,ion-searchbar,ion-app,ion-buttons,ion-content,ion-footer,ion-header,ion-router-outlet,ion-title,ion-toolbar,ion-route,ion-route-redirect,ion-router,ion-router-link,ion-avatar,ion-badge,ion-thumbnail,ion-col,ion-grid,ion-row,ion-nav,ion-nav-link,ion-slide,ion-slides,ion-checkbox,ion-img,ion-input,ion-progress-bar,ion-range,ion-split-pane,ion-text,ion-textarea,ion-toggle,ion-virtual-scroll,ion-picker,ion-datetime,ion-picker-column,ion-radio,ion-radio-group,ion-spinner,ion-ripple-effect,ion-button,ion-icon,ion-item-divider,ion-item-group,ion-note,ion-skeleton-text,ion-item,ion-label,ion-list,ion-list-header{visibility:hidden}.hydrated{visibility:inherit}</style>\\n    <title>Coronav\\xc3\\xadrus Brasil</title>\\n\\n    <base href=\"/\" />\\n\\n    <meta name=\"viewport\" content=\"viewport-fit=cover, width=device-width, initial-scale=1.0, minimum-scale=1.0, maximum-scale=1.0, user-scalable=no\" />\\n    <meta name=\"format-detection\" content=\"telephone=no\" />\\n    <meta name=\"msapplication-tap-highlight\" content=\"no\" />\\n    <style>html.plt-mobile ion-app{-webkit-user-select:none;-moz-user-select:none;-ms-user-select:none;user-select:none}ion-app.force-statusbar-padding{--ion-safe-area-top:20px}</style><style>ion-header{display:block;position:relative;-ms-flex-order:-1;order:-1;width:100%;z-index:10}i'\n"
     ]
    }
   ],
   "source": [
    "## Showing only the first 2k positions of the bytes stream:\n",
    "print(page[:2000])"
   ]
  },
  {
   "cell_type": "markdown",
   "metadata": {},
   "source": [
    "------------------"
   ]
  },
  {
   "cell_type": "markdown",
   "metadata": {},
   "source": [
    "Once the website is loaded, **BeautifulSoup is typically used to mine its content and explore links of interest**. In this case, however, **the new portal made available by BMH was created in Firebase**. That is, there is no link to the database, but a response to the action of clicking the button.\n",
    "\n",
    "Using Chrome's inspection tool, we can locate the element related to downloading the data and then emulate its click through the Selenium library."
   ]
  },
  {
   "cell_type": "code",
   "execution_count": 10,
   "metadata": {},
   "outputs": [],
   "source": [
    "## Path of the element from Chrome inspection tool:\n",
    "xpathElement = '/html/body/app-root/ion-app/ion-router-outlet/app-home/ion-content/div[1]/div[2]/ion-button'\n",
    "\n",
    "## Element corresponding to \"Arquivo CSV\" button:\n",
    "dataDownloader = driver.find_element_by_xpath(xpathElement)"
   ]
  },
  {
   "cell_type": "code",
   "execution_count": 11,
   "metadata": {},
   "outputs": [],
   "source": [
    "dataDownloader.click()"
   ]
  },
  {
   "cell_type": "markdown",
   "metadata": {},
   "source": [
    "The steps above allowed us to download the CSV file to the default downloading directory. An open issue from this script is to set the specific file destiny. There are some references saying Selenium does not support dialogue boxes. Other references explore ways to do it out:\n",
    "\n",
    "https://medium.com/@moungpeter/how-to-automate-downloading-files-using-python-selenium-and-headless-chrome-9014f0cdd196"
   ]
  },
  {
   "cell_type": "markdown",
   "metadata": {},
   "source": [
    "---------------------"
   ]
  },
  {
   "cell_type": "markdown",
   "metadata": {},
   "source": [
    "### Reading the downloaded CSV file:"
   ]
  },
  {
   "cell_type": "code",
   "execution_count": 12,
   "metadata": {},
   "outputs": [],
   "source": [
    "import os\n",
    "import glob"
   ]
  },
  {
   "cell_type": "markdown",
   "metadata": {},
   "source": [
    "To figure out how to select the last downloaded file in a directory, I used the code available in https://stackoverflow.com/questions/39327032/how-to-get-the-latest-file-in-a-folder-using-python."
   ]
  },
  {
   "cell_type": "code",
   "execution_count": 13,
   "metadata": {},
   "outputs": [
    {
     "name": "stdout",
     "output_type": "stream",
     "text": [
      "/home/tbnsilveira/Downloads/HIST_PAINEL_COVIDBR_31mai2020 (1).xlsx\n"
     ]
    }
   ],
   "source": [
    "## Picking the last XLSX downloaded file:\n",
    "list_of_files = glob.glob('/home/tbnsilveira/Downloads/*.xlsx') # * means all if need specific format then *.csv\n",
    "latest_file = max(list_of_files, key=os.path.getctime)\n",
    "print(latest_file)"
   ]
  },
  {
   "cell_type": "code",
   "execution_count": 70,
   "metadata": {},
   "outputs": [
    {
     "data": {
      "text/plain": [
       "'/home/tbnsilveira/Downloads/HIST_PAINEL_COVIDBR_20mai2020 (2).xlsx'"
      ]
     },
     "execution_count": 70,
     "metadata": {},
     "output_type": "execute_result"
    }
   ],
   "source": [
    "latest_file = list_of_files[2]\n",
    "latest_file"
   ]
  },
  {
   "cell_type": "code",
   "execution_count": 14,
   "metadata": {},
   "outputs": [],
   "source": [
    "import pandas as pd\n",
    "\n",
    "import matplotlib.pyplot as plt\n",
    "import seaborn as sns\n",
    "%matplotlib inline"
   ]
  },
  {
   "cell_type": "code",
   "execution_count": 45,
   "metadata": {},
   "outputs": [],
   "source": [
    "covidData = pd.read_excel(latest_file)"
   ]
  },
  {
   "cell_type": "code",
   "execution_count": 46,
   "metadata": {},
   "outputs": [
    {
     "data": {
      "text/html": [
       "<div>\n",
       "<style scoped>\n",
       "    .dataframe tbody tr th:only-of-type {\n",
       "        vertical-align: middle;\n",
       "    }\n",
       "\n",
       "    .dataframe tbody tr th {\n",
       "        vertical-align: top;\n",
       "    }\n",
       "\n",
       "    .dataframe thead th {\n",
       "        text-align: right;\n",
       "    }\n",
       "</style>\n",
       "<table border=\"1\" class=\"dataframe\">\n",
       "  <thead>\n",
       "    <tr style=\"text-align: right;\">\n",
       "      <th></th>\n",
       "      <th>regiao</th>\n",
       "      <th>estado</th>\n",
       "      <th>municipio</th>\n",
       "      <th>coduf</th>\n",
       "      <th>codmun</th>\n",
       "      <th>codRegiaoSaude</th>\n",
       "      <th>nomeRegiaoSaude</th>\n",
       "      <th>data</th>\n",
       "      <th>semanaEpi</th>\n",
       "      <th>populacaoTCU2019</th>\n",
       "      <th>casosAcumulado</th>\n",
       "      <th>casosNovos</th>\n",
       "      <th>obitosAcumulado</th>\n",
       "      <th>obitosNovos</th>\n",
       "      <th>Recuperadosnovos</th>\n",
       "      <th>emAcompanhamentoNovos</th>\n",
       "    </tr>\n",
       "  </thead>\n",
       "  <tbody>\n",
       "    <tr>\n",
       "      <th>0</th>\n",
       "      <td>Brasil</td>\n",
       "      <td>NaN</td>\n",
       "      <td>NaN</td>\n",
       "      <td>76.0</td>\n",
       "      <td>NaN</td>\n",
       "      <td>NaN</td>\n",
       "      <td>NaN</td>\n",
       "      <td>2020-02-26</td>\n",
       "      <td>9.0</td>\n",
       "      <td>210147125.0</td>\n",
       "      <td>1.0</td>\n",
       "      <td>0.0</td>\n",
       "      <td>0.0</td>\n",
       "      <td>0.0</td>\n",
       "      <td>NaN</td>\n",
       "      <td>NaN</td>\n",
       "    </tr>\n",
       "    <tr>\n",
       "      <th>1</th>\n",
       "      <td>Brasil</td>\n",
       "      <td>NaN</td>\n",
       "      <td>NaN</td>\n",
       "      <td>76.0</td>\n",
       "      <td>NaN</td>\n",
       "      <td>NaN</td>\n",
       "      <td>NaN</td>\n",
       "      <td>2020-02-27</td>\n",
       "      <td>9.0</td>\n",
       "      <td>210147125.0</td>\n",
       "      <td>1.0</td>\n",
       "      <td>0.0</td>\n",
       "      <td>0.0</td>\n",
       "      <td>0.0</td>\n",
       "      <td>NaN</td>\n",
       "      <td>NaN</td>\n",
       "    </tr>\n",
       "    <tr>\n",
       "      <th>2</th>\n",
       "      <td>Brasil</td>\n",
       "      <td>NaN</td>\n",
       "      <td>NaN</td>\n",
       "      <td>76.0</td>\n",
       "      <td>NaN</td>\n",
       "      <td>NaN</td>\n",
       "      <td>NaN</td>\n",
       "      <td>2020-02-28</td>\n",
       "      <td>9.0</td>\n",
       "      <td>210147125.0</td>\n",
       "      <td>1.0</td>\n",
       "      <td>0.0</td>\n",
       "      <td>0.0</td>\n",
       "      <td>0.0</td>\n",
       "      <td>NaN</td>\n",
       "      <td>NaN</td>\n",
       "    </tr>\n",
       "    <tr>\n",
       "      <th>3</th>\n",
       "      <td>Brasil</td>\n",
       "      <td>NaN</td>\n",
       "      <td>NaN</td>\n",
       "      <td>76.0</td>\n",
       "      <td>NaN</td>\n",
       "      <td>NaN</td>\n",
       "      <td>NaN</td>\n",
       "      <td>2020-02-29</td>\n",
       "      <td>9.0</td>\n",
       "      <td>210147125.0</td>\n",
       "      <td>2.0</td>\n",
       "      <td>1.0</td>\n",
       "      <td>0.0</td>\n",
       "      <td>0.0</td>\n",
       "      <td>NaN</td>\n",
       "      <td>NaN</td>\n",
       "    </tr>\n",
       "    <tr>\n",
       "      <th>4</th>\n",
       "      <td>Brasil</td>\n",
       "      <td>NaN</td>\n",
       "      <td>NaN</td>\n",
       "      <td>76.0</td>\n",
       "      <td>NaN</td>\n",
       "      <td>NaN</td>\n",
       "      <td>NaN</td>\n",
       "      <td>2020-03-01</td>\n",
       "      <td>10.0</td>\n",
       "      <td>210147125.0</td>\n",
       "      <td>2.0</td>\n",
       "      <td>0.0</td>\n",
       "      <td>0.0</td>\n",
       "      <td>0.0</td>\n",
       "      <td>NaN</td>\n",
       "      <td>NaN</td>\n",
       "    </tr>\n",
       "    <tr>\n",
       "      <th>...</th>\n",
       "      <td>...</td>\n",
       "      <td>...</td>\n",
       "      <td>...</td>\n",
       "      <td>...</td>\n",
       "      <td>...</td>\n",
       "      <td>...</td>\n",
       "      <td>...</td>\n",
       "      <td>...</td>\n",
       "      <td>...</td>\n",
       "      <td>...</td>\n",
       "      <td>...</td>\n",
       "      <td>...</td>\n",
       "      <td>...</td>\n",
       "      <td>...</td>\n",
       "      <td>...</td>\n",
       "      <td>...</td>\n",
       "    </tr>\n",
       "    <tr>\n",
       "      <th>138766</th>\n",
       "      <td>Sul</td>\n",
       "      <td>RS</td>\n",
       "      <td>NaN</td>\n",
       "      <td>43.0</td>\n",
       "      <td>NaN</td>\n",
       "      <td>NaN</td>\n",
       "      <td>NaN</td>\n",
       "      <td>2020-05-30</td>\n",
       "      <td>22.0</td>\n",
       "      <td>11377239.0</td>\n",
       "      <td>9242.0</td>\n",
       "      <td>1008.0</td>\n",
       "      <td>218.0</td>\n",
       "      <td>5.0</td>\n",
       "      <td>NaN</td>\n",
       "      <td>NaN</td>\n",
       "    </tr>\n",
       "    <tr>\n",
       "      <th>138767</th>\n",
       "      <td>Centro-Oeste</td>\n",
       "      <td>MS</td>\n",
       "      <td>NaN</td>\n",
       "      <td>50.0</td>\n",
       "      <td>NaN</td>\n",
       "      <td>NaN</td>\n",
       "      <td>NaN</td>\n",
       "      <td>2020-05-30</td>\n",
       "      <td>22.0</td>\n",
       "      <td>2778986.0</td>\n",
       "      <td>1418.0</td>\n",
       "      <td>62.0</td>\n",
       "      <td>19.0</td>\n",
       "      <td>1.0</td>\n",
       "      <td>NaN</td>\n",
       "      <td>NaN</td>\n",
       "    </tr>\n",
       "    <tr>\n",
       "      <th>138768</th>\n",
       "      <td>Centro-Oeste</td>\n",
       "      <td>MT</td>\n",
       "      <td>NaN</td>\n",
       "      <td>51.0</td>\n",
       "      <td>NaN</td>\n",
       "      <td>NaN</td>\n",
       "      <td>NaN</td>\n",
       "      <td>2020-05-30</td>\n",
       "      <td>22.0</td>\n",
       "      <td>3484466.0</td>\n",
       "      <td>2361.0</td>\n",
       "      <td>258.0</td>\n",
       "      <td>57.0</td>\n",
       "      <td>1.0</td>\n",
       "      <td>NaN</td>\n",
       "      <td>NaN</td>\n",
       "    </tr>\n",
       "    <tr>\n",
       "      <th>138769</th>\n",
       "      <td>Centro-Oeste</td>\n",
       "      <td>GO</td>\n",
       "      <td>NaN</td>\n",
       "      <td>52.0</td>\n",
       "      <td>NaN</td>\n",
       "      <td>NaN</td>\n",
       "      <td>NaN</td>\n",
       "      <td>2020-05-30</td>\n",
       "      <td>22.0</td>\n",
       "      <td>7018354.0</td>\n",
       "      <td>3585.0</td>\n",
       "      <td>266.0</td>\n",
       "      <td>122.0</td>\n",
       "      <td>3.0</td>\n",
       "      <td>NaN</td>\n",
       "      <td>NaN</td>\n",
       "    </tr>\n",
       "    <tr>\n",
       "      <th>138770</th>\n",
       "      <td>Centro-Oeste</td>\n",
       "      <td>DF</td>\n",
       "      <td>NaN</td>\n",
       "      <td>53.0</td>\n",
       "      <td>NaN</td>\n",
       "      <td>NaN</td>\n",
       "      <td>NaN</td>\n",
       "      <td>2020-05-30</td>\n",
       "      <td>22.0</td>\n",
       "      <td>3015268.0</td>\n",
       "      <td>9474.0</td>\n",
       "      <td>752.0</td>\n",
       "      <td>162.0</td>\n",
       "      <td>8.0</td>\n",
       "      <td>NaN</td>\n",
       "      <td>NaN</td>\n",
       "    </tr>\n",
       "  </tbody>\n",
       "</table>\n",
       "<p>138771 rows × 16 columns</p>\n",
       "</div>"
      ],
      "text/plain": [
       "              regiao estado municipio  coduf  codmun  codRegiaoSaude  \\\n",
       "0             Brasil    NaN       NaN   76.0     NaN             NaN   \n",
       "1             Brasil    NaN       NaN   76.0     NaN             NaN   \n",
       "2             Brasil    NaN       NaN   76.0     NaN             NaN   \n",
       "3             Brasil    NaN       NaN   76.0     NaN             NaN   \n",
       "4             Brasil    NaN       NaN   76.0     NaN             NaN   \n",
       "...              ...    ...       ...    ...     ...             ...   \n",
       "138766           Sul     RS       NaN   43.0     NaN             NaN   \n",
       "138767  Centro-Oeste     MS       NaN   50.0     NaN             NaN   \n",
       "138768  Centro-Oeste     MT       NaN   51.0     NaN             NaN   \n",
       "138769  Centro-Oeste     GO       NaN   52.0     NaN             NaN   \n",
       "138770  Centro-Oeste     DF       NaN   53.0     NaN             NaN   \n",
       "\n",
       "       nomeRegiaoSaude        data  semanaEpi  populacaoTCU2019  \\\n",
       "0                  NaN  2020-02-26        9.0       210147125.0   \n",
       "1                  NaN  2020-02-27        9.0       210147125.0   \n",
       "2                  NaN  2020-02-28        9.0       210147125.0   \n",
       "3                  NaN  2020-02-29        9.0       210147125.0   \n",
       "4                  NaN  2020-03-01       10.0       210147125.0   \n",
       "...                ...         ...        ...               ...   \n",
       "138766             NaN  2020-05-30       22.0        11377239.0   \n",
       "138767             NaN  2020-05-30       22.0         2778986.0   \n",
       "138768             NaN  2020-05-30       22.0         3484466.0   \n",
       "138769             NaN  2020-05-30       22.0         7018354.0   \n",
       "138770             NaN  2020-05-30       22.0         3015268.0   \n",
       "\n",
       "        casosAcumulado  casosNovos  obitosAcumulado  obitosNovos  \\\n",
       "0                  1.0         0.0              0.0          0.0   \n",
       "1                  1.0         0.0              0.0          0.0   \n",
       "2                  1.0         0.0              0.0          0.0   \n",
       "3                  2.0         1.0              0.0          0.0   \n",
       "4                  2.0         0.0              0.0          0.0   \n",
       "...                ...         ...              ...          ...   \n",
       "138766          9242.0      1008.0            218.0          5.0   \n",
       "138767          1418.0        62.0             19.0          1.0   \n",
       "138768          2361.0       258.0             57.0          1.0   \n",
       "138769          3585.0       266.0            122.0          3.0   \n",
       "138770          9474.0       752.0            162.0          8.0   \n",
       "\n",
       "        Recuperadosnovos  emAcompanhamentoNovos  \n",
       "0                    NaN                    NaN  \n",
       "1                    NaN                    NaN  \n",
       "2                    NaN                    NaN  \n",
       "3                    NaN                    NaN  \n",
       "4                    NaN                    NaN  \n",
       "...                  ...                    ...  \n",
       "138766               NaN                    NaN  \n",
       "138767               NaN                    NaN  \n",
       "138768               NaN                    NaN  \n",
       "138769               NaN                    NaN  \n",
       "138770               NaN                    NaN  \n",
       "\n",
       "[138771 rows x 16 columns]"
      ]
     },
     "execution_count": 46,
     "metadata": {},
     "output_type": "execute_result"
    }
   ],
   "source": [
    "covidData"
   ]
  },
  {
   "cell_type": "markdown",
   "metadata": {},
   "source": [
    "-----------------"
   ]
  },
  {
   "cell_type": "markdown",
   "metadata": {},
   "source": [
    "In the way this script was initialy built, it was important to remove the CSV file after reading it, thus preventing the most current versions from being downloaded under another name. However, in the second week of May, the BMH changed the file format to XLSX, thus requiring to adapt the script. In this case, I choose to read the last downloaded file, then keeping all the copies in my system. In the case you don't want these copies, you can just uncomment the line below:"
   ]
  },
  {
   "cell_type": "code",
   "execution_count": 47,
   "metadata": {},
   "outputs": [],
   "source": [
    "## In some situations you'll have to replace \"~/\" by the full local address (/home/user...)\n",
    "#os.remove(latest_file)"
   ]
  },
  {
   "cell_type": "markdown",
   "metadata": {},
   "source": [
    "------------------"
   ]
  },
  {
   "cell_type": "markdown",
   "metadata": {},
   "source": [
    "## Data wrangling "
   ]
  },
  {
   "cell_type": "code",
   "execution_count": 51,
   "metadata": {},
   "outputs": [
    {
     "name": "stdout",
     "output_type": "stream",
     "text": [
      "<class 'pandas.core.frame.DataFrame'>\n",
      "RangeIndex: 138771 entries, 0 to 138770\n",
      "Data columns (total 16 columns):\n",
      " #   Column                 Non-Null Count   Dtype  \n",
      "---  ------                 --------------   -----  \n",
      " 0   regiao                 138733 non-null  object \n",
      " 1   estado                 138636 non-null  object \n",
      " 2   municipio              135796 non-null  object \n",
      " 3   coduf                  138733 non-null  float64\n",
      " 4   codmun                 136470 non-null  float64\n",
      " 5   codRegiaoSaude         135796 non-null  float64\n",
      " 6   nomeRegiaoSaude        135796 non-null  object \n",
      " 7   data                   138733 non-null  object \n",
      " 8   semanaEpi              138733 non-null  float64\n",
      " 9   populacaoTCU2019       138059 non-null  float64\n",
      " 10  casosAcumulado         138733 non-null  float64\n",
      " 11  casosNovos             138733 non-null  float64\n",
      " 12  obitosAcumulado        138733 non-null  float64\n",
      " 13  obitosNovos            138733 non-null  float64\n",
      " 14  Recuperadosnovos       44 non-null      float64\n",
      " 15  emAcompanhamentoNovos  44 non-null      float64\n",
      "dtypes: float64(11), object(5)\n",
      "memory usage: 16.9+ MB\n"
     ]
    }
   ],
   "source": [
    "covidData.info()"
   ]
  },
  {
   "cell_type": "markdown",
   "metadata": {},
   "source": [
    "### Adjusting the datetime type data:"
   ]
  },
  {
   "cell_type": "markdown",
   "metadata": {},
   "source": [
    "From the information above, there are 38 instances with null value. First we must check which kind of data are in these lines, then deciding if will remove them or not."
   ]
  },
  {
   "cell_type": "code",
   "execution_count": 49,
   "metadata": {
    "scrolled": true
   },
   "outputs": [
    {
     "data": {
      "text/html": [
       "<div>\n",
       "<style scoped>\n",
       "    .dataframe tbody tr th:only-of-type {\n",
       "        vertical-align: middle;\n",
       "    }\n",
       "\n",
       "    .dataframe tbody tr th {\n",
       "        vertical-align: top;\n",
       "    }\n",
       "\n",
       "    .dataframe thead th {\n",
       "        text-align: right;\n",
       "    }\n",
       "</style>\n",
       "<table border=\"1\" class=\"dataframe\">\n",
       "  <thead>\n",
       "    <tr style=\"text-align: right;\">\n",
       "      <th></th>\n",
       "      <th>regiao</th>\n",
       "      <th>estado</th>\n",
       "      <th>municipio</th>\n",
       "      <th>coduf</th>\n",
       "      <th>codmun</th>\n",
       "      <th>codRegiaoSaude</th>\n",
       "      <th>nomeRegiaoSaude</th>\n",
       "      <th>data</th>\n",
       "      <th>semanaEpi</th>\n",
       "      <th>populacaoTCU2019</th>\n",
       "      <th>casosAcumulado</th>\n",
       "      <th>casosNovos</th>\n",
       "      <th>obitosAcumulado</th>\n",
       "      <th>obitosNovos</th>\n",
       "      <th>Recuperadosnovos</th>\n",
       "      <th>emAcompanhamentoNovos</th>\n",
       "    </tr>\n",
       "  </thead>\n",
       "  <tbody>\n",
       "    <tr>\n",
       "      <th>4180</th>\n",
       "      <td>NaN</td>\n",
       "      <td>NaN</td>\n",
       "      <td>NaN</td>\n",
       "      <td>NaN</td>\n",
       "      <td>NaN</td>\n",
       "      <td>NaN</td>\n",
       "      <td>NaN</td>\n",
       "      <td>NaN</td>\n",
       "      <td>NaN</td>\n",
       "      <td>NaN</td>\n",
       "      <td>NaN</td>\n",
       "      <td>NaN</td>\n",
       "      <td>NaN</td>\n",
       "      <td>NaN</td>\n",
       "      <td>NaN</td>\n",
       "      <td>NaN</td>\n",
       "    </tr>\n",
       "    <tr>\n",
       "      <th>4181</th>\n",
       "      <td>NaN</td>\n",
       "      <td>NaN</td>\n",
       "      <td>NaN</td>\n",
       "      <td>NaN</td>\n",
       "      <td>NaN</td>\n",
       "      <td>NaN</td>\n",
       "      <td>NaN</td>\n",
       "      <td>NaN</td>\n",
       "      <td>NaN</td>\n",
       "      <td>NaN</td>\n",
       "      <td>NaN</td>\n",
       "      <td>NaN</td>\n",
       "      <td>NaN</td>\n",
       "      <td>NaN</td>\n",
       "      <td>NaN</td>\n",
       "      <td>NaN</td>\n",
       "    </tr>\n",
       "    <tr>\n",
       "      <th>4182</th>\n",
       "      <td>NaN</td>\n",
       "      <td>NaN</td>\n",
       "      <td>NaN</td>\n",
       "      <td>NaN</td>\n",
       "      <td>NaN</td>\n",
       "      <td>NaN</td>\n",
       "      <td>NaN</td>\n",
       "      <td>NaN</td>\n",
       "      <td>NaN</td>\n",
       "      <td>NaN</td>\n",
       "      <td>NaN</td>\n",
       "      <td>NaN</td>\n",
       "      <td>NaN</td>\n",
       "      <td>NaN</td>\n",
       "      <td>NaN</td>\n",
       "      <td>NaN</td>\n",
       "    </tr>\n",
       "    <tr>\n",
       "      <th>4183</th>\n",
       "      <td>NaN</td>\n",
       "      <td>NaN</td>\n",
       "      <td>NaN</td>\n",
       "      <td>NaN</td>\n",
       "      <td>NaN</td>\n",
       "      <td>NaN</td>\n",
       "      <td>NaN</td>\n",
       "      <td>NaN</td>\n",
       "      <td>NaN</td>\n",
       "      <td>NaN</td>\n",
       "      <td>NaN</td>\n",
       "      <td>NaN</td>\n",
       "      <td>NaN</td>\n",
       "      <td>NaN</td>\n",
       "      <td>NaN</td>\n",
       "      <td>NaN</td>\n",
       "    </tr>\n",
       "    <tr>\n",
       "      <th>4184</th>\n",
       "      <td>NaN</td>\n",
       "      <td>NaN</td>\n",
       "      <td>NaN</td>\n",
       "      <td>NaN</td>\n",
       "      <td>NaN</td>\n",
       "      <td>NaN</td>\n",
       "      <td>NaN</td>\n",
       "      <td>NaN</td>\n",
       "      <td>NaN</td>\n",
       "      <td>NaN</td>\n",
       "      <td>NaN</td>\n",
       "      <td>NaN</td>\n",
       "      <td>NaN</td>\n",
       "      <td>NaN</td>\n",
       "      <td>NaN</td>\n",
       "      <td>NaN</td>\n",
       "    </tr>\n",
       "    <tr>\n",
       "      <th>4185</th>\n",
       "      <td>NaN</td>\n",
       "      <td>NaN</td>\n",
       "      <td>NaN</td>\n",
       "      <td>NaN</td>\n",
       "      <td>NaN</td>\n",
       "      <td>NaN</td>\n",
       "      <td>NaN</td>\n",
       "      <td>NaN</td>\n",
       "      <td>NaN</td>\n",
       "      <td>NaN</td>\n",
       "      <td>NaN</td>\n",
       "      <td>NaN</td>\n",
       "      <td>NaN</td>\n",
       "      <td>NaN</td>\n",
       "      <td>NaN</td>\n",
       "      <td>NaN</td>\n",
       "    </tr>\n",
       "    <tr>\n",
       "      <th>4186</th>\n",
       "      <td>NaN</td>\n",
       "      <td>NaN</td>\n",
       "      <td>NaN</td>\n",
       "      <td>NaN</td>\n",
       "      <td>NaN</td>\n",
       "      <td>NaN</td>\n",
       "      <td>NaN</td>\n",
       "      <td>NaN</td>\n",
       "      <td>NaN</td>\n",
       "      <td>NaN</td>\n",
       "      <td>NaN</td>\n",
       "      <td>NaN</td>\n",
       "      <td>NaN</td>\n",
       "      <td>NaN</td>\n",
       "      <td>NaN</td>\n",
       "      <td>NaN</td>\n",
       "    </tr>\n",
       "    <tr>\n",
       "      <th>4187</th>\n",
       "      <td>NaN</td>\n",
       "      <td>NaN</td>\n",
       "      <td>NaN</td>\n",
       "      <td>NaN</td>\n",
       "      <td>NaN</td>\n",
       "      <td>NaN</td>\n",
       "      <td>NaN</td>\n",
       "      <td>NaN</td>\n",
       "      <td>NaN</td>\n",
       "      <td>NaN</td>\n",
       "      <td>NaN</td>\n",
       "      <td>NaN</td>\n",
       "      <td>NaN</td>\n",
       "      <td>NaN</td>\n",
       "      <td>NaN</td>\n",
       "      <td>NaN</td>\n",
       "    </tr>\n",
       "    <tr>\n",
       "      <th>4188</th>\n",
       "      <td>NaN</td>\n",
       "      <td>NaN</td>\n",
       "      <td>NaN</td>\n",
       "      <td>NaN</td>\n",
       "      <td>NaN</td>\n",
       "      <td>NaN</td>\n",
       "      <td>NaN</td>\n",
       "      <td>NaN</td>\n",
       "      <td>NaN</td>\n",
       "      <td>NaN</td>\n",
       "      <td>NaN</td>\n",
       "      <td>NaN</td>\n",
       "      <td>NaN</td>\n",
       "      <td>NaN</td>\n",
       "      <td>NaN</td>\n",
       "      <td>NaN</td>\n",
       "    </tr>\n",
       "    <tr>\n",
       "      <th>4189</th>\n",
       "      <td>NaN</td>\n",
       "      <td>NaN</td>\n",
       "      <td>NaN</td>\n",
       "      <td>NaN</td>\n",
       "      <td>NaN</td>\n",
       "      <td>NaN</td>\n",
       "      <td>NaN</td>\n",
       "      <td>NaN</td>\n",
       "      <td>NaN</td>\n",
       "      <td>NaN</td>\n",
       "      <td>NaN</td>\n",
       "      <td>NaN</td>\n",
       "      <td>NaN</td>\n",
       "      <td>NaN</td>\n",
       "      <td>NaN</td>\n",
       "      <td>NaN</td>\n",
       "    </tr>\n",
       "    <tr>\n",
       "      <th>4190</th>\n",
       "      <td>NaN</td>\n",
       "      <td>NaN</td>\n",
       "      <td>NaN</td>\n",
       "      <td>NaN</td>\n",
       "      <td>NaN</td>\n",
       "      <td>NaN</td>\n",
       "      <td>NaN</td>\n",
       "      <td>NaN</td>\n",
       "      <td>NaN</td>\n",
       "      <td>NaN</td>\n",
       "      <td>NaN</td>\n",
       "      <td>NaN</td>\n",
       "      <td>NaN</td>\n",
       "      <td>NaN</td>\n",
       "      <td>NaN</td>\n",
       "      <td>NaN</td>\n",
       "    </tr>\n",
       "    <tr>\n",
       "      <th>4191</th>\n",
       "      <td>NaN</td>\n",
       "      <td>NaN</td>\n",
       "      <td>NaN</td>\n",
       "      <td>NaN</td>\n",
       "      <td>NaN</td>\n",
       "      <td>NaN</td>\n",
       "      <td>NaN</td>\n",
       "      <td>NaN</td>\n",
       "      <td>NaN</td>\n",
       "      <td>NaN</td>\n",
       "      <td>NaN</td>\n",
       "      <td>NaN</td>\n",
       "      <td>NaN</td>\n",
       "      <td>NaN</td>\n",
       "      <td>NaN</td>\n",
       "      <td>NaN</td>\n",
       "    </tr>\n",
       "    <tr>\n",
       "      <th>4192</th>\n",
       "      <td>NaN</td>\n",
       "      <td>NaN</td>\n",
       "      <td>NaN</td>\n",
       "      <td>NaN</td>\n",
       "      <td>NaN</td>\n",
       "      <td>NaN</td>\n",
       "      <td>NaN</td>\n",
       "      <td>NaN</td>\n",
       "      <td>NaN</td>\n",
       "      <td>NaN</td>\n",
       "      <td>NaN</td>\n",
       "      <td>NaN</td>\n",
       "      <td>NaN</td>\n",
       "      <td>NaN</td>\n",
       "      <td>NaN</td>\n",
       "      <td>NaN</td>\n",
       "    </tr>\n",
       "    <tr>\n",
       "      <th>4193</th>\n",
       "      <td>NaN</td>\n",
       "      <td>NaN</td>\n",
       "      <td>NaN</td>\n",
       "      <td>NaN</td>\n",
       "      <td>NaN</td>\n",
       "      <td>NaN</td>\n",
       "      <td>NaN</td>\n",
       "      <td>NaN</td>\n",
       "      <td>NaN</td>\n",
       "      <td>NaN</td>\n",
       "      <td>NaN</td>\n",
       "      <td>NaN</td>\n",
       "      <td>NaN</td>\n",
       "      <td>NaN</td>\n",
       "      <td>NaN</td>\n",
       "      <td>NaN</td>\n",
       "    </tr>\n",
       "    <tr>\n",
       "      <th>4194</th>\n",
       "      <td>NaN</td>\n",
       "      <td>NaN</td>\n",
       "      <td>NaN</td>\n",
       "      <td>NaN</td>\n",
       "      <td>NaN</td>\n",
       "      <td>NaN</td>\n",
       "      <td>NaN</td>\n",
       "      <td>NaN</td>\n",
       "      <td>NaN</td>\n",
       "      <td>NaN</td>\n",
       "      <td>NaN</td>\n",
       "      <td>NaN</td>\n",
       "      <td>NaN</td>\n",
       "      <td>NaN</td>\n",
       "      <td>NaN</td>\n",
       "      <td>NaN</td>\n",
       "    </tr>\n",
       "    <tr>\n",
       "      <th>4195</th>\n",
       "      <td>NaN</td>\n",
       "      <td>NaN</td>\n",
       "      <td>NaN</td>\n",
       "      <td>NaN</td>\n",
       "      <td>NaN</td>\n",
       "      <td>NaN</td>\n",
       "      <td>NaN</td>\n",
       "      <td>NaN</td>\n",
       "      <td>NaN</td>\n",
       "      <td>NaN</td>\n",
       "      <td>NaN</td>\n",
       "      <td>NaN</td>\n",
       "      <td>NaN</td>\n",
       "      <td>NaN</td>\n",
       "      <td>NaN</td>\n",
       "      <td>NaN</td>\n",
       "    </tr>\n",
       "    <tr>\n",
       "      <th>4196</th>\n",
       "      <td>NaN</td>\n",
       "      <td>NaN</td>\n",
       "      <td>NaN</td>\n",
       "      <td>NaN</td>\n",
       "      <td>NaN</td>\n",
       "      <td>NaN</td>\n",
       "      <td>NaN</td>\n",
       "      <td>NaN</td>\n",
       "      <td>NaN</td>\n",
       "      <td>NaN</td>\n",
       "      <td>NaN</td>\n",
       "      <td>NaN</td>\n",
       "      <td>NaN</td>\n",
       "      <td>NaN</td>\n",
       "      <td>NaN</td>\n",
       "      <td>NaN</td>\n",
       "    </tr>\n",
       "    <tr>\n",
       "      <th>4197</th>\n",
       "      <td>NaN</td>\n",
       "      <td>NaN</td>\n",
       "      <td>NaN</td>\n",
       "      <td>NaN</td>\n",
       "      <td>NaN</td>\n",
       "      <td>NaN</td>\n",
       "      <td>NaN</td>\n",
       "      <td>NaN</td>\n",
       "      <td>NaN</td>\n",
       "      <td>NaN</td>\n",
       "      <td>NaN</td>\n",
       "      <td>NaN</td>\n",
       "      <td>NaN</td>\n",
       "      <td>NaN</td>\n",
       "      <td>NaN</td>\n",
       "      <td>NaN</td>\n",
       "    </tr>\n",
       "    <tr>\n",
       "      <th>4198</th>\n",
       "      <td>NaN</td>\n",
       "      <td>NaN</td>\n",
       "      <td>NaN</td>\n",
       "      <td>NaN</td>\n",
       "      <td>NaN</td>\n",
       "      <td>NaN</td>\n",
       "      <td>NaN</td>\n",
       "      <td>NaN</td>\n",
       "      <td>NaN</td>\n",
       "      <td>NaN</td>\n",
       "      <td>NaN</td>\n",
       "      <td>NaN</td>\n",
       "      <td>NaN</td>\n",
       "      <td>NaN</td>\n",
       "      <td>NaN</td>\n",
       "      <td>NaN</td>\n",
       "    </tr>\n",
       "    <tr>\n",
       "      <th>4199</th>\n",
       "      <td>NaN</td>\n",
       "      <td>NaN</td>\n",
       "      <td>NaN</td>\n",
       "      <td>NaN</td>\n",
       "      <td>NaN</td>\n",
       "      <td>NaN</td>\n",
       "      <td>NaN</td>\n",
       "      <td>NaN</td>\n",
       "      <td>NaN</td>\n",
       "      <td>NaN</td>\n",
       "      <td>NaN</td>\n",
       "      <td>NaN</td>\n",
       "      <td>NaN</td>\n",
       "      <td>NaN</td>\n",
       "      <td>NaN</td>\n",
       "      <td>NaN</td>\n",
       "    </tr>\n",
       "    <tr>\n",
       "      <th>4200</th>\n",
       "      <td>NaN</td>\n",
       "      <td>NaN</td>\n",
       "      <td>NaN</td>\n",
       "      <td>NaN</td>\n",
       "      <td>NaN</td>\n",
       "      <td>NaN</td>\n",
       "      <td>NaN</td>\n",
       "      <td>NaN</td>\n",
       "      <td>NaN</td>\n",
       "      <td>NaN</td>\n",
       "      <td>NaN</td>\n",
       "      <td>NaN</td>\n",
       "      <td>NaN</td>\n",
       "      <td>NaN</td>\n",
       "      <td>NaN</td>\n",
       "      <td>NaN</td>\n",
       "    </tr>\n",
       "    <tr>\n",
       "      <th>4201</th>\n",
       "      <td>NaN</td>\n",
       "      <td>NaN</td>\n",
       "      <td>NaN</td>\n",
       "      <td>NaN</td>\n",
       "      <td>NaN</td>\n",
       "      <td>NaN</td>\n",
       "      <td>NaN</td>\n",
       "      <td>NaN</td>\n",
       "      <td>NaN</td>\n",
       "      <td>NaN</td>\n",
       "      <td>NaN</td>\n",
       "      <td>NaN</td>\n",
       "      <td>NaN</td>\n",
       "      <td>NaN</td>\n",
       "      <td>NaN</td>\n",
       "      <td>NaN</td>\n",
       "    </tr>\n",
       "    <tr>\n",
       "      <th>4202</th>\n",
       "      <td>NaN</td>\n",
       "      <td>NaN</td>\n",
       "      <td>NaN</td>\n",
       "      <td>NaN</td>\n",
       "      <td>NaN</td>\n",
       "      <td>NaN</td>\n",
       "      <td>NaN</td>\n",
       "      <td>NaN</td>\n",
       "      <td>NaN</td>\n",
       "      <td>NaN</td>\n",
       "      <td>NaN</td>\n",
       "      <td>NaN</td>\n",
       "      <td>NaN</td>\n",
       "      <td>NaN</td>\n",
       "      <td>NaN</td>\n",
       "      <td>NaN</td>\n",
       "    </tr>\n",
       "    <tr>\n",
       "      <th>4203</th>\n",
       "      <td>NaN</td>\n",
       "      <td>NaN</td>\n",
       "      <td>NaN</td>\n",
       "      <td>NaN</td>\n",
       "      <td>NaN</td>\n",
       "      <td>NaN</td>\n",
       "      <td>NaN</td>\n",
       "      <td>NaN</td>\n",
       "      <td>NaN</td>\n",
       "      <td>NaN</td>\n",
       "      <td>NaN</td>\n",
       "      <td>NaN</td>\n",
       "      <td>NaN</td>\n",
       "      <td>NaN</td>\n",
       "      <td>NaN</td>\n",
       "      <td>NaN</td>\n",
       "    </tr>\n",
       "    <tr>\n",
       "      <th>4204</th>\n",
       "      <td>NaN</td>\n",
       "      <td>NaN</td>\n",
       "      <td>NaN</td>\n",
       "      <td>NaN</td>\n",
       "      <td>NaN</td>\n",
       "      <td>NaN</td>\n",
       "      <td>NaN</td>\n",
       "      <td>NaN</td>\n",
       "      <td>NaN</td>\n",
       "      <td>NaN</td>\n",
       "      <td>NaN</td>\n",
       "      <td>NaN</td>\n",
       "      <td>NaN</td>\n",
       "      <td>NaN</td>\n",
       "      <td>NaN</td>\n",
       "      <td>NaN</td>\n",
       "    </tr>\n",
       "    <tr>\n",
       "      <th>4205</th>\n",
       "      <td>NaN</td>\n",
       "      <td>NaN</td>\n",
       "      <td>NaN</td>\n",
       "      <td>NaN</td>\n",
       "      <td>NaN</td>\n",
       "      <td>NaN</td>\n",
       "      <td>NaN</td>\n",
       "      <td>NaN</td>\n",
       "      <td>NaN</td>\n",
       "      <td>NaN</td>\n",
       "      <td>NaN</td>\n",
       "      <td>NaN</td>\n",
       "      <td>NaN</td>\n",
       "      <td>NaN</td>\n",
       "      <td>NaN</td>\n",
       "      <td>NaN</td>\n",
       "    </tr>\n",
       "    <tr>\n",
       "      <th>4206</th>\n",
       "      <td>NaN</td>\n",
       "      <td>NaN</td>\n",
       "      <td>NaN</td>\n",
       "      <td>NaN</td>\n",
       "      <td>NaN</td>\n",
       "      <td>NaN</td>\n",
       "      <td>NaN</td>\n",
       "      <td>NaN</td>\n",
       "      <td>NaN</td>\n",
       "      <td>NaN</td>\n",
       "      <td>NaN</td>\n",
       "      <td>NaN</td>\n",
       "      <td>NaN</td>\n",
       "      <td>NaN</td>\n",
       "      <td>NaN</td>\n",
       "      <td>NaN</td>\n",
       "    </tr>\n",
       "    <tr>\n",
       "      <th>4207</th>\n",
       "      <td>NaN</td>\n",
       "      <td>NaN</td>\n",
       "      <td>NaN</td>\n",
       "      <td>NaN</td>\n",
       "      <td>NaN</td>\n",
       "      <td>NaN</td>\n",
       "      <td>NaN</td>\n",
       "      <td>NaN</td>\n",
       "      <td>NaN</td>\n",
       "      <td>NaN</td>\n",
       "      <td>NaN</td>\n",
       "      <td>NaN</td>\n",
       "      <td>NaN</td>\n",
       "      <td>NaN</td>\n",
       "      <td>NaN</td>\n",
       "      <td>NaN</td>\n",
       "    </tr>\n",
       "    <tr>\n",
       "      <th>4208</th>\n",
       "      <td>NaN</td>\n",
       "      <td>NaN</td>\n",
       "      <td>NaN</td>\n",
       "      <td>NaN</td>\n",
       "      <td>NaN</td>\n",
       "      <td>NaN</td>\n",
       "      <td>NaN</td>\n",
       "      <td>NaN</td>\n",
       "      <td>NaN</td>\n",
       "      <td>NaN</td>\n",
       "      <td>NaN</td>\n",
       "      <td>NaN</td>\n",
       "      <td>NaN</td>\n",
       "      <td>NaN</td>\n",
       "      <td>NaN</td>\n",
       "      <td>NaN</td>\n",
       "    </tr>\n",
       "    <tr>\n",
       "      <th>4209</th>\n",
       "      <td>NaN</td>\n",
       "      <td>NaN</td>\n",
       "      <td>NaN</td>\n",
       "      <td>NaN</td>\n",
       "      <td>NaN</td>\n",
       "      <td>NaN</td>\n",
       "      <td>NaN</td>\n",
       "      <td>NaN</td>\n",
       "      <td>NaN</td>\n",
       "      <td>NaN</td>\n",
       "      <td>NaN</td>\n",
       "      <td>NaN</td>\n",
       "      <td>NaN</td>\n",
       "      <td>NaN</td>\n",
       "      <td>NaN</td>\n",
       "      <td>NaN</td>\n",
       "    </tr>\n",
       "    <tr>\n",
       "      <th>4210</th>\n",
       "      <td>NaN</td>\n",
       "      <td>NaN</td>\n",
       "      <td>NaN</td>\n",
       "      <td>NaN</td>\n",
       "      <td>NaN</td>\n",
       "      <td>NaN</td>\n",
       "      <td>NaN</td>\n",
       "      <td>NaN</td>\n",
       "      <td>NaN</td>\n",
       "      <td>NaN</td>\n",
       "      <td>NaN</td>\n",
       "      <td>NaN</td>\n",
       "      <td>NaN</td>\n",
       "      <td>NaN</td>\n",
       "      <td>NaN</td>\n",
       "      <td>NaN</td>\n",
       "    </tr>\n",
       "    <tr>\n",
       "      <th>4211</th>\n",
       "      <td>NaN</td>\n",
       "      <td>NaN</td>\n",
       "      <td>NaN</td>\n",
       "      <td>NaN</td>\n",
       "      <td>NaN</td>\n",
       "      <td>NaN</td>\n",
       "      <td>NaN</td>\n",
       "      <td>NaN</td>\n",
       "      <td>NaN</td>\n",
       "      <td>NaN</td>\n",
       "      <td>NaN</td>\n",
       "      <td>NaN</td>\n",
       "      <td>NaN</td>\n",
       "      <td>NaN</td>\n",
       "      <td>NaN</td>\n",
       "      <td>NaN</td>\n",
       "    </tr>\n",
       "    <tr>\n",
       "      <th>4212</th>\n",
       "      <td>NaN</td>\n",
       "      <td>NaN</td>\n",
       "      <td>NaN</td>\n",
       "      <td>NaN</td>\n",
       "      <td>NaN</td>\n",
       "      <td>NaN</td>\n",
       "      <td>NaN</td>\n",
       "      <td>NaN</td>\n",
       "      <td>NaN</td>\n",
       "      <td>NaN</td>\n",
       "      <td>NaN</td>\n",
       "      <td>NaN</td>\n",
       "      <td>NaN</td>\n",
       "      <td>NaN</td>\n",
       "      <td>NaN</td>\n",
       "      <td>NaN</td>\n",
       "    </tr>\n",
       "    <tr>\n",
       "      <th>4213</th>\n",
       "      <td>NaN</td>\n",
       "      <td>NaN</td>\n",
       "      <td>NaN</td>\n",
       "      <td>NaN</td>\n",
       "      <td>NaN</td>\n",
       "      <td>NaN</td>\n",
       "      <td>NaN</td>\n",
       "      <td>NaN</td>\n",
       "      <td>NaN</td>\n",
       "      <td>NaN</td>\n",
       "      <td>NaN</td>\n",
       "      <td>NaN</td>\n",
       "      <td>NaN</td>\n",
       "      <td>NaN</td>\n",
       "      <td>NaN</td>\n",
       "      <td>NaN</td>\n",
       "    </tr>\n",
       "    <tr>\n",
       "      <th>4214</th>\n",
       "      <td>NaN</td>\n",
       "      <td>NaN</td>\n",
       "      <td>NaN</td>\n",
       "      <td>NaN</td>\n",
       "      <td>NaN</td>\n",
       "      <td>NaN</td>\n",
       "      <td>NaN</td>\n",
       "      <td>NaN</td>\n",
       "      <td>NaN</td>\n",
       "      <td>NaN</td>\n",
       "      <td>NaN</td>\n",
       "      <td>NaN</td>\n",
       "      <td>NaN</td>\n",
       "      <td>NaN</td>\n",
       "      <td>NaN</td>\n",
       "      <td>NaN</td>\n",
       "    </tr>\n",
       "    <tr>\n",
       "      <th>4215</th>\n",
       "      <td>NaN</td>\n",
       "      <td>NaN</td>\n",
       "      <td>NaN</td>\n",
       "      <td>NaN</td>\n",
       "      <td>NaN</td>\n",
       "      <td>NaN</td>\n",
       "      <td>NaN</td>\n",
       "      <td>NaN</td>\n",
       "      <td>NaN</td>\n",
       "      <td>NaN</td>\n",
       "      <td>NaN</td>\n",
       "      <td>NaN</td>\n",
       "      <td>NaN</td>\n",
       "      <td>NaN</td>\n",
       "      <td>NaN</td>\n",
       "      <td>NaN</td>\n",
       "    </tr>\n",
       "    <tr>\n",
       "      <th>4216</th>\n",
       "      <td>NaN</td>\n",
       "      <td>NaN</td>\n",
       "      <td>NaN</td>\n",
       "      <td>NaN</td>\n",
       "      <td>NaN</td>\n",
       "      <td>NaN</td>\n",
       "      <td>NaN</td>\n",
       "      <td>NaN</td>\n",
       "      <td>NaN</td>\n",
       "      <td>NaN</td>\n",
       "      <td>NaN</td>\n",
       "      <td>NaN</td>\n",
       "      <td>NaN</td>\n",
       "      <td>NaN</td>\n",
       "      <td>NaN</td>\n",
       "      <td>NaN</td>\n",
       "    </tr>\n",
       "    <tr>\n",
       "      <th>4217</th>\n",
       "      <td>NaN</td>\n",
       "      <td>NaN</td>\n",
       "      <td>NaN</td>\n",
       "      <td>NaN</td>\n",
       "      <td>NaN</td>\n",
       "      <td>NaN</td>\n",
       "      <td>NaN</td>\n",
       "      <td>NaN</td>\n",
       "      <td>NaN</td>\n",
       "      <td>NaN</td>\n",
       "      <td>NaN</td>\n",
       "      <td>NaN</td>\n",
       "      <td>NaN</td>\n",
       "      <td>NaN</td>\n",
       "      <td>NaN</td>\n",
       "      <td>NaN</td>\n",
       "    </tr>\n",
       "  </tbody>\n",
       "</table>\n",
       "</div>"
      ],
      "text/plain": [
       "     regiao estado municipio  coduf  codmun  codRegiaoSaude nomeRegiaoSaude  \\\n",
       "4180    NaN    NaN       NaN    NaN     NaN             NaN             NaN   \n",
       "4181    NaN    NaN       NaN    NaN     NaN             NaN             NaN   \n",
       "4182    NaN    NaN       NaN    NaN     NaN             NaN             NaN   \n",
       "4183    NaN    NaN       NaN    NaN     NaN             NaN             NaN   \n",
       "4184    NaN    NaN       NaN    NaN     NaN             NaN             NaN   \n",
       "4185    NaN    NaN       NaN    NaN     NaN             NaN             NaN   \n",
       "4186    NaN    NaN       NaN    NaN     NaN             NaN             NaN   \n",
       "4187    NaN    NaN       NaN    NaN     NaN             NaN             NaN   \n",
       "4188    NaN    NaN       NaN    NaN     NaN             NaN             NaN   \n",
       "4189    NaN    NaN       NaN    NaN     NaN             NaN             NaN   \n",
       "4190    NaN    NaN       NaN    NaN     NaN             NaN             NaN   \n",
       "4191    NaN    NaN       NaN    NaN     NaN             NaN             NaN   \n",
       "4192    NaN    NaN       NaN    NaN     NaN             NaN             NaN   \n",
       "4193    NaN    NaN       NaN    NaN     NaN             NaN             NaN   \n",
       "4194    NaN    NaN       NaN    NaN     NaN             NaN             NaN   \n",
       "4195    NaN    NaN       NaN    NaN     NaN             NaN             NaN   \n",
       "4196    NaN    NaN       NaN    NaN     NaN             NaN             NaN   \n",
       "4197    NaN    NaN       NaN    NaN     NaN             NaN             NaN   \n",
       "4198    NaN    NaN       NaN    NaN     NaN             NaN             NaN   \n",
       "4199    NaN    NaN       NaN    NaN     NaN             NaN             NaN   \n",
       "4200    NaN    NaN       NaN    NaN     NaN             NaN             NaN   \n",
       "4201    NaN    NaN       NaN    NaN     NaN             NaN             NaN   \n",
       "4202    NaN    NaN       NaN    NaN     NaN             NaN             NaN   \n",
       "4203    NaN    NaN       NaN    NaN     NaN             NaN             NaN   \n",
       "4204    NaN    NaN       NaN    NaN     NaN             NaN             NaN   \n",
       "4205    NaN    NaN       NaN    NaN     NaN             NaN             NaN   \n",
       "4206    NaN    NaN       NaN    NaN     NaN             NaN             NaN   \n",
       "4207    NaN    NaN       NaN    NaN     NaN             NaN             NaN   \n",
       "4208    NaN    NaN       NaN    NaN     NaN             NaN             NaN   \n",
       "4209    NaN    NaN       NaN    NaN     NaN             NaN             NaN   \n",
       "4210    NaN    NaN       NaN    NaN     NaN             NaN             NaN   \n",
       "4211    NaN    NaN       NaN    NaN     NaN             NaN             NaN   \n",
       "4212    NaN    NaN       NaN    NaN     NaN             NaN             NaN   \n",
       "4213    NaN    NaN       NaN    NaN     NaN             NaN             NaN   \n",
       "4214    NaN    NaN       NaN    NaN     NaN             NaN             NaN   \n",
       "4215    NaN    NaN       NaN    NaN     NaN             NaN             NaN   \n",
       "4216    NaN    NaN       NaN    NaN     NaN             NaN             NaN   \n",
       "4217    NaN    NaN       NaN    NaN     NaN             NaN             NaN   \n",
       "\n",
       "     data  semanaEpi  populacaoTCU2019  casosAcumulado  casosNovos  \\\n",
       "4180  NaN        NaN               NaN             NaN         NaN   \n",
       "4181  NaN        NaN               NaN             NaN         NaN   \n",
       "4182  NaN        NaN               NaN             NaN         NaN   \n",
       "4183  NaN        NaN               NaN             NaN         NaN   \n",
       "4184  NaN        NaN               NaN             NaN         NaN   \n",
       "4185  NaN        NaN               NaN             NaN         NaN   \n",
       "4186  NaN        NaN               NaN             NaN         NaN   \n",
       "4187  NaN        NaN               NaN             NaN         NaN   \n",
       "4188  NaN        NaN               NaN             NaN         NaN   \n",
       "4189  NaN        NaN               NaN             NaN         NaN   \n",
       "4190  NaN        NaN               NaN             NaN         NaN   \n",
       "4191  NaN        NaN               NaN             NaN         NaN   \n",
       "4192  NaN        NaN               NaN             NaN         NaN   \n",
       "4193  NaN        NaN               NaN             NaN         NaN   \n",
       "4194  NaN        NaN               NaN             NaN         NaN   \n",
       "4195  NaN        NaN               NaN             NaN         NaN   \n",
       "4196  NaN        NaN               NaN             NaN         NaN   \n",
       "4197  NaN        NaN               NaN             NaN         NaN   \n",
       "4198  NaN        NaN               NaN             NaN         NaN   \n",
       "4199  NaN        NaN               NaN             NaN         NaN   \n",
       "4200  NaN        NaN               NaN             NaN         NaN   \n",
       "4201  NaN        NaN               NaN             NaN         NaN   \n",
       "4202  NaN        NaN               NaN             NaN         NaN   \n",
       "4203  NaN        NaN               NaN             NaN         NaN   \n",
       "4204  NaN        NaN               NaN             NaN         NaN   \n",
       "4205  NaN        NaN               NaN             NaN         NaN   \n",
       "4206  NaN        NaN               NaN             NaN         NaN   \n",
       "4207  NaN        NaN               NaN             NaN         NaN   \n",
       "4208  NaN        NaN               NaN             NaN         NaN   \n",
       "4209  NaN        NaN               NaN             NaN         NaN   \n",
       "4210  NaN        NaN               NaN             NaN         NaN   \n",
       "4211  NaN        NaN               NaN             NaN         NaN   \n",
       "4212  NaN        NaN               NaN             NaN         NaN   \n",
       "4213  NaN        NaN               NaN             NaN         NaN   \n",
       "4214  NaN        NaN               NaN             NaN         NaN   \n",
       "4215  NaN        NaN               NaN             NaN         NaN   \n",
       "4216  NaN        NaN               NaN             NaN         NaN   \n",
       "4217  NaN        NaN               NaN             NaN         NaN   \n",
       "\n",
       "      obitosAcumulado  obitosNovos  Recuperadosnovos  emAcompanhamentoNovos  \n",
       "4180              NaN          NaN               NaN                    NaN  \n",
       "4181              NaN          NaN               NaN                    NaN  \n",
       "4182              NaN          NaN               NaN                    NaN  \n",
       "4183              NaN          NaN               NaN                    NaN  \n",
       "4184              NaN          NaN               NaN                    NaN  \n",
       "4185              NaN          NaN               NaN                    NaN  \n",
       "4186              NaN          NaN               NaN                    NaN  \n",
       "4187              NaN          NaN               NaN                    NaN  \n",
       "4188              NaN          NaN               NaN                    NaN  \n",
       "4189              NaN          NaN               NaN                    NaN  \n",
       "4190              NaN          NaN               NaN                    NaN  \n",
       "4191              NaN          NaN               NaN                    NaN  \n",
       "4192              NaN          NaN               NaN                    NaN  \n",
       "4193              NaN          NaN               NaN                    NaN  \n",
       "4194              NaN          NaN               NaN                    NaN  \n",
       "4195              NaN          NaN               NaN                    NaN  \n",
       "4196              NaN          NaN               NaN                    NaN  \n",
       "4197              NaN          NaN               NaN                    NaN  \n",
       "4198              NaN          NaN               NaN                    NaN  \n",
       "4199              NaN          NaN               NaN                    NaN  \n",
       "4200              NaN          NaN               NaN                    NaN  \n",
       "4201              NaN          NaN               NaN                    NaN  \n",
       "4202              NaN          NaN               NaN                    NaN  \n",
       "4203              NaN          NaN               NaN                    NaN  \n",
       "4204              NaN          NaN               NaN                    NaN  \n",
       "4205              NaN          NaN               NaN                    NaN  \n",
       "4206              NaN          NaN               NaN                    NaN  \n",
       "4207              NaN          NaN               NaN                    NaN  \n",
       "4208              NaN          NaN               NaN                    NaN  \n",
       "4209              NaN          NaN               NaN                    NaN  \n",
       "4210              NaN          NaN               NaN                    NaN  \n",
       "4211              NaN          NaN               NaN                    NaN  \n",
       "4212              NaN          NaN               NaN                    NaN  \n",
       "4213              NaN          NaN               NaN                    NaN  \n",
       "4214              NaN          NaN               NaN                    NaN  \n",
       "4215              NaN          NaN               NaN                    NaN  \n",
       "4216              NaN          NaN               NaN                    NaN  \n",
       "4217              NaN          NaN               NaN                    NaN  "
      ]
     },
     "execution_count": 49,
     "metadata": {},
     "output_type": "execute_result"
    }
   ],
   "source": [
    "### Which datetype data is null?\n",
    "covidData[covidData.data.isnull()]"
   ]
  },
  {
   "cell_type": "code",
   "execution_count": 50,
   "metadata": {},
   "outputs": [
    {
     "data": {
      "text/html": [
       "<div>\n",
       "<style scoped>\n",
       "    .dataframe tbody tr th:only-of-type {\n",
       "        vertical-align: middle;\n",
       "    }\n",
       "\n",
       "    .dataframe tbody tr th {\n",
       "        vertical-align: top;\n",
       "    }\n",
       "\n",
       "    .dataframe thead th {\n",
       "        text-align: right;\n",
       "    }\n",
       "</style>\n",
       "<table border=\"1\" class=\"dataframe\">\n",
       "  <thead>\n",
       "    <tr style=\"text-align: right;\">\n",
       "      <th></th>\n",
       "      <th>regiao</th>\n",
       "      <th>estado</th>\n",
       "      <th>municipio</th>\n",
       "      <th>coduf</th>\n",
       "      <th>codmun</th>\n",
       "      <th>codRegiaoSaude</th>\n",
       "      <th>nomeRegiaoSaude</th>\n",
       "      <th>data</th>\n",
       "      <th>semanaEpi</th>\n",
       "      <th>populacaoTCU2019</th>\n",
       "      <th>casosAcumulado</th>\n",
       "      <th>casosNovos</th>\n",
       "      <th>obitosAcumulado</th>\n",
       "      <th>obitosNovos</th>\n",
       "      <th>Recuperadosnovos</th>\n",
       "      <th>emAcompanhamentoNovos</th>\n",
       "    </tr>\n",
       "  </thead>\n",
       "  <tbody>\n",
       "    <tr>\n",
       "      <th>4176</th>\n",
       "      <td>Centro-Oeste</td>\n",
       "      <td>GO</td>\n",
       "      <td>Urutaí</td>\n",
       "      <td>52.0</td>\n",
       "      <td>522180.0</td>\n",
       "      <td>52005.0</td>\n",
       "      <td>Estrada de Ferro</td>\n",
       "      <td>2020-05-30</td>\n",
       "      <td>23.0</td>\n",
       "      <td>3072.0</td>\n",
       "      <td>2.0</td>\n",
       "      <td>0.0</td>\n",
       "      <td>0.0</td>\n",
       "      <td>0.0</td>\n",
       "      <td>NaN</td>\n",
       "      <td>NaN</td>\n",
       "    </tr>\n",
       "    <tr>\n",
       "      <th>4177</th>\n",
       "      <td>Centro-Oeste</td>\n",
       "      <td>GO</td>\n",
       "      <td>Valparaíso de Goiás</td>\n",
       "      <td>52.0</td>\n",
       "      <td>522185.0</td>\n",
       "      <td>52004.0</td>\n",
       "      <td>Entorno Sul</td>\n",
       "      <td>2020-05-30</td>\n",
       "      <td>23.0</td>\n",
       "      <td>168468.0</td>\n",
       "      <td>118.0</td>\n",
       "      <td>0.0</td>\n",
       "      <td>2.0</td>\n",
       "      <td>0.0</td>\n",
       "      <td>NaN</td>\n",
       "      <td>NaN</td>\n",
       "    </tr>\n",
       "    <tr>\n",
       "      <th>4178</th>\n",
       "      <td>Centro-Oeste</td>\n",
       "      <td>GO</td>\n",
       "      <td>Vianópolis</td>\n",
       "      <td>52.0</td>\n",
       "      <td>522200.0</td>\n",
       "      <td>52002.0</td>\n",
       "      <td>Centro Sul</td>\n",
       "      <td>2020-05-30</td>\n",
       "      <td>23.0</td>\n",
       "      <td>13863.0</td>\n",
       "      <td>1.0</td>\n",
       "      <td>0.0</td>\n",
       "      <td>0.0</td>\n",
       "      <td>0.0</td>\n",
       "      <td>NaN</td>\n",
       "      <td>NaN</td>\n",
       "    </tr>\n",
       "    <tr>\n",
       "      <th>4179</th>\n",
       "      <td>Centro-Oeste</td>\n",
       "      <td>DF</td>\n",
       "      <td>Brasília</td>\n",
       "      <td>53.0</td>\n",
       "      <td>530010.0</td>\n",
       "      <td>53001.0</td>\n",
       "      <td>Brasília</td>\n",
       "      <td>2020-05-30</td>\n",
       "      <td>23.0</td>\n",
       "      <td>3015268.0</td>\n",
       "      <td>9474.0</td>\n",
       "      <td>0.0</td>\n",
       "      <td>162.0</td>\n",
       "      <td>0.0</td>\n",
       "      <td>NaN</td>\n",
       "      <td>NaN</td>\n",
       "    </tr>\n",
       "    <tr>\n",
       "      <th>4180</th>\n",
       "      <td>NaN</td>\n",
       "      <td>NaN</td>\n",
       "      <td>NaN</td>\n",
       "      <td>NaN</td>\n",
       "      <td>NaN</td>\n",
       "      <td>NaN</td>\n",
       "      <td>NaN</td>\n",
       "      <td>NaN</td>\n",
       "      <td>NaN</td>\n",
       "      <td>NaN</td>\n",
       "      <td>NaN</td>\n",
       "      <td>NaN</td>\n",
       "      <td>NaN</td>\n",
       "      <td>NaN</td>\n",
       "      <td>NaN</td>\n",
       "      <td>NaN</td>\n",
       "    </tr>\n",
       "    <tr>\n",
       "      <th>4181</th>\n",
       "      <td>NaN</td>\n",
       "      <td>NaN</td>\n",
       "      <td>NaN</td>\n",
       "      <td>NaN</td>\n",
       "      <td>NaN</td>\n",
       "      <td>NaN</td>\n",
       "      <td>NaN</td>\n",
       "      <td>NaN</td>\n",
       "      <td>NaN</td>\n",
       "      <td>NaN</td>\n",
       "      <td>NaN</td>\n",
       "      <td>NaN</td>\n",
       "      <td>NaN</td>\n",
       "      <td>NaN</td>\n",
       "      <td>NaN</td>\n",
       "      <td>NaN</td>\n",
       "    </tr>\n",
       "    <tr>\n",
       "      <th>4182</th>\n",
       "      <td>NaN</td>\n",
       "      <td>NaN</td>\n",
       "      <td>NaN</td>\n",
       "      <td>NaN</td>\n",
       "      <td>NaN</td>\n",
       "      <td>NaN</td>\n",
       "      <td>NaN</td>\n",
       "      <td>NaN</td>\n",
       "      <td>NaN</td>\n",
       "      <td>NaN</td>\n",
       "      <td>NaN</td>\n",
       "      <td>NaN</td>\n",
       "      <td>NaN</td>\n",
       "      <td>NaN</td>\n",
       "      <td>NaN</td>\n",
       "      <td>NaN</td>\n",
       "    </tr>\n",
       "  </tbody>\n",
       "</table>\n",
       "</div>"
      ],
      "text/plain": [
       "            regiao estado            municipio  coduf    codmun  \\\n",
       "4176  Centro-Oeste     GO               Urutaí   52.0  522180.0   \n",
       "4177  Centro-Oeste     GO  Valparaíso de Goiás   52.0  522185.0   \n",
       "4178  Centro-Oeste     GO           Vianópolis   52.0  522200.0   \n",
       "4179  Centro-Oeste     DF             Brasília   53.0  530010.0   \n",
       "4180           NaN    NaN                  NaN    NaN       NaN   \n",
       "4181           NaN    NaN                  NaN    NaN       NaN   \n",
       "4182           NaN    NaN                  NaN    NaN       NaN   \n",
       "\n",
       "      codRegiaoSaude   nomeRegiaoSaude        data  semanaEpi  \\\n",
       "4176         52005.0  Estrada de Ferro  2020-05-30       23.0   \n",
       "4177         52004.0       Entorno Sul  2020-05-30       23.0   \n",
       "4178         52002.0        Centro Sul  2020-05-30       23.0   \n",
       "4179         53001.0          Brasília  2020-05-30       23.0   \n",
       "4180             NaN               NaN         NaN        NaN   \n",
       "4181             NaN               NaN         NaN        NaN   \n",
       "4182             NaN               NaN         NaN        NaN   \n",
       "\n",
       "      populacaoTCU2019  casosAcumulado  casosNovos  obitosAcumulado  \\\n",
       "4176            3072.0             2.0         0.0              0.0   \n",
       "4177          168468.0           118.0         0.0              2.0   \n",
       "4178           13863.0             1.0         0.0              0.0   \n",
       "4179         3015268.0          9474.0         0.0            162.0   \n",
       "4180               NaN             NaN         NaN              NaN   \n",
       "4181               NaN             NaN         NaN              NaN   \n",
       "4182               NaN             NaN         NaN              NaN   \n",
       "\n",
       "      obitosNovos  Recuperadosnovos  emAcompanhamentoNovos  \n",
       "4176          0.0               NaN                    NaN  \n",
       "4177          0.0               NaN                    NaN  \n",
       "4178          0.0               NaN                    NaN  \n",
       "4179          0.0               NaN                    NaN  \n",
       "4180          NaN               NaN                    NaN  \n",
       "4181          NaN               NaN                    NaN  \n",
       "4182          NaN               NaN                    NaN  "
      ]
     },
     "execution_count": 50,
     "metadata": {},
     "output_type": "execute_result"
    }
   ],
   "source": [
    "covidData.loc[4176:4182]"
   ]
  },
  {
   "cell_type": "markdown",
   "metadata": {},
   "source": [
    "#### Dropping the NaN values:"
   ]
  },
  {
   "cell_type": "code",
   "execution_count": 129,
   "metadata": {},
   "outputs": [],
   "source": [
    "covidData2 = covidData.copy()"
   ]
  },
  {
   "cell_type": "code",
   "execution_count": 130,
   "metadata": {},
   "outputs": [],
   "source": [
    "covidData2.dropna(axis=0, subset=['data'], inplace=True)"
   ]
  },
  {
   "cell_type": "code",
   "execution_count": 131,
   "metadata": {},
   "outputs": [],
   "source": [
    "covidData2.reset_index(drop=True, inplace=True)"
   ]
  },
  {
   "cell_type": "code",
   "execution_count": 132,
   "metadata": {},
   "outputs": [
    {
     "name": "stdout",
     "output_type": "stream",
     "text": [
      "<class 'pandas.core.frame.DataFrame'>\n",
      "RangeIndex: 138733 entries, 0 to 138732\n",
      "Data columns (total 16 columns):\n",
      " #   Column                 Non-Null Count   Dtype  \n",
      "---  ------                 --------------   -----  \n",
      " 0   regiao                 138733 non-null  object \n",
      " 1   estado                 138636 non-null  object \n",
      " 2   municipio              135796 non-null  object \n",
      " 3   coduf                  138733 non-null  float64\n",
      " 4   codmun                 136470 non-null  float64\n",
      " 5   codRegiaoSaude         135796 non-null  float64\n",
      " 6   nomeRegiaoSaude        135796 non-null  object \n",
      " 7   data                   138733 non-null  object \n",
      " 8   semanaEpi              138733 non-null  float64\n",
      " 9   populacaoTCU2019       138059 non-null  float64\n",
      " 10  casosAcumulado         138733 non-null  float64\n",
      " 11  casosNovos             138733 non-null  float64\n",
      " 12  obitosAcumulado        138733 non-null  float64\n",
      " 13  obitosNovos            138733 non-null  float64\n",
      " 14  Recuperadosnovos       44 non-null      float64\n",
      " 15  emAcompanhamentoNovos  44 non-null      float64\n",
      "dtypes: float64(11), object(5)\n",
      "memory usage: 16.9+ MB\n"
     ]
    }
   ],
   "source": [
    "covidData2.info()"
   ]
  },
  {
   "cell_type": "markdown",
   "metadata": {},
   "source": [
    "--------------------------"
   ]
  },
  {
   "cell_type": "markdown",
   "metadata": {},
   "source": [
    "#### Setting the datetime64 type to the \"Date\" column (it's called \"data\" in Portuguese):"
   ]
  },
  {
   "cell_type": "code",
   "execution_count": 133,
   "metadata": {},
   "outputs": [
    {
     "data": {
      "text/plain": [
       "pandas.core.series.Series"
      ]
     },
     "execution_count": 133,
     "metadata": {},
     "output_type": "execute_result"
    }
   ],
   "source": [
    "type(covidData2.data)"
   ]
  },
  {
   "cell_type": "code",
   "execution_count": 134,
   "metadata": {},
   "outputs": [
    {
     "data": {
      "text/plain": [
       "str"
      ]
     },
     "execution_count": 134,
     "metadata": {},
     "output_type": "execute_result"
    }
   ],
   "source": [
    "type(covidData2.data[2])"
   ]
  },
  {
   "cell_type": "code",
   "execution_count": 135,
   "metadata": {},
   "outputs": [],
   "source": [
    "covidData2.data = covidData2.data.astype('datetime64')"
   ]
  },
  {
   "cell_type": "markdown",
   "metadata": {},
   "source": [
    "-----------------"
   ]
  },
  {
   "cell_type": "markdown",
   "metadata": {},
   "source": [
    "## Visualizing some data:"
   ]
  },
  {
   "cell_type": "code",
   "execution_count": 136,
   "metadata": {
    "scrolled": false
   },
   "outputs": [
    {
     "data": {
      "text/html": [
       "<div>\n",
       "<style scoped>\n",
       "    .dataframe tbody tr th:only-of-type {\n",
       "        vertical-align: middle;\n",
       "    }\n",
       "\n",
       "    .dataframe tbody tr th {\n",
       "        vertical-align: top;\n",
       "    }\n",
       "\n",
       "    .dataframe thead th {\n",
       "        text-align: right;\n",
       "    }\n",
       "</style>\n",
       "<table border=\"1\" class=\"dataframe\">\n",
       "  <thead>\n",
       "    <tr style=\"text-align: right;\">\n",
       "      <th></th>\n",
       "      <th>regiao</th>\n",
       "      <th>estado</th>\n",
       "      <th>municipio</th>\n",
       "      <th>coduf</th>\n",
       "      <th>codmun</th>\n",
       "      <th>codRegiaoSaude</th>\n",
       "      <th>nomeRegiaoSaude</th>\n",
       "      <th>data</th>\n",
       "      <th>semanaEpi</th>\n",
       "      <th>populacaoTCU2019</th>\n",
       "      <th>casosAcumulado</th>\n",
       "      <th>casosNovos</th>\n",
       "      <th>obitosAcumulado</th>\n",
       "      <th>obitosNovos</th>\n",
       "      <th>Recuperadosnovos</th>\n",
       "      <th>emAcompanhamentoNovos</th>\n",
       "    </tr>\n",
       "  </thead>\n",
       "  <tbody>\n",
       "    <tr>\n",
       "      <th>0</th>\n",
       "      <td>Brasil</td>\n",
       "      <td>NaN</td>\n",
       "      <td>NaN</td>\n",
       "      <td>76.0</td>\n",
       "      <td>NaN</td>\n",
       "      <td>NaN</td>\n",
       "      <td>NaN</td>\n",
       "      <td>2020-02-26</td>\n",
       "      <td>9.0</td>\n",
       "      <td>210147125.0</td>\n",
       "      <td>1.0</td>\n",
       "      <td>0.0</td>\n",
       "      <td>0.0</td>\n",
       "      <td>0.0</td>\n",
       "      <td>NaN</td>\n",
       "      <td>NaN</td>\n",
       "    </tr>\n",
       "    <tr>\n",
       "      <th>1</th>\n",
       "      <td>Brasil</td>\n",
       "      <td>NaN</td>\n",
       "      <td>NaN</td>\n",
       "      <td>76.0</td>\n",
       "      <td>NaN</td>\n",
       "      <td>NaN</td>\n",
       "      <td>NaN</td>\n",
       "      <td>2020-02-27</td>\n",
       "      <td>9.0</td>\n",
       "      <td>210147125.0</td>\n",
       "      <td>1.0</td>\n",
       "      <td>0.0</td>\n",
       "      <td>0.0</td>\n",
       "      <td>0.0</td>\n",
       "      <td>NaN</td>\n",
       "      <td>NaN</td>\n",
       "    </tr>\n",
       "    <tr>\n",
       "      <th>2</th>\n",
       "      <td>Brasil</td>\n",
       "      <td>NaN</td>\n",
       "      <td>NaN</td>\n",
       "      <td>76.0</td>\n",
       "      <td>NaN</td>\n",
       "      <td>NaN</td>\n",
       "      <td>NaN</td>\n",
       "      <td>2020-02-28</td>\n",
       "      <td>9.0</td>\n",
       "      <td>210147125.0</td>\n",
       "      <td>1.0</td>\n",
       "      <td>0.0</td>\n",
       "      <td>0.0</td>\n",
       "      <td>0.0</td>\n",
       "      <td>NaN</td>\n",
       "      <td>NaN</td>\n",
       "    </tr>\n",
       "    <tr>\n",
       "      <th>3</th>\n",
       "      <td>Brasil</td>\n",
       "      <td>NaN</td>\n",
       "      <td>NaN</td>\n",
       "      <td>76.0</td>\n",
       "      <td>NaN</td>\n",
       "      <td>NaN</td>\n",
       "      <td>NaN</td>\n",
       "      <td>2020-02-29</td>\n",
       "      <td>9.0</td>\n",
       "      <td>210147125.0</td>\n",
       "      <td>2.0</td>\n",
       "      <td>1.0</td>\n",
       "      <td>0.0</td>\n",
       "      <td>0.0</td>\n",
       "      <td>NaN</td>\n",
       "      <td>NaN</td>\n",
       "    </tr>\n",
       "    <tr>\n",
       "      <th>4</th>\n",
       "      <td>Brasil</td>\n",
       "      <td>NaN</td>\n",
       "      <td>NaN</td>\n",
       "      <td>76.0</td>\n",
       "      <td>NaN</td>\n",
       "      <td>NaN</td>\n",
       "      <td>NaN</td>\n",
       "      <td>2020-03-01</td>\n",
       "      <td>10.0</td>\n",
       "      <td>210147125.0</td>\n",
       "      <td>2.0</td>\n",
       "      <td>0.0</td>\n",
       "      <td>0.0</td>\n",
       "      <td>0.0</td>\n",
       "      <td>NaN</td>\n",
       "      <td>NaN</td>\n",
       "    </tr>\n",
       "    <tr>\n",
       "      <th>...</th>\n",
       "      <td>...</td>\n",
       "      <td>...</td>\n",
       "      <td>...</td>\n",
       "      <td>...</td>\n",
       "      <td>...</td>\n",
       "      <td>...</td>\n",
       "      <td>...</td>\n",
       "      <td>...</td>\n",
       "      <td>...</td>\n",
       "      <td>...</td>\n",
       "      <td>...</td>\n",
       "      <td>...</td>\n",
       "      <td>...</td>\n",
       "      <td>...</td>\n",
       "      <td>...</td>\n",
       "      <td>...</td>\n",
       "    </tr>\n",
       "    <tr>\n",
       "      <th>138728</th>\n",
       "      <td>Sul</td>\n",
       "      <td>RS</td>\n",
       "      <td>NaN</td>\n",
       "      <td>43.0</td>\n",
       "      <td>NaN</td>\n",
       "      <td>NaN</td>\n",
       "      <td>NaN</td>\n",
       "      <td>2020-05-30</td>\n",
       "      <td>22.0</td>\n",
       "      <td>11377239.0</td>\n",
       "      <td>9242.0</td>\n",
       "      <td>1008.0</td>\n",
       "      <td>218.0</td>\n",
       "      <td>5.0</td>\n",
       "      <td>NaN</td>\n",
       "      <td>NaN</td>\n",
       "    </tr>\n",
       "    <tr>\n",
       "      <th>138729</th>\n",
       "      <td>Centro-Oeste</td>\n",
       "      <td>MS</td>\n",
       "      <td>NaN</td>\n",
       "      <td>50.0</td>\n",
       "      <td>NaN</td>\n",
       "      <td>NaN</td>\n",
       "      <td>NaN</td>\n",
       "      <td>2020-05-30</td>\n",
       "      <td>22.0</td>\n",
       "      <td>2778986.0</td>\n",
       "      <td>1418.0</td>\n",
       "      <td>62.0</td>\n",
       "      <td>19.0</td>\n",
       "      <td>1.0</td>\n",
       "      <td>NaN</td>\n",
       "      <td>NaN</td>\n",
       "    </tr>\n",
       "    <tr>\n",
       "      <th>138730</th>\n",
       "      <td>Centro-Oeste</td>\n",
       "      <td>MT</td>\n",
       "      <td>NaN</td>\n",
       "      <td>51.0</td>\n",
       "      <td>NaN</td>\n",
       "      <td>NaN</td>\n",
       "      <td>NaN</td>\n",
       "      <td>2020-05-30</td>\n",
       "      <td>22.0</td>\n",
       "      <td>3484466.0</td>\n",
       "      <td>2361.0</td>\n",
       "      <td>258.0</td>\n",
       "      <td>57.0</td>\n",
       "      <td>1.0</td>\n",
       "      <td>NaN</td>\n",
       "      <td>NaN</td>\n",
       "    </tr>\n",
       "    <tr>\n",
       "      <th>138731</th>\n",
       "      <td>Centro-Oeste</td>\n",
       "      <td>GO</td>\n",
       "      <td>NaN</td>\n",
       "      <td>52.0</td>\n",
       "      <td>NaN</td>\n",
       "      <td>NaN</td>\n",
       "      <td>NaN</td>\n",
       "      <td>2020-05-30</td>\n",
       "      <td>22.0</td>\n",
       "      <td>7018354.0</td>\n",
       "      <td>3585.0</td>\n",
       "      <td>266.0</td>\n",
       "      <td>122.0</td>\n",
       "      <td>3.0</td>\n",
       "      <td>NaN</td>\n",
       "      <td>NaN</td>\n",
       "    </tr>\n",
       "    <tr>\n",
       "      <th>138732</th>\n",
       "      <td>Centro-Oeste</td>\n",
       "      <td>DF</td>\n",
       "      <td>NaN</td>\n",
       "      <td>53.0</td>\n",
       "      <td>NaN</td>\n",
       "      <td>NaN</td>\n",
       "      <td>NaN</td>\n",
       "      <td>2020-05-30</td>\n",
       "      <td>22.0</td>\n",
       "      <td>3015268.0</td>\n",
       "      <td>9474.0</td>\n",
       "      <td>752.0</td>\n",
       "      <td>162.0</td>\n",
       "      <td>8.0</td>\n",
       "      <td>NaN</td>\n",
       "      <td>NaN</td>\n",
       "    </tr>\n",
       "  </tbody>\n",
       "</table>\n",
       "<p>138733 rows × 16 columns</p>\n",
       "</div>"
      ],
      "text/plain": [
       "              regiao estado municipio  coduf  codmun  codRegiaoSaude  \\\n",
       "0             Brasil    NaN       NaN   76.0     NaN             NaN   \n",
       "1             Brasil    NaN       NaN   76.0     NaN             NaN   \n",
       "2             Brasil    NaN       NaN   76.0     NaN             NaN   \n",
       "3             Brasil    NaN       NaN   76.0     NaN             NaN   \n",
       "4             Brasil    NaN       NaN   76.0     NaN             NaN   \n",
       "...              ...    ...       ...    ...     ...             ...   \n",
       "138728           Sul     RS       NaN   43.0     NaN             NaN   \n",
       "138729  Centro-Oeste     MS       NaN   50.0     NaN             NaN   \n",
       "138730  Centro-Oeste     MT       NaN   51.0     NaN             NaN   \n",
       "138731  Centro-Oeste     GO       NaN   52.0     NaN             NaN   \n",
       "138732  Centro-Oeste     DF       NaN   53.0     NaN             NaN   \n",
       "\n",
       "       nomeRegiaoSaude       data  semanaEpi  populacaoTCU2019  \\\n",
       "0                  NaN 2020-02-26        9.0       210147125.0   \n",
       "1                  NaN 2020-02-27        9.0       210147125.0   \n",
       "2                  NaN 2020-02-28        9.0       210147125.0   \n",
       "3                  NaN 2020-02-29        9.0       210147125.0   \n",
       "4                  NaN 2020-03-01       10.0       210147125.0   \n",
       "...                ...        ...        ...               ...   \n",
       "138728             NaN 2020-05-30       22.0        11377239.0   \n",
       "138729             NaN 2020-05-30       22.0         2778986.0   \n",
       "138730             NaN 2020-05-30       22.0         3484466.0   \n",
       "138731             NaN 2020-05-30       22.0         7018354.0   \n",
       "138732             NaN 2020-05-30       22.0         3015268.0   \n",
       "\n",
       "        casosAcumulado  casosNovos  obitosAcumulado  obitosNovos  \\\n",
       "0                  1.0         0.0              0.0          0.0   \n",
       "1                  1.0         0.0              0.0          0.0   \n",
       "2                  1.0         0.0              0.0          0.0   \n",
       "3                  2.0         1.0              0.0          0.0   \n",
       "4                  2.0         0.0              0.0          0.0   \n",
       "...                ...         ...              ...          ...   \n",
       "138728          9242.0      1008.0            218.0          5.0   \n",
       "138729          1418.0        62.0             19.0          1.0   \n",
       "138730          2361.0       258.0             57.0          1.0   \n",
       "138731          3585.0       266.0            122.0          3.0   \n",
       "138732          9474.0       752.0            162.0          8.0   \n",
       "\n",
       "        Recuperadosnovos  emAcompanhamentoNovos  \n",
       "0                    NaN                    NaN  \n",
       "1                    NaN                    NaN  \n",
       "2                    NaN                    NaN  \n",
       "3                    NaN                    NaN  \n",
       "4                    NaN                    NaN  \n",
       "...                  ...                    ...  \n",
       "138728               NaN                    NaN  \n",
       "138729               NaN                    NaN  \n",
       "138730               NaN                    NaN  \n",
       "138731               NaN                    NaN  \n",
       "138732               NaN                    NaN  \n",
       "\n",
       "[138733 rows x 16 columns]"
      ]
     },
     "execution_count": 136,
     "metadata": {},
     "output_type": "execute_result"
    }
   ],
   "source": [
    "covidData2"
   ]
  },
  {
   "cell_type": "code",
   "execution_count": 137,
   "metadata": {},
   "outputs": [
    {
     "data": {
      "text/plain": [
       "regiao                                Brasil\n",
       "estado                                   NaN\n",
       "municipio                                NaN\n",
       "coduf                                     76\n",
       "codmun                                   NaN\n",
       "codRegiaoSaude                           NaN\n",
       "nomeRegiaoSaude                          NaN\n",
       "data                     2020-05-31 00:00:00\n",
       "semanaEpi                                 23\n",
       "populacaoTCU2019                 2.10147e+08\n",
       "casosAcumulado                        514849\n",
       "casosNovos                             16409\n",
       "obitosAcumulado                        29314\n",
       "obitosNovos                              480\n",
       "Recuperadosnovos                      206555\n",
       "emAcompanhamentoNovos                 278980\n",
       "Name: 4181, dtype: object"
      ]
     },
     "execution_count": 137,
     "metadata": {},
     "output_type": "execute_result"
    }
   ],
   "source": [
    "## Showing the line with the highest number of deaths:\n",
    "idx = covidData2.obitosAcumulado.idxmax()\n",
    "covidData2.iloc[idx]"
   ]
  },
  {
   "cell_type": "markdown",
   "metadata": {},
   "source": [
    "----------"
   ]
  },
  {
   "cell_type": "markdown",
   "metadata": {},
   "source": [
    "#### Exploring only SC municipalities"
   ]
  },
  {
   "cell_type": "code",
   "execution_count": 138,
   "metadata": {},
   "outputs": [],
   "source": [
    "covid_SC = covidData2[covidData2.estado == 'SC']"
   ]
  },
  {
   "cell_type": "code",
   "execution_count": 124,
   "metadata": {},
   "outputs": [
    {
     "data": {
      "text/plain": [
       "array([nan, 'Abdon Batista', 'Abelardo Luz', 'Agrolândia', 'Agronômica',\n",
       "       'Água Doce', 'Águas de Chapecó', 'Águas Frias', 'Águas Mornas',\n",
       "       'Alto Bela Vista', 'Anchieta', 'Anita Garibaldi', 'Antônio Carlos',\n",
       "       'Arabutã', 'Araquari', 'Araranguá', 'Armazém', 'Arvoredo',\n",
       "       'Ascurra', 'Atalanta', 'Aurora', 'Balneário Arroio do Silva',\n",
       "       'Balneário Camboriú', 'Balneário Barra do Sul',\n",
       "       'Balneário Gaivota', 'Barra Velha', 'Benedito Novo', 'Biguaçu',\n",
       "       'Blumenau', 'Bombinhas', 'Botuverá', 'Braço do Norte', 'Brusque',\n",
       "       'Caçador', 'Caibi', 'Camboriú', 'Campo Erê', 'Campos Novos',\n",
       "       'Canelinha', 'Canoinhas', 'Capinzal', 'Capivari de Baixo',\n",
       "       'Catanduvas', 'Caxambu do Sul', 'Chapecó', 'Cocal do Sul',\n",
       "       'Concórdia', 'Cordilheira Alta', 'Coronel Freitas', 'Corupá',\n",
       "       'Criciúma', 'Cunha Porã', 'Curitibanos', 'Descanso',\n",
       "       'Dionísio Cerqueira', 'Entre Rios', 'Faxinal dos Guedes',\n",
       "       'Florianópolis', 'Forquilhinha', 'Fraiburgo', 'Garopaba', 'Garuva',\n",
       "       'Gaspar', 'Governador Celso Ramos', 'Grão Pará', 'Gravatal',\n",
       "       'Guabiruba', 'Guaraciaba', 'Guaramirim', 'Guatambú',\n",
       "       \"Herval d'Oeste\", 'Ibicaré', 'Ibirama', 'Içara', 'Ilhota',\n",
       "       'Imbituba', 'Imbuia', 'Indaial', 'Ipira', 'Ipuaçu', 'Ipumirim',\n",
       "       'Irani', 'Irati', 'Itá', 'Itaiópolis', 'Itajaí', 'Itapema',\n",
       "       'Itapiranga', 'Itapoá', 'Ituporanga', 'Jaborá', 'Jacinto Machado',\n",
       "       'Jaguaruna', 'Jaraguá do Sul', 'Joaçaba', 'Joinville', 'Jupiá',\n",
       "       'Lages', 'Laguna', 'Lajeado Grande', 'Laurentino', 'Lauro Muller',\n",
       "       'Lindóia do Sul', 'Lontras', 'Luiz Alves', 'Luzerna', 'Mafra',\n",
       "       'Maracajá', 'Maravilha', 'Marema', 'Massaranduba', 'Meleiro',\n",
       "       'Mondaí', 'Monte Carlo', 'Monte Castelo', 'Morro da Fumaça',\n",
       "       'Morro Grande', 'Navegantes', 'Nova Erechim', 'Nova Itaberaba',\n",
       "       'Nova Trento', 'Nova Veneza', 'Orleans', 'Otacílio Costa', 'Ouro',\n",
       "       'Paial', 'Palhoça', 'Palma Sola', 'Palmeira', 'Palmitos',\n",
       "       'Papanduva', 'Passo de Torres', 'Passos Maia', 'Paulo Lopes',\n",
       "       'Pedras Grandes', 'Penha', 'Peritiba', 'Pescaria Brava',\n",
       "       'Petrolândia', 'Balneário Piçarras', 'Pinhalzinho',\n",
       "       'Pinheiro Preto', 'Piratuba', 'Planalto Alegre', 'Pomerode',\n",
       "       'Ponte Serrada', 'Porto Belo', 'Porto União', 'Pouso Redondo',\n",
       "       'Praia Grande', 'Presidente Castello Branco', 'Presidente Getúlio',\n",
       "       'Quilombo', 'Rancho Queimado', 'Rio do Oeste', 'Rio do Sul',\n",
       "       'Rio Fortuna', 'Rio Negrinho', 'Rio Rufino', 'Riqueza', 'Rodeio',\n",
       "       'Salete', 'Sangão', 'Santa Cecília', 'Santa Helena',\n",
       "       'Santa Rosa do Sul', 'Santa Terezinha', 'Santiago do Sul',\n",
       "       'Santo Amaro da Imperatriz', 'São Bernardino', 'São Bento do Sul',\n",
       "       'São Carlos', 'São Domingos', 'São Francisco do Sul',\n",
       "       'São João do Oeste', 'São João Batista', 'São João do Itaperiú',\n",
       "       'São João do Sul', 'São Joaquim', 'São José', 'São José do Cedro',\n",
       "       'São Lourenço do Oeste', 'São Ludgero', 'São Martinho',\n",
       "       'São Miguel do Oeste', 'Schroeder', 'Seara', 'Siderópolis',\n",
       "       'Sombrio', 'Taió', 'Tangará', 'Tigrinhos', 'Tijucas',\n",
       "       'Timbé do Sul', 'Timbó', 'Três Barras', 'Treze de Maio',\n",
       "       'Treze Tílias', 'Trombudo Central', 'Tubarão', 'Tunápolis',\n",
       "       'Turvo', 'União do Oeste', 'Urussanga', 'Vargeão', 'Vargem Bonita',\n",
       "       'Vidal Ramos', 'Videira', 'Xanxerê', 'Xavantina', 'Xaxim',\n",
       "       'Zortéa', 'Balneário Rincão', 'Alfredo Wagner', 'Cunhataí',\n",
       "       'Dona Emma', 'Doutor Pedrinho', 'José Boiteux', 'Salto Veloso',\n",
       "       'Santa Rosa de Lima', 'São Pedro de Alcântara', 'Serra Alta',\n",
       "       'Treviso', 'Urubici', 'Vargem'], dtype=object)"
      ]
     },
     "execution_count": 124,
     "metadata": {},
     "output_type": "execute_result"
    }
   ],
   "source": [
    "covid_SC.municipio.unique()"
   ]
  },
  {
   "cell_type": "code",
   "execution_count": 139,
   "metadata": {},
   "outputs": [],
   "source": [
    "sns.set_style(\"whitegrid\")"
   ]
  },
  {
   "cell_type": "code",
   "execution_count": 140,
   "metadata": {},
   "outputs": [],
   "source": [
    "cidade = 'Florianópolis'"
   ]
  },
  {
   "cell_type": "code",
   "execution_count": 141,
   "metadata": {},
   "outputs": [
    {
     "data": {
      "text/plain": [
       "Text(0.5, 1.0, 'Número de casos COVID-19 acumulados em Florianópolis, SC, em 21/05/2020')"
      ]
     },
     "execution_count": 141,
     "metadata": {},
     "output_type": "execute_result"
    },
    {
     "data": {
      "image/png": "[encoded data removed]",
      "text/plain": [
       "<Figure size 1080x432 with 1 Axes>"
      ]
     },
     "metadata": {},
     "output_type": "display_data"
    }
   ],
   "source": [
    "fig, ax = plt.subplots(figsize=(15,6))\n",
    "\n",
    "ax = sns.barplot(x='data', y='casosAcumulado', data=covid_SC[covid_SC['municipio'] == cidade], palette='YlOrRd')\n",
    "plt.xticks(rotation='vertical');\n",
    "plt.title('Número de casos COVID-19 acumulados em {0}, SC, em 21/05/2020'.format(cidade))"
   ]
  },
  {
   "cell_type": "code",
   "execution_count": 142,
   "metadata": {},
   "outputs": [
    {
     "data": {
      "text/html": [
       "<div>\n",
       "<style scoped>\n",
       "    .dataframe tbody tr th:only-of-type {\n",
       "        vertical-align: middle;\n",
       "    }\n",
       "\n",
       "    .dataframe tbody tr th {\n",
       "        vertical-align: top;\n",
       "    }\n",
       "\n",
       "    .dataframe thead th {\n",
       "        text-align: right;\n",
       "    }\n",
       "</style>\n",
       "<table border=\"1\" class=\"dataframe\">\n",
       "  <thead>\n",
       "    <tr style=\"text-align: right;\">\n",
       "      <th></th>\n",
       "      <th>regiao</th>\n",
       "      <th>estado</th>\n",
       "      <th>municipio</th>\n",
       "      <th>coduf</th>\n",
       "      <th>codmun</th>\n",
       "      <th>codRegiaoSaude</th>\n",
       "      <th>nomeRegiaoSaude</th>\n",
       "      <th>data</th>\n",
       "      <th>semanaEpi</th>\n",
       "      <th>populacaoTCU2019</th>\n",
       "      <th>casosAcumulado</th>\n",
       "      <th>casosNovos</th>\n",
       "      <th>obitosAcumulado</th>\n",
       "      <th>obitosNovos</th>\n",
       "      <th>Recuperadosnovos</th>\n",
       "      <th>emAcompanhamentoNovos</th>\n",
       "    </tr>\n",
       "  </thead>\n",
       "  <tbody>\n",
       "    <tr>\n",
       "      <th>3436</th>\n",
       "      <td>Sul</td>\n",
       "      <td>SC</td>\n",
       "      <td>Blumenau</td>\n",
       "      <td>42.0</td>\n",
       "      <td>420240.0</td>\n",
       "      <td>42006.0</td>\n",
       "      <td>Médio Vale do Itajaí</td>\n",
       "      <td>2020-05-30</td>\n",
       "      <td>23.0</td>\n",
       "      <td>357199.0</td>\n",
       "      <td>614.0</td>\n",
       "      <td>0.0</td>\n",
       "      <td>4.0</td>\n",
       "      <td>0.0</td>\n",
       "      <td>NaN</td>\n",
       "      <td>NaN</td>\n",
       "    </tr>\n",
       "    <tr>\n",
       "      <th>114807</th>\n",
       "      <td>Sul</td>\n",
       "      <td>SC</td>\n",
       "      <td>Blumenau</td>\n",
       "      <td>42.0</td>\n",
       "      <td>420240.0</td>\n",
       "      <td>42006.0</td>\n",
       "      <td>Médio Vale do Itajaí</td>\n",
       "      <td>2020-03-28</td>\n",
       "      <td>13.0</td>\n",
       "      <td>357199.0</td>\n",
       "      <td>12.0</td>\n",
       "      <td>0.0</td>\n",
       "      <td>0.0</td>\n",
       "      <td>0.0</td>\n",
       "      <td>NaN</td>\n",
       "      <td>NaN</td>\n",
       "    </tr>\n",
       "    <tr>\n",
       "      <th>114808</th>\n",
       "      <td>Sul</td>\n",
       "      <td>SC</td>\n",
       "      <td>Blumenau</td>\n",
       "      <td>42.0</td>\n",
       "      <td>420240.0</td>\n",
       "      <td>42006.0</td>\n",
       "      <td>Médio Vale do Itajaí</td>\n",
       "      <td>2020-03-29</td>\n",
       "      <td>14.0</td>\n",
       "      <td>357199.0</td>\n",
       "      <td>12.0</td>\n",
       "      <td>0.0</td>\n",
       "      <td>0.0</td>\n",
       "      <td>0.0</td>\n",
       "      <td>NaN</td>\n",
       "      <td>NaN</td>\n",
       "    </tr>\n",
       "    <tr>\n",
       "      <th>114809</th>\n",
       "      <td>Sul</td>\n",
       "      <td>SC</td>\n",
       "      <td>Blumenau</td>\n",
       "      <td>42.0</td>\n",
       "      <td>420240.0</td>\n",
       "      <td>42006.0</td>\n",
       "      <td>Médio Vale do Itajaí</td>\n",
       "      <td>2020-03-30</td>\n",
       "      <td>14.0</td>\n",
       "      <td>357199.0</td>\n",
       "      <td>12.0</td>\n",
       "      <td>0.0</td>\n",
       "      <td>0.0</td>\n",
       "      <td>0.0</td>\n",
       "      <td>NaN</td>\n",
       "      <td>NaN</td>\n",
       "    </tr>\n",
       "    <tr>\n",
       "      <th>114810</th>\n",
       "      <td>Sul</td>\n",
       "      <td>SC</td>\n",
       "      <td>Blumenau</td>\n",
       "      <td>42.0</td>\n",
       "      <td>420240.0</td>\n",
       "      <td>42006.0</td>\n",
       "      <td>Médio Vale do Itajaí</td>\n",
       "      <td>2020-03-31</td>\n",
       "      <td>14.0</td>\n",
       "      <td>357199.0</td>\n",
       "      <td>19.0</td>\n",
       "      <td>7.0</td>\n",
       "      <td>0.0</td>\n",
       "      <td>0.0</td>\n",
       "      <td>NaN</td>\n",
       "      <td>NaN</td>\n",
       "    </tr>\n",
       "    <tr>\n",
       "      <th>...</th>\n",
       "      <td>...</td>\n",
       "      <td>...</td>\n",
       "      <td>...</td>\n",
       "      <td>...</td>\n",
       "      <td>...</td>\n",
       "      <td>...</td>\n",
       "      <td>...</td>\n",
       "      <td>...</td>\n",
       "      <td>...</td>\n",
       "      <td>...</td>\n",
       "      <td>...</td>\n",
       "      <td>...</td>\n",
       "      <td>...</td>\n",
       "      <td>...</td>\n",
       "      <td>...</td>\n",
       "      <td>...</td>\n",
       "    </tr>\n",
       "    <tr>\n",
       "      <th>114866</th>\n",
       "      <td>Sul</td>\n",
       "      <td>SC</td>\n",
       "      <td>Blumenau</td>\n",
       "      <td>42.0</td>\n",
       "      <td>420240.0</td>\n",
       "      <td>42006.0</td>\n",
       "      <td>Médio Vale do Itajaí</td>\n",
       "      <td>2020-05-26</td>\n",
       "      <td>22.0</td>\n",
       "      <td>357199.0</td>\n",
       "      <td>497.0</td>\n",
       "      <td>0.0</td>\n",
       "      <td>3.0</td>\n",
       "      <td>0.0</td>\n",
       "      <td>NaN</td>\n",
       "      <td>NaN</td>\n",
       "    </tr>\n",
       "    <tr>\n",
       "      <th>114867</th>\n",
       "      <td>Sul</td>\n",
       "      <td>SC</td>\n",
       "      <td>Blumenau</td>\n",
       "      <td>42.0</td>\n",
       "      <td>420240.0</td>\n",
       "      <td>42006.0</td>\n",
       "      <td>Médio Vale do Itajaí</td>\n",
       "      <td>2020-05-27</td>\n",
       "      <td>22.0</td>\n",
       "      <td>357199.0</td>\n",
       "      <td>498.0</td>\n",
       "      <td>1.0</td>\n",
       "      <td>3.0</td>\n",
       "      <td>0.0</td>\n",
       "      <td>NaN</td>\n",
       "      <td>NaN</td>\n",
       "    </tr>\n",
       "    <tr>\n",
       "      <th>114868</th>\n",
       "      <td>Sul</td>\n",
       "      <td>SC</td>\n",
       "      <td>Blumenau</td>\n",
       "      <td>42.0</td>\n",
       "      <td>420240.0</td>\n",
       "      <td>42006.0</td>\n",
       "      <td>Médio Vale do Itajaí</td>\n",
       "      <td>2020-05-28</td>\n",
       "      <td>22.0</td>\n",
       "      <td>357199.0</td>\n",
       "      <td>572.0</td>\n",
       "      <td>74.0</td>\n",
       "      <td>4.0</td>\n",
       "      <td>1.0</td>\n",
       "      <td>NaN</td>\n",
       "      <td>NaN</td>\n",
       "    </tr>\n",
       "    <tr>\n",
       "      <th>114869</th>\n",
       "      <td>Sul</td>\n",
       "      <td>SC</td>\n",
       "      <td>Blumenau</td>\n",
       "      <td>42.0</td>\n",
       "      <td>420240.0</td>\n",
       "      <td>42006.0</td>\n",
       "      <td>Médio Vale do Itajaí</td>\n",
       "      <td>2020-05-30</td>\n",
       "      <td>22.0</td>\n",
       "      <td>357199.0</td>\n",
       "      <td>1221.0</td>\n",
       "      <td>649.0</td>\n",
       "      <td>8.0</td>\n",
       "      <td>4.0</td>\n",
       "      <td>NaN</td>\n",
       "      <td>NaN</td>\n",
       "    </tr>\n",
       "    <tr>\n",
       "      <th>114870</th>\n",
       "      <td>Sul</td>\n",
       "      <td>SC</td>\n",
       "      <td>Blumenau</td>\n",
       "      <td>42.0</td>\n",
       "      <td>420240.0</td>\n",
       "      <td>42006.0</td>\n",
       "      <td>Médio Vale do Itajaí</td>\n",
       "      <td>2020-05-31</td>\n",
       "      <td>23.0</td>\n",
       "      <td>357199.0</td>\n",
       "      <td>616.0</td>\n",
       "      <td>0.0</td>\n",
       "      <td>4.0</td>\n",
       "      <td>0.0</td>\n",
       "      <td>NaN</td>\n",
       "      <td>NaN</td>\n",
       "    </tr>\n",
       "  </tbody>\n",
       "</table>\n",
       "<p>65 rows × 16 columns</p>\n",
       "</div>"
      ],
      "text/plain": [
       "       regiao estado municipio  coduf    codmun  codRegiaoSaude  \\\n",
       "3436      Sul     SC  Blumenau   42.0  420240.0         42006.0   \n",
       "114807    Sul     SC  Blumenau   42.0  420240.0         42006.0   \n",
       "114808    Sul     SC  Blumenau   42.0  420240.0         42006.0   \n",
       "114809    Sul     SC  Blumenau   42.0  420240.0         42006.0   \n",
       "114810    Sul     SC  Blumenau   42.0  420240.0         42006.0   \n",
       "...       ...    ...       ...    ...       ...             ...   \n",
       "114866    Sul     SC  Blumenau   42.0  420240.0         42006.0   \n",
       "114867    Sul     SC  Blumenau   42.0  420240.0         42006.0   \n",
       "114868    Sul     SC  Blumenau   42.0  420240.0         42006.0   \n",
       "114869    Sul     SC  Blumenau   42.0  420240.0         42006.0   \n",
       "114870    Sul     SC  Blumenau   42.0  420240.0         42006.0   \n",
       "\n",
       "             nomeRegiaoSaude       data  semanaEpi  populacaoTCU2019  \\\n",
       "3436    Médio Vale do Itajaí 2020-05-30       23.0          357199.0   \n",
       "114807  Médio Vale do Itajaí 2020-03-28       13.0          357199.0   \n",
       "114808  Médio Vale do Itajaí 2020-03-29       14.0          357199.0   \n",
       "114809  Médio Vale do Itajaí 2020-03-30       14.0          357199.0   \n",
       "114810  Médio Vale do Itajaí 2020-03-31       14.0          357199.0   \n",
       "...                      ...        ...        ...               ...   \n",
       "114866  Médio Vale do Itajaí 2020-05-26       22.0          357199.0   \n",
       "114867  Médio Vale do Itajaí 2020-05-27       22.0          357199.0   \n",
       "114868  Médio Vale do Itajaí 2020-05-28       22.0          357199.0   \n",
       "114869  Médio Vale do Itajaí 2020-05-30       22.0          357199.0   \n",
       "114870  Médio Vale do Itajaí 2020-05-31       23.0          357199.0   \n",
       "\n",
       "        casosAcumulado  casosNovos  obitosAcumulado  obitosNovos  \\\n",
       "3436             614.0         0.0              4.0          0.0   \n",
       "114807            12.0         0.0              0.0          0.0   \n",
       "114808            12.0         0.0              0.0          0.0   \n",
       "114809            12.0         0.0              0.0          0.0   \n",
       "114810            19.0         7.0              0.0          0.0   \n",
       "...                ...         ...              ...          ...   \n",
       "114866           497.0         0.0              3.0          0.0   \n",
       "114867           498.0         1.0              3.0          0.0   \n",
       "114868           572.0        74.0              4.0          1.0   \n",
       "114869          1221.0       649.0              8.0          4.0   \n",
       "114870           616.0         0.0              4.0          0.0   \n",
       "\n",
       "        Recuperadosnovos  emAcompanhamentoNovos  \n",
       "3436                 NaN                    NaN  \n",
       "114807               NaN                    NaN  \n",
       "114808               NaN                    NaN  \n",
       "114809               NaN                    NaN  \n",
       "114810               NaN                    NaN  \n",
       "...                  ...                    ...  \n",
       "114866               NaN                    NaN  \n",
       "114867               NaN                    NaN  \n",
       "114868               NaN                    NaN  \n",
       "114869               NaN                    NaN  \n",
       "114870               NaN                    NaN  \n",
       "\n",
       "[65 rows x 16 columns]"
      ]
     },
     "execution_count": 142,
     "metadata": {},
     "output_type": "execute_result"
    }
   ],
   "source": [
    "covid_SC[covid_SC['municipio'] == 'Blumenau']"
   ]
  },
  {
   "cell_type": "code",
   "execution_count": null,
   "metadata": {},
   "outputs": [],
   "source": []
  },
  {
   "cell_type": "markdown",
   "metadata": {},
   "source": [
    "----------------"
   ]
  },
  {
   "cell_type": "markdown",
   "metadata": {},
   "source": [
    "## Visualizing the number of cases by state"
   ]
  },
  {
   "cell_type": "markdown",
   "metadata": {},
   "source": [
    "#### Preparing the dataset only with tha state data:"
   ]
  },
  {
   "cell_type": "code",
   "execution_count": 143,
   "metadata": {
    "scrolled": true
   },
   "outputs": [
    {
     "data": {
      "text/plain": [
       "Timestamp('2020-05-31 00:00:00')"
      ]
     },
     "execution_count": 143,
     "metadata": {},
     "output_type": "execute_result"
    }
   ],
   "source": [
    "## Getting the last date from data:\n",
    "lastDay = covidData2.data.max()\n",
    "lastDay"
   ]
  },
  {
   "cell_type": "code",
   "execution_count": 144,
   "metadata": {},
   "outputs": [],
   "source": [
    "covidLastDay = covidData2[(covidData2.data == lastDay) &\n",
    "                         (covidData2.estado.isna() == False) & \n",
    "                         (covidData2.municipio.isna() == True) &\n",
    "                         (covidData2.populacaoTCU2019.isna() == False)]"
   ]
  },
  {
   "cell_type": "code",
   "execution_count": 145,
   "metadata": {},
   "outputs": [],
   "source": [
    "covidLastDay = covidLastDay[['regiao','estado','data','populacaoTCU2019','casosAcumulado','obitosAcumulado']]"
   ]
  },
  {
   "cell_type": "code",
   "execution_count": 146,
   "metadata": {
    "scrolled": false
   },
   "outputs": [
    {
     "data": {
      "text/html": [
       "<div>\n",
       "<style scoped>\n",
       "    .dataframe tbody tr th:only-of-type {\n",
       "        vertical-align: middle;\n",
       "    }\n",
       "\n",
       "    .dataframe tbody tr th {\n",
       "        vertical-align: top;\n",
       "    }\n",
       "\n",
       "    .dataframe thead th {\n",
       "        text-align: right;\n",
       "    }\n",
       "</style>\n",
       "<table border=\"1\" class=\"dataframe\">\n",
       "  <thead>\n",
       "    <tr style=\"text-align: right;\">\n",
       "      <th></th>\n",
       "      <th>regiao</th>\n",
       "      <th>estado</th>\n",
       "      <th>data</th>\n",
       "      <th>populacaoTCU2019</th>\n",
       "      <th>casosAcumulado</th>\n",
       "      <th>obitosAcumulado</th>\n",
       "    </tr>\n",
       "  </thead>\n",
       "  <tbody>\n",
       "    <tr>\n",
       "      <th>4254</th>\n",
       "      <td>Norte</td>\n",
       "      <td>RO</td>\n",
       "      <td>2020-05-31</td>\n",
       "      <td>1777225.0</td>\n",
       "      <td>4942.0</td>\n",
       "      <td>156.0</td>\n",
       "    </tr>\n",
       "    <tr>\n",
       "      <th>4328</th>\n",
       "      <td>Norte</td>\n",
       "      <td>AC</td>\n",
       "      <td>2020-05-31</td>\n",
       "      <td>881935.0</td>\n",
       "      <td>6219.0</td>\n",
       "      <td>148.0</td>\n",
       "    </tr>\n",
       "    <tr>\n",
       "      <th>4406</th>\n",
       "      <td>Norte</td>\n",
       "      <td>AM</td>\n",
       "      <td>2020-05-31</td>\n",
       "      <td>4144597.0</td>\n",
       "      <td>41378.0</td>\n",
       "      <td>2052.0</td>\n",
       "    </tr>\n",
       "    <tr>\n",
       "      <th>4477</th>\n",
       "      <td>Norte</td>\n",
       "      <td>RR</td>\n",
       "      <td>2020-05-31</td>\n",
       "      <td>605761.0</td>\n",
       "      <td>3474.0</td>\n",
       "      <td>116.0</td>\n",
       "    </tr>\n",
       "    <tr>\n",
       "      <th>4551</th>\n",
       "      <td>Norte</td>\n",
       "      <td>PA</td>\n",
       "      <td>2020-05-31</td>\n",
       "      <td>8602865.0</td>\n",
       "      <td>37961.0</td>\n",
       "      <td>2923.0</td>\n",
       "    </tr>\n",
       "    <tr>\n",
       "      <th>4624</th>\n",
       "      <td>Norte</td>\n",
       "      <td>AP</td>\n",
       "      <td>2020-05-31</td>\n",
       "      <td>845731.0</td>\n",
       "      <td>9602.0</td>\n",
       "      <td>222.0</td>\n",
       "    </tr>\n",
       "    <tr>\n",
       "      <th>4698</th>\n",
       "      <td>Norte</td>\n",
       "      <td>TO</td>\n",
       "      <td>2020-05-31</td>\n",
       "      <td>1572866.0</td>\n",
       "      <td>4176.0</td>\n",
       "      <td>73.0</td>\n",
       "    </tr>\n",
       "    <tr>\n",
       "      <th>4770</th>\n",
       "      <td>Nordeste</td>\n",
       "      <td>MA</td>\n",
       "      <td>2020-05-31</td>\n",
       "      <td>7075181.0</td>\n",
       "      <td>34639.0</td>\n",
       "      <td>955.0</td>\n",
       "    </tr>\n",
       "    <tr>\n",
       "      <th>4843</th>\n",
       "      <td>Nordeste</td>\n",
       "      <td>PI</td>\n",
       "      <td>2020-05-31</td>\n",
       "      <td>3273227.0</td>\n",
       "      <td>4931.0</td>\n",
       "      <td>161.0</td>\n",
       "    </tr>\n",
       "    <tr>\n",
       "      <th>4919</th>\n",
       "      <td>Nordeste</td>\n",
       "      <td>CE</td>\n",
       "      <td>2020-05-31</td>\n",
       "      <td>9132078.0</td>\n",
       "      <td>48489.0</td>\n",
       "      <td>3010.0</td>\n",
       "    </tr>\n",
       "    <tr>\n",
       "      <th>4999</th>\n",
       "      <td>Nordeste</td>\n",
       "      <td>RN</td>\n",
       "      <td>2020-05-31</td>\n",
       "      <td>3506853.0</td>\n",
       "      <td>8051.0</td>\n",
       "      <td>305.0</td>\n",
       "    </tr>\n",
       "    <tr>\n",
       "      <th>5073</th>\n",
       "      <td>Nordeste</td>\n",
       "      <td>PB</td>\n",
       "      <td>2020-05-31</td>\n",
       "      <td>4018127.0</td>\n",
       "      <td>13162.0</td>\n",
       "      <td>360.0</td>\n",
       "    </tr>\n",
       "    <tr>\n",
       "      <th>5154</th>\n",
       "      <td>Nordeste</td>\n",
       "      <td>PE</td>\n",
       "      <td>2020-05-31</td>\n",
       "      <td>9557071.0</td>\n",
       "      <td>34450.0</td>\n",
       "      <td>2807.0</td>\n",
       "    </tr>\n",
       "    <tr>\n",
       "      <th>5239</th>\n",
       "      <td>Nordeste</td>\n",
       "      <td>AL</td>\n",
       "      <td>2020-05-31</td>\n",
       "      <td>3337357.0</td>\n",
       "      <td>10288.0</td>\n",
       "      <td>443.0</td>\n",
       "    </tr>\n",
       "    <tr>\n",
       "      <th>5317</th>\n",
       "      <td>Nordeste</td>\n",
       "      <td>SE</td>\n",
       "      <td>2020-05-31</td>\n",
       "      <td>2298696.0</td>\n",
       "      <td>6999.0</td>\n",
       "      <td>158.0</td>\n",
       "    </tr>\n",
       "    <tr>\n",
       "      <th>5404</th>\n",
       "      <td>Nordeste</td>\n",
       "      <td>BA</td>\n",
       "      <td>2020-05-31</td>\n",
       "      <td>14873064.0</td>\n",
       "      <td>18392.0</td>\n",
       "      <td>667.0</td>\n",
       "    </tr>\n",
       "    <tr>\n",
       "      <th>5489</th>\n",
       "      <td>Sudeste</td>\n",
       "      <td>MG</td>\n",
       "      <td>2020-05-31</td>\n",
       "      <td>21168791.0</td>\n",
       "      <td>10464.0</td>\n",
       "      <td>271.0</td>\n",
       "    </tr>\n",
       "    <tr>\n",
       "      <th>5576</th>\n",
       "      <td>Sudeste</td>\n",
       "      <td>ES</td>\n",
       "      <td>2020-05-31</td>\n",
       "      <td>4018650.0</td>\n",
       "      <td>13690.0</td>\n",
       "      <td>604.0</td>\n",
       "    </tr>\n",
       "    <tr>\n",
       "      <th>5664</th>\n",
       "      <td>Sudeste</td>\n",
       "      <td>RJ</td>\n",
       "      <td>2020-05-31</td>\n",
       "      <td>17264943.0</td>\n",
       "      <td>53388.0</td>\n",
       "      <td>5344.0</td>\n",
       "    </tr>\n",
       "    <tr>\n",
       "      <th>5760</th>\n",
       "      <td>Sudeste</td>\n",
       "      <td>SP</td>\n",
       "      <td>2020-05-31</td>\n",
       "      <td>45919049.0</td>\n",
       "      <td>109698.0</td>\n",
       "      <td>7615.0</td>\n",
       "    </tr>\n",
       "    <tr>\n",
       "      <th>5841</th>\n",
       "      <td>Sul</td>\n",
       "      <td>PR</td>\n",
       "      <td>2020-05-31</td>\n",
       "      <td>11433957.0</td>\n",
       "      <td>4687.0</td>\n",
       "      <td>182.0</td>\n",
       "    </tr>\n",
       "    <tr>\n",
       "      <th>5921</th>\n",
       "      <td>Sul</td>\n",
       "      <td>SC</td>\n",
       "      <td>2020-05-31</td>\n",
       "      <td>7164788.0</td>\n",
       "      <td>9037.0</td>\n",
       "      <td>143.0</td>\n",
       "    </tr>\n",
       "    <tr>\n",
       "      <th>6004</th>\n",
       "      <td>Sul</td>\n",
       "      <td>RS</td>\n",
       "      <td>2020-05-31</td>\n",
       "      <td>11377239.0</td>\n",
       "      <td>9332.0</td>\n",
       "      <td>224.0</td>\n",
       "    </tr>\n",
       "    <tr>\n",
       "      <th>6081</th>\n",
       "      <td>Centro-Oeste</td>\n",
       "      <td>MS</td>\n",
       "      <td>2020-05-31</td>\n",
       "      <td>2778986.0</td>\n",
       "      <td>1489.0</td>\n",
       "      <td>20.0</td>\n",
       "    </tr>\n",
       "    <tr>\n",
       "      <th>6154</th>\n",
       "      <td>Centro-Oeste</td>\n",
       "      <td>MT</td>\n",
       "      <td>2020-05-31</td>\n",
       "      <td>3484466.0</td>\n",
       "      <td>2429.0</td>\n",
       "      <td>61.0</td>\n",
       "    </tr>\n",
       "    <tr>\n",
       "      <th>6234</th>\n",
       "      <td>Centro-Oeste</td>\n",
       "      <td>GO</td>\n",
       "      <td>2020-05-31</td>\n",
       "      <td>7018354.0</td>\n",
       "      <td>3702.0</td>\n",
       "      <td>124.0</td>\n",
       "    </tr>\n",
       "    <tr>\n",
       "      <th>6320</th>\n",
       "      <td>Centro-Oeste</td>\n",
       "      <td>DF</td>\n",
       "      <td>2020-05-31</td>\n",
       "      <td>3015268.0</td>\n",
       "      <td>9780.0</td>\n",
       "      <td>170.0</td>\n",
       "    </tr>\n",
       "  </tbody>\n",
       "</table>\n",
       "</div>"
      ],
      "text/plain": [
       "            regiao estado       data  populacaoTCU2019  casosAcumulado  \\\n",
       "4254         Norte     RO 2020-05-31         1777225.0          4942.0   \n",
       "4328         Norte     AC 2020-05-31          881935.0          6219.0   \n",
       "4406         Norte     AM 2020-05-31         4144597.0         41378.0   \n",
       "4477         Norte     RR 2020-05-31          605761.0          3474.0   \n",
       "4551         Norte     PA 2020-05-31         8602865.0         37961.0   \n",
       "4624         Norte     AP 2020-05-31          845731.0          9602.0   \n",
       "4698         Norte     TO 2020-05-31         1572866.0          4176.0   \n",
       "4770      Nordeste     MA 2020-05-31         7075181.0         34639.0   \n",
       "4843      Nordeste     PI 2020-05-31         3273227.0          4931.0   \n",
       "4919      Nordeste     CE 2020-05-31         9132078.0         48489.0   \n",
       "4999      Nordeste     RN 2020-05-31         3506853.0          8051.0   \n",
       "5073      Nordeste     PB 2020-05-31         4018127.0         13162.0   \n",
       "5154      Nordeste     PE 2020-05-31         9557071.0         34450.0   \n",
       "5239      Nordeste     AL 2020-05-31         3337357.0         10288.0   \n",
       "5317      Nordeste     SE 2020-05-31         2298696.0          6999.0   \n",
       "5404      Nordeste     BA 2020-05-31        14873064.0         18392.0   \n",
       "5489       Sudeste     MG 2020-05-31        21168791.0         10464.0   \n",
       "5576       Sudeste     ES 2020-05-31         4018650.0         13690.0   \n",
       "5664       Sudeste     RJ 2020-05-31        17264943.0         53388.0   \n",
       "5760       Sudeste     SP 2020-05-31        45919049.0        109698.0   \n",
       "5841           Sul     PR 2020-05-31        11433957.0          4687.0   \n",
       "5921           Sul     SC 2020-05-31         7164788.0          9037.0   \n",
       "6004           Sul     RS 2020-05-31        11377239.0          9332.0   \n",
       "6081  Centro-Oeste     MS 2020-05-31         2778986.0          1489.0   \n",
       "6154  Centro-Oeste     MT 2020-05-31         3484466.0          2429.0   \n",
       "6234  Centro-Oeste     GO 2020-05-31         7018354.0          3702.0   \n",
       "6320  Centro-Oeste     DF 2020-05-31         3015268.0          9780.0   \n",
       "\n",
       "      obitosAcumulado  \n",
       "4254            156.0  \n",
       "4328            148.0  \n",
       "4406           2052.0  \n",
       "4477            116.0  \n",
       "4551           2923.0  \n",
       "4624            222.0  \n",
       "4698             73.0  \n",
       "4770            955.0  \n",
       "4843            161.0  \n",
       "4919           3010.0  \n",
       "4999            305.0  \n",
       "5073            360.0  \n",
       "5154           2807.0  \n",
       "5239            443.0  \n",
       "5317            158.0  \n",
       "5404            667.0  \n",
       "5489            271.0  \n",
       "5576            604.0  \n",
       "5664           5344.0  \n",
       "5760           7615.0  \n",
       "5841            182.0  \n",
       "5921            143.0  \n",
       "6004            224.0  \n",
       "6081             20.0  \n",
       "6154             61.0  \n",
       "6234            124.0  \n",
       "6320            170.0  "
      ]
     },
     "execution_count": 146,
     "metadata": {},
     "output_type": "execute_result"
    }
   ],
   "source": [
    "covidLastDay"
   ]
  },
  {
   "cell_type": "markdown",
   "metadata": {},
   "source": [
    "#### Normalizing data:"
   ]
  },
  {
   "cell_type": "code",
   "execution_count": 147,
   "metadata": {},
   "outputs": [],
   "source": [
    "normalCovid = covidLastDay.copy()"
   ]
  },
  {
   "cell_type": "code",
   "execution_count": 148,
   "metadata": {},
   "outputs": [],
   "source": [
    "## Contamination rate (pct of population)\n",
    "normalCovid['contamRate'] = (normalCovid['casosAcumulado'] / normalCovid['populacaoTCU2019']) * 100\n",
    "## Lethality rate (pct of cases)\n",
    "normalCovid['lethality_pct'] = (normalCovid['obitosAcumulado'] / normalCovid['casosAcumulado']) * 100\n",
    "## Death rate (pct of population)\n",
    "normalCovid['deathRate'] = (normalCovid['obitosAcumulado'] / normalCovid['populacaoTCU2019']) * 100"
   ]
  },
  {
   "cell_type": "code",
   "execution_count": 149,
   "metadata": {},
   "outputs": [
    {
     "data": {
      "text/plain": [
       "109698.0"
      ]
     },
     "execution_count": 149,
     "metadata": {},
     "output_type": "execute_result"
    }
   ],
   "source": [
    "normalCovid['casosAcumulado'].max()"
   ]
  },
  {
   "cell_type": "code",
   "execution_count": 150,
   "metadata": {},
   "outputs": [
    {
     "data": {
      "text/plain": [
       "7615.0"
      ]
     },
     "execution_count": 150,
     "metadata": {},
     "output_type": "execute_result"
    }
   ],
   "source": [
    "normalCovid['obitosAcumulado'].max()"
   ]
  },
  {
   "cell_type": "code",
   "execution_count": 151,
   "metadata": {},
   "outputs": [
    {
     "data": {
      "text/plain": [
       "5664"
      ]
     },
     "execution_count": 151,
     "metadata": {},
     "output_type": "execute_result"
    }
   ],
   "source": [
    "normalCovid.lethality_pct.idxmax()"
   ]
  },
  {
   "cell_type": "code",
   "execution_count": 152,
   "metadata": {
    "scrolled": false
   },
   "outputs": [
    {
     "data": {
      "text/html": [
       "<div>\n",
       "<style scoped>\n",
       "    .dataframe tbody tr th:only-of-type {\n",
       "        vertical-align: middle;\n",
       "    }\n",
       "\n",
       "    .dataframe tbody tr th {\n",
       "        vertical-align: top;\n",
       "    }\n",
       "\n",
       "    .dataframe thead th {\n",
       "        text-align: right;\n",
       "    }\n",
       "</style>\n",
       "<table border=\"1\" class=\"dataframe\">\n",
       "  <thead>\n",
       "    <tr style=\"text-align: right;\">\n",
       "      <th></th>\n",
       "      <th>regiao</th>\n",
       "      <th>estado</th>\n",
       "      <th>data</th>\n",
       "      <th>populacaoTCU2019</th>\n",
       "      <th>casosAcumulado</th>\n",
       "      <th>obitosAcumulado</th>\n",
       "      <th>contamRate</th>\n",
       "      <th>lethality_pct</th>\n",
       "      <th>deathRate</th>\n",
       "    </tr>\n",
       "  </thead>\n",
       "  <tbody>\n",
       "    <tr>\n",
       "      <th>4328</th>\n",
       "      <td>Norte</td>\n",
       "      <td>AC</td>\n",
       "      <td>2020-05-31</td>\n",
       "      <td>881935.0</td>\n",
       "      <td>6219.0</td>\n",
       "      <td>148.0</td>\n",
       "      <td>0.705154</td>\n",
       "      <td>2.379804</td>\n",
       "      <td>0.016781</td>\n",
       "    </tr>\n",
       "    <tr>\n",
       "      <th>5239</th>\n",
       "      <td>Nordeste</td>\n",
       "      <td>AL</td>\n",
       "      <td>2020-05-31</td>\n",
       "      <td>3337357.0</td>\n",
       "      <td>10288.0</td>\n",
       "      <td>443.0</td>\n",
       "      <td>0.308268</td>\n",
       "      <td>4.305988</td>\n",
       "      <td>0.013274</td>\n",
       "    </tr>\n",
       "    <tr>\n",
       "      <th>4406</th>\n",
       "      <td>Norte</td>\n",
       "      <td>AM</td>\n",
       "      <td>2020-05-31</td>\n",
       "      <td>4144597.0</td>\n",
       "      <td>41378.0</td>\n",
       "      <td>2052.0</td>\n",
       "      <td>0.998360</td>\n",
       "      <td>4.959157</td>\n",
       "      <td>0.049510</td>\n",
       "    </tr>\n",
       "    <tr>\n",
       "      <th>4624</th>\n",
       "      <td>Norte</td>\n",
       "      <td>AP</td>\n",
       "      <td>2020-05-31</td>\n",
       "      <td>845731.0</td>\n",
       "      <td>9602.0</td>\n",
       "      <td>222.0</td>\n",
       "      <td>1.135349</td>\n",
       "      <td>2.312018</td>\n",
       "      <td>0.026249</td>\n",
       "    </tr>\n",
       "    <tr>\n",
       "      <th>5404</th>\n",
       "      <td>Nordeste</td>\n",
       "      <td>BA</td>\n",
       "      <td>2020-05-31</td>\n",
       "      <td>14873064.0</td>\n",
       "      <td>18392.0</td>\n",
       "      <td>667.0</td>\n",
       "      <td>0.123660</td>\n",
       "      <td>3.626577</td>\n",
       "      <td>0.004485</td>\n",
       "    </tr>\n",
       "    <tr>\n",
       "      <th>4919</th>\n",
       "      <td>Nordeste</td>\n",
       "      <td>CE</td>\n",
       "      <td>2020-05-31</td>\n",
       "      <td>9132078.0</td>\n",
       "      <td>48489.0</td>\n",
       "      <td>3010.0</td>\n",
       "      <td>0.530974</td>\n",
       "      <td>6.207593</td>\n",
       "      <td>0.032961</td>\n",
       "    </tr>\n",
       "    <tr>\n",
       "      <th>6320</th>\n",
       "      <td>Centro-Oeste</td>\n",
       "      <td>DF</td>\n",
       "      <td>2020-05-31</td>\n",
       "      <td>3015268.0</td>\n",
       "      <td>9780.0</td>\n",
       "      <td>170.0</td>\n",
       "      <td>0.324349</td>\n",
       "      <td>1.738241</td>\n",
       "      <td>0.005638</td>\n",
       "    </tr>\n",
       "    <tr>\n",
       "      <th>5576</th>\n",
       "      <td>Sudeste</td>\n",
       "      <td>ES</td>\n",
       "      <td>2020-05-31</td>\n",
       "      <td>4018650.0</td>\n",
       "      <td>13690.0</td>\n",
       "      <td>604.0</td>\n",
       "      <td>0.340662</td>\n",
       "      <td>4.411980</td>\n",
       "      <td>0.015030</td>\n",
       "    </tr>\n",
       "    <tr>\n",
       "      <th>6234</th>\n",
       "      <td>Centro-Oeste</td>\n",
       "      <td>GO</td>\n",
       "      <td>2020-05-31</td>\n",
       "      <td>7018354.0</td>\n",
       "      <td>3702.0</td>\n",
       "      <td>124.0</td>\n",
       "      <td>0.052747</td>\n",
       "      <td>3.349541</td>\n",
       "      <td>0.001767</td>\n",
       "    </tr>\n",
       "    <tr>\n",
       "      <th>4770</th>\n",
       "      <td>Nordeste</td>\n",
       "      <td>MA</td>\n",
       "      <td>2020-05-31</td>\n",
       "      <td>7075181.0</td>\n",
       "      <td>34639.0</td>\n",
       "      <td>955.0</td>\n",
       "      <td>0.489585</td>\n",
       "      <td>2.757008</td>\n",
       "      <td>0.013498</td>\n",
       "    </tr>\n",
       "    <tr>\n",
       "      <th>5489</th>\n",
       "      <td>Sudeste</td>\n",
       "      <td>MG</td>\n",
       "      <td>2020-05-31</td>\n",
       "      <td>21168791.0</td>\n",
       "      <td>10464.0</td>\n",
       "      <td>271.0</td>\n",
       "      <td>0.049431</td>\n",
       "      <td>2.589832</td>\n",
       "      <td>0.001280</td>\n",
       "    </tr>\n",
       "    <tr>\n",
       "      <th>6081</th>\n",
       "      <td>Centro-Oeste</td>\n",
       "      <td>MS</td>\n",
       "      <td>2020-05-31</td>\n",
       "      <td>2778986.0</td>\n",
       "      <td>1489.0</td>\n",
       "      <td>20.0</td>\n",
       "      <td>0.053581</td>\n",
       "      <td>1.343183</td>\n",
       "      <td>0.000720</td>\n",
       "    </tr>\n",
       "    <tr>\n",
       "      <th>6154</th>\n",
       "      <td>Centro-Oeste</td>\n",
       "      <td>MT</td>\n",
       "      <td>2020-05-31</td>\n",
       "      <td>3484466.0</td>\n",
       "      <td>2429.0</td>\n",
       "      <td>61.0</td>\n",
       "      <td>0.069709</td>\n",
       "      <td>2.511322</td>\n",
       "      <td>0.001751</td>\n",
       "    </tr>\n",
       "    <tr>\n",
       "      <th>4551</th>\n",
       "      <td>Norte</td>\n",
       "      <td>PA</td>\n",
       "      <td>2020-05-31</td>\n",
       "      <td>8602865.0</td>\n",
       "      <td>37961.0</td>\n",
       "      <td>2923.0</td>\n",
       "      <td>0.441260</td>\n",
       "      <td>7.700008</td>\n",
       "      <td>0.033977</td>\n",
       "    </tr>\n",
       "    <tr>\n",
       "      <th>5073</th>\n",
       "      <td>Nordeste</td>\n",
       "      <td>PB</td>\n",
       "      <td>2020-05-31</td>\n",
       "      <td>4018127.0</td>\n",
       "      <td>13162.0</td>\n",
       "      <td>360.0</td>\n",
       "      <td>0.327566</td>\n",
       "      <td>2.735147</td>\n",
       "      <td>0.008959</td>\n",
       "    </tr>\n",
       "    <tr>\n",
       "      <th>5154</th>\n",
       "      <td>Nordeste</td>\n",
       "      <td>PE</td>\n",
       "      <td>2020-05-31</td>\n",
       "      <td>9557071.0</td>\n",
       "      <td>34450.0</td>\n",
       "      <td>2807.0</td>\n",
       "      <td>0.360466</td>\n",
       "      <td>8.148041</td>\n",
       "      <td>0.029371</td>\n",
       "    </tr>\n",
       "    <tr>\n",
       "      <th>4843</th>\n",
       "      <td>Nordeste</td>\n",
       "      <td>PI</td>\n",
       "      <td>2020-05-31</td>\n",
       "      <td>3273227.0</td>\n",
       "      <td>4931.0</td>\n",
       "      <td>161.0</td>\n",
       "      <td>0.150646</td>\n",
       "      <td>3.265058</td>\n",
       "      <td>0.004919</td>\n",
       "    </tr>\n",
       "    <tr>\n",
       "      <th>5841</th>\n",
       "      <td>Sul</td>\n",
       "      <td>PR</td>\n",
       "      <td>2020-05-31</td>\n",
       "      <td>11433957.0</td>\n",
       "      <td>4687.0</td>\n",
       "      <td>182.0</td>\n",
       "      <td>0.040992</td>\n",
       "      <td>3.883081</td>\n",
       "      <td>0.001592</td>\n",
       "    </tr>\n",
       "    <tr>\n",
       "      <th>5664</th>\n",
       "      <td>Sudeste</td>\n",
       "      <td>RJ</td>\n",
       "      <td>2020-05-31</td>\n",
       "      <td>17264943.0</td>\n",
       "      <td>53388.0</td>\n",
       "      <td>5344.0</td>\n",
       "      <td>0.309228</td>\n",
       "      <td>10.009740</td>\n",
       "      <td>0.030953</td>\n",
       "    </tr>\n",
       "    <tr>\n",
       "      <th>4999</th>\n",
       "      <td>Nordeste</td>\n",
       "      <td>RN</td>\n",
       "      <td>2020-05-31</td>\n",
       "      <td>3506853.0</td>\n",
       "      <td>8051.0</td>\n",
       "      <td>305.0</td>\n",
       "      <td>0.229579</td>\n",
       "      <td>3.788349</td>\n",
       "      <td>0.008697</td>\n",
       "    </tr>\n",
       "    <tr>\n",
       "      <th>4254</th>\n",
       "      <td>Norte</td>\n",
       "      <td>RO</td>\n",
       "      <td>2020-05-31</td>\n",
       "      <td>1777225.0</td>\n",
       "      <td>4942.0</td>\n",
       "      <td>156.0</td>\n",
       "      <td>0.278074</td>\n",
       "      <td>3.156617</td>\n",
       "      <td>0.008778</td>\n",
       "    </tr>\n",
       "    <tr>\n",
       "      <th>4477</th>\n",
       "      <td>Norte</td>\n",
       "      <td>RR</td>\n",
       "      <td>2020-05-31</td>\n",
       "      <td>605761.0</td>\n",
       "      <td>3474.0</td>\n",
       "      <td>116.0</td>\n",
       "      <td>0.573494</td>\n",
       "      <td>3.339090</td>\n",
       "      <td>0.019149</td>\n",
       "    </tr>\n",
       "    <tr>\n",
       "      <th>6004</th>\n",
       "      <td>Sul</td>\n",
       "      <td>RS</td>\n",
       "      <td>2020-05-31</td>\n",
       "      <td>11377239.0</td>\n",
       "      <td>9332.0</td>\n",
       "      <td>224.0</td>\n",
       "      <td>0.082023</td>\n",
       "      <td>2.400343</td>\n",
       "      <td>0.001969</td>\n",
       "    </tr>\n",
       "    <tr>\n",
       "      <th>5921</th>\n",
       "      <td>Sul</td>\n",
       "      <td>SC</td>\n",
       "      <td>2020-05-31</td>\n",
       "      <td>7164788.0</td>\n",
       "      <td>9037.0</td>\n",
       "      <td>143.0</td>\n",
       "      <td>0.126131</td>\n",
       "      <td>1.582384</td>\n",
       "      <td>0.001996</td>\n",
       "    </tr>\n",
       "    <tr>\n",
       "      <th>5317</th>\n",
       "      <td>Nordeste</td>\n",
       "      <td>SE</td>\n",
       "      <td>2020-05-31</td>\n",
       "      <td>2298696.0</td>\n",
       "      <td>6999.0</td>\n",
       "      <td>158.0</td>\n",
       "      <td>0.304477</td>\n",
       "      <td>2.257465</td>\n",
       "      <td>0.006873</td>\n",
       "    </tr>\n",
       "    <tr>\n",
       "      <th>5760</th>\n",
       "      <td>Sudeste</td>\n",
       "      <td>SP</td>\n",
       "      <td>2020-05-31</td>\n",
       "      <td>45919049.0</td>\n",
       "      <td>109698.0</td>\n",
       "      <td>7615.0</td>\n",
       "      <td>0.238894</td>\n",
       "      <td>6.941786</td>\n",
       "      <td>0.016584</td>\n",
       "    </tr>\n",
       "    <tr>\n",
       "      <th>4698</th>\n",
       "      <td>Norte</td>\n",
       "      <td>TO</td>\n",
       "      <td>2020-05-31</td>\n",
       "      <td>1572866.0</td>\n",
       "      <td>4176.0</td>\n",
       "      <td>73.0</td>\n",
       "      <td>0.265503</td>\n",
       "      <td>1.748084</td>\n",
       "      <td>0.004641</td>\n",
       "    </tr>\n",
       "  </tbody>\n",
       "</table>\n",
       "</div>"
      ],
      "text/plain": [
       "            regiao estado       data  populacaoTCU2019  casosAcumulado  \\\n",
       "4328         Norte     AC 2020-05-31          881935.0          6219.0   \n",
       "5239      Nordeste     AL 2020-05-31         3337357.0         10288.0   \n",
       "4406         Norte     AM 2020-05-31         4144597.0         41378.0   \n",
       "4624         Norte     AP 2020-05-31          845731.0          9602.0   \n",
       "5404      Nordeste     BA 2020-05-31        14873064.0         18392.0   \n",
       "4919      Nordeste     CE 2020-05-31         9132078.0         48489.0   \n",
       "6320  Centro-Oeste     DF 2020-05-31         3015268.0          9780.0   \n",
       "5576       Sudeste     ES 2020-05-31         4018650.0         13690.0   \n",
       "6234  Centro-Oeste     GO 2020-05-31         7018354.0          3702.0   \n",
       "4770      Nordeste     MA 2020-05-31         7075181.0         34639.0   \n",
       "5489       Sudeste     MG 2020-05-31        21168791.0         10464.0   \n",
       "6081  Centro-Oeste     MS 2020-05-31         2778986.0          1489.0   \n",
       "6154  Centro-Oeste     MT 2020-05-31         3484466.0          2429.0   \n",
       "4551         Norte     PA 2020-05-31         8602865.0         37961.0   \n",
       "5073      Nordeste     PB 2020-05-31         4018127.0         13162.0   \n",
       "5154      Nordeste     PE 2020-05-31         9557071.0         34450.0   \n",
       "4843      Nordeste     PI 2020-05-31         3273227.0          4931.0   \n",
       "5841           Sul     PR 2020-05-31        11433957.0          4687.0   \n",
       "5664       Sudeste     RJ 2020-05-31        17264943.0         53388.0   \n",
       "4999      Nordeste     RN 2020-05-31         3506853.0          8051.0   \n",
       "4254         Norte     RO 2020-05-31         1777225.0          4942.0   \n",
       "4477         Norte     RR 2020-05-31          605761.0          3474.0   \n",
       "6004           Sul     RS 2020-05-31        11377239.0          9332.0   \n",
       "5921           Sul     SC 2020-05-31         7164788.0          9037.0   \n",
       "5317      Nordeste     SE 2020-05-31         2298696.0          6999.0   \n",
       "5760       Sudeste     SP 2020-05-31        45919049.0        109698.0   \n",
       "4698         Norte     TO 2020-05-31         1572866.0          4176.0   \n",
       "\n",
       "      obitosAcumulado  contamRate  lethality_pct  deathRate  \n",
       "4328            148.0    0.705154       2.379804   0.016781  \n",
       "5239            443.0    0.308268       4.305988   0.013274  \n",
       "4406           2052.0    0.998360       4.959157   0.049510  \n",
       "4624            222.0    1.135349       2.312018   0.026249  \n",
       "5404            667.0    0.123660       3.626577   0.004485  \n",
       "4919           3010.0    0.530974       6.207593   0.032961  \n",
       "6320            170.0    0.324349       1.738241   0.005638  \n",
       "5576            604.0    0.340662       4.411980   0.015030  \n",
       "6234            124.0    0.052747       3.349541   0.001767  \n",
       "4770            955.0    0.489585       2.757008   0.013498  \n",
       "5489            271.0    0.049431       2.589832   0.001280  \n",
       "6081             20.0    0.053581       1.343183   0.000720  \n",
       "6154             61.0    0.069709       2.511322   0.001751  \n",
       "4551           2923.0    0.441260       7.700008   0.033977  \n",
       "5073            360.0    0.327566       2.735147   0.008959  \n",
       "5154           2807.0    0.360466       8.148041   0.029371  \n",
       "4843            161.0    0.150646       3.265058   0.004919  \n",
       "5841            182.0    0.040992       3.883081   0.001592  \n",
       "5664           5344.0    0.309228      10.009740   0.030953  \n",
       "4999            305.0    0.229579       3.788349   0.008697  \n",
       "4254            156.0    0.278074       3.156617   0.008778  \n",
       "4477            116.0    0.573494       3.339090   0.019149  \n",
       "6004            224.0    0.082023       2.400343   0.001969  \n",
       "5921            143.0    0.126131       1.582384   0.001996  \n",
       "5317            158.0    0.304477       2.257465   0.006873  \n",
       "5760           7615.0    0.238894       6.941786   0.016584  \n",
       "4698             73.0    0.265503       1.748084   0.004641  "
      ]
     },
     "execution_count": 152,
     "metadata": {},
     "output_type": "execute_result"
    }
   ],
   "source": [
    "normalCovid.sort_values(by=['estado'])"
   ]
  },
  {
   "cell_type": "markdown",
   "metadata": {},
   "source": [
    "#### Dataframe queries:"
   ]
  },
  {
   "cell_type": "code",
   "execution_count": 153,
   "metadata": {},
   "outputs": [
    {
     "data": {
      "text/html": [
       "<div>\n",
       "<style scoped>\n",
       "    .dataframe tbody tr th:only-of-type {\n",
       "        vertical-align: middle;\n",
       "    }\n",
       "\n",
       "    .dataframe tbody tr th {\n",
       "        vertical-align: top;\n",
       "    }\n",
       "\n",
       "    .dataframe thead th {\n",
       "        text-align: right;\n",
       "    }\n",
       "</style>\n",
       "<table border=\"1\" class=\"dataframe\">\n",
       "  <thead>\n",
       "    <tr style=\"text-align: right;\">\n",
       "      <th></th>\n",
       "      <th>regiao</th>\n",
       "      <th>estado</th>\n",
       "      <th>data</th>\n",
       "      <th>populacaoTCU2019</th>\n",
       "      <th>casosAcumulado</th>\n",
       "      <th>obitosAcumulado</th>\n",
       "      <th>contamRate</th>\n",
       "      <th>lethality_pct</th>\n",
       "      <th>deathRate</th>\n",
       "    </tr>\n",
       "  </thead>\n",
       "  <tbody>\n",
       "    <tr>\n",
       "      <th>4328</th>\n",
       "      <td>Norte</td>\n",
       "      <td>AC</td>\n",
       "      <td>2020-05-31</td>\n",
       "      <td>881935.0</td>\n",
       "      <td>6219.0</td>\n",
       "      <td>148.0</td>\n",
       "      <td>0.705154</td>\n",
       "      <td>2.379804</td>\n",
       "      <td>0.016781</td>\n",
       "    </tr>\n",
       "  </tbody>\n",
       "</table>\n",
       "</div>"
      ],
      "text/plain": [
       "     regiao estado       data  populacaoTCU2019  casosAcumulado  \\\n",
       "4328  Norte     AC 2020-05-31          881935.0          6219.0   \n",
       "\n",
       "      obitosAcumulado  contamRate  lethality_pct  deathRate  \n",
       "4328            148.0    0.705154       2.379804   0.016781  "
      ]
     },
     "execution_count": 153,
     "metadata": {},
     "output_type": "execute_result"
    }
   ],
   "source": [
    "normalCovid.query(\"estado=='AC'\")"
   ]
  },
  {
   "cell_type": "code",
   "execution_count": 154,
   "metadata": {},
   "outputs": [
    {
     "data": {
      "text/html": [
       "<div>\n",
       "<style scoped>\n",
       "    .dataframe tbody tr th:only-of-type {\n",
       "        vertical-align: middle;\n",
       "    }\n",
       "\n",
       "    .dataframe tbody tr th {\n",
       "        vertical-align: top;\n",
       "    }\n",
       "\n",
       "    .dataframe thead th {\n",
       "        text-align: right;\n",
       "    }\n",
       "</style>\n",
       "<table border=\"1\" class=\"dataframe\">\n",
       "  <thead>\n",
       "    <tr style=\"text-align: right;\">\n",
       "      <th></th>\n",
       "      <th>regiao</th>\n",
       "      <th>estado</th>\n",
       "      <th>data</th>\n",
       "      <th>populacaoTCU2019</th>\n",
       "      <th>casosAcumulado</th>\n",
       "      <th>obitosAcumulado</th>\n",
       "      <th>contamRate</th>\n",
       "      <th>lethality_pct</th>\n",
       "      <th>deathRate</th>\n",
       "    </tr>\n",
       "  </thead>\n",
       "  <tbody>\n",
       "    <tr>\n",
       "      <th>4406</th>\n",
       "      <td>Norte</td>\n",
       "      <td>AM</td>\n",
       "      <td>2020-05-31</td>\n",
       "      <td>4144597.0</td>\n",
       "      <td>41378.0</td>\n",
       "      <td>2052.0</td>\n",
       "      <td>0.998360</td>\n",
       "      <td>4.959157</td>\n",
       "      <td>0.049510</td>\n",
       "    </tr>\n",
       "    <tr>\n",
       "      <th>4551</th>\n",
       "      <td>Norte</td>\n",
       "      <td>PA</td>\n",
       "      <td>2020-05-31</td>\n",
       "      <td>8602865.0</td>\n",
       "      <td>37961.0</td>\n",
       "      <td>2923.0</td>\n",
       "      <td>0.441260</td>\n",
       "      <td>7.700008</td>\n",
       "      <td>0.033977</td>\n",
       "    </tr>\n",
       "    <tr>\n",
       "      <th>4919</th>\n",
       "      <td>Nordeste</td>\n",
       "      <td>CE</td>\n",
       "      <td>2020-05-31</td>\n",
       "      <td>9132078.0</td>\n",
       "      <td>48489.0</td>\n",
       "      <td>3010.0</td>\n",
       "      <td>0.530974</td>\n",
       "      <td>6.207593</td>\n",
       "      <td>0.032961</td>\n",
       "    </tr>\n",
       "    <tr>\n",
       "      <th>5154</th>\n",
       "      <td>Nordeste</td>\n",
       "      <td>PE</td>\n",
       "      <td>2020-05-31</td>\n",
       "      <td>9557071.0</td>\n",
       "      <td>34450.0</td>\n",
       "      <td>2807.0</td>\n",
       "      <td>0.360466</td>\n",
       "      <td>8.148041</td>\n",
       "      <td>0.029371</td>\n",
       "    </tr>\n",
       "    <tr>\n",
       "      <th>5664</th>\n",
       "      <td>Sudeste</td>\n",
       "      <td>RJ</td>\n",
       "      <td>2020-05-31</td>\n",
       "      <td>17264943.0</td>\n",
       "      <td>53388.0</td>\n",
       "      <td>5344.0</td>\n",
       "      <td>0.309228</td>\n",
       "      <td>10.009740</td>\n",
       "      <td>0.030953</td>\n",
       "    </tr>\n",
       "    <tr>\n",
       "      <th>5760</th>\n",
       "      <td>Sudeste</td>\n",
       "      <td>SP</td>\n",
       "      <td>2020-05-31</td>\n",
       "      <td>45919049.0</td>\n",
       "      <td>109698.0</td>\n",
       "      <td>7615.0</td>\n",
       "      <td>0.238894</td>\n",
       "      <td>6.941786</td>\n",
       "      <td>0.016584</td>\n",
       "    </tr>\n",
       "  </tbody>\n",
       "</table>\n",
       "</div>"
      ],
      "text/plain": [
       "        regiao estado       data  populacaoTCU2019  casosAcumulado  \\\n",
       "4406     Norte     AM 2020-05-31         4144597.0         41378.0   \n",
       "4551     Norte     PA 2020-05-31         8602865.0         37961.0   \n",
       "4919  Nordeste     CE 2020-05-31         9132078.0         48489.0   \n",
       "5154  Nordeste     PE 2020-05-31         9557071.0         34450.0   \n",
       "5664   Sudeste     RJ 2020-05-31        17264943.0         53388.0   \n",
       "5760   Sudeste     SP 2020-05-31        45919049.0        109698.0   \n",
       "\n",
       "      obitosAcumulado  contamRate  lethality_pct  deathRate  \n",
       "4406           2052.0    0.998360       4.959157   0.049510  \n",
       "4551           2923.0    0.441260       7.700008   0.033977  \n",
       "4919           3010.0    0.530974       6.207593   0.032961  \n",
       "5154           2807.0    0.360466       8.148041   0.029371  \n",
       "5664           5344.0    0.309228      10.009740   0.030953  \n",
       "5760           7615.0    0.238894       6.941786   0.016584  "
      ]
     },
     "execution_count": 154,
     "metadata": {},
     "output_type": "execute_result"
    }
   ],
   "source": [
    "normalCovid.query(\"obitosAcumulado > 1000\")"
   ]
  },
  {
   "cell_type": "code",
   "execution_count": 155,
   "metadata": {},
   "outputs": [
    {
     "data": {
      "text/html": [
       "<div>\n",
       "<style scoped>\n",
       "    .dataframe tbody tr th:only-of-type {\n",
       "        vertical-align: middle;\n",
       "    }\n",
       "\n",
       "    .dataframe tbody tr th {\n",
       "        vertical-align: top;\n",
       "    }\n",
       "\n",
       "    .dataframe thead th {\n",
       "        text-align: right;\n",
       "    }\n",
       "</style>\n",
       "<table border=\"1\" class=\"dataframe\">\n",
       "  <thead>\n",
       "    <tr style=\"text-align: right;\">\n",
       "      <th></th>\n",
       "      <th>regiao</th>\n",
       "      <th>estado</th>\n",
       "      <th>data</th>\n",
       "      <th>populacaoTCU2019</th>\n",
       "      <th>casosAcumulado</th>\n",
       "      <th>obitosAcumulado</th>\n",
       "      <th>contamRate</th>\n",
       "      <th>lethality_pct</th>\n",
       "      <th>deathRate</th>\n",
       "    </tr>\n",
       "  </thead>\n",
       "  <tbody>\n",
       "    <tr>\n",
       "      <th>4406</th>\n",
       "      <td>Norte</td>\n",
       "      <td>AM</td>\n",
       "      <td>2020-05-31</td>\n",
       "      <td>4144597.0</td>\n",
       "      <td>41378.0</td>\n",
       "      <td>2052.0</td>\n",
       "      <td>0.998360</td>\n",
       "      <td>4.959157</td>\n",
       "      <td>0.049510</td>\n",
       "    </tr>\n",
       "    <tr>\n",
       "      <th>4551</th>\n",
       "      <td>Norte</td>\n",
       "      <td>PA</td>\n",
       "      <td>2020-05-31</td>\n",
       "      <td>8602865.0</td>\n",
       "      <td>37961.0</td>\n",
       "      <td>2923.0</td>\n",
       "      <td>0.441260</td>\n",
       "      <td>7.700008</td>\n",
       "      <td>0.033977</td>\n",
       "    </tr>\n",
       "    <tr>\n",
       "      <th>4919</th>\n",
       "      <td>Nordeste</td>\n",
       "      <td>CE</td>\n",
       "      <td>2020-05-31</td>\n",
       "      <td>9132078.0</td>\n",
       "      <td>48489.0</td>\n",
       "      <td>3010.0</td>\n",
       "      <td>0.530974</td>\n",
       "      <td>6.207593</td>\n",
       "      <td>0.032961</td>\n",
       "    </tr>\n",
       "    <tr>\n",
       "      <th>5154</th>\n",
       "      <td>Nordeste</td>\n",
       "      <td>PE</td>\n",
       "      <td>2020-05-31</td>\n",
       "      <td>9557071.0</td>\n",
       "      <td>34450.0</td>\n",
       "      <td>2807.0</td>\n",
       "      <td>0.360466</td>\n",
       "      <td>8.148041</td>\n",
       "      <td>0.029371</td>\n",
       "    </tr>\n",
       "    <tr>\n",
       "      <th>5664</th>\n",
       "      <td>Sudeste</td>\n",
       "      <td>RJ</td>\n",
       "      <td>2020-05-31</td>\n",
       "      <td>17264943.0</td>\n",
       "      <td>53388.0</td>\n",
       "      <td>5344.0</td>\n",
       "      <td>0.309228</td>\n",
       "      <td>10.009740</td>\n",
       "      <td>0.030953</td>\n",
       "    </tr>\n",
       "    <tr>\n",
       "      <th>5760</th>\n",
       "      <td>Sudeste</td>\n",
       "      <td>SP</td>\n",
       "      <td>2020-05-31</td>\n",
       "      <td>45919049.0</td>\n",
       "      <td>109698.0</td>\n",
       "      <td>7615.0</td>\n",
       "      <td>0.238894</td>\n",
       "      <td>6.941786</td>\n",
       "      <td>0.016584</td>\n",
       "    </tr>\n",
       "  </tbody>\n",
       "</table>\n",
       "</div>"
      ],
      "text/plain": [
       "        regiao estado       data  populacaoTCU2019  casosAcumulado  \\\n",
       "4406     Norte     AM 2020-05-31         4144597.0         41378.0   \n",
       "4551     Norte     PA 2020-05-31         8602865.0         37961.0   \n",
       "4919  Nordeste     CE 2020-05-31         9132078.0         48489.0   \n",
       "5154  Nordeste     PE 2020-05-31         9557071.0         34450.0   \n",
       "5664   Sudeste     RJ 2020-05-31        17264943.0         53388.0   \n",
       "5760   Sudeste     SP 2020-05-31        45919049.0        109698.0   \n",
       "\n",
       "      obitosAcumulado  contamRate  lethality_pct  deathRate  \n",
       "4406           2052.0    0.998360       4.959157   0.049510  \n",
       "4551           2923.0    0.441260       7.700008   0.033977  \n",
       "4919           3010.0    0.530974       6.207593   0.032961  \n",
       "5154           2807.0    0.360466       8.148041   0.029371  \n",
       "5664           5344.0    0.309228      10.009740   0.030953  \n",
       "5760           7615.0    0.238894       6.941786   0.016584  "
      ]
     },
     "execution_count": 155,
     "metadata": {},
     "output_type": "execute_result"
    }
   ],
   "source": [
    "normalCovid.query(\"obitosAcumulado > 1000\")"
   ]
  },
  {
   "cell_type": "markdown",
   "metadata": {},
   "source": [
    "-----------------"
   ]
  },
  {
   "cell_type": "markdown",
   "metadata": {},
   "source": [
    "### Four-Quadrant chart via Plotly:"
   ]
  },
  {
   "cell_type": "code",
   "execution_count": 156,
   "metadata": {},
   "outputs": [],
   "source": [
    "import plotly.express as px\n",
    "import plotly.graph_objects as go\n",
    "## List of colormaps available in: https://plotly.com/python/builtin-colorscales/"
   ]
  },
  {
   "cell_type": "code",
   "execution_count": 160,
   "metadata": {
    "scrolled": false
   },
   "outputs": [
    {
     "data": {
      "application/vnd.plotly.v1+json": {
       "config": {
        "plotlyServerURL": "https://plot.ly"
       },
       "data": [
        {
         "hovertemplate": "lethality_pct=%{x}<br>contamRate=%{y}<br>deathRate=%{marker.size}<br>estado=%{text}<br>obitosAcumulado=%{marker.color}<extra></extra>",
         "legendgroup": "",
         "marker": {
          "color": [
           156,
           148,
           2052,
           116,
           2923,
           222,
           73,
           955,
           161,
           3010,
           305,
           360,
           2807,
           443,
           158,
           667,
           271,
           604,
           5344,
           7615,
           182,
           143,
           224,
           20,
           61,
           124,
           170
          ],
          "coloraxis": "coloraxis",
          "size": [
           0.008777729325212058,
           0.016781282067272533,
           0.049510241888415206,
           0.019149466538783445,
           0.033977052993392313,
           0.026249481218023226,
           0.004641209104907856,
           0.013497887898556942,
           0.00491869338729028,
           0.03296073467616023,
           0.008697256486085958,
           0.008959398246994184,
           0.02937092337181549,
           0.013273976982384564,
           0.006873462171596418,
           0.004484617292038816,
           0.0012801864782925015,
           0.015029922984086697,
           0.030952896861576665,
           0.01658353159709383,
           0.0015917499077528453,
           0.0019958720341760284,
           0.0019688432316487333,
           0.000719686964957722,
           0.0017506269253308828,
           0.0017667960322320588,
           0.005637973142022534
          ],
          "sizemode": "area",
          "sizeref": 3.0943901180259504e-05,
          "symbol": "circle"
         },
         "mode": "markers+text",
         "name": "",
         "orientation": "v",
         "showlegend": false,
         "text": [
          "RO",
          "AC",
          "AM",
          "RR",
          "PA",
          "AP",
          "TO",
          "MA",
          "PI",
          "CE",
          "RN",
          "PB",
          "PE",
          "AL",
          "SE",
          "BA",
          "MG",
          "ES",
          "RJ",
          "SP",
          "PR",
          "SC",
          "RS",
          "MS",
          "MT",
          "GO",
          "DF"
         ],
         "textfont": {
          "family": "sans serif",
          "size": 13
         },
         "textposition": "middle center",
         "type": "scatter",
         "x": [
          3.1566167543504657,
          2.37980382698183,
          4.959157039972933,
          3.3390903857225105,
          7.700007902847659,
          2.3120183295146846,
          1.7480842911877392,
          2.7570079967666503,
          3.265057797606976,
          6.20759347480872,
          3.788349273382188,
          2.735146634250114,
          8.148040638606677,
          4.305987558320373,
          2.2574653521931705,
          3.626576772509787,
          2.5898318042813453,
          4.411979547114682,
          10.009740016483105,
          6.9417856296377325,
          3.883080861958609,
          1.5823835343587471,
          2.400342906129447,
          1.3431833445265278,
          2.5113215314944424,
          3.349540788762831,
          1.738241308793456
         ],
         "xaxis": "x",
         "y": [
          0.2780739636230641,
          0.7051540079484316,
          0.9983600335569417,
          0.5734935065149457,
          0.44125997560115143,
          1.135349183132698,
          0.265502592083496,
          0.4895846480817947,
          0.1506464415697414,
          0.5309744397715395,
          0.22957905563763292,
          0.32756555479704846,
          0.3604660884072118,
          0.308267889830186,
          0.30447697303166665,
          0.12365979195678846,
          0.04943125944226101,
          0.3406616649869981,
          0.3092277802481016,
          0.2388943203070255,
          0.04099193306394278,
          0.12613073827166973,
          0.08202341534708026,
          0.0535806945411024,
          0.06970939019063467,
          0.05274741057518615,
          0.32434927840576694
         ],
         "yaxis": "y"
        }
       ],
       "layout": {
        "annotations": [
         {
          "align": "center",
          "bgcolor": "#E9967A",
          "bordercolor": "#708090",
          "borderwidth": 2,
          "font": {
           "color": "DarkRed"
          },
          "height": 20,
          "showarrow": false,
          "text": "<b>Zona crítica</b>",
          "width": 110,
          "x": 0.98,
          "xref": "paper",
          "y": 0.99,
          "yref": "paper"
         },
         {
          "align": "center",
          "bgcolor": "#DCDCDC",
          "bordercolor": "#708090",
          "borderwidth": 2,
          "font": {
           "color": "black"
          },
          "height": 20,
          "showarrow": false,
          "text": "Alta letalidade",
          "width": 110,
          "x": 0.98,
          "xref": "paper",
          "y": 0.01,
          "yref": "paper"
         },
         {
          "align": "center",
          "bgcolor": "#DCDCDC",
          "bordercolor": "#708090",
          "borderwidth": 2,
          "font": {
           "color": "DarkRed"
          },
          "height": 20,
          "showarrow": false,
          "text": "Alta contaminação",
          "width": 110,
          "x": 0,
          "xref": "paper",
          "y": 0.99,
          "yref": "paper"
         },
         {
          "align": "center",
          "bgcolor": "#DCDCDC",
          "bordercolor": "#708090",
          "borderwidth": 2,
          "font": {
           "color": "black"
          },
          "height": 20,
          "showarrow": false,
          "text": "Zona controlada",
          "width": 110,
          "x": 0,
          "xref": "paper",
          "y": 0.01,
          "yref": "paper"
         }
        ],
        "coloraxis": {
         "colorbar": {
          "title": {
           "text": "<b>Óbitos <br>acumulados</b>"
          }
         },
         "colorscale": [
          [
           0,
           "rgb(252, 222, 156)"
          ],
          [
           0.16666666666666666,
           "rgb(250, 164, 118)"
          ],
          [
           0.3333333333333333,
           "rgb(240, 116, 110)"
          ],
          [
           0.5,
           "rgb(227, 79, 111)"
          ],
          [
           0.6666666666666666,
           "rgb(220, 57, 119)"
          ],
          [
           0.8333333333333334,
           "rgb(185, 37, 122)"
          ],
          [
           1,
           "rgb(124, 29, 111)"
          ]
         ]
        },
        "height": 520,
        "hovermode": false,
        "legend": {
         "itemsizing": "constant",
         "tracegroupgap": 0
        },
        "margin": {
         "t": 60
        },
        "plot_bgcolor": "rgb(245,245,245)",
        "shapes": [
         {
          "line": {
           "color": "gray",
           "dash": "dashdot",
           "width": 1
          },
          "type": "line",
          "x0": 6,
          "x1": 6,
          "xref": "x",
          "y0": 0,
          "y1": 0.8,
          "yref": "y"
         },
         {
          "line": {
           "color": "gray",
           "dash": "dashdot",
           "width": 1
          },
          "type": "line",
          "x0": 0,
          "x1": 12,
          "xref": "x",
          "y0": 0.4,
          "y1": 0.4,
          "yref": "y"
         }
        ],
        "template": {
         "data": {
          "bar": [
           {
            "error_x": {
             "color": "#2a3f5f"
            },
            "error_y": {
             "color": "#2a3f5f"
            },
            "marker": {
             "line": {
              "color": "#E5ECF6",
              "width": 0.5
             }
            },
            "type": "bar"
           }
          ],
          "barpolar": [
           {
            "marker": {
             "line": {
              "color": "#E5ECF6",
              "width": 0.5
             }
            },
            "type": "barpolar"
           }
          ],
          "carpet": [
           {
            "aaxis": {
             "endlinecolor": "#2a3f5f",
             "gridcolor": "white",
             "linecolor": "white",
             "minorgridcolor": "white",
             "startlinecolor": "#2a3f5f"
            },
            "baxis": {
             "endlinecolor": "#2a3f5f",
             "gridcolor": "white",
             "linecolor": "white",
             "minorgridcolor": "white",
             "startlinecolor": "#2a3f5f"
            },
            "type": "carpet"
           }
          ],
          "choropleth": [
           {
            "colorbar": {
             "outlinewidth": 0,
             "ticks": ""
            },
            "type": "choropleth"
           }
          ],
          "contour": [
           {
            "colorbar": {
             "outlinewidth": 0,
             "ticks": ""
            },
            "colorscale": [
             [
              0,
              "#0d0887"
             ],
             [
              0.1111111111111111,
              "#46039f"
             ],
             [
              0.2222222222222222,
              "#7201a8"
             ],
             [
              0.3333333333333333,
              "#9c179e"
             ],
             [
              0.4444444444444444,
              "#bd3786"
             ],
             [
              0.5555555555555556,
              "#d8576b"
             ],
             [
              0.6666666666666666,
              "#ed7953"
             ],
             [
              0.7777777777777778,
              "#fb9f3a"
             ],
             [
              0.8888888888888888,
              "#fdca26"
             ],
             [
              1,
              "#f0f921"
             ]
            ],
            "type": "contour"
           }
          ],
          "contourcarpet": [
           {
            "colorbar": {
             "outlinewidth": 0,
             "ticks": ""
            },
            "type": "contourcarpet"
           }
          ],
          "heatmap": [
           {
            "colorbar": {
             "outlinewidth": 0,
             "ticks": ""
            },
            "colorscale": [
             [
              0,
              "#0d0887"
             ],
             [
              0.1111111111111111,
              "#46039f"
             ],
             [
              0.2222222222222222,
              "#7201a8"
             ],
             [
              0.3333333333333333,
              "#9c179e"
             ],
             [
              0.4444444444444444,
              "#bd3786"
             ],
             [
              0.5555555555555556,
              "#d8576b"
             ],
             [
              0.6666666666666666,
              "#ed7953"
             ],
             [
              0.7777777777777778,
              "#fb9f3a"
             ],
             [
              0.8888888888888888,
              "#fdca26"
             ],
             [
              1,
              "#f0f921"
             ]
            ],
            "type": "heatmap"
           }
          ],
          "heatmapgl": [
           {
            "colorbar": {
             "outlinewidth": 0,
             "ticks": ""
            },
            "colorscale": [
             [
              0,
              "#0d0887"
             ],
             [
              0.1111111111111111,
              "#46039f"
             ],
             [
              0.2222222222222222,
              "#7201a8"
             ],
             [
              0.3333333333333333,
              "#9c179e"
             ],
             [
              0.4444444444444444,
              "#bd3786"
             ],
             [
              0.5555555555555556,
              "#d8576b"
             ],
             [
              0.6666666666666666,
              "#ed7953"
             ],
             [
              0.7777777777777778,
              "#fb9f3a"
             ],
             [
              0.8888888888888888,
              "#fdca26"
             ],
             [
              1,
              "#f0f921"
             ]
            ],
            "type": "heatmapgl"
           }
          ],
          "histogram": [
           {
            "marker": {
             "colorbar": {
              "outlinewidth": 0,
              "ticks": ""
             }
            },
            "type": "histogram"
           }
          ],
          "histogram2d": [
           {
            "colorbar": {
             "outlinewidth": 0,
             "ticks": ""
            },
            "colorscale": [
             [
              0,
              "#0d0887"
             ],
             [
              0.1111111111111111,
              "#46039f"
             ],
             [
              0.2222222222222222,
              "#7201a8"
             ],
             [
              0.3333333333333333,
              "#9c179e"
             ],
             [
              0.4444444444444444,
              "#bd3786"
             ],
             [
              0.5555555555555556,
              "#d8576b"
             ],
             [
              0.6666666666666666,
              "#ed7953"
             ],
             [
              0.7777777777777778,
              "#fb9f3a"
             ],
             [
              0.8888888888888888,
              "#fdca26"
             ],
             [
              1,
              "#f0f921"
             ]
            ],
            "type": "histogram2d"
           }
          ],
          "histogram2dcontour": [
           {
            "colorbar": {
             "outlinewidth": 0,
             "ticks": ""
            },
            "colorscale": [
             [
              0,
              "#0d0887"
             ],
             [
              0.1111111111111111,
              "#46039f"
             ],
             [
              0.2222222222222222,
              "#7201a8"
             ],
             [
              0.3333333333333333,
              "#9c179e"
             ],
             [
              0.4444444444444444,
              "#bd3786"
             ],
             [
              0.5555555555555556,
              "#d8576b"
             ],
             [
              0.6666666666666666,
              "#ed7953"
             ],
             [
              0.7777777777777778,
              "#fb9f3a"
             ],
             [
              0.8888888888888888,
              "#fdca26"
             ],
             [
              1,
              "#f0f921"
             ]
            ],
            "type": "histogram2dcontour"
           }
          ],
          "mesh3d": [
           {
            "colorbar": {
             "outlinewidth": 0,
             "ticks": ""
            },
            "type": "mesh3d"
           }
          ],
          "parcoords": [
           {
            "line": {
             "colorbar": {
              "outlinewidth": 0,
              "ticks": ""
             }
            },
            "type": "parcoords"
           }
          ],
          "pie": [
           {
            "automargin": true,
            "type": "pie"
           }
          ],
          "scatter": [
           {
            "marker": {
             "colorbar": {
              "outlinewidth": 0,
              "ticks": ""
             }
            },
            "type": "scatter"
           }
          ],
          "scatter3d": [
           {
            "line": {
             "colorbar": {
              "outlinewidth": 0,
              "ticks": ""
             }
            },
            "marker": {
             "colorbar": {
              "outlinewidth": 0,
              "ticks": ""
             }
            },
            "type": "scatter3d"
           }
          ],
          "scattercarpet": [
           {
            "marker": {
             "colorbar": {
              "outlinewidth": 0,
              "ticks": ""
             }
            },
            "type": "scattercarpet"
           }
          ],
          "scattergeo": [
           {
            "marker": {
             "colorbar": {
              "outlinewidth": 0,
              "ticks": ""
             }
            },
            "type": "scattergeo"
           }
          ],
          "scattergl": [
           {
            "marker": {
             "colorbar": {
              "outlinewidth": 0,
              "ticks": ""
             }
            },
            "type": "scattergl"
           }
          ],
          "scattermapbox": [
           {
            "marker": {
             "colorbar": {
              "outlinewidth": 0,
              "ticks": ""
             }
            },
            "type": "scattermapbox"
           }
          ],
          "scatterpolar": [
           {
            "marker": {
             "colorbar": {
              "outlinewidth": 0,
              "ticks": ""
             }
            },
            "type": "scatterpolar"
           }
          ],
          "scatterpolargl": [
           {
            "marker": {
             "colorbar": {
              "outlinewidth": 0,
              "ticks": ""
             }
            },
            "type": "scatterpolargl"
           }
          ],
          "scatterternary": [
           {
            "marker": {
             "colorbar": {
              "outlinewidth": 0,
              "ticks": ""
             }
            },
            "type": "scatterternary"
           }
          ],
          "surface": [
           {
            "colorbar": {
             "outlinewidth": 0,
             "ticks": ""
            },
            "colorscale": [
             [
              0,
              "#0d0887"
             ],
             [
              0.1111111111111111,
              "#46039f"
             ],
             [
              0.2222222222222222,
              "#7201a8"
             ],
             [
              0.3333333333333333,
              "#9c179e"
             ],
             [
              0.4444444444444444,
              "#bd3786"
             ],
             [
              0.5555555555555556,
              "#d8576b"
             ],
             [
              0.6666666666666666,
              "#ed7953"
             ],
             [
              0.7777777777777778,
              "#fb9f3a"
             ],
             [
              0.8888888888888888,
              "#fdca26"
             ],
             [
              1,
              "#f0f921"
             ]
            ],
            "type": "surface"
           }
          ],
          "table": [
           {
            "cells": {
             "fill": {
              "color": "#EBF0F8"
             },
             "line": {
              "color": "white"
             }
            },
            "header": {
             "fill": {
              "color": "#C8D4E3"
             },
             "line": {
              "color": "white"
             }
            },
            "type": "table"
           }
          ]
         },
         "layout": {
          "annotationdefaults": {
           "arrowcolor": "#2a3f5f",
           "arrowhead": 0,
           "arrowwidth": 1
          },
          "coloraxis": {
           "colorbar": {
            "outlinewidth": 0,
            "ticks": ""
           }
          },
          "colorscale": {
           "diverging": [
            [
             0,
             "#8e0152"
            ],
            [
             0.1,
             "#c51b7d"
            ],
            [
             0.2,
             "#de77ae"
            ],
            [
             0.3,
             "#f1b6da"
            ],
            [
             0.4,
             "#fde0ef"
            ],
            [
             0.5,
             "#f7f7f7"
            ],
            [
             0.6,
             "#e6f5d0"
            ],
            [
             0.7,
             "#b8e186"
            ],
            [
             0.8,
             "#7fbc41"
            ],
            [
             0.9,
             "#4d9221"
            ],
            [
             1,
             "#276419"
            ]
           ],
           "sequential": [
            [
             0,
             "#0d0887"
            ],
            [
             0.1111111111111111,
             "#46039f"
            ],
            [
             0.2222222222222222,
             "#7201a8"
            ],
            [
             0.3333333333333333,
             "#9c179e"
            ],
            [
             0.4444444444444444,
             "#bd3786"
            ],
            [
             0.5555555555555556,
             "#d8576b"
            ],
            [
             0.6666666666666666,
             "#ed7953"
            ],
            [
             0.7777777777777778,
             "#fb9f3a"
            ],
            [
             0.8888888888888888,
             "#fdca26"
            ],
            [
             1,
             "#f0f921"
            ]
           ],
           "sequentialminus": [
            [
             0,
             "#0d0887"
            ],
            [
             0.1111111111111111,
             "#46039f"
            ],
            [
             0.2222222222222222,
             "#7201a8"
            ],
            [
             0.3333333333333333,
             "#9c179e"
            ],
            [
             0.4444444444444444,
             "#bd3786"
            ],
            [
             0.5555555555555556,
             "#d8576b"
            ],
            [
             0.6666666666666666,
             "#ed7953"
            ],
            [
             0.7777777777777778,
             "#fb9f3a"
            ],
            [
             0.8888888888888888,
             "#fdca26"
            ],
            [
             1,
             "#f0f921"
            ]
           ]
          },
          "colorway": [
           "#636efa",
           "#EF553B",
           "#00cc96",
           "#ab63fa",
           "#FFA15A",
           "#19d3f3",
           "#FF6692",
           "#B6E880",
           "#FF97FF",
           "#FECB52"
          ],
          "font": {
           "color": "#2a3f5f"
          },
          "geo": {
           "bgcolor": "white",
           "lakecolor": "white",
           "landcolor": "#E5ECF6",
           "showlakes": true,
           "showland": true,
           "subunitcolor": "white"
          },
          "hoverlabel": {
           "align": "left"
          },
          "hovermode": "closest",
          "mapbox": {
           "style": "light"
          },
          "paper_bgcolor": "white",
          "plot_bgcolor": "#E5ECF6",
          "polar": {
           "angularaxis": {
            "gridcolor": "white",
            "linecolor": "white",
            "ticks": ""
           },
           "bgcolor": "#E5ECF6",
           "radialaxis": {
            "gridcolor": "white",
            "linecolor": "white",
            "ticks": ""
           }
          },
          "scene": {
           "xaxis": {
            "backgroundcolor": "#E5ECF6",
            "gridcolor": "white",
            "gridwidth": 2,
            "linecolor": "white",
            "showbackground": true,
            "ticks": "",
            "zerolinecolor": "white"
           },
           "yaxis": {
            "backgroundcolor": "#E5ECF6",
            "gridcolor": "white",
            "gridwidth": 2,
            "linecolor": "white",
            "showbackground": true,
            "ticks": "",
            "zerolinecolor": "white"
           },
           "zaxis": {
            "backgroundcolor": "#E5ECF6",
            "gridcolor": "white",
            "gridwidth": 2,
            "linecolor": "white",
            "showbackground": true,
            "ticks": "",
            "zerolinecolor": "white"
           }
          },
          "shapedefaults": {
           "line": {
            "color": "#2a3f5f"
           }
          },
          "ternary": {
           "aaxis": {
            "gridcolor": "white",
            "linecolor": "white",
            "ticks": ""
           },
           "baxis": {
            "gridcolor": "white",
            "linecolor": "white",
            "ticks": ""
           },
           "bgcolor": "#E5ECF6",
           "caxis": {
            "gridcolor": "white",
            "linecolor": "white",
            "ticks": ""
           }
          },
          "title": {
           "x": 0.05
          },
          "xaxis": {
           "automargin": true,
           "gridcolor": "white",
           "linecolor": "white",
           "ticks": "",
           "title": {
            "standoff": 15
           },
           "zerolinecolor": "white",
           "zerolinewidth": 2
          },
          "yaxis": {
           "automargin": true,
           "gridcolor": "white",
           "linecolor": "white",
           "ticks": "",
           "title": {
            "standoff": 15
           },
           "zerolinecolor": "white",
           "zerolinewidth": 2
          }
         }
        },
        "title": {
         "text": "Relação entre número de casos e letalidade da COVID-19 no Brasil, por estado - 2020-05-31"
        },
        "width": 980,
        "xaxis": {
         "anchor": "y",
         "autorange": false,
         "domain": [
          0,
          1
         ],
         "range": [
          0,
          12
         ],
         "title": {
          "text": "<b>Letalidade (% óbitos/casos)</b>"
         },
         "type": "linear"
        },
        "yaxis": {
         "anchor": "x",
         "autorange": false,
         "domain": [
          0,
          1
         ],
         "range": [
          0,
          0.8
         ],
         "title": {
          "text": "<b>Contaminação (% casos/população)</b>"
         },
         "type": "linear"
        }
       }
      },
      "text/html": [
       "<div>\n",
       "        \n",
       "        \n",
       "            <div id=\"2b580423-d932-4ae6-aff1-f53a740d591f\" class=\"plotly-graph-div\" style=\"height:520px; width:980px;\"></div>\n",
       "            <script type=\"text/javascript\">\n",
       "                require([\"plotly\"], function(Plotly) {\n",
       "                    window.PLOTLYENV=window.PLOTLYENV || {};\n",
       "                    \n",
       "                if (document.getElementById(\"2b580423-d932-4ae6-aff1-f53a740d591f\")) {\n",
       "                    Plotly.newPlot(\n",
       "                        '2b580423-d932-4ae6-aff1-f53a740d591f',\n",
       "                        [{\"hovertemplate\": \"lethality_pct=%{x}<br>contamRate=%{y}<br>deathRate=%{marker.size}<br>estado=%{text}<br>obitosAcumulado=%{marker.color}<extra></extra>\", \"legendgroup\": \"\", \"marker\": {\"color\": [156.0, 148.0, 2052.0, 116.0, 2923.0, 222.0, 73.0, 955.0, 161.0, 3010.0, 305.0, 360.0, 2807.0, 443.0, 158.0, 667.0, 271.0, 604.0, 5344.0, 7615.0, 182.0, 143.0, 224.0, 20.0, 61.0, 124.0, 170.0], \"coloraxis\": \"coloraxis\", \"size\": [0.008777729325212058, 0.016781282067272533, 0.049510241888415206, 0.019149466538783445, 0.033977052993392313, 0.026249481218023226, 0.004641209104907856, 0.013497887898556942, 0.00491869338729028, 0.03296073467616023, 0.008697256486085958, 0.008959398246994184, 0.02937092337181549, 0.013273976982384564, 0.006873462171596418, 0.004484617292038816, 0.0012801864782925015, 0.015029922984086697, 0.030952896861576665, 0.01658353159709383, 0.0015917499077528453, 0.0019958720341760284, 0.0019688432316487333, 0.000719686964957722, 0.0017506269253308828, 0.0017667960322320588, 0.005637973142022534], \"sizemode\": \"area\", \"sizeref\": 3.0943901180259504e-05, \"symbol\": \"circle\"}, \"mode\": \"markers+text\", \"name\": \"\", \"orientation\": \"v\", \"showlegend\": false, \"text\": [\"RO\", \"AC\", \"AM\", \"RR\", \"PA\", \"AP\", \"TO\", \"MA\", \"PI\", \"CE\", \"RN\", \"PB\", \"PE\", \"AL\", \"SE\", \"BA\", \"MG\", \"ES\", \"RJ\", \"SP\", \"PR\", \"SC\", \"RS\", \"MS\", \"MT\", \"GO\", \"DF\"], \"textfont\": {\"family\": \"sans serif\", \"size\": 13}, \"textposition\": \"middle center\", \"type\": \"scatter\", \"x\": [3.1566167543504657, 2.37980382698183, 4.959157039972933, 3.3390903857225105, 7.700007902847659, 2.3120183295146846, 1.7480842911877392, 2.7570079967666503, 3.265057797606976, 6.20759347480872, 3.788349273382188, 2.735146634250114, 8.148040638606677, 4.305987558320373, 2.2574653521931705, 3.626576772509787, 2.5898318042813453, 4.411979547114682, 10.009740016483105, 6.9417856296377325, 3.883080861958609, 1.5823835343587471, 2.400342906129447, 1.3431833445265278, 2.5113215314944424, 3.349540788762831, 1.738241308793456], \"xaxis\": \"x\", \"y\": [0.2780739636230641, 0.7051540079484316, 0.9983600335569417, 0.5734935065149457, 0.44125997560115143, 1.135349183132698, 0.265502592083496, 0.4895846480817947, 0.1506464415697414, 0.5309744397715395, 0.22957905563763292, 0.32756555479704846, 0.3604660884072118, 0.308267889830186, 0.30447697303166665, 0.12365979195678846, 0.04943125944226101, 0.3406616649869981, 0.3092277802481016, 0.2388943203070255, 0.04099193306394278, 0.12613073827166973, 0.08202341534708026, 0.0535806945411024, 0.06970939019063467, 0.05274741057518615, 0.32434927840576694], \"yaxis\": \"y\"}],\n",
       "                        {\"annotations\": [{\"align\": \"center\", \"bgcolor\": \"#E9967A\", \"bordercolor\": \"#708090\", \"borderwidth\": 2, \"font\": {\"color\": \"DarkRed\"}, \"height\": 20, \"showarrow\": false, \"text\": \"<b>Zona cr\\u00edtica</b>\", \"width\": 110, \"x\": 0.98, \"xref\": \"paper\", \"y\": 0.99, \"yref\": \"paper\"}, {\"align\": \"center\", \"bgcolor\": \"#DCDCDC\", \"bordercolor\": \"#708090\", \"borderwidth\": 2, \"font\": {\"color\": \"black\"}, \"height\": 20, \"showarrow\": false, \"text\": \"Alta letalidade\", \"width\": 110, \"x\": 0.98, \"xref\": \"paper\", \"y\": 0.01, \"yref\": \"paper\"}, {\"align\": \"center\", \"bgcolor\": \"#DCDCDC\", \"bordercolor\": \"#708090\", \"borderwidth\": 2, \"font\": {\"color\": \"DarkRed\"}, \"height\": 20, \"showarrow\": false, \"text\": \"Alta contamina\\u00e7\\u00e3o\", \"width\": 110, \"x\": 0, \"xref\": \"paper\", \"y\": 0.99, \"yref\": \"paper\"}, {\"align\": \"center\", \"bgcolor\": \"#DCDCDC\", \"bordercolor\": \"#708090\", \"borderwidth\": 2, \"font\": {\"color\": \"black\"}, \"height\": 20, \"showarrow\": false, \"text\": \"Zona controlada\", \"width\": 110, \"x\": 0, \"xref\": \"paper\", \"y\": 0.01, \"yref\": \"paper\"}], \"coloraxis\": {\"colorbar\": {\"title\": {\"text\": \"<b>\\u00d3bitos <br>acumulados</b>\"}}, \"colorscale\": [[0.0, \"rgb(252, 222, 156)\"], [0.16666666666666666, \"rgb(250, 164, 118)\"], [0.3333333333333333, \"rgb(240, 116, 110)\"], [0.5, \"rgb(227, 79, 111)\"], [0.6666666666666666, \"rgb(220, 57, 119)\"], [0.8333333333333334, \"rgb(185, 37, 122)\"], [1.0, \"rgb(124, 29, 111)\"]]}, \"height\": 520, \"hovermode\": false, \"legend\": {\"itemsizing\": \"constant\", \"tracegroupgap\": 0}, \"margin\": {\"t\": 60}, \"plot_bgcolor\": \"rgb(245,245,245)\", \"shapes\": [{\"line\": {\"color\": \"gray\", \"dash\": \"dashdot\", \"width\": 1}, \"type\": \"line\", \"x0\": 6, \"x1\": 6, \"xref\": \"x\", \"y0\": 0, \"y1\": 0.8, \"yref\": \"y\"}, {\"line\": {\"color\": \"gray\", \"dash\": \"dashdot\", \"width\": 1}, \"type\": \"line\", \"x0\": 0, \"x1\": 12, \"xref\": \"x\", \"y0\": 0.4, \"y1\": 0.4, \"yref\": \"y\"}], \"template\": {\"data\": {\"bar\": [{\"error_x\": {\"color\": \"#2a3f5f\"}, \"error_y\": {\"color\": \"#2a3f5f\"}, \"marker\": {\"line\": {\"color\": \"#E5ECF6\", \"width\": 0.5}}, \"type\": \"bar\"}], \"barpolar\": [{\"marker\": {\"line\": {\"color\": \"#E5ECF6\", \"width\": 0.5}}, \"type\": \"barpolar\"}], \"carpet\": [{\"aaxis\": {\"endlinecolor\": \"#2a3f5f\", \"gridcolor\": \"white\", \"linecolor\": \"white\", \"minorgridcolor\": \"white\", \"startlinecolor\": \"#2a3f5f\"}, \"baxis\": {\"endlinecolor\": \"#2a3f5f\", \"gridcolor\": \"white\", \"linecolor\": \"white\", \"minorgridcolor\": \"white\", \"startlinecolor\": \"#2a3f5f\"}, \"type\": \"carpet\"}], \"choropleth\": [{\"colorbar\": {\"outlinewidth\": 0, \"ticks\": \"\"}, \"type\": \"choropleth\"}], \"contour\": [{\"colorbar\": {\"outlinewidth\": 0, \"ticks\": \"\"}, \"colorscale\": [[0.0, \"#0d0887\"], [0.1111111111111111, \"#46039f\"], [0.2222222222222222, \"#7201a8\"], [0.3333333333333333, \"#9c179e\"], [0.4444444444444444, \"#bd3786\"], [0.5555555555555556, \"#d8576b\"], [0.6666666666666666, \"#ed7953\"], [0.7777777777777778, \"#fb9f3a\"], [0.8888888888888888, \"#fdca26\"], [1.0, \"#f0f921\"]], \"type\": \"contour\"}], \"contourcarpet\": [{\"colorbar\": {\"outlinewidth\": 0, \"ticks\": \"\"}, \"type\": \"contourcarpet\"}], \"heatmap\": [{\"colorbar\": {\"outlinewidth\": 0, \"ticks\": \"\"}, \"colorscale\": [[0.0, \"#0d0887\"], [0.1111111111111111, \"#46039f\"], [0.2222222222222222, \"#7201a8\"], [0.3333333333333333, \"#9c179e\"], [0.4444444444444444, \"#bd3786\"], [0.5555555555555556, \"#d8576b\"], [0.6666666666666666, \"#ed7953\"], [0.7777777777777778, \"#fb9f3a\"], [0.8888888888888888, \"#fdca26\"], [1.0, \"#f0f921\"]], \"type\": \"heatmap\"}], \"heatmapgl\": [{\"colorbar\": {\"outlinewidth\": 0, \"ticks\": \"\"}, \"colorscale\": [[0.0, \"#0d0887\"], [0.1111111111111111, \"#46039f\"], [0.2222222222222222, \"#7201a8\"], [0.3333333333333333, \"#9c179e\"], [0.4444444444444444, \"#bd3786\"], [0.5555555555555556, \"#d8576b\"], [0.6666666666666666, \"#ed7953\"], [0.7777777777777778, \"#fb9f3a\"], [0.8888888888888888, \"#fdca26\"], [1.0, \"#f0f921\"]], \"type\": \"heatmapgl\"}], \"histogram\": [{\"marker\": {\"colorbar\": {\"outlinewidth\": 0, \"ticks\": \"\"}}, \"type\": \"histogram\"}], \"histogram2d\": [{\"colorbar\": {\"outlinewidth\": 0, \"ticks\": \"\"}, \"colorscale\": [[0.0, \"#0d0887\"], [0.1111111111111111, \"#46039f\"], [0.2222222222222222, \"#7201a8\"], [0.3333333333333333, \"#9c179e\"], [0.4444444444444444, \"#bd3786\"], [0.5555555555555556, \"#d8576b\"], [0.6666666666666666, \"#ed7953\"], [0.7777777777777778, \"#fb9f3a\"], [0.8888888888888888, \"#fdca26\"], [1.0, \"#f0f921\"]], \"type\": \"histogram2d\"}], \"histogram2dcontour\": [{\"colorbar\": {\"outlinewidth\": 0, \"ticks\": \"\"}, \"colorscale\": [[0.0, \"#0d0887\"], [0.1111111111111111, \"#46039f\"], [0.2222222222222222, \"#7201a8\"], [0.3333333333333333, \"#9c179e\"], [0.4444444444444444, \"#bd3786\"], [0.5555555555555556, \"#d8576b\"], [0.6666666666666666, \"#ed7953\"], [0.7777777777777778, \"#fb9f3a\"], [0.8888888888888888, \"#fdca26\"], [1.0, \"#f0f921\"]], \"type\": \"histogram2dcontour\"}], \"mesh3d\": [{\"colorbar\": {\"outlinewidth\": 0, \"ticks\": \"\"}, \"type\": \"mesh3d\"}], \"parcoords\": [{\"line\": {\"colorbar\": {\"outlinewidth\": 0, \"ticks\": \"\"}}, \"type\": \"parcoords\"}], \"pie\": [{\"automargin\": true, \"type\": \"pie\"}], \"scatter\": [{\"marker\": {\"colorbar\": {\"outlinewidth\": 0, \"ticks\": \"\"}}, \"type\": \"scatter\"}], \"scatter3d\": [{\"line\": {\"colorbar\": {\"outlinewidth\": 0, \"ticks\": \"\"}}, \"marker\": {\"colorbar\": {\"outlinewidth\": 0, \"ticks\": \"\"}}, \"type\": \"scatter3d\"}], \"scattercarpet\": [{\"marker\": {\"colorbar\": {\"outlinewidth\": 0, \"ticks\": \"\"}}, \"type\": \"scattercarpet\"}], \"scattergeo\": [{\"marker\": {\"colorbar\": {\"outlinewidth\": 0, \"ticks\": \"\"}}, \"type\": \"scattergeo\"}], \"scattergl\": [{\"marker\": {\"colorbar\": {\"outlinewidth\": 0, \"ticks\": \"\"}}, \"type\": \"scattergl\"}], \"scattermapbox\": [{\"marker\": {\"colorbar\": {\"outlinewidth\": 0, \"ticks\": \"\"}}, \"type\": \"scattermapbox\"}], \"scatterpolar\": [{\"marker\": {\"colorbar\": {\"outlinewidth\": 0, \"ticks\": \"\"}}, \"type\": \"scatterpolar\"}], \"scatterpolargl\": [{\"marker\": {\"colorbar\": {\"outlinewidth\": 0, \"ticks\": \"\"}}, \"type\": \"scatterpolargl\"}], \"scatterternary\": [{\"marker\": {\"colorbar\": {\"outlinewidth\": 0, \"ticks\": \"\"}}, \"type\": \"scatterternary\"}], \"surface\": [{\"colorbar\": {\"outlinewidth\": 0, \"ticks\": \"\"}, \"colorscale\": [[0.0, \"#0d0887\"], [0.1111111111111111, \"#46039f\"], [0.2222222222222222, \"#7201a8\"], [0.3333333333333333, \"#9c179e\"], [0.4444444444444444, \"#bd3786\"], [0.5555555555555556, \"#d8576b\"], [0.6666666666666666, \"#ed7953\"], [0.7777777777777778, \"#fb9f3a\"], [0.8888888888888888, \"#fdca26\"], [1.0, \"#f0f921\"]], \"type\": \"surface\"}], \"table\": [{\"cells\": {\"fill\": {\"color\": \"#EBF0F8\"}, \"line\": {\"color\": \"white\"}}, \"header\": {\"fill\": {\"color\": \"#C8D4E3\"}, \"line\": {\"color\": \"white\"}}, \"type\": \"table\"}]}, \"layout\": {\"annotationdefaults\": {\"arrowcolor\": \"#2a3f5f\", \"arrowhead\": 0, \"arrowwidth\": 1}, \"coloraxis\": {\"colorbar\": {\"outlinewidth\": 0, \"ticks\": \"\"}}, \"colorscale\": {\"diverging\": [[0, \"#8e0152\"], [0.1, \"#c51b7d\"], [0.2, \"#de77ae\"], [0.3, \"#f1b6da\"], [0.4, \"#fde0ef\"], [0.5, \"#f7f7f7\"], [0.6, \"#e6f5d0\"], [0.7, \"#b8e186\"], [0.8, \"#7fbc41\"], [0.9, \"#4d9221\"], [1, \"#276419\"]], \"sequential\": [[0.0, \"#0d0887\"], [0.1111111111111111, \"#46039f\"], [0.2222222222222222, \"#7201a8\"], [0.3333333333333333, \"#9c179e\"], [0.4444444444444444, \"#bd3786\"], [0.5555555555555556, \"#d8576b\"], [0.6666666666666666, \"#ed7953\"], [0.7777777777777778, \"#fb9f3a\"], [0.8888888888888888, \"#fdca26\"], [1.0, \"#f0f921\"]], \"sequentialminus\": [[0.0, \"#0d0887\"], [0.1111111111111111, \"#46039f\"], [0.2222222222222222, \"#7201a8\"], [0.3333333333333333, \"#9c179e\"], [0.4444444444444444, \"#bd3786\"], [0.5555555555555556, \"#d8576b\"], [0.6666666666666666, \"#ed7953\"], [0.7777777777777778, \"#fb9f3a\"], [0.8888888888888888, \"#fdca26\"], [1.0, \"#f0f921\"]]}, \"colorway\": [\"#636efa\", \"#EF553B\", \"#00cc96\", \"#ab63fa\", \"#FFA15A\", \"#19d3f3\", \"#FF6692\", \"#B6E880\", \"#FF97FF\", \"#FECB52\"], \"font\": {\"color\": \"#2a3f5f\"}, \"geo\": {\"bgcolor\": \"white\", \"lakecolor\": \"white\", \"landcolor\": \"#E5ECF6\", \"showlakes\": true, \"showland\": true, \"subunitcolor\": \"white\"}, \"hoverlabel\": {\"align\": \"left\"}, \"hovermode\": \"closest\", \"mapbox\": {\"style\": \"light\"}, \"paper_bgcolor\": \"white\", \"plot_bgcolor\": \"#E5ECF6\", \"polar\": {\"angularaxis\": {\"gridcolor\": \"white\", \"linecolor\": \"white\", \"ticks\": \"\"}, \"bgcolor\": \"#E5ECF6\", \"radialaxis\": {\"gridcolor\": \"white\", \"linecolor\": \"white\", \"ticks\": \"\"}}, \"scene\": {\"xaxis\": {\"backgroundcolor\": \"#E5ECF6\", \"gridcolor\": \"white\", \"gridwidth\": 2, \"linecolor\": \"white\", \"showbackground\": true, \"ticks\": \"\", \"zerolinecolor\": \"white\"}, \"yaxis\": {\"backgroundcolor\": \"#E5ECF6\", \"gridcolor\": \"white\", \"gridwidth\": 2, \"linecolor\": \"white\", \"showbackground\": true, \"ticks\": \"\", \"zerolinecolor\": \"white\"}, \"zaxis\": {\"backgroundcolor\": \"#E5ECF6\", \"gridcolor\": \"white\", \"gridwidth\": 2, \"linecolor\": \"white\", \"showbackground\": true, \"ticks\": \"\", \"zerolinecolor\": \"white\"}}, \"shapedefaults\": {\"line\": {\"color\": \"#2a3f5f\"}}, \"ternary\": {\"aaxis\": {\"gridcolor\": \"white\", \"linecolor\": \"white\", \"ticks\": \"\"}, \"baxis\": {\"gridcolor\": \"white\", \"linecolor\": \"white\", \"ticks\": \"\"}, \"bgcolor\": \"#E5ECF6\", \"caxis\": {\"gridcolor\": \"white\", \"linecolor\": \"white\", \"ticks\": \"\"}}, \"title\": {\"x\": 0.05}, \"xaxis\": {\"automargin\": true, \"gridcolor\": \"white\", \"linecolor\": \"white\", \"ticks\": \"\", \"title\": {\"standoff\": 15}, \"zerolinecolor\": \"white\", \"zerolinewidth\": 2}, \"yaxis\": {\"automargin\": true, \"gridcolor\": \"white\", \"linecolor\": \"white\", \"ticks\": \"\", \"title\": {\"standoff\": 15}, \"zerolinecolor\": \"white\", \"zerolinewidth\": 2}}}, \"title\": {\"text\": \"Rela\\u00e7\\u00e3o entre n\\u00famero de casos e letalidade da COVID-19 no Brasil, por estado - 2020-05-31\"}, \"width\": 980, \"xaxis\": {\"anchor\": \"y\", \"autorange\": false, \"domain\": [0.0, 1.0], \"range\": [0, 12], \"title\": {\"text\": \"<b>Letalidade (% \\u00f3bitos/casos)</b>\"}, \"type\": \"linear\"}, \"yaxis\": {\"anchor\": \"x\", \"autorange\": false, \"domain\": [0.0, 1.0], \"range\": [0, 0.8], \"title\": {\"text\": \"<b>Contamina\\u00e7\\u00e3o (% casos/popula\\u00e7\\u00e3o)</b>\"}, \"type\": \"linear\"}},\n",
       "                        {\"responsive\": true}\n",
       "                    ).then(function(){\n",
       "                            \n",
       "var gd = document.getElementById('2b580423-d932-4ae6-aff1-f53a740d591f');\n",
       "var x = new MutationObserver(function (mutations, observer) {{\n",
       "        var display = window.getComputedStyle(gd).display;\n",
       "        if (!display || display === 'none') {{\n",
       "            console.log([gd, 'removed!']);\n",
       "            Plotly.purge(gd);\n",
       "            observer.disconnect();\n",
       "        }}\n",
       "}});\n",
       "\n",
       "// Listen for the removal of the full notebook cells\n",
       "var notebookContainer = gd.closest('#notebook-container');\n",
       "if (notebookContainer) {{\n",
       "    x.observe(notebookContainer, {childList: true});\n",
       "}}\n",
       "\n",
       "// Listen for the clearing of the current output cell\n",
       "var outputEl = gd.closest('.output');\n",
       "if (outputEl) {{\n",
       "    x.observe(outputEl, {childList: true});\n",
       "}}\n",
       "\n",
       "                        })\n",
       "                };\n",
       "                });\n",
       "            </script>\n",
       "        </div>"
      ]
     },
     "metadata": {},
     "output_type": "display_data"
    }
   ],
   "source": [
    "fig = px.scatter(normalCovid, x='lethality_pct', y='contamRate',\n",
    "                 size='deathRate', color='obitosAcumulado', text='estado',\n",
    "                 size_max=40, color_continuous_scale='Sunsetdark')\n",
    "\n",
    "fig.update_traces(textposition='middle center',\n",
    "                  textfont=dict(family=\"sans serif\",\n",
    "                                size=13))\n",
    "\n",
    "fig.update_layout(\n",
    "    ## Chart general set:\n",
    "    height=520,\n",
    "    width=980,\n",
    "    plot_bgcolor='rgb(245,245,245)',\n",
    "    title_text='Relação entre número de casos e letalidade da COVID-19 no Brasil, por estado - {0}'.format(lastDay.date()),\n",
    "    xaxis_title=\"<b>Letalidade (% óbitos/casos)</b>\",\n",
    "    yaxis_title=\"<b>Contaminação (% casos/população)</b>\",\n",
    "    hovermode=False,  #Disable the hover information.\n",
    "    ## Axis ranges:\n",
    "    xaxis=dict(\n",
    "        autorange=False,\n",
    "        range=[0, 12],\n",
    "        type=\"linear\"\n",
    "    ),\n",
    "    yaxis=dict(\n",
    "        autorange=False,\n",
    "        range=[0, 0.8],\n",
    "        type=\"linear\"),\n",
    "    ## Adjusting the colorbar title:\n",
    "    coloraxis=dict(\n",
    "        colorbar=dict(\n",
    "            title=dict(\n",
    "                text='<b>Óbitos <br>acumulados</b>'\n",
    "            )\n",
    "        )),\n",
    "    ## Vertical and horizontal lines\n",
    "    shapes=[\n",
    "        dict(\n",
    "          type= 'line',\n",
    "          yref= 'y', y0= 0, y1= 0.8,\n",
    "          xref= 'x', x0= 6, x1= 6,\n",
    "          line=dict(\n",
    "                color=\"gray\",\n",
    "                width=1,\n",
    "                dash=\"dashdot\",\n",
    "                )),\n",
    "        dict(\n",
    "          type= 'line',\n",
    "          yref= 'y', y0= 0.4, y1= 0.4,\n",
    "          xref= 'x', x0= 0, x1= 12,\n",
    "          line=dict(\n",
    "                color=\"gray\",\n",
    "                width=1,\n",
    "                dash=\"dashdot\",\n",
    "                ))\n",
    "        ],    \n",
    "    ## Points annotations:\n",
    "    annotations=[\n",
    "        go.layout.Annotation(\n",
    "            text='<b>Zona crítica</b>',\n",
    "            align='center',\n",
    "            showarrow=False,\n",
    "            xref='paper',\n",
    "            yref='paper',\n",
    "            x=.98,\n",
    "            y=.99,\n",
    "            bordercolor='#708090',\n",
    "            borderwidth=2,\n",
    "            bgcolor='#E9967A',\n",
    "            font=dict(\n",
    "                color='DarkRed'),\n",
    "            width=110,\n",
    "            height=20),\n",
    "        go.layout.Annotation(\n",
    "            text='Alta letalidade',\n",
    "            align='center',\n",
    "            showarrow=False,\n",
    "            xref='paper',\n",
    "            yref='paper',\n",
    "            x=.98,\n",
    "            y=.01,\n",
    "            bordercolor='#708090',\n",
    "            borderwidth=2,\n",
    "            bgcolor='#DCDCDC',\n",
    "            font=dict(\n",
    "                color='black'),\n",
    "            width=110,\n",
    "            height=20),\n",
    "        go.layout.Annotation(\n",
    "            text='Alta contaminação',\n",
    "            align='center',\n",
    "            showarrow=False,\n",
    "            xref='paper',\n",
    "            yref='paper',\n",
    "            x=0,\n",
    "            y=.99,\n",
    "            bordercolor='#708090',\n",
    "            borderwidth=2,\n",
    "            bgcolor='#DCDCDC',\n",
    "            font=dict(\n",
    "                color='DarkRed'),\n",
    "            width=110,\n",
    "            height=20),\n",
    "        go.layout.Annotation(\n",
    "            text='Zona controlada',\n",
    "            align='center',\n",
    "            showarrow=False,\n",
    "            xref='paper',\n",
    "            yref='paper',\n",
    "            x=0,\n",
    "            y=.01,\n",
    "            bordercolor='#708090',\n",
    "            borderwidth=2,\n",
    "            bgcolor='#DCDCDC',\n",
    "            font=dict(\n",
    "                color='black'),\n",
    "            width=110,\n",
    "            height=20),\n",
    "    ]\n",
    ")\n",
    "\n",
    "fig.show()"
   ]
  },
  {
   "cell_type": "markdown",
   "metadata": {},
   "source": [
    "The command below shows all the figure parameters, in the case it is needed to change something."
   ]
  },
  {
   "cell_type": "code",
   "execution_count": 161,
   "metadata": {
    "scrolled": true
   },
   "outputs": [
    {
     "name": "stdout",
     "output_type": "stream",
     "text": [
      "Figure({\n",
      "    'data': [{'hovertemplate': ('lethality_pct=%{x}<br>contamRa' ... '%{marker.color}<extra></extra>'),\n",
      "              'legendgroup': '',\n",
      "              'marker': {'color': array([ 156.,  148., 2052.,  116., 2923.,  222.,   73.,  955.,  161., 3010.,\n",
      "                                          305.,  360., 2807.,  443.,  158.,  667.,  271.,  604., 5344., 7615.,\n",
      "                                          182.,  143.,  224.,   20.,   61.,  124.,  170.]),\n",
      "                         'coloraxis': 'coloraxis',\n",
      "                         'size': array([0.00877773, 0.01678128, 0.04951024, 0.01914947, 0.03397705, 0.02624948,\n",
      "                                        0.00464121, 0.01349789, 0.00491869, 0.03296073, 0.00869726, 0.0089594 ,\n",
      "                                        0.02937092, 0.01327398, 0.00687346, 0.00448462, 0.00128019, 0.01502992,\n",
      "                                        0.0309529 , 0.01658353, 0.00159175, 0.00199587, 0.00196884, 0.00071969,\n",
      "                                        0.00175063, 0.0017668 , 0.00563797]),\n",
      "                         'sizemode': 'area',\n",
      "                         'sizeref': 3.0943901180259504e-05,\n",
      "                         'symbol': 'circle'},\n",
      "              'mode': 'markers+text',\n",
      "              'name': '',\n",
      "              'orientation': 'v',\n",
      "              'showlegend': False,\n",
      "              'text': array(['RO', 'AC', 'AM', 'RR', 'PA', 'AP', 'TO', 'MA', 'PI', 'CE', 'RN', 'PB',\n",
      "                             'PE', 'AL', 'SE', 'BA', 'MG', 'ES', 'RJ', 'SP', 'PR', 'SC', 'RS', 'MS',\n",
      "                             'MT', 'GO', 'DF'], dtype=object),\n",
      "              'textfont': {'family': 'sans serif', 'size': 13},\n",
      "              'textposition': 'middle center',\n",
      "              'type': 'scatter',\n",
      "              'x': array([ 3.15661675,  2.37980383,  4.95915704,  3.33909039,  7.7000079 ,\n",
      "                           2.31201833,  1.74808429,  2.757008  ,  3.2650578 ,  6.20759347,\n",
      "                           3.78834927,  2.73514663,  8.14804064,  4.30598756,  2.25746535,\n",
      "                           3.62657677,  2.5898318 ,  4.41197955, 10.00974002,  6.94178563,\n",
      "                           3.88308086,  1.58238353,  2.40034291,  1.34318334,  2.51132153,\n",
      "                           3.34954079,  1.73824131]),\n",
      "              'xaxis': 'x',\n",
      "              'y': array([0.27807396, 0.70515401, 0.99836003, 0.57349351, 0.44125998, 1.13534918,\n",
      "                          0.26550259, 0.48958465, 0.15064644, 0.53097444, 0.22957906, 0.32756555,\n",
      "                          0.36046609, 0.30826789, 0.30447697, 0.12365979, 0.04943126, 0.34066166,\n",
      "                          0.30922778, 0.23889432, 0.04099193, 0.12613074, 0.08202342, 0.05358069,\n",
      "                          0.06970939, 0.05274741, 0.32434928]),\n",
      "              'yaxis': 'y'}],\n",
      "    'layout': {'annotations': [{'align': 'center',\n",
      "                                'bgcolor': '#E9967A',\n",
      "                                'bordercolor': '#708090',\n",
      "                                'borderwidth': 2,\n",
      "                                'font': {'color': 'DarkRed'},\n",
      "                                'height': 20,\n",
      "                                'showarrow': False,\n",
      "                                'text': '<b>Zona crítica</b>',\n",
      "                                'width': 110,\n",
      "                                'x': 0.98,\n",
      "                                'xref': 'paper',\n",
      "                                'y': 0.99,\n",
      "                                'yref': 'paper'},\n",
      "                               {'align': 'center',\n",
      "                                'bgcolor': '#DCDCDC',\n",
      "                                'bordercolor': '#708090',\n",
      "                                'borderwidth': 2,\n",
      "                                'font': {'color': 'black'},\n",
      "                                'height': 20,\n",
      "                                'showarrow': False,\n",
      "                                'text': 'Alta letalidade',\n",
      "                                'width': 110,\n",
      "                                'x': 0.98,\n",
      "                                'xref': 'paper',\n",
      "                                'y': 0.01,\n",
      "                                'yref': 'paper'},\n",
      "                               {'align': 'center',\n",
      "                                'bgcolor': '#DCDCDC',\n",
      "                                'bordercolor': '#708090',\n",
      "                                'borderwidth': 2,\n",
      "                                'font': {'color': 'DarkRed'},\n",
      "                                'height': 20,\n",
      "                                'showarrow': False,\n",
      "                                'text': 'Alta contaminação',\n",
      "                                'width': 110,\n",
      "                                'x': 0,\n",
      "                                'xref': 'paper',\n",
      "                                'y': 0.99,\n",
      "                                'yref': 'paper'},\n",
      "                               {'align': 'center',\n",
      "                                'bgcolor': '#DCDCDC',\n",
      "                                'bordercolor': '#708090',\n",
      "                                'borderwidth': 2,\n",
      "                                'font': {'color': 'black'},\n",
      "                                'height': 20,\n",
      "                                'showarrow': False,\n",
      "                                'text': 'Zona controlada',\n",
      "                                'width': 110,\n",
      "                                'x': 0,\n",
      "                                'xref': 'paper',\n",
      "                                'y': 0.01,\n",
      "                                'yref': 'paper'}],\n",
      "               'coloraxis': {'colorbar': {'title': {'text': '<b>Óbitos <br>acumulados</b>'}},\n",
      "                             'colorscale': [[0.0, 'rgb(252, 222, 156)'],\n",
      "                                            [0.16666666666666666, 'rgb(250, 164,\n",
      "                                            118)'], [0.3333333333333333, 'rgb(240,\n",
      "                                            116, 110)'], [0.5, 'rgb(227, 79,\n",
      "                                            111)'], [0.6666666666666666, 'rgb(220,\n",
      "                                            57, 119)'], [0.8333333333333334,\n",
      "                                            'rgb(185, 37, 122)'], [1.0, 'rgb(124,\n",
      "                                            29, 111)']]},\n",
      "               'height': 520,\n",
      "               'hovermode': False,\n",
      "               'legend': {'itemsizing': 'constant', 'tracegroupgap': 0},\n",
      "               'margin': {'t': 60},\n",
      "               'plot_bgcolor': 'rgb(245,245,245)',\n",
      "               'shapes': [{'line': {'color': 'gray', 'dash': 'dashdot', 'width': 1},\n",
      "                           'type': 'line',\n",
      "                           'x0': 6,\n",
      "                           'x1': 6,\n",
      "                           'xref': 'x',\n",
      "                           'y0': 0,\n",
      "                           'y1': 0.8,\n",
      "                           'yref': 'y'},\n",
      "                          {'line': {'color': 'gray', 'dash': 'dashdot', 'width': 1},\n",
      "                           'type': 'line',\n",
      "                           'x0': 0,\n",
      "                           'x1': 12,\n",
      "                           'xref': 'x',\n",
      "                           'y0': 0.4,\n",
      "                           'y1': 0.4,\n",
      "                           'yref': 'y'}],\n",
      "               'template': '...',\n",
      "               'title': {'text': ('Relação entre número de casos ' ... 'rasil, por estado - 2020-05-31')},\n",
      "               'width': 980,\n",
      "               'xaxis': {'anchor': 'y',\n",
      "                         'autorange': False,\n",
      "                         'domain': [0.0, 1.0],\n",
      "                         'range': [0, 12],\n",
      "                         'title': {'text': '<b>Letalidade (% óbitos/casos)</b>'},\n",
      "                         'type': 'linear'},\n",
      "               'yaxis': {'anchor': 'x',\n",
      "                         'autorange': False,\n",
      "                         'domain': [0.0, 1.0],\n",
      "                         'range': [0, 0.8],\n",
      "                         'title': {'text': '<b>Contaminação (% casos/população)</b>'},\n",
      "                         'type': 'linear'}}\n",
      "})\n"
     ]
    }
   ],
   "source": [
    "print(fig)"
   ]
  },
  {
   "cell_type": "markdown",
   "metadata": {
    "collapsed": true
   },
   "source": [
    "#### Generating the Four-Quadrant graphic with English content:"
   ]
  },
  {
   "cell_type": "code",
   "execution_count": 162,
   "metadata": {
    "scrolled": false
   },
   "outputs": [
    {
     "data": {
      "application/vnd.plotly.v1+json": {
       "config": {
        "plotlyServerURL": "https://plot.ly"
       },
       "data": [
        {
         "hovertemplate": "lethality_pct=%{x}<br>contamRate=%{y}<br>deathRate=%{marker.size}<br>estado=%{text}<br>obitosAcumulado=%{marker.color}<extra></extra>",
         "legendgroup": "",
         "marker": {
          "color": [
           156,
           148,
           2052,
           116,
           2923,
           222,
           73,
           955,
           161,
           3010,
           305,
           360,
           2807,
           443,
           158,
           667,
           271,
           604,
           5344,
           7615,
           182,
           143,
           224,
           20,
           61,
           124,
           170
          ],
          "coloraxis": "coloraxis",
          "size": [
           0.008777729325212058,
           0.016781282067272533,
           0.049510241888415206,
           0.019149466538783445,
           0.033977052993392313,
           0.026249481218023226,
           0.004641209104907856,
           0.013497887898556942,
           0.00491869338729028,
           0.03296073467616023,
           0.008697256486085958,
           0.008959398246994184,
           0.02937092337181549,
           0.013273976982384564,
           0.006873462171596418,
           0.004484617292038816,
           0.0012801864782925015,
           0.015029922984086697,
           0.030952896861576665,
           0.01658353159709383,
           0.0015917499077528453,
           0.0019958720341760284,
           0.0019688432316487333,
           0.000719686964957722,
           0.0017506269253308828,
           0.0017667960322320588,
           0.005637973142022534
          ],
          "sizemode": "area",
          "sizeref": 3.0943901180259504e-05,
          "symbol": "circle"
         },
         "mode": "markers+text",
         "name": "",
         "orientation": "v",
         "showlegend": false,
         "text": [
          "RO",
          "AC",
          "AM",
          "RR",
          "PA",
          "AP",
          "TO",
          "MA",
          "PI",
          "CE",
          "RN",
          "PB",
          "PE",
          "AL",
          "SE",
          "BA",
          "MG",
          "ES",
          "RJ",
          "SP",
          "PR",
          "SC",
          "RS",
          "MS",
          "MT",
          "GO",
          "DF"
         ],
         "textfont": {
          "family": "sans serif",
          "size": 13
         },
         "textposition": "middle center",
         "type": "scatter",
         "x": [
          3.1566167543504657,
          2.37980382698183,
          4.959157039972933,
          3.3390903857225105,
          7.700007902847659,
          2.3120183295146846,
          1.7480842911877392,
          2.7570079967666503,
          3.265057797606976,
          6.20759347480872,
          3.788349273382188,
          2.735146634250114,
          8.148040638606677,
          4.305987558320373,
          2.2574653521931705,
          3.626576772509787,
          2.5898318042813453,
          4.411979547114682,
          10.009740016483105,
          6.9417856296377325,
          3.883080861958609,
          1.5823835343587471,
          2.400342906129447,
          1.3431833445265278,
          2.5113215314944424,
          3.349540788762831,
          1.738241308793456
         ],
         "xaxis": "x",
         "y": [
          0.2780739636230641,
          0.7051540079484316,
          0.9983600335569417,
          0.5734935065149457,
          0.44125997560115143,
          1.135349183132698,
          0.265502592083496,
          0.4895846480817947,
          0.1506464415697414,
          0.5309744397715395,
          0.22957905563763292,
          0.32756555479704846,
          0.3604660884072118,
          0.308267889830186,
          0.30447697303166665,
          0.12365979195678846,
          0.04943125944226101,
          0.3406616649869981,
          0.3092277802481016,
          0.2388943203070255,
          0.04099193306394278,
          0.12613073827166973,
          0.08202341534708026,
          0.0535806945411024,
          0.06970939019063467,
          0.05274741057518615,
          0.32434927840576694
         ],
         "yaxis": "y"
        }
       ],
       "layout": {
        "annotations": [
         {
          "align": "center",
          "bgcolor": "#E9967A",
          "bordercolor": "#708090",
          "borderwidth": 2,
          "font": {
           "color": "DarkRed"
          },
          "height": 20,
          "showarrow": false,
          "text": "<b>Critical zone</b>",
          "width": 110,
          "x": 0.98,
          "xref": "paper",
          "y": 0.99,
          "yref": "paper"
         },
         {
          "align": "center",
          "bgcolor": "#DCDCDC",
          "bordercolor": "#708090",
          "borderwidth": 2,
          "font": {
           "color": "black"
          },
          "height": 20,
          "showarrow": false,
          "text": "High lethality",
          "width": 110,
          "x": 0.98,
          "xref": "paper",
          "y": 0.01,
          "yref": "paper"
         },
         {
          "align": "center",
          "bgcolor": "#DCDCDC",
          "bordercolor": "#708090",
          "borderwidth": 2,
          "font": {
           "color": "DarkRed"
          },
          "height": 20,
          "showarrow": false,
          "text": "High contamination",
          "width": 110,
          "x": 0,
          "xref": "paper",
          "y": 0.99,
          "yref": "paper"
         },
         {
          "align": "center",
          "bgcolor": "#DCDCDC",
          "bordercolor": "#708090",
          "borderwidth": 2,
          "font": {
           "color": "black"
          },
          "height": 20,
          "showarrow": false,
          "text": "Controlled zone",
          "width": 110,
          "x": 0,
          "xref": "paper",
          "y": 0.01,
          "yref": "paper"
         }
        ],
        "coloraxis": {
         "colorbar": {
          "title": {
           "text": "<b>Accumulated<br> deaths</b>"
          }
         },
         "colorscale": [
          [
           0,
           "rgb(252, 222, 156)"
          ],
          [
           0.16666666666666666,
           "rgb(250, 164, 118)"
          ],
          [
           0.3333333333333333,
           "rgb(240, 116, 110)"
          ],
          [
           0.5,
           "rgb(227, 79, 111)"
          ],
          [
           0.6666666666666666,
           "rgb(220, 57, 119)"
          ],
          [
           0.8333333333333334,
           "rgb(185, 37, 122)"
          ],
          [
           1,
           "rgb(124, 29, 111)"
          ]
         ]
        },
        "height": 520,
        "hovermode": false,
        "legend": {
         "itemsizing": "constant",
         "tracegroupgap": 0
        },
        "margin": {
         "t": 60
        },
        "plot_bgcolor": "rgb(245,245,245)",
        "shapes": [
         {
          "line": {
           "color": "gray",
           "dash": "dashdot",
           "width": 1
          },
          "type": "line",
          "x0": 6,
          "x1": 6,
          "xref": "x",
          "y0": 0,
          "y1": 0.8,
          "yref": "y"
         },
         {
          "line": {
           "color": "gray",
           "dash": "dashdot",
           "width": 1
          },
          "type": "line",
          "x0": 0,
          "x1": 12,
          "xref": "x",
          "y0": 0.4,
          "y1": 0.4,
          "yref": "y"
         }
        ],
        "template": {
         "data": {
          "bar": [
           {
            "error_x": {
             "color": "#2a3f5f"
            },
            "error_y": {
             "color": "#2a3f5f"
            },
            "marker": {
             "line": {
              "color": "#E5ECF6",
              "width": 0.5
             }
            },
            "type": "bar"
           }
          ],
          "barpolar": [
           {
            "marker": {
             "line": {
              "color": "#E5ECF6",
              "width": 0.5
             }
            },
            "type": "barpolar"
           }
          ],
          "carpet": [
           {
            "aaxis": {
             "endlinecolor": "#2a3f5f",
             "gridcolor": "white",
             "linecolor": "white",
             "minorgridcolor": "white",
             "startlinecolor": "#2a3f5f"
            },
            "baxis": {
             "endlinecolor": "#2a3f5f",
             "gridcolor": "white",
             "linecolor": "white",
             "minorgridcolor": "white",
             "startlinecolor": "#2a3f5f"
            },
            "type": "carpet"
           }
          ],
          "choropleth": [
           {
            "colorbar": {
             "outlinewidth": 0,
             "ticks": ""
            },
            "type": "choropleth"
           }
          ],
          "contour": [
           {
            "colorbar": {
             "outlinewidth": 0,
             "ticks": ""
            },
            "colorscale": [
             [
              0,
              "#0d0887"
             ],
             [
              0.1111111111111111,
              "#46039f"
             ],
             [
              0.2222222222222222,
              "#7201a8"
             ],
             [
              0.3333333333333333,
              "#9c179e"
             ],
             [
              0.4444444444444444,
              "#bd3786"
             ],
             [
              0.5555555555555556,
              "#d8576b"
             ],
             [
              0.6666666666666666,
              "#ed7953"
             ],
             [
              0.7777777777777778,
              "#fb9f3a"
             ],
             [
              0.8888888888888888,
              "#fdca26"
             ],
             [
              1,
              "#f0f921"
             ]
            ],
            "type": "contour"
           }
          ],
          "contourcarpet": [
           {
            "colorbar": {
             "outlinewidth": 0,
             "ticks": ""
            },
            "type": "contourcarpet"
           }
          ],
          "heatmap": [
           {
            "colorbar": {
             "outlinewidth": 0,
             "ticks": ""
            },
            "colorscale": [
             [
              0,
              "#0d0887"
             ],
             [
              0.1111111111111111,
              "#46039f"
             ],
             [
              0.2222222222222222,
              "#7201a8"
             ],
             [
              0.3333333333333333,
              "#9c179e"
             ],
             [
              0.4444444444444444,
              "#bd3786"
             ],
             [
              0.5555555555555556,
              "#d8576b"
             ],
             [
              0.6666666666666666,
              "#ed7953"
             ],
             [
              0.7777777777777778,
              "#fb9f3a"
             ],
             [
              0.8888888888888888,
              "#fdca26"
             ],
             [
              1,
              "#f0f921"
             ]
            ],
            "type": "heatmap"
           }
          ],
          "heatmapgl": [
           {
            "colorbar": {
             "outlinewidth": 0,
             "ticks": ""
            },
            "colorscale": [
             [
              0,
              "#0d0887"
             ],
             [
              0.1111111111111111,
              "#46039f"
             ],
             [
              0.2222222222222222,
              "#7201a8"
             ],
             [
              0.3333333333333333,
              "#9c179e"
             ],
             [
              0.4444444444444444,
              "#bd3786"
             ],
             [
              0.5555555555555556,
              "#d8576b"
             ],
             [
              0.6666666666666666,
              "#ed7953"
             ],
             [
              0.7777777777777778,
              "#fb9f3a"
             ],
             [
              0.8888888888888888,
              "#fdca26"
             ],
             [
              1,
              "#f0f921"
             ]
            ],
            "type": "heatmapgl"
           }
          ],
          "histogram": [
           {
            "marker": {
             "colorbar": {
              "outlinewidth": 0,
              "ticks": ""
             }
            },
            "type": "histogram"
           }
          ],
          "histogram2d": [
           {
            "colorbar": {
             "outlinewidth": 0,
             "ticks": ""
            },
            "colorscale": [
             [
              0,
              "#0d0887"
             ],
             [
              0.1111111111111111,
              "#46039f"
             ],
             [
              0.2222222222222222,
              "#7201a8"
             ],
             [
              0.3333333333333333,
              "#9c179e"
             ],
             [
              0.4444444444444444,
              "#bd3786"
             ],
             [
              0.5555555555555556,
              "#d8576b"
             ],
             [
              0.6666666666666666,
              "#ed7953"
             ],
             [
              0.7777777777777778,
              "#fb9f3a"
             ],
             [
              0.8888888888888888,
              "#fdca26"
             ],
             [
              1,
              "#f0f921"
             ]
            ],
            "type": "histogram2d"
           }
          ],
          "histogram2dcontour": [
           {
            "colorbar": {
             "outlinewidth": 0,
             "ticks": ""
            },
            "colorscale": [
             [
              0,
              "#0d0887"
             ],
             [
              0.1111111111111111,
              "#46039f"
             ],
             [
              0.2222222222222222,
              "#7201a8"
             ],
             [
              0.3333333333333333,
              "#9c179e"
             ],
             [
              0.4444444444444444,
              "#bd3786"
             ],
             [
              0.5555555555555556,
              "#d8576b"
             ],
             [
              0.6666666666666666,
              "#ed7953"
             ],
             [
              0.7777777777777778,
              "#fb9f3a"
             ],
             [
              0.8888888888888888,
              "#fdca26"
             ],
             [
              1,
              "#f0f921"
             ]
            ],
            "type": "histogram2dcontour"
           }
          ],
          "mesh3d": [
           {
            "colorbar": {
             "outlinewidth": 0,
             "ticks": ""
            },
            "type": "mesh3d"
           }
          ],
          "parcoords": [
           {
            "line": {
             "colorbar": {
              "outlinewidth": 0,
              "ticks": ""
             }
            },
            "type": "parcoords"
           }
          ],
          "pie": [
           {
            "automargin": true,
            "type": "pie"
           }
          ],
          "scatter": [
           {
            "marker": {
             "colorbar": {
              "outlinewidth": 0,
              "ticks": ""
             }
            },
            "type": "scatter"
           }
          ],
          "scatter3d": [
           {
            "line": {
             "colorbar": {
              "outlinewidth": 0,
              "ticks": ""
             }
            },
            "marker": {
             "colorbar": {
              "outlinewidth": 0,
              "ticks": ""
             }
            },
            "type": "scatter3d"
           }
          ],
          "scattercarpet": [
           {
            "marker": {
             "colorbar": {
              "outlinewidth": 0,
              "ticks": ""
             }
            },
            "type": "scattercarpet"
           }
          ],
          "scattergeo": [
           {
            "marker": {
             "colorbar": {
              "outlinewidth": 0,
              "ticks": ""
             }
            },
            "type": "scattergeo"
           }
          ],
          "scattergl": [
           {
            "marker": {
             "colorbar": {
              "outlinewidth": 0,
              "ticks": ""
             }
            },
            "type": "scattergl"
           }
          ],
          "scattermapbox": [
           {
            "marker": {
             "colorbar": {
              "outlinewidth": 0,
              "ticks": ""
             }
            },
            "type": "scattermapbox"
           }
          ],
          "scatterpolar": [
           {
            "marker": {
             "colorbar": {
              "outlinewidth": 0,
              "ticks": ""
             }
            },
            "type": "scatterpolar"
           }
          ],
          "scatterpolargl": [
           {
            "marker": {
             "colorbar": {
              "outlinewidth": 0,
              "ticks": ""
             }
            },
            "type": "scatterpolargl"
           }
          ],
          "scatterternary": [
           {
            "marker": {
             "colorbar": {
              "outlinewidth": 0,
              "ticks": ""
             }
            },
            "type": "scatterternary"
           }
          ],
          "surface": [
           {
            "colorbar": {
             "outlinewidth": 0,
             "ticks": ""
            },
            "colorscale": [
             [
              0,
              "#0d0887"
             ],
             [
              0.1111111111111111,
              "#46039f"
             ],
             [
              0.2222222222222222,
              "#7201a8"
             ],
             [
              0.3333333333333333,
              "#9c179e"
             ],
             [
              0.4444444444444444,
              "#bd3786"
             ],
             [
              0.5555555555555556,
              "#d8576b"
             ],
             [
              0.6666666666666666,
              "#ed7953"
             ],
             [
              0.7777777777777778,
              "#fb9f3a"
             ],
             [
              0.8888888888888888,
              "#fdca26"
             ],
             [
              1,
              "#f0f921"
             ]
            ],
            "type": "surface"
           }
          ],
          "table": [
           {
            "cells": {
             "fill": {
              "color": "#EBF0F8"
             },
             "line": {
              "color": "white"
             }
            },
            "header": {
             "fill": {
              "color": "#C8D4E3"
             },
             "line": {
              "color": "white"
             }
            },
            "type": "table"
           }
          ]
         },
         "layout": {
          "annotationdefaults": {
           "arrowcolor": "#2a3f5f",
           "arrowhead": 0,
           "arrowwidth": 1
          },
          "coloraxis": {
           "colorbar": {
            "outlinewidth": 0,
            "ticks": ""
           }
          },
          "colorscale": {
           "diverging": [
            [
             0,
             "#8e0152"
            ],
            [
             0.1,
             "#c51b7d"
            ],
            [
             0.2,
             "#de77ae"
            ],
            [
             0.3,
             "#f1b6da"
            ],
            [
             0.4,
             "#fde0ef"
            ],
            [
             0.5,
             "#f7f7f7"
            ],
            [
             0.6,
             "#e6f5d0"
            ],
            [
             0.7,
             "#b8e186"
            ],
            [
             0.8,
             "#7fbc41"
            ],
            [
             0.9,
             "#4d9221"
            ],
            [
             1,
             "#276419"
            ]
           ],
           "sequential": [
            [
             0,
             "#0d0887"
            ],
            [
             0.1111111111111111,
             "#46039f"
            ],
            [
             0.2222222222222222,
             "#7201a8"
            ],
            [
             0.3333333333333333,
             "#9c179e"
            ],
            [
             0.4444444444444444,
             "#bd3786"
            ],
            [
             0.5555555555555556,
             "#d8576b"
            ],
            [
             0.6666666666666666,
             "#ed7953"
            ],
            [
             0.7777777777777778,
             "#fb9f3a"
            ],
            [
             0.8888888888888888,
             "#fdca26"
            ],
            [
             1,
             "#f0f921"
            ]
           ],
           "sequentialminus": [
            [
             0,
             "#0d0887"
            ],
            [
             0.1111111111111111,
             "#46039f"
            ],
            [
             0.2222222222222222,
             "#7201a8"
            ],
            [
             0.3333333333333333,
             "#9c179e"
            ],
            [
             0.4444444444444444,
             "#bd3786"
            ],
            [
             0.5555555555555556,
             "#d8576b"
            ],
            [
             0.6666666666666666,
             "#ed7953"
            ],
            [
             0.7777777777777778,
             "#fb9f3a"
            ],
            [
             0.8888888888888888,
             "#fdca26"
            ],
            [
             1,
             "#f0f921"
            ]
           ]
          },
          "colorway": [
           "#636efa",
           "#EF553B",
           "#00cc96",
           "#ab63fa",
           "#FFA15A",
           "#19d3f3",
           "#FF6692",
           "#B6E880",
           "#FF97FF",
           "#FECB52"
          ],
          "font": {
           "color": "#2a3f5f"
          },
          "geo": {
           "bgcolor": "white",
           "lakecolor": "white",
           "landcolor": "#E5ECF6",
           "showlakes": true,
           "showland": true,
           "subunitcolor": "white"
          },
          "hoverlabel": {
           "align": "left"
          },
          "hovermode": "closest",
          "mapbox": {
           "style": "light"
          },
          "paper_bgcolor": "white",
          "plot_bgcolor": "#E5ECF6",
          "polar": {
           "angularaxis": {
            "gridcolor": "white",
            "linecolor": "white",
            "ticks": ""
           },
           "bgcolor": "#E5ECF6",
           "radialaxis": {
            "gridcolor": "white",
            "linecolor": "white",
            "ticks": ""
           }
          },
          "scene": {
           "xaxis": {
            "backgroundcolor": "#E5ECF6",
            "gridcolor": "white",
            "gridwidth": 2,
            "linecolor": "white",
            "showbackground": true,
            "ticks": "",
            "zerolinecolor": "white"
           },
           "yaxis": {
            "backgroundcolor": "#E5ECF6",
            "gridcolor": "white",
            "gridwidth": 2,
            "linecolor": "white",
            "showbackground": true,
            "ticks": "",
            "zerolinecolor": "white"
           },
           "zaxis": {
            "backgroundcolor": "#E5ECF6",
            "gridcolor": "white",
            "gridwidth": 2,
            "linecolor": "white",
            "showbackground": true,
            "ticks": "",
            "zerolinecolor": "white"
           }
          },
          "shapedefaults": {
           "line": {
            "color": "#2a3f5f"
           }
          },
          "ternary": {
           "aaxis": {
            "gridcolor": "white",
            "linecolor": "white",
            "ticks": ""
           },
           "baxis": {
            "gridcolor": "white",
            "linecolor": "white",
            "ticks": ""
           },
           "bgcolor": "#E5ECF6",
           "caxis": {
            "gridcolor": "white",
            "linecolor": "white",
            "ticks": ""
           }
          },
          "title": {
           "x": 0.05
          },
          "xaxis": {
           "automargin": true,
           "gridcolor": "white",
           "linecolor": "white",
           "ticks": "",
           "title": {
            "standoff": 15
           },
           "zerolinecolor": "white",
           "zerolinewidth": 2
          },
          "yaxis": {
           "automargin": true,
           "gridcolor": "white",
           "linecolor": "white",
           "ticks": "",
           "title": {
            "standoff": 15
           },
           "zerolinecolor": "white",
           "zerolinewidth": 2
          }
         }
        },
        "width": 980,
        "xaxis": {
         "anchor": "y",
         "autorange": false,
         "domain": [
          0,
          1
         ],
         "range": [
          0,
          12
         ],
         "title": {
          "text": "<b>Lethality (% deaths/cases)</b>"
         },
         "type": "linear"
        },
        "yaxis": {
         "anchor": "x",
         "autorange": false,
         "domain": [
          0,
          1
         ],
         "range": [
          0,
          0.8
         ],
         "title": {
          "text": "<b>Contamination (% cases/population)</b>"
         },
         "type": "linear"
        }
       }
      },
      "text/html": [
       "<div>\n",
       "        \n",
       "        \n",
       "            <div id=\"680aad00-3efc-4535-a8ea-beee862743ce\" class=\"plotly-graph-div\" style=\"height:520px; width:980px;\"></div>\n",
       "            <script type=\"text/javascript\">\n",
       "                require([\"plotly\"], function(Plotly) {\n",
       "                    window.PLOTLYENV=window.PLOTLYENV || {};\n",
       "                    \n",
       "                if (document.getElementById(\"680aad00-3efc-4535-a8ea-beee862743ce\")) {\n",
       "                    Plotly.newPlot(\n",
       "                        '680aad00-3efc-4535-a8ea-beee862743ce',\n",
       "                        [{\"hovertemplate\": \"lethality_pct=%{x}<br>contamRate=%{y}<br>deathRate=%{marker.size}<br>estado=%{text}<br>obitosAcumulado=%{marker.color}<extra></extra>\", \"legendgroup\": \"\", \"marker\": {\"color\": [156.0, 148.0, 2052.0, 116.0, 2923.0, 222.0, 73.0, 955.0, 161.0, 3010.0, 305.0, 360.0, 2807.0, 443.0, 158.0, 667.0, 271.0, 604.0, 5344.0, 7615.0, 182.0, 143.0, 224.0, 20.0, 61.0, 124.0, 170.0], \"coloraxis\": \"coloraxis\", \"size\": [0.008777729325212058, 0.016781282067272533, 0.049510241888415206, 0.019149466538783445, 0.033977052993392313, 0.026249481218023226, 0.004641209104907856, 0.013497887898556942, 0.00491869338729028, 0.03296073467616023, 0.008697256486085958, 0.008959398246994184, 0.02937092337181549, 0.013273976982384564, 0.006873462171596418, 0.004484617292038816, 0.0012801864782925015, 0.015029922984086697, 0.030952896861576665, 0.01658353159709383, 0.0015917499077528453, 0.0019958720341760284, 0.0019688432316487333, 0.000719686964957722, 0.0017506269253308828, 0.0017667960322320588, 0.005637973142022534], \"sizemode\": \"area\", \"sizeref\": 3.0943901180259504e-05, \"symbol\": \"circle\"}, \"mode\": \"markers+text\", \"name\": \"\", \"orientation\": \"v\", \"showlegend\": false, \"text\": [\"RO\", \"AC\", \"AM\", \"RR\", \"PA\", \"AP\", \"TO\", \"MA\", \"PI\", \"CE\", \"RN\", \"PB\", \"PE\", \"AL\", \"SE\", \"BA\", \"MG\", \"ES\", \"RJ\", \"SP\", \"PR\", \"SC\", \"RS\", \"MS\", \"MT\", \"GO\", \"DF\"], \"textfont\": {\"family\": \"sans serif\", \"size\": 13}, \"textposition\": \"middle center\", \"type\": \"scatter\", \"x\": [3.1566167543504657, 2.37980382698183, 4.959157039972933, 3.3390903857225105, 7.700007902847659, 2.3120183295146846, 1.7480842911877392, 2.7570079967666503, 3.265057797606976, 6.20759347480872, 3.788349273382188, 2.735146634250114, 8.148040638606677, 4.305987558320373, 2.2574653521931705, 3.626576772509787, 2.5898318042813453, 4.411979547114682, 10.009740016483105, 6.9417856296377325, 3.883080861958609, 1.5823835343587471, 2.400342906129447, 1.3431833445265278, 2.5113215314944424, 3.349540788762831, 1.738241308793456], \"xaxis\": \"x\", \"y\": [0.2780739636230641, 0.7051540079484316, 0.9983600335569417, 0.5734935065149457, 0.44125997560115143, 1.135349183132698, 0.265502592083496, 0.4895846480817947, 0.1506464415697414, 0.5309744397715395, 0.22957905563763292, 0.32756555479704846, 0.3604660884072118, 0.308267889830186, 0.30447697303166665, 0.12365979195678846, 0.04943125944226101, 0.3406616649869981, 0.3092277802481016, 0.2388943203070255, 0.04099193306394278, 0.12613073827166973, 0.08202341534708026, 0.0535806945411024, 0.06970939019063467, 0.05274741057518615, 0.32434927840576694], \"yaxis\": \"y\"}],\n",
       "                        {\"annotations\": [{\"align\": \"center\", \"bgcolor\": \"#E9967A\", \"bordercolor\": \"#708090\", \"borderwidth\": 2, \"font\": {\"color\": \"DarkRed\"}, \"height\": 20, \"showarrow\": false, \"text\": \"<b>Critical zone</b>\", \"width\": 110, \"x\": 0.98, \"xref\": \"paper\", \"y\": 0.99, \"yref\": \"paper\"}, {\"align\": \"center\", \"bgcolor\": \"#DCDCDC\", \"bordercolor\": \"#708090\", \"borderwidth\": 2, \"font\": {\"color\": \"black\"}, \"height\": 20, \"showarrow\": false, \"text\": \"High lethality\", \"width\": 110, \"x\": 0.98, \"xref\": \"paper\", \"y\": 0.01, \"yref\": \"paper\"}, {\"align\": \"center\", \"bgcolor\": \"#DCDCDC\", \"bordercolor\": \"#708090\", \"borderwidth\": 2, \"font\": {\"color\": \"DarkRed\"}, \"height\": 20, \"showarrow\": false, \"text\": \"High contamination\", \"width\": 110, \"x\": 0, \"xref\": \"paper\", \"y\": 0.99, \"yref\": \"paper\"}, {\"align\": \"center\", \"bgcolor\": \"#DCDCDC\", \"bordercolor\": \"#708090\", \"borderwidth\": 2, \"font\": {\"color\": \"black\"}, \"height\": 20, \"showarrow\": false, \"text\": \"Controlled zone\", \"width\": 110, \"x\": 0, \"xref\": \"paper\", \"y\": 0.01, \"yref\": \"paper\"}], \"coloraxis\": {\"colorbar\": {\"title\": {\"text\": \"<b>Accumulated<br> deaths</b>\"}}, \"colorscale\": [[0.0, \"rgb(252, 222, 156)\"], [0.16666666666666666, \"rgb(250, 164, 118)\"], [0.3333333333333333, \"rgb(240, 116, 110)\"], [0.5, \"rgb(227, 79, 111)\"], [0.6666666666666666, \"rgb(220, 57, 119)\"], [0.8333333333333334, \"rgb(185, 37, 122)\"], [1.0, \"rgb(124, 29, 111)\"]]}, \"height\": 520, \"hovermode\": false, \"legend\": {\"itemsizing\": \"constant\", \"tracegroupgap\": 0}, \"margin\": {\"t\": 60}, \"plot_bgcolor\": \"rgb(245,245,245)\", \"shapes\": [{\"line\": {\"color\": \"gray\", \"dash\": \"dashdot\", \"width\": 1}, \"type\": \"line\", \"x0\": 6, \"x1\": 6, \"xref\": \"x\", \"y0\": 0, \"y1\": 0.8, \"yref\": \"y\"}, {\"line\": {\"color\": \"gray\", \"dash\": \"dashdot\", \"width\": 1}, \"type\": \"line\", \"x0\": 0, \"x1\": 12, \"xref\": \"x\", \"y0\": 0.4, \"y1\": 0.4, \"yref\": \"y\"}], \"template\": {\"data\": {\"bar\": [{\"error_x\": {\"color\": \"#2a3f5f\"}, \"error_y\": {\"color\": \"#2a3f5f\"}, \"marker\": {\"line\": {\"color\": \"#E5ECF6\", \"width\": 0.5}}, \"type\": \"bar\"}], \"barpolar\": [{\"marker\": {\"line\": {\"color\": \"#E5ECF6\", \"width\": 0.5}}, \"type\": \"barpolar\"}], \"carpet\": [{\"aaxis\": {\"endlinecolor\": \"#2a3f5f\", \"gridcolor\": \"white\", \"linecolor\": \"white\", \"minorgridcolor\": \"white\", \"startlinecolor\": \"#2a3f5f\"}, \"baxis\": {\"endlinecolor\": \"#2a3f5f\", \"gridcolor\": \"white\", \"linecolor\": \"white\", \"minorgridcolor\": \"white\", \"startlinecolor\": \"#2a3f5f\"}, \"type\": \"carpet\"}], \"choropleth\": [{\"colorbar\": {\"outlinewidth\": 0, \"ticks\": \"\"}, \"type\": \"choropleth\"}], \"contour\": [{\"colorbar\": {\"outlinewidth\": 0, \"ticks\": \"\"}, \"colorscale\": [[0.0, \"#0d0887\"], [0.1111111111111111, \"#46039f\"], [0.2222222222222222, \"#7201a8\"], [0.3333333333333333, \"#9c179e\"], [0.4444444444444444, \"#bd3786\"], [0.5555555555555556, \"#d8576b\"], [0.6666666666666666, \"#ed7953\"], [0.7777777777777778, \"#fb9f3a\"], [0.8888888888888888, \"#fdca26\"], [1.0, \"#f0f921\"]], \"type\": \"contour\"}], \"contourcarpet\": [{\"colorbar\": {\"outlinewidth\": 0, \"ticks\": \"\"}, \"type\": \"contourcarpet\"}], \"heatmap\": [{\"colorbar\": {\"outlinewidth\": 0, \"ticks\": \"\"}, \"colorscale\": [[0.0, \"#0d0887\"], [0.1111111111111111, \"#46039f\"], [0.2222222222222222, \"#7201a8\"], [0.3333333333333333, \"#9c179e\"], [0.4444444444444444, \"#bd3786\"], [0.5555555555555556, \"#d8576b\"], [0.6666666666666666, \"#ed7953\"], [0.7777777777777778, \"#fb9f3a\"], [0.8888888888888888, \"#fdca26\"], [1.0, \"#f0f921\"]], \"type\": \"heatmap\"}], \"heatmapgl\": [{\"colorbar\": {\"outlinewidth\": 0, \"ticks\": \"\"}, \"colorscale\": [[0.0, \"#0d0887\"], [0.1111111111111111, \"#46039f\"], [0.2222222222222222, \"#7201a8\"], [0.3333333333333333, \"#9c179e\"], [0.4444444444444444, \"#bd3786\"], [0.5555555555555556, \"#d8576b\"], [0.6666666666666666, \"#ed7953\"], [0.7777777777777778, \"#fb9f3a\"], [0.8888888888888888, \"#fdca26\"], [1.0, \"#f0f921\"]], \"type\": \"heatmapgl\"}], \"histogram\": [{\"marker\": {\"colorbar\": {\"outlinewidth\": 0, \"ticks\": \"\"}}, \"type\": \"histogram\"}], \"histogram2d\": [{\"colorbar\": {\"outlinewidth\": 0, \"ticks\": \"\"}, \"colorscale\": [[0.0, \"#0d0887\"], [0.1111111111111111, \"#46039f\"], [0.2222222222222222, \"#7201a8\"], [0.3333333333333333, \"#9c179e\"], [0.4444444444444444, \"#bd3786\"], [0.5555555555555556, \"#d8576b\"], [0.6666666666666666, \"#ed7953\"], [0.7777777777777778, \"#fb9f3a\"], [0.8888888888888888, \"#fdca26\"], [1.0, \"#f0f921\"]], \"type\": \"histogram2d\"}], \"histogram2dcontour\": [{\"colorbar\": {\"outlinewidth\": 0, \"ticks\": \"\"}, \"colorscale\": [[0.0, \"#0d0887\"], [0.1111111111111111, \"#46039f\"], [0.2222222222222222, \"#7201a8\"], [0.3333333333333333, \"#9c179e\"], [0.4444444444444444, \"#bd3786\"], [0.5555555555555556, \"#d8576b\"], [0.6666666666666666, \"#ed7953\"], [0.7777777777777778, \"#fb9f3a\"], [0.8888888888888888, \"#fdca26\"], [1.0, \"#f0f921\"]], \"type\": \"histogram2dcontour\"}], \"mesh3d\": [{\"colorbar\": {\"outlinewidth\": 0, \"ticks\": \"\"}, \"type\": \"mesh3d\"}], \"parcoords\": [{\"line\": {\"colorbar\": {\"outlinewidth\": 0, \"ticks\": \"\"}}, \"type\": \"parcoords\"}], \"pie\": [{\"automargin\": true, \"type\": \"pie\"}], \"scatter\": [{\"marker\": {\"colorbar\": {\"outlinewidth\": 0, \"ticks\": \"\"}}, \"type\": \"scatter\"}], \"scatter3d\": [{\"line\": {\"colorbar\": {\"outlinewidth\": 0, \"ticks\": \"\"}}, \"marker\": {\"colorbar\": {\"outlinewidth\": 0, \"ticks\": \"\"}}, \"type\": \"scatter3d\"}], \"scattercarpet\": [{\"marker\": {\"colorbar\": {\"outlinewidth\": 0, \"ticks\": \"\"}}, \"type\": \"scattercarpet\"}], \"scattergeo\": [{\"marker\": {\"colorbar\": {\"outlinewidth\": 0, \"ticks\": \"\"}}, \"type\": \"scattergeo\"}], \"scattergl\": [{\"marker\": {\"colorbar\": {\"outlinewidth\": 0, \"ticks\": \"\"}}, \"type\": \"scattergl\"}], \"scattermapbox\": [{\"marker\": {\"colorbar\": {\"outlinewidth\": 0, \"ticks\": \"\"}}, \"type\": \"scattermapbox\"}], \"scatterpolar\": [{\"marker\": {\"colorbar\": {\"outlinewidth\": 0, \"ticks\": \"\"}}, \"type\": \"scatterpolar\"}], \"scatterpolargl\": [{\"marker\": {\"colorbar\": {\"outlinewidth\": 0, \"ticks\": \"\"}}, \"type\": \"scatterpolargl\"}], \"scatterternary\": [{\"marker\": {\"colorbar\": {\"outlinewidth\": 0, \"ticks\": \"\"}}, \"type\": \"scatterternary\"}], \"surface\": [{\"colorbar\": {\"outlinewidth\": 0, \"ticks\": \"\"}, \"colorscale\": [[0.0, \"#0d0887\"], [0.1111111111111111, \"#46039f\"], [0.2222222222222222, \"#7201a8\"], [0.3333333333333333, \"#9c179e\"], [0.4444444444444444, \"#bd3786\"], [0.5555555555555556, \"#d8576b\"], [0.6666666666666666, \"#ed7953\"], [0.7777777777777778, \"#fb9f3a\"], [0.8888888888888888, \"#fdca26\"], [1.0, \"#f0f921\"]], \"type\": \"surface\"}], \"table\": [{\"cells\": {\"fill\": {\"color\": \"#EBF0F8\"}, \"line\": {\"color\": \"white\"}}, \"header\": {\"fill\": {\"color\": \"#C8D4E3\"}, \"line\": {\"color\": \"white\"}}, \"type\": \"table\"}]}, \"layout\": {\"annotationdefaults\": {\"arrowcolor\": \"#2a3f5f\", \"arrowhead\": 0, \"arrowwidth\": 1}, \"coloraxis\": {\"colorbar\": {\"outlinewidth\": 0, \"ticks\": \"\"}}, \"colorscale\": {\"diverging\": [[0, \"#8e0152\"], [0.1, \"#c51b7d\"], [0.2, \"#de77ae\"], [0.3, \"#f1b6da\"], [0.4, \"#fde0ef\"], [0.5, \"#f7f7f7\"], [0.6, \"#e6f5d0\"], [0.7, \"#b8e186\"], [0.8, \"#7fbc41\"], [0.9, \"#4d9221\"], [1, \"#276419\"]], \"sequential\": [[0.0, \"#0d0887\"], [0.1111111111111111, \"#46039f\"], [0.2222222222222222, \"#7201a8\"], [0.3333333333333333, \"#9c179e\"], [0.4444444444444444, \"#bd3786\"], [0.5555555555555556, \"#d8576b\"], [0.6666666666666666, \"#ed7953\"], [0.7777777777777778, \"#fb9f3a\"], [0.8888888888888888, \"#fdca26\"], [1.0, \"#f0f921\"]], \"sequentialminus\": [[0.0, \"#0d0887\"], [0.1111111111111111, \"#46039f\"], [0.2222222222222222, \"#7201a8\"], [0.3333333333333333, \"#9c179e\"], [0.4444444444444444, \"#bd3786\"], [0.5555555555555556, \"#d8576b\"], [0.6666666666666666, \"#ed7953\"], [0.7777777777777778, \"#fb9f3a\"], [0.8888888888888888, \"#fdca26\"], [1.0, \"#f0f921\"]]}, \"colorway\": [\"#636efa\", \"#EF553B\", \"#00cc96\", \"#ab63fa\", \"#FFA15A\", \"#19d3f3\", \"#FF6692\", \"#B6E880\", \"#FF97FF\", \"#FECB52\"], \"font\": {\"color\": \"#2a3f5f\"}, \"geo\": {\"bgcolor\": \"white\", \"lakecolor\": \"white\", \"landcolor\": \"#E5ECF6\", \"showlakes\": true, \"showland\": true, \"subunitcolor\": \"white\"}, \"hoverlabel\": {\"align\": \"left\"}, \"hovermode\": \"closest\", \"mapbox\": {\"style\": \"light\"}, \"paper_bgcolor\": \"white\", \"plot_bgcolor\": \"#E5ECF6\", \"polar\": {\"angularaxis\": {\"gridcolor\": \"white\", \"linecolor\": \"white\", \"ticks\": \"\"}, \"bgcolor\": \"#E5ECF6\", \"radialaxis\": {\"gridcolor\": \"white\", \"linecolor\": \"white\", \"ticks\": \"\"}}, \"scene\": {\"xaxis\": {\"backgroundcolor\": \"#E5ECF6\", \"gridcolor\": \"white\", \"gridwidth\": 2, \"linecolor\": \"white\", \"showbackground\": true, \"ticks\": \"\", \"zerolinecolor\": \"white\"}, \"yaxis\": {\"backgroundcolor\": \"#E5ECF6\", \"gridcolor\": \"white\", \"gridwidth\": 2, \"linecolor\": \"white\", \"showbackground\": true, \"ticks\": \"\", \"zerolinecolor\": \"white\"}, \"zaxis\": {\"backgroundcolor\": \"#E5ECF6\", \"gridcolor\": \"white\", \"gridwidth\": 2, \"linecolor\": \"white\", \"showbackground\": true, \"ticks\": \"\", \"zerolinecolor\": \"white\"}}, \"shapedefaults\": {\"line\": {\"color\": \"#2a3f5f\"}}, \"ternary\": {\"aaxis\": {\"gridcolor\": \"white\", \"linecolor\": \"white\", \"ticks\": \"\"}, \"baxis\": {\"gridcolor\": \"white\", \"linecolor\": \"white\", \"ticks\": \"\"}, \"bgcolor\": \"#E5ECF6\", \"caxis\": {\"gridcolor\": \"white\", \"linecolor\": \"white\", \"ticks\": \"\"}}, \"title\": {\"x\": 0.05}, \"xaxis\": {\"automargin\": true, \"gridcolor\": \"white\", \"linecolor\": \"white\", \"ticks\": \"\", \"title\": {\"standoff\": 15}, \"zerolinecolor\": \"white\", \"zerolinewidth\": 2}, \"yaxis\": {\"automargin\": true, \"gridcolor\": \"white\", \"linecolor\": \"white\", \"ticks\": \"\", \"title\": {\"standoff\": 15}, \"zerolinecolor\": \"white\", \"zerolinewidth\": 2}}}, \"width\": 980, \"xaxis\": {\"anchor\": \"y\", \"autorange\": false, \"domain\": [0.0, 1.0], \"range\": [0, 12], \"title\": {\"text\": \"<b>Lethality (% deaths/cases)</b>\"}, \"type\": \"linear\"}, \"yaxis\": {\"anchor\": \"x\", \"autorange\": false, \"domain\": [0.0, 1.0], \"range\": [0, 0.8], \"title\": {\"text\": \"<b>Contamination (% cases/population)</b>\"}, \"type\": \"linear\"}},\n",
       "                        {\"responsive\": true}\n",
       "                    ).then(function(){\n",
       "                            \n",
       "var gd = document.getElementById('680aad00-3efc-4535-a8ea-beee862743ce');\n",
       "var x = new MutationObserver(function (mutations, observer) {{\n",
       "        var display = window.getComputedStyle(gd).display;\n",
       "        if (!display || display === 'none') {{\n",
       "            console.log([gd, 'removed!']);\n",
       "            Plotly.purge(gd);\n",
       "            observer.disconnect();\n",
       "        }}\n",
       "}});\n",
       "\n",
       "// Listen for the removal of the full notebook cells\n",
       "var notebookContainer = gd.closest('#notebook-container');\n",
       "if (notebookContainer) {{\n",
       "    x.observe(notebookContainer, {childList: true});\n",
       "}}\n",
       "\n",
       "// Listen for the clearing of the current output cell\n",
       "var outputEl = gd.closest('.output');\n",
       "if (outputEl) {{\n",
       "    x.observe(outputEl, {childList: true});\n",
       "}}\n",
       "\n",
       "                        })\n",
       "                };\n",
       "                });\n",
       "            </script>\n",
       "        </div>"
      ]
     },
     "metadata": {},
     "output_type": "display_data"
    }
   ],
   "source": [
    "fig = px.scatter(normalCovid, x='lethality_pct', y='contamRate',\n",
    "                 size='deathRate', color='obitosAcumulado', text='estado',\n",
    "                 size_max=40, color_continuous_scale='Sunsetdark')\n",
    "\n",
    "fig.update_traces(textposition='middle center',\n",
    "                  textfont=dict(family=\"sans serif\",\n",
    "                                size=13))\n",
    "\n",
    "fig.update_layout(\n",
    "    ## Chart general set:\n",
    "    height=520,\n",
    "    width=980,\n",
    "    plot_bgcolor='rgb(245,245,245)',\n",
    "   # title_text='Relação entre número de casos e letalidade da COVID-19 no Brasil, por estado - 2020.05.22',\n",
    "    xaxis_title=\"<b>Lethality (% deaths/cases)</b>\",\n",
    "    yaxis_title=\"<b>Contamination (% cases/population)</b>\",\n",
    "    hovermode=False,  #Disable the hover information.\n",
    "    ## Axis ranges:\n",
    "    xaxis=dict(\n",
    "        autorange=False,\n",
    "        range=[0, 12],\n",
    "        type=\"linear\"\n",
    "    ),\n",
    "    yaxis=dict(\n",
    "        autorange=False,\n",
    "        range=[0, 0.8],\n",
    "        type=\"linear\"),\n",
    "    ## Adjusting the colorbar title:\n",
    "    coloraxis=dict(\n",
    "        colorbar=dict(\n",
    "            title=dict(\n",
    "                text='<b>Accumulated<br> deaths</b>'\n",
    "            )\n",
    "        )),\n",
    "    ## Vertical and horizontal lines\n",
    "    shapes=[\n",
    "        dict(\n",
    "          type= 'line',\n",
    "          yref= 'y', y0= 0, y1= 0.8,\n",
    "          xref= 'x', x0= 6, x1= 6,\n",
    "          line=dict(\n",
    "                color=\"gray\",\n",
    "                width=1,\n",
    "                dash=\"dashdot\",\n",
    "                )),\n",
    "        dict(\n",
    "          type= 'line',\n",
    "          yref= 'y', y0= 0.4, y1= 0.4,\n",
    "          xref= 'x', x0= 0, x1= 12,\n",
    "          line=dict(\n",
    "                color=\"gray\",\n",
    "                width=1,\n",
    "                dash=\"dashdot\",\n",
    "                ))\n",
    "        ],    \n",
    "    ## Points annotations:\n",
    "    annotations=[\n",
    "        go.layout.Annotation(\n",
    "            text='<b>Critical zone</b>',\n",
    "            align='center',\n",
    "            showarrow=False,\n",
    "            xref='paper',\n",
    "            yref='paper',\n",
    "            x=.98,\n",
    "            y=.99,\n",
    "            bordercolor='#708090',\n",
    "            borderwidth=2,\n",
    "            bgcolor='#E9967A',\n",
    "            font=dict(\n",
    "                color='DarkRed'),\n",
    "            width=110,\n",
    "            height=20),\n",
    "        go.layout.Annotation(\n",
    "            text='High lethality',\n",
    "            align='center',\n",
    "            showarrow=False,\n",
    "            xref='paper',\n",
    "            yref='paper',\n",
    "            x=.98,\n",
    "            y=.01,\n",
    "            bordercolor='#708090',\n",
    "            borderwidth=2,\n",
    "            bgcolor='#DCDCDC',\n",
    "            font=dict(\n",
    "                color='black'),\n",
    "            width=110,\n",
    "            height=20),\n",
    "        go.layout.Annotation(\n",
    "            text='High contamination',\n",
    "            align='center',\n",
    "            showarrow=False,\n",
    "            xref='paper',\n",
    "            yref='paper',\n",
    "            x=0,\n",
    "            y=.99,\n",
    "            bordercolor='#708090',\n",
    "            borderwidth=2,\n",
    "            bgcolor='#DCDCDC',\n",
    "            font=dict(\n",
    "                color='DarkRed'),\n",
    "            width=110,\n",
    "            height=20),\n",
    "        go.layout.Annotation(\n",
    "            text='Controlled zone',\n",
    "            align='center',\n",
    "            showarrow=False,\n",
    "            xref='paper',\n",
    "            yref='paper',\n",
    "            x=0,\n",
    "            y=.01,\n",
    "            bordercolor='#708090',\n",
    "            borderwidth=2,\n",
    "            bgcolor='#DCDCDC',\n",
    "            font=dict(\n",
    "                color='black'),\n",
    "            width=110,\n",
    "            height=20),\n",
    "    ]\n",
    ")\n",
    "\n",
    "fig.show()"
   ]
  },
  {
   "cell_type": "markdown",
   "metadata": {},
   "source": [
    "---------------------------"
   ]
  },
  {
   "cell_type": "markdown",
   "metadata": {},
   "source": [
    "### Four-Quadrant chart by date:"
   ]
  },
  {
   "cell_type": "code",
   "execution_count": 143,
   "metadata": {
    "scrolled": true
   },
   "outputs": [
    {
     "data": {
      "text/plain": [
       "Timestamp('2020-05-31 00:00:00')"
      ]
     },
     "execution_count": 143,
     "metadata": {},
     "output_type": "execute_result"
    }
   ],
   "source": [
    "## Getting the last date from data:\n",
    "lastDay = covidData2.data.max()\n",
    "lastDay"
   ]
  },
  {
   "cell_type": "code",
   "execution_count": 144,
   "metadata": {},
   "outputs": [],
   "source": [
    "covidLastDay = covidData2[(covidData2.data == lastDay) &\n",
    "                         (covidData2.estado.isna() == False) & \n",
    "                         (covidData2.municipio.isna() == True) &\n",
    "                         (covidData2.populacaoTCU2019.isna() == False)]"
   ]
  },
  {
   "cell_type": "code",
   "execution_count": 145,
   "metadata": {},
   "outputs": [],
   "source": [
    "covidLastDay = covidLastDay[['regiao','estado','data','populacaoTCU2019','casosAcumulado','obitosAcumulado']]"
   ]
  },
  {
   "cell_type": "code",
   "execution_count": 179,
   "metadata": {},
   "outputs": [],
   "source": [
    "def covidDB_byDate(covidDB, timestamp):\n",
    "    '''Create a COVID-19 subset from a pandas.Timestamp list.'''\n",
    "    ### Selecting data:\n",
    "    covidSelected = covidDB[(covidDB.data.isin(timestamp)) &\n",
    "                         (covidDB.estado.isna() == False) & \n",
    "                         (covidDB.municipio.isna() == True) &\n",
    "                         (covidDB.populacaoTCU2019.isna() == False)]\n",
    "    ### Normalizing data:\n",
    "    ## Contamination rate (pct covidSelected population)\n",
    "    covidSelected['contamRate'] = (covidSelected['casosAcumulado'] / covidSelected['populacaoTCU2019']) * 100.0\n",
    "    ## Lethality rate (pct of cases)\n",
    "    covidSelected['lethality_pct'] = (covidSelected['obitosAcumulado'] / covidSelected['casosAcumulado']) * 100.0\n",
    "    ## Death rate (pct of population)\n",
    "    covidSelected['deathRate'] = (covidSelected['obitosAcumulado'] / covidSelected['populacaoTCU2019']) * 100.0\n",
    "    \n",
    "    return covidSelected"
   ]
  },
  {
   "cell_type": "code",
   "execution_count": 183,
   "metadata": {},
   "outputs": [],
   "source": [
    "weekDates = []"
   ]
  },
  {
   "cell_type": "code",
   "execution_count": 190,
   "metadata": {},
   "outputs": [],
   "source": [
    "weekDates.append(pd.Timestamp('2020-05-24'))\n",
    "weekDates.append(lastDay)"
   ]
  },
  {
   "cell_type": "code",
   "execution_count": 202,
   "metadata": {},
   "outputs": [
    {
     "name": "stderr",
     "output_type": "stream",
     "text": [
      "/home/tbnsilveira/anaconda3/envs/analytics/lib/python3.7/site-packages/ipykernel_launcher.py:10: SettingWithCopyWarning:\n",
      "\n",
      "\n",
      "A value is trying to be set on a copy of a slice from a DataFrame.\n",
      "Try using .loc[row_indexer,col_indexer] = value instead\n",
      "\n",
      "See the caveats in the documentation: https://pandas.pydata.org/pandas-docs/stable/user_guide/indexing.html#returning-a-view-versus-a-copy\n",
      "\n",
      "/home/tbnsilveira/anaconda3/envs/analytics/lib/python3.7/site-packages/ipykernel_launcher.py:12: SettingWithCopyWarning:\n",
      "\n",
      "\n",
      "A value is trying to be set on a copy of a slice from a DataFrame.\n",
      "Try using .loc[row_indexer,col_indexer] = value instead\n",
      "\n",
      "See the caveats in the documentation: https://pandas.pydata.org/pandas-docs/stable/user_guide/indexing.html#returning-a-view-versus-a-copy\n",
      "\n",
      "/home/tbnsilveira/anaconda3/envs/analytics/lib/python3.7/site-packages/ipykernel_launcher.py:14: SettingWithCopyWarning:\n",
      "\n",
      "\n",
      "A value is trying to be set on a copy of a slice from a DataFrame.\n",
      "Try using .loc[row_indexer,col_indexer] = value instead\n",
      "\n",
      "See the caveats in the documentation: https://pandas.pydata.org/pandas-docs/stable/user_guide/indexing.html#returning-a-view-versus-a-copy\n",
      "\n"
     ]
    }
   ],
   "source": [
    "fourQuadData = covidDB_byDate(covidData2, weekDates)"
   ]
  },
  {
   "cell_type": "code",
   "execution_count": 203,
   "metadata": {
    "scrolled": true
   },
   "outputs": [
    {
     "data": {
      "text/html": [
       "<div>\n",
       "<style scoped>\n",
       "    .dataframe tbody tr th:only-of-type {\n",
       "        vertical-align: middle;\n",
       "    }\n",
       "\n",
       "    .dataframe tbody tr th {\n",
       "        vertical-align: top;\n",
       "    }\n",
       "\n",
       "    .dataframe thead th {\n",
       "        text-align: right;\n",
       "    }\n",
       "</style>\n",
       "<table border=\"1\" class=\"dataframe\">\n",
       "  <thead>\n",
       "    <tr style=\"text-align: right;\">\n",
       "      <th></th>\n",
       "      <th>regiao</th>\n",
       "      <th>estado</th>\n",
       "      <th>municipio</th>\n",
       "      <th>coduf</th>\n",
       "      <th>codmun</th>\n",
       "      <th>codRegiaoSaude</th>\n",
       "      <th>nomeRegiaoSaude</th>\n",
       "      <th>data</th>\n",
       "      <th>semanaEpi</th>\n",
       "      <th>populacaoTCU2019</th>\n",
       "      <th>casosAcumulado</th>\n",
       "      <th>casosNovos</th>\n",
       "      <th>obitosAcumulado</th>\n",
       "      <th>obitosNovos</th>\n",
       "      <th>Recuperadosnovos</th>\n",
       "      <th>emAcompanhamentoNovos</th>\n",
       "      <th>contamRate</th>\n",
       "      <th>lethality_pct</th>\n",
       "      <th>deathRate</th>\n",
       "    </tr>\n",
       "  </thead>\n",
       "  <tbody>\n",
       "    <tr>\n",
       "      <th>4321</th>\n",
       "      <td>Norte</td>\n",
       "      <td>AC</td>\n",
       "      <td>NaN</td>\n",
       "      <td>12.0</td>\n",
       "      <td>NaN</td>\n",
       "      <td>NaN</td>\n",
       "      <td>NaN</td>\n",
       "      <td>2020-05-24</td>\n",
       "      <td>22.0</td>\n",
       "      <td>881935.0</td>\n",
       "      <td>4160.0</td>\n",
       "      <td>293.0</td>\n",
       "      <td>92.0</td>\n",
       "      <td>5.0</td>\n",
       "      <td>NaN</td>\n",
       "      <td>NaN</td>\n",
       "      <td>0.471690</td>\n",
       "      <td>2.211538</td>\n",
       "      <td>0.010432</td>\n",
       "    </tr>\n",
       "    <tr>\n",
       "      <th>4328</th>\n",
       "      <td>Norte</td>\n",
       "      <td>AC</td>\n",
       "      <td>NaN</td>\n",
       "      <td>12.0</td>\n",
       "      <td>NaN</td>\n",
       "      <td>NaN</td>\n",
       "      <td>NaN</td>\n",
       "      <td>2020-05-31</td>\n",
       "      <td>23.0</td>\n",
       "      <td>881935.0</td>\n",
       "      <td>6219.0</td>\n",
       "      <td>147.0</td>\n",
       "      <td>148.0</td>\n",
       "      <td>6.0</td>\n",
       "      <td>NaN</td>\n",
       "      <td>NaN</td>\n",
       "      <td>0.705154</td>\n",
       "      <td>2.379804</td>\n",
       "      <td>0.016781</td>\n",
       "    </tr>\n",
       "    <tr>\n",
       "      <th>5232</th>\n",
       "      <td>Nordeste</td>\n",
       "      <td>AL</td>\n",
       "      <td>NaN</td>\n",
       "      <td>27.0</td>\n",
       "      <td>NaN</td>\n",
       "      <td>NaN</td>\n",
       "      <td>NaN</td>\n",
       "      <td>2020-05-24</td>\n",
       "      <td>22.0</td>\n",
       "      <td>3337357.0</td>\n",
       "      <td>6214.0</td>\n",
       "      <td>584.0</td>\n",
       "      <td>316.0</td>\n",
       "      <td>15.0</td>\n",
       "      <td>NaN</td>\n",
       "      <td>NaN</td>\n",
       "      <td>0.186195</td>\n",
       "      <td>5.085291</td>\n",
       "      <td>0.009469</td>\n",
       "    </tr>\n",
       "    <tr>\n",
       "      <th>5239</th>\n",
       "      <td>Nordeste</td>\n",
       "      <td>AL</td>\n",
       "      <td>NaN</td>\n",
       "      <td>27.0</td>\n",
       "      <td>NaN</td>\n",
       "      <td>NaN</td>\n",
       "      <td>NaN</td>\n",
       "      <td>2020-05-31</td>\n",
       "      <td>23.0</td>\n",
       "      <td>3337357.0</td>\n",
       "      <td>10288.0</td>\n",
       "      <td>1065.0</td>\n",
       "      <td>443.0</td>\n",
       "      <td>19.0</td>\n",
       "      <td>NaN</td>\n",
       "      <td>NaN</td>\n",
       "      <td>0.308268</td>\n",
       "      <td>4.305988</td>\n",
       "      <td>0.013274</td>\n",
       "    </tr>\n",
       "    <tr>\n",
       "      <th>4399</th>\n",
       "      <td>Norte</td>\n",
       "      <td>AM</td>\n",
       "      <td>NaN</td>\n",
       "      <td>13.0</td>\n",
       "      <td>NaN</td>\n",
       "      <td>NaN</td>\n",
       "      <td>NaN</td>\n",
       "      <td>2020-05-24</td>\n",
       "      <td>22.0</td>\n",
       "      <td>4144597.0</td>\n",
       "      <td>29867.0</td>\n",
       "      <td>1065.0</td>\n",
       "      <td>1758.0</td>\n",
       "      <td>14.0</td>\n",
       "      <td>NaN</td>\n",
       "      <td>NaN</td>\n",
       "      <td>0.720625</td>\n",
       "      <td>5.886095</td>\n",
       "      <td>0.042417</td>\n",
       "    </tr>\n",
       "    <tr>\n",
       "      <th>4406</th>\n",
       "      <td>Norte</td>\n",
       "      <td>AM</td>\n",
       "      <td>NaN</td>\n",
       "      <td>13.0</td>\n",
       "      <td>NaN</td>\n",
       "      <td>NaN</td>\n",
       "      <td>NaN</td>\n",
       "      <td>2020-05-31</td>\n",
       "      <td>23.0</td>\n",
       "      <td>4144597.0</td>\n",
       "      <td>41378.0</td>\n",
       "      <td>818.0</td>\n",
       "      <td>2052.0</td>\n",
       "      <td>5.0</td>\n",
       "      <td>NaN</td>\n",
       "      <td>NaN</td>\n",
       "      <td>0.998360</td>\n",
       "      <td>4.959157</td>\n",
       "      <td>0.049510</td>\n",
       "    </tr>\n",
       "    <tr>\n",
       "      <th>4617</th>\n",
       "      <td>Norte</td>\n",
       "      <td>AP</td>\n",
       "      <td>NaN</td>\n",
       "      <td>16.0</td>\n",
       "      <td>NaN</td>\n",
       "      <td>NaN</td>\n",
       "      <td>NaN</td>\n",
       "      <td>2020-05-24</td>\n",
       "      <td>22.0</td>\n",
       "      <td>845731.0</td>\n",
       "      <td>6353.0</td>\n",
       "      <td>262.0</td>\n",
       "      <td>163.0</td>\n",
       "      <td>1.0</td>\n",
       "      <td>NaN</td>\n",
       "      <td>NaN</td>\n",
       "      <td>0.751184</td>\n",
       "      <td>2.565717</td>\n",
       "      <td>0.019273</td>\n",
       "    </tr>\n",
       "    <tr>\n",
       "      <th>4624</th>\n",
       "      <td>Norte</td>\n",
       "      <td>AP</td>\n",
       "      <td>NaN</td>\n",
       "      <td>16.0</td>\n",
       "      <td>NaN</td>\n",
       "      <td>NaN</td>\n",
       "      <td>NaN</td>\n",
       "      <td>2020-05-31</td>\n",
       "      <td>23.0</td>\n",
       "      <td>845731.0</td>\n",
       "      <td>9602.0</td>\n",
       "      <td>289.0</td>\n",
       "      <td>222.0</td>\n",
       "      <td>7.0</td>\n",
       "      <td>NaN</td>\n",
       "      <td>NaN</td>\n",
       "      <td>1.135349</td>\n",
       "      <td>2.312018</td>\n",
       "      <td>0.026249</td>\n",
       "    </tr>\n",
       "    <tr>\n",
       "      <th>5404</th>\n",
       "      <td>Nordeste</td>\n",
       "      <td>BA</td>\n",
       "      <td>NaN</td>\n",
       "      <td>29.0</td>\n",
       "      <td>NaN</td>\n",
       "      <td>NaN</td>\n",
       "      <td>NaN</td>\n",
       "      <td>2020-05-31</td>\n",
       "      <td>23.0</td>\n",
       "      <td>14873064.0</td>\n",
       "      <td>18392.0</td>\n",
       "      <td>766.0</td>\n",
       "      <td>667.0</td>\n",
       "      <td>29.0</td>\n",
       "      <td>NaN</td>\n",
       "      <td>NaN</td>\n",
       "      <td>0.123660</td>\n",
       "      <td>3.626577</td>\n",
       "      <td>0.004485</td>\n",
       "    </tr>\n",
       "    <tr>\n",
       "      <th>5397</th>\n",
       "      <td>Nordeste</td>\n",
       "      <td>BA</td>\n",
       "      <td>NaN</td>\n",
       "      <td>29.0</td>\n",
       "      <td>NaN</td>\n",
       "      <td>NaN</td>\n",
       "      <td>NaN</td>\n",
       "      <td>2020-05-24</td>\n",
       "      <td>22.0</td>\n",
       "      <td>14873064.0</td>\n",
       "      <td>13899.0</td>\n",
       "      <td>899.0</td>\n",
       "      <td>460.0</td>\n",
       "      <td>47.0</td>\n",
       "      <td>NaN</td>\n",
       "      <td>NaN</td>\n",
       "      <td>0.093451</td>\n",
       "      <td>3.309591</td>\n",
       "      <td>0.003093</td>\n",
       "    </tr>\n",
       "    <tr>\n",
       "      <th>4919</th>\n",
       "      <td>Nordeste</td>\n",
       "      <td>CE</td>\n",
       "      <td>NaN</td>\n",
       "      <td>23.0</td>\n",
       "      <td>NaN</td>\n",
       "      <td>NaN</td>\n",
       "      <td>NaN</td>\n",
       "      <td>2020-05-31</td>\n",
       "      <td>23.0</td>\n",
       "      <td>9132078.0</td>\n",
       "      <td>48489.0</td>\n",
       "      <td>1983.0</td>\n",
       "      <td>3010.0</td>\n",
       "      <td>54.0</td>\n",
       "      <td>NaN</td>\n",
       "      <td>NaN</td>\n",
       "      <td>0.530974</td>\n",
       "      <td>6.207593</td>\n",
       "      <td>0.032961</td>\n",
       "    </tr>\n",
       "    <tr>\n",
       "      <th>4912</th>\n",
       "      <td>Nordeste</td>\n",
       "      <td>CE</td>\n",
       "      <td>NaN</td>\n",
       "      <td>23.0</td>\n",
       "      <td>NaN</td>\n",
       "      <td>NaN</td>\n",
       "      <td>NaN</td>\n",
       "      <td>2020-05-24</td>\n",
       "      <td>22.0</td>\n",
       "      <td>9132078.0</td>\n",
       "      <td>35595.0</td>\n",
       "      <td>473.0</td>\n",
       "      <td>2324.0</td>\n",
       "      <td>16.0</td>\n",
       "      <td>NaN</td>\n",
       "      <td>NaN</td>\n",
       "      <td>0.389780</td>\n",
       "      <td>6.529007</td>\n",
       "      <td>0.025449</td>\n",
       "    </tr>\n",
       "    <tr>\n",
       "      <th>6313</th>\n",
       "      <td>Centro-Oeste</td>\n",
       "      <td>DF</td>\n",
       "      <td>NaN</td>\n",
       "      <td>53.0</td>\n",
       "      <td>NaN</td>\n",
       "      <td>NaN</td>\n",
       "      <td>NaN</td>\n",
       "      <td>2020-05-24</td>\n",
       "      <td>22.0</td>\n",
       "      <td>3015268.0</td>\n",
       "      <td>6638.0</td>\n",
       "      <td>387.0</td>\n",
       "      <td>104.0</td>\n",
       "      <td>9.0</td>\n",
       "      <td>NaN</td>\n",
       "      <td>NaN</td>\n",
       "      <td>0.220146</td>\n",
       "      <td>1.566737</td>\n",
       "      <td>0.003449</td>\n",
       "    </tr>\n",
       "    <tr>\n",
       "      <th>6320</th>\n",
       "      <td>Centro-Oeste</td>\n",
       "      <td>DF</td>\n",
       "      <td>NaN</td>\n",
       "      <td>53.0</td>\n",
       "      <td>NaN</td>\n",
       "      <td>NaN</td>\n",
       "      <td>NaN</td>\n",
       "      <td>2020-05-31</td>\n",
       "      <td>23.0</td>\n",
       "      <td>3015268.0</td>\n",
       "      <td>9780.0</td>\n",
       "      <td>306.0</td>\n",
       "      <td>170.0</td>\n",
       "      <td>8.0</td>\n",
       "      <td>NaN</td>\n",
       "      <td>NaN</td>\n",
       "      <td>0.324349</td>\n",
       "      <td>1.738241</td>\n",
       "      <td>0.005638</td>\n",
       "    </tr>\n",
       "    <tr>\n",
       "      <th>5576</th>\n",
       "      <td>Sudeste</td>\n",
       "      <td>ES</td>\n",
       "      <td>NaN</td>\n",
       "      <td>32.0</td>\n",
       "      <td>NaN</td>\n",
       "      <td>NaN</td>\n",
       "      <td>NaN</td>\n",
       "      <td>2020-05-31</td>\n",
       "      <td>23.0</td>\n",
       "      <td>4018650.0</td>\n",
       "      <td>13690.0</td>\n",
       "      <td>253.0</td>\n",
       "      <td>604.0</td>\n",
       "      <td>21.0</td>\n",
       "      <td>NaN</td>\n",
       "      <td>NaN</td>\n",
       "      <td>0.340662</td>\n",
       "      <td>4.411980</td>\n",
       "      <td>0.015030</td>\n",
       "    </tr>\n",
       "    <tr>\n",
       "      <th>5569</th>\n",
       "      <td>Sudeste</td>\n",
       "      <td>ES</td>\n",
       "      <td>NaN</td>\n",
       "      <td>32.0</td>\n",
       "      <td>NaN</td>\n",
       "      <td>NaN</td>\n",
       "      <td>NaN</td>\n",
       "      <td>2020-05-24</td>\n",
       "      <td>22.0</td>\n",
       "      <td>4018650.0</td>\n",
       "      <td>10007.0</td>\n",
       "      <td>89.0</td>\n",
       "      <td>446.0</td>\n",
       "      <td>29.0</td>\n",
       "      <td>NaN</td>\n",
       "      <td>NaN</td>\n",
       "      <td>0.249014</td>\n",
       "      <td>4.456880</td>\n",
       "      <td>0.011098</td>\n",
       "    </tr>\n",
       "    <tr>\n",
       "      <th>6234</th>\n",
       "      <td>Centro-Oeste</td>\n",
       "      <td>GO</td>\n",
       "      <td>NaN</td>\n",
       "      <td>52.0</td>\n",
       "      <td>NaN</td>\n",
       "      <td>NaN</td>\n",
       "      <td>NaN</td>\n",
       "      <td>2020-05-31</td>\n",
       "      <td>23.0</td>\n",
       "      <td>7018354.0</td>\n",
       "      <td>3702.0</td>\n",
       "      <td>117.0</td>\n",
       "      <td>124.0</td>\n",
       "      <td>2.0</td>\n",
       "      <td>NaN</td>\n",
       "      <td>NaN</td>\n",
       "      <td>0.052747</td>\n",
       "      <td>3.349541</td>\n",
       "      <td>0.001767</td>\n",
       "    </tr>\n",
       "    <tr>\n",
       "      <th>6227</th>\n",
       "      <td>Centro-Oeste</td>\n",
       "      <td>GO</td>\n",
       "      <td>NaN</td>\n",
       "      <td>52.0</td>\n",
       "      <td>NaN</td>\n",
       "      <td>NaN</td>\n",
       "      <td>NaN</td>\n",
       "      <td>2020-05-24</td>\n",
       "      <td>22.0</td>\n",
       "      <td>7018354.0</td>\n",
       "      <td>2443.0</td>\n",
       "      <td>66.0</td>\n",
       "      <td>95.0</td>\n",
       "      <td>0.0</td>\n",
       "      <td>NaN</td>\n",
       "      <td>NaN</td>\n",
       "      <td>0.034809</td>\n",
       "      <td>3.888661</td>\n",
       "      <td>0.001354</td>\n",
       "    </tr>\n",
       "    <tr>\n",
       "      <th>4763</th>\n",
       "      <td>Nordeste</td>\n",
       "      <td>MA</td>\n",
       "      <td>NaN</td>\n",
       "      <td>21.0</td>\n",
       "      <td>NaN</td>\n",
       "      <td>NaN</td>\n",
       "      <td>NaN</td>\n",
       "      <td>2020-05-24</td>\n",
       "      <td>22.0</td>\n",
       "      <td>7075181.0</td>\n",
       "      <td>21191.0</td>\n",
       "      <td>2424.0</td>\n",
       "      <td>754.0</td>\n",
       "      <td>32.0</td>\n",
       "      <td>NaN</td>\n",
       "      <td>NaN</td>\n",
       "      <td>0.299512</td>\n",
       "      <td>3.558114</td>\n",
       "      <td>0.010657</td>\n",
       "    </tr>\n",
       "    <tr>\n",
       "      <th>4770</th>\n",
       "      <td>Nordeste</td>\n",
       "      <td>MA</td>\n",
       "      <td>NaN</td>\n",
       "      <td>21.0</td>\n",
       "      <td>NaN</td>\n",
       "      <td>NaN</td>\n",
       "      <td>NaN</td>\n",
       "      <td>2020-05-31</td>\n",
       "      <td>23.0</td>\n",
       "      <td>7075181.0</td>\n",
       "      <td>34639.0</td>\n",
       "      <td>2019.0</td>\n",
       "      <td>955.0</td>\n",
       "      <td>23.0</td>\n",
       "      <td>NaN</td>\n",
       "      <td>NaN</td>\n",
       "      <td>0.489585</td>\n",
       "      <td>2.757008</td>\n",
       "      <td>0.013498</td>\n",
       "    </tr>\n",
       "    <tr>\n",
       "      <th>5482</th>\n",
       "      <td>Sudeste</td>\n",
       "      <td>MG</td>\n",
       "      <td>NaN</td>\n",
       "      <td>31.0</td>\n",
       "      <td>NaN</td>\n",
       "      <td>NaN</td>\n",
       "      <td>NaN</td>\n",
       "      <td>2020-05-24</td>\n",
       "      <td>22.0</td>\n",
       "      <td>21168791.0</td>\n",
       "      <td>6668.0</td>\n",
       "      <td>330.0</td>\n",
       "      <td>226.0</td>\n",
       "      <td>9.0</td>\n",
       "      <td>NaN</td>\n",
       "      <td>NaN</td>\n",
       "      <td>0.031499</td>\n",
       "      <td>3.389322</td>\n",
       "      <td>0.001068</td>\n",
       "    </tr>\n",
       "    <tr>\n",
       "      <th>5489</th>\n",
       "      <td>Sudeste</td>\n",
       "      <td>MG</td>\n",
       "      <td>NaN</td>\n",
       "      <td>31.0</td>\n",
       "      <td>NaN</td>\n",
       "      <td>NaN</td>\n",
       "      <td>NaN</td>\n",
       "      <td>2020-05-31</td>\n",
       "      <td>23.0</td>\n",
       "      <td>21168791.0</td>\n",
       "      <td>10464.0</td>\n",
       "      <td>834.0</td>\n",
       "      <td>271.0</td>\n",
       "      <td>8.0</td>\n",
       "      <td>NaN</td>\n",
       "      <td>NaN</td>\n",
       "      <td>0.049431</td>\n",
       "      <td>2.589832</td>\n",
       "      <td>0.001280</td>\n",
       "    </tr>\n",
       "    <tr>\n",
       "      <th>6081</th>\n",
       "      <td>Centro-Oeste</td>\n",
       "      <td>MS</td>\n",
       "      <td>NaN</td>\n",
       "      <td>50.0</td>\n",
       "      <td>NaN</td>\n",
       "      <td>NaN</td>\n",
       "      <td>NaN</td>\n",
       "      <td>2020-05-31</td>\n",
       "      <td>23.0</td>\n",
       "      <td>2778986.0</td>\n",
       "      <td>1489.0</td>\n",
       "      <td>71.0</td>\n",
       "      <td>20.0</td>\n",
       "      <td>1.0</td>\n",
       "      <td>NaN</td>\n",
       "      <td>NaN</td>\n",
       "      <td>0.053581</td>\n",
       "      <td>1.343183</td>\n",
       "      <td>0.000720</td>\n",
       "    </tr>\n",
       "    <tr>\n",
       "      <th>6074</th>\n",
       "      <td>Centro-Oeste</td>\n",
       "      <td>MS</td>\n",
       "      <td>NaN</td>\n",
       "      <td>50.0</td>\n",
       "      <td>NaN</td>\n",
       "      <td>NaN</td>\n",
       "      <td>NaN</td>\n",
       "      <td>2020-05-24</td>\n",
       "      <td>22.0</td>\n",
       "      <td>2778986.0</td>\n",
       "      <td>924.0</td>\n",
       "      <td>66.0</td>\n",
       "      <td>17.0</td>\n",
       "      <td>0.0</td>\n",
       "      <td>NaN</td>\n",
       "      <td>NaN</td>\n",
       "      <td>0.033250</td>\n",
       "      <td>1.839827</td>\n",
       "      <td>0.000612</td>\n",
       "    </tr>\n",
       "    <tr>\n",
       "      <th>6154</th>\n",
       "      <td>Centro-Oeste</td>\n",
       "      <td>MT</td>\n",
       "      <td>NaN</td>\n",
       "      <td>51.0</td>\n",
       "      <td>NaN</td>\n",
       "      <td>NaN</td>\n",
       "      <td>NaN</td>\n",
       "      <td>2020-05-31</td>\n",
       "      <td>23.0</td>\n",
       "      <td>3484466.0</td>\n",
       "      <td>2429.0</td>\n",
       "      <td>68.0</td>\n",
       "      <td>61.0</td>\n",
       "      <td>4.0</td>\n",
       "      <td>NaN</td>\n",
       "      <td>NaN</td>\n",
       "      <td>0.069709</td>\n",
       "      <td>2.511322</td>\n",
       "      <td>0.001751</td>\n",
       "    </tr>\n",
       "    <tr>\n",
       "      <th>6147</th>\n",
       "      <td>Centro-Oeste</td>\n",
       "      <td>MT</td>\n",
       "      <td>NaN</td>\n",
       "      <td>51.0</td>\n",
       "      <td>NaN</td>\n",
       "      <td>NaN</td>\n",
       "      <td>NaN</td>\n",
       "      <td>2020-05-24</td>\n",
       "      <td>22.0</td>\n",
       "      <td>3484466.0</td>\n",
       "      <td>1462.0</td>\n",
       "      <td>110.0</td>\n",
       "      <td>40.0</td>\n",
       "      <td>3.0</td>\n",
       "      <td>NaN</td>\n",
       "      <td>NaN</td>\n",
       "      <td>0.041958</td>\n",
       "      <td>2.735978</td>\n",
       "      <td>0.001148</td>\n",
       "    </tr>\n",
       "    <tr>\n",
       "      <th>4544</th>\n",
       "      <td>Norte</td>\n",
       "      <td>PA</td>\n",
       "      <td>NaN</td>\n",
       "      <td>15.0</td>\n",
       "      <td>NaN</td>\n",
       "      <td>NaN</td>\n",
       "      <td>NaN</td>\n",
       "      <td>2020-05-24</td>\n",
       "      <td>22.0</td>\n",
       "      <td>8602865.0</td>\n",
       "      <td>24125.0</td>\n",
       "      <td>1428.0</td>\n",
       "      <td>2148.0</td>\n",
       "      <td>147.0</td>\n",
       "      <td>NaN</td>\n",
       "      <td>NaN</td>\n",
       "      <td>0.280430</td>\n",
       "      <td>8.903627</td>\n",
       "      <td>0.024968</td>\n",
       "    </tr>\n",
       "    <tr>\n",
       "      <th>4551</th>\n",
       "      <td>Norte</td>\n",
       "      <td>PA</td>\n",
       "      <td>NaN</td>\n",
       "      <td>15.0</td>\n",
       "      <td>NaN</td>\n",
       "      <td>NaN</td>\n",
       "      <td>NaN</td>\n",
       "      <td>2020-05-31</td>\n",
       "      <td>23.0</td>\n",
       "      <td>8602865.0</td>\n",
       "      <td>37961.0</td>\n",
       "      <td>665.0</td>\n",
       "      <td>2923.0</td>\n",
       "      <td>23.0</td>\n",
       "      <td>NaN</td>\n",
       "      <td>NaN</td>\n",
       "      <td>0.441260</td>\n",
       "      <td>7.700008</td>\n",
       "      <td>0.033977</td>\n",
       "    </tr>\n",
       "    <tr>\n",
       "      <th>5066</th>\n",
       "      <td>Nordeste</td>\n",
       "      <td>PB</td>\n",
       "      <td>NaN</td>\n",
       "      <td>25.0</td>\n",
       "      <td>NaN</td>\n",
       "      <td>NaN</td>\n",
       "      <td>NaN</td>\n",
       "      <td>2020-05-24</td>\n",
       "      <td>22.0</td>\n",
       "      <td>4018127.0</td>\n",
       "      <td>7823.0</td>\n",
       "      <td>315.0</td>\n",
       "      <td>272.0</td>\n",
       "      <td>14.0</td>\n",
       "      <td>NaN</td>\n",
       "      <td>NaN</td>\n",
       "      <td>0.194693</td>\n",
       "      <td>3.476927</td>\n",
       "      <td>0.006769</td>\n",
       "    </tr>\n",
       "    <tr>\n",
       "      <th>5073</th>\n",
       "      <td>Nordeste</td>\n",
       "      <td>PB</td>\n",
       "      <td>NaN</td>\n",
       "      <td>25.0</td>\n",
       "      <td>NaN</td>\n",
       "      <td>NaN</td>\n",
       "      <td>NaN</td>\n",
       "      <td>2020-05-31</td>\n",
       "      <td>23.0</td>\n",
       "      <td>4018127.0</td>\n",
       "      <td>13162.0</td>\n",
       "      <td>300.0</td>\n",
       "      <td>360.0</td>\n",
       "      <td>13.0</td>\n",
       "      <td>NaN</td>\n",
       "      <td>NaN</td>\n",
       "      <td>0.327566</td>\n",
       "      <td>2.735147</td>\n",
       "      <td>0.008959</td>\n",
       "    </tr>\n",
       "    <tr>\n",
       "      <th>5147</th>\n",
       "      <td>Nordeste</td>\n",
       "      <td>PE</td>\n",
       "      <td>NaN</td>\n",
       "      <td>26.0</td>\n",
       "      <td>NaN</td>\n",
       "      <td>NaN</td>\n",
       "      <td>NaN</td>\n",
       "      <td>2020-05-24</td>\n",
       "      <td>22.0</td>\n",
       "      <td>9557071.0</td>\n",
       "      <td>27759.0</td>\n",
       "      <td>973.0</td>\n",
       "      <td>2200.0</td>\n",
       "      <td>56.0</td>\n",
       "      <td>NaN</td>\n",
       "      <td>NaN</td>\n",
       "      <td>0.290455</td>\n",
       "      <td>7.925358</td>\n",
       "      <td>0.023020</td>\n",
       "    </tr>\n",
       "    <tr>\n",
       "      <th>5154</th>\n",
       "      <td>Nordeste</td>\n",
       "      <td>PE</td>\n",
       "      <td>NaN</td>\n",
       "      <td>26.0</td>\n",
       "      <td>NaN</td>\n",
       "      <td>NaN</td>\n",
       "      <td>NaN</td>\n",
       "      <td>2020-05-31</td>\n",
       "      <td>23.0</td>\n",
       "      <td>9557071.0</td>\n",
       "      <td>34450.0</td>\n",
       "      <td>1023.0</td>\n",
       "      <td>2807.0</td>\n",
       "      <td>67.0</td>\n",
       "      <td>NaN</td>\n",
       "      <td>NaN</td>\n",
       "      <td>0.360466</td>\n",
       "      <td>8.148041</td>\n",
       "      <td>0.029371</td>\n",
       "    </tr>\n",
       "    <tr>\n",
       "      <th>4836</th>\n",
       "      <td>Nordeste</td>\n",
       "      <td>PI</td>\n",
       "      <td>NaN</td>\n",
       "      <td>22.0</td>\n",
       "      <td>NaN</td>\n",
       "      <td>NaN</td>\n",
       "      <td>NaN</td>\n",
       "      <td>2020-05-24</td>\n",
       "      <td>22.0</td>\n",
       "      <td>3273227.0</td>\n",
       "      <td>3390.0</td>\n",
       "      <td>132.0</td>\n",
       "      <td>107.0</td>\n",
       "      <td>8.0</td>\n",
       "      <td>NaN</td>\n",
       "      <td>NaN</td>\n",
       "      <td>0.103568</td>\n",
       "      <td>3.156342</td>\n",
       "      <td>0.003269</td>\n",
       "    </tr>\n",
       "    <tr>\n",
       "      <th>4843</th>\n",
       "      <td>Nordeste</td>\n",
       "      <td>PI</td>\n",
       "      <td>NaN</td>\n",
       "      <td>22.0</td>\n",
       "      <td>NaN</td>\n",
       "      <td>NaN</td>\n",
       "      <td>NaN</td>\n",
       "      <td>2020-05-31</td>\n",
       "      <td>23.0</td>\n",
       "      <td>3273227.0</td>\n",
       "      <td>4931.0</td>\n",
       "      <td>186.0</td>\n",
       "      <td>161.0</td>\n",
       "      <td>4.0</td>\n",
       "      <td>NaN</td>\n",
       "      <td>NaN</td>\n",
       "      <td>0.150646</td>\n",
       "      <td>3.265058</td>\n",
       "      <td>0.004919</td>\n",
       "    </tr>\n",
       "    <tr>\n",
       "      <th>5841</th>\n",
       "      <td>Sul</td>\n",
       "      <td>PR</td>\n",
       "      <td>NaN</td>\n",
       "      <td>41.0</td>\n",
       "      <td>NaN</td>\n",
       "      <td>NaN</td>\n",
       "      <td>NaN</td>\n",
       "      <td>2020-05-31</td>\n",
       "      <td>23.0</td>\n",
       "      <td>11433957.0</td>\n",
       "      <td>4687.0</td>\n",
       "      <td>214.0</td>\n",
       "      <td>182.0</td>\n",
       "      <td>1.0</td>\n",
       "      <td>NaN</td>\n",
       "      <td>NaN</td>\n",
       "      <td>0.040992</td>\n",
       "      <td>3.883081</td>\n",
       "      <td>0.001592</td>\n",
       "    </tr>\n",
       "    <tr>\n",
       "      <th>5834</th>\n",
       "      <td>Sul</td>\n",
       "      <td>PR</td>\n",
       "      <td>NaN</td>\n",
       "      <td>41.0</td>\n",
       "      <td>NaN</td>\n",
       "      <td>NaN</td>\n",
       "      <td>NaN</td>\n",
       "      <td>2020-05-24</td>\n",
       "      <td>22.0</td>\n",
       "      <td>11433957.0</td>\n",
       "      <td>3212.0</td>\n",
       "      <td>113.0</td>\n",
       "      <td>153.0</td>\n",
       "      <td>3.0</td>\n",
       "      <td>NaN</td>\n",
       "      <td>NaN</td>\n",
       "      <td>0.028092</td>\n",
       "      <td>4.763387</td>\n",
       "      <td>0.001338</td>\n",
       "    </tr>\n",
       "    <tr>\n",
       "      <th>5664</th>\n",
       "      <td>Sudeste</td>\n",
       "      <td>RJ</td>\n",
       "      <td>NaN</td>\n",
       "      <td>33.0</td>\n",
       "      <td>NaN</td>\n",
       "      <td>NaN</td>\n",
       "      <td>NaN</td>\n",
       "      <td>2020-05-31</td>\n",
       "      <td>23.0</td>\n",
       "      <td>17264943.0</td>\n",
       "      <td>53388.0</td>\n",
       "      <td>968.0</td>\n",
       "      <td>5344.0</td>\n",
       "      <td>67.0</td>\n",
       "      <td>NaN</td>\n",
       "      <td>NaN</td>\n",
       "      <td>0.309228</td>\n",
       "      <td>10.009740</td>\n",
       "      <td>0.030953</td>\n",
       "    </tr>\n",
       "    <tr>\n",
       "      <th>5657</th>\n",
       "      <td>Sudeste</td>\n",
       "      <td>RJ</td>\n",
       "      <td>NaN</td>\n",
       "      <td>33.0</td>\n",
       "      <td>NaN</td>\n",
       "      <td>NaN</td>\n",
       "      <td>NaN</td>\n",
       "      <td>2020-05-24</td>\n",
       "      <td>22.0</td>\n",
       "      <td>17264943.0</td>\n",
       "      <td>37912.0</td>\n",
       "      <td>3379.0</td>\n",
       "      <td>3993.0</td>\n",
       "      <td>88.0</td>\n",
       "      <td>NaN</td>\n",
       "      <td>NaN</td>\n",
       "      <td>0.219589</td>\n",
       "      <td>10.532285</td>\n",
       "      <td>0.023128</td>\n",
       "    </tr>\n",
       "    <tr>\n",
       "      <th>4999</th>\n",
       "      <td>Nordeste</td>\n",
       "      <td>RN</td>\n",
       "      <td>NaN</td>\n",
       "      <td>24.0</td>\n",
       "      <td>NaN</td>\n",
       "      <td>NaN</td>\n",
       "      <td>NaN</td>\n",
       "      <td>2020-05-31</td>\n",
       "      <td>23.0</td>\n",
       "      <td>3506853.0</td>\n",
       "      <td>8051.0</td>\n",
       "      <td>649.0</td>\n",
       "      <td>305.0</td>\n",
       "      <td>0.0</td>\n",
       "      <td>NaN</td>\n",
       "      <td>NaN</td>\n",
       "      <td>0.229579</td>\n",
       "      <td>3.788349</td>\n",
       "      <td>0.008697</td>\n",
       "    </tr>\n",
       "    <tr>\n",
       "      <th>4992</th>\n",
       "      <td>Nordeste</td>\n",
       "      <td>RN</td>\n",
       "      <td>NaN</td>\n",
       "      <td>24.0</td>\n",
       "      <td>NaN</td>\n",
       "      <td>NaN</td>\n",
       "      <td>NaN</td>\n",
       "      <td>2020-05-24</td>\n",
       "      <td>22.0</td>\n",
       "      <td>3506853.0</td>\n",
       "      <td>4697.0</td>\n",
       "      <td>98.0</td>\n",
       "      <td>200.0</td>\n",
       "      <td>16.0</td>\n",
       "      <td>NaN</td>\n",
       "      <td>NaN</td>\n",
       "      <td>0.133938</td>\n",
       "      <td>4.258037</td>\n",
       "      <td>0.005703</td>\n",
       "    </tr>\n",
       "    <tr>\n",
       "      <th>4254</th>\n",
       "      <td>Norte</td>\n",
       "      <td>RO</td>\n",
       "      <td>NaN</td>\n",
       "      <td>11.0</td>\n",
       "      <td>NaN</td>\n",
       "      <td>NaN</td>\n",
       "      <td>NaN</td>\n",
       "      <td>2020-05-31</td>\n",
       "      <td>23.0</td>\n",
       "      <td>1777225.0</td>\n",
       "      <td>4942.0</td>\n",
       "      <td>199.0</td>\n",
       "      <td>156.0</td>\n",
       "      <td>5.0</td>\n",
       "      <td>NaN</td>\n",
       "      <td>NaN</td>\n",
       "      <td>0.278074</td>\n",
       "      <td>3.156617</td>\n",
       "      <td>0.008778</td>\n",
       "    </tr>\n",
       "    <tr>\n",
       "      <th>4247</th>\n",
       "      <td>Norte</td>\n",
       "      <td>RO</td>\n",
       "      <td>NaN</td>\n",
       "      <td>11.0</td>\n",
       "      <td>NaN</td>\n",
       "      <td>NaN</td>\n",
       "      <td>NaN</td>\n",
       "      <td>2020-05-24</td>\n",
       "      <td>22.0</td>\n",
       "      <td>1777225.0</td>\n",
       "      <td>3201.0</td>\n",
       "      <td>92.0</td>\n",
       "      <td>121.0</td>\n",
       "      <td>6.0</td>\n",
       "      <td>NaN</td>\n",
       "      <td>NaN</td>\n",
       "      <td>0.180112</td>\n",
       "      <td>3.780069</td>\n",
       "      <td>0.006808</td>\n",
       "    </tr>\n",
       "    <tr>\n",
       "      <th>4470</th>\n",
       "      <td>Norte</td>\n",
       "      <td>RR</td>\n",
       "      <td>NaN</td>\n",
       "      <td>14.0</td>\n",
       "      <td>NaN</td>\n",
       "      <td>NaN</td>\n",
       "      <td>NaN</td>\n",
       "      <td>2020-05-24</td>\n",
       "      <td>22.0</td>\n",
       "      <td>605761.0</td>\n",
       "      <td>2439.0</td>\n",
       "      <td>65.0</td>\n",
       "      <td>84.0</td>\n",
       "      <td>3.0</td>\n",
       "      <td>NaN</td>\n",
       "      <td>NaN</td>\n",
       "      <td>0.402634</td>\n",
       "      <td>3.444034</td>\n",
       "      <td>0.013867</td>\n",
       "    </tr>\n",
       "    <tr>\n",
       "      <th>4477</th>\n",
       "      <td>Norte</td>\n",
       "      <td>RR</td>\n",
       "      <td>NaN</td>\n",
       "      <td>14.0</td>\n",
       "      <td>NaN</td>\n",
       "      <td>NaN</td>\n",
       "      <td>NaN</td>\n",
       "      <td>2020-05-31</td>\n",
       "      <td>23.0</td>\n",
       "      <td>605761.0</td>\n",
       "      <td>3474.0</td>\n",
       "      <td>175.0</td>\n",
       "      <td>116.0</td>\n",
       "      <td>6.0</td>\n",
       "      <td>NaN</td>\n",
       "      <td>NaN</td>\n",
       "      <td>0.573494</td>\n",
       "      <td>3.339090</td>\n",
       "      <td>0.019149</td>\n",
       "    </tr>\n",
       "    <tr>\n",
       "      <th>5997</th>\n",
       "      <td>Sul</td>\n",
       "      <td>RS</td>\n",
       "      <td>NaN</td>\n",
       "      <td>43.0</td>\n",
       "      <td>NaN</td>\n",
       "      <td>NaN</td>\n",
       "      <td>NaN</td>\n",
       "      <td>2020-05-24</td>\n",
       "      <td>22.0</td>\n",
       "      <td>11377239.0</td>\n",
       "      <td>6470.0</td>\n",
       "      <td>134.0</td>\n",
       "      <td>180.0</td>\n",
       "      <td>4.0</td>\n",
       "      <td>NaN</td>\n",
       "      <td>NaN</td>\n",
       "      <td>0.056868</td>\n",
       "      <td>2.782071</td>\n",
       "      <td>0.001582</td>\n",
       "    </tr>\n",
       "    <tr>\n",
       "      <th>6004</th>\n",
       "      <td>Sul</td>\n",
       "      <td>RS</td>\n",
       "      <td>NaN</td>\n",
       "      <td>43.0</td>\n",
       "      <td>NaN</td>\n",
       "      <td>NaN</td>\n",
       "      <td>NaN</td>\n",
       "      <td>2020-05-31</td>\n",
       "      <td>23.0</td>\n",
       "      <td>11377239.0</td>\n",
       "      <td>9332.0</td>\n",
       "      <td>90.0</td>\n",
       "      <td>224.0</td>\n",
       "      <td>6.0</td>\n",
       "      <td>NaN</td>\n",
       "      <td>NaN</td>\n",
       "      <td>0.082023</td>\n",
       "      <td>2.400343</td>\n",
       "      <td>0.001969</td>\n",
       "    </tr>\n",
       "    <tr>\n",
       "      <th>5914</th>\n",
       "      <td>Sul</td>\n",
       "      <td>SC</td>\n",
       "      <td>NaN</td>\n",
       "      <td>42.0</td>\n",
       "      <td>NaN</td>\n",
       "      <td>NaN</td>\n",
       "      <td>NaN</td>\n",
       "      <td>2020-05-24</td>\n",
       "      <td>22.0</td>\n",
       "      <td>7164788.0</td>\n",
       "      <td>6696.0</td>\n",
       "      <td>89.0</td>\n",
       "      <td>105.0</td>\n",
       "      <td>2.0</td>\n",
       "      <td>NaN</td>\n",
       "      <td>NaN</td>\n",
       "      <td>0.093457</td>\n",
       "      <td>1.568100</td>\n",
       "      <td>0.001466</td>\n",
       "    </tr>\n",
       "    <tr>\n",
       "      <th>5921</th>\n",
       "      <td>Sul</td>\n",
       "      <td>SC</td>\n",
       "      <td>NaN</td>\n",
       "      <td>42.0</td>\n",
       "      <td>NaN</td>\n",
       "      <td>NaN</td>\n",
       "      <td>NaN</td>\n",
       "      <td>2020-05-31</td>\n",
       "      <td>23.0</td>\n",
       "      <td>7164788.0</td>\n",
       "      <td>9037.0</td>\n",
       "      <td>259.0</td>\n",
       "      <td>143.0</td>\n",
       "      <td>7.0</td>\n",
       "      <td>NaN</td>\n",
       "      <td>NaN</td>\n",
       "      <td>0.126131</td>\n",
       "      <td>1.582384</td>\n",
       "      <td>0.001996</td>\n",
       "    </tr>\n",
       "    <tr>\n",
       "      <th>5317</th>\n",
       "      <td>Nordeste</td>\n",
       "      <td>SE</td>\n",
       "      <td>NaN</td>\n",
       "      <td>28.0</td>\n",
       "      <td>NaN</td>\n",
       "      <td>NaN</td>\n",
       "      <td>NaN</td>\n",
       "      <td>2020-05-31</td>\n",
       "      <td>23.0</td>\n",
       "      <td>2298696.0</td>\n",
       "      <td>6999.0</td>\n",
       "      <td>194.0</td>\n",
       "      <td>158.0</td>\n",
       "      <td>9.0</td>\n",
       "      <td>NaN</td>\n",
       "      <td>NaN</td>\n",
       "      <td>0.304477</td>\n",
       "      <td>2.257465</td>\n",
       "      <td>0.006873</td>\n",
       "    </tr>\n",
       "    <tr>\n",
       "      <th>5310</th>\n",
       "      <td>Nordeste</td>\n",
       "      <td>SE</td>\n",
       "      <td>NaN</td>\n",
       "      <td>28.0</td>\n",
       "      <td>NaN</td>\n",
       "      <td>NaN</td>\n",
       "      <td>NaN</td>\n",
       "      <td>2020-05-24</td>\n",
       "      <td>22.0</td>\n",
       "      <td>2298696.0</td>\n",
       "      <td>5314.0</td>\n",
       "      <td>183.0</td>\n",
       "      <td>93.0</td>\n",
       "      <td>7.0</td>\n",
       "      <td>NaN</td>\n",
       "      <td>NaN</td>\n",
       "      <td>0.231175</td>\n",
       "      <td>1.750094</td>\n",
       "      <td>0.004046</td>\n",
       "    </tr>\n",
       "    <tr>\n",
       "      <th>5760</th>\n",
       "      <td>Sudeste</td>\n",
       "      <td>SP</td>\n",
       "      <td>NaN</td>\n",
       "      <td>35.0</td>\n",
       "      <td>NaN</td>\n",
       "      <td>NaN</td>\n",
       "      <td>NaN</td>\n",
       "      <td>2020-05-31</td>\n",
       "      <td>23.0</td>\n",
       "      <td>45919049.0</td>\n",
       "      <td>109698.0</td>\n",
       "      <td>2556.0</td>\n",
       "      <td>7615.0</td>\n",
       "      <td>83.0</td>\n",
       "      <td>NaN</td>\n",
       "      <td>NaN</td>\n",
       "      <td>0.238894</td>\n",
       "      <td>6.941786</td>\n",
       "      <td>0.016584</td>\n",
       "    </tr>\n",
       "    <tr>\n",
       "      <th>5753</th>\n",
       "      <td>Sudeste</td>\n",
       "      <td>SP</td>\n",
       "      <td>NaN</td>\n",
       "      <td>35.0</td>\n",
       "      <td>NaN</td>\n",
       "      <td>NaN</td>\n",
       "      <td>NaN</td>\n",
       "      <td>2020-05-24</td>\n",
       "      <td>22.0</td>\n",
       "      <td>45919049.0</td>\n",
       "      <td>82161.0</td>\n",
       "      <td>1603.0</td>\n",
       "      <td>6163.0</td>\n",
       "      <td>118.0</td>\n",
       "      <td>NaN</td>\n",
       "      <td>NaN</td>\n",
       "      <td>0.178926</td>\n",
       "      <td>7.501126</td>\n",
       "      <td>0.013421</td>\n",
       "    </tr>\n",
       "    <tr>\n",
       "      <th>4691</th>\n",
       "      <td>Norte</td>\n",
       "      <td>TO</td>\n",
       "      <td>NaN</td>\n",
       "      <td>17.0</td>\n",
       "      <td>NaN</td>\n",
       "      <td>NaN</td>\n",
       "      <td>NaN</td>\n",
       "      <td>2020-05-24</td>\n",
       "      <td>22.0</td>\n",
       "      <td>1572866.0</td>\n",
       "      <td>2591.0</td>\n",
       "      <td>161.0</td>\n",
       "      <td>52.0</td>\n",
       "      <td>1.0</td>\n",
       "      <td>NaN</td>\n",
       "      <td>NaN</td>\n",
       "      <td>0.164731</td>\n",
       "      <td>2.006947</td>\n",
       "      <td>0.003306</td>\n",
       "    </tr>\n",
       "    <tr>\n",
       "      <th>4698</th>\n",
       "      <td>Norte</td>\n",
       "      <td>TO</td>\n",
       "      <td>NaN</td>\n",
       "      <td>17.0</td>\n",
       "      <td>NaN</td>\n",
       "      <td>NaN</td>\n",
       "      <td>NaN</td>\n",
       "      <td>2020-05-31</td>\n",
       "      <td>23.0</td>\n",
       "      <td>1572866.0</td>\n",
       "      <td>4176.0</td>\n",
       "      <td>195.0</td>\n",
       "      <td>73.0</td>\n",
       "      <td>2.0</td>\n",
       "      <td>NaN</td>\n",
       "      <td>NaN</td>\n",
       "      <td>0.265503</td>\n",
       "      <td>1.748084</td>\n",
       "      <td>0.004641</td>\n",
       "    </tr>\n",
       "  </tbody>\n",
       "</table>\n",
       "</div>"
      ],
      "text/plain": [
       "            regiao estado municipio  coduf  codmun  codRegiaoSaude  \\\n",
       "4321         Norte     AC       NaN   12.0     NaN             NaN   \n",
       "4328         Norte     AC       NaN   12.0     NaN             NaN   \n",
       "5232      Nordeste     AL       NaN   27.0     NaN             NaN   \n",
       "5239      Nordeste     AL       NaN   27.0     NaN             NaN   \n",
       "4399         Norte     AM       NaN   13.0     NaN             NaN   \n",
       "4406         Norte     AM       NaN   13.0     NaN             NaN   \n",
       "4617         Norte     AP       NaN   16.0     NaN             NaN   \n",
       "4624         Norte     AP       NaN   16.0     NaN             NaN   \n",
       "5404      Nordeste     BA       NaN   29.0     NaN             NaN   \n",
       "5397      Nordeste     BA       NaN   29.0     NaN             NaN   \n",
       "4919      Nordeste     CE       NaN   23.0     NaN             NaN   \n",
       "4912      Nordeste     CE       NaN   23.0     NaN             NaN   \n",
       "6313  Centro-Oeste     DF       NaN   53.0     NaN             NaN   \n",
       "6320  Centro-Oeste     DF       NaN   53.0     NaN             NaN   \n",
       "5576       Sudeste     ES       NaN   32.0     NaN             NaN   \n",
       "5569       Sudeste     ES       NaN   32.0     NaN             NaN   \n",
       "6234  Centro-Oeste     GO       NaN   52.0     NaN             NaN   \n",
       "6227  Centro-Oeste     GO       NaN   52.0     NaN             NaN   \n",
       "4763      Nordeste     MA       NaN   21.0     NaN             NaN   \n",
       "4770      Nordeste     MA       NaN   21.0     NaN             NaN   \n",
       "5482       Sudeste     MG       NaN   31.0     NaN             NaN   \n",
       "5489       Sudeste     MG       NaN   31.0     NaN             NaN   \n",
       "6081  Centro-Oeste     MS       NaN   50.0     NaN             NaN   \n",
       "6074  Centro-Oeste     MS       NaN   50.0     NaN             NaN   \n",
       "6154  Centro-Oeste     MT       NaN   51.0     NaN             NaN   \n",
       "6147  Centro-Oeste     MT       NaN   51.0     NaN             NaN   \n",
       "4544         Norte     PA       NaN   15.0     NaN             NaN   \n",
       "4551         Norte     PA       NaN   15.0     NaN             NaN   \n",
       "5066      Nordeste     PB       NaN   25.0     NaN             NaN   \n",
       "5073      Nordeste     PB       NaN   25.0     NaN             NaN   \n",
       "5147      Nordeste     PE       NaN   26.0     NaN             NaN   \n",
       "5154      Nordeste     PE       NaN   26.0     NaN             NaN   \n",
       "4836      Nordeste     PI       NaN   22.0     NaN             NaN   \n",
       "4843      Nordeste     PI       NaN   22.0     NaN             NaN   \n",
       "5841           Sul     PR       NaN   41.0     NaN             NaN   \n",
       "5834           Sul     PR       NaN   41.0     NaN             NaN   \n",
       "5664       Sudeste     RJ       NaN   33.0     NaN             NaN   \n",
       "5657       Sudeste     RJ       NaN   33.0     NaN             NaN   \n",
       "4999      Nordeste     RN       NaN   24.0     NaN             NaN   \n",
       "4992      Nordeste     RN       NaN   24.0     NaN             NaN   \n",
       "4254         Norte     RO       NaN   11.0     NaN             NaN   \n",
       "4247         Norte     RO       NaN   11.0     NaN             NaN   \n",
       "4470         Norte     RR       NaN   14.0     NaN             NaN   \n",
       "4477         Norte     RR       NaN   14.0     NaN             NaN   \n",
       "5997           Sul     RS       NaN   43.0     NaN             NaN   \n",
       "6004           Sul     RS       NaN   43.0     NaN             NaN   \n",
       "5914           Sul     SC       NaN   42.0     NaN             NaN   \n",
       "5921           Sul     SC       NaN   42.0     NaN             NaN   \n",
       "5317      Nordeste     SE       NaN   28.0     NaN             NaN   \n",
       "5310      Nordeste     SE       NaN   28.0     NaN             NaN   \n",
       "5760       Sudeste     SP       NaN   35.0     NaN             NaN   \n",
       "5753       Sudeste     SP       NaN   35.0     NaN             NaN   \n",
       "4691         Norte     TO       NaN   17.0     NaN             NaN   \n",
       "4698         Norte     TO       NaN   17.0     NaN             NaN   \n",
       "\n",
       "     nomeRegiaoSaude       data  semanaEpi  populacaoTCU2019  casosAcumulado  \\\n",
       "4321             NaN 2020-05-24       22.0          881935.0          4160.0   \n",
       "4328             NaN 2020-05-31       23.0          881935.0          6219.0   \n",
       "5232             NaN 2020-05-24       22.0         3337357.0          6214.0   \n",
       "5239             NaN 2020-05-31       23.0         3337357.0         10288.0   \n",
       "4399             NaN 2020-05-24       22.0         4144597.0         29867.0   \n",
       "4406             NaN 2020-05-31       23.0         4144597.0         41378.0   \n",
       "4617             NaN 2020-05-24       22.0          845731.0          6353.0   \n",
       "4624             NaN 2020-05-31       23.0          845731.0          9602.0   \n",
       "5404             NaN 2020-05-31       23.0        14873064.0         18392.0   \n",
       "5397             NaN 2020-05-24       22.0        14873064.0         13899.0   \n",
       "4919             NaN 2020-05-31       23.0         9132078.0         48489.0   \n",
       "4912             NaN 2020-05-24       22.0         9132078.0         35595.0   \n",
       "6313             NaN 2020-05-24       22.0         3015268.0          6638.0   \n",
       "6320             NaN 2020-05-31       23.0         3015268.0          9780.0   \n",
       "5576             NaN 2020-05-31       23.0         4018650.0         13690.0   \n",
       "5569             NaN 2020-05-24       22.0         4018650.0         10007.0   \n",
       "6234             NaN 2020-05-31       23.0         7018354.0          3702.0   \n",
       "6227             NaN 2020-05-24       22.0         7018354.0          2443.0   \n",
       "4763             NaN 2020-05-24       22.0         7075181.0         21191.0   \n",
       "4770             NaN 2020-05-31       23.0         7075181.0         34639.0   \n",
       "5482             NaN 2020-05-24       22.0        21168791.0          6668.0   \n",
       "5489             NaN 2020-05-31       23.0        21168791.0         10464.0   \n",
       "6081             NaN 2020-05-31       23.0         2778986.0          1489.0   \n",
       "6074             NaN 2020-05-24       22.0         2778986.0           924.0   \n",
       "6154             NaN 2020-05-31       23.0         3484466.0          2429.0   \n",
       "6147             NaN 2020-05-24       22.0         3484466.0          1462.0   \n",
       "4544             NaN 2020-05-24       22.0         8602865.0         24125.0   \n",
       "4551             NaN 2020-05-31       23.0         8602865.0         37961.0   \n",
       "5066             NaN 2020-05-24       22.0         4018127.0          7823.0   \n",
       "5073             NaN 2020-05-31       23.0         4018127.0         13162.0   \n",
       "5147             NaN 2020-05-24       22.0         9557071.0         27759.0   \n",
       "5154             NaN 2020-05-31       23.0         9557071.0         34450.0   \n",
       "4836             NaN 2020-05-24       22.0         3273227.0          3390.0   \n",
       "4843             NaN 2020-05-31       23.0         3273227.0          4931.0   \n",
       "5841             NaN 2020-05-31       23.0        11433957.0          4687.0   \n",
       "5834             NaN 2020-05-24       22.0        11433957.0          3212.0   \n",
       "5664             NaN 2020-05-31       23.0        17264943.0         53388.0   \n",
       "5657             NaN 2020-05-24       22.0        17264943.0         37912.0   \n",
       "4999             NaN 2020-05-31       23.0         3506853.0          8051.0   \n",
       "4992             NaN 2020-05-24       22.0         3506853.0          4697.0   \n",
       "4254             NaN 2020-05-31       23.0         1777225.0          4942.0   \n",
       "4247             NaN 2020-05-24       22.0         1777225.0          3201.0   \n",
       "4470             NaN 2020-05-24       22.0          605761.0          2439.0   \n",
       "4477             NaN 2020-05-31       23.0          605761.0          3474.0   \n",
       "5997             NaN 2020-05-24       22.0        11377239.0          6470.0   \n",
       "6004             NaN 2020-05-31       23.0        11377239.0          9332.0   \n",
       "5914             NaN 2020-05-24       22.0         7164788.0          6696.0   \n",
       "5921             NaN 2020-05-31       23.0         7164788.0          9037.0   \n",
       "5317             NaN 2020-05-31       23.0         2298696.0          6999.0   \n",
       "5310             NaN 2020-05-24       22.0         2298696.0          5314.0   \n",
       "5760             NaN 2020-05-31       23.0        45919049.0        109698.0   \n",
       "5753             NaN 2020-05-24       22.0        45919049.0         82161.0   \n",
       "4691             NaN 2020-05-24       22.0         1572866.0          2591.0   \n",
       "4698             NaN 2020-05-31       23.0         1572866.0          4176.0   \n",
       "\n",
       "      casosNovos  obitosAcumulado  obitosNovos  Recuperadosnovos  \\\n",
       "4321       293.0             92.0          5.0               NaN   \n",
       "4328       147.0            148.0          6.0               NaN   \n",
       "5232       584.0            316.0         15.0               NaN   \n",
       "5239      1065.0            443.0         19.0               NaN   \n",
       "4399      1065.0           1758.0         14.0               NaN   \n",
       "4406       818.0           2052.0          5.0               NaN   \n",
       "4617       262.0            163.0          1.0               NaN   \n",
       "4624       289.0            222.0          7.0               NaN   \n",
       "5404       766.0            667.0         29.0               NaN   \n",
       "5397       899.0            460.0         47.0               NaN   \n",
       "4919      1983.0           3010.0         54.0               NaN   \n",
       "4912       473.0           2324.0         16.0               NaN   \n",
       "6313       387.0            104.0          9.0               NaN   \n",
       "6320       306.0            170.0          8.0               NaN   \n",
       "5576       253.0            604.0         21.0               NaN   \n",
       "5569        89.0            446.0         29.0               NaN   \n",
       "6234       117.0            124.0          2.0               NaN   \n",
       "6227        66.0             95.0          0.0               NaN   \n",
       "4763      2424.0            754.0         32.0               NaN   \n",
       "4770      2019.0            955.0         23.0               NaN   \n",
       "5482       330.0            226.0          9.0               NaN   \n",
       "5489       834.0            271.0          8.0               NaN   \n",
       "6081        71.0             20.0          1.0               NaN   \n",
       "6074        66.0             17.0          0.0               NaN   \n",
       "6154        68.0             61.0          4.0               NaN   \n",
       "6147       110.0             40.0          3.0               NaN   \n",
       "4544      1428.0           2148.0        147.0               NaN   \n",
       "4551       665.0           2923.0         23.0               NaN   \n",
       "5066       315.0            272.0         14.0               NaN   \n",
       "5073       300.0            360.0         13.0               NaN   \n",
       "5147       973.0           2200.0         56.0               NaN   \n",
       "5154      1023.0           2807.0         67.0               NaN   \n",
       "4836       132.0            107.0          8.0               NaN   \n",
       "4843       186.0            161.0          4.0               NaN   \n",
       "5841       214.0            182.0          1.0               NaN   \n",
       "5834       113.0            153.0          3.0               NaN   \n",
       "5664       968.0           5344.0         67.0               NaN   \n",
       "5657      3379.0           3993.0         88.0               NaN   \n",
       "4999       649.0            305.0          0.0               NaN   \n",
       "4992        98.0            200.0         16.0               NaN   \n",
       "4254       199.0            156.0          5.0               NaN   \n",
       "4247        92.0            121.0          6.0               NaN   \n",
       "4470        65.0             84.0          3.0               NaN   \n",
       "4477       175.0            116.0          6.0               NaN   \n",
       "5997       134.0            180.0          4.0               NaN   \n",
       "6004        90.0            224.0          6.0               NaN   \n",
       "5914        89.0            105.0          2.0               NaN   \n",
       "5921       259.0            143.0          7.0               NaN   \n",
       "5317       194.0            158.0          9.0               NaN   \n",
       "5310       183.0             93.0          7.0               NaN   \n",
       "5760      2556.0           7615.0         83.0               NaN   \n",
       "5753      1603.0           6163.0        118.0               NaN   \n",
       "4691       161.0             52.0          1.0               NaN   \n",
       "4698       195.0             73.0          2.0               NaN   \n",
       "\n",
       "      emAcompanhamentoNovos  contamRate  lethality_pct  deathRate  \n",
       "4321                    NaN    0.471690       2.211538   0.010432  \n",
       "4328                    NaN    0.705154       2.379804   0.016781  \n",
       "5232                    NaN    0.186195       5.085291   0.009469  \n",
       "5239                    NaN    0.308268       4.305988   0.013274  \n",
       "4399                    NaN    0.720625       5.886095   0.042417  \n",
       "4406                    NaN    0.998360       4.959157   0.049510  \n",
       "4617                    NaN    0.751184       2.565717   0.019273  \n",
       "4624                    NaN    1.135349       2.312018   0.026249  \n",
       "5404                    NaN    0.123660       3.626577   0.004485  \n",
       "5397                    NaN    0.093451       3.309591   0.003093  \n",
       "4919                    NaN    0.530974       6.207593   0.032961  \n",
       "4912                    NaN    0.389780       6.529007   0.025449  \n",
       "6313                    NaN    0.220146       1.566737   0.003449  \n",
       "6320                    NaN    0.324349       1.738241   0.005638  \n",
       "5576                    NaN    0.340662       4.411980   0.015030  \n",
       "5569                    NaN    0.249014       4.456880   0.011098  \n",
       "6234                    NaN    0.052747       3.349541   0.001767  \n",
       "6227                    NaN    0.034809       3.888661   0.001354  \n",
       "4763                    NaN    0.299512       3.558114   0.010657  \n",
       "4770                    NaN    0.489585       2.757008   0.013498  \n",
       "5482                    NaN    0.031499       3.389322   0.001068  \n",
       "5489                    NaN    0.049431       2.589832   0.001280  \n",
       "6081                    NaN    0.053581       1.343183   0.000720  \n",
       "6074                    NaN    0.033250       1.839827   0.000612  \n",
       "6154                    NaN    0.069709       2.511322   0.001751  \n",
       "6147                    NaN    0.041958       2.735978   0.001148  \n",
       "4544                    NaN    0.280430       8.903627   0.024968  \n",
       "4551                    NaN    0.441260       7.700008   0.033977  \n",
       "5066                    NaN    0.194693       3.476927   0.006769  \n",
       "5073                    NaN    0.327566       2.735147   0.008959  \n",
       "5147                    NaN    0.290455       7.925358   0.023020  \n",
       "5154                    NaN    0.360466       8.148041   0.029371  \n",
       "4836                    NaN    0.103568       3.156342   0.003269  \n",
       "4843                    NaN    0.150646       3.265058   0.004919  \n",
       "5841                    NaN    0.040992       3.883081   0.001592  \n",
       "5834                    NaN    0.028092       4.763387   0.001338  \n",
       "5664                    NaN    0.309228      10.009740   0.030953  \n",
       "5657                    NaN    0.219589      10.532285   0.023128  \n",
       "4999                    NaN    0.229579       3.788349   0.008697  \n",
       "4992                    NaN    0.133938       4.258037   0.005703  \n",
       "4254                    NaN    0.278074       3.156617   0.008778  \n",
       "4247                    NaN    0.180112       3.780069   0.006808  \n",
       "4470                    NaN    0.402634       3.444034   0.013867  \n",
       "4477                    NaN    0.573494       3.339090   0.019149  \n",
       "5997                    NaN    0.056868       2.782071   0.001582  \n",
       "6004                    NaN    0.082023       2.400343   0.001969  \n",
       "5914                    NaN    0.093457       1.568100   0.001466  \n",
       "5921                    NaN    0.126131       1.582384   0.001996  \n",
       "5317                    NaN    0.304477       2.257465   0.006873  \n",
       "5310                    NaN    0.231175       1.750094   0.004046  \n",
       "5760                    NaN    0.238894       6.941786   0.016584  \n",
       "5753                    NaN    0.178926       7.501126   0.013421  \n",
       "4691                    NaN    0.164731       2.006947   0.003306  \n",
       "4698                    NaN    0.265503       1.748084   0.004641  "
      ]
     },
     "execution_count": 203,
     "metadata": {},
     "output_type": "execute_result"
    }
   ],
   "source": [
    "fourQuadData.sort_values(by=['estado'])"
   ]
  },
  {
   "cell_type": "code",
   "execution_count": null,
   "metadata": {},
   "outputs": [],
   "source": []
  },
  {
   "cell_type": "markdown",
   "metadata": {},
   "source": [
    "#### Checking values to define the chart parameters:"
   ]
  },
  {
   "cell_type": "code",
   "execution_count": 214,
   "metadata": {},
   "outputs": [
    {
     "data": {
      "text/plain": [
       "1.135349183132698"
      ]
     },
     "execution_count": 214,
     "metadata": {},
     "output_type": "execute_result"
    }
   ],
   "source": [
    "fourQuadData.contamRate.max()"
   ]
  },
  {
   "cell_type": "code",
   "execution_count": 215,
   "metadata": {},
   "outputs": [
    {
     "data": {
      "text/plain": [
       "10.53228529225575"
      ]
     },
     "execution_count": 215,
     "metadata": {},
     "output_type": "execute_result"
    }
   ],
   "source": [
    "fourQuadData.lethality_pct.max()"
   ]
  },
  {
   "cell_type": "code",
   "execution_count": 216,
   "metadata": {},
   "outputs": [
    {
     "data": {
      "text/plain": [
       "0.049510241888415206"
      ]
     },
     "execution_count": 216,
     "metadata": {},
     "output_type": "execute_result"
    }
   ],
   "source": [
    "fourQuadData.deathRate.max()"
   ]
  },
  {
   "cell_type": "code",
   "execution_count": 218,
   "metadata": {},
   "outputs": [],
   "source": [
    "dates = fourQuadData.data.unique()"
   ]
  },
  {
   "cell_type": "markdown",
   "metadata": {},
   "source": [
    "### Creating the FourQuad chart with data from different dates"
   ]
  },
  {
   "cell_type": "code",
   "execution_count": null,
   "metadata": {},
   "outputs": [],
   "source": [
    "### It starts with the first date:\n",
    "fig2 = go.figure\n",
    "\n",
    "#px.scatter(fourQuadData[fourQuadData['data'] == pd.Timestamp(dates[0])], x='lethality_pct', y='contamRate',\n",
    "#                 size='deathRate', text='estado',\n",
    "#                 size_max=40)\n",
    "\n",
    "#fig2.update_traces(textposition='middle center',\n",
    "#                   textfont=dict(family=\"sans serif\",size=13),\n",
    "#                   name='{0}'.format(pd.Timestamp(dates[0]).date())\n",
    "#                  )\n",
    "\n",
    "### Adding the second trace:\n",
    "fig2.add_trace(go.Scatter(\n",
    "    fourQuadData[fourQuadData['data'] == pd.Timestamp(dates[1])], x='lethality_pct', y='contamRate',\n",
    "    size='deathRate', text='estado',size_max=40,\n",
    "    name='{0}'.format(pd.Timestamp(dates[1]).date())\n",
    "))"
   ]
  },
  {
   "cell_type": "code",
   "execution_count": 235,
   "metadata": {},
   "outputs": [
    {
     "data": {
      "application/vnd.plotly.v1+json": {
       "config": {
        "plotlyServerURL": "https://plot.ly"
       },
       "data": [
        {
         "hovertemplate": "lethality_pct=%{x}<br>contamRate=%{y}<br>deathRate=%{marker.size}<br>estado=%{text}<extra></extra>",
         "legendgroup": "",
         "marker": {
          "color": "#636efa",
          "size": [
           0.006808366976606789,
           0.01043160777154779,
           0.04241666922019198,
           0.013866855079808704,
           0.024968426216150086,
           0.0192732677411612,
           0.0033060667596603904,
           0.010656971178546528,
           0.003268945294658757,
           0.025448753284849298,
           0.005703119007269481,
           0.006769323119951161,
           0.023019605065192045,
           0.009468570488563255,
           0.004045772037711816,
           0.0030928395117509077,
           0.0010676093878011267,
           0.011098254388911698,
           0.02312779138627912,
           0.013421445204581654,
           0.0013381194279460734,
           0.0014655004446747064,
           0.0015821061682891606,
           0.0006117339202140636,
           0.0011479520821841855,
           0.0013535937343713356,
           0.00344911298100202
          ],
          "sizemode": "area",
          "sizeref": 2.651041826261999e-05,
          "symbol": "circle"
         },
         "mode": "markers+text",
         "name": "2020-05-24",
         "orientation": "v",
         "showlegend": false,
         "text": [
          "RO",
          "AC",
          "AM",
          "RR",
          "PA",
          "AP",
          "TO",
          "MA",
          "PI",
          "CE",
          "RN",
          "PB",
          "PE",
          "AL",
          "SE",
          "BA",
          "MG",
          "ES",
          "RJ",
          "SP",
          "PR",
          "SC",
          "RS",
          "MS",
          "MT",
          "GO",
          "DF"
         ],
         "textfont": {
          "family": "sans serif",
          "size": 13
         },
         "textposition": "middle center",
         "type": "scatter",
         "x": [
          3.7800687285223367,
          2.2115384615384617,
          5.886095021260923,
          3.4440344403444034,
          8.90362694300518,
          2.565716984101999,
          2.0069471246622927,
          3.5581142938039734,
          3.1563421828908553,
          6.529006882989184,
          4.258037044922291,
          3.4769270100984273,
          7.9253575416981885,
          5.0852912777598975,
          1.7500940910801657,
          3.3095906180300743,
          3.3893221355728858,
          4.456880183871291,
          10.53228529225575,
          7.501125838293107,
          4.763387297633873,
          1.568100358422939,
          2.7820710973724885,
          1.83982683982684,
          2.7359781121751023,
          3.8886614817846907,
          1.566736968966556
         ],
         "xaxis": "x",
         "y": [
          0.1801122536538705,
          0.4716900905395522,
          0.72062494857763,
          0.4026340421387313,
          0.28042983354963724,
          0.7511844782797367,
          0.16473113412077062,
          0.2995117722076651,
          0.10356751914853445,
          0.38977985076342975,
          0.13393774988572374,
          0.19469270135065417,
          0.29045509863848457,
          0.18619524372130403,
          0.23117454417635042,
          0.09345081820396926,
          0.03149920087547749,
          0.24901397235389994,
          0.21958948836379014,
          0.17892574386721294,
          0.02809176210825351,
          0.09345705692896984,
          0.056867927271282606,
          0.03324953778104676,
          0.04195764860383198,
          0.03480873150599129,
          0.2201462689220328
         ],
         "yaxis": "y"
        }
       ],
       "layout": {
        "legend": {
         "itemsizing": "constant",
         "tracegroupgap": 0
        },
        "margin": {
         "t": 60
        },
        "template": {
         "data": {
          "bar": [
           {
            "error_x": {
             "color": "#2a3f5f"
            },
            "error_y": {
             "color": "#2a3f5f"
            },
            "marker": {
             "line": {
              "color": "#E5ECF6",
              "width": 0.5
             }
            },
            "type": "bar"
           }
          ],
          "barpolar": [
           {
            "marker": {
             "line": {
              "color": "#E5ECF6",
              "width": 0.5
             }
            },
            "type": "barpolar"
           }
          ],
          "carpet": [
           {
            "aaxis": {
             "endlinecolor": "#2a3f5f",
             "gridcolor": "white",
             "linecolor": "white",
             "minorgridcolor": "white",
             "startlinecolor": "#2a3f5f"
            },
            "baxis": {
             "endlinecolor": "#2a3f5f",
             "gridcolor": "white",
             "linecolor": "white",
             "minorgridcolor": "white",
             "startlinecolor": "#2a3f5f"
            },
            "type": "carpet"
           }
          ],
          "choropleth": [
           {
            "colorbar": {
             "outlinewidth": 0,
             "ticks": ""
            },
            "type": "choropleth"
           }
          ],
          "contour": [
           {
            "colorbar": {
             "outlinewidth": 0,
             "ticks": ""
            },
            "colorscale": [
             [
              0,
              "#0d0887"
             ],
             [
              0.1111111111111111,
              "#46039f"
             ],
             [
              0.2222222222222222,
              "#7201a8"
             ],
             [
              0.3333333333333333,
              "#9c179e"
             ],
             [
              0.4444444444444444,
              "#bd3786"
             ],
             [
              0.5555555555555556,
              "#d8576b"
             ],
             [
              0.6666666666666666,
              "#ed7953"
             ],
             [
              0.7777777777777778,
              "#fb9f3a"
             ],
             [
              0.8888888888888888,
              "#fdca26"
             ],
             [
              1,
              "#f0f921"
             ]
            ],
            "type": "contour"
           }
          ],
          "contourcarpet": [
           {
            "colorbar": {
             "outlinewidth": 0,
             "ticks": ""
            },
            "type": "contourcarpet"
           }
          ],
          "heatmap": [
           {
            "colorbar": {
             "outlinewidth": 0,
             "ticks": ""
            },
            "colorscale": [
             [
              0,
              "#0d0887"
             ],
             [
              0.1111111111111111,
              "#46039f"
             ],
             [
              0.2222222222222222,
              "#7201a8"
             ],
             [
              0.3333333333333333,
              "#9c179e"
             ],
             [
              0.4444444444444444,
              "#bd3786"
             ],
             [
              0.5555555555555556,
              "#d8576b"
             ],
             [
              0.6666666666666666,
              "#ed7953"
             ],
             [
              0.7777777777777778,
              "#fb9f3a"
             ],
             [
              0.8888888888888888,
              "#fdca26"
             ],
             [
              1,
              "#f0f921"
             ]
            ],
            "type": "heatmap"
           }
          ],
          "heatmapgl": [
           {
            "colorbar": {
             "outlinewidth": 0,
             "ticks": ""
            },
            "colorscale": [
             [
              0,
              "#0d0887"
             ],
             [
              0.1111111111111111,
              "#46039f"
             ],
             [
              0.2222222222222222,
              "#7201a8"
             ],
             [
              0.3333333333333333,
              "#9c179e"
             ],
             [
              0.4444444444444444,
              "#bd3786"
             ],
             [
              0.5555555555555556,
              "#d8576b"
             ],
             [
              0.6666666666666666,
              "#ed7953"
             ],
             [
              0.7777777777777778,
              "#fb9f3a"
             ],
             [
              0.8888888888888888,
              "#fdca26"
             ],
             [
              1,
              "#f0f921"
             ]
            ],
            "type": "heatmapgl"
           }
          ],
          "histogram": [
           {
            "marker": {
             "colorbar": {
              "outlinewidth": 0,
              "ticks": ""
             }
            },
            "type": "histogram"
           }
          ],
          "histogram2d": [
           {
            "colorbar": {
             "outlinewidth": 0,
             "ticks": ""
            },
            "colorscale": [
             [
              0,
              "#0d0887"
             ],
             [
              0.1111111111111111,
              "#46039f"
             ],
             [
              0.2222222222222222,
              "#7201a8"
             ],
             [
              0.3333333333333333,
              "#9c179e"
             ],
             [
              0.4444444444444444,
              "#bd3786"
             ],
             [
              0.5555555555555556,
              "#d8576b"
             ],
             [
              0.6666666666666666,
              "#ed7953"
             ],
             [
              0.7777777777777778,
              "#fb9f3a"
             ],
             [
              0.8888888888888888,
              "#fdca26"
             ],
             [
              1,
              "#f0f921"
             ]
            ],
            "type": "histogram2d"
           }
          ],
          "histogram2dcontour": [
           {
            "colorbar": {
             "outlinewidth": 0,
             "ticks": ""
            },
            "colorscale": [
             [
              0,
              "#0d0887"
             ],
             [
              0.1111111111111111,
              "#46039f"
             ],
             [
              0.2222222222222222,
              "#7201a8"
             ],
             [
              0.3333333333333333,
              "#9c179e"
             ],
             [
              0.4444444444444444,
              "#bd3786"
             ],
             [
              0.5555555555555556,
              "#d8576b"
             ],
             [
              0.6666666666666666,
              "#ed7953"
             ],
             [
              0.7777777777777778,
              "#fb9f3a"
             ],
             [
              0.8888888888888888,
              "#fdca26"
             ],
             [
              1,
              "#f0f921"
             ]
            ],
            "type": "histogram2dcontour"
           }
          ],
          "mesh3d": [
           {
            "colorbar": {
             "outlinewidth": 0,
             "ticks": ""
            },
            "type": "mesh3d"
           }
          ],
          "parcoords": [
           {
            "line": {
             "colorbar": {
              "outlinewidth": 0,
              "ticks": ""
             }
            },
            "type": "parcoords"
           }
          ],
          "pie": [
           {
            "automargin": true,
            "type": "pie"
           }
          ],
          "scatter": [
           {
            "marker": {
             "colorbar": {
              "outlinewidth": 0,
              "ticks": ""
             }
            },
            "type": "scatter"
           }
          ],
          "scatter3d": [
           {
            "line": {
             "colorbar": {
              "outlinewidth": 0,
              "ticks": ""
             }
            },
            "marker": {
             "colorbar": {
              "outlinewidth": 0,
              "ticks": ""
             }
            },
            "type": "scatter3d"
           }
          ],
          "scattercarpet": [
           {
            "marker": {
             "colorbar": {
              "outlinewidth": 0,
              "ticks": ""
             }
            },
            "type": "scattercarpet"
           }
          ],
          "scattergeo": [
           {
            "marker": {
             "colorbar": {
              "outlinewidth": 0,
              "ticks": ""
             }
            },
            "type": "scattergeo"
           }
          ],
          "scattergl": [
           {
            "marker": {
             "colorbar": {
              "outlinewidth": 0,
              "ticks": ""
             }
            },
            "type": "scattergl"
           }
          ],
          "scattermapbox": [
           {
            "marker": {
             "colorbar": {
              "outlinewidth": 0,
              "ticks": ""
             }
            },
            "type": "scattermapbox"
           }
          ],
          "scatterpolar": [
           {
            "marker": {
             "colorbar": {
              "outlinewidth": 0,
              "ticks": ""
             }
            },
            "type": "scatterpolar"
           }
          ],
          "scatterpolargl": [
           {
            "marker": {
             "colorbar": {
              "outlinewidth": 0,
              "ticks": ""
             }
            },
            "type": "scatterpolargl"
           }
          ],
          "scatterternary": [
           {
            "marker": {
             "colorbar": {
              "outlinewidth": 0,
              "ticks": ""
             }
            },
            "type": "scatterternary"
           }
          ],
          "surface": [
           {
            "colorbar": {
             "outlinewidth": 0,
             "ticks": ""
            },
            "colorscale": [
             [
              0,
              "#0d0887"
             ],
             [
              0.1111111111111111,
              "#46039f"
             ],
             [
              0.2222222222222222,
              "#7201a8"
             ],
             [
              0.3333333333333333,
              "#9c179e"
             ],
             [
              0.4444444444444444,
              "#bd3786"
             ],
             [
              0.5555555555555556,
              "#d8576b"
             ],
             [
              0.6666666666666666,
              "#ed7953"
             ],
             [
              0.7777777777777778,
              "#fb9f3a"
             ],
             [
              0.8888888888888888,
              "#fdca26"
             ],
             [
              1,
              "#f0f921"
             ]
            ],
            "type": "surface"
           }
          ],
          "table": [
           {
            "cells": {
             "fill": {
              "color": "#EBF0F8"
             },
             "line": {
              "color": "white"
             }
            },
            "header": {
             "fill": {
              "color": "#C8D4E3"
             },
             "line": {
              "color": "white"
             }
            },
            "type": "table"
           }
          ]
         },
         "layout": {
          "annotationdefaults": {
           "arrowcolor": "#2a3f5f",
           "arrowhead": 0,
           "arrowwidth": 1
          },
          "coloraxis": {
           "colorbar": {
            "outlinewidth": 0,
            "ticks": ""
           }
          },
          "colorscale": {
           "diverging": [
            [
             0,
             "#8e0152"
            ],
            [
             0.1,
             "#c51b7d"
            ],
            [
             0.2,
             "#de77ae"
            ],
            [
             0.3,
             "#f1b6da"
            ],
            [
             0.4,
             "#fde0ef"
            ],
            [
             0.5,
             "#f7f7f7"
            ],
            [
             0.6,
             "#e6f5d0"
            ],
            [
             0.7,
             "#b8e186"
            ],
            [
             0.8,
             "#7fbc41"
            ],
            [
             0.9,
             "#4d9221"
            ],
            [
             1,
             "#276419"
            ]
           ],
           "sequential": [
            [
             0,
             "#0d0887"
            ],
            [
             0.1111111111111111,
             "#46039f"
            ],
            [
             0.2222222222222222,
             "#7201a8"
            ],
            [
             0.3333333333333333,
             "#9c179e"
            ],
            [
             0.4444444444444444,
             "#bd3786"
            ],
            [
             0.5555555555555556,
             "#d8576b"
            ],
            [
             0.6666666666666666,
             "#ed7953"
            ],
            [
             0.7777777777777778,
             "#fb9f3a"
            ],
            [
             0.8888888888888888,
             "#fdca26"
            ],
            [
             1,
             "#f0f921"
            ]
           ],
           "sequentialminus": [
            [
             0,
             "#0d0887"
            ],
            [
             0.1111111111111111,
             "#46039f"
            ],
            [
             0.2222222222222222,
             "#7201a8"
            ],
            [
             0.3333333333333333,
             "#9c179e"
            ],
            [
             0.4444444444444444,
             "#bd3786"
            ],
            [
             0.5555555555555556,
             "#d8576b"
            ],
            [
             0.6666666666666666,
             "#ed7953"
            ],
            [
             0.7777777777777778,
             "#fb9f3a"
            ],
            [
             0.8888888888888888,
             "#fdca26"
            ],
            [
             1,
             "#f0f921"
            ]
           ]
          },
          "colorway": [
           "#636efa",
           "#EF553B",
           "#00cc96",
           "#ab63fa",
           "#FFA15A",
           "#19d3f3",
           "#FF6692",
           "#B6E880",
           "#FF97FF",
           "#FECB52"
          ],
          "font": {
           "color": "#2a3f5f"
          },
          "geo": {
           "bgcolor": "white",
           "lakecolor": "white",
           "landcolor": "#E5ECF6",
           "showlakes": true,
           "showland": true,
           "subunitcolor": "white"
          },
          "hoverlabel": {
           "align": "left"
          },
          "hovermode": "closest",
          "mapbox": {
           "style": "light"
          },
          "paper_bgcolor": "white",
          "plot_bgcolor": "#E5ECF6",
          "polar": {
           "angularaxis": {
            "gridcolor": "white",
            "linecolor": "white",
            "ticks": ""
           },
           "bgcolor": "#E5ECF6",
           "radialaxis": {
            "gridcolor": "white",
            "linecolor": "white",
            "ticks": ""
           }
          },
          "scene": {
           "xaxis": {
            "backgroundcolor": "#E5ECF6",
            "gridcolor": "white",
            "gridwidth": 2,
            "linecolor": "white",
            "showbackground": true,
            "ticks": "",
            "zerolinecolor": "white"
           },
           "yaxis": {
            "backgroundcolor": "#E5ECF6",
            "gridcolor": "white",
            "gridwidth": 2,
            "linecolor": "white",
            "showbackground": true,
            "ticks": "",
            "zerolinecolor": "white"
           },
           "zaxis": {
            "backgroundcolor": "#E5ECF6",
            "gridcolor": "white",
            "gridwidth": 2,
            "linecolor": "white",
            "showbackground": true,
            "ticks": "",
            "zerolinecolor": "white"
           }
          },
          "shapedefaults": {
           "line": {
            "color": "#2a3f5f"
           }
          },
          "ternary": {
           "aaxis": {
            "gridcolor": "white",
            "linecolor": "white",
            "ticks": ""
           },
           "baxis": {
            "gridcolor": "white",
            "linecolor": "white",
            "ticks": ""
           },
           "bgcolor": "#E5ECF6",
           "caxis": {
            "gridcolor": "white",
            "linecolor": "white",
            "ticks": ""
           }
          },
          "title": {
           "x": 0.05
          },
          "xaxis": {
           "automargin": true,
           "gridcolor": "white",
           "linecolor": "white",
           "ticks": "",
           "title": {
            "standoff": 15
           },
           "zerolinecolor": "white",
           "zerolinewidth": 2
          },
          "yaxis": {
           "automargin": true,
           "gridcolor": "white",
           "linecolor": "white",
           "ticks": "",
           "title": {
            "standoff": 15
           },
           "zerolinecolor": "white",
           "zerolinewidth": 2
          }
         }
        },
        "xaxis": {
         "anchor": "y",
         "domain": [
          0,
          1
         ],
         "title": {
          "text": "lethality_pct"
         }
        },
        "yaxis": {
         "anchor": "x",
         "domain": [
          0,
          1
         ],
         "title": {
          "text": "contamRate"
         }
        }
       }
      },
      "text/html": [
       "<div>\n",
       "        \n",
       "        \n",
       "            <div id=\"281ee9c8-adaa-4ec3-af37-de7089caafb4\" class=\"plotly-graph-div\" style=\"height:525px; width:100%;\"></div>\n",
       "            <script type=\"text/javascript\">\n",
       "                require([\"plotly\"], function(Plotly) {\n",
       "                    window.PLOTLYENV=window.PLOTLYENV || {};\n",
       "                    \n",
       "                if (document.getElementById(\"281ee9c8-adaa-4ec3-af37-de7089caafb4\")) {\n",
       "                    Plotly.newPlot(\n",
       "                        '281ee9c8-adaa-4ec3-af37-de7089caafb4',\n",
       "                        [{\"hovertemplate\": \"lethality_pct=%{x}<br>contamRate=%{y}<br>deathRate=%{marker.size}<br>estado=%{text}<extra></extra>\", \"legendgroup\": \"\", \"marker\": {\"color\": \"#636efa\", \"size\": [0.006808366976606789, 0.01043160777154779, 0.04241666922019198, 0.013866855079808704, 0.024968426216150086, 0.0192732677411612, 0.0033060667596603904, 0.010656971178546528, 0.003268945294658757, 0.025448753284849298, 0.005703119007269481, 0.006769323119951161, 0.023019605065192045, 0.009468570488563255, 0.004045772037711816, 0.0030928395117509077, 0.0010676093878011267, 0.011098254388911698, 0.02312779138627912, 0.013421445204581654, 0.0013381194279460734, 0.0014655004446747064, 0.0015821061682891606, 0.0006117339202140636, 0.0011479520821841855, 0.0013535937343713356, 0.00344911298100202], \"sizemode\": \"area\", \"sizeref\": 2.651041826261999e-05, \"symbol\": \"circle\"}, \"mode\": \"markers+text\", \"name\": \"2020-05-24\", \"orientation\": \"v\", \"showlegend\": false, \"text\": [\"RO\", \"AC\", \"AM\", \"RR\", \"PA\", \"AP\", \"TO\", \"MA\", \"PI\", \"CE\", \"RN\", \"PB\", \"PE\", \"AL\", \"SE\", \"BA\", \"MG\", \"ES\", \"RJ\", \"SP\", \"PR\", \"SC\", \"RS\", \"MS\", \"MT\", \"GO\", \"DF\"], \"textfont\": {\"family\": \"sans serif\", \"size\": 13}, \"textposition\": \"middle center\", \"type\": \"scatter\", \"x\": [3.7800687285223367, 2.2115384615384617, 5.886095021260923, 3.4440344403444034, 8.90362694300518, 2.565716984101999, 2.0069471246622927, 3.5581142938039734, 3.1563421828908553, 6.529006882989184, 4.258037044922291, 3.4769270100984273, 7.9253575416981885, 5.0852912777598975, 1.7500940910801657, 3.3095906180300743, 3.3893221355728858, 4.456880183871291, 10.53228529225575, 7.501125838293107, 4.763387297633873, 1.568100358422939, 2.7820710973724885, 1.83982683982684, 2.7359781121751023, 3.8886614817846907, 1.566736968966556], \"xaxis\": \"x\", \"y\": [0.1801122536538705, 0.4716900905395522, 0.72062494857763, 0.4026340421387313, 0.28042983354963724, 0.7511844782797367, 0.16473113412077062, 0.2995117722076651, 0.10356751914853445, 0.38977985076342975, 0.13393774988572374, 0.19469270135065417, 0.29045509863848457, 0.18619524372130403, 0.23117454417635042, 0.09345081820396926, 0.03149920087547749, 0.24901397235389994, 0.21958948836379014, 0.17892574386721294, 0.02809176210825351, 0.09345705692896984, 0.056867927271282606, 0.03324953778104676, 0.04195764860383198, 0.03480873150599129, 0.2201462689220328], \"yaxis\": \"y\"}],\n",
       "                        {\"legend\": {\"itemsizing\": \"constant\", \"tracegroupgap\": 0}, \"margin\": {\"t\": 60}, \"template\": {\"data\": {\"bar\": [{\"error_x\": {\"color\": \"#2a3f5f\"}, \"error_y\": {\"color\": \"#2a3f5f\"}, \"marker\": {\"line\": {\"color\": \"#E5ECF6\", \"width\": 0.5}}, \"type\": \"bar\"}], \"barpolar\": [{\"marker\": {\"line\": {\"color\": \"#E5ECF6\", \"width\": 0.5}}, \"type\": \"barpolar\"}], \"carpet\": [{\"aaxis\": {\"endlinecolor\": \"#2a3f5f\", \"gridcolor\": \"white\", \"linecolor\": \"white\", \"minorgridcolor\": \"white\", \"startlinecolor\": \"#2a3f5f\"}, \"baxis\": {\"endlinecolor\": \"#2a3f5f\", \"gridcolor\": \"white\", \"linecolor\": \"white\", \"minorgridcolor\": \"white\", \"startlinecolor\": \"#2a3f5f\"}, \"type\": \"carpet\"}], \"choropleth\": [{\"colorbar\": {\"outlinewidth\": 0, \"ticks\": \"\"}, \"type\": \"choropleth\"}], \"contour\": [{\"colorbar\": {\"outlinewidth\": 0, \"ticks\": \"\"}, \"colorscale\": [[0.0, \"#0d0887\"], [0.1111111111111111, \"#46039f\"], [0.2222222222222222, \"#7201a8\"], [0.3333333333333333, \"#9c179e\"], [0.4444444444444444, \"#bd3786\"], [0.5555555555555556, \"#d8576b\"], [0.6666666666666666, \"#ed7953\"], [0.7777777777777778, \"#fb9f3a\"], [0.8888888888888888, \"#fdca26\"], [1.0, \"#f0f921\"]], \"type\": \"contour\"}], \"contourcarpet\": [{\"colorbar\": {\"outlinewidth\": 0, \"ticks\": \"\"}, \"type\": \"contourcarpet\"}], \"heatmap\": [{\"colorbar\": {\"outlinewidth\": 0, \"ticks\": \"\"}, \"colorscale\": [[0.0, \"#0d0887\"], [0.1111111111111111, \"#46039f\"], [0.2222222222222222, \"#7201a8\"], [0.3333333333333333, \"#9c179e\"], [0.4444444444444444, \"#bd3786\"], [0.5555555555555556, \"#d8576b\"], [0.6666666666666666, \"#ed7953\"], [0.7777777777777778, \"#fb9f3a\"], [0.8888888888888888, \"#fdca26\"], [1.0, \"#f0f921\"]], \"type\": \"heatmap\"}], \"heatmapgl\": [{\"colorbar\": {\"outlinewidth\": 0, \"ticks\": \"\"}, \"colorscale\": [[0.0, \"#0d0887\"], [0.1111111111111111, \"#46039f\"], [0.2222222222222222, \"#7201a8\"], [0.3333333333333333, \"#9c179e\"], [0.4444444444444444, \"#bd3786\"], [0.5555555555555556, \"#d8576b\"], [0.6666666666666666, \"#ed7953\"], [0.7777777777777778, \"#fb9f3a\"], [0.8888888888888888, \"#fdca26\"], [1.0, \"#f0f921\"]], \"type\": \"heatmapgl\"}], \"histogram\": [{\"marker\": {\"colorbar\": {\"outlinewidth\": 0, \"ticks\": \"\"}}, \"type\": \"histogram\"}], \"histogram2d\": [{\"colorbar\": {\"outlinewidth\": 0, \"ticks\": \"\"}, \"colorscale\": [[0.0, \"#0d0887\"], [0.1111111111111111, \"#46039f\"], [0.2222222222222222, \"#7201a8\"], [0.3333333333333333, \"#9c179e\"], [0.4444444444444444, \"#bd3786\"], [0.5555555555555556, \"#d8576b\"], [0.6666666666666666, \"#ed7953\"], [0.7777777777777778, \"#fb9f3a\"], [0.8888888888888888, \"#fdca26\"], [1.0, \"#f0f921\"]], \"type\": \"histogram2d\"}], \"histogram2dcontour\": [{\"colorbar\": {\"outlinewidth\": 0, \"ticks\": \"\"}, \"colorscale\": [[0.0, \"#0d0887\"], [0.1111111111111111, \"#46039f\"], [0.2222222222222222, \"#7201a8\"], [0.3333333333333333, \"#9c179e\"], [0.4444444444444444, \"#bd3786\"], [0.5555555555555556, \"#d8576b\"], [0.6666666666666666, \"#ed7953\"], [0.7777777777777778, \"#fb9f3a\"], [0.8888888888888888, \"#fdca26\"], [1.0, \"#f0f921\"]], \"type\": \"histogram2dcontour\"}], \"mesh3d\": [{\"colorbar\": {\"outlinewidth\": 0, \"ticks\": \"\"}, \"type\": \"mesh3d\"}], \"parcoords\": [{\"line\": {\"colorbar\": {\"outlinewidth\": 0, \"ticks\": \"\"}}, \"type\": \"parcoords\"}], \"pie\": [{\"automargin\": true, \"type\": \"pie\"}], \"scatter\": [{\"marker\": {\"colorbar\": {\"outlinewidth\": 0, \"ticks\": \"\"}}, \"type\": \"scatter\"}], \"scatter3d\": [{\"line\": {\"colorbar\": {\"outlinewidth\": 0, \"ticks\": \"\"}}, \"marker\": {\"colorbar\": {\"outlinewidth\": 0, \"ticks\": \"\"}}, \"type\": \"scatter3d\"}], \"scattercarpet\": [{\"marker\": {\"colorbar\": {\"outlinewidth\": 0, \"ticks\": \"\"}}, \"type\": \"scattercarpet\"}], \"scattergeo\": [{\"marker\": {\"colorbar\": {\"outlinewidth\": 0, \"ticks\": \"\"}}, \"type\": \"scattergeo\"}], \"scattergl\": [{\"marker\": {\"colorbar\": {\"outlinewidth\": 0, \"ticks\": \"\"}}, \"type\": \"scattergl\"}], \"scattermapbox\": [{\"marker\": {\"colorbar\": {\"outlinewidth\": 0, \"ticks\": \"\"}}, \"type\": \"scattermapbox\"}], \"scatterpolar\": [{\"marker\": {\"colorbar\": {\"outlinewidth\": 0, \"ticks\": \"\"}}, \"type\": \"scatterpolar\"}], \"scatterpolargl\": [{\"marker\": {\"colorbar\": {\"outlinewidth\": 0, \"ticks\": \"\"}}, \"type\": \"scatterpolargl\"}], \"scatterternary\": [{\"marker\": {\"colorbar\": {\"outlinewidth\": 0, \"ticks\": \"\"}}, \"type\": \"scatterternary\"}], \"surface\": [{\"colorbar\": {\"outlinewidth\": 0, \"ticks\": \"\"}, \"colorscale\": [[0.0, \"#0d0887\"], [0.1111111111111111, \"#46039f\"], [0.2222222222222222, \"#7201a8\"], [0.3333333333333333, \"#9c179e\"], [0.4444444444444444, \"#bd3786\"], [0.5555555555555556, \"#d8576b\"], [0.6666666666666666, \"#ed7953\"], [0.7777777777777778, \"#fb9f3a\"], [0.8888888888888888, \"#fdca26\"], [1.0, \"#f0f921\"]], \"type\": \"surface\"}], \"table\": [{\"cells\": {\"fill\": {\"color\": \"#EBF0F8\"}, \"line\": {\"color\": \"white\"}}, \"header\": {\"fill\": {\"color\": \"#C8D4E3\"}, \"line\": {\"color\": \"white\"}}, \"type\": \"table\"}]}, \"layout\": {\"annotationdefaults\": {\"arrowcolor\": \"#2a3f5f\", \"arrowhead\": 0, \"arrowwidth\": 1}, \"coloraxis\": {\"colorbar\": {\"outlinewidth\": 0, \"ticks\": \"\"}}, \"colorscale\": {\"diverging\": [[0, \"#8e0152\"], [0.1, \"#c51b7d\"], [0.2, \"#de77ae\"], [0.3, \"#f1b6da\"], [0.4, \"#fde0ef\"], [0.5, \"#f7f7f7\"], [0.6, \"#e6f5d0\"], [0.7, \"#b8e186\"], [0.8, \"#7fbc41\"], [0.9, \"#4d9221\"], [1, \"#276419\"]], \"sequential\": [[0.0, \"#0d0887\"], [0.1111111111111111, \"#46039f\"], [0.2222222222222222, \"#7201a8\"], [0.3333333333333333, \"#9c179e\"], [0.4444444444444444, \"#bd3786\"], [0.5555555555555556, \"#d8576b\"], [0.6666666666666666, \"#ed7953\"], [0.7777777777777778, \"#fb9f3a\"], [0.8888888888888888, \"#fdca26\"], [1.0, \"#f0f921\"]], \"sequentialminus\": [[0.0, \"#0d0887\"], [0.1111111111111111, \"#46039f\"], [0.2222222222222222, \"#7201a8\"], [0.3333333333333333, \"#9c179e\"], [0.4444444444444444, \"#bd3786\"], [0.5555555555555556, \"#d8576b\"], [0.6666666666666666, \"#ed7953\"], [0.7777777777777778, \"#fb9f3a\"], [0.8888888888888888, \"#fdca26\"], [1.0, \"#f0f921\"]]}, \"colorway\": [\"#636efa\", \"#EF553B\", \"#00cc96\", \"#ab63fa\", \"#FFA15A\", \"#19d3f3\", \"#FF6692\", \"#B6E880\", \"#FF97FF\", \"#FECB52\"], \"font\": {\"color\": \"#2a3f5f\"}, \"geo\": {\"bgcolor\": \"white\", \"lakecolor\": \"white\", \"landcolor\": \"#E5ECF6\", \"showlakes\": true, \"showland\": true, \"subunitcolor\": \"white\"}, \"hoverlabel\": {\"align\": \"left\"}, \"hovermode\": \"closest\", \"mapbox\": {\"style\": \"light\"}, \"paper_bgcolor\": \"white\", \"plot_bgcolor\": \"#E5ECF6\", \"polar\": {\"angularaxis\": {\"gridcolor\": \"white\", \"linecolor\": \"white\", \"ticks\": \"\"}, \"bgcolor\": \"#E5ECF6\", \"radialaxis\": {\"gridcolor\": \"white\", \"linecolor\": \"white\", \"ticks\": \"\"}}, \"scene\": {\"xaxis\": {\"backgroundcolor\": \"#E5ECF6\", \"gridcolor\": \"white\", \"gridwidth\": 2, \"linecolor\": \"white\", \"showbackground\": true, \"ticks\": \"\", \"zerolinecolor\": \"white\"}, \"yaxis\": {\"backgroundcolor\": \"#E5ECF6\", \"gridcolor\": \"white\", \"gridwidth\": 2, \"linecolor\": \"white\", \"showbackground\": true, \"ticks\": \"\", \"zerolinecolor\": \"white\"}, \"zaxis\": {\"backgroundcolor\": \"#E5ECF6\", \"gridcolor\": \"white\", \"gridwidth\": 2, \"linecolor\": \"white\", \"showbackground\": true, \"ticks\": \"\", \"zerolinecolor\": \"white\"}}, \"shapedefaults\": {\"line\": {\"color\": \"#2a3f5f\"}}, \"ternary\": {\"aaxis\": {\"gridcolor\": \"white\", \"linecolor\": \"white\", \"ticks\": \"\"}, \"baxis\": {\"gridcolor\": \"white\", \"linecolor\": \"white\", \"ticks\": \"\"}, \"bgcolor\": \"#E5ECF6\", \"caxis\": {\"gridcolor\": \"white\", \"linecolor\": \"white\", \"ticks\": \"\"}}, \"title\": {\"x\": 0.05}, \"xaxis\": {\"automargin\": true, \"gridcolor\": \"white\", \"linecolor\": \"white\", \"ticks\": \"\", \"title\": {\"standoff\": 15}, \"zerolinecolor\": \"white\", \"zerolinewidth\": 2}, \"yaxis\": {\"automargin\": true, \"gridcolor\": \"white\", \"linecolor\": \"white\", \"ticks\": \"\", \"title\": {\"standoff\": 15}, \"zerolinecolor\": \"white\", \"zerolinewidth\": 2}}}, \"xaxis\": {\"anchor\": \"y\", \"domain\": [0.0, 1.0], \"title\": {\"text\": \"lethality_pct\"}}, \"yaxis\": {\"anchor\": \"x\", \"domain\": [0.0, 1.0], \"title\": {\"text\": \"contamRate\"}}},\n",
       "                        {\"responsive\": true}\n",
       "                    ).then(function(){\n",
       "                            \n",
       "var gd = document.getElementById('281ee9c8-adaa-4ec3-af37-de7089caafb4');\n",
       "var x = new MutationObserver(function (mutations, observer) {{\n",
       "        var display = window.getComputedStyle(gd).display;\n",
       "        if (!display || display === 'none') {{\n",
       "            console.log([gd, 'removed!']);\n",
       "            Plotly.purge(gd);\n",
       "            observer.disconnect();\n",
       "        }}\n",
       "}});\n",
       "\n",
       "// Listen for the removal of the full notebook cells\n",
       "var notebookContainer = gd.closest('#notebook-container');\n",
       "if (notebookContainer) {{\n",
       "    x.observe(notebookContainer, {childList: true});\n",
       "}}\n",
       "\n",
       "// Listen for the clearing of the current output cell\n",
       "var outputEl = gd.closest('.output');\n",
       "if (outputEl) {{\n",
       "    x.observe(outputEl, {childList: true});\n",
       "}}\n",
       "\n",
       "                        })\n",
       "                };\n",
       "                });\n",
       "            </script>\n",
       "        </div>"
      ]
     },
     "metadata": {},
     "output_type": "display_data"
    }
   ],
   "source": [
    "### It starts with the first date:\n",
    "fig2 = px.scatter(fourQuadData[fourQuadData['data'] == pd.Timestamp(dates[0])], x='lethality_pct', y='contamRate',\n",
    "                 size='deathRate', text='estado',\n",
    "                 size_max=40)\n",
    "\n",
    "fig2.update_traces(textposition='middle center',\n",
    "                   textfont=dict(family=\"sans serif\",size=13),\n",
    "                   name='{0}'.format(pd.Timestamp(dates[0]).date())\n",
    "                  )\n",
    "\n",
    "### Adding the second trace"
   ]
  },
  {
   "cell_type": "code",
   "execution_count": 238,
   "metadata": {
    "scrolled": false
   },
   "outputs": [
    {
     "data": {
      "application/vnd.plotly.v1+json": {
       "config": {
        "plotlyServerURL": "https://plot.ly"
       },
       "data": [
        {
         "hovertemplate": "data=2020-05-24 00:00:00<br>lethality_pct=%{x}<br>contamRate=%{y}<br>deathRate=%{marker.size}<br>estado=%{text}<extra></extra>",
         "legendgroup": "2020-05-24 00:00:00",
         "marker": {
          "color": "#00cc96",
          "size": [
           0.006808366976606789,
           0.01043160777154779,
           0.04241666922019198,
           0.013866855079808704,
           0.024968426216150086,
           0.0192732677411612,
           0.0033060667596603904,
           0.010656971178546528,
           0.003268945294658757,
           0.025448753284849298,
           0.005703119007269481,
           0.006769323119951161,
           0.023019605065192045,
           0.009468570488563255,
           0.004045772037711816,
           0.0030928395117509077,
           0.0010676093878011267,
           0.011098254388911698,
           0.02312779138627912,
           0.013421445204581654,
           0.0013381194279460734,
           0.0014655004446747064,
           0.0015821061682891606,
           0.0006117339202140636,
           0.0011479520821841855,
           0.0013535937343713356,
           0.00344911298100202
          ],
          "sizemode": "area",
          "sizeref": 3.0943901180259504e-05,
          "symbol": "circle"
         },
         "mode": "markers+text",
         "name": "2020-05-24 00:00:00",
         "orientation": "v",
         "showlegend": true,
         "text": [
          "RO",
          "AC",
          "AM",
          "RR",
          "PA",
          "AP",
          "TO",
          "MA",
          "PI",
          "CE",
          "RN",
          "PB",
          "PE",
          "AL",
          "SE",
          "BA",
          "MG",
          "ES",
          "RJ",
          "SP",
          "PR",
          "SC",
          "RS",
          "MS",
          "MT",
          "GO",
          "DF"
         ],
         "textfont": {
          "family": "sans serif",
          "size": 13
         },
         "textposition": "middle center",
         "type": "scatter",
         "x": [
          3.7800687285223367,
          2.2115384615384617,
          5.886095021260923,
          3.4440344403444034,
          8.90362694300518,
          2.565716984101999,
          2.0069471246622927,
          3.5581142938039734,
          3.1563421828908553,
          6.529006882989184,
          4.258037044922291,
          3.4769270100984273,
          7.9253575416981885,
          5.0852912777598975,
          1.7500940910801657,
          3.3095906180300743,
          3.3893221355728858,
          4.456880183871291,
          10.53228529225575,
          7.501125838293107,
          4.763387297633873,
          1.568100358422939,
          2.7820710973724885,
          1.83982683982684,
          2.7359781121751023,
          3.8886614817846907,
          1.566736968966556
         ],
         "xaxis": "x",
         "y": [
          0.1801122536538705,
          0.4716900905395522,
          0.72062494857763,
          0.4026340421387313,
          0.28042983354963724,
          0.7511844782797367,
          0.16473113412077062,
          0.2995117722076651,
          0.10356751914853445,
          0.38977985076342975,
          0.13393774988572374,
          0.19469270135065417,
          0.29045509863848457,
          0.18619524372130403,
          0.23117454417635042,
          0.09345081820396926,
          0.03149920087547749,
          0.24901397235389994,
          0.21958948836379014,
          0.17892574386721294,
          0.02809176210825351,
          0.09345705692896984,
          0.056867927271282606,
          0.03324953778104676,
          0.04195764860383198,
          0.03480873150599129,
          0.2201462689220328
         ],
         "yaxis": "y"
        },
        {
         "hovertemplate": "data=2020-05-31 00:00:00<br>lethality_pct=%{x}<br>contamRate=%{y}<br>deathRate=%{marker.size}<br>estado=%{text}<extra></extra>",
         "legendgroup": "2020-05-31 00:00:00",
         "marker": {
          "color": "#ab63fa",
          "size": [
           0.008777729325212058,
           0.016781282067272533,
           0.049510241888415206,
           0.019149466538783445,
           0.033977052993392313,
           0.026249481218023226,
           0.004641209104907856,
           0.013497887898556942,
           0.00491869338729028,
           0.03296073467616023,
           0.008697256486085958,
           0.008959398246994184,
           0.02937092337181549,
           0.013273976982384564,
           0.006873462171596418,
           0.004484617292038816,
           0.0012801864782925015,
           0.015029922984086697,
           0.030952896861576665,
           0.01658353159709383,
           0.0015917499077528453,
           0.0019958720341760284,
           0.0019688432316487333,
           0.000719686964957722,
           0.0017506269253308828,
           0.0017667960322320588,
           0.005637973142022534
          ],
          "sizemode": "area",
          "sizeref": 3.0943901180259504e-05,
          "symbol": "circle"
         },
         "mode": "markers+text",
         "name": "2020-05-31 00:00:00",
         "orientation": "v",
         "showlegend": true,
         "text": [
          "RO",
          "AC",
          "AM",
          "RR",
          "PA",
          "AP",
          "TO",
          "MA",
          "PI",
          "CE",
          "RN",
          "PB",
          "PE",
          "AL",
          "SE",
          "BA",
          "MG",
          "ES",
          "RJ",
          "SP",
          "PR",
          "SC",
          "RS",
          "MS",
          "MT",
          "GO",
          "DF"
         ],
         "textfont": {
          "family": "sans serif",
          "size": 13
         },
         "textposition": "middle center",
         "type": "scatter",
         "x": [
          3.1566167543504657,
          2.37980382698183,
          4.959157039972933,
          3.3390903857225105,
          7.700007902847659,
          2.3120183295146846,
          1.7480842911877392,
          2.7570079967666503,
          3.265057797606976,
          6.20759347480872,
          3.788349273382188,
          2.735146634250114,
          8.148040638606677,
          4.305987558320373,
          2.2574653521931705,
          3.626576772509787,
          2.5898318042813453,
          4.411979547114682,
          10.009740016483105,
          6.9417856296377325,
          3.883080861958609,
          1.5823835343587471,
          2.400342906129447,
          1.3431833445265278,
          2.5113215314944424,
          3.349540788762831,
          1.738241308793456
         ],
         "xaxis": "x",
         "y": [
          0.2780739636230641,
          0.7051540079484316,
          0.9983600335569417,
          0.5734935065149457,
          0.44125997560115143,
          1.135349183132698,
          0.265502592083496,
          0.4895846480817947,
          0.1506464415697414,
          0.5309744397715395,
          0.22957905563763292,
          0.32756555479704846,
          0.3604660884072118,
          0.308267889830186,
          0.30447697303166665,
          0.12365979195678846,
          0.04943125944226101,
          0.3406616649869981,
          0.3092277802481016,
          0.2388943203070255,
          0.04099193306394278,
          0.12613073827166973,
          0.08202341534708026,
          0.0535806945411024,
          0.06970939019063467,
          0.05274741057518615,
          0.32434927840576694
         ],
         "yaxis": "y"
        }
       ],
       "layout": {
        "annotations": [
         {
          "align": "center",
          "bgcolor": "#E9967A",
          "bordercolor": "#708090",
          "borderwidth": 2,
          "font": {
           "color": "DarkRed"
          },
          "height": 20,
          "showarrow": false,
          "text": "<b>Zona crítica</b>",
          "width": 110,
          "x": 0.98,
          "xref": "paper",
          "y": 0.99,
          "yref": "paper"
         },
         {
          "align": "center",
          "bgcolor": "#DCDCDC",
          "bordercolor": "#708090",
          "borderwidth": 2,
          "font": {
           "color": "black"
          },
          "height": 20,
          "showarrow": false,
          "text": "Alta letalidade",
          "width": 110,
          "x": 0.98,
          "xref": "paper",
          "y": 0.01,
          "yref": "paper"
         },
         {
          "align": "center",
          "bgcolor": "#DCDCDC",
          "bordercolor": "#708090",
          "borderwidth": 2,
          "font": {
           "color": "DarkRed"
          },
          "height": 20,
          "showarrow": false,
          "text": "Alta contaminação",
          "width": 110,
          "x": 0,
          "xref": "paper",
          "y": 0.99,
          "yref": "paper"
         },
         {
          "align": "center",
          "bgcolor": "#DCDCDC",
          "bordercolor": "#708090",
          "borderwidth": 2,
          "font": {
           "color": "black"
          },
          "height": 20,
          "showarrow": false,
          "text": "Zona controlada",
          "width": 110,
          "x": 0,
          "xref": "paper",
          "y": 0.01,
          "yref": "paper"
         }
        ],
        "height": 520,
        "hovermode": false,
        "legend": {
         "itemsizing": "constant",
         "title": {
          "text": "data"
         },
         "tracegroupgap": 0
        },
        "margin": {
         "t": 60
        },
        "plot_bgcolor": "rgb(245,245,245)",
        "shapes": [
         {
          "line": {
           "color": "gray",
           "dash": "dashdot",
           "width": 1
          },
          "type": "line",
          "x0": 6,
          "x1": 6,
          "xref": "x",
          "y0": -0.2,
          "y1": 1.2,
          "yref": "y"
         },
         {
          "line": {
           "color": "gray",
           "dash": "dashdot",
           "width": 1
          },
          "type": "line",
          "x0": 0,
          "x1": 12,
          "xref": "x",
          "y0": 0.4,
          "y1": 0.4,
          "yref": "y"
         }
        ],
        "template": {
         "data": {
          "bar": [
           {
            "error_x": {
             "color": "#2a3f5f"
            },
            "error_y": {
             "color": "#2a3f5f"
            },
            "marker": {
             "line": {
              "color": "#E5ECF6",
              "width": 0.5
             }
            },
            "type": "bar"
           }
          ],
          "barpolar": [
           {
            "marker": {
             "line": {
              "color": "#E5ECF6",
              "width": 0.5
             }
            },
            "type": "barpolar"
           }
          ],
          "carpet": [
           {
            "aaxis": {
             "endlinecolor": "#2a3f5f",
             "gridcolor": "white",
             "linecolor": "white",
             "minorgridcolor": "white",
             "startlinecolor": "#2a3f5f"
            },
            "baxis": {
             "endlinecolor": "#2a3f5f",
             "gridcolor": "white",
             "linecolor": "white",
             "minorgridcolor": "white",
             "startlinecolor": "#2a3f5f"
            },
            "type": "carpet"
           }
          ],
          "choropleth": [
           {
            "colorbar": {
             "outlinewidth": 0,
             "ticks": ""
            },
            "type": "choropleth"
           }
          ],
          "contour": [
           {
            "colorbar": {
             "outlinewidth": 0,
             "ticks": ""
            },
            "colorscale": [
             [
              0,
              "#0d0887"
             ],
             [
              0.1111111111111111,
              "#46039f"
             ],
             [
              0.2222222222222222,
              "#7201a8"
             ],
             [
              0.3333333333333333,
              "#9c179e"
             ],
             [
              0.4444444444444444,
              "#bd3786"
             ],
             [
              0.5555555555555556,
              "#d8576b"
             ],
             [
              0.6666666666666666,
              "#ed7953"
             ],
             [
              0.7777777777777778,
              "#fb9f3a"
             ],
             [
              0.8888888888888888,
              "#fdca26"
             ],
             [
              1,
              "#f0f921"
             ]
            ],
            "type": "contour"
           }
          ],
          "contourcarpet": [
           {
            "colorbar": {
             "outlinewidth": 0,
             "ticks": ""
            },
            "type": "contourcarpet"
           }
          ],
          "heatmap": [
           {
            "colorbar": {
             "outlinewidth": 0,
             "ticks": ""
            },
            "colorscale": [
             [
              0,
              "#0d0887"
             ],
             [
              0.1111111111111111,
              "#46039f"
             ],
             [
              0.2222222222222222,
              "#7201a8"
             ],
             [
              0.3333333333333333,
              "#9c179e"
             ],
             [
              0.4444444444444444,
              "#bd3786"
             ],
             [
              0.5555555555555556,
              "#d8576b"
             ],
             [
              0.6666666666666666,
              "#ed7953"
             ],
             [
              0.7777777777777778,
              "#fb9f3a"
             ],
             [
              0.8888888888888888,
              "#fdca26"
             ],
             [
              1,
              "#f0f921"
             ]
            ],
            "type": "heatmap"
           }
          ],
          "heatmapgl": [
           {
            "colorbar": {
             "outlinewidth": 0,
             "ticks": ""
            },
            "colorscale": [
             [
              0,
              "#0d0887"
             ],
             [
              0.1111111111111111,
              "#46039f"
             ],
             [
              0.2222222222222222,
              "#7201a8"
             ],
             [
              0.3333333333333333,
              "#9c179e"
             ],
             [
              0.4444444444444444,
              "#bd3786"
             ],
             [
              0.5555555555555556,
              "#d8576b"
             ],
             [
              0.6666666666666666,
              "#ed7953"
             ],
             [
              0.7777777777777778,
              "#fb9f3a"
             ],
             [
              0.8888888888888888,
              "#fdca26"
             ],
             [
              1,
              "#f0f921"
             ]
            ],
            "type": "heatmapgl"
           }
          ],
          "histogram": [
           {
            "marker": {
             "colorbar": {
              "outlinewidth": 0,
              "ticks": ""
             }
            },
            "type": "histogram"
           }
          ],
          "histogram2d": [
           {
            "colorbar": {
             "outlinewidth": 0,
             "ticks": ""
            },
            "colorscale": [
             [
              0,
              "#0d0887"
             ],
             [
              0.1111111111111111,
              "#46039f"
             ],
             [
              0.2222222222222222,
              "#7201a8"
             ],
             [
              0.3333333333333333,
              "#9c179e"
             ],
             [
              0.4444444444444444,
              "#bd3786"
             ],
             [
              0.5555555555555556,
              "#d8576b"
             ],
             [
              0.6666666666666666,
              "#ed7953"
             ],
             [
              0.7777777777777778,
              "#fb9f3a"
             ],
             [
              0.8888888888888888,
              "#fdca26"
             ],
             [
              1,
              "#f0f921"
             ]
            ],
            "type": "histogram2d"
           }
          ],
          "histogram2dcontour": [
           {
            "colorbar": {
             "outlinewidth": 0,
             "ticks": ""
            },
            "colorscale": [
             [
              0,
              "#0d0887"
             ],
             [
              0.1111111111111111,
              "#46039f"
             ],
             [
              0.2222222222222222,
              "#7201a8"
             ],
             [
              0.3333333333333333,
              "#9c179e"
             ],
             [
              0.4444444444444444,
              "#bd3786"
             ],
             [
              0.5555555555555556,
              "#d8576b"
             ],
             [
              0.6666666666666666,
              "#ed7953"
             ],
             [
              0.7777777777777778,
              "#fb9f3a"
             ],
             [
              0.8888888888888888,
              "#fdca26"
             ],
             [
              1,
              "#f0f921"
             ]
            ],
            "type": "histogram2dcontour"
           }
          ],
          "mesh3d": [
           {
            "colorbar": {
             "outlinewidth": 0,
             "ticks": ""
            },
            "type": "mesh3d"
           }
          ],
          "parcoords": [
           {
            "line": {
             "colorbar": {
              "outlinewidth": 0,
              "ticks": ""
             }
            },
            "type": "parcoords"
           }
          ],
          "pie": [
           {
            "automargin": true,
            "type": "pie"
           }
          ],
          "scatter": [
           {
            "marker": {
             "colorbar": {
              "outlinewidth": 0,
              "ticks": ""
             }
            },
            "type": "scatter"
           }
          ],
          "scatter3d": [
           {
            "line": {
             "colorbar": {
              "outlinewidth": 0,
              "ticks": ""
             }
            },
            "marker": {
             "colorbar": {
              "outlinewidth": 0,
              "ticks": ""
             }
            },
            "type": "scatter3d"
           }
          ],
          "scattercarpet": [
           {
            "marker": {
             "colorbar": {
              "outlinewidth": 0,
              "ticks": ""
             }
            },
            "type": "scattercarpet"
           }
          ],
          "scattergeo": [
           {
            "marker": {
             "colorbar": {
              "outlinewidth": 0,
              "ticks": ""
             }
            },
            "type": "scattergeo"
           }
          ],
          "scattergl": [
           {
            "marker": {
             "colorbar": {
              "outlinewidth": 0,
              "ticks": ""
             }
            },
            "type": "scattergl"
           }
          ],
          "scattermapbox": [
           {
            "marker": {
             "colorbar": {
              "outlinewidth": 0,
              "ticks": ""
             }
            },
            "type": "scattermapbox"
           }
          ],
          "scatterpolar": [
           {
            "marker": {
             "colorbar": {
              "outlinewidth": 0,
              "ticks": ""
             }
            },
            "type": "scatterpolar"
           }
          ],
          "scatterpolargl": [
           {
            "marker": {
             "colorbar": {
              "outlinewidth": 0,
              "ticks": ""
             }
            },
            "type": "scatterpolargl"
           }
          ],
          "scatterternary": [
           {
            "marker": {
             "colorbar": {
              "outlinewidth": 0,
              "ticks": ""
             }
            },
            "type": "scatterternary"
           }
          ],
          "surface": [
           {
            "colorbar": {
             "outlinewidth": 0,
             "ticks": ""
            },
            "colorscale": [
             [
              0,
              "#0d0887"
             ],
             [
              0.1111111111111111,
              "#46039f"
             ],
             [
              0.2222222222222222,
              "#7201a8"
             ],
             [
              0.3333333333333333,
              "#9c179e"
             ],
             [
              0.4444444444444444,
              "#bd3786"
             ],
             [
              0.5555555555555556,
              "#d8576b"
             ],
             [
              0.6666666666666666,
              "#ed7953"
             ],
             [
              0.7777777777777778,
              "#fb9f3a"
             ],
             [
              0.8888888888888888,
              "#fdca26"
             ],
             [
              1,
              "#f0f921"
             ]
            ],
            "type": "surface"
           }
          ],
          "table": [
           {
            "cells": {
             "fill": {
              "color": "#EBF0F8"
             },
             "line": {
              "color": "white"
             }
            },
            "header": {
             "fill": {
              "color": "#C8D4E3"
             },
             "line": {
              "color": "white"
             }
            },
            "type": "table"
           }
          ]
         },
         "layout": {
          "annotationdefaults": {
           "arrowcolor": "#2a3f5f",
           "arrowhead": 0,
           "arrowwidth": 1
          },
          "coloraxis": {
           "colorbar": {
            "outlinewidth": 0,
            "ticks": ""
           }
          },
          "colorscale": {
           "diverging": [
            [
             0,
             "#8e0152"
            ],
            [
             0.1,
             "#c51b7d"
            ],
            [
             0.2,
             "#de77ae"
            ],
            [
             0.3,
             "#f1b6da"
            ],
            [
             0.4,
             "#fde0ef"
            ],
            [
             0.5,
             "#f7f7f7"
            ],
            [
             0.6,
             "#e6f5d0"
            ],
            [
             0.7,
             "#b8e186"
            ],
            [
             0.8,
             "#7fbc41"
            ],
            [
             0.9,
             "#4d9221"
            ],
            [
             1,
             "#276419"
            ]
           ],
           "sequential": [
            [
             0,
             "#0d0887"
            ],
            [
             0.1111111111111111,
             "#46039f"
            ],
            [
             0.2222222222222222,
             "#7201a8"
            ],
            [
             0.3333333333333333,
             "#9c179e"
            ],
            [
             0.4444444444444444,
             "#bd3786"
            ],
            [
             0.5555555555555556,
             "#d8576b"
            ],
            [
             0.6666666666666666,
             "#ed7953"
            ],
            [
             0.7777777777777778,
             "#fb9f3a"
            ],
            [
             0.8888888888888888,
             "#fdca26"
            ],
            [
             1,
             "#f0f921"
            ]
           ],
           "sequentialminus": [
            [
             0,
             "#0d0887"
            ],
            [
             0.1111111111111111,
             "#46039f"
            ],
            [
             0.2222222222222222,
             "#7201a8"
            ],
            [
             0.3333333333333333,
             "#9c179e"
            ],
            [
             0.4444444444444444,
             "#bd3786"
            ],
            [
             0.5555555555555556,
             "#d8576b"
            ],
            [
             0.6666666666666666,
             "#ed7953"
            ],
            [
             0.7777777777777778,
             "#fb9f3a"
            ],
            [
             0.8888888888888888,
             "#fdca26"
            ],
            [
             1,
             "#f0f921"
            ]
           ]
          },
          "colorway": [
           "#636efa",
           "#EF553B",
           "#00cc96",
           "#ab63fa",
           "#FFA15A",
           "#19d3f3",
           "#FF6692",
           "#B6E880",
           "#FF97FF",
           "#FECB52"
          ],
          "font": {
           "color": "#2a3f5f"
          },
          "geo": {
           "bgcolor": "white",
           "lakecolor": "white",
           "landcolor": "#E5ECF6",
           "showlakes": true,
           "showland": true,
           "subunitcolor": "white"
          },
          "hoverlabel": {
           "align": "left"
          },
          "hovermode": "closest",
          "mapbox": {
           "style": "light"
          },
          "paper_bgcolor": "white",
          "plot_bgcolor": "#E5ECF6",
          "polar": {
           "angularaxis": {
            "gridcolor": "white",
            "linecolor": "white",
            "ticks": ""
           },
           "bgcolor": "#E5ECF6",
           "radialaxis": {
            "gridcolor": "white",
            "linecolor": "white",
            "ticks": ""
           }
          },
          "scene": {
           "xaxis": {
            "backgroundcolor": "#E5ECF6",
            "gridcolor": "white",
            "gridwidth": 2,
            "linecolor": "white",
            "showbackground": true,
            "ticks": "",
            "zerolinecolor": "white"
           },
           "yaxis": {
            "backgroundcolor": "#E5ECF6",
            "gridcolor": "white",
            "gridwidth": 2,
            "linecolor": "white",
            "showbackground": true,
            "ticks": "",
            "zerolinecolor": "white"
           },
           "zaxis": {
            "backgroundcolor": "#E5ECF6",
            "gridcolor": "white",
            "gridwidth": 2,
            "linecolor": "white",
            "showbackground": true,
            "ticks": "",
            "zerolinecolor": "white"
           }
          },
          "shapedefaults": {
           "line": {
            "color": "#2a3f5f"
           }
          },
          "ternary": {
           "aaxis": {
            "gridcolor": "white",
            "linecolor": "white",
            "ticks": ""
           },
           "baxis": {
            "gridcolor": "white",
            "linecolor": "white",
            "ticks": ""
           },
           "bgcolor": "#E5ECF6",
           "caxis": {
            "gridcolor": "white",
            "linecolor": "white",
            "ticks": ""
           }
          },
          "title": {
           "x": 0.05
          },
          "xaxis": {
           "automargin": true,
           "gridcolor": "white",
           "linecolor": "white",
           "ticks": "",
           "title": {
            "standoff": 15
           },
           "zerolinecolor": "white",
           "zerolinewidth": 2
          },
          "yaxis": {
           "automargin": true,
           "gridcolor": "white",
           "linecolor": "white",
           "ticks": "",
           "title": {
            "standoff": 15
           },
           "zerolinecolor": "white",
           "zerolinewidth": 2
          }
         }
        },
        "title": {
         "text": "Relação entre número de casos e letalidade da COVID-19 no Brasil, por estado, e sua evolução"
        },
        "width": 980,
        "xaxis": {
         "anchor": "y",
         "autorange": false,
         "domain": [
          0,
          1
         ],
         "range": [
          0,
          12
         ],
         "title": {
          "text": "<b>Letalidade (% óbitos/casos)</b>"
         },
         "type": "linear"
        },
        "yaxis": {
         "anchor": "x",
         "autorange": false,
         "domain": [
          0,
          1
         ],
         "range": [
          -0.2,
          1.2
         ],
         "title": {
          "text": "<b>Contaminação (% casos/população)</b>"
         },
         "type": "linear"
        }
       }
      },
      "text/html": [
       "<div>\n",
       "        \n",
       "        \n",
       "            <div id=\"23530497-42bc-4227-be53-9814227167a7\" class=\"plotly-graph-div\" style=\"height:520px; width:980px;\"></div>\n",
       "            <script type=\"text/javascript\">\n",
       "                require([\"plotly\"], function(Plotly) {\n",
       "                    window.PLOTLYENV=window.PLOTLYENV || {};\n",
       "                    \n",
       "                if (document.getElementById(\"23530497-42bc-4227-be53-9814227167a7\")) {\n",
       "                    Plotly.newPlot(\n",
       "                        '23530497-42bc-4227-be53-9814227167a7',\n",
       "                        [{\"hovertemplate\": \"data=2020-05-24 00:00:00<br>lethality_pct=%{x}<br>contamRate=%{y}<br>deathRate=%{marker.size}<br>estado=%{text}<extra></extra>\", \"legendgroup\": \"2020-05-24 00:00:00\", \"marker\": {\"color\": \"#00cc96\", \"size\": [0.006808366976606789, 0.01043160777154779, 0.04241666922019198, 0.013866855079808704, 0.024968426216150086, 0.0192732677411612, 0.0033060667596603904, 0.010656971178546528, 0.003268945294658757, 0.025448753284849298, 0.005703119007269481, 0.006769323119951161, 0.023019605065192045, 0.009468570488563255, 0.004045772037711816, 0.0030928395117509077, 0.0010676093878011267, 0.011098254388911698, 0.02312779138627912, 0.013421445204581654, 0.0013381194279460734, 0.0014655004446747064, 0.0015821061682891606, 0.0006117339202140636, 0.0011479520821841855, 0.0013535937343713356, 0.00344911298100202], \"sizemode\": \"area\", \"sizeref\": 3.0943901180259504e-05, \"symbol\": \"circle\"}, \"mode\": \"markers+text\", \"name\": \"2020-05-24 00:00:00\", \"orientation\": \"v\", \"showlegend\": true, \"text\": [\"RO\", \"AC\", \"AM\", \"RR\", \"PA\", \"AP\", \"TO\", \"MA\", \"PI\", \"CE\", \"RN\", \"PB\", \"PE\", \"AL\", \"SE\", \"BA\", \"MG\", \"ES\", \"RJ\", \"SP\", \"PR\", \"SC\", \"RS\", \"MS\", \"MT\", \"GO\", \"DF\"], \"textfont\": {\"family\": \"sans serif\", \"size\": 13}, \"textposition\": \"middle center\", \"type\": \"scatter\", \"x\": [3.7800687285223367, 2.2115384615384617, 5.886095021260923, 3.4440344403444034, 8.90362694300518, 2.565716984101999, 2.0069471246622927, 3.5581142938039734, 3.1563421828908553, 6.529006882989184, 4.258037044922291, 3.4769270100984273, 7.9253575416981885, 5.0852912777598975, 1.7500940910801657, 3.3095906180300743, 3.3893221355728858, 4.456880183871291, 10.53228529225575, 7.501125838293107, 4.763387297633873, 1.568100358422939, 2.7820710973724885, 1.83982683982684, 2.7359781121751023, 3.8886614817846907, 1.566736968966556], \"xaxis\": \"x\", \"y\": [0.1801122536538705, 0.4716900905395522, 0.72062494857763, 0.4026340421387313, 0.28042983354963724, 0.7511844782797367, 0.16473113412077062, 0.2995117722076651, 0.10356751914853445, 0.38977985076342975, 0.13393774988572374, 0.19469270135065417, 0.29045509863848457, 0.18619524372130403, 0.23117454417635042, 0.09345081820396926, 0.03149920087547749, 0.24901397235389994, 0.21958948836379014, 0.17892574386721294, 0.02809176210825351, 0.09345705692896984, 0.056867927271282606, 0.03324953778104676, 0.04195764860383198, 0.03480873150599129, 0.2201462689220328], \"yaxis\": \"y\"}, {\"hovertemplate\": \"data=2020-05-31 00:00:00<br>lethality_pct=%{x}<br>contamRate=%{y}<br>deathRate=%{marker.size}<br>estado=%{text}<extra></extra>\", \"legendgroup\": \"2020-05-31 00:00:00\", \"marker\": {\"color\": \"#ab63fa\", \"size\": [0.008777729325212058, 0.016781282067272533, 0.049510241888415206, 0.019149466538783445, 0.033977052993392313, 0.026249481218023226, 0.004641209104907856, 0.013497887898556942, 0.00491869338729028, 0.03296073467616023, 0.008697256486085958, 0.008959398246994184, 0.02937092337181549, 0.013273976982384564, 0.006873462171596418, 0.004484617292038816, 0.0012801864782925015, 0.015029922984086697, 0.030952896861576665, 0.01658353159709383, 0.0015917499077528453, 0.0019958720341760284, 0.0019688432316487333, 0.000719686964957722, 0.0017506269253308828, 0.0017667960322320588, 0.005637973142022534], \"sizemode\": \"area\", \"sizeref\": 3.0943901180259504e-05, \"symbol\": \"circle\"}, \"mode\": \"markers+text\", \"name\": \"2020-05-31 00:00:00\", \"orientation\": \"v\", \"showlegend\": true, \"text\": [\"RO\", \"AC\", \"AM\", \"RR\", \"PA\", \"AP\", \"TO\", \"MA\", \"PI\", \"CE\", \"RN\", \"PB\", \"PE\", \"AL\", \"SE\", \"BA\", \"MG\", \"ES\", \"RJ\", \"SP\", \"PR\", \"SC\", \"RS\", \"MS\", \"MT\", \"GO\", \"DF\"], \"textfont\": {\"family\": \"sans serif\", \"size\": 13}, \"textposition\": \"middle center\", \"type\": \"scatter\", \"x\": [3.1566167543504657, 2.37980382698183, 4.959157039972933, 3.3390903857225105, 7.700007902847659, 2.3120183295146846, 1.7480842911877392, 2.7570079967666503, 3.265057797606976, 6.20759347480872, 3.788349273382188, 2.735146634250114, 8.148040638606677, 4.305987558320373, 2.2574653521931705, 3.626576772509787, 2.5898318042813453, 4.411979547114682, 10.009740016483105, 6.9417856296377325, 3.883080861958609, 1.5823835343587471, 2.400342906129447, 1.3431833445265278, 2.5113215314944424, 3.349540788762831, 1.738241308793456], \"xaxis\": \"x\", \"y\": [0.2780739636230641, 0.7051540079484316, 0.9983600335569417, 0.5734935065149457, 0.44125997560115143, 1.135349183132698, 0.265502592083496, 0.4895846480817947, 0.1506464415697414, 0.5309744397715395, 0.22957905563763292, 0.32756555479704846, 0.3604660884072118, 0.308267889830186, 0.30447697303166665, 0.12365979195678846, 0.04943125944226101, 0.3406616649869981, 0.3092277802481016, 0.2388943203070255, 0.04099193306394278, 0.12613073827166973, 0.08202341534708026, 0.0535806945411024, 0.06970939019063467, 0.05274741057518615, 0.32434927840576694], \"yaxis\": \"y\"}],\n",
       "                        {\"annotations\": [{\"align\": \"center\", \"bgcolor\": \"#E9967A\", \"bordercolor\": \"#708090\", \"borderwidth\": 2, \"font\": {\"color\": \"DarkRed\"}, \"height\": 20, \"showarrow\": false, \"text\": \"<b>Zona cr\\u00edtica</b>\", \"width\": 110, \"x\": 0.98, \"xref\": \"paper\", \"y\": 0.99, \"yref\": \"paper\"}, {\"align\": \"center\", \"bgcolor\": \"#DCDCDC\", \"bordercolor\": \"#708090\", \"borderwidth\": 2, \"font\": {\"color\": \"black\"}, \"height\": 20, \"showarrow\": false, \"text\": \"Alta letalidade\", \"width\": 110, \"x\": 0.98, \"xref\": \"paper\", \"y\": 0.01, \"yref\": \"paper\"}, {\"align\": \"center\", \"bgcolor\": \"#DCDCDC\", \"bordercolor\": \"#708090\", \"borderwidth\": 2, \"font\": {\"color\": \"DarkRed\"}, \"height\": 20, \"showarrow\": false, \"text\": \"Alta contamina\\u00e7\\u00e3o\", \"width\": 110, \"x\": 0, \"xref\": \"paper\", \"y\": 0.99, \"yref\": \"paper\"}, {\"align\": \"center\", \"bgcolor\": \"#DCDCDC\", \"bordercolor\": \"#708090\", \"borderwidth\": 2, \"font\": {\"color\": \"black\"}, \"height\": 20, \"showarrow\": false, \"text\": \"Zona controlada\", \"width\": 110, \"x\": 0, \"xref\": \"paper\", \"y\": 0.01, \"yref\": \"paper\"}], \"height\": 520, \"hovermode\": false, \"legend\": {\"itemsizing\": \"constant\", \"title\": {\"text\": \"data\"}, \"tracegroupgap\": 0}, \"margin\": {\"t\": 60}, \"plot_bgcolor\": \"rgb(245,245,245)\", \"shapes\": [{\"line\": {\"color\": \"gray\", \"dash\": \"dashdot\", \"width\": 1}, \"type\": \"line\", \"x0\": 6, \"x1\": 6, \"xref\": \"x\", \"y0\": -0.2, \"y1\": 1.2, \"yref\": \"y\"}, {\"line\": {\"color\": \"gray\", \"dash\": \"dashdot\", \"width\": 1}, \"type\": \"line\", \"x0\": 0, \"x1\": 12, \"xref\": \"x\", \"y0\": 0.4, \"y1\": 0.4, \"yref\": \"y\"}], \"template\": {\"data\": {\"bar\": [{\"error_x\": {\"color\": \"#2a3f5f\"}, \"error_y\": {\"color\": \"#2a3f5f\"}, \"marker\": {\"line\": {\"color\": \"#E5ECF6\", \"width\": 0.5}}, \"type\": \"bar\"}], \"barpolar\": [{\"marker\": {\"line\": {\"color\": \"#E5ECF6\", \"width\": 0.5}}, \"type\": \"barpolar\"}], \"carpet\": [{\"aaxis\": {\"endlinecolor\": \"#2a3f5f\", \"gridcolor\": \"white\", \"linecolor\": \"white\", \"minorgridcolor\": \"white\", \"startlinecolor\": \"#2a3f5f\"}, \"baxis\": {\"endlinecolor\": \"#2a3f5f\", \"gridcolor\": \"white\", \"linecolor\": \"white\", \"minorgridcolor\": \"white\", \"startlinecolor\": \"#2a3f5f\"}, \"type\": \"carpet\"}], \"choropleth\": [{\"colorbar\": {\"outlinewidth\": 0, \"ticks\": \"\"}, \"type\": \"choropleth\"}], \"contour\": [{\"colorbar\": {\"outlinewidth\": 0, \"ticks\": \"\"}, \"colorscale\": [[0.0, \"#0d0887\"], [0.1111111111111111, \"#46039f\"], [0.2222222222222222, \"#7201a8\"], [0.3333333333333333, \"#9c179e\"], [0.4444444444444444, \"#bd3786\"], [0.5555555555555556, \"#d8576b\"], [0.6666666666666666, \"#ed7953\"], [0.7777777777777778, \"#fb9f3a\"], [0.8888888888888888, \"#fdca26\"], [1.0, \"#f0f921\"]], \"type\": \"contour\"}], \"contourcarpet\": [{\"colorbar\": {\"outlinewidth\": 0, \"ticks\": \"\"}, \"type\": \"contourcarpet\"}], \"heatmap\": [{\"colorbar\": {\"outlinewidth\": 0, \"ticks\": \"\"}, \"colorscale\": [[0.0, \"#0d0887\"], [0.1111111111111111, \"#46039f\"], [0.2222222222222222, \"#7201a8\"], [0.3333333333333333, \"#9c179e\"], [0.4444444444444444, \"#bd3786\"], [0.5555555555555556, \"#d8576b\"], [0.6666666666666666, \"#ed7953\"], [0.7777777777777778, \"#fb9f3a\"], [0.8888888888888888, \"#fdca26\"], [1.0, \"#f0f921\"]], \"type\": \"heatmap\"}], \"heatmapgl\": [{\"colorbar\": {\"outlinewidth\": 0, \"ticks\": \"\"}, \"colorscale\": [[0.0, \"#0d0887\"], [0.1111111111111111, \"#46039f\"], [0.2222222222222222, \"#7201a8\"], [0.3333333333333333, \"#9c179e\"], [0.4444444444444444, \"#bd3786\"], [0.5555555555555556, \"#d8576b\"], [0.6666666666666666, \"#ed7953\"], [0.7777777777777778, \"#fb9f3a\"], [0.8888888888888888, \"#fdca26\"], [1.0, \"#f0f921\"]], \"type\": \"heatmapgl\"}], \"histogram\": [{\"marker\": {\"colorbar\": {\"outlinewidth\": 0, \"ticks\": \"\"}}, \"type\": \"histogram\"}], \"histogram2d\": [{\"colorbar\": {\"outlinewidth\": 0, \"ticks\": \"\"}, \"colorscale\": [[0.0, \"#0d0887\"], [0.1111111111111111, \"#46039f\"], [0.2222222222222222, \"#7201a8\"], [0.3333333333333333, \"#9c179e\"], [0.4444444444444444, \"#bd3786\"], [0.5555555555555556, \"#d8576b\"], [0.6666666666666666, \"#ed7953\"], [0.7777777777777778, \"#fb9f3a\"], [0.8888888888888888, \"#fdca26\"], [1.0, \"#f0f921\"]], \"type\": \"histogram2d\"}], \"histogram2dcontour\": [{\"colorbar\": {\"outlinewidth\": 0, \"ticks\": \"\"}, \"colorscale\": [[0.0, \"#0d0887\"], [0.1111111111111111, \"#46039f\"], [0.2222222222222222, \"#7201a8\"], [0.3333333333333333, \"#9c179e\"], [0.4444444444444444, \"#bd3786\"], [0.5555555555555556, \"#d8576b\"], [0.6666666666666666, \"#ed7953\"], [0.7777777777777778, \"#fb9f3a\"], [0.8888888888888888, \"#fdca26\"], [1.0, \"#f0f921\"]], \"type\": \"histogram2dcontour\"}], \"mesh3d\": [{\"colorbar\": {\"outlinewidth\": 0, \"ticks\": \"\"}, \"type\": \"mesh3d\"}], \"parcoords\": [{\"line\": {\"colorbar\": {\"outlinewidth\": 0, \"ticks\": \"\"}}, \"type\": \"parcoords\"}], \"pie\": [{\"automargin\": true, \"type\": \"pie\"}], \"scatter\": [{\"marker\": {\"colorbar\": {\"outlinewidth\": 0, \"ticks\": \"\"}}, \"type\": \"scatter\"}], \"scatter3d\": [{\"line\": {\"colorbar\": {\"outlinewidth\": 0, \"ticks\": \"\"}}, \"marker\": {\"colorbar\": {\"outlinewidth\": 0, \"ticks\": \"\"}}, \"type\": \"scatter3d\"}], \"scattercarpet\": [{\"marker\": {\"colorbar\": {\"outlinewidth\": 0, \"ticks\": \"\"}}, \"type\": \"scattercarpet\"}], \"scattergeo\": [{\"marker\": {\"colorbar\": {\"outlinewidth\": 0, \"ticks\": \"\"}}, \"type\": \"scattergeo\"}], \"scattergl\": [{\"marker\": {\"colorbar\": {\"outlinewidth\": 0, \"ticks\": \"\"}}, \"type\": \"scattergl\"}], \"scattermapbox\": [{\"marker\": {\"colorbar\": {\"outlinewidth\": 0, \"ticks\": \"\"}}, \"type\": \"scattermapbox\"}], \"scatterpolar\": [{\"marker\": {\"colorbar\": {\"outlinewidth\": 0, \"ticks\": \"\"}}, \"type\": \"scatterpolar\"}], \"scatterpolargl\": [{\"marker\": {\"colorbar\": {\"outlinewidth\": 0, \"ticks\": \"\"}}, \"type\": \"scatterpolargl\"}], \"scatterternary\": [{\"marker\": {\"colorbar\": {\"outlinewidth\": 0, \"ticks\": \"\"}}, \"type\": \"scatterternary\"}], \"surface\": [{\"colorbar\": {\"outlinewidth\": 0, \"ticks\": \"\"}, \"colorscale\": [[0.0, \"#0d0887\"], [0.1111111111111111, \"#46039f\"], [0.2222222222222222, \"#7201a8\"], [0.3333333333333333, \"#9c179e\"], [0.4444444444444444, \"#bd3786\"], [0.5555555555555556, \"#d8576b\"], [0.6666666666666666, \"#ed7953\"], [0.7777777777777778, \"#fb9f3a\"], [0.8888888888888888, \"#fdca26\"], [1.0, \"#f0f921\"]], \"type\": \"surface\"}], \"table\": [{\"cells\": {\"fill\": {\"color\": \"#EBF0F8\"}, \"line\": {\"color\": \"white\"}}, \"header\": {\"fill\": {\"color\": \"#C8D4E3\"}, \"line\": {\"color\": \"white\"}}, \"type\": \"table\"}]}, \"layout\": {\"annotationdefaults\": {\"arrowcolor\": \"#2a3f5f\", \"arrowhead\": 0, \"arrowwidth\": 1}, \"coloraxis\": {\"colorbar\": {\"outlinewidth\": 0, \"ticks\": \"\"}}, \"colorscale\": {\"diverging\": [[0, \"#8e0152\"], [0.1, \"#c51b7d\"], [0.2, \"#de77ae\"], [0.3, \"#f1b6da\"], [0.4, \"#fde0ef\"], [0.5, \"#f7f7f7\"], [0.6, \"#e6f5d0\"], [0.7, \"#b8e186\"], [0.8, \"#7fbc41\"], [0.9, \"#4d9221\"], [1, \"#276419\"]], \"sequential\": [[0.0, \"#0d0887\"], [0.1111111111111111, \"#46039f\"], [0.2222222222222222, \"#7201a8\"], [0.3333333333333333, \"#9c179e\"], [0.4444444444444444, \"#bd3786\"], [0.5555555555555556, \"#d8576b\"], [0.6666666666666666, \"#ed7953\"], [0.7777777777777778, \"#fb9f3a\"], [0.8888888888888888, \"#fdca26\"], [1.0, \"#f0f921\"]], \"sequentialminus\": [[0.0, \"#0d0887\"], [0.1111111111111111, \"#46039f\"], [0.2222222222222222, \"#7201a8\"], [0.3333333333333333, \"#9c179e\"], [0.4444444444444444, \"#bd3786\"], [0.5555555555555556, \"#d8576b\"], [0.6666666666666666, \"#ed7953\"], [0.7777777777777778, \"#fb9f3a\"], [0.8888888888888888, \"#fdca26\"], [1.0, \"#f0f921\"]]}, \"colorway\": [\"#636efa\", \"#EF553B\", \"#00cc96\", \"#ab63fa\", \"#FFA15A\", \"#19d3f3\", \"#FF6692\", \"#B6E880\", \"#FF97FF\", \"#FECB52\"], \"font\": {\"color\": \"#2a3f5f\"}, \"geo\": {\"bgcolor\": \"white\", \"lakecolor\": \"white\", \"landcolor\": \"#E5ECF6\", \"showlakes\": true, \"showland\": true, \"subunitcolor\": \"white\"}, \"hoverlabel\": {\"align\": \"left\"}, \"hovermode\": \"closest\", \"mapbox\": {\"style\": \"light\"}, \"paper_bgcolor\": \"white\", \"plot_bgcolor\": \"#E5ECF6\", \"polar\": {\"angularaxis\": {\"gridcolor\": \"white\", \"linecolor\": \"white\", \"ticks\": \"\"}, \"bgcolor\": \"#E5ECF6\", \"radialaxis\": {\"gridcolor\": \"white\", \"linecolor\": \"white\", \"ticks\": \"\"}}, \"scene\": {\"xaxis\": {\"backgroundcolor\": \"#E5ECF6\", \"gridcolor\": \"white\", \"gridwidth\": 2, \"linecolor\": \"white\", \"showbackground\": true, \"ticks\": \"\", \"zerolinecolor\": \"white\"}, \"yaxis\": {\"backgroundcolor\": \"#E5ECF6\", \"gridcolor\": \"white\", \"gridwidth\": 2, \"linecolor\": \"white\", \"showbackground\": true, \"ticks\": \"\", \"zerolinecolor\": \"white\"}, \"zaxis\": {\"backgroundcolor\": \"#E5ECF6\", \"gridcolor\": \"white\", \"gridwidth\": 2, \"linecolor\": \"white\", \"showbackground\": true, \"ticks\": \"\", \"zerolinecolor\": \"white\"}}, \"shapedefaults\": {\"line\": {\"color\": \"#2a3f5f\"}}, \"ternary\": {\"aaxis\": {\"gridcolor\": \"white\", \"linecolor\": \"white\", \"ticks\": \"\"}, \"baxis\": {\"gridcolor\": \"white\", \"linecolor\": \"white\", \"ticks\": \"\"}, \"bgcolor\": \"#E5ECF6\", \"caxis\": {\"gridcolor\": \"white\", \"linecolor\": \"white\", \"ticks\": \"\"}}, \"title\": {\"x\": 0.05}, \"xaxis\": {\"automargin\": true, \"gridcolor\": \"white\", \"linecolor\": \"white\", \"ticks\": \"\", \"title\": {\"standoff\": 15}, \"zerolinecolor\": \"white\", \"zerolinewidth\": 2}, \"yaxis\": {\"automargin\": true, \"gridcolor\": \"white\", \"linecolor\": \"white\", \"ticks\": \"\", \"title\": {\"standoff\": 15}, \"zerolinecolor\": \"white\", \"zerolinewidth\": 2}}}, \"title\": {\"text\": \"Rela\\u00e7\\u00e3o entre n\\u00famero de casos e letalidade da COVID-19 no Brasil, por estado, e sua evolu\\u00e7\\u00e3o\"}, \"width\": 980, \"xaxis\": {\"anchor\": \"y\", \"autorange\": false, \"domain\": [0.0, 1.0], \"range\": [0, 12], \"title\": {\"text\": \"<b>Letalidade (% \\u00f3bitos/casos)</b>\"}, \"type\": \"linear\"}, \"yaxis\": {\"anchor\": \"x\", \"autorange\": false, \"domain\": [0.0, 1.0], \"range\": [-0.2, 1.2], \"title\": {\"text\": \"<b>Contamina\\u00e7\\u00e3o (% casos/popula\\u00e7\\u00e3o)</b>\"}, \"type\": \"linear\"}},\n",
       "                        {\"responsive\": true}\n",
       "                    ).then(function(){\n",
       "                            \n",
       "var gd = document.getElementById('23530497-42bc-4227-be53-9814227167a7');\n",
       "var x = new MutationObserver(function (mutations, observer) {{\n",
       "        var display = window.getComputedStyle(gd).display;\n",
       "        if (!display || display === 'none') {{\n",
       "            console.log([gd, 'removed!']);\n",
       "            Plotly.purge(gd);\n",
       "            observer.disconnect();\n",
       "        }}\n",
       "}});\n",
       "\n",
       "// Listen for the removal of the full notebook cells\n",
       "var notebookContainer = gd.closest('#notebook-container');\n",
       "if (notebookContainer) {{\n",
       "    x.observe(notebookContainer, {childList: true});\n",
       "}}\n",
       "\n",
       "// Listen for the clearing of the current output cell\n",
       "var outputEl = gd.closest('.output');\n",
       "if (outputEl) {{\n",
       "    x.observe(outputEl, {childList: true});\n",
       "}}\n",
       "\n",
       "                        })\n",
       "                };\n",
       "                });\n",
       "            </script>\n",
       "        </div>"
      ]
     },
     "metadata": {},
     "output_type": "display_data"
    }
   ],
   "source": [
    "fig2 = px.scatter(fourQuadData, x='lethality_pct', y='contamRate',\n",
    "                 size='deathRate', color='data', text='estado',\n",
    "                 size_max=40)\n",
    "\n",
    "fig2.update_traces(textposition='middle center',\n",
    "                   textfont=dict(family=\"sans serif\",size=13))\n",
    "\n",
    "fig2.update_layout(\n",
    "    ## Chart general set:\n",
    "    height=520,\n",
    "    width=980,\n",
    "    plot_bgcolor='rgb(245,245,245)',\n",
    "    title_text='Relação entre número de casos e letalidade da COVID-19 no Brasil, por estado, e sua evolução',\n",
    "    xaxis_title=\"<b>Letalidade (% óbitos/casos)</b>\",\n",
    "    yaxis_title=\"<b>Contaminação (% casos/população)</b>\",\n",
    "    hovermode=False,  #Disable the hover information.\n",
    "    ## Axis ranges:\n",
    "    xaxis=dict(\n",
    "        autorange=False,\n",
    "        range=[0, 12],\n",
    "        type=\"linear\"\n",
    "    ),\n",
    "    yaxis=dict(\n",
    "        autorange=False,\n",
    "        range=[-0.2, 1.2],\n",
    "        type=\"linear\"),\n",
    "#    ## Adjusting the colorbar title:\n",
    "#    coloraxis=dict(\n",
    "#        colorbar=dict(\n",
    "#            title=dict(\n",
    "#                text='<b>Óbitos <br>acumulados</b>'\n",
    "#            )\n",
    "#        )),\n",
    "    ## Vertical and horizontal lines\n",
    "    shapes=[\n",
    "        dict(\n",
    "          type= 'line',\n",
    "          yref= 'y', y0= -0.2, y1= 1.2,\n",
    "          xref= 'x', x0= 6, x1= 6,\n",
    "          line=dict(\n",
    "                color=\"gray\",\n",
    "                width=1,\n",
    "                dash=\"dashdot\",\n",
    "                )),\n",
    "        dict(\n",
    "          type= 'line',\n",
    "          yref= 'y', y0= 0.4, y1= 0.4,\n",
    "          xref= 'x', x0= 0, x1= 12,\n",
    "          line=dict(\n",
    "                color=\"gray\",\n",
    "                width=1,\n",
    "                dash=\"dashdot\",\n",
    "                ))\n",
    "        ])\n",
    "\n",
    "fig2.update_layout(\n",
    "    ## Points annotations:\n",
    "    annotations=[\n",
    "        go.layout.Annotation(\n",
    "            text='<b>Zona crítica</b>',\n",
    "            align='center',\n",
    "            showarrow=False,\n",
    "            xref='paper',\n",
    "            yref='paper',\n",
    "            x=.98,\n",
    "            y=.99,\n",
    "            bordercolor='#708090',\n",
    "            borderwidth=2,\n",
    "            bgcolor='#E9967A',\n",
    "            font=dict(\n",
    "                color='DarkRed'),\n",
    "            width=110,\n",
    "            height=20),\n",
    "        go.layout.Annotation(\n",
    "            text='Alta letalidade',\n",
    "            align='center',\n",
    "            showarrow=False,\n",
    "            xref='paper',\n",
    "            yref='paper',\n",
    "            x=.98,\n",
    "            y=.01,\n",
    "            bordercolor='#708090',\n",
    "            borderwidth=2,\n",
    "            bgcolor='#DCDCDC',\n",
    "            font=dict(\n",
    "                color='black'),\n",
    "            width=110,\n",
    "            height=20),\n",
    "        go.layout.Annotation(\n",
    "            text='Alta contaminação',\n",
    "            align='center',\n",
    "            showarrow=False,\n",
    "            xref='paper',\n",
    "            yref='paper',\n",
    "            x=0,\n",
    "            y=.99,\n",
    "            bordercolor='#708090',\n",
    "            borderwidth=2,\n",
    "            bgcolor='#DCDCDC',\n",
    "            font=dict(\n",
    "                color='DarkRed'),\n",
    "            width=110,\n",
    "            height=20),\n",
    "        go.layout.Annotation(\n",
    "            text='Zona controlada',\n",
    "            align='center',\n",
    "            showarrow=False,\n",
    "            xref='paper',\n",
    "            yref='paper',\n",
    "            x=0,\n",
    "            y=.01,\n",
    "            bordercolor='#708090',\n",
    "            borderwidth=2,\n",
    "            bgcolor='#DCDCDC',\n",
    "            font=dict(\n",
    "                color='black'),\n",
    "            width=110,\n",
    "            height=20),\n",
    "    ]\n",
    ")\n",
    "\n",
    "fig2.show()"
   ]
  },
  {
   "cell_type": "code",
   "execution_count": null,
   "metadata": {},
   "outputs": [],
   "source": []
  },
  {
   "cell_type": "code",
   "execution_count": null,
   "metadata": {},
   "outputs": [],
   "source": []
  },
  {
   "cell_type": "code",
   "execution_count": null,
   "metadata": {},
   "outputs": [],
   "source": []
  }
 ],
 "metadata": {
  "anaconda-cloud": {},
  "kernelspec": {
   "display_name": "Python [conda env:analytics]",
   "language": "python",
   "name": "conda-env-analytics-py"
  },
  "language_info": {
   "codemirror_mode": {
    "name": "ipython",
    "version": 3
   },
   "file_extension": ".py",
   "mimetype": "text/x-python",
   "name": "python",
   "nbconvert_exporter": "python",
   "pygments_lexer": "ipython3",
   "version": "3.7.4"
  }
 },
 "nbformat": 4,
 "nbformat_minor": 4
}
