{
 "cells": [
  {
   "cell_type": "markdown",
   "metadata": {},
   "source": [
    "# Exploring COVID-19 numbers: the data acquisition process"
   ]
  },
  {
   "cell_type": "markdown",
   "metadata": {},
   "source": [
    "### Environment log:"
   ]
  },
  {
   "cell_type": "markdown",
   "metadata": {},
   "source": [
    "(1) Using the \"analytics3\" anaconda environment; installing python packages directly through *pip* command.  \n",
    "(2) Installed *pyvirtualenv*, *selenium*, and *[bs4](https://www.crummy.com/software/BeautifulSoup/bs4/doc/#)* packages.  \n",
    "(3) Installed *chromedriver* through \"pip install chromedriver\".  \n",
    "\n",
    "(4) Got this error when initializing the Display function:\n",
    "> display = Display(visible=0, size=(800,600))\n",
    "> display.start()  \n",
    ">> FileNotFoundError: [Errno 2] No such file or directory: 'Xvfb': 'Xvfb'\n",
    ">> EasyProcessError: start error EasyProcess cmd_param=['Xvfb', '-help'] cmd=['Xvfb', '-help'] oserror=[Errno 2] No such file or directory: 'Xvfb': 'Xvfb' return_code=None stdout=\"None\" stderr=\"None\" timeout_happened=False>\n",
    "\n",
    "**Solution found in: https://bugs.debian.org/cgi-bin/bugreport.cgi?bug=860501**   \n",
    " \n",
    "(5) Installed the system package xvfb through the shell line: *sudo apt-get install xvfb*.\n",
    "\n",
    "- When running the \"driver = webdriver.Chrome()\" python command, I received the following error:  \n",
    "> driver = webdriver.Chrome()\n",
    ">> FileNotFoundError: [Errno 2] No such file or directory: 'chromedriver': 'chromedriver'  \n",
    "\n",
    "(6) Even though, since I'm using conda environment I have set the chromedriver path before:  \n",
    "> chromeDriverPath = '~/anaconda3/envs/analytics3/'\n",
    "\n",
    "The solution was to create a symbolic link in the path shown above, through the system bash, which made it work properly:  \n",
    "> $ ln -s ~/anaconda3/envs/analytics3/chromedriver-Linux64 chromedriver  \n",
    "\n",
    "(7) There are some broken links in the BMH oficial page: it misses the \"https://portalarquivos.saude.gov.br/\" portion of the link. We defined a function to address this issue.\n"
   ]
  },
  {
   "cell_type": "markdown",
   "metadata": {},
   "source": [
    "## Epidemiological bulletins from World Health Organization - WHO\n",
    "https://www.who.int/emergencies/diseases/novel-coronavirus-2019/situation-reports/  \n",
    "https://github.com/danielsteman/COVID-19_WHO  \n",
    "https://github.com/danielsteman/COVID-19_WHO/blob/master/WHO_webscrape.ipynb (the author uses PyPDF2)"
   ]
  },
  {
   "cell_type": "markdown",
   "metadata": {},
   "source": [
    "## Epidemiological bulletins from Brazilian Ministry of Health\n",
    "https://www.saude.gov.br/boletins-epidemiologicos\n",
    "  - Coronavírus/COVID-19  \n",
    "  - Dengue"
   ]
  },
  {
   "cell_type": "markdown",
   "metadata": {},
   "source": [
    "## COVID-19 pandemic: official dashboard of the Ministry of Health of Brazil\n",
    "https://covid.saude.gov.br/"
   ]
  },
  {
   "cell_type": "markdown",
   "metadata": {},
   "source": [
    "### Initial statements"
   ]
  },
  {
   "cell_type": "code",
   "execution_count": 161,
   "metadata": {},
   "outputs": [
    {
     "name": "stdout",
     "output_type": "stream",
     "text": [
      "3.7.4 (default, Aug 13 2019, 20:35:49) \n",
      "[GCC 7.3.0]\n"
     ]
    }
   ],
   "source": [
    "import sys\n",
    "print(sys.version)"
   ]
  },
  {
   "cell_type": "code",
   "execution_count": 162,
   "metadata": {},
   "outputs": [],
   "source": [
    "from pyvirtualdisplay import Display\n",
    "from selenium import webdriver\n",
    "\n",
    "## BeautifulSoup - BeautifulSoup is not needed at this time, since there's no parsing.\n",
    "#from bs4 import "
   ]
  },
  {
   "cell_type": "code",
   "execution_count": 163,
   "metadata": {},
   "outputs": [],
   "source": [
    "# Definição de parâmetros\n",
    "url = 'https://covid.saude.gov.br'\n",
    "chromeDriverPath = '/home/tbnsilveira/anaconda3/envs/analytics/chromedriver'"
   ]
  },
  {
   "cell_type": "markdown",
   "metadata": {},
   "source": [
    "### Web browsing"
   ]
  },
  {
   "cell_type": "markdown",
   "metadata": {},
   "source": [
    "In this step of our data crawling we want to access the webpage through the Chromium driver. It is then appropriate to create some functions both for the page access as for its content analysis. However, it would be only possible if we know the page structure. In order to reach it, at this time we will try to read and explore it, trying to find the patterns and links we are looking for."
   ]
  },
  {
   "cell_type": "code",
   "execution_count": 164,
   "metadata": {},
   "outputs": [
    {
     "data": {
      "text/plain": [
       "<pyvirtualdisplay.display.Display at 0x7fa97c47e110>"
      ]
     },
     "execution_count": 164,
     "metadata": {},
     "output_type": "execute_result"
    }
   ],
   "source": [
    "# Display starting:\n",
    "display = Display(visible=0, size=(800,600))\n",
    "display.start()"
   ]
  },
  {
   "cell_type": "code",
   "execution_count": 165,
   "metadata": {},
   "outputs": [],
   "source": [
    "# Open the Chromium.driver for the intended page:\n",
    "driver = webdriver.Chrome(chromeDriverPath)"
   ]
  },
  {
   "cell_type": "code",
   "execution_count": 166,
   "metadata": {},
   "outputs": [],
   "source": [
    "# Reading the page content and saving it specifying its encoding scheme:\n",
    "driver.get(url)\n",
    "page = driver.page_source.encode('utf-8')"
   ]
  },
  {
   "cell_type": "markdown",
   "metadata": {},
   "source": [
    "### Initial exploration"
   ]
  },
  {
   "cell_type": "code",
   "execution_count": 167,
   "metadata": {},
   "outputs": [
    {
     "name": "stdout",
     "output_type": "stream",
     "text": [
      "1157264\n",
      "<class 'bytes'>\n"
     ]
    }
   ],
   "source": [
    "# How large is the loaded page?\n",
    "print(len(page))\n",
    "# Data streaming type is expected:\n",
    "print(type(page))"
   ]
  },
  {
   "cell_type": "code",
   "execution_count": 168,
   "metadata": {},
   "outputs": [
    {
     "name": "stdout",
     "output_type": "stream",
     "text": [
      "b'<!DOCTYPE html><html xmlns=\"http://www.w3.org/1999/xhtml\" lang=\"en\" class=\"plt-phablet plt-desktop md hydrated\" mode=\"md\"><head>\\n    <meta charset=\"utf-8\" /><style data-styles=\"\">ion-select-popover,ion-select,ion-select-option,ion-menu-button,ion-menu,ion-menu-toggle,ion-action-sheet,ion-fab-button,ion-fab,ion-fab-list,ion-refresher-content,ion-refresher,ion-back-button,ion-backdrop,ion-alert,ion-loading,ion-toast,ion-card,ion-card-content,ion-card-header,ion-card-subtitle,ion-card-title,ion-item-option,ion-item-options,ion-item-sliding,ion-infinite-scroll-content,ion-infinite-scroll,ion-reorder,ion-reorder-group,ion-segment-button,ion-segment,ion-tab-button,ion-tab-bar,ion-chip,ion-modal,ion-popover,ion-searchbar,ion-app,ion-buttons,ion-content,ion-footer,ion-header,ion-router-outlet,ion-title,ion-toolbar,ion-route,ion-route-redirect,ion-router,ion-router-link,ion-avatar,ion-badge,ion-thumbnail,ion-col,ion-grid,ion-row,ion-nav,ion-nav-link,ion-slide,ion-slides,ion-checkbox,ion-img,ion-input,ion-progress-bar,ion-range,ion-split-pane,ion-text,ion-textarea,ion-toggle,ion-virtual-scroll,ion-picker,ion-datetime,ion-picker-column,ion-radio,ion-radio-group,ion-spinner,ion-ripple-effect,ion-button,ion-icon,ion-item-divider,ion-item-group,ion-note,ion-skeleton-text,ion-item,ion-label,ion-list,ion-list-header{visibility:hidden}.hydrated{visibility:inherit}</style>\\n    <title>Coronav\\xc3\\xadrus Brasil</title>\\n\\n    <base href=\"/\" />\\n\\n    <meta name=\"viewport\" content=\"viewport-fit=cover, width=device-width, initial-scale=1.0, minimum-scale=1.0, maximum-scale=1.0, user-scalable=no\" />\\n    <meta name=\"format-detection\" content=\"telephone=no\" />\\n    <meta name=\"msapplication-tap-highlight\" content=\"no\" />\\n    <style>html.plt-mobile ion-app{-webkit-user-select:none;-moz-user-select:none;-ms-user-select:none;user-select:none}ion-app.force-statusbar-padding{--ion-safe-area-top:20px}</style><style>ion-header{display:block;position:relative;-ms-flex-order:-1;order:-1;width:100%;z-index:10}i'\n"
     ]
    }
   ],
   "source": [
    "## Showing only the first 2k positions of the bytes stream:\n",
    "print(page[:2000])"
   ]
  },
  {
   "cell_type": "markdown",
   "metadata": {},
   "source": [
    "------------------"
   ]
  },
  {
   "cell_type": "markdown",
   "metadata": {},
   "source": [
    "Once the website is loaded, **BeautifulSoup is typically used to mine its content and explore links of interest**. In this case, however, **the new portal made available by BMH was created in Firebase**. That is, there is no link to the database, but a response to the action of clicking the button.\n",
    "\n",
    "Using Chrome's inspection tool, we can locate the element related to downloading the data and then emulate its click through the Selenium library."
   ]
  },
  {
   "cell_type": "code",
   "execution_count": 169,
   "metadata": {},
   "outputs": [],
   "source": [
    "## Path of the element from Chrome inspection tool:\n",
    "xpathElement = '/html/body/app-root/ion-app/ion-router-outlet/app-home/ion-content/div[1]/div[2]/ion-button'\n",
    "\n",
    "## Element corresponding to \"Arquivo CSV\" button:\n",
    "dataDownloader = driver.find_element_by_xpath(xpathElement)"
   ]
  },
  {
   "cell_type": "code",
   "execution_count": 170,
   "metadata": {},
   "outputs": [],
   "source": [
    "dataDownloader.click()"
   ]
  },
  {
   "cell_type": "markdown",
   "metadata": {},
   "source": [
    "The steps above allowed us to download the CSV file to the default downloading directory. An open issue from this script is to set the specific file destiny. There are some references saying Selenium does not support dialogue boxes. Other references explore ways to do it out:\n",
    "\n",
    "https://medium.com/@moungpeter/how-to-automate-downloading-files-using-python-selenium-and-headless-chrome-9014f0cdd196"
   ]
  },
  {
   "cell_type": "markdown",
   "metadata": {},
   "source": [
    "---------------------"
   ]
  },
  {
   "cell_type": "markdown",
   "metadata": {},
   "source": [
    "### Reading the downloaded CSV file:"
   ]
  },
  {
   "cell_type": "code",
   "execution_count": 171,
   "metadata": {},
   "outputs": [],
   "source": [
    "import os\n",
    "import glob"
   ]
  },
  {
   "cell_type": "markdown",
   "metadata": {},
   "source": [
    "To figure out how to select the last downloaded file in a directory, I used the code available in https://stackoverflow.com/questions/39327032/how-to-get-the-latest-file-in-a-folder-using-python."
   ]
  },
  {
   "cell_type": "code",
   "execution_count": 172,
   "metadata": {},
   "outputs": [
    {
     "name": "stdout",
     "output_type": "stream",
     "text": [
      "/home/tbnsilveira/Downloads/HIST_PAINEL_COVIDBR_01jun2020.xlsx\n"
     ]
    }
   ],
   "source": [
    "## Picking the last XLSX downloaded file:\n",
    "list_of_files = glob.glob('/home/tbnsilveira/Downloads/*.xlsx') # * means all if need specific format then *.csv\n",
    "latest_file = max(list_of_files, key=os.path.getctime)\n",
    "print(latest_file)"
   ]
  },
  {
   "cell_type": "code",
   "execution_count": 84,
   "metadata": {},
   "outputs": [],
   "source": [
    "#latest_file = list_of_files[2]\n",
    "#latest_file"
   ]
  },
  {
   "cell_type": "code",
   "execution_count": 5,
   "metadata": {},
   "outputs": [],
   "source": [
    "import pandas as pd\n",
    "\n",
    "import matplotlib.pyplot as plt\n",
    "import seaborn as sns\n",
    "%matplotlib inline"
   ]
  },
  {
   "cell_type": "code",
   "execution_count": 173,
   "metadata": {},
   "outputs": [],
   "source": [
    "covidData = pd.read_excel(latest_file)"
   ]
  },
  {
   "cell_type": "code",
   "execution_count": 174,
   "metadata": {},
   "outputs": [
    {
     "data": {
      "text/html": [
       "<div>\n",
       "<style scoped>\n",
       "    .dataframe tbody tr th:only-of-type {\n",
       "        vertical-align: middle;\n",
       "    }\n",
       "\n",
       "    .dataframe tbody tr th {\n",
       "        vertical-align: top;\n",
       "    }\n",
       "\n",
       "    .dataframe thead th {\n",
       "        text-align: right;\n",
       "    }\n",
       "</style>\n",
       "<table border=\"1\" class=\"dataframe\">\n",
       "  <thead>\n",
       "    <tr style=\"text-align: right;\">\n",
       "      <th></th>\n",
       "      <th>regiao</th>\n",
       "      <th>estado</th>\n",
       "      <th>municipio</th>\n",
       "      <th>coduf</th>\n",
       "      <th>codmun</th>\n",
       "      <th>codRegiaoSaude</th>\n",
       "      <th>nomeRegiaoSaude</th>\n",
       "      <th>data</th>\n",
       "      <th>semanaEpi</th>\n",
       "      <th>populacaoTCU2019</th>\n",
       "      <th>casosAcumulado</th>\n",
       "      <th>casosNovos</th>\n",
       "      <th>obitosAcumulado</th>\n",
       "      <th>obitosNovos</th>\n",
       "      <th>Recuperadosnovos</th>\n",
       "      <th>emAcompanhamentoNovos</th>\n",
       "    </tr>\n",
       "  </thead>\n",
       "  <tbody>\n",
       "    <tr>\n",
       "      <th>0</th>\n",
       "      <td>Brasil</td>\n",
       "      <td>NaN</td>\n",
       "      <td>NaN</td>\n",
       "      <td>76</td>\n",
       "      <td>NaN</td>\n",
       "      <td>NaN</td>\n",
       "      <td>NaN</td>\n",
       "      <td>2020-02-26</td>\n",
       "      <td>9</td>\n",
       "      <td>210147125.0</td>\n",
       "      <td>1</td>\n",
       "      <td>0</td>\n",
       "      <td>0</td>\n",
       "      <td>0</td>\n",
       "      <td>NaN</td>\n",
       "      <td>NaN</td>\n",
       "    </tr>\n",
       "    <tr>\n",
       "      <th>1</th>\n",
       "      <td>Brasil</td>\n",
       "      <td>NaN</td>\n",
       "      <td>NaN</td>\n",
       "      <td>76</td>\n",
       "      <td>NaN</td>\n",
       "      <td>NaN</td>\n",
       "      <td>NaN</td>\n",
       "      <td>2020-02-27</td>\n",
       "      <td>9</td>\n",
       "      <td>210147125.0</td>\n",
       "      <td>1</td>\n",
       "      <td>0</td>\n",
       "      <td>0</td>\n",
       "      <td>0</td>\n",
       "      <td>NaN</td>\n",
       "      <td>NaN</td>\n",
       "    </tr>\n",
       "    <tr>\n",
       "      <th>2</th>\n",
       "      <td>Brasil</td>\n",
       "      <td>NaN</td>\n",
       "      <td>NaN</td>\n",
       "      <td>76</td>\n",
       "      <td>NaN</td>\n",
       "      <td>NaN</td>\n",
       "      <td>NaN</td>\n",
       "      <td>2020-02-28</td>\n",
       "      <td>9</td>\n",
       "      <td>210147125.0</td>\n",
       "      <td>1</td>\n",
       "      <td>0</td>\n",
       "      <td>0</td>\n",
       "      <td>0</td>\n",
       "      <td>NaN</td>\n",
       "      <td>NaN</td>\n",
       "    </tr>\n",
       "    <tr>\n",
       "      <th>3</th>\n",
       "      <td>Brasil</td>\n",
       "      <td>NaN</td>\n",
       "      <td>NaN</td>\n",
       "      <td>76</td>\n",
       "      <td>NaN</td>\n",
       "      <td>NaN</td>\n",
       "      <td>NaN</td>\n",
       "      <td>2020-02-29</td>\n",
       "      <td>9</td>\n",
       "      <td>210147125.0</td>\n",
       "      <td>2</td>\n",
       "      <td>1</td>\n",
       "      <td>0</td>\n",
       "      <td>0</td>\n",
       "      <td>NaN</td>\n",
       "      <td>NaN</td>\n",
       "    </tr>\n",
       "    <tr>\n",
       "      <th>4</th>\n",
       "      <td>Brasil</td>\n",
       "      <td>NaN</td>\n",
       "      <td>NaN</td>\n",
       "      <td>76</td>\n",
       "      <td>NaN</td>\n",
       "      <td>NaN</td>\n",
       "      <td>NaN</td>\n",
       "      <td>2020-03-01</td>\n",
       "      <td>10</td>\n",
       "      <td>210147125.0</td>\n",
       "      <td>2</td>\n",
       "      <td>0</td>\n",
       "      <td>0</td>\n",
       "      <td>0</td>\n",
       "      <td>NaN</td>\n",
       "      <td>NaN</td>\n",
       "    </tr>\n",
       "    <tr>\n",
       "      <th>...</th>\n",
       "      <td>...</td>\n",
       "      <td>...</td>\n",
       "      <td>...</td>\n",
       "      <td>...</td>\n",
       "      <td>...</td>\n",
       "      <td>...</td>\n",
       "      <td>...</td>\n",
       "      <td>...</td>\n",
       "      <td>...</td>\n",
       "      <td>...</td>\n",
       "      <td>...</td>\n",
       "      <td>...</td>\n",
       "      <td>...</td>\n",
       "      <td>...</td>\n",
       "      <td>...</td>\n",
       "      <td>...</td>\n",
       "    </tr>\n",
       "    <tr>\n",
       "      <th>142794</th>\n",
       "      <td>Centro-Oeste</td>\n",
       "      <td>DF</td>\n",
       "      <td>Brasília</td>\n",
       "      <td>53</td>\n",
       "      <td>530010.0</td>\n",
       "      <td>53001.0</td>\n",
       "      <td>Brasília</td>\n",
       "      <td>2020-05-28</td>\n",
       "      <td>22</td>\n",
       "      <td>3015268.0</td>\n",
       "      <td>8300</td>\n",
       "      <td>539</td>\n",
       "      <td>142</td>\n",
       "      <td>9</td>\n",
       "      <td>NaN</td>\n",
       "      <td>NaN</td>\n",
       "    </tr>\n",
       "    <tr>\n",
       "      <th>142795</th>\n",
       "      <td>Centro-Oeste</td>\n",
       "      <td>DF</td>\n",
       "      <td>Brasília</td>\n",
       "      <td>53</td>\n",
       "      <td>530010.0</td>\n",
       "      <td>53001.0</td>\n",
       "      <td>Brasília</td>\n",
       "      <td>2020-05-29</td>\n",
       "      <td>22</td>\n",
       "      <td>3015268.0</td>\n",
       "      <td>8722</td>\n",
       "      <td>422</td>\n",
       "      <td>154</td>\n",
       "      <td>12</td>\n",
       "      <td>NaN</td>\n",
       "      <td>NaN</td>\n",
       "    </tr>\n",
       "    <tr>\n",
       "      <th>142796</th>\n",
       "      <td>Centro-Oeste</td>\n",
       "      <td>DF</td>\n",
       "      <td>Brasília</td>\n",
       "      <td>53</td>\n",
       "      <td>530010.0</td>\n",
       "      <td>53001.0</td>\n",
       "      <td>Brasília</td>\n",
       "      <td>2020-05-30</td>\n",
       "      <td>22</td>\n",
       "      <td>3015268.0</td>\n",
       "      <td>9474</td>\n",
       "      <td>752</td>\n",
       "      <td>162</td>\n",
       "      <td>8</td>\n",
       "      <td>NaN</td>\n",
       "      <td>NaN</td>\n",
       "    </tr>\n",
       "    <tr>\n",
       "      <th>142797</th>\n",
       "      <td>Centro-Oeste</td>\n",
       "      <td>DF</td>\n",
       "      <td>Brasília</td>\n",
       "      <td>53</td>\n",
       "      <td>530010.0</td>\n",
       "      <td>53001.0</td>\n",
       "      <td>Brasília</td>\n",
       "      <td>2020-05-31</td>\n",
       "      <td>23</td>\n",
       "      <td>3015268.0</td>\n",
       "      <td>9780</td>\n",
       "      <td>306</td>\n",
       "      <td>170</td>\n",
       "      <td>8</td>\n",
       "      <td>NaN</td>\n",
       "      <td>NaN</td>\n",
       "    </tr>\n",
       "    <tr>\n",
       "      <th>142798</th>\n",
       "      <td>Centro-Oeste</td>\n",
       "      <td>DF</td>\n",
       "      <td>Brasília</td>\n",
       "      <td>53</td>\n",
       "      <td>530010.0</td>\n",
       "      <td>53001.0</td>\n",
       "      <td>Brasília</td>\n",
       "      <td>2020-06-01</td>\n",
       "      <td>23</td>\n",
       "      <td>3015268.0</td>\n",
       "      <td>10510</td>\n",
       "      <td>730</td>\n",
       "      <td>171</td>\n",
       "      <td>1</td>\n",
       "      <td>NaN</td>\n",
       "      <td>NaN</td>\n",
       "    </tr>\n",
       "  </tbody>\n",
       "</table>\n",
       "<p>142799 rows × 16 columns</p>\n",
       "</div>"
      ],
      "text/plain": [
       "              regiao estado municipio  coduf    codmun  codRegiaoSaude  \\\n",
       "0             Brasil    NaN       NaN     76       NaN             NaN   \n",
       "1             Brasil    NaN       NaN     76       NaN             NaN   \n",
       "2             Brasil    NaN       NaN     76       NaN             NaN   \n",
       "3             Brasil    NaN       NaN     76       NaN             NaN   \n",
       "4             Brasil    NaN       NaN     76       NaN             NaN   \n",
       "...              ...    ...       ...    ...       ...             ...   \n",
       "142794  Centro-Oeste     DF  Brasília     53  530010.0         53001.0   \n",
       "142795  Centro-Oeste     DF  Brasília     53  530010.0         53001.0   \n",
       "142796  Centro-Oeste     DF  Brasília     53  530010.0         53001.0   \n",
       "142797  Centro-Oeste     DF  Brasília     53  530010.0         53001.0   \n",
       "142798  Centro-Oeste     DF  Brasília     53  530010.0         53001.0   \n",
       "\n",
       "       nomeRegiaoSaude        data  semanaEpi  populacaoTCU2019  \\\n",
       "0                  NaN  2020-02-26          9       210147125.0   \n",
       "1                  NaN  2020-02-27          9       210147125.0   \n",
       "2                  NaN  2020-02-28          9       210147125.0   \n",
       "3                  NaN  2020-02-29          9       210147125.0   \n",
       "4                  NaN  2020-03-01         10       210147125.0   \n",
       "...                ...         ...        ...               ...   \n",
       "142794        Brasília  2020-05-28         22         3015268.0   \n",
       "142795        Brasília  2020-05-29         22         3015268.0   \n",
       "142796        Brasília  2020-05-30         22         3015268.0   \n",
       "142797        Brasília  2020-05-31         23         3015268.0   \n",
       "142798        Brasília  2020-06-01         23         3015268.0   \n",
       "\n",
       "        casosAcumulado  casosNovos  obitosAcumulado  obitosNovos  \\\n",
       "0                    1           0                0            0   \n",
       "1                    1           0                0            0   \n",
       "2                    1           0                0            0   \n",
       "3                    2           1                0            0   \n",
       "4                    2           0                0            0   \n",
       "...                ...         ...              ...          ...   \n",
       "142794            8300         539              142            9   \n",
       "142795            8722         422              154           12   \n",
       "142796            9474         752              162            8   \n",
       "142797            9780         306              170            8   \n",
       "142798           10510         730              171            1   \n",
       "\n",
       "        Recuperadosnovos  emAcompanhamentoNovos  \n",
       "0                    NaN                    NaN  \n",
       "1                    NaN                    NaN  \n",
       "2                    NaN                    NaN  \n",
       "3                    NaN                    NaN  \n",
       "4                    NaN                    NaN  \n",
       "...                  ...                    ...  \n",
       "142794               NaN                    NaN  \n",
       "142795               NaN                    NaN  \n",
       "142796               NaN                    NaN  \n",
       "142797               NaN                    NaN  \n",
       "142798               NaN                    NaN  \n",
       "\n",
       "[142799 rows x 16 columns]"
      ]
     },
     "execution_count": 174,
     "metadata": {},
     "output_type": "execute_result"
    }
   ],
   "source": [
    "covidData"
   ]
  },
  {
   "cell_type": "markdown",
   "metadata": {},
   "source": [
    "-----------------"
   ]
  },
  {
   "cell_type": "markdown",
   "metadata": {},
   "source": [
    "In the way this script was initialy built, it was important to remove the CSV file after reading it, thus preventing the most current versions from being downloaded under another name. However, in the second week of May, the BMH changed the file format to XLSX, thus requiring to adapt the script. In this case, I choose to read the last downloaded file, then keeping all the copies in my system. In the case you don't want these copies, you can just uncomment the line below:"
   ]
  },
  {
   "cell_type": "code",
   "execution_count": 175,
   "metadata": {},
   "outputs": [],
   "source": [
    "## In some situations you'll have to replace \"~/\" by the full local address (/home/user...)\n",
    "#os.remove(latest_file)"
   ]
  },
  {
   "cell_type": "markdown",
   "metadata": {},
   "source": [
    "------------------"
   ]
  },
  {
   "cell_type": "markdown",
   "metadata": {},
   "source": [
    "## Data wrangling "
   ]
  },
  {
   "cell_type": "code",
   "execution_count": 176,
   "metadata": {},
   "outputs": [
    {
     "name": "stdout",
     "output_type": "stream",
     "text": [
      "<class 'pandas.core.frame.DataFrame'>\n",
      "RangeIndex: 142799 entries, 0 to 142798\n",
      "Data columns (total 16 columns):\n",
      " #   Column                 Non-Null Count   Dtype  \n",
      "---  ------                 --------------   -----  \n",
      " 0   regiao                 142799 non-null  object \n",
      " 1   estado                 142702 non-null  object \n",
      " 2   municipio              139850 non-null  object \n",
      " 3   coduf                  142799 non-null  int64  \n",
      " 4   codmun                 140536 non-null  float64\n",
      " 5   codRegiaoSaude         139850 non-null  float64\n",
      " 6   nomeRegiaoSaude        139850 non-null  object \n",
      " 7   data                   142799 non-null  object \n",
      " 8   semanaEpi              142799 non-null  int64  \n",
      " 9   populacaoTCU2019       142113 non-null  float64\n",
      " 10  casosAcumulado         142799 non-null  int64  \n",
      " 11  casosNovos             142799 non-null  int64  \n",
      " 12  obitosAcumulado        142799 non-null  int64  \n",
      " 13  obitosNovos            142799 non-null  int64  \n",
      " 14  Recuperadosnovos       44 non-null      float64\n",
      " 15  emAcompanhamentoNovos  44 non-null      float64\n",
      "dtypes: float64(5), int64(6), object(5)\n",
      "memory usage: 17.4+ MB\n"
     ]
    }
   ],
   "source": [
    "covidData.info()"
   ]
  },
  {
   "cell_type": "markdown",
   "metadata": {},
   "source": [
    "### Adjusting the datetime type data:"
   ]
  },
  {
   "cell_type": "markdown",
   "metadata": {},
   "source": [
    "From the information above, there are 38 instances with null value. First we must check which kind of data are in these lines, then deciding if will remove them or not."
   ]
  },
  {
   "cell_type": "code",
   "execution_count": 177,
   "metadata": {
    "scrolled": true
   },
   "outputs": [
    {
     "data": {
      "text/html": [
       "<div>\n",
       "<style scoped>\n",
       "    .dataframe tbody tr th:only-of-type {\n",
       "        vertical-align: middle;\n",
       "    }\n",
       "\n",
       "    .dataframe tbody tr th {\n",
       "        vertical-align: top;\n",
       "    }\n",
       "\n",
       "    .dataframe thead th {\n",
       "        text-align: right;\n",
       "    }\n",
       "</style>\n",
       "<table border=\"1\" class=\"dataframe\">\n",
       "  <thead>\n",
       "    <tr style=\"text-align: right;\">\n",
       "      <th></th>\n",
       "      <th>regiao</th>\n",
       "      <th>estado</th>\n",
       "      <th>municipio</th>\n",
       "      <th>coduf</th>\n",
       "      <th>codmun</th>\n",
       "      <th>codRegiaoSaude</th>\n",
       "      <th>nomeRegiaoSaude</th>\n",
       "      <th>data</th>\n",
       "      <th>semanaEpi</th>\n",
       "      <th>populacaoTCU2019</th>\n",
       "      <th>casosAcumulado</th>\n",
       "      <th>casosNovos</th>\n",
       "      <th>obitosAcumulado</th>\n",
       "      <th>obitosNovos</th>\n",
       "      <th>Recuperadosnovos</th>\n",
       "      <th>emAcompanhamentoNovos</th>\n",
       "    </tr>\n",
       "  </thead>\n",
       "  <tbody>\n",
       "  </tbody>\n",
       "</table>\n",
       "</div>"
      ],
      "text/plain": [
       "Empty DataFrame\n",
       "Columns: [regiao, estado, municipio, coduf, codmun, codRegiaoSaude, nomeRegiaoSaude, data, semanaEpi, populacaoTCU2019, casosAcumulado, casosNovos, obitosAcumulado, obitosNovos, Recuperadosnovos, emAcompanhamentoNovos]\n",
       "Index: []"
      ]
     },
     "execution_count": 177,
     "metadata": {},
     "output_type": "execute_result"
    }
   ],
   "source": [
    "### Which datetype data is null?\n",
    "covidData[covidData.data.isnull()]"
   ]
  },
  {
   "cell_type": "code",
   "execution_count": 178,
   "metadata": {},
   "outputs": [
    {
     "data": {
      "text/html": [
       "<div>\n",
       "<style scoped>\n",
       "    .dataframe tbody tr th:only-of-type {\n",
       "        vertical-align: middle;\n",
       "    }\n",
       "\n",
       "    .dataframe tbody tr th {\n",
       "        vertical-align: top;\n",
       "    }\n",
       "\n",
       "    .dataframe thead th {\n",
       "        text-align: right;\n",
       "    }\n",
       "</style>\n",
       "<table border=\"1\" class=\"dataframe\">\n",
       "  <thead>\n",
       "    <tr style=\"text-align: right;\">\n",
       "      <th></th>\n",
       "      <th>regiao</th>\n",
       "      <th>estado</th>\n",
       "      <th>municipio</th>\n",
       "      <th>coduf</th>\n",
       "      <th>codmun</th>\n",
       "      <th>codRegiaoSaude</th>\n",
       "      <th>nomeRegiaoSaude</th>\n",
       "      <th>data</th>\n",
       "      <th>semanaEpi</th>\n",
       "      <th>populacaoTCU2019</th>\n",
       "      <th>casosAcumulado</th>\n",
       "      <th>casosNovos</th>\n",
       "      <th>obitosAcumulado</th>\n",
       "      <th>obitosNovos</th>\n",
       "      <th>Recuperadosnovos</th>\n",
       "      <th>emAcompanhamentoNovos</th>\n",
       "    </tr>\n",
       "  </thead>\n",
       "  <tbody>\n",
       "    <tr>\n",
       "      <th>4176</th>\n",
       "      <td>Norte</td>\n",
       "      <td>AC</td>\n",
       "      <td>Santa Rosa do Purus</td>\n",
       "      <td>12</td>\n",
       "      <td>120043.0</td>\n",
       "      <td>12002.0</td>\n",
       "      <td>Baixo Acre e Purus</td>\n",
       "      <td>2020-05-23</td>\n",
       "      <td>21</td>\n",
       "      <td>6540.0</td>\n",
       "      <td>2</td>\n",
       "      <td>0</td>\n",
       "      <td>0</td>\n",
       "      <td>0</td>\n",
       "      <td>NaN</td>\n",
       "      <td>NaN</td>\n",
       "    </tr>\n",
       "    <tr>\n",
       "      <th>4177</th>\n",
       "      <td>Norte</td>\n",
       "      <td>AC</td>\n",
       "      <td>Santa Rosa do Purus</td>\n",
       "      <td>12</td>\n",
       "      <td>120043.0</td>\n",
       "      <td>12002.0</td>\n",
       "      <td>Baixo Acre e Purus</td>\n",
       "      <td>2020-05-24</td>\n",
       "      <td>22</td>\n",
       "      <td>6540.0</td>\n",
       "      <td>2</td>\n",
       "      <td>0</td>\n",
       "      <td>0</td>\n",
       "      <td>0</td>\n",
       "      <td>NaN</td>\n",
       "      <td>NaN</td>\n",
       "    </tr>\n",
       "    <tr>\n",
       "      <th>4178</th>\n",
       "      <td>Norte</td>\n",
       "      <td>AC</td>\n",
       "      <td>Santa Rosa do Purus</td>\n",
       "      <td>12</td>\n",
       "      <td>120043.0</td>\n",
       "      <td>12002.0</td>\n",
       "      <td>Baixo Acre e Purus</td>\n",
       "      <td>2020-05-25</td>\n",
       "      <td>22</td>\n",
       "      <td>6540.0</td>\n",
       "      <td>2</td>\n",
       "      <td>0</td>\n",
       "      <td>0</td>\n",
       "      <td>0</td>\n",
       "      <td>NaN</td>\n",
       "      <td>NaN</td>\n",
       "    </tr>\n",
       "    <tr>\n",
       "      <th>4179</th>\n",
       "      <td>Norte</td>\n",
       "      <td>AC</td>\n",
       "      <td>Santa Rosa do Purus</td>\n",
       "      <td>12</td>\n",
       "      <td>120043.0</td>\n",
       "      <td>12002.0</td>\n",
       "      <td>Baixo Acre e Purus</td>\n",
       "      <td>2020-05-26</td>\n",
       "      <td>22</td>\n",
       "      <td>6540.0</td>\n",
       "      <td>3</td>\n",
       "      <td>1</td>\n",
       "      <td>0</td>\n",
       "      <td>0</td>\n",
       "      <td>NaN</td>\n",
       "      <td>NaN</td>\n",
       "    </tr>\n",
       "    <tr>\n",
       "      <th>4180</th>\n",
       "      <td>Norte</td>\n",
       "      <td>AC</td>\n",
       "      <td>Santa Rosa do Purus</td>\n",
       "      <td>12</td>\n",
       "      <td>120043.0</td>\n",
       "      <td>12002.0</td>\n",
       "      <td>Baixo Acre e Purus</td>\n",
       "      <td>2020-05-27</td>\n",
       "      <td>22</td>\n",
       "      <td>6540.0</td>\n",
       "      <td>8</td>\n",
       "      <td>5</td>\n",
       "      <td>0</td>\n",
       "      <td>0</td>\n",
       "      <td>NaN</td>\n",
       "      <td>NaN</td>\n",
       "    </tr>\n",
       "    <tr>\n",
       "      <th>4181</th>\n",
       "      <td>Norte</td>\n",
       "      <td>AC</td>\n",
       "      <td>Santa Rosa do Purus</td>\n",
       "      <td>12</td>\n",
       "      <td>120043.0</td>\n",
       "      <td>12002.0</td>\n",
       "      <td>Baixo Acre e Purus</td>\n",
       "      <td>2020-05-28</td>\n",
       "      <td>22</td>\n",
       "      <td>6540.0</td>\n",
       "      <td>11</td>\n",
       "      <td>3</td>\n",
       "      <td>0</td>\n",
       "      <td>0</td>\n",
       "      <td>NaN</td>\n",
       "      <td>NaN</td>\n",
       "    </tr>\n",
       "    <tr>\n",
       "      <th>4182</th>\n",
       "      <td>Norte</td>\n",
       "      <td>AC</td>\n",
       "      <td>Santa Rosa do Purus</td>\n",
       "      <td>12</td>\n",
       "      <td>120043.0</td>\n",
       "      <td>12002.0</td>\n",
       "      <td>Baixo Acre e Purus</td>\n",
       "      <td>2020-05-29</td>\n",
       "      <td>22</td>\n",
       "      <td>6540.0</td>\n",
       "      <td>11</td>\n",
       "      <td>0</td>\n",
       "      <td>0</td>\n",
       "      <td>0</td>\n",
       "      <td>NaN</td>\n",
       "      <td>NaN</td>\n",
       "    </tr>\n",
       "  </tbody>\n",
       "</table>\n",
       "</div>"
      ],
      "text/plain": [
       "     regiao estado            municipio  coduf    codmun  codRegiaoSaude  \\\n",
       "4176  Norte     AC  Santa Rosa do Purus     12  120043.0         12002.0   \n",
       "4177  Norte     AC  Santa Rosa do Purus     12  120043.0         12002.0   \n",
       "4178  Norte     AC  Santa Rosa do Purus     12  120043.0         12002.0   \n",
       "4179  Norte     AC  Santa Rosa do Purus     12  120043.0         12002.0   \n",
       "4180  Norte     AC  Santa Rosa do Purus     12  120043.0         12002.0   \n",
       "4181  Norte     AC  Santa Rosa do Purus     12  120043.0         12002.0   \n",
       "4182  Norte     AC  Santa Rosa do Purus     12  120043.0         12002.0   \n",
       "\n",
       "         nomeRegiaoSaude        data  semanaEpi  populacaoTCU2019  \\\n",
       "4176  Baixo Acre e Purus  2020-05-23         21            6540.0   \n",
       "4177  Baixo Acre e Purus  2020-05-24         22            6540.0   \n",
       "4178  Baixo Acre e Purus  2020-05-25         22            6540.0   \n",
       "4179  Baixo Acre e Purus  2020-05-26         22            6540.0   \n",
       "4180  Baixo Acre e Purus  2020-05-27         22            6540.0   \n",
       "4181  Baixo Acre e Purus  2020-05-28         22            6540.0   \n",
       "4182  Baixo Acre e Purus  2020-05-29         22            6540.0   \n",
       "\n",
       "      casosAcumulado  casosNovos  obitosAcumulado  obitosNovos  \\\n",
       "4176               2           0                0            0   \n",
       "4177               2           0                0            0   \n",
       "4178               2           0                0            0   \n",
       "4179               3           1                0            0   \n",
       "4180               8           5                0            0   \n",
       "4181              11           3                0            0   \n",
       "4182              11           0                0            0   \n",
       "\n",
       "      Recuperadosnovos  emAcompanhamentoNovos  \n",
       "4176               NaN                    NaN  \n",
       "4177               NaN                    NaN  \n",
       "4178               NaN                    NaN  \n",
       "4179               NaN                    NaN  \n",
       "4180               NaN                    NaN  \n",
       "4181               NaN                    NaN  \n",
       "4182               NaN                    NaN  "
      ]
     },
     "execution_count": 178,
     "metadata": {},
     "output_type": "execute_result"
    }
   ],
   "source": [
    "covidData.loc[4176:4182]"
   ]
  },
  {
   "cell_type": "markdown",
   "metadata": {},
   "source": [
    "#### Dropping the NaN values:"
   ]
  },
  {
   "cell_type": "code",
   "execution_count": 179,
   "metadata": {},
   "outputs": [],
   "source": [
    "covidData2 = covidData.copy()"
   ]
  },
  {
   "cell_type": "code",
   "execution_count": 180,
   "metadata": {},
   "outputs": [],
   "source": [
    "covidData2.dropna(axis=0, subset=['data'], inplace=True)"
   ]
  },
  {
   "cell_type": "code",
   "execution_count": 181,
   "metadata": {},
   "outputs": [],
   "source": [
    "covidData2.reset_index(drop=True, inplace=True)"
   ]
  },
  {
   "cell_type": "code",
   "execution_count": 182,
   "metadata": {},
   "outputs": [
    {
     "name": "stdout",
     "output_type": "stream",
     "text": [
      "<class 'pandas.core.frame.DataFrame'>\n",
      "RangeIndex: 142799 entries, 0 to 142798\n",
      "Data columns (total 16 columns):\n",
      " #   Column                 Non-Null Count   Dtype  \n",
      "---  ------                 --------------   -----  \n",
      " 0   regiao                 142799 non-null  object \n",
      " 1   estado                 142702 non-null  object \n",
      " 2   municipio              139850 non-null  object \n",
      " 3   coduf                  142799 non-null  int64  \n",
      " 4   codmun                 140536 non-null  float64\n",
      " 5   codRegiaoSaude         139850 non-null  float64\n",
      " 6   nomeRegiaoSaude        139850 non-null  object \n",
      " 7   data                   142799 non-null  object \n",
      " 8   semanaEpi              142799 non-null  int64  \n",
      " 9   populacaoTCU2019       142113 non-null  float64\n",
      " 10  casosAcumulado         142799 non-null  int64  \n",
      " 11  casosNovos             142799 non-null  int64  \n",
      " 12  obitosAcumulado        142799 non-null  int64  \n",
      " 13  obitosNovos            142799 non-null  int64  \n",
      " 14  Recuperadosnovos       44 non-null      float64\n",
      " 15  emAcompanhamentoNovos  44 non-null      float64\n",
      "dtypes: float64(5), int64(6), object(5)\n",
      "memory usage: 17.4+ MB\n"
     ]
    }
   ],
   "source": [
    "covidData2.info()"
   ]
  },
  {
   "cell_type": "markdown",
   "metadata": {},
   "source": [
    "--------------------------"
   ]
  },
  {
   "cell_type": "markdown",
   "metadata": {},
   "source": [
    "#### Setting the datetime64 type to the \"Date\" column (it's called \"data\" in Portuguese):"
   ]
  },
  {
   "cell_type": "code",
   "execution_count": 183,
   "metadata": {},
   "outputs": [
    {
     "data": {
      "text/plain": [
       "pandas.core.series.Series"
      ]
     },
     "execution_count": 183,
     "metadata": {},
     "output_type": "execute_result"
    }
   ],
   "source": [
    "type(covidData2.data)"
   ]
  },
  {
   "cell_type": "code",
   "execution_count": 184,
   "metadata": {},
   "outputs": [
    {
     "data": {
      "text/plain": [
       "str"
      ]
     },
     "execution_count": 184,
     "metadata": {},
     "output_type": "execute_result"
    }
   ],
   "source": [
    "type(covidData2.data[2])"
   ]
  },
  {
   "cell_type": "code",
   "execution_count": 185,
   "metadata": {},
   "outputs": [],
   "source": [
    "covidData2.data = covidData2.data.astype('datetime64')"
   ]
  },
  {
   "cell_type": "markdown",
   "metadata": {},
   "source": [
    "-----------------"
   ]
  },
  {
   "cell_type": "markdown",
   "metadata": {},
   "source": [
    "## Visualizing some data:"
   ]
  },
  {
   "cell_type": "code",
   "execution_count": 186,
   "metadata": {
    "scrolled": false
   },
   "outputs": [
    {
     "data": {
      "text/html": [
       "<div>\n",
       "<style scoped>\n",
       "    .dataframe tbody tr th:only-of-type {\n",
       "        vertical-align: middle;\n",
       "    }\n",
       "\n",
       "    .dataframe tbody tr th {\n",
       "        vertical-align: top;\n",
       "    }\n",
       "\n",
       "    .dataframe thead th {\n",
       "        text-align: right;\n",
       "    }\n",
       "</style>\n",
       "<table border=\"1\" class=\"dataframe\">\n",
       "  <thead>\n",
       "    <tr style=\"text-align: right;\">\n",
       "      <th></th>\n",
       "      <th>regiao</th>\n",
       "      <th>estado</th>\n",
       "      <th>municipio</th>\n",
       "      <th>coduf</th>\n",
       "      <th>codmun</th>\n",
       "      <th>codRegiaoSaude</th>\n",
       "      <th>nomeRegiaoSaude</th>\n",
       "      <th>data</th>\n",
       "      <th>semanaEpi</th>\n",
       "      <th>populacaoTCU2019</th>\n",
       "      <th>casosAcumulado</th>\n",
       "      <th>casosNovos</th>\n",
       "      <th>obitosAcumulado</th>\n",
       "      <th>obitosNovos</th>\n",
       "      <th>Recuperadosnovos</th>\n",
       "      <th>emAcompanhamentoNovos</th>\n",
       "    </tr>\n",
       "  </thead>\n",
       "  <tbody>\n",
       "    <tr>\n",
       "      <th>0</th>\n",
       "      <td>Brasil</td>\n",
       "      <td>NaN</td>\n",
       "      <td>NaN</td>\n",
       "      <td>76</td>\n",
       "      <td>NaN</td>\n",
       "      <td>NaN</td>\n",
       "      <td>NaN</td>\n",
       "      <td>2020-02-26</td>\n",
       "      <td>9</td>\n",
       "      <td>210147125.0</td>\n",
       "      <td>1</td>\n",
       "      <td>0</td>\n",
       "      <td>0</td>\n",
       "      <td>0</td>\n",
       "      <td>NaN</td>\n",
       "      <td>NaN</td>\n",
       "    </tr>\n",
       "    <tr>\n",
       "      <th>1</th>\n",
       "      <td>Brasil</td>\n",
       "      <td>NaN</td>\n",
       "      <td>NaN</td>\n",
       "      <td>76</td>\n",
       "      <td>NaN</td>\n",
       "      <td>NaN</td>\n",
       "      <td>NaN</td>\n",
       "      <td>2020-02-27</td>\n",
       "      <td>9</td>\n",
       "      <td>210147125.0</td>\n",
       "      <td>1</td>\n",
       "      <td>0</td>\n",
       "      <td>0</td>\n",
       "      <td>0</td>\n",
       "      <td>NaN</td>\n",
       "      <td>NaN</td>\n",
       "    </tr>\n",
       "    <tr>\n",
       "      <th>2</th>\n",
       "      <td>Brasil</td>\n",
       "      <td>NaN</td>\n",
       "      <td>NaN</td>\n",
       "      <td>76</td>\n",
       "      <td>NaN</td>\n",
       "      <td>NaN</td>\n",
       "      <td>NaN</td>\n",
       "      <td>2020-02-28</td>\n",
       "      <td>9</td>\n",
       "      <td>210147125.0</td>\n",
       "      <td>1</td>\n",
       "      <td>0</td>\n",
       "      <td>0</td>\n",
       "      <td>0</td>\n",
       "      <td>NaN</td>\n",
       "      <td>NaN</td>\n",
       "    </tr>\n",
       "    <tr>\n",
       "      <th>3</th>\n",
       "      <td>Brasil</td>\n",
       "      <td>NaN</td>\n",
       "      <td>NaN</td>\n",
       "      <td>76</td>\n",
       "      <td>NaN</td>\n",
       "      <td>NaN</td>\n",
       "      <td>NaN</td>\n",
       "      <td>2020-02-29</td>\n",
       "      <td>9</td>\n",
       "      <td>210147125.0</td>\n",
       "      <td>2</td>\n",
       "      <td>1</td>\n",
       "      <td>0</td>\n",
       "      <td>0</td>\n",
       "      <td>NaN</td>\n",
       "      <td>NaN</td>\n",
       "    </tr>\n",
       "    <tr>\n",
       "      <th>4</th>\n",
       "      <td>Brasil</td>\n",
       "      <td>NaN</td>\n",
       "      <td>NaN</td>\n",
       "      <td>76</td>\n",
       "      <td>NaN</td>\n",
       "      <td>NaN</td>\n",
       "      <td>NaN</td>\n",
       "      <td>2020-03-01</td>\n",
       "      <td>10</td>\n",
       "      <td>210147125.0</td>\n",
       "      <td>2</td>\n",
       "      <td>0</td>\n",
       "      <td>0</td>\n",
       "      <td>0</td>\n",
       "      <td>NaN</td>\n",
       "      <td>NaN</td>\n",
       "    </tr>\n",
       "    <tr>\n",
       "      <th>...</th>\n",
       "      <td>...</td>\n",
       "      <td>...</td>\n",
       "      <td>...</td>\n",
       "      <td>...</td>\n",
       "      <td>...</td>\n",
       "      <td>...</td>\n",
       "      <td>...</td>\n",
       "      <td>...</td>\n",
       "      <td>...</td>\n",
       "      <td>...</td>\n",
       "      <td>...</td>\n",
       "      <td>...</td>\n",
       "      <td>...</td>\n",
       "      <td>...</td>\n",
       "      <td>...</td>\n",
       "      <td>...</td>\n",
       "    </tr>\n",
       "    <tr>\n",
       "      <th>142794</th>\n",
       "      <td>Centro-Oeste</td>\n",
       "      <td>DF</td>\n",
       "      <td>Brasília</td>\n",
       "      <td>53</td>\n",
       "      <td>530010.0</td>\n",
       "      <td>53001.0</td>\n",
       "      <td>Brasília</td>\n",
       "      <td>2020-05-28</td>\n",
       "      <td>22</td>\n",
       "      <td>3015268.0</td>\n",
       "      <td>8300</td>\n",
       "      <td>539</td>\n",
       "      <td>142</td>\n",
       "      <td>9</td>\n",
       "      <td>NaN</td>\n",
       "      <td>NaN</td>\n",
       "    </tr>\n",
       "    <tr>\n",
       "      <th>142795</th>\n",
       "      <td>Centro-Oeste</td>\n",
       "      <td>DF</td>\n",
       "      <td>Brasília</td>\n",
       "      <td>53</td>\n",
       "      <td>530010.0</td>\n",
       "      <td>53001.0</td>\n",
       "      <td>Brasília</td>\n",
       "      <td>2020-05-29</td>\n",
       "      <td>22</td>\n",
       "      <td>3015268.0</td>\n",
       "      <td>8722</td>\n",
       "      <td>422</td>\n",
       "      <td>154</td>\n",
       "      <td>12</td>\n",
       "      <td>NaN</td>\n",
       "      <td>NaN</td>\n",
       "    </tr>\n",
       "    <tr>\n",
       "      <th>142796</th>\n",
       "      <td>Centro-Oeste</td>\n",
       "      <td>DF</td>\n",
       "      <td>Brasília</td>\n",
       "      <td>53</td>\n",
       "      <td>530010.0</td>\n",
       "      <td>53001.0</td>\n",
       "      <td>Brasília</td>\n",
       "      <td>2020-05-30</td>\n",
       "      <td>22</td>\n",
       "      <td>3015268.0</td>\n",
       "      <td>9474</td>\n",
       "      <td>752</td>\n",
       "      <td>162</td>\n",
       "      <td>8</td>\n",
       "      <td>NaN</td>\n",
       "      <td>NaN</td>\n",
       "    </tr>\n",
       "    <tr>\n",
       "      <th>142797</th>\n",
       "      <td>Centro-Oeste</td>\n",
       "      <td>DF</td>\n",
       "      <td>Brasília</td>\n",
       "      <td>53</td>\n",
       "      <td>530010.0</td>\n",
       "      <td>53001.0</td>\n",
       "      <td>Brasília</td>\n",
       "      <td>2020-05-31</td>\n",
       "      <td>23</td>\n",
       "      <td>3015268.0</td>\n",
       "      <td>9780</td>\n",
       "      <td>306</td>\n",
       "      <td>170</td>\n",
       "      <td>8</td>\n",
       "      <td>NaN</td>\n",
       "      <td>NaN</td>\n",
       "    </tr>\n",
       "    <tr>\n",
       "      <th>142798</th>\n",
       "      <td>Centro-Oeste</td>\n",
       "      <td>DF</td>\n",
       "      <td>Brasília</td>\n",
       "      <td>53</td>\n",
       "      <td>530010.0</td>\n",
       "      <td>53001.0</td>\n",
       "      <td>Brasília</td>\n",
       "      <td>2020-06-01</td>\n",
       "      <td>23</td>\n",
       "      <td>3015268.0</td>\n",
       "      <td>10510</td>\n",
       "      <td>730</td>\n",
       "      <td>171</td>\n",
       "      <td>1</td>\n",
       "      <td>NaN</td>\n",
       "      <td>NaN</td>\n",
       "    </tr>\n",
       "  </tbody>\n",
       "</table>\n",
       "<p>142799 rows × 16 columns</p>\n",
       "</div>"
      ],
      "text/plain": [
       "              regiao estado municipio  coduf    codmun  codRegiaoSaude  \\\n",
       "0             Brasil    NaN       NaN     76       NaN             NaN   \n",
       "1             Brasil    NaN       NaN     76       NaN             NaN   \n",
       "2             Brasil    NaN       NaN     76       NaN             NaN   \n",
       "3             Brasil    NaN       NaN     76       NaN             NaN   \n",
       "4             Brasil    NaN       NaN     76       NaN             NaN   \n",
       "...              ...    ...       ...    ...       ...             ...   \n",
       "142794  Centro-Oeste     DF  Brasília     53  530010.0         53001.0   \n",
       "142795  Centro-Oeste     DF  Brasília     53  530010.0         53001.0   \n",
       "142796  Centro-Oeste     DF  Brasília     53  530010.0         53001.0   \n",
       "142797  Centro-Oeste     DF  Brasília     53  530010.0         53001.0   \n",
       "142798  Centro-Oeste     DF  Brasília     53  530010.0         53001.0   \n",
       "\n",
       "       nomeRegiaoSaude       data  semanaEpi  populacaoTCU2019  \\\n",
       "0                  NaN 2020-02-26          9       210147125.0   \n",
       "1                  NaN 2020-02-27          9       210147125.0   \n",
       "2                  NaN 2020-02-28          9       210147125.0   \n",
       "3                  NaN 2020-02-29          9       210147125.0   \n",
       "4                  NaN 2020-03-01         10       210147125.0   \n",
       "...                ...        ...        ...               ...   \n",
       "142794        Brasília 2020-05-28         22         3015268.0   \n",
       "142795        Brasília 2020-05-29         22         3015268.0   \n",
       "142796        Brasília 2020-05-30         22         3015268.0   \n",
       "142797        Brasília 2020-05-31         23         3015268.0   \n",
       "142798        Brasília 2020-06-01         23         3015268.0   \n",
       "\n",
       "        casosAcumulado  casosNovos  obitosAcumulado  obitosNovos  \\\n",
       "0                    1           0                0            0   \n",
       "1                    1           0                0            0   \n",
       "2                    1           0                0            0   \n",
       "3                    2           1                0            0   \n",
       "4                    2           0                0            0   \n",
       "...                ...         ...              ...          ...   \n",
       "142794            8300         539              142            9   \n",
       "142795            8722         422              154           12   \n",
       "142796            9474         752              162            8   \n",
       "142797            9780         306              170            8   \n",
       "142798           10510         730              171            1   \n",
       "\n",
       "        Recuperadosnovos  emAcompanhamentoNovos  \n",
       "0                    NaN                    NaN  \n",
       "1                    NaN                    NaN  \n",
       "2                    NaN                    NaN  \n",
       "3                    NaN                    NaN  \n",
       "4                    NaN                    NaN  \n",
       "...                  ...                    ...  \n",
       "142794               NaN                    NaN  \n",
       "142795               NaN                    NaN  \n",
       "142796               NaN                    NaN  \n",
       "142797               NaN                    NaN  \n",
       "142798               NaN                    NaN  \n",
       "\n",
       "[142799 rows x 16 columns]"
      ]
     },
     "execution_count": 186,
     "metadata": {},
     "output_type": "execute_result"
    }
   ],
   "source": [
    "covidData2"
   ]
  },
  {
   "cell_type": "code",
   "execution_count": 187,
   "metadata": {},
   "outputs": [
    {
     "data": {
      "text/plain": [
       "regiao                                Brasil\n",
       "estado                                   NaN\n",
       "municipio                                NaN\n",
       "coduf                                     76\n",
       "codmun                                   NaN\n",
       "codRegiaoSaude                           NaN\n",
       "nomeRegiaoSaude                          NaN\n",
       "data                     2020-06-01 00:00:00\n",
       "semanaEpi                                 23\n",
       "populacaoTCU2019                 2.10147e+08\n",
       "casosAcumulado                        526447\n",
       "casosNovos                             12247\n",
       "obitosAcumulado                        29937\n",
       "obitosNovos                              623\n",
       "Recuperadosnovos                      211080\n",
       "emAcompanhamentoNovos                 285430\n",
       "Name: 96, dtype: object"
      ]
     },
     "execution_count": 187,
     "metadata": {},
     "output_type": "execute_result"
    }
   ],
   "source": [
    "## Showing the line with the highest number of deaths:\n",
    "idx = covidData2.obitosAcumulado.idxmax()\n",
    "covidData2.iloc[idx]"
   ]
  },
  {
   "cell_type": "markdown",
   "metadata": {},
   "source": [
    "----------"
   ]
  },
  {
   "cell_type": "markdown",
   "metadata": {},
   "source": [
    "#### Exploring only SC municipalities"
   ]
  },
  {
   "cell_type": "code",
   "execution_count": 188,
   "metadata": {},
   "outputs": [],
   "source": [
    "covid_SC = covidData2[covidData2.estado == 'SC']"
   ]
  },
  {
   "cell_type": "code",
   "execution_count": 189,
   "metadata": {},
   "outputs": [
    {
     "data": {
      "text/plain": [
       "array([nan, 'Abdon Batista', 'Abelardo Luz', 'Agrolândia', 'Agronômica',\n",
       "       'Água Doce', 'Águas de Chapecó', 'Águas Frias', 'Águas Mornas',\n",
       "       'Alfredo Wagner', 'Alto Bela Vista', 'Anchieta', 'Anita Garibaldi',\n",
       "       'Antônio Carlos', 'Arabutã', 'Araquari', 'Araranguá', 'Armazém',\n",
       "       'Arvoredo', 'Ascurra', 'Atalanta', 'Aurora',\n",
       "       'Balneário Arroio do Silva', 'Balneário Camboriú',\n",
       "       'Balneário Barra do Sul', 'Balneário Gaivota', 'Barra Velha',\n",
       "       'Benedito Novo', 'Biguaçu', 'Blumenau', 'Bombinhas', 'Botuverá',\n",
       "       'Braço do Norte', 'Brusque', 'Caçador', 'Caibi', 'Camboriú',\n",
       "       'Campo Erê', 'Campos Novos', 'Canelinha', 'Canoinhas', 'Capinzal',\n",
       "       'Capivari de Baixo', 'Catanduvas', 'Caxambu do Sul', 'Chapecó',\n",
       "       'Cocal do Sul', 'Concórdia', 'Cordilheira Alta', 'Coronel Freitas',\n",
       "       'Corupá', 'Criciúma', 'Cunha Porã', 'Cunhataí', 'Curitibanos',\n",
       "       'Descanso', 'Dionísio Cerqueira', 'Dona Emma', 'Doutor Pedrinho',\n",
       "       'Entre Rios', 'Faxinal dos Guedes', 'Florianópolis',\n",
       "       'Forquilhinha', 'Fraiburgo', 'Galvão', 'Garopaba', 'Garuva',\n",
       "       'Gaspar', 'Governador Celso Ramos', 'Grão Pará', 'Gravatal',\n",
       "       'Guabiruba', 'Guaraciaba', 'Guaramirim', 'Guatambú',\n",
       "       \"Herval d'Oeste\", 'Ibicaré', 'Ibirama', 'Içara', 'Ilhota',\n",
       "       'Imbituba', 'Imbuia', 'Indaial', 'Ipira', 'Ipuaçu', 'Ipumirim',\n",
       "       'Irani', 'Irati', 'Itá', 'Itaiópolis', 'Itajaí', 'Itapema',\n",
       "       'Itapiranga', 'Itapoá', 'Ituporanga', 'Jaborá', 'Jacinto Machado',\n",
       "       'Jaguaruna', 'Jaraguá do Sul', 'Joaçaba', 'Joinville',\n",
       "       'José Boiteux', 'Jupiá', 'Lages', 'Laguna', 'Lajeado Grande',\n",
       "       'Laurentino', 'Lauro Muller', 'Lindóia do Sul', 'Lontras',\n",
       "       'Luiz Alves', 'Luzerna', 'Mafra', 'Maracajá', 'Maravilha',\n",
       "       'Marema', 'Massaranduba', 'Meleiro', 'Mondaí', 'Monte Carlo',\n",
       "       'Monte Castelo', 'Morro da Fumaça', 'Morro Grande', 'Navegantes',\n",
       "       'Nova Erechim', 'Nova Itaberaba', 'Nova Trento', 'Nova Veneza',\n",
       "       'Orleans', 'Otacílio Costa', 'Ouro', 'Paial', 'Palhoça',\n",
       "       'Palma Sola', 'Palmeira', 'Palmitos', 'Papanduva',\n",
       "       'Passo de Torres', 'Passos Maia', 'Paulo Lopes', 'Pedras Grandes',\n",
       "       'Penha', 'Peritiba', 'Pescaria Brava', 'Petrolândia',\n",
       "       'Balneário Piçarras', 'Pinhalzinho', 'Pinheiro Preto', 'Piratuba',\n",
       "       'Planalto Alegre', 'Pomerode', 'Ponte Serrada', 'Porto Belo',\n",
       "       'Porto União', 'Pouso Redondo', 'Praia Grande',\n",
       "       'Presidente Castello Branco', 'Presidente Getúlio', 'Quilombo',\n",
       "       'Rancho Queimado', 'Rio do Oeste', 'Rio do Sul', 'Rio Fortuna',\n",
       "       'Rio Negrinho', 'Rio Rufino', 'Riqueza', 'Rodeio', 'Salete',\n",
       "       'Salto Veloso', 'Sangão', 'Santa Cecília', 'Santa Helena',\n",
       "       'Santa Rosa de Lima', 'Santa Rosa do Sul', 'Santa Terezinha',\n",
       "       'Santiago do Sul', 'Santo Amaro da Imperatriz', 'São Bernardino',\n",
       "       'São Bento do Sul', 'São Carlos', 'São Domingos',\n",
       "       'São Francisco do Sul', 'São João do Oeste', 'São João Batista',\n",
       "       'São João do Itaperiú', 'São João do Sul', 'São Joaquim',\n",
       "       'São José', 'São José do Cedro', 'São Lourenço do Oeste',\n",
       "       'São Ludgero', 'São Martinho', 'São Miguel do Oeste',\n",
       "       'São Pedro de Alcântara', 'Saudades', 'Schroeder', 'Seara',\n",
       "       'Serra Alta', 'Siderópolis', 'Sombrio', 'Taió', 'Tangará',\n",
       "       'Tigrinhos', 'Tijucas', 'Timbé do Sul', 'Timbó', 'Três Barras',\n",
       "       'Treviso', 'Treze de Maio', 'Treze Tílias', 'Trombudo Central',\n",
       "       'Tubarão', 'Tunápolis', 'Turvo', 'União do Oeste', 'Urubici',\n",
       "       'Urussanga', 'Vargeão', 'Vargem', 'Vargem Bonita', 'Vidal Ramos',\n",
       "       'Videira', 'Xanxerê', 'Xavantina', 'Xaxim', 'Zortéa',\n",
       "       'Balneário Rincão'], dtype=object)"
      ]
     },
     "execution_count": 189,
     "metadata": {},
     "output_type": "execute_result"
    }
   ],
   "source": [
    "covid_SC.municipio.unique()"
   ]
  },
  {
   "cell_type": "code",
   "execution_count": 190,
   "metadata": {},
   "outputs": [],
   "source": [
    "sns.set_style(\"whitegrid\")"
   ]
  },
  {
   "cell_type": "code",
   "execution_count": 191,
   "metadata": {},
   "outputs": [],
   "source": [
    "cidade = 'Florianópolis'"
   ]
  },
  {
   "cell_type": "code",
   "execution_count": 192,
   "metadata": {},
   "outputs": [
    {
     "data": {
      "text/plain": [
       "Text(0.5, 1.0, 'Número de casos COVID-19 acumulados em Florianópolis, SC, em 21/05/2020')"
      ]
     },
     "execution_count": 192,
     "metadata": {},
     "output_type": "execute_result"
    },
    {
     "data": {
      "image/png": "[encoded data removed]",
      "text/plain": [
       "<Figure size 1080x432 with 1 Axes>"
      ]
     },
     "metadata": {},
     "output_type": "display_data"
    }
   ],
   "source": [
    "fig, ax = plt.subplots(figsize=(15,6))\n",
    "\n",
    "ax = sns.barplot(x='data', y='casosAcumulado', data=covid_SC[covid_SC['municipio'] == cidade], palette='YlOrRd')\n",
    "plt.xticks(rotation='vertical');\n",
    "plt.title('Número de casos COVID-19 acumulados em {0}, SC, em 21/05/2020'.format(cidade))"
   ]
  },
  {
   "cell_type": "code",
   "execution_count": 193,
   "metadata": {},
   "outputs": [
    {
     "data": {
      "text/html": [
       "<div>\n",
       "<style scoped>\n",
       "    .dataframe tbody tr th:only-of-type {\n",
       "        vertical-align: middle;\n",
       "    }\n",
       "\n",
       "    .dataframe tbody tr th {\n",
       "        vertical-align: top;\n",
       "    }\n",
       "\n",
       "    .dataframe thead th {\n",
       "        text-align: right;\n",
       "    }\n",
       "</style>\n",
       "<table border=\"1\" class=\"dataframe\">\n",
       "  <thead>\n",
       "    <tr style=\"text-align: right;\">\n",
       "      <th></th>\n",
       "      <th>regiao</th>\n",
       "      <th>estado</th>\n",
       "      <th>municipio</th>\n",
       "      <th>coduf</th>\n",
       "      <th>codmun</th>\n",
       "      <th>codRegiaoSaude</th>\n",
       "      <th>nomeRegiaoSaude</th>\n",
       "      <th>data</th>\n",
       "      <th>semanaEpi</th>\n",
       "      <th>populacaoTCU2019</th>\n",
       "      <th>casosAcumulado</th>\n",
       "      <th>casosNovos</th>\n",
       "      <th>obitosAcumulado</th>\n",
       "      <th>obitosNovos</th>\n",
       "      <th>Recuperadosnovos</th>\n",
       "      <th>emAcompanhamentoNovos</th>\n",
       "    </tr>\n",
       "  </thead>\n",
       "  <tbody>\n",
       "    <tr>\n",
       "      <th>117420</th>\n",
       "      <td>Sul</td>\n",
       "      <td>SC</td>\n",
       "      <td>Blumenau</td>\n",
       "      <td>42</td>\n",
       "      <td>420240.0</td>\n",
       "      <td>42006.0</td>\n",
       "      <td>Médio Vale do Itajaí</td>\n",
       "      <td>2020-03-28</td>\n",
       "      <td>13</td>\n",
       "      <td>357199.0</td>\n",
       "      <td>12</td>\n",
       "      <td>0</td>\n",
       "      <td>0</td>\n",
       "      <td>0</td>\n",
       "      <td>NaN</td>\n",
       "      <td>NaN</td>\n",
       "    </tr>\n",
       "    <tr>\n",
       "      <th>117421</th>\n",
       "      <td>Sul</td>\n",
       "      <td>SC</td>\n",
       "      <td>Blumenau</td>\n",
       "      <td>42</td>\n",
       "      <td>420240.0</td>\n",
       "      <td>42006.0</td>\n",
       "      <td>Médio Vale do Itajaí</td>\n",
       "      <td>2020-03-29</td>\n",
       "      <td>14</td>\n",
       "      <td>357199.0</td>\n",
       "      <td>12</td>\n",
       "      <td>0</td>\n",
       "      <td>0</td>\n",
       "      <td>0</td>\n",
       "      <td>NaN</td>\n",
       "      <td>NaN</td>\n",
       "    </tr>\n",
       "    <tr>\n",
       "      <th>117422</th>\n",
       "      <td>Sul</td>\n",
       "      <td>SC</td>\n",
       "      <td>Blumenau</td>\n",
       "      <td>42</td>\n",
       "      <td>420240.0</td>\n",
       "      <td>42006.0</td>\n",
       "      <td>Médio Vale do Itajaí</td>\n",
       "      <td>2020-03-30</td>\n",
       "      <td>14</td>\n",
       "      <td>357199.0</td>\n",
       "      <td>12</td>\n",
       "      <td>0</td>\n",
       "      <td>0</td>\n",
       "      <td>0</td>\n",
       "      <td>NaN</td>\n",
       "      <td>NaN</td>\n",
       "    </tr>\n",
       "    <tr>\n",
       "      <th>117423</th>\n",
       "      <td>Sul</td>\n",
       "      <td>SC</td>\n",
       "      <td>Blumenau</td>\n",
       "      <td>42</td>\n",
       "      <td>420240.0</td>\n",
       "      <td>42006.0</td>\n",
       "      <td>Médio Vale do Itajaí</td>\n",
       "      <td>2020-03-31</td>\n",
       "      <td>14</td>\n",
       "      <td>357199.0</td>\n",
       "      <td>19</td>\n",
       "      <td>7</td>\n",
       "      <td>0</td>\n",
       "      <td>0</td>\n",
       "      <td>NaN</td>\n",
       "      <td>NaN</td>\n",
       "    </tr>\n",
       "    <tr>\n",
       "      <th>117424</th>\n",
       "      <td>Sul</td>\n",
       "      <td>SC</td>\n",
       "      <td>Blumenau</td>\n",
       "      <td>42</td>\n",
       "      <td>420240.0</td>\n",
       "      <td>42006.0</td>\n",
       "      <td>Médio Vale do Itajaí</td>\n",
       "      <td>2020-04-01</td>\n",
       "      <td>14</td>\n",
       "      <td>357199.0</td>\n",
       "      <td>19</td>\n",
       "      <td>0</td>\n",
       "      <td>0</td>\n",
       "      <td>0</td>\n",
       "      <td>NaN</td>\n",
       "      <td>NaN</td>\n",
       "    </tr>\n",
       "    <tr>\n",
       "      <th>...</th>\n",
       "      <td>...</td>\n",
       "      <td>...</td>\n",
       "      <td>...</td>\n",
       "      <td>...</td>\n",
       "      <td>...</td>\n",
       "      <td>...</td>\n",
       "      <td>...</td>\n",
       "      <td>...</td>\n",
       "      <td>...</td>\n",
       "      <td>...</td>\n",
       "      <td>...</td>\n",
       "      <td>...</td>\n",
       "      <td>...</td>\n",
       "      <td>...</td>\n",
       "      <td>...</td>\n",
       "      <td>...</td>\n",
       "    </tr>\n",
       "    <tr>\n",
       "      <th>117481</th>\n",
       "      <td>Sul</td>\n",
       "      <td>SC</td>\n",
       "      <td>Blumenau</td>\n",
       "      <td>42</td>\n",
       "      <td>420240.0</td>\n",
       "      <td>42006.0</td>\n",
       "      <td>Médio Vale do Itajaí</td>\n",
       "      <td>2020-05-28</td>\n",
       "      <td>22</td>\n",
       "      <td>357199.0</td>\n",
       "      <td>572</td>\n",
       "      <td>74</td>\n",
       "      <td>4</td>\n",
       "      <td>1</td>\n",
       "      <td>NaN</td>\n",
       "      <td>NaN</td>\n",
       "    </tr>\n",
       "    <tr>\n",
       "      <th>117482</th>\n",
       "      <td>Sul</td>\n",
       "      <td>SC</td>\n",
       "      <td>Blumenau</td>\n",
       "      <td>42</td>\n",
       "      <td>420240.0</td>\n",
       "      <td>42006.0</td>\n",
       "      <td>Médio Vale do Itajaí</td>\n",
       "      <td>2020-05-29</td>\n",
       "      <td>22</td>\n",
       "      <td>357199.0</td>\n",
       "      <td>607</td>\n",
       "      <td>35</td>\n",
       "      <td>4</td>\n",
       "      <td>0</td>\n",
       "      <td>NaN</td>\n",
       "      <td>NaN</td>\n",
       "    </tr>\n",
       "    <tr>\n",
       "      <th>117483</th>\n",
       "      <td>Sul</td>\n",
       "      <td>SC</td>\n",
       "      <td>Blumenau</td>\n",
       "      <td>42</td>\n",
       "      <td>420240.0</td>\n",
       "      <td>42006.0</td>\n",
       "      <td>Médio Vale do Itajaí</td>\n",
       "      <td>2020-05-30</td>\n",
       "      <td>22</td>\n",
       "      <td>357199.0</td>\n",
       "      <td>614</td>\n",
       "      <td>7</td>\n",
       "      <td>4</td>\n",
       "      <td>0</td>\n",
       "      <td>NaN</td>\n",
       "      <td>NaN</td>\n",
       "    </tr>\n",
       "    <tr>\n",
       "      <th>117484</th>\n",
       "      <td>Sul</td>\n",
       "      <td>SC</td>\n",
       "      <td>Blumenau</td>\n",
       "      <td>42</td>\n",
       "      <td>420240.0</td>\n",
       "      <td>42006.0</td>\n",
       "      <td>Médio Vale do Itajaí</td>\n",
       "      <td>2020-05-31</td>\n",
       "      <td>23</td>\n",
       "      <td>357199.0</td>\n",
       "      <td>616</td>\n",
       "      <td>2</td>\n",
       "      <td>4</td>\n",
       "      <td>0</td>\n",
       "      <td>NaN</td>\n",
       "      <td>NaN</td>\n",
       "    </tr>\n",
       "    <tr>\n",
       "      <th>117485</th>\n",
       "      <td>Sul</td>\n",
       "      <td>SC</td>\n",
       "      <td>Blumenau</td>\n",
       "      <td>42</td>\n",
       "      <td>420240.0</td>\n",
       "      <td>42006.0</td>\n",
       "      <td>Médio Vale do Itajaí</td>\n",
       "      <td>2020-06-01</td>\n",
       "      <td>23</td>\n",
       "      <td>357199.0</td>\n",
       "      <td>659</td>\n",
       "      <td>43</td>\n",
       "      <td>4</td>\n",
       "      <td>0</td>\n",
       "      <td>NaN</td>\n",
       "      <td>NaN</td>\n",
       "    </tr>\n",
       "  </tbody>\n",
       "</table>\n",
       "<p>66 rows × 16 columns</p>\n",
       "</div>"
      ],
      "text/plain": [
       "       regiao estado municipio  coduf    codmun  codRegiaoSaude  \\\n",
       "117420    Sul     SC  Blumenau     42  420240.0         42006.0   \n",
       "117421    Sul     SC  Blumenau     42  420240.0         42006.0   \n",
       "117422    Sul     SC  Blumenau     42  420240.0         42006.0   \n",
       "117423    Sul     SC  Blumenau     42  420240.0         42006.0   \n",
       "117424    Sul     SC  Blumenau     42  420240.0         42006.0   \n",
       "...       ...    ...       ...    ...       ...             ...   \n",
       "117481    Sul     SC  Blumenau     42  420240.0         42006.0   \n",
       "117482    Sul     SC  Blumenau     42  420240.0         42006.0   \n",
       "117483    Sul     SC  Blumenau     42  420240.0         42006.0   \n",
       "117484    Sul     SC  Blumenau     42  420240.0         42006.0   \n",
       "117485    Sul     SC  Blumenau     42  420240.0         42006.0   \n",
       "\n",
       "             nomeRegiaoSaude       data  semanaEpi  populacaoTCU2019  \\\n",
       "117420  Médio Vale do Itajaí 2020-03-28         13          357199.0   \n",
       "117421  Médio Vale do Itajaí 2020-03-29         14          357199.0   \n",
       "117422  Médio Vale do Itajaí 2020-03-30         14          357199.0   \n",
       "117423  Médio Vale do Itajaí 2020-03-31         14          357199.0   \n",
       "117424  Médio Vale do Itajaí 2020-04-01         14          357199.0   \n",
       "...                      ...        ...        ...               ...   \n",
       "117481  Médio Vale do Itajaí 2020-05-28         22          357199.0   \n",
       "117482  Médio Vale do Itajaí 2020-05-29         22          357199.0   \n",
       "117483  Médio Vale do Itajaí 2020-05-30         22          357199.0   \n",
       "117484  Médio Vale do Itajaí 2020-05-31         23          357199.0   \n",
       "117485  Médio Vale do Itajaí 2020-06-01         23          357199.0   \n",
       "\n",
       "        casosAcumulado  casosNovos  obitosAcumulado  obitosNovos  \\\n",
       "117420              12           0                0            0   \n",
       "117421              12           0                0            0   \n",
       "117422              12           0                0            0   \n",
       "117423              19           7                0            0   \n",
       "117424              19           0                0            0   \n",
       "...                ...         ...              ...          ...   \n",
       "117481             572          74                4            1   \n",
       "117482             607          35                4            0   \n",
       "117483             614           7                4            0   \n",
       "117484             616           2                4            0   \n",
       "117485             659          43                4            0   \n",
       "\n",
       "        Recuperadosnovos  emAcompanhamentoNovos  \n",
       "117420               NaN                    NaN  \n",
       "117421               NaN                    NaN  \n",
       "117422               NaN                    NaN  \n",
       "117423               NaN                    NaN  \n",
       "117424               NaN                    NaN  \n",
       "...                  ...                    ...  \n",
       "117481               NaN                    NaN  \n",
       "117482               NaN                    NaN  \n",
       "117483               NaN                    NaN  \n",
       "117484               NaN                    NaN  \n",
       "117485               NaN                    NaN  \n",
       "\n",
       "[66 rows x 16 columns]"
      ]
     },
     "execution_count": 193,
     "metadata": {},
     "output_type": "execute_result"
    }
   ],
   "source": [
    "covid_SC[covid_SC['municipio'] == 'Blumenau']"
   ]
  },
  {
   "cell_type": "code",
   "execution_count": null,
   "metadata": {},
   "outputs": [],
   "source": []
  },
  {
   "cell_type": "markdown",
   "metadata": {},
   "source": [
    "----------------"
   ]
  },
  {
   "cell_type": "markdown",
   "metadata": {},
   "source": [
    "## Visualizing the number of cases by state"
   ]
  },
  {
   "cell_type": "markdown",
   "metadata": {},
   "source": [
    "#### Preparing the dataset only with tha state data:"
   ]
  },
  {
   "cell_type": "code",
   "execution_count": 194,
   "metadata": {
    "scrolled": true
   },
   "outputs": [
    {
     "data": {
      "text/plain": [
       "Timestamp('2020-06-01 00:00:00')"
      ]
     },
     "execution_count": 194,
     "metadata": {},
     "output_type": "execute_result"
    }
   ],
   "source": [
    "## Getting the last date from data:\n",
    "lastDay = covidData2.data.max()\n",
    "lastDay"
   ]
  },
  {
   "cell_type": "code",
   "execution_count": 195,
   "metadata": {},
   "outputs": [],
   "source": [
    "covidLastDay = covidData2[(covidData2.data == lastDay) &\n",
    "                         (covidData2.estado.isna() == False) & \n",
    "                         (covidData2.municipio.isna() == True) &\n",
    "                         (covidData2.populacaoTCU2019.isna() == False)]"
   ]
  },
  {
   "cell_type": "code",
   "execution_count": 196,
   "metadata": {},
   "outputs": [],
   "source": [
    "covidLastDay = covidLastDay[['regiao','estado','data','populacaoTCU2019','casosAcumulado','obitosAcumulado']]"
   ]
  },
  {
   "cell_type": "code",
   "execution_count": 197,
   "metadata": {
    "scrolled": false
   },
   "outputs": [
    {
     "data": {
      "text/html": [
       "<div>\n",
       "<style scoped>\n",
       "    .dataframe tbody tr th:only-of-type {\n",
       "        vertical-align: middle;\n",
       "    }\n",
       "\n",
       "    .dataframe tbody tr th {\n",
       "        vertical-align: top;\n",
       "    }\n",
       "\n",
       "    .dataframe thead th {\n",
       "        text-align: right;\n",
       "    }\n",
       "</style>\n",
       "<table border=\"1\" class=\"dataframe\">\n",
       "  <thead>\n",
       "    <tr style=\"text-align: right;\">\n",
       "      <th></th>\n",
       "      <th>regiao</th>\n",
       "      <th>estado</th>\n",
       "      <th>data</th>\n",
       "      <th>populacaoTCU2019</th>\n",
       "      <th>casosAcumulado</th>\n",
       "      <th>obitosAcumulado</th>\n",
       "    </tr>\n",
       "  </thead>\n",
       "  <tbody>\n",
       "    <tr>\n",
       "      <th>170</th>\n",
       "      <td>Norte</td>\n",
       "      <td>RO</td>\n",
       "      <td>2020-06-01</td>\n",
       "      <td>1777225.0</td>\n",
       "      <td>5172</td>\n",
       "      <td>159</td>\n",
       "    </tr>\n",
       "    <tr>\n",
       "      <th>245</th>\n",
       "      <td>Norte</td>\n",
       "      <td>AC</td>\n",
       "      <td>2020-06-01</td>\n",
       "      <td>881935.0</td>\n",
       "      <td>6326</td>\n",
       "      <td>161</td>\n",
       "    </tr>\n",
       "    <tr>\n",
       "      <th>324</th>\n",
       "      <td>Norte</td>\n",
       "      <td>AM</td>\n",
       "      <td>2020-06-01</td>\n",
       "      <td>4144597.0</td>\n",
       "      <td>41774</td>\n",
       "      <td>2071</td>\n",
       "    </tr>\n",
       "    <tr>\n",
       "      <th>396</th>\n",
       "      <td>Norte</td>\n",
       "      <td>RR</td>\n",
       "      <td>2020-06-01</td>\n",
       "      <td>605761.0</td>\n",
       "      <td>3692</td>\n",
       "      <td>116</td>\n",
       "    </tr>\n",
       "    <tr>\n",
       "      <th>471</th>\n",
       "      <td>Norte</td>\n",
       "      <td>PA</td>\n",
       "      <td>2020-06-01</td>\n",
       "      <td>8602865.0</td>\n",
       "      <td>38046</td>\n",
       "      <td>2925</td>\n",
       "    </tr>\n",
       "    <tr>\n",
       "      <th>545</th>\n",
       "      <td>Norte</td>\n",
       "      <td>AP</td>\n",
       "      <td>2020-06-01</td>\n",
       "      <td>845731.0</td>\n",
       "      <td>9890</td>\n",
       "      <td>228</td>\n",
       "    </tr>\n",
       "    <tr>\n",
       "      <th>620</th>\n",
       "      <td>Norte</td>\n",
       "      <td>TO</td>\n",
       "      <td>2020-06-01</td>\n",
       "      <td>1572866.0</td>\n",
       "      <td>4345</td>\n",
       "      <td>76</td>\n",
       "    </tr>\n",
       "    <tr>\n",
       "      <th>693</th>\n",
       "      <td>Nordeste</td>\n",
       "      <td>MA</td>\n",
       "      <td>2020-06-01</td>\n",
       "      <td>7075181.0</td>\n",
       "      <td>35297</td>\n",
       "      <td>976</td>\n",
       "    </tr>\n",
       "    <tr>\n",
       "      <th>767</th>\n",
       "      <td>Nordeste</td>\n",
       "      <td>PI</td>\n",
       "      <td>2020-06-01</td>\n",
       "      <td>3273227.0</td>\n",
       "      <td>5119</td>\n",
       "      <td>168</td>\n",
       "    </tr>\n",
       "    <tr>\n",
       "      <th>844</th>\n",
       "      <td>Nordeste</td>\n",
       "      <td>CE</td>\n",
       "      <td>2020-06-01</td>\n",
       "      <td>9132078.0</td>\n",
       "      <td>50504</td>\n",
       "      <td>3188</td>\n",
       "    </tr>\n",
       "    <tr>\n",
       "      <th>925</th>\n",
       "      <td>Nordeste</td>\n",
       "      <td>RN</td>\n",
       "      <td>2020-06-01</td>\n",
       "      <td>3506853.0</td>\n",
       "      <td>7964</td>\n",
       "      <td>323</td>\n",
       "    </tr>\n",
       "    <tr>\n",
       "      <th>1000</th>\n",
       "      <td>Nordeste</td>\n",
       "      <td>PB</td>\n",
       "      <td>2020-06-01</td>\n",
       "      <td>4018127.0</td>\n",
       "      <td>13695</td>\n",
       "      <td>370</td>\n",
       "    </tr>\n",
       "    <tr>\n",
       "      <th>1082</th>\n",
       "      <td>Nordeste</td>\n",
       "      <td>PE</td>\n",
       "      <td>2020-06-01</td>\n",
       "      <td>9557071.0</td>\n",
       "      <td>34900</td>\n",
       "      <td>2875</td>\n",
       "    </tr>\n",
       "    <tr>\n",
       "      <th>1168</th>\n",
       "      <td>Nordeste</td>\n",
       "      <td>AL</td>\n",
       "      <td>2020-06-01</td>\n",
       "      <td>3337357.0</td>\n",
       "      <td>10837</td>\n",
       "      <td>461</td>\n",
       "    </tr>\n",
       "    <tr>\n",
       "      <th>1247</th>\n",
       "      <td>Nordeste</td>\n",
       "      <td>SE</td>\n",
       "      <td>2020-06-01</td>\n",
       "      <td>2298696.0</td>\n",
       "      <td>7233</td>\n",
       "      <td>166</td>\n",
       "    </tr>\n",
       "    <tr>\n",
       "      <th>1335</th>\n",
       "      <td>Nordeste</td>\n",
       "      <td>BA</td>\n",
       "      <td>2020-06-01</td>\n",
       "      <td>14873064.0</td>\n",
       "      <td>18898</td>\n",
       "      <td>701</td>\n",
       "    </tr>\n",
       "    <tr>\n",
       "      <th>1421</th>\n",
       "      <td>Sudeste</td>\n",
       "      <td>MG</td>\n",
       "      <td>2020-06-01</td>\n",
       "      <td>21168791.0</td>\n",
       "      <td>10670</td>\n",
       "      <td>278</td>\n",
       "    </tr>\n",
       "    <tr>\n",
       "      <th>1509</th>\n",
       "      <td>Sudeste</td>\n",
       "      <td>ES</td>\n",
       "      <td>2020-06-01</td>\n",
       "      <td>4018650.0</td>\n",
       "      <td>14069</td>\n",
       "      <td>614</td>\n",
       "    </tr>\n",
       "    <tr>\n",
       "      <th>1598</th>\n",
       "      <td>Sudeste</td>\n",
       "      <td>RJ</td>\n",
       "      <td>2020-06-01</td>\n",
       "      <td>17264943.0</td>\n",
       "      <td>54530</td>\n",
       "      <td>5462</td>\n",
       "    </tr>\n",
       "    <tr>\n",
       "      <th>1695</th>\n",
       "      <td>Sudeste</td>\n",
       "      <td>SP</td>\n",
       "      <td>2020-06-01</td>\n",
       "      <td>45919049.0</td>\n",
       "      <td>111296</td>\n",
       "      <td>7667</td>\n",
       "    </tr>\n",
       "    <tr>\n",
       "      <th>1777</th>\n",
       "      <td>Sul</td>\n",
       "      <td>PR</td>\n",
       "      <td>2020-06-01</td>\n",
       "      <td>11433957.0</td>\n",
       "      <td>4835</td>\n",
       "      <td>190</td>\n",
       "    </tr>\n",
       "    <tr>\n",
       "      <th>1858</th>\n",
       "      <td>Sul</td>\n",
       "      <td>SC</td>\n",
       "      <td>2020-06-01</td>\n",
       "      <td>7164788.0</td>\n",
       "      <td>9498</td>\n",
       "      <td>146</td>\n",
       "    </tr>\n",
       "    <tr>\n",
       "      <th>1942</th>\n",
       "      <td>Sul</td>\n",
       "      <td>RS</td>\n",
       "      <td>2020-06-01</td>\n",
       "      <td>11377239.0</td>\n",
       "      <td>9332</td>\n",
       "      <td>232</td>\n",
       "    </tr>\n",
       "    <tr>\n",
       "      <th>2020</th>\n",
       "      <td>Centro-Oeste</td>\n",
       "      <td>MS</td>\n",
       "      <td>2020-06-01</td>\n",
       "      <td>2778986.0</td>\n",
       "      <td>1568</td>\n",
       "      <td>20</td>\n",
       "    </tr>\n",
       "    <tr>\n",
       "      <th>2094</th>\n",
       "      <td>Centro-Oeste</td>\n",
       "      <td>MT</td>\n",
       "      <td>2020-06-01</td>\n",
       "      <td>3484466.0</td>\n",
       "      <td>2541</td>\n",
       "      <td>66</td>\n",
       "    </tr>\n",
       "    <tr>\n",
       "      <th>2175</th>\n",
       "      <td>Centro-Oeste</td>\n",
       "      <td>GO</td>\n",
       "      <td>2020-06-01</td>\n",
       "      <td>7018354.0</td>\n",
       "      <td>3906</td>\n",
       "      <td>127</td>\n",
       "    </tr>\n",
       "    <tr>\n",
       "      <th>2262</th>\n",
       "      <td>Centro-Oeste</td>\n",
       "      <td>DF</td>\n",
       "      <td>2020-06-01</td>\n",
       "      <td>3015268.0</td>\n",
       "      <td>10510</td>\n",
       "      <td>171</td>\n",
       "    </tr>\n",
       "  </tbody>\n",
       "</table>\n",
       "</div>"
      ],
      "text/plain": [
       "            regiao estado       data  populacaoTCU2019  casosAcumulado  \\\n",
       "170          Norte     RO 2020-06-01         1777225.0            5172   \n",
       "245          Norte     AC 2020-06-01          881935.0            6326   \n",
       "324          Norte     AM 2020-06-01         4144597.0           41774   \n",
       "396          Norte     RR 2020-06-01          605761.0            3692   \n",
       "471          Norte     PA 2020-06-01         8602865.0           38046   \n",
       "545          Norte     AP 2020-06-01          845731.0            9890   \n",
       "620          Norte     TO 2020-06-01         1572866.0            4345   \n",
       "693       Nordeste     MA 2020-06-01         7075181.0           35297   \n",
       "767       Nordeste     PI 2020-06-01         3273227.0            5119   \n",
       "844       Nordeste     CE 2020-06-01         9132078.0           50504   \n",
       "925       Nordeste     RN 2020-06-01         3506853.0            7964   \n",
       "1000      Nordeste     PB 2020-06-01         4018127.0           13695   \n",
       "1082      Nordeste     PE 2020-06-01         9557071.0           34900   \n",
       "1168      Nordeste     AL 2020-06-01         3337357.0           10837   \n",
       "1247      Nordeste     SE 2020-06-01         2298696.0            7233   \n",
       "1335      Nordeste     BA 2020-06-01        14873064.0           18898   \n",
       "1421       Sudeste     MG 2020-06-01        21168791.0           10670   \n",
       "1509       Sudeste     ES 2020-06-01         4018650.0           14069   \n",
       "1598       Sudeste     RJ 2020-06-01        17264943.0           54530   \n",
       "1695       Sudeste     SP 2020-06-01        45919049.0          111296   \n",
       "1777           Sul     PR 2020-06-01        11433957.0            4835   \n",
       "1858           Sul     SC 2020-06-01         7164788.0            9498   \n",
       "1942           Sul     RS 2020-06-01        11377239.0            9332   \n",
       "2020  Centro-Oeste     MS 2020-06-01         2778986.0            1568   \n",
       "2094  Centro-Oeste     MT 2020-06-01         3484466.0            2541   \n",
       "2175  Centro-Oeste     GO 2020-06-01         7018354.0            3906   \n",
       "2262  Centro-Oeste     DF 2020-06-01         3015268.0           10510   \n",
       "\n",
       "      obitosAcumulado  \n",
       "170               159  \n",
       "245               161  \n",
       "324              2071  \n",
       "396               116  \n",
       "471              2925  \n",
       "545               228  \n",
       "620                76  \n",
       "693               976  \n",
       "767               168  \n",
       "844              3188  \n",
       "925               323  \n",
       "1000              370  \n",
       "1082             2875  \n",
       "1168              461  \n",
       "1247              166  \n",
       "1335              701  \n",
       "1421              278  \n",
       "1509              614  \n",
       "1598             5462  \n",
       "1695             7667  \n",
       "1777              190  \n",
       "1858              146  \n",
       "1942              232  \n",
       "2020               20  \n",
       "2094               66  \n",
       "2175              127  \n",
       "2262              171  "
      ]
     },
     "execution_count": 197,
     "metadata": {},
     "output_type": "execute_result"
    }
   ],
   "source": [
    "covidLastDay"
   ]
  },
  {
   "cell_type": "markdown",
   "metadata": {},
   "source": [
    "#### Normalizing data:"
   ]
  },
  {
   "cell_type": "code",
   "execution_count": 198,
   "metadata": {},
   "outputs": [],
   "source": [
    "normalCovid = covidLastDay.copy()"
   ]
  },
  {
   "cell_type": "code",
   "execution_count": 199,
   "metadata": {},
   "outputs": [],
   "source": [
    "## Contamination rate (pct of population)\n",
    "normalCovid['contamRate'] = (normalCovid['casosAcumulado'] / normalCovid['populacaoTCU2019']) * 100\n",
    "## Lethality rate (pct of cases)\n",
    "normalCovid['lethality_pct'] = (normalCovid['obitosAcumulado'] / normalCovid['casosAcumulado']) * 100\n",
    "## Death rate (pct of population)\n",
    "normalCovid['deathRate'] = (normalCovid['obitosAcumulado'] / normalCovid['populacaoTCU2019']) * 100"
   ]
  },
  {
   "cell_type": "code",
   "execution_count": 200,
   "metadata": {},
   "outputs": [
    {
     "data": {
      "text/plain": [
       "111296"
      ]
     },
     "execution_count": 200,
     "metadata": {},
     "output_type": "execute_result"
    }
   ],
   "source": [
    "normalCovid['casosAcumulado'].max()"
   ]
  },
  {
   "cell_type": "code",
   "execution_count": 201,
   "metadata": {},
   "outputs": [
    {
     "data": {
      "text/plain": [
       "7667"
      ]
     },
     "execution_count": 201,
     "metadata": {},
     "output_type": "execute_result"
    }
   ],
   "source": [
    "normalCovid['obitosAcumulado'].max()"
   ]
  },
  {
   "cell_type": "code",
   "execution_count": 202,
   "metadata": {},
   "outputs": [
    {
     "data": {
      "text/plain": [
       "1598"
      ]
     },
     "execution_count": 202,
     "metadata": {},
     "output_type": "execute_result"
    }
   ],
   "source": [
    "normalCovid.lethality_pct.idxmax()"
   ]
  },
  {
   "cell_type": "code",
   "execution_count": 203,
   "metadata": {
    "scrolled": false
   },
   "outputs": [
    {
     "data": {
      "text/html": [
       "<div>\n",
       "<style scoped>\n",
       "    .dataframe tbody tr th:only-of-type {\n",
       "        vertical-align: middle;\n",
       "    }\n",
       "\n",
       "    .dataframe tbody tr th {\n",
       "        vertical-align: top;\n",
       "    }\n",
       "\n",
       "    .dataframe thead th {\n",
       "        text-align: right;\n",
       "    }\n",
       "</style>\n",
       "<table border=\"1\" class=\"dataframe\">\n",
       "  <thead>\n",
       "    <tr style=\"text-align: right;\">\n",
       "      <th></th>\n",
       "      <th>regiao</th>\n",
       "      <th>estado</th>\n",
       "      <th>data</th>\n",
       "      <th>populacaoTCU2019</th>\n",
       "      <th>casosAcumulado</th>\n",
       "      <th>obitosAcumulado</th>\n",
       "      <th>contamRate</th>\n",
       "      <th>lethality_pct</th>\n",
       "      <th>deathRate</th>\n",
       "    </tr>\n",
       "  </thead>\n",
       "  <tbody>\n",
       "    <tr>\n",
       "      <th>245</th>\n",
       "      <td>Norte</td>\n",
       "      <td>AC</td>\n",
       "      <td>2020-06-01</td>\n",
       "      <td>881935.0</td>\n",
       "      <td>6326</td>\n",
       "      <td>161</td>\n",
       "      <td>0.717286</td>\n",
       "      <td>2.545052</td>\n",
       "      <td>0.018255</td>\n",
       "    </tr>\n",
       "    <tr>\n",
       "      <th>1168</th>\n",
       "      <td>Nordeste</td>\n",
       "      <td>AL</td>\n",
       "      <td>2020-06-01</td>\n",
       "      <td>3337357.0</td>\n",
       "      <td>10837</td>\n",
       "      <td>461</td>\n",
       "      <td>0.324718</td>\n",
       "      <td>4.253945</td>\n",
       "      <td>0.013813</td>\n",
       "    </tr>\n",
       "    <tr>\n",
       "      <th>324</th>\n",
       "      <td>Norte</td>\n",
       "      <td>AM</td>\n",
       "      <td>2020-06-01</td>\n",
       "      <td>4144597.0</td>\n",
       "      <td>41774</td>\n",
       "      <td>2071</td>\n",
       "      <td>1.007915</td>\n",
       "      <td>4.957629</td>\n",
       "      <td>0.049969</td>\n",
       "    </tr>\n",
       "    <tr>\n",
       "      <th>545</th>\n",
       "      <td>Norte</td>\n",
       "      <td>AP</td>\n",
       "      <td>2020-06-01</td>\n",
       "      <td>845731.0</td>\n",
       "      <td>9890</td>\n",
       "      <td>228</td>\n",
       "      <td>1.169403</td>\n",
       "      <td>2.305359</td>\n",
       "      <td>0.026959</td>\n",
       "    </tr>\n",
       "    <tr>\n",
       "      <th>1335</th>\n",
       "      <td>Nordeste</td>\n",
       "      <td>BA</td>\n",
       "      <td>2020-06-01</td>\n",
       "      <td>14873064.0</td>\n",
       "      <td>18898</td>\n",
       "      <td>701</td>\n",
       "      <td>0.127062</td>\n",
       "      <td>3.709387</td>\n",
       "      <td>0.004713</td>\n",
       "    </tr>\n",
       "    <tr>\n",
       "      <th>844</th>\n",
       "      <td>Nordeste</td>\n",
       "      <td>CE</td>\n",
       "      <td>2020-06-01</td>\n",
       "      <td>9132078.0</td>\n",
       "      <td>50504</td>\n",
       "      <td>3188</td>\n",
       "      <td>0.553040</td>\n",
       "      <td>6.312371</td>\n",
       "      <td>0.034910</td>\n",
       "    </tr>\n",
       "    <tr>\n",
       "      <th>2262</th>\n",
       "      <td>Centro-Oeste</td>\n",
       "      <td>DF</td>\n",
       "      <td>2020-06-01</td>\n",
       "      <td>3015268.0</td>\n",
       "      <td>10510</td>\n",
       "      <td>171</td>\n",
       "      <td>0.348559</td>\n",
       "      <td>1.627022</td>\n",
       "      <td>0.005671</td>\n",
       "    </tr>\n",
       "    <tr>\n",
       "      <th>1509</th>\n",
       "      <td>Sudeste</td>\n",
       "      <td>ES</td>\n",
       "      <td>2020-06-01</td>\n",
       "      <td>4018650.0</td>\n",
       "      <td>14069</td>\n",
       "      <td>614</td>\n",
       "      <td>0.350093</td>\n",
       "      <td>4.364205</td>\n",
       "      <td>0.015279</td>\n",
       "    </tr>\n",
       "    <tr>\n",
       "      <th>2175</th>\n",
       "      <td>Centro-Oeste</td>\n",
       "      <td>GO</td>\n",
       "      <td>2020-06-01</td>\n",
       "      <td>7018354.0</td>\n",
       "      <td>3906</td>\n",
       "      <td>127</td>\n",
       "      <td>0.055654</td>\n",
       "      <td>3.251408</td>\n",
       "      <td>0.001810</td>\n",
       "    </tr>\n",
       "    <tr>\n",
       "      <th>693</th>\n",
       "      <td>Nordeste</td>\n",
       "      <td>MA</td>\n",
       "      <td>2020-06-01</td>\n",
       "      <td>7075181.0</td>\n",
       "      <td>35297</td>\n",
       "      <td>976</td>\n",
       "      <td>0.498885</td>\n",
       "      <td>2.765108</td>\n",
       "      <td>0.013795</td>\n",
       "    </tr>\n",
       "    <tr>\n",
       "      <th>1421</th>\n",
       "      <td>Sudeste</td>\n",
       "      <td>MG</td>\n",
       "      <td>2020-06-01</td>\n",
       "      <td>21168791.0</td>\n",
       "      <td>10670</td>\n",
       "      <td>278</td>\n",
       "      <td>0.050404</td>\n",
       "      <td>2.605436</td>\n",
       "      <td>0.001313</td>\n",
       "    </tr>\n",
       "    <tr>\n",
       "      <th>2020</th>\n",
       "      <td>Centro-Oeste</td>\n",
       "      <td>MS</td>\n",
       "      <td>2020-06-01</td>\n",
       "      <td>2778986.0</td>\n",
       "      <td>1568</td>\n",
       "      <td>20</td>\n",
       "      <td>0.056423</td>\n",
       "      <td>1.275510</td>\n",
       "      <td>0.000720</td>\n",
       "    </tr>\n",
       "    <tr>\n",
       "      <th>2094</th>\n",
       "      <td>Centro-Oeste</td>\n",
       "      <td>MT</td>\n",
       "      <td>2020-06-01</td>\n",
       "      <td>3484466.0</td>\n",
       "      <td>2541</td>\n",
       "      <td>66</td>\n",
       "      <td>0.072924</td>\n",
       "      <td>2.597403</td>\n",
       "      <td>0.001894</td>\n",
       "    </tr>\n",
       "    <tr>\n",
       "      <th>471</th>\n",
       "      <td>Norte</td>\n",
       "      <td>PA</td>\n",
       "      <td>2020-06-01</td>\n",
       "      <td>8602865.0</td>\n",
       "      <td>38046</td>\n",
       "      <td>2925</td>\n",
       "      <td>0.442248</td>\n",
       "      <td>7.688062</td>\n",
       "      <td>0.034000</td>\n",
       "    </tr>\n",
       "    <tr>\n",
       "      <th>1000</th>\n",
       "      <td>Nordeste</td>\n",
       "      <td>PB</td>\n",
       "      <td>2020-06-01</td>\n",
       "      <td>4018127.0</td>\n",
       "      <td>13695</td>\n",
       "      <td>370</td>\n",
       "      <td>0.340830</td>\n",
       "      <td>2.701716</td>\n",
       "      <td>0.009208</td>\n",
       "    </tr>\n",
       "    <tr>\n",
       "      <th>1082</th>\n",
       "      <td>Nordeste</td>\n",
       "      <td>PE</td>\n",
       "      <td>2020-06-01</td>\n",
       "      <td>9557071.0</td>\n",
       "      <td>34900</td>\n",
       "      <td>2875</td>\n",
       "      <td>0.365175</td>\n",
       "      <td>8.237822</td>\n",
       "      <td>0.030082</td>\n",
       "    </tr>\n",
       "    <tr>\n",
       "      <th>767</th>\n",
       "      <td>Nordeste</td>\n",
       "      <td>PI</td>\n",
       "      <td>2020-06-01</td>\n",
       "      <td>3273227.0</td>\n",
       "      <td>5119</td>\n",
       "      <td>168</td>\n",
       "      <td>0.156390</td>\n",
       "      <td>3.281891</td>\n",
       "      <td>0.005133</td>\n",
       "    </tr>\n",
       "    <tr>\n",
       "      <th>1777</th>\n",
       "      <td>Sul</td>\n",
       "      <td>PR</td>\n",
       "      <td>2020-06-01</td>\n",
       "      <td>11433957.0</td>\n",
       "      <td>4835</td>\n",
       "      <td>190</td>\n",
       "      <td>0.042286</td>\n",
       "      <td>3.929679</td>\n",
       "      <td>0.001662</td>\n",
       "    </tr>\n",
       "    <tr>\n",
       "      <th>1598</th>\n",
       "      <td>Sudeste</td>\n",
       "      <td>RJ</td>\n",
       "      <td>2020-06-01</td>\n",
       "      <td>17264943.0</td>\n",
       "      <td>54530</td>\n",
       "      <td>5462</td>\n",
       "      <td>0.315842</td>\n",
       "      <td>10.016505</td>\n",
       "      <td>0.031636</td>\n",
       "    </tr>\n",
       "    <tr>\n",
       "      <th>925</th>\n",
       "      <td>Nordeste</td>\n",
       "      <td>RN</td>\n",
       "      <td>2020-06-01</td>\n",
       "      <td>3506853.0</td>\n",
       "      <td>7964</td>\n",
       "      <td>323</td>\n",
       "      <td>0.227098</td>\n",
       "      <td>4.055751</td>\n",
       "      <td>0.009211</td>\n",
       "    </tr>\n",
       "    <tr>\n",
       "      <th>170</th>\n",
       "      <td>Norte</td>\n",
       "      <td>RO</td>\n",
       "      <td>2020-06-01</td>\n",
       "      <td>1777225.0</td>\n",
       "      <td>5172</td>\n",
       "      <td>159</td>\n",
       "      <td>0.291015</td>\n",
       "      <td>3.074246</td>\n",
       "      <td>0.008947</td>\n",
       "    </tr>\n",
       "    <tr>\n",
       "      <th>396</th>\n",
       "      <td>Norte</td>\n",
       "      <td>RR</td>\n",
       "      <td>2020-06-01</td>\n",
       "      <td>605761.0</td>\n",
       "      <td>3692</td>\n",
       "      <td>116</td>\n",
       "      <td>0.609481</td>\n",
       "      <td>3.141928</td>\n",
       "      <td>0.019149</td>\n",
       "    </tr>\n",
       "    <tr>\n",
       "      <th>1942</th>\n",
       "      <td>Sul</td>\n",
       "      <td>RS</td>\n",
       "      <td>2020-06-01</td>\n",
       "      <td>11377239.0</td>\n",
       "      <td>9332</td>\n",
       "      <td>232</td>\n",
       "      <td>0.082023</td>\n",
       "      <td>2.486069</td>\n",
       "      <td>0.002039</td>\n",
       "    </tr>\n",
       "    <tr>\n",
       "      <th>1858</th>\n",
       "      <td>Sul</td>\n",
       "      <td>SC</td>\n",
       "      <td>2020-06-01</td>\n",
       "      <td>7164788.0</td>\n",
       "      <td>9498</td>\n",
       "      <td>146</td>\n",
       "      <td>0.132565</td>\n",
       "      <td>1.537166</td>\n",
       "      <td>0.002038</td>\n",
       "    </tr>\n",
       "    <tr>\n",
       "      <th>1247</th>\n",
       "      <td>Nordeste</td>\n",
       "      <td>SE</td>\n",
       "      <td>2020-06-01</td>\n",
       "      <td>2298696.0</td>\n",
       "      <td>7233</td>\n",
       "      <td>166</td>\n",
       "      <td>0.314657</td>\n",
       "      <td>2.295037</td>\n",
       "      <td>0.007221</td>\n",
       "    </tr>\n",
       "    <tr>\n",
       "      <th>1695</th>\n",
       "      <td>Sudeste</td>\n",
       "      <td>SP</td>\n",
       "      <td>2020-06-01</td>\n",
       "      <td>45919049.0</td>\n",
       "      <td>111296</td>\n",
       "      <td>7667</td>\n",
       "      <td>0.242374</td>\n",
       "      <td>6.888837</td>\n",
       "      <td>0.016697</td>\n",
       "    </tr>\n",
       "    <tr>\n",
       "      <th>620</th>\n",
       "      <td>Norte</td>\n",
       "      <td>TO</td>\n",
       "      <td>2020-06-01</td>\n",
       "      <td>1572866.0</td>\n",
       "      <td>4345</td>\n",
       "      <td>76</td>\n",
       "      <td>0.276247</td>\n",
       "      <td>1.749137</td>\n",
       "      <td>0.004832</td>\n",
       "    </tr>\n",
       "  </tbody>\n",
       "</table>\n",
       "</div>"
      ],
      "text/plain": [
       "            regiao estado       data  populacaoTCU2019  casosAcumulado  \\\n",
       "245          Norte     AC 2020-06-01          881935.0            6326   \n",
       "1168      Nordeste     AL 2020-06-01         3337357.0           10837   \n",
       "324          Norte     AM 2020-06-01         4144597.0           41774   \n",
       "545          Norte     AP 2020-06-01          845731.0            9890   \n",
       "1335      Nordeste     BA 2020-06-01        14873064.0           18898   \n",
       "844       Nordeste     CE 2020-06-01         9132078.0           50504   \n",
       "2262  Centro-Oeste     DF 2020-06-01         3015268.0           10510   \n",
       "1509       Sudeste     ES 2020-06-01         4018650.0           14069   \n",
       "2175  Centro-Oeste     GO 2020-06-01         7018354.0            3906   \n",
       "693       Nordeste     MA 2020-06-01         7075181.0           35297   \n",
       "1421       Sudeste     MG 2020-06-01        21168791.0           10670   \n",
       "2020  Centro-Oeste     MS 2020-06-01         2778986.0            1568   \n",
       "2094  Centro-Oeste     MT 2020-06-01         3484466.0            2541   \n",
       "471          Norte     PA 2020-06-01         8602865.0           38046   \n",
       "1000      Nordeste     PB 2020-06-01         4018127.0           13695   \n",
       "1082      Nordeste     PE 2020-06-01         9557071.0           34900   \n",
       "767       Nordeste     PI 2020-06-01         3273227.0            5119   \n",
       "1777           Sul     PR 2020-06-01        11433957.0            4835   \n",
       "1598       Sudeste     RJ 2020-06-01        17264943.0           54530   \n",
       "925       Nordeste     RN 2020-06-01         3506853.0            7964   \n",
       "170          Norte     RO 2020-06-01         1777225.0            5172   \n",
       "396          Norte     RR 2020-06-01          605761.0            3692   \n",
       "1942           Sul     RS 2020-06-01        11377239.0            9332   \n",
       "1858           Sul     SC 2020-06-01         7164788.0            9498   \n",
       "1247      Nordeste     SE 2020-06-01         2298696.0            7233   \n",
       "1695       Sudeste     SP 2020-06-01        45919049.0          111296   \n",
       "620          Norte     TO 2020-06-01         1572866.0            4345   \n",
       "\n",
       "      obitosAcumulado  contamRate  lethality_pct  deathRate  \n",
       "245               161    0.717286       2.545052   0.018255  \n",
       "1168              461    0.324718       4.253945   0.013813  \n",
       "324              2071    1.007915       4.957629   0.049969  \n",
       "545               228    1.169403       2.305359   0.026959  \n",
       "1335              701    0.127062       3.709387   0.004713  \n",
       "844              3188    0.553040       6.312371   0.034910  \n",
       "2262              171    0.348559       1.627022   0.005671  \n",
       "1509              614    0.350093       4.364205   0.015279  \n",
       "2175              127    0.055654       3.251408   0.001810  \n",
       "693               976    0.498885       2.765108   0.013795  \n",
       "1421              278    0.050404       2.605436   0.001313  \n",
       "2020               20    0.056423       1.275510   0.000720  \n",
       "2094               66    0.072924       2.597403   0.001894  \n",
       "471              2925    0.442248       7.688062   0.034000  \n",
       "1000              370    0.340830       2.701716   0.009208  \n",
       "1082             2875    0.365175       8.237822   0.030082  \n",
       "767               168    0.156390       3.281891   0.005133  \n",
       "1777              190    0.042286       3.929679   0.001662  \n",
       "1598             5462    0.315842      10.016505   0.031636  \n",
       "925               323    0.227098       4.055751   0.009211  \n",
       "170               159    0.291015       3.074246   0.008947  \n",
       "396               116    0.609481       3.141928   0.019149  \n",
       "1942              232    0.082023       2.486069   0.002039  \n",
       "1858              146    0.132565       1.537166   0.002038  \n",
       "1247              166    0.314657       2.295037   0.007221  \n",
       "1695             7667    0.242374       6.888837   0.016697  \n",
       "620                76    0.276247       1.749137   0.004832  "
      ]
     },
     "execution_count": 203,
     "metadata": {},
     "output_type": "execute_result"
    }
   ],
   "source": [
    "normalCovid.sort_values(by=['estado'])"
   ]
  },
  {
   "cell_type": "markdown",
   "metadata": {},
   "source": [
    "#### Dataframe queries:"
   ]
  },
  {
   "cell_type": "code",
   "execution_count": 204,
   "metadata": {},
   "outputs": [
    {
     "data": {
      "text/html": [
       "<div>\n",
       "<style scoped>\n",
       "    .dataframe tbody tr th:only-of-type {\n",
       "        vertical-align: middle;\n",
       "    }\n",
       "\n",
       "    .dataframe tbody tr th {\n",
       "        vertical-align: top;\n",
       "    }\n",
       "\n",
       "    .dataframe thead th {\n",
       "        text-align: right;\n",
       "    }\n",
       "</style>\n",
       "<table border=\"1\" class=\"dataframe\">\n",
       "  <thead>\n",
       "    <tr style=\"text-align: right;\">\n",
       "      <th></th>\n",
       "      <th>regiao</th>\n",
       "      <th>estado</th>\n",
       "      <th>data</th>\n",
       "      <th>populacaoTCU2019</th>\n",
       "      <th>casosAcumulado</th>\n",
       "      <th>obitosAcumulado</th>\n",
       "      <th>contamRate</th>\n",
       "      <th>lethality_pct</th>\n",
       "      <th>deathRate</th>\n",
       "    </tr>\n",
       "  </thead>\n",
       "  <tbody>\n",
       "    <tr>\n",
       "      <th>245</th>\n",
       "      <td>Norte</td>\n",
       "      <td>AC</td>\n",
       "      <td>2020-06-01</td>\n",
       "      <td>881935.0</td>\n",
       "      <td>6326</td>\n",
       "      <td>161</td>\n",
       "      <td>0.717286</td>\n",
       "      <td>2.545052</td>\n",
       "      <td>0.018255</td>\n",
       "    </tr>\n",
       "  </tbody>\n",
       "</table>\n",
       "</div>"
      ],
      "text/plain": [
       "    regiao estado       data  populacaoTCU2019  casosAcumulado  \\\n",
       "245  Norte     AC 2020-06-01          881935.0            6326   \n",
       "\n",
       "     obitosAcumulado  contamRate  lethality_pct  deathRate  \n",
       "245              161    0.717286       2.545052   0.018255  "
      ]
     },
     "execution_count": 204,
     "metadata": {},
     "output_type": "execute_result"
    }
   ],
   "source": [
    "normalCovid.query(\"estado=='AC'\")"
   ]
  },
  {
   "cell_type": "code",
   "execution_count": 205,
   "metadata": {},
   "outputs": [
    {
     "data": {
      "text/html": [
       "<div>\n",
       "<style scoped>\n",
       "    .dataframe tbody tr th:only-of-type {\n",
       "        vertical-align: middle;\n",
       "    }\n",
       "\n",
       "    .dataframe tbody tr th {\n",
       "        vertical-align: top;\n",
       "    }\n",
       "\n",
       "    .dataframe thead th {\n",
       "        text-align: right;\n",
       "    }\n",
       "</style>\n",
       "<table border=\"1\" class=\"dataframe\">\n",
       "  <thead>\n",
       "    <tr style=\"text-align: right;\">\n",
       "      <th></th>\n",
       "      <th>regiao</th>\n",
       "      <th>estado</th>\n",
       "      <th>data</th>\n",
       "      <th>populacaoTCU2019</th>\n",
       "      <th>casosAcumulado</th>\n",
       "      <th>obitosAcumulado</th>\n",
       "      <th>contamRate</th>\n",
       "      <th>lethality_pct</th>\n",
       "      <th>deathRate</th>\n",
       "    </tr>\n",
       "  </thead>\n",
       "  <tbody>\n",
       "    <tr>\n",
       "      <th>324</th>\n",
       "      <td>Norte</td>\n",
       "      <td>AM</td>\n",
       "      <td>2020-06-01</td>\n",
       "      <td>4144597.0</td>\n",
       "      <td>41774</td>\n",
       "      <td>2071</td>\n",
       "      <td>1.007915</td>\n",
       "      <td>4.957629</td>\n",
       "      <td>0.049969</td>\n",
       "    </tr>\n",
       "    <tr>\n",
       "      <th>471</th>\n",
       "      <td>Norte</td>\n",
       "      <td>PA</td>\n",
       "      <td>2020-06-01</td>\n",
       "      <td>8602865.0</td>\n",
       "      <td>38046</td>\n",
       "      <td>2925</td>\n",
       "      <td>0.442248</td>\n",
       "      <td>7.688062</td>\n",
       "      <td>0.034000</td>\n",
       "    </tr>\n",
       "    <tr>\n",
       "      <th>844</th>\n",
       "      <td>Nordeste</td>\n",
       "      <td>CE</td>\n",
       "      <td>2020-06-01</td>\n",
       "      <td>9132078.0</td>\n",
       "      <td>50504</td>\n",
       "      <td>3188</td>\n",
       "      <td>0.553040</td>\n",
       "      <td>6.312371</td>\n",
       "      <td>0.034910</td>\n",
       "    </tr>\n",
       "    <tr>\n",
       "      <th>1082</th>\n",
       "      <td>Nordeste</td>\n",
       "      <td>PE</td>\n",
       "      <td>2020-06-01</td>\n",
       "      <td>9557071.0</td>\n",
       "      <td>34900</td>\n",
       "      <td>2875</td>\n",
       "      <td>0.365175</td>\n",
       "      <td>8.237822</td>\n",
       "      <td>0.030082</td>\n",
       "    </tr>\n",
       "    <tr>\n",
       "      <th>1598</th>\n",
       "      <td>Sudeste</td>\n",
       "      <td>RJ</td>\n",
       "      <td>2020-06-01</td>\n",
       "      <td>17264943.0</td>\n",
       "      <td>54530</td>\n",
       "      <td>5462</td>\n",
       "      <td>0.315842</td>\n",
       "      <td>10.016505</td>\n",
       "      <td>0.031636</td>\n",
       "    </tr>\n",
       "    <tr>\n",
       "      <th>1695</th>\n",
       "      <td>Sudeste</td>\n",
       "      <td>SP</td>\n",
       "      <td>2020-06-01</td>\n",
       "      <td>45919049.0</td>\n",
       "      <td>111296</td>\n",
       "      <td>7667</td>\n",
       "      <td>0.242374</td>\n",
       "      <td>6.888837</td>\n",
       "      <td>0.016697</td>\n",
       "    </tr>\n",
       "  </tbody>\n",
       "</table>\n",
       "</div>"
      ],
      "text/plain": [
       "        regiao estado       data  populacaoTCU2019  casosAcumulado  \\\n",
       "324      Norte     AM 2020-06-01         4144597.0           41774   \n",
       "471      Norte     PA 2020-06-01         8602865.0           38046   \n",
       "844   Nordeste     CE 2020-06-01         9132078.0           50504   \n",
       "1082  Nordeste     PE 2020-06-01         9557071.0           34900   \n",
       "1598   Sudeste     RJ 2020-06-01        17264943.0           54530   \n",
       "1695   Sudeste     SP 2020-06-01        45919049.0          111296   \n",
       "\n",
       "      obitosAcumulado  contamRate  lethality_pct  deathRate  \n",
       "324              2071    1.007915       4.957629   0.049969  \n",
       "471              2925    0.442248       7.688062   0.034000  \n",
       "844              3188    0.553040       6.312371   0.034910  \n",
       "1082             2875    0.365175       8.237822   0.030082  \n",
       "1598             5462    0.315842      10.016505   0.031636  \n",
       "1695             7667    0.242374       6.888837   0.016697  "
      ]
     },
     "execution_count": 205,
     "metadata": {},
     "output_type": "execute_result"
    }
   ],
   "source": [
    "normalCovid.query(\"obitosAcumulado > 1000\")"
   ]
  },
  {
   "cell_type": "code",
   "execution_count": 206,
   "metadata": {},
   "outputs": [
    {
     "data": {
      "text/html": [
       "<div>\n",
       "<style scoped>\n",
       "    .dataframe tbody tr th:only-of-type {\n",
       "        vertical-align: middle;\n",
       "    }\n",
       "\n",
       "    .dataframe tbody tr th {\n",
       "        vertical-align: top;\n",
       "    }\n",
       "\n",
       "    .dataframe thead th {\n",
       "        text-align: right;\n",
       "    }\n",
       "</style>\n",
       "<table border=\"1\" class=\"dataframe\">\n",
       "  <thead>\n",
       "    <tr style=\"text-align: right;\">\n",
       "      <th></th>\n",
       "      <th>regiao</th>\n",
       "      <th>estado</th>\n",
       "      <th>data</th>\n",
       "      <th>populacaoTCU2019</th>\n",
       "      <th>casosAcumulado</th>\n",
       "      <th>obitosAcumulado</th>\n",
       "      <th>contamRate</th>\n",
       "      <th>lethality_pct</th>\n",
       "      <th>deathRate</th>\n",
       "    </tr>\n",
       "  </thead>\n",
       "  <tbody>\n",
       "    <tr>\n",
       "      <th>324</th>\n",
       "      <td>Norte</td>\n",
       "      <td>AM</td>\n",
       "      <td>2020-06-01</td>\n",
       "      <td>4144597.0</td>\n",
       "      <td>41774</td>\n",
       "      <td>2071</td>\n",
       "      <td>1.007915</td>\n",
       "      <td>4.957629</td>\n",
       "      <td>0.049969</td>\n",
       "    </tr>\n",
       "    <tr>\n",
       "      <th>471</th>\n",
       "      <td>Norte</td>\n",
       "      <td>PA</td>\n",
       "      <td>2020-06-01</td>\n",
       "      <td>8602865.0</td>\n",
       "      <td>38046</td>\n",
       "      <td>2925</td>\n",
       "      <td>0.442248</td>\n",
       "      <td>7.688062</td>\n",
       "      <td>0.034000</td>\n",
       "    </tr>\n",
       "    <tr>\n",
       "      <th>844</th>\n",
       "      <td>Nordeste</td>\n",
       "      <td>CE</td>\n",
       "      <td>2020-06-01</td>\n",
       "      <td>9132078.0</td>\n",
       "      <td>50504</td>\n",
       "      <td>3188</td>\n",
       "      <td>0.553040</td>\n",
       "      <td>6.312371</td>\n",
       "      <td>0.034910</td>\n",
       "    </tr>\n",
       "    <tr>\n",
       "      <th>1082</th>\n",
       "      <td>Nordeste</td>\n",
       "      <td>PE</td>\n",
       "      <td>2020-06-01</td>\n",
       "      <td>9557071.0</td>\n",
       "      <td>34900</td>\n",
       "      <td>2875</td>\n",
       "      <td>0.365175</td>\n",
       "      <td>8.237822</td>\n",
       "      <td>0.030082</td>\n",
       "    </tr>\n",
       "    <tr>\n",
       "      <th>1598</th>\n",
       "      <td>Sudeste</td>\n",
       "      <td>RJ</td>\n",
       "      <td>2020-06-01</td>\n",
       "      <td>17264943.0</td>\n",
       "      <td>54530</td>\n",
       "      <td>5462</td>\n",
       "      <td>0.315842</td>\n",
       "      <td>10.016505</td>\n",
       "      <td>0.031636</td>\n",
       "    </tr>\n",
       "    <tr>\n",
       "      <th>1695</th>\n",
       "      <td>Sudeste</td>\n",
       "      <td>SP</td>\n",
       "      <td>2020-06-01</td>\n",
       "      <td>45919049.0</td>\n",
       "      <td>111296</td>\n",
       "      <td>7667</td>\n",
       "      <td>0.242374</td>\n",
       "      <td>6.888837</td>\n",
       "      <td>0.016697</td>\n",
       "    </tr>\n",
       "  </tbody>\n",
       "</table>\n",
       "</div>"
      ],
      "text/plain": [
       "        regiao estado       data  populacaoTCU2019  casosAcumulado  \\\n",
       "324      Norte     AM 2020-06-01         4144597.0           41774   \n",
       "471      Norte     PA 2020-06-01         8602865.0           38046   \n",
       "844   Nordeste     CE 2020-06-01         9132078.0           50504   \n",
       "1082  Nordeste     PE 2020-06-01         9557071.0           34900   \n",
       "1598   Sudeste     RJ 2020-06-01        17264943.0           54530   \n",
       "1695   Sudeste     SP 2020-06-01        45919049.0          111296   \n",
       "\n",
       "      obitosAcumulado  contamRate  lethality_pct  deathRate  \n",
       "324              2071    1.007915       4.957629   0.049969  \n",
       "471              2925    0.442248       7.688062   0.034000  \n",
       "844              3188    0.553040       6.312371   0.034910  \n",
       "1082             2875    0.365175       8.237822   0.030082  \n",
       "1598             5462    0.315842      10.016505   0.031636  \n",
       "1695             7667    0.242374       6.888837   0.016697  "
      ]
     },
     "execution_count": 206,
     "metadata": {},
     "output_type": "execute_result"
    }
   ],
   "source": [
    "normalCovid.query(\"obitosAcumulado > 1000\")"
   ]
  },
  {
   "cell_type": "markdown",
   "metadata": {},
   "source": [
    "-----------------"
   ]
  },
  {
   "cell_type": "markdown",
   "metadata": {},
   "source": [
    "### Four-Quadrant chart via Plotly:"
   ]
  },
  {
   "cell_type": "code",
   "execution_count": 207,
   "metadata": {},
   "outputs": [],
   "source": [
    "import plotly.express as px\n",
    "import plotly.graph_objects as go\n",
    "## List of colormaps available in: https://plotly.com/python/builtin-colorscales/"
   ]
  },
  {
   "cell_type": "code",
   "execution_count": 208,
   "metadata": {
    "scrolled": false
   },
   "outputs": [
    {
     "data": {
      "application/vnd.plotly.v1+json": {
       "config": {
        "plotlyServerURL": "https://plot.ly"
       },
       "data": [
        {
         "hovertemplate": "lethality_pct=%{x}<br>contamRate=%{y}<br>deathRate=%{marker.size}<br>estado=%{text}<br>obitosAcumulado=%{marker.color}<extra></extra>",
         "legendgroup": "",
         "marker": {
          "color": [
           159,
           161,
           2071,
           116,
           2925,
           228,
           76,
           976,
           168,
           3188,
           323,
           370,
           2875,
           461,
           166,
           701,
           278,
           614,
           5462,
           7667,
           190,
           146,
           232,
           20,
           66,
           127,
           171
          ],
          "coloraxis": "coloraxis",
          "size": [
           0.008946531812235366,
           0.01825531360020863,
           0.049968670054048675,
           0.019149466538783445,
           0.03400030106249488,
           0.02695892665634818,
           0.004831943725657494,
           0.013794700093184894,
           0.005132549621520292,
           0.034909907690232174,
           0.00921053719674021,
           0.0092082704205218,
           0.030082438437466875,
           0.013813325934264748,
           0.007221485572689907,
           0.004713218473342144,
           0.0013132540257022709,
           0.015278762768591444,
           0.03163636277281657,
           0.01669677436046204,
           0.0016617169366650584,
           0.002037743475452449,
           0.0020391590613504738,
           0.000719686964957722,
           0.001894120935603906,
           0.001809541097527996,
           0.005671137689916783
          ],
          "sizemode": "area",
          "sizeref": 3.1230418783780424e-05,
          "symbol": "circle"
         },
         "mode": "markers+text",
         "name": "",
         "orientation": "v",
         "showlegend": false,
         "text": [
          "RO",
          "AC",
          "AM",
          "RR",
          "PA",
          "AP",
          "TO",
          "MA",
          "PI",
          "CE",
          "RN",
          "PB",
          "PE",
          "AL",
          "SE",
          "BA",
          "MG",
          "ES",
          "RJ",
          "SP",
          "PR",
          "SC",
          "RS",
          "MS",
          "MT",
          "GO",
          "DF"
         ],
         "textfont": {
          "family": "sans serif",
          "size": 13
         },
         "textposition": "middle center",
         "type": "scatter",
         "x": [
          3.074245939675174,
          2.5450521656655076,
          4.957629147316513,
          3.14192849404117,
          7.688061819902224,
          2.3053589484327603,
          1.7491369390103566,
          2.765107516219509,
          3.281890994334831,
          6.312371297322985,
          4.055750878955299,
          2.701715954728003,
          8.237822349570202,
          4.2539448186767554,
          2.2950366376330704,
          3.709387236744629,
          2.60543580131209,
          4.364204989693652,
          10.016504676324958,
          6.888836975273145,
          3.9296794208893484,
          1.5371657190987578,
          2.4860694384912128,
          1.2755102040816326,
          2.5974025974025974,
          3.2514080901177675,
          1.627021883920076
         ],
         "xaxis": "x",
         "y": [
          0.2910154876281844,
          0.7172864213349056,
          1.007914641640671,
          0.6094812970792112,
          0.4422480185380103,
          1.169402564172296,
          0.27624730905239225,
          0.49888476351347055,
          0.15639000900334746,
          0.5530395163072414,
          0.22709819886947072,
          0.3408304416460704,
          0.36517464398872834,
          0.32471803286253165,
          0.31465665751365124,
          0.12706191541971446,
          0.05040439012317709,
          0.350092692819728,
          0.3158423401687454,
          0.2423743575351484,
          0.042286323098818725,
          0.13256498308114628,
          0.08202341534708026,
          0.05642345805268541,
          0.07292365602075038,
          0.05565407501530986,
          0.3485593983685696
         ],
         "yaxis": "y"
        }
       ],
       "layout": {
        "annotations": [
         {
          "align": "center",
          "bgcolor": "#E9967A",
          "bordercolor": "#708090",
          "borderwidth": 2,
          "font": {
           "color": "DarkRed"
          },
          "height": 20,
          "showarrow": false,
          "text": "<b>Zona crítica</b>",
          "width": 110,
          "x": 0.98,
          "xref": "paper",
          "y": 0.99,
          "yref": "paper"
         },
         {
          "align": "center",
          "bgcolor": "#DCDCDC",
          "bordercolor": "#708090",
          "borderwidth": 2,
          "font": {
           "color": "black"
          },
          "height": 20,
          "showarrow": false,
          "text": "Alta letalidade",
          "width": 110,
          "x": 0.98,
          "xref": "paper",
          "y": 0.01,
          "yref": "paper"
         },
         {
          "align": "center",
          "bgcolor": "#DCDCDC",
          "bordercolor": "#708090",
          "borderwidth": 2,
          "font": {
           "color": "DarkRed"
          },
          "height": 20,
          "showarrow": false,
          "text": "Alta contaminação",
          "width": 110,
          "x": 0,
          "xref": "paper",
          "y": 0.99,
          "yref": "paper"
         },
         {
          "align": "center",
          "bgcolor": "#DCDCDC",
          "bordercolor": "#708090",
          "borderwidth": 2,
          "font": {
           "color": "black"
          },
          "height": 20,
          "showarrow": false,
          "text": "Zona controlada",
          "width": 110,
          "x": 0,
          "xref": "paper",
          "y": 0.01,
          "yref": "paper"
         }
        ],
        "coloraxis": {
         "colorbar": {
          "title": {
           "text": "<b>Óbitos <br>acumulados</b>"
          }
         },
         "colorscale": [
          [
           0,
           "rgb(252, 222, 156)"
          ],
          [
           0.16666666666666666,
           "rgb(250, 164, 118)"
          ],
          [
           0.3333333333333333,
           "rgb(240, 116, 110)"
          ],
          [
           0.5,
           "rgb(227, 79, 111)"
          ],
          [
           0.6666666666666666,
           "rgb(220, 57, 119)"
          ],
          [
           0.8333333333333334,
           "rgb(185, 37, 122)"
          ],
          [
           1,
           "rgb(124, 29, 111)"
          ]
         ]
        },
        "height": 520,
        "hovermode": false,
        "legend": {
         "itemsizing": "constant",
         "tracegroupgap": 0
        },
        "margin": {
         "t": 60
        },
        "plot_bgcolor": "rgb(245,245,245)",
        "shapes": [
         {
          "line": {
           "color": "gray",
           "dash": "dashdot",
           "width": 1
          },
          "type": "line",
          "x0": 6,
          "x1": 6,
          "xref": "x",
          "y0": 0,
          "y1": 0.8,
          "yref": "y"
         },
         {
          "line": {
           "color": "gray",
           "dash": "dashdot",
           "width": 1
          },
          "type": "line",
          "x0": 0,
          "x1": 12,
          "xref": "x",
          "y0": 0.4,
          "y1": 0.4,
          "yref": "y"
         }
        ],
        "template": {
         "data": {
          "bar": [
           {
            "error_x": {
             "color": "#2a3f5f"
            },
            "error_y": {
             "color": "#2a3f5f"
            },
            "marker": {
             "line": {
              "color": "#E5ECF6",
              "width": 0.5
             }
            },
            "type": "bar"
           }
          ],
          "barpolar": [
           {
            "marker": {
             "line": {
              "color": "#E5ECF6",
              "width": 0.5
             }
            },
            "type": "barpolar"
           }
          ],
          "carpet": [
           {
            "aaxis": {
             "endlinecolor": "#2a3f5f",
             "gridcolor": "white",
             "linecolor": "white",
             "minorgridcolor": "white",
             "startlinecolor": "#2a3f5f"
            },
            "baxis": {
             "endlinecolor": "#2a3f5f",
             "gridcolor": "white",
             "linecolor": "white",
             "minorgridcolor": "white",
             "startlinecolor": "#2a3f5f"
            },
            "type": "carpet"
           }
          ],
          "choropleth": [
           {
            "colorbar": {
             "outlinewidth": 0,
             "ticks": ""
            },
            "type": "choropleth"
           }
          ],
          "contour": [
           {
            "colorbar": {
             "outlinewidth": 0,
             "ticks": ""
            },
            "colorscale": [
             [
              0,
              "#0d0887"
             ],
             [
              0.1111111111111111,
              "#46039f"
             ],
             [
              0.2222222222222222,
              "#7201a8"
             ],
             [
              0.3333333333333333,
              "#9c179e"
             ],
             [
              0.4444444444444444,
              "#bd3786"
             ],
             [
              0.5555555555555556,
              "#d8576b"
             ],
             [
              0.6666666666666666,
              "#ed7953"
             ],
             [
              0.7777777777777778,
              "#fb9f3a"
             ],
             [
              0.8888888888888888,
              "#fdca26"
             ],
             [
              1,
              "#f0f921"
             ]
            ],
            "type": "contour"
           }
          ],
          "contourcarpet": [
           {
            "colorbar": {
             "outlinewidth": 0,
             "ticks": ""
            },
            "type": "contourcarpet"
           }
          ],
          "heatmap": [
           {
            "colorbar": {
             "outlinewidth": 0,
             "ticks": ""
            },
            "colorscale": [
             [
              0,
              "#0d0887"
             ],
             [
              0.1111111111111111,
              "#46039f"
             ],
             [
              0.2222222222222222,
              "#7201a8"
             ],
             [
              0.3333333333333333,
              "#9c179e"
             ],
             [
              0.4444444444444444,
              "#bd3786"
             ],
             [
              0.5555555555555556,
              "#d8576b"
             ],
             [
              0.6666666666666666,
              "#ed7953"
             ],
             [
              0.7777777777777778,
              "#fb9f3a"
             ],
             [
              0.8888888888888888,
              "#fdca26"
             ],
             [
              1,
              "#f0f921"
             ]
            ],
            "type": "heatmap"
           }
          ],
          "heatmapgl": [
           {
            "colorbar": {
             "outlinewidth": 0,
             "ticks": ""
            },
            "colorscale": [
             [
              0,
              "#0d0887"
             ],
             [
              0.1111111111111111,
              "#46039f"
             ],
             [
              0.2222222222222222,
              "#7201a8"
             ],
             [
              0.3333333333333333,
              "#9c179e"
             ],
             [
              0.4444444444444444,
              "#bd3786"
             ],
             [
              0.5555555555555556,
              "#d8576b"
             ],
             [
              0.6666666666666666,
              "#ed7953"
             ],
             [
              0.7777777777777778,
              "#fb9f3a"
             ],
             [
              0.8888888888888888,
              "#fdca26"
             ],
             [
              1,
              "#f0f921"
             ]
            ],
            "type": "heatmapgl"
           }
          ],
          "histogram": [
           {
            "marker": {
             "colorbar": {
              "outlinewidth": 0,
              "ticks": ""
             }
            },
            "type": "histogram"
           }
          ],
          "histogram2d": [
           {
            "colorbar": {
             "outlinewidth": 0,
             "ticks": ""
            },
            "colorscale": [
             [
              0,
              "#0d0887"
             ],
             [
              0.1111111111111111,
              "#46039f"
             ],
             [
              0.2222222222222222,
              "#7201a8"
             ],
             [
              0.3333333333333333,
              "#9c179e"
             ],
             [
              0.4444444444444444,
              "#bd3786"
             ],
             [
              0.5555555555555556,
              "#d8576b"
             ],
             [
              0.6666666666666666,
              "#ed7953"
             ],
             [
              0.7777777777777778,
              "#fb9f3a"
             ],
             [
              0.8888888888888888,
              "#fdca26"
             ],
             [
              1,
              "#f0f921"
             ]
            ],
            "type": "histogram2d"
           }
          ],
          "histogram2dcontour": [
           {
            "colorbar": {
             "outlinewidth": 0,
             "ticks": ""
            },
            "colorscale": [
             [
              0,
              "#0d0887"
             ],
             [
              0.1111111111111111,
              "#46039f"
             ],
             [
              0.2222222222222222,
              "#7201a8"
             ],
             [
              0.3333333333333333,
              "#9c179e"
             ],
             [
              0.4444444444444444,
              "#bd3786"
             ],
             [
              0.5555555555555556,
              "#d8576b"
             ],
             [
              0.6666666666666666,
              "#ed7953"
             ],
             [
              0.7777777777777778,
              "#fb9f3a"
             ],
             [
              0.8888888888888888,
              "#fdca26"
             ],
             [
              1,
              "#f0f921"
             ]
            ],
            "type": "histogram2dcontour"
           }
          ],
          "mesh3d": [
           {
            "colorbar": {
             "outlinewidth": 0,
             "ticks": ""
            },
            "type": "mesh3d"
           }
          ],
          "parcoords": [
           {
            "line": {
             "colorbar": {
              "outlinewidth": 0,
              "ticks": ""
             }
            },
            "type": "parcoords"
           }
          ],
          "pie": [
           {
            "automargin": true,
            "type": "pie"
           }
          ],
          "scatter": [
           {
            "marker": {
             "colorbar": {
              "outlinewidth": 0,
              "ticks": ""
             }
            },
            "type": "scatter"
           }
          ],
          "scatter3d": [
           {
            "line": {
             "colorbar": {
              "outlinewidth": 0,
              "ticks": ""
             }
            },
            "marker": {
             "colorbar": {
              "outlinewidth": 0,
              "ticks": ""
             }
            },
            "type": "scatter3d"
           }
          ],
          "scattercarpet": [
           {
            "marker": {
             "colorbar": {
              "outlinewidth": 0,
              "ticks": ""
             }
            },
            "type": "scattercarpet"
           }
          ],
          "scattergeo": [
           {
            "marker": {
             "colorbar": {
              "outlinewidth": 0,
              "ticks": ""
             }
            },
            "type": "scattergeo"
           }
          ],
          "scattergl": [
           {
            "marker": {
             "colorbar": {
              "outlinewidth": 0,
              "ticks": ""
             }
            },
            "type": "scattergl"
           }
          ],
          "scattermapbox": [
           {
            "marker": {
             "colorbar": {
              "outlinewidth": 0,
              "ticks": ""
             }
            },
            "type": "scattermapbox"
           }
          ],
          "scatterpolar": [
           {
            "marker": {
             "colorbar": {
              "outlinewidth": 0,
              "ticks": ""
             }
            },
            "type": "scatterpolar"
           }
          ],
          "scatterpolargl": [
           {
            "marker": {
             "colorbar": {
              "outlinewidth": 0,
              "ticks": ""
             }
            },
            "type": "scatterpolargl"
           }
          ],
          "scatterternary": [
           {
            "marker": {
             "colorbar": {
              "outlinewidth": 0,
              "ticks": ""
             }
            },
            "type": "scatterternary"
           }
          ],
          "surface": [
           {
            "colorbar": {
             "outlinewidth": 0,
             "ticks": ""
            },
            "colorscale": [
             [
              0,
              "#0d0887"
             ],
             [
              0.1111111111111111,
              "#46039f"
             ],
             [
              0.2222222222222222,
              "#7201a8"
             ],
             [
              0.3333333333333333,
              "#9c179e"
             ],
             [
              0.4444444444444444,
              "#bd3786"
             ],
             [
              0.5555555555555556,
              "#d8576b"
             ],
             [
              0.6666666666666666,
              "#ed7953"
             ],
             [
              0.7777777777777778,
              "#fb9f3a"
             ],
             [
              0.8888888888888888,
              "#fdca26"
             ],
             [
              1,
              "#f0f921"
             ]
            ],
            "type": "surface"
           }
          ],
          "table": [
           {
            "cells": {
             "fill": {
              "color": "#EBF0F8"
             },
             "line": {
              "color": "white"
             }
            },
            "header": {
             "fill": {
              "color": "#C8D4E3"
             },
             "line": {
              "color": "white"
             }
            },
            "type": "table"
           }
          ]
         },
         "layout": {
          "annotationdefaults": {
           "arrowcolor": "#2a3f5f",
           "arrowhead": 0,
           "arrowwidth": 1
          },
          "coloraxis": {
           "colorbar": {
            "outlinewidth": 0,
            "ticks": ""
           }
          },
          "colorscale": {
           "diverging": [
            [
             0,
             "#8e0152"
            ],
            [
             0.1,
             "#c51b7d"
            ],
            [
             0.2,
             "#de77ae"
            ],
            [
             0.3,
             "#f1b6da"
            ],
            [
             0.4,
             "#fde0ef"
            ],
            [
             0.5,
             "#f7f7f7"
            ],
            [
             0.6,
             "#e6f5d0"
            ],
            [
             0.7,
             "#b8e186"
            ],
            [
             0.8,
             "#7fbc41"
            ],
            [
             0.9,
             "#4d9221"
            ],
            [
             1,
             "#276419"
            ]
           ],
           "sequential": [
            [
             0,
             "#0d0887"
            ],
            [
             0.1111111111111111,
             "#46039f"
            ],
            [
             0.2222222222222222,
             "#7201a8"
            ],
            [
             0.3333333333333333,
             "#9c179e"
            ],
            [
             0.4444444444444444,
             "#bd3786"
            ],
            [
             0.5555555555555556,
             "#d8576b"
            ],
            [
             0.6666666666666666,
             "#ed7953"
            ],
            [
             0.7777777777777778,
             "#fb9f3a"
            ],
            [
             0.8888888888888888,
             "#fdca26"
            ],
            [
             1,
             "#f0f921"
            ]
           ],
           "sequentialminus": [
            [
             0,
             "#0d0887"
            ],
            [
             0.1111111111111111,
             "#46039f"
            ],
            [
             0.2222222222222222,
             "#7201a8"
            ],
            [
             0.3333333333333333,
             "#9c179e"
            ],
            [
             0.4444444444444444,
             "#bd3786"
            ],
            [
             0.5555555555555556,
             "#d8576b"
            ],
            [
             0.6666666666666666,
             "#ed7953"
            ],
            [
             0.7777777777777778,
             "#fb9f3a"
            ],
            [
             0.8888888888888888,
             "#fdca26"
            ],
            [
             1,
             "#f0f921"
            ]
           ]
          },
          "colorway": [
           "#636efa",
           "#EF553B",
           "#00cc96",
           "#ab63fa",
           "#FFA15A",
           "#19d3f3",
           "#FF6692",
           "#B6E880",
           "#FF97FF",
           "#FECB52"
          ],
          "font": {
           "color": "#2a3f5f"
          },
          "geo": {
           "bgcolor": "white",
           "lakecolor": "white",
           "landcolor": "#E5ECF6",
           "showlakes": true,
           "showland": true,
           "subunitcolor": "white"
          },
          "hoverlabel": {
           "align": "left"
          },
          "hovermode": "closest",
          "mapbox": {
           "style": "light"
          },
          "paper_bgcolor": "white",
          "plot_bgcolor": "#E5ECF6",
          "polar": {
           "angularaxis": {
            "gridcolor": "white",
            "linecolor": "white",
            "ticks": ""
           },
           "bgcolor": "#E5ECF6",
           "radialaxis": {
            "gridcolor": "white",
            "linecolor": "white",
            "ticks": ""
           }
          },
          "scene": {
           "xaxis": {
            "backgroundcolor": "#E5ECF6",
            "gridcolor": "white",
            "gridwidth": 2,
            "linecolor": "white",
            "showbackground": true,
            "ticks": "",
            "zerolinecolor": "white"
           },
           "yaxis": {
            "backgroundcolor": "#E5ECF6",
            "gridcolor": "white",
            "gridwidth": 2,
            "linecolor": "white",
            "showbackground": true,
            "ticks": "",
            "zerolinecolor": "white"
           },
           "zaxis": {
            "backgroundcolor": "#E5ECF6",
            "gridcolor": "white",
            "gridwidth": 2,
            "linecolor": "white",
            "showbackground": true,
            "ticks": "",
            "zerolinecolor": "white"
           }
          },
          "shapedefaults": {
           "line": {
            "color": "#2a3f5f"
           }
          },
          "ternary": {
           "aaxis": {
            "gridcolor": "white",
            "linecolor": "white",
            "ticks": ""
           },
           "baxis": {
            "gridcolor": "white",
            "linecolor": "white",
            "ticks": ""
           },
           "bgcolor": "#E5ECF6",
           "caxis": {
            "gridcolor": "white",
            "linecolor": "white",
            "ticks": ""
           }
          },
          "title": {
           "x": 0.05
          },
          "xaxis": {
           "automargin": true,
           "gridcolor": "white",
           "linecolor": "white",
           "ticks": "",
           "title": {
            "standoff": 15
           },
           "zerolinecolor": "white",
           "zerolinewidth": 2
          },
          "yaxis": {
           "automargin": true,
           "gridcolor": "white",
           "linecolor": "white",
           "ticks": "",
           "title": {
            "standoff": 15
           },
           "zerolinecolor": "white",
           "zerolinewidth": 2
          }
         }
        },
        "title": {
         "text": "Relação entre número de casos e letalidade da COVID-19 no Brasil, por estado - 2020-06-01"
        },
        "width": 980,
        "xaxis": {
         "anchor": "y",
         "autorange": false,
         "domain": [
          0,
          1
         ],
         "range": [
          0,
          12
         ],
         "title": {
          "text": "<b>Letalidade (% óbitos/casos)</b>"
         },
         "type": "linear"
        },
        "yaxis": {
         "anchor": "x",
         "autorange": false,
         "domain": [
          0,
          1
         ],
         "range": [
          0,
          0.8
         ],
         "title": {
          "text": "<b>Contaminação (% casos/população)</b>"
         },
         "type": "linear"
        }
       }
      },
      "text/html": [
       "<div>\n",
       "        \n",
       "        \n",
       "            <div id=\"694ef750-dbf6-42e9-90a4-38a92b65da5e\" class=\"plotly-graph-div\" style=\"height:520px; width:980px;\"></div>\n",
       "            <script type=\"text/javascript\">\n",
       "                require([\"plotly\"], function(Plotly) {\n",
       "                    window.PLOTLYENV=window.PLOTLYENV || {};\n",
       "                    \n",
       "                if (document.getElementById(\"694ef750-dbf6-42e9-90a4-38a92b65da5e\")) {\n",
       "                    Plotly.newPlot(\n",
       "                        '694ef750-dbf6-42e9-90a4-38a92b65da5e',\n",
       "                        [{\"hovertemplate\": \"lethality_pct=%{x}<br>contamRate=%{y}<br>deathRate=%{marker.size}<br>estado=%{text}<br>obitosAcumulado=%{marker.color}<extra></extra>\", \"legendgroup\": \"\", \"marker\": {\"color\": [159, 161, 2071, 116, 2925, 228, 76, 976, 168, 3188, 323, 370, 2875, 461, 166, 701, 278, 614, 5462, 7667, 190, 146, 232, 20, 66, 127, 171], \"coloraxis\": \"coloraxis\", \"size\": [0.008946531812235366, 0.01825531360020863, 0.049968670054048675, 0.019149466538783445, 0.03400030106249488, 0.02695892665634818, 0.004831943725657494, 0.013794700093184894, 0.005132549621520292, 0.034909907690232174, 0.00921053719674021, 0.0092082704205218, 0.030082438437466875, 0.013813325934264748, 0.007221485572689907, 0.004713218473342144, 0.0013132540257022709, 0.015278762768591444, 0.03163636277281657, 0.01669677436046204, 0.0016617169366650584, 0.002037743475452449, 0.0020391590613504738, 0.000719686964957722, 0.001894120935603906, 0.001809541097527996, 0.005671137689916783], \"sizemode\": \"area\", \"sizeref\": 3.1230418783780424e-05, \"symbol\": \"circle\"}, \"mode\": \"markers+text\", \"name\": \"\", \"orientation\": \"v\", \"showlegend\": false, \"text\": [\"RO\", \"AC\", \"AM\", \"RR\", \"PA\", \"AP\", \"TO\", \"MA\", \"PI\", \"CE\", \"RN\", \"PB\", \"PE\", \"AL\", \"SE\", \"BA\", \"MG\", \"ES\", \"RJ\", \"SP\", \"PR\", \"SC\", \"RS\", \"MS\", \"MT\", \"GO\", \"DF\"], \"textfont\": {\"family\": \"sans serif\", \"size\": 13}, \"textposition\": \"middle center\", \"type\": \"scatter\", \"x\": [3.074245939675174, 2.5450521656655076, 4.957629147316513, 3.14192849404117, 7.688061819902224, 2.3053589484327603, 1.7491369390103566, 2.765107516219509, 3.281890994334831, 6.312371297322985, 4.055750878955299, 2.701715954728003, 8.237822349570202, 4.2539448186767554, 2.2950366376330704, 3.709387236744629, 2.60543580131209, 4.364204989693652, 10.016504676324958, 6.888836975273145, 3.9296794208893484, 1.5371657190987578, 2.4860694384912128, 1.2755102040816326, 2.5974025974025974, 3.2514080901177675, 1.627021883920076], \"xaxis\": \"x\", \"y\": [0.2910154876281844, 0.7172864213349056, 1.007914641640671, 0.6094812970792112, 0.4422480185380103, 1.169402564172296, 0.27624730905239225, 0.49888476351347055, 0.15639000900334746, 0.5530395163072414, 0.22709819886947072, 0.3408304416460704, 0.36517464398872834, 0.32471803286253165, 0.31465665751365124, 0.12706191541971446, 0.05040439012317709, 0.350092692819728, 0.3158423401687454, 0.2423743575351484, 0.042286323098818725, 0.13256498308114628, 0.08202341534708026, 0.05642345805268541, 0.07292365602075038, 0.05565407501530986, 0.3485593983685696], \"yaxis\": \"y\"}],\n",
       "                        {\"annotations\": [{\"align\": \"center\", \"bgcolor\": \"#E9967A\", \"bordercolor\": \"#708090\", \"borderwidth\": 2, \"font\": {\"color\": \"DarkRed\"}, \"height\": 20, \"showarrow\": false, \"text\": \"<b>Zona cr\\u00edtica</b>\", \"width\": 110, \"x\": 0.98, \"xref\": \"paper\", \"y\": 0.99, \"yref\": \"paper\"}, {\"align\": \"center\", \"bgcolor\": \"#DCDCDC\", \"bordercolor\": \"#708090\", \"borderwidth\": 2, \"font\": {\"color\": \"black\"}, \"height\": 20, \"showarrow\": false, \"text\": \"Alta letalidade\", \"width\": 110, \"x\": 0.98, \"xref\": \"paper\", \"y\": 0.01, \"yref\": \"paper\"}, {\"align\": \"center\", \"bgcolor\": \"#DCDCDC\", \"bordercolor\": \"#708090\", \"borderwidth\": 2, \"font\": {\"color\": \"DarkRed\"}, \"height\": 20, \"showarrow\": false, \"text\": \"Alta contamina\\u00e7\\u00e3o\", \"width\": 110, \"x\": 0, \"xref\": \"paper\", \"y\": 0.99, \"yref\": \"paper\"}, {\"align\": \"center\", \"bgcolor\": \"#DCDCDC\", \"bordercolor\": \"#708090\", \"borderwidth\": 2, \"font\": {\"color\": \"black\"}, \"height\": 20, \"showarrow\": false, \"text\": \"Zona controlada\", \"width\": 110, \"x\": 0, \"xref\": \"paper\", \"y\": 0.01, \"yref\": \"paper\"}], \"coloraxis\": {\"colorbar\": {\"title\": {\"text\": \"<b>\\u00d3bitos <br>acumulados</b>\"}}, \"colorscale\": [[0.0, \"rgb(252, 222, 156)\"], [0.16666666666666666, \"rgb(250, 164, 118)\"], [0.3333333333333333, \"rgb(240, 116, 110)\"], [0.5, \"rgb(227, 79, 111)\"], [0.6666666666666666, \"rgb(220, 57, 119)\"], [0.8333333333333334, \"rgb(185, 37, 122)\"], [1.0, \"rgb(124, 29, 111)\"]]}, \"height\": 520, \"hovermode\": false, \"legend\": {\"itemsizing\": \"constant\", \"tracegroupgap\": 0}, \"margin\": {\"t\": 60}, \"plot_bgcolor\": \"rgb(245,245,245)\", \"shapes\": [{\"line\": {\"color\": \"gray\", \"dash\": \"dashdot\", \"width\": 1}, \"type\": \"line\", \"x0\": 6, \"x1\": 6, \"xref\": \"x\", \"y0\": 0, \"y1\": 0.8, \"yref\": \"y\"}, {\"line\": {\"color\": \"gray\", \"dash\": \"dashdot\", \"width\": 1}, \"type\": \"line\", \"x0\": 0, \"x1\": 12, \"xref\": \"x\", \"y0\": 0.4, \"y1\": 0.4, \"yref\": \"y\"}], \"template\": {\"data\": {\"bar\": [{\"error_x\": {\"color\": \"#2a3f5f\"}, \"error_y\": {\"color\": \"#2a3f5f\"}, \"marker\": {\"line\": {\"color\": \"#E5ECF6\", \"width\": 0.5}}, \"type\": \"bar\"}], \"barpolar\": [{\"marker\": {\"line\": {\"color\": \"#E5ECF6\", \"width\": 0.5}}, \"type\": \"barpolar\"}], \"carpet\": [{\"aaxis\": {\"endlinecolor\": \"#2a3f5f\", \"gridcolor\": \"white\", \"linecolor\": \"white\", \"minorgridcolor\": \"white\", \"startlinecolor\": \"#2a3f5f\"}, \"baxis\": {\"endlinecolor\": \"#2a3f5f\", \"gridcolor\": \"white\", \"linecolor\": \"white\", \"minorgridcolor\": \"white\", \"startlinecolor\": \"#2a3f5f\"}, \"type\": \"carpet\"}], \"choropleth\": [{\"colorbar\": {\"outlinewidth\": 0, \"ticks\": \"\"}, \"type\": \"choropleth\"}], \"contour\": [{\"colorbar\": {\"outlinewidth\": 0, \"ticks\": \"\"}, \"colorscale\": [[0.0, \"#0d0887\"], [0.1111111111111111, \"#46039f\"], [0.2222222222222222, \"#7201a8\"], [0.3333333333333333, \"#9c179e\"], [0.4444444444444444, \"#bd3786\"], [0.5555555555555556, \"#d8576b\"], [0.6666666666666666, \"#ed7953\"], [0.7777777777777778, \"#fb9f3a\"], [0.8888888888888888, \"#fdca26\"], [1.0, \"#f0f921\"]], \"type\": \"contour\"}], \"contourcarpet\": [{\"colorbar\": {\"outlinewidth\": 0, \"ticks\": \"\"}, \"type\": \"contourcarpet\"}], \"heatmap\": [{\"colorbar\": {\"outlinewidth\": 0, \"ticks\": \"\"}, \"colorscale\": [[0.0, \"#0d0887\"], [0.1111111111111111, \"#46039f\"], [0.2222222222222222, \"#7201a8\"], [0.3333333333333333, \"#9c179e\"], [0.4444444444444444, \"#bd3786\"], [0.5555555555555556, \"#d8576b\"], [0.6666666666666666, \"#ed7953\"], [0.7777777777777778, \"#fb9f3a\"], [0.8888888888888888, \"#fdca26\"], [1.0, \"#f0f921\"]], \"type\": \"heatmap\"}], \"heatmapgl\": [{\"colorbar\": {\"outlinewidth\": 0, \"ticks\": \"\"}, \"colorscale\": [[0.0, \"#0d0887\"], [0.1111111111111111, \"#46039f\"], [0.2222222222222222, \"#7201a8\"], [0.3333333333333333, \"#9c179e\"], [0.4444444444444444, \"#bd3786\"], [0.5555555555555556, \"#d8576b\"], [0.6666666666666666, \"#ed7953\"], [0.7777777777777778, \"#fb9f3a\"], [0.8888888888888888, \"#fdca26\"], [1.0, \"#f0f921\"]], \"type\": \"heatmapgl\"}], \"histogram\": [{\"marker\": {\"colorbar\": {\"outlinewidth\": 0, \"ticks\": \"\"}}, \"type\": \"histogram\"}], \"histogram2d\": [{\"colorbar\": {\"outlinewidth\": 0, \"ticks\": \"\"}, \"colorscale\": [[0.0, \"#0d0887\"], [0.1111111111111111, \"#46039f\"], [0.2222222222222222, \"#7201a8\"], [0.3333333333333333, \"#9c179e\"], [0.4444444444444444, \"#bd3786\"], [0.5555555555555556, \"#d8576b\"], [0.6666666666666666, \"#ed7953\"], [0.7777777777777778, \"#fb9f3a\"], [0.8888888888888888, \"#fdca26\"], [1.0, \"#f0f921\"]], \"type\": \"histogram2d\"}], \"histogram2dcontour\": [{\"colorbar\": {\"outlinewidth\": 0, \"ticks\": \"\"}, \"colorscale\": [[0.0, \"#0d0887\"], [0.1111111111111111, \"#46039f\"], [0.2222222222222222, \"#7201a8\"], [0.3333333333333333, \"#9c179e\"], [0.4444444444444444, \"#bd3786\"], [0.5555555555555556, \"#d8576b\"], [0.6666666666666666, \"#ed7953\"], [0.7777777777777778, \"#fb9f3a\"], [0.8888888888888888, \"#fdca26\"], [1.0, \"#f0f921\"]], \"type\": \"histogram2dcontour\"}], \"mesh3d\": [{\"colorbar\": {\"outlinewidth\": 0, \"ticks\": \"\"}, \"type\": \"mesh3d\"}], \"parcoords\": [{\"line\": {\"colorbar\": {\"outlinewidth\": 0, \"ticks\": \"\"}}, \"type\": \"parcoords\"}], \"pie\": [{\"automargin\": true, \"type\": \"pie\"}], \"scatter\": [{\"marker\": {\"colorbar\": {\"outlinewidth\": 0, \"ticks\": \"\"}}, \"type\": \"scatter\"}], \"scatter3d\": [{\"line\": {\"colorbar\": {\"outlinewidth\": 0, \"ticks\": \"\"}}, \"marker\": {\"colorbar\": {\"outlinewidth\": 0, \"ticks\": \"\"}}, \"type\": \"scatter3d\"}], \"scattercarpet\": [{\"marker\": {\"colorbar\": {\"outlinewidth\": 0, \"ticks\": \"\"}}, \"type\": \"scattercarpet\"}], \"scattergeo\": [{\"marker\": {\"colorbar\": {\"outlinewidth\": 0, \"ticks\": \"\"}}, \"type\": \"scattergeo\"}], \"scattergl\": [{\"marker\": {\"colorbar\": {\"outlinewidth\": 0, \"ticks\": \"\"}}, \"type\": \"scattergl\"}], \"scattermapbox\": [{\"marker\": {\"colorbar\": {\"outlinewidth\": 0, \"ticks\": \"\"}}, \"type\": \"scattermapbox\"}], \"scatterpolar\": [{\"marker\": {\"colorbar\": {\"outlinewidth\": 0, \"ticks\": \"\"}}, \"type\": \"scatterpolar\"}], \"scatterpolargl\": [{\"marker\": {\"colorbar\": {\"outlinewidth\": 0, \"ticks\": \"\"}}, \"type\": \"scatterpolargl\"}], \"scatterternary\": [{\"marker\": {\"colorbar\": {\"outlinewidth\": 0, \"ticks\": \"\"}}, \"type\": \"scatterternary\"}], \"surface\": [{\"colorbar\": {\"outlinewidth\": 0, \"ticks\": \"\"}, \"colorscale\": [[0.0, \"#0d0887\"], [0.1111111111111111, \"#46039f\"], [0.2222222222222222, \"#7201a8\"], [0.3333333333333333, \"#9c179e\"], [0.4444444444444444, \"#bd3786\"], [0.5555555555555556, \"#d8576b\"], [0.6666666666666666, \"#ed7953\"], [0.7777777777777778, \"#fb9f3a\"], [0.8888888888888888, \"#fdca26\"], [1.0, \"#f0f921\"]], \"type\": \"surface\"}], \"table\": [{\"cells\": {\"fill\": {\"color\": \"#EBF0F8\"}, \"line\": {\"color\": \"white\"}}, \"header\": {\"fill\": {\"color\": \"#C8D4E3\"}, \"line\": {\"color\": \"white\"}}, \"type\": \"table\"}]}, \"layout\": {\"annotationdefaults\": {\"arrowcolor\": \"#2a3f5f\", \"arrowhead\": 0, \"arrowwidth\": 1}, \"coloraxis\": {\"colorbar\": {\"outlinewidth\": 0, \"ticks\": \"\"}}, \"colorscale\": {\"diverging\": [[0, \"#8e0152\"], [0.1, \"#c51b7d\"], [0.2, \"#de77ae\"], [0.3, \"#f1b6da\"], [0.4, \"#fde0ef\"], [0.5, \"#f7f7f7\"], [0.6, \"#e6f5d0\"], [0.7, \"#b8e186\"], [0.8, \"#7fbc41\"], [0.9, \"#4d9221\"], [1, \"#276419\"]], \"sequential\": [[0.0, \"#0d0887\"], [0.1111111111111111, \"#46039f\"], [0.2222222222222222, \"#7201a8\"], [0.3333333333333333, \"#9c179e\"], [0.4444444444444444, \"#bd3786\"], [0.5555555555555556, \"#d8576b\"], [0.6666666666666666, \"#ed7953\"], [0.7777777777777778, \"#fb9f3a\"], [0.8888888888888888, \"#fdca26\"], [1.0, \"#f0f921\"]], \"sequentialminus\": [[0.0, \"#0d0887\"], [0.1111111111111111, \"#46039f\"], [0.2222222222222222, \"#7201a8\"], [0.3333333333333333, \"#9c179e\"], [0.4444444444444444, \"#bd3786\"], [0.5555555555555556, \"#d8576b\"], [0.6666666666666666, \"#ed7953\"], [0.7777777777777778, \"#fb9f3a\"], [0.8888888888888888, \"#fdca26\"], [1.0, \"#f0f921\"]]}, \"colorway\": [\"#636efa\", \"#EF553B\", \"#00cc96\", \"#ab63fa\", \"#FFA15A\", \"#19d3f3\", \"#FF6692\", \"#B6E880\", \"#FF97FF\", \"#FECB52\"], \"font\": {\"color\": \"#2a3f5f\"}, \"geo\": {\"bgcolor\": \"white\", \"lakecolor\": \"white\", \"landcolor\": \"#E5ECF6\", \"showlakes\": true, \"showland\": true, \"subunitcolor\": \"white\"}, \"hoverlabel\": {\"align\": \"left\"}, \"hovermode\": \"closest\", \"mapbox\": {\"style\": \"light\"}, \"paper_bgcolor\": \"white\", \"plot_bgcolor\": \"#E5ECF6\", \"polar\": {\"angularaxis\": {\"gridcolor\": \"white\", \"linecolor\": \"white\", \"ticks\": \"\"}, \"bgcolor\": \"#E5ECF6\", \"radialaxis\": {\"gridcolor\": \"white\", \"linecolor\": \"white\", \"ticks\": \"\"}}, \"scene\": {\"xaxis\": {\"backgroundcolor\": \"#E5ECF6\", \"gridcolor\": \"white\", \"gridwidth\": 2, \"linecolor\": \"white\", \"showbackground\": true, \"ticks\": \"\", \"zerolinecolor\": \"white\"}, \"yaxis\": {\"backgroundcolor\": \"#E5ECF6\", \"gridcolor\": \"white\", \"gridwidth\": 2, \"linecolor\": \"white\", \"showbackground\": true, \"ticks\": \"\", \"zerolinecolor\": \"white\"}, \"zaxis\": {\"backgroundcolor\": \"#E5ECF6\", \"gridcolor\": \"white\", \"gridwidth\": 2, \"linecolor\": \"white\", \"showbackground\": true, \"ticks\": \"\", \"zerolinecolor\": \"white\"}}, \"shapedefaults\": {\"line\": {\"color\": \"#2a3f5f\"}}, \"ternary\": {\"aaxis\": {\"gridcolor\": \"white\", \"linecolor\": \"white\", \"ticks\": \"\"}, \"baxis\": {\"gridcolor\": \"white\", \"linecolor\": \"white\", \"ticks\": \"\"}, \"bgcolor\": \"#E5ECF6\", \"caxis\": {\"gridcolor\": \"white\", \"linecolor\": \"white\", \"ticks\": \"\"}}, \"title\": {\"x\": 0.05}, \"xaxis\": {\"automargin\": true, \"gridcolor\": \"white\", \"linecolor\": \"white\", \"ticks\": \"\", \"title\": {\"standoff\": 15}, \"zerolinecolor\": \"white\", \"zerolinewidth\": 2}, \"yaxis\": {\"automargin\": true, \"gridcolor\": \"white\", \"linecolor\": \"white\", \"ticks\": \"\", \"title\": {\"standoff\": 15}, \"zerolinecolor\": \"white\", \"zerolinewidth\": 2}}}, \"title\": {\"text\": \"Rela\\u00e7\\u00e3o entre n\\u00famero de casos e letalidade da COVID-19 no Brasil, por estado - 2020-06-01\"}, \"width\": 980, \"xaxis\": {\"anchor\": \"y\", \"autorange\": false, \"domain\": [0.0, 1.0], \"range\": [0, 12], \"title\": {\"text\": \"<b>Letalidade (% \\u00f3bitos/casos)</b>\"}, \"type\": \"linear\"}, \"yaxis\": {\"anchor\": \"x\", \"autorange\": false, \"domain\": [0.0, 1.0], \"range\": [0, 0.8], \"title\": {\"text\": \"<b>Contamina\\u00e7\\u00e3o (% casos/popula\\u00e7\\u00e3o)</b>\"}, \"type\": \"linear\"}},\n",
       "                        {\"responsive\": true}\n",
       "                    ).then(function(){\n",
       "                            \n",
       "var gd = document.getElementById('694ef750-dbf6-42e9-90a4-38a92b65da5e');\n",
       "var x = new MutationObserver(function (mutations, observer) {{\n",
       "        var display = window.getComputedStyle(gd).display;\n",
       "        if (!display || display === 'none') {{\n",
       "            console.log([gd, 'removed!']);\n",
       "            Plotly.purge(gd);\n",
       "            observer.disconnect();\n",
       "        }}\n",
       "}});\n",
       "\n",
       "// Listen for the removal of the full notebook cells\n",
       "var notebookContainer = gd.closest('#notebook-container');\n",
       "if (notebookContainer) {{\n",
       "    x.observe(notebookContainer, {childList: true});\n",
       "}}\n",
       "\n",
       "// Listen for the clearing of the current output cell\n",
       "var outputEl = gd.closest('.output');\n",
       "if (outputEl) {{\n",
       "    x.observe(outputEl, {childList: true});\n",
       "}}\n",
       "\n",
       "                        })\n",
       "                };\n",
       "                });\n",
       "            </script>\n",
       "        </div>"
      ]
     },
     "metadata": {},
     "output_type": "display_data"
    }
   ],
   "source": [
    "fig = px.scatter(normalCovid, x='lethality_pct', y='contamRate',\n",
    "                 size='deathRate', color='obitosAcumulado', text='estado',\n",
    "                 size_max=40, color_continuous_scale='Sunsetdark')\n",
    "\n",
    "fig.update_traces(textposition='middle center',\n",
    "                  textfont=dict(family=\"sans serif\",\n",
    "                                size=13))\n",
    "\n",
    "fig.update_layout(\n",
    "    ## Chart general set:\n",
    "    height=520,\n",
    "    width=980,\n",
    "    plot_bgcolor='rgb(245,245,245)',\n",
    "    title_text='Relação entre número de casos e letalidade da COVID-19 no Brasil, por estado - {0}'.format(lastDay.date()),\n",
    "    xaxis_title=\"<b>Letalidade (% óbitos/casos)</b>\",\n",
    "    yaxis_title=\"<b>Contaminação (% casos/população)</b>\",\n",
    "    hovermode=False,  #Disable the hover information.\n",
    "    ## Axis ranges:\n",
    "    xaxis=dict(\n",
    "        autorange=False,\n",
    "        range=[0, 12],\n",
    "        type=\"linear\"\n",
    "    ),\n",
    "    yaxis=dict(\n",
    "        autorange=False,\n",
    "        range=[0, 0.8],\n",
    "        type=\"linear\"),\n",
    "    ## Adjusting the colorbar title:\n",
    "    coloraxis=dict(\n",
    "        colorbar=dict(\n",
    "            title=dict(\n",
    "                text='<b>Óbitos <br>acumulados</b>'\n",
    "            )\n",
    "        )),\n",
    "    ## Vertical and horizontal lines\n",
    "    shapes=[\n",
    "        dict(\n",
    "          type= 'line',\n",
    "          yref= 'y', y0= 0, y1= 0.8,\n",
    "          xref= 'x', x0= 6, x1= 6,\n",
    "          line=dict(\n",
    "                color=\"gray\",\n",
    "                width=1,\n",
    "                dash=\"dashdot\",\n",
    "                )),\n",
    "        dict(\n",
    "          type= 'line',\n",
    "          yref= 'y', y0= 0.4, y1= 0.4,\n",
    "          xref= 'x', x0= 0, x1= 12,\n",
    "          line=dict(\n",
    "                color=\"gray\",\n",
    "                width=1,\n",
    "                dash=\"dashdot\",\n",
    "                ))\n",
    "        ],    \n",
    "    ## Points annotations:\n",
    "    annotations=[\n",
    "        go.layout.Annotation(\n",
    "            text='<b>Zona crítica</b>',\n",
    "            align='center',\n",
    "            showarrow=False,\n",
    "            xref='paper',\n",
    "            yref='paper',\n",
    "            x=.98,\n",
    "            y=.99,\n",
    "            bordercolor='#708090',\n",
    "            borderwidth=2,\n",
    "            bgcolor='#E9967A',\n",
    "            font=dict(\n",
    "                color='DarkRed'),\n",
    "            width=110,\n",
    "            height=20),\n",
    "        go.layout.Annotation(\n",
    "            text='Alta letalidade',\n",
    "            align='center',\n",
    "            showarrow=False,\n",
    "            xref='paper',\n",
    "            yref='paper',\n",
    "            x=.98,\n",
    "            y=.01,\n",
    "            bordercolor='#708090',\n",
    "            borderwidth=2,\n",
    "            bgcolor='#DCDCDC',\n",
    "            font=dict(\n",
    "                color='black'),\n",
    "            width=110,\n",
    "            height=20),\n",
    "        go.layout.Annotation(\n",
    "            text='Alta contaminação',\n",
    "            align='center',\n",
    "            showarrow=False,\n",
    "            xref='paper',\n",
    "            yref='paper',\n",
    "            x=0,\n",
    "            y=.99,\n",
    "            bordercolor='#708090',\n",
    "            borderwidth=2,\n",
    "            bgcolor='#DCDCDC',\n",
    "            font=dict(\n",
    "                color='DarkRed'),\n",
    "            width=110,\n",
    "            height=20),\n",
    "        go.layout.Annotation(\n",
    "            text='Zona controlada',\n",
    "            align='center',\n",
    "            showarrow=False,\n",
    "            xref='paper',\n",
    "            yref='paper',\n",
    "            x=0,\n",
    "            y=.01,\n",
    "            bordercolor='#708090',\n",
    "            borderwidth=2,\n",
    "            bgcolor='#DCDCDC',\n",
    "            font=dict(\n",
    "                color='black'),\n",
    "            width=110,\n",
    "            height=20),\n",
    "    ]\n",
    ")\n",
    "\n",
    "fig.show()"
   ]
  },
  {
   "cell_type": "markdown",
   "metadata": {},
   "source": [
    "The command below shows all the figure parameters, in the case it is needed to change something."
   ]
  },
  {
   "cell_type": "code",
   "execution_count": 41,
   "metadata": {
    "scrolled": true
   },
   "outputs": [
    {
     "name": "stdout",
     "output_type": "stream",
     "text": [
      "Figure({\n",
      "    'data': [{'hovertemplate': ('lethality_pct=%{x}<br>contamRa' ... '%{marker.color}<extra></extra>'),\n",
      "              'legendgroup': '',\n",
      "              'marker': {'color': array([ 156.,  148., 2052.,  116., 2923.,  222.,   73.,  955.,  161., 3010.,\n",
      "                                          305.,  360., 2807.,  443.,  158.,  667.,  271.,  604., 5344., 7615.,\n",
      "                                          182.,  143.,  224.,   20.,   61.,  124.,  170.]),\n",
      "                         'coloraxis': 'coloraxis',\n",
      "                         'size': array([0.00877773, 0.01678128, 0.04951024, 0.01914947, 0.03397705, 0.02624948,\n",
      "                                        0.00464121, 0.01349789, 0.00491869, 0.03296073, 0.00869726, 0.0089594 ,\n",
      "                                        0.02937092, 0.01327398, 0.00687346, 0.00448462, 0.00128019, 0.01502992,\n",
      "                                        0.0309529 , 0.01658353, 0.00159175, 0.00199587, 0.00196884, 0.00071969,\n",
      "                                        0.00175063, 0.0017668 , 0.00563797]),\n",
      "                         'sizemode': 'area',\n",
      "                         'sizeref': 3.0943901180259504e-05,\n",
      "                         'symbol': 'circle'},\n",
      "              'mode': 'markers+text',\n",
      "              'name': '',\n",
      "              'orientation': 'v',\n",
      "              'showlegend': False,\n",
      "              'text': array(['RO', 'AC', 'AM', 'RR', 'PA', 'AP', 'TO', 'MA', 'PI', 'CE', 'RN', 'PB',\n",
      "                             'PE', 'AL', 'SE', 'BA', 'MG', 'ES', 'RJ', 'SP', 'PR', 'SC', 'RS', 'MS',\n",
      "                             'MT', 'GO', 'DF'], dtype=object),\n",
      "              'textfont': {'family': 'sans serif', 'size': 13},\n",
      "              'textposition': 'middle center',\n",
      "              'type': 'scatter',\n",
      "              'x': array([ 3.15661675,  2.37980383,  4.95915704,  3.33909039,  7.7000079 ,\n",
      "                           2.31201833,  1.74808429,  2.757008  ,  3.2650578 ,  6.20759347,\n",
      "                           3.78834927,  2.73514663,  8.14804064,  4.30598756,  2.25746535,\n",
      "                           3.62657677,  2.5898318 ,  4.41197955, 10.00974002,  6.94178563,\n",
      "                           3.88308086,  1.58238353,  2.40034291,  1.34318334,  2.51132153,\n",
      "                           3.34954079,  1.73824131]),\n",
      "              'xaxis': 'x',\n",
      "              'y': array([0.27807396, 0.70515401, 0.99836003, 0.57349351, 0.44125998, 1.13534918,\n",
      "                          0.26550259, 0.48958465, 0.15064644, 0.53097444, 0.22957906, 0.32756555,\n",
      "                          0.36046609, 0.30826789, 0.30447697, 0.12365979, 0.04943126, 0.34066166,\n",
      "                          0.30922778, 0.23889432, 0.04099193, 0.12613074, 0.08202342, 0.05358069,\n",
      "                          0.06970939, 0.05274741, 0.32434928]),\n",
      "              'yaxis': 'y'}],\n",
      "    'layout': {'annotations': [{'align': 'center',\n",
      "                                'bgcolor': '#E9967A',\n",
      "                                'bordercolor': '#708090',\n",
      "                                'borderwidth': 2,\n",
      "                                'font': {'color': 'DarkRed'},\n",
      "                                'height': 20,\n",
      "                                'showarrow': False,\n",
      "                                'text': '<b>Zona crítica</b>',\n",
      "                                'width': 110,\n",
      "                                'x': 0.98,\n",
      "                                'xref': 'paper',\n",
      "                                'y': 0.99,\n",
      "                                'yref': 'paper'},\n",
      "                               {'align': 'center',\n",
      "                                'bgcolor': '#DCDCDC',\n",
      "                                'bordercolor': '#708090',\n",
      "                                'borderwidth': 2,\n",
      "                                'font': {'color': 'black'},\n",
      "                                'height': 20,\n",
      "                                'showarrow': False,\n",
      "                                'text': 'Alta letalidade',\n",
      "                                'width': 110,\n",
      "                                'x': 0.98,\n",
      "                                'xref': 'paper',\n",
      "                                'y': 0.01,\n",
      "                                'yref': 'paper'},\n",
      "                               {'align': 'center',\n",
      "                                'bgcolor': '#DCDCDC',\n",
      "                                'bordercolor': '#708090',\n",
      "                                'borderwidth': 2,\n",
      "                                'font': {'color': 'DarkRed'},\n",
      "                                'height': 20,\n",
      "                                'showarrow': False,\n",
      "                                'text': 'Alta contaminação',\n",
      "                                'width': 110,\n",
      "                                'x': 0,\n",
      "                                'xref': 'paper',\n",
      "                                'y': 0.99,\n",
      "                                'yref': 'paper'},\n",
      "                               {'align': 'center',\n",
      "                                'bgcolor': '#DCDCDC',\n",
      "                                'bordercolor': '#708090',\n",
      "                                'borderwidth': 2,\n",
      "                                'font': {'color': 'black'},\n",
      "                                'height': 20,\n",
      "                                'showarrow': False,\n",
      "                                'text': 'Zona controlada',\n",
      "                                'width': 110,\n",
      "                                'x': 0,\n",
      "                                'xref': 'paper',\n",
      "                                'y': 0.01,\n",
      "                                'yref': 'paper'}],\n",
      "               'coloraxis': {'colorbar': {'title': {'text': '<b>Óbitos <br>acumulados</b>'}},\n",
      "                             'colorscale': [[0.0, 'rgb(252, 222, 156)'],\n",
      "                                            [0.16666666666666666, 'rgb(250, 164,\n",
      "                                            118)'], [0.3333333333333333, 'rgb(240,\n",
      "                                            116, 110)'], [0.5, 'rgb(227, 79,\n",
      "                                            111)'], [0.6666666666666666, 'rgb(220,\n",
      "                                            57, 119)'], [0.8333333333333334,\n",
      "                                            'rgb(185, 37, 122)'], [1.0, 'rgb(124,\n",
      "                                            29, 111)']]},\n",
      "               'height': 520,\n",
      "               'hovermode': False,\n",
      "               'legend': {'itemsizing': 'constant', 'tracegroupgap': 0},\n",
      "               'margin': {'t': 60},\n",
      "               'plot_bgcolor': 'rgb(245,245,245)',\n",
      "               'shapes': [{'line': {'color': 'gray', 'dash': 'dashdot', 'width': 1},\n",
      "                           'type': 'line',\n",
      "                           'x0': 6,\n",
      "                           'x1': 6,\n",
      "                           'xref': 'x',\n",
      "                           'y0': 0,\n",
      "                           'y1': 0.8,\n",
      "                           'yref': 'y'},\n",
      "                          {'line': {'color': 'gray', 'dash': 'dashdot', 'width': 1},\n",
      "                           'type': 'line',\n",
      "                           'x0': 0,\n",
      "                           'x1': 12,\n",
      "                           'xref': 'x',\n",
      "                           'y0': 0.4,\n",
      "                           'y1': 0.4,\n",
      "                           'yref': 'y'}],\n",
      "               'template': '...',\n",
      "               'title': {'text': ('Relação entre número de casos ' ... 'rasil, por estado - 2020-05-31')},\n",
      "               'width': 980,\n",
      "               'xaxis': {'anchor': 'y',\n",
      "                         'autorange': False,\n",
      "                         'domain': [0.0, 1.0],\n",
      "                         'range': [0, 12],\n",
      "                         'title': {'text': '<b>Letalidade (% óbitos/casos)</b>'},\n",
      "                         'type': 'linear'},\n",
      "               'yaxis': {'anchor': 'x',\n",
      "                         'autorange': False,\n",
      "                         'domain': [0.0, 1.0],\n",
      "                         'range': [0, 0.8],\n",
      "                         'title': {'text': '<b>Contaminação (% casos/população)</b>'},\n",
      "                         'type': 'linear'}}\n",
      "})\n"
     ]
    }
   ],
   "source": [
    "print(fig)"
   ]
  },
  {
   "cell_type": "markdown",
   "metadata": {
    "collapsed": true
   },
   "source": [
    "#### Generating the Four-Quadrant graphic with English content:"
   ]
  },
  {
   "cell_type": "code",
   "execution_count": 162,
   "metadata": {
    "scrolled": false
   },
   "outputs": [
    {
     "data": {
      "application/vnd.plotly.v1+json": {
       "config": {
        "plotlyServerURL": "https://plot.ly"
       },
       "data": [
        {
         "hovertemplate": "lethality_pct=%{x}<br>contamRate=%{y}<br>deathRate=%{marker.size}<br>estado=%{text}<br>obitosAcumulado=%{marker.color}<extra></extra>",
         "legendgroup": "",
         "marker": {
          "color": [
           156,
           148,
           2052,
           116,
           2923,
           222,
           73,
           955,
           161,
           3010,
           305,
           360,
           2807,
           443,
           158,
           667,
           271,
           604,
           5344,
           7615,
           182,
           143,
           224,
           20,
           61,
           124,
           170
          ],
          "coloraxis": "coloraxis",
          "size": [
           0.008777729325212058,
           0.016781282067272533,
           0.049510241888415206,
           0.019149466538783445,
           0.033977052993392313,
           0.026249481218023226,
           0.004641209104907856,
           0.013497887898556942,
           0.00491869338729028,
           0.03296073467616023,
           0.008697256486085958,
           0.008959398246994184,
           0.02937092337181549,
           0.013273976982384564,
           0.006873462171596418,
           0.004484617292038816,
           0.0012801864782925015,
           0.015029922984086697,
           0.030952896861576665,
           0.01658353159709383,
           0.0015917499077528453,
           0.0019958720341760284,
           0.0019688432316487333,
           0.000719686964957722,
           0.0017506269253308828,
           0.0017667960322320588,
           0.005637973142022534
          ],
          "sizemode": "area",
          "sizeref": 3.0943901180259504e-05,
          "symbol": "circle"
         },
         "mode": "markers+text",
         "name": "",
         "orientation": "v",
         "showlegend": false,
         "text": [
          "RO",
          "AC",
          "AM",
          "RR",
          "PA",
          "AP",
          "TO",
          "MA",
          "PI",
          "CE",
          "RN",
          "PB",
          "PE",
          "AL",
          "SE",
          "BA",
          "MG",
          "ES",
          "RJ",
          "SP",
          "PR",
          "SC",
          "RS",
          "MS",
          "MT",
          "GO",
          "DF"
         ],
         "textfont": {
          "family": "sans serif",
          "size": 13
         },
         "textposition": "middle center",
         "type": "scatter",
         "x": [
          3.1566167543504657,
          2.37980382698183,
          4.959157039972933,
          3.3390903857225105,
          7.700007902847659,
          2.3120183295146846,
          1.7480842911877392,
          2.7570079967666503,
          3.265057797606976,
          6.20759347480872,
          3.788349273382188,
          2.735146634250114,
          8.148040638606677,
          4.305987558320373,
          2.2574653521931705,
          3.626576772509787,
          2.5898318042813453,
          4.411979547114682,
          10.009740016483105,
          6.9417856296377325,
          3.883080861958609,
          1.5823835343587471,
          2.400342906129447,
          1.3431833445265278,
          2.5113215314944424,
          3.349540788762831,
          1.738241308793456
         ],
         "xaxis": "x",
         "y": [
          0.2780739636230641,
          0.7051540079484316,
          0.9983600335569417,
          0.5734935065149457,
          0.44125997560115143,
          1.135349183132698,
          0.265502592083496,
          0.4895846480817947,
          0.1506464415697414,
          0.5309744397715395,
          0.22957905563763292,
          0.32756555479704846,
          0.3604660884072118,
          0.308267889830186,
          0.30447697303166665,
          0.12365979195678846,
          0.04943125944226101,
          0.3406616649869981,
          0.3092277802481016,
          0.2388943203070255,
          0.04099193306394278,
          0.12613073827166973,
          0.08202341534708026,
          0.0535806945411024,
          0.06970939019063467,
          0.05274741057518615,
          0.32434927840576694
         ],
         "yaxis": "y"
        }
       ],
       "layout": {
        "annotations": [
         {
          "align": "center",
          "bgcolor": "#E9967A",
          "bordercolor": "#708090",
          "borderwidth": 2,
          "font": {
           "color": "DarkRed"
          },
          "height": 20,
          "showarrow": false,
          "text": "<b>Critical zone</b>",
          "width": 110,
          "x": 0.98,
          "xref": "paper",
          "y": 0.99,
          "yref": "paper"
         },
         {
          "align": "center",
          "bgcolor": "#DCDCDC",
          "bordercolor": "#708090",
          "borderwidth": 2,
          "font": {
           "color": "black"
          },
          "height": 20,
          "showarrow": false,
          "text": "High lethality",
          "width": 110,
          "x": 0.98,
          "xref": "paper",
          "y": 0.01,
          "yref": "paper"
         },
         {
          "align": "center",
          "bgcolor": "#DCDCDC",
          "bordercolor": "#708090",
          "borderwidth": 2,
          "font": {
           "color": "DarkRed"
          },
          "height": 20,
          "showarrow": false,
          "text": "High contamination",
          "width": 110,
          "x": 0,
          "xref": "paper",
          "y": 0.99,
          "yref": "paper"
         },
         {
          "align": "center",
          "bgcolor": "#DCDCDC",
          "bordercolor": "#708090",
          "borderwidth": 2,
          "font": {
           "color": "black"
          },
          "height": 20,
          "showarrow": false,
          "text": "Controlled zone",
          "width": 110,
          "x": 0,
          "xref": "paper",
          "y": 0.01,
          "yref": "paper"
         }
        ],
        "coloraxis": {
         "colorbar": {
          "title": {
           "text": "<b>Accumulated<br> deaths</b>"
          }
         },
         "colorscale": [
          [
           0,
           "rgb(252, 222, 156)"
          ],
          [
           0.16666666666666666,
           "rgb(250, 164, 118)"
          ],
          [
           0.3333333333333333,
           "rgb(240, 116, 110)"
          ],
          [
           0.5,
           "rgb(227, 79, 111)"
          ],
          [
           0.6666666666666666,
           "rgb(220, 57, 119)"
          ],
          [
           0.8333333333333334,
           "rgb(185, 37, 122)"
          ],
          [
           1,
           "rgb(124, 29, 111)"
          ]
         ]
        },
        "height": 520,
        "hovermode": false,
        "legend": {
         "itemsizing": "constant",
         "tracegroupgap": 0
        },
        "margin": {
         "t": 60
        },
        "plot_bgcolor": "rgb(245,245,245)",
        "shapes": [
         {
          "line": {
           "color": "gray",
           "dash": "dashdot",
           "width": 1
          },
          "type": "line",
          "x0": 6,
          "x1": 6,
          "xref": "x",
          "y0": 0,
          "y1": 0.8,
          "yref": "y"
         },
         {
          "line": {
           "color": "gray",
           "dash": "dashdot",
           "width": 1
          },
          "type": "line",
          "x0": 0,
          "x1": 12,
          "xref": "x",
          "y0": 0.4,
          "y1": 0.4,
          "yref": "y"
         }
        ],
        "template": {
         "data": {
          "bar": [
           {
            "error_x": {
             "color": "#2a3f5f"
            },
            "error_y": {
             "color": "#2a3f5f"
            },
            "marker": {
             "line": {
              "color": "#E5ECF6",
              "width": 0.5
             }
            },
            "type": "bar"
           }
          ],
          "barpolar": [
           {
            "marker": {
             "line": {
              "color": "#E5ECF6",
              "width": 0.5
             }
            },
            "type": "barpolar"
           }
          ],
          "carpet": [
           {
            "aaxis": {
             "endlinecolor": "#2a3f5f",
             "gridcolor": "white",
             "linecolor": "white",
             "minorgridcolor": "white",
             "startlinecolor": "#2a3f5f"
            },
            "baxis": {
             "endlinecolor": "#2a3f5f",
             "gridcolor": "white",
             "linecolor": "white",
             "minorgridcolor": "white",
             "startlinecolor": "#2a3f5f"
            },
            "type": "carpet"
           }
          ],
          "choropleth": [
           {
            "colorbar": {
             "outlinewidth": 0,
             "ticks": ""
            },
            "type": "choropleth"
           }
          ],
          "contour": [
           {
            "colorbar": {
             "outlinewidth": 0,
             "ticks": ""
            },
            "colorscale": [
             [
              0,
              "#0d0887"
             ],
             [
              0.1111111111111111,
              "#46039f"
             ],
             [
              0.2222222222222222,
              "#7201a8"
             ],
             [
              0.3333333333333333,
              "#9c179e"
             ],
             [
              0.4444444444444444,
              "#bd3786"
             ],
             [
              0.5555555555555556,
              "#d8576b"
             ],
             [
              0.6666666666666666,
              "#ed7953"
             ],
             [
              0.7777777777777778,
              "#fb9f3a"
             ],
             [
              0.8888888888888888,
              "#fdca26"
             ],
             [
              1,
              "#f0f921"
             ]
            ],
            "type": "contour"
           }
          ],
          "contourcarpet": [
           {
            "colorbar": {
             "outlinewidth": 0,
             "ticks": ""
            },
            "type": "contourcarpet"
           }
          ],
          "heatmap": [
           {
            "colorbar": {
             "outlinewidth": 0,
             "ticks": ""
            },
            "colorscale": [
             [
              0,
              "#0d0887"
             ],
             [
              0.1111111111111111,
              "#46039f"
             ],
             [
              0.2222222222222222,
              "#7201a8"
             ],
             [
              0.3333333333333333,
              "#9c179e"
             ],
             [
              0.4444444444444444,
              "#bd3786"
             ],
             [
              0.5555555555555556,
              "#d8576b"
             ],
             [
              0.6666666666666666,
              "#ed7953"
             ],
             [
              0.7777777777777778,
              "#fb9f3a"
             ],
             [
              0.8888888888888888,
              "#fdca26"
             ],
             [
              1,
              "#f0f921"
             ]
            ],
            "type": "heatmap"
           }
          ],
          "heatmapgl": [
           {
            "colorbar": {
             "outlinewidth": 0,
             "ticks": ""
            },
            "colorscale": [
             [
              0,
              "#0d0887"
             ],
             [
              0.1111111111111111,
              "#46039f"
             ],
             [
              0.2222222222222222,
              "#7201a8"
             ],
             [
              0.3333333333333333,
              "#9c179e"
             ],
             [
              0.4444444444444444,
              "#bd3786"
             ],
             [
              0.5555555555555556,
              "#d8576b"
             ],
             [
              0.6666666666666666,
              "#ed7953"
             ],
             [
              0.7777777777777778,
              "#fb9f3a"
             ],
             [
              0.8888888888888888,
              "#fdca26"
             ],
             [
              1,
              "#f0f921"
             ]
            ],
            "type": "heatmapgl"
           }
          ],
          "histogram": [
           {
            "marker": {
             "colorbar": {
              "outlinewidth": 0,
              "ticks": ""
             }
            },
            "type": "histogram"
           }
          ],
          "histogram2d": [
           {
            "colorbar": {
             "outlinewidth": 0,
             "ticks": ""
            },
            "colorscale": [
             [
              0,
              "#0d0887"
             ],
             [
              0.1111111111111111,
              "#46039f"
             ],
             [
              0.2222222222222222,
              "#7201a8"
             ],
             [
              0.3333333333333333,
              "#9c179e"
             ],
             [
              0.4444444444444444,
              "#bd3786"
             ],
             [
              0.5555555555555556,
              "#d8576b"
             ],
             [
              0.6666666666666666,
              "#ed7953"
             ],
             [
              0.7777777777777778,
              "#fb9f3a"
             ],
             [
              0.8888888888888888,
              "#fdca26"
             ],
             [
              1,
              "#f0f921"
             ]
            ],
            "type": "histogram2d"
           }
          ],
          "histogram2dcontour": [
           {
            "colorbar": {
             "outlinewidth": 0,
             "ticks": ""
            },
            "colorscale": [
             [
              0,
              "#0d0887"
             ],
             [
              0.1111111111111111,
              "#46039f"
             ],
             [
              0.2222222222222222,
              "#7201a8"
             ],
             [
              0.3333333333333333,
              "#9c179e"
             ],
             [
              0.4444444444444444,
              "#bd3786"
             ],
             [
              0.5555555555555556,
              "#d8576b"
             ],
             [
              0.6666666666666666,
              "#ed7953"
             ],
             [
              0.7777777777777778,
              "#fb9f3a"
             ],
             [
              0.8888888888888888,
              "#fdca26"
             ],
             [
              1,
              "#f0f921"
             ]
            ],
            "type": "histogram2dcontour"
           }
          ],
          "mesh3d": [
           {
            "colorbar": {
             "outlinewidth": 0,
             "ticks": ""
            },
            "type": "mesh3d"
           }
          ],
          "parcoords": [
           {
            "line": {
             "colorbar": {
              "outlinewidth": 0,
              "ticks": ""
             }
            },
            "type": "parcoords"
           }
          ],
          "pie": [
           {
            "automargin": true,
            "type": "pie"
           }
          ],
          "scatter": [
           {
            "marker": {
             "colorbar": {
              "outlinewidth": 0,
              "ticks": ""
             }
            },
            "type": "scatter"
           }
          ],
          "scatter3d": [
           {
            "line": {
             "colorbar": {
              "outlinewidth": 0,
              "ticks": ""
             }
            },
            "marker": {
             "colorbar": {
              "outlinewidth": 0,
              "ticks": ""
             }
            },
            "type": "scatter3d"
           }
          ],
          "scattercarpet": [
           {
            "marker": {
             "colorbar": {
              "outlinewidth": 0,
              "ticks": ""
             }
            },
            "type": "scattercarpet"
           }
          ],
          "scattergeo": [
           {
            "marker": {
             "colorbar": {
              "outlinewidth": 0,
              "ticks": ""
             }
            },
            "type": "scattergeo"
           }
          ],
          "scattergl": [
           {
            "marker": {
             "colorbar": {
              "outlinewidth": 0,
              "ticks": ""
             }
            },
            "type": "scattergl"
           }
          ],
          "scattermapbox": [
           {
            "marker": {
             "colorbar": {
              "outlinewidth": 0,
              "ticks": ""
             }
            },
            "type": "scattermapbox"
           }
          ],
          "scatterpolar": [
           {
            "marker": {
             "colorbar": {
              "outlinewidth": 0,
              "ticks": ""
             }
            },
            "type": "scatterpolar"
           }
          ],
          "scatterpolargl": [
           {
            "marker": {
             "colorbar": {
              "outlinewidth": 0,
              "ticks": ""
             }
            },
            "type": "scatterpolargl"
           }
          ],
          "scatterternary": [
           {
            "marker": {
             "colorbar": {
              "outlinewidth": 0,
              "ticks": ""
             }
            },
            "type": "scatterternary"
           }
          ],
          "surface": [
           {
            "colorbar": {
             "outlinewidth": 0,
             "ticks": ""
            },
            "colorscale": [
             [
              0,
              "#0d0887"
             ],
             [
              0.1111111111111111,
              "#46039f"
             ],
             [
              0.2222222222222222,
              "#7201a8"
             ],
             [
              0.3333333333333333,
              "#9c179e"
             ],
             [
              0.4444444444444444,
              "#bd3786"
             ],
             [
              0.5555555555555556,
              "#d8576b"
             ],
             [
              0.6666666666666666,
              "#ed7953"
             ],
             [
              0.7777777777777778,
              "#fb9f3a"
             ],
             [
              0.8888888888888888,
              "#fdca26"
             ],
             [
              1,
              "#f0f921"
             ]
            ],
            "type": "surface"
           }
          ],
          "table": [
           {
            "cells": {
             "fill": {
              "color": "#EBF0F8"
             },
             "line": {
              "color": "white"
             }
            },
            "header": {
             "fill": {
              "color": "#C8D4E3"
             },
             "line": {
              "color": "white"
             }
            },
            "type": "table"
           }
          ]
         },
         "layout": {
          "annotationdefaults": {
           "arrowcolor": "#2a3f5f",
           "arrowhead": 0,
           "arrowwidth": 1
          },
          "coloraxis": {
           "colorbar": {
            "outlinewidth": 0,
            "ticks": ""
           }
          },
          "colorscale": {
           "diverging": [
            [
             0,
             "#8e0152"
            ],
            [
             0.1,
             "#c51b7d"
            ],
            [
             0.2,
             "#de77ae"
            ],
            [
             0.3,
             "#f1b6da"
            ],
            [
             0.4,
             "#fde0ef"
            ],
            [
             0.5,
             "#f7f7f7"
            ],
            [
             0.6,
             "#e6f5d0"
            ],
            [
             0.7,
             "#b8e186"
            ],
            [
             0.8,
             "#7fbc41"
            ],
            [
             0.9,
             "#4d9221"
            ],
            [
             1,
             "#276419"
            ]
           ],
           "sequential": [
            [
             0,
             "#0d0887"
            ],
            [
             0.1111111111111111,
             "#46039f"
            ],
            [
             0.2222222222222222,
             "#7201a8"
            ],
            [
             0.3333333333333333,
             "#9c179e"
            ],
            [
             0.4444444444444444,
             "#bd3786"
            ],
            [
             0.5555555555555556,
             "#d8576b"
            ],
            [
             0.6666666666666666,
             "#ed7953"
            ],
            [
             0.7777777777777778,
             "#fb9f3a"
            ],
            [
             0.8888888888888888,
             "#fdca26"
            ],
            [
             1,
             "#f0f921"
            ]
           ],
           "sequentialminus": [
            [
             0,
             "#0d0887"
            ],
            [
             0.1111111111111111,
             "#46039f"
            ],
            [
             0.2222222222222222,
             "#7201a8"
            ],
            [
             0.3333333333333333,
             "#9c179e"
            ],
            [
             0.4444444444444444,
             "#bd3786"
            ],
            [
             0.5555555555555556,
             "#d8576b"
            ],
            [
             0.6666666666666666,
             "#ed7953"
            ],
            [
             0.7777777777777778,
             "#fb9f3a"
            ],
            [
             0.8888888888888888,
             "#fdca26"
            ],
            [
             1,
             "#f0f921"
            ]
           ]
          },
          "colorway": [
           "#636efa",
           "#EF553B",
           "#00cc96",
           "#ab63fa",
           "#FFA15A",
           "#19d3f3",
           "#FF6692",
           "#B6E880",
           "#FF97FF",
           "#FECB52"
          ],
          "font": {
           "color": "#2a3f5f"
          },
          "geo": {
           "bgcolor": "white",
           "lakecolor": "white",
           "landcolor": "#E5ECF6",
           "showlakes": true,
           "showland": true,
           "subunitcolor": "white"
          },
          "hoverlabel": {
           "align": "left"
          },
          "hovermode": "closest",
          "mapbox": {
           "style": "light"
          },
          "paper_bgcolor": "white",
          "plot_bgcolor": "#E5ECF6",
          "polar": {
           "angularaxis": {
            "gridcolor": "white",
            "linecolor": "white",
            "ticks": ""
           },
           "bgcolor": "#E5ECF6",
           "radialaxis": {
            "gridcolor": "white",
            "linecolor": "white",
            "ticks": ""
           }
          },
          "scene": {
           "xaxis": {
            "backgroundcolor": "#E5ECF6",
            "gridcolor": "white",
            "gridwidth": 2,
            "linecolor": "white",
            "showbackground": true,
            "ticks": "",
            "zerolinecolor": "white"
           },
           "yaxis": {
            "backgroundcolor": "#E5ECF6",
            "gridcolor": "white",
            "gridwidth": 2,
            "linecolor": "white",
            "showbackground": true,
            "ticks": "",
            "zerolinecolor": "white"
           },
           "zaxis": {
            "backgroundcolor": "#E5ECF6",
            "gridcolor": "white",
            "gridwidth": 2,
            "linecolor": "white",
            "showbackground": true,
            "ticks": "",
            "zerolinecolor": "white"
           }
          },
          "shapedefaults": {
           "line": {
            "color": "#2a3f5f"
           }
          },
          "ternary": {
           "aaxis": {
            "gridcolor": "white",
            "linecolor": "white",
            "ticks": ""
           },
           "baxis": {
            "gridcolor": "white",
            "linecolor": "white",
            "ticks": ""
           },
           "bgcolor": "#E5ECF6",
           "caxis": {
            "gridcolor": "white",
            "linecolor": "white",
            "ticks": ""
           }
          },
          "title": {
           "x": 0.05
          },
          "xaxis": {
           "automargin": true,
           "gridcolor": "white",
           "linecolor": "white",
           "ticks": "",
           "title": {
            "standoff": 15
           },
           "zerolinecolor": "white",
           "zerolinewidth": 2
          },
          "yaxis": {
           "automargin": true,
           "gridcolor": "white",
           "linecolor": "white",
           "ticks": "",
           "title": {
            "standoff": 15
           },
           "zerolinecolor": "white",
           "zerolinewidth": 2
          }
         }
        },
        "width": 980,
        "xaxis": {
         "anchor": "y",
         "autorange": false,
         "domain": [
          0,
          1
         ],
         "range": [
          0,
          12
         ],
         "title": {
          "text": "<b>Lethality (% deaths/cases)</b>"
         },
         "type": "linear"
        },
        "yaxis": {
         "anchor": "x",
         "autorange": false,
         "domain": [
          0,
          1
         ],
         "range": [
          0,
          0.8
         ],
         "title": {
          "text": "<b>Contamination (% cases/population)</b>"
         },
         "type": "linear"
        }
       }
      },
      "text/html": [
       "<div>\n",
       "        \n",
       "        \n",
       "            <div id=\"680aad00-3efc-4535-a8ea-beee862743ce\" class=\"plotly-graph-div\" style=\"height:520px; width:980px;\"></div>\n",
       "            <script type=\"text/javascript\">\n",
       "                require([\"plotly\"], function(Plotly) {\n",
       "                    window.PLOTLYENV=window.PLOTLYENV || {};\n",
       "                    \n",
       "                if (document.getElementById(\"680aad00-3efc-4535-a8ea-beee862743ce\")) {\n",
       "                    Plotly.newPlot(\n",
       "                        '680aad00-3efc-4535-a8ea-beee862743ce',\n",
       "                        [{\"hovertemplate\": \"lethality_pct=%{x}<br>contamRate=%{y}<br>deathRate=%{marker.size}<br>estado=%{text}<br>obitosAcumulado=%{marker.color}<extra></extra>\", \"legendgroup\": \"\", \"marker\": {\"color\": [156.0, 148.0, 2052.0, 116.0, 2923.0, 222.0, 73.0, 955.0, 161.0, 3010.0, 305.0, 360.0, 2807.0, 443.0, 158.0, 667.0, 271.0, 604.0, 5344.0, 7615.0, 182.0, 143.0, 224.0, 20.0, 61.0, 124.0, 170.0], \"coloraxis\": \"coloraxis\", \"size\": [0.008777729325212058, 0.016781282067272533, 0.049510241888415206, 0.019149466538783445, 0.033977052993392313, 0.026249481218023226, 0.004641209104907856, 0.013497887898556942, 0.00491869338729028, 0.03296073467616023, 0.008697256486085958, 0.008959398246994184, 0.02937092337181549, 0.013273976982384564, 0.006873462171596418, 0.004484617292038816, 0.0012801864782925015, 0.015029922984086697, 0.030952896861576665, 0.01658353159709383, 0.0015917499077528453, 0.0019958720341760284, 0.0019688432316487333, 0.000719686964957722, 0.0017506269253308828, 0.0017667960322320588, 0.005637973142022534], \"sizemode\": \"area\", \"sizeref\": 3.0943901180259504e-05, \"symbol\": \"circle\"}, \"mode\": \"markers+text\", \"name\": \"\", \"orientation\": \"v\", \"showlegend\": false, \"text\": [\"RO\", \"AC\", \"AM\", \"RR\", \"PA\", \"AP\", \"TO\", \"MA\", \"PI\", \"CE\", \"RN\", \"PB\", \"PE\", \"AL\", \"SE\", \"BA\", \"MG\", \"ES\", \"RJ\", \"SP\", \"PR\", \"SC\", \"RS\", \"MS\", \"MT\", \"GO\", \"DF\"], \"textfont\": {\"family\": \"sans serif\", \"size\": 13}, \"textposition\": \"middle center\", \"type\": \"scatter\", \"x\": [3.1566167543504657, 2.37980382698183, 4.959157039972933, 3.3390903857225105, 7.700007902847659, 2.3120183295146846, 1.7480842911877392, 2.7570079967666503, 3.265057797606976, 6.20759347480872, 3.788349273382188, 2.735146634250114, 8.148040638606677, 4.305987558320373, 2.2574653521931705, 3.626576772509787, 2.5898318042813453, 4.411979547114682, 10.009740016483105, 6.9417856296377325, 3.883080861958609, 1.5823835343587471, 2.400342906129447, 1.3431833445265278, 2.5113215314944424, 3.349540788762831, 1.738241308793456], \"xaxis\": \"x\", \"y\": [0.2780739636230641, 0.7051540079484316, 0.9983600335569417, 0.5734935065149457, 0.44125997560115143, 1.135349183132698, 0.265502592083496, 0.4895846480817947, 0.1506464415697414, 0.5309744397715395, 0.22957905563763292, 0.32756555479704846, 0.3604660884072118, 0.308267889830186, 0.30447697303166665, 0.12365979195678846, 0.04943125944226101, 0.3406616649869981, 0.3092277802481016, 0.2388943203070255, 0.04099193306394278, 0.12613073827166973, 0.08202341534708026, 0.0535806945411024, 0.06970939019063467, 0.05274741057518615, 0.32434927840576694], \"yaxis\": \"y\"}],\n",
       "                        {\"annotations\": [{\"align\": \"center\", \"bgcolor\": \"#E9967A\", \"bordercolor\": \"#708090\", \"borderwidth\": 2, \"font\": {\"color\": \"DarkRed\"}, \"height\": 20, \"showarrow\": false, \"text\": \"<b>Critical zone</b>\", \"width\": 110, \"x\": 0.98, \"xref\": \"paper\", \"y\": 0.99, \"yref\": \"paper\"}, {\"align\": \"center\", \"bgcolor\": \"#DCDCDC\", \"bordercolor\": \"#708090\", \"borderwidth\": 2, \"font\": {\"color\": \"black\"}, \"height\": 20, \"showarrow\": false, \"text\": \"High lethality\", \"width\": 110, \"x\": 0.98, \"xref\": \"paper\", \"y\": 0.01, \"yref\": \"paper\"}, {\"align\": \"center\", \"bgcolor\": \"#DCDCDC\", \"bordercolor\": \"#708090\", \"borderwidth\": 2, \"font\": {\"color\": \"DarkRed\"}, \"height\": 20, \"showarrow\": false, \"text\": \"High contamination\", \"width\": 110, \"x\": 0, \"xref\": \"paper\", \"y\": 0.99, \"yref\": \"paper\"}, {\"align\": \"center\", \"bgcolor\": \"#DCDCDC\", \"bordercolor\": \"#708090\", \"borderwidth\": 2, \"font\": {\"color\": \"black\"}, \"height\": 20, \"showarrow\": false, \"text\": \"Controlled zone\", \"width\": 110, \"x\": 0, \"xref\": \"paper\", \"y\": 0.01, \"yref\": \"paper\"}], \"coloraxis\": {\"colorbar\": {\"title\": {\"text\": \"<b>Accumulated<br> deaths</b>\"}}, \"colorscale\": [[0.0, \"rgb(252, 222, 156)\"], [0.16666666666666666, \"rgb(250, 164, 118)\"], [0.3333333333333333, \"rgb(240, 116, 110)\"], [0.5, \"rgb(227, 79, 111)\"], [0.6666666666666666, \"rgb(220, 57, 119)\"], [0.8333333333333334, \"rgb(185, 37, 122)\"], [1.0, \"rgb(124, 29, 111)\"]]}, \"height\": 520, \"hovermode\": false, \"legend\": {\"itemsizing\": \"constant\", \"tracegroupgap\": 0}, \"margin\": {\"t\": 60}, \"plot_bgcolor\": \"rgb(245,245,245)\", \"shapes\": [{\"line\": {\"color\": \"gray\", \"dash\": \"dashdot\", \"width\": 1}, \"type\": \"line\", \"x0\": 6, \"x1\": 6, \"xref\": \"x\", \"y0\": 0, \"y1\": 0.8, \"yref\": \"y\"}, {\"line\": {\"color\": \"gray\", \"dash\": \"dashdot\", \"width\": 1}, \"type\": \"line\", \"x0\": 0, \"x1\": 12, \"xref\": \"x\", \"y0\": 0.4, \"y1\": 0.4, \"yref\": \"y\"}], \"template\": {\"data\": {\"bar\": [{\"error_x\": {\"color\": \"#2a3f5f\"}, \"error_y\": {\"color\": \"#2a3f5f\"}, \"marker\": {\"line\": {\"color\": \"#E5ECF6\", \"width\": 0.5}}, \"type\": \"bar\"}], \"barpolar\": [{\"marker\": {\"line\": {\"color\": \"#E5ECF6\", \"width\": 0.5}}, \"type\": \"barpolar\"}], \"carpet\": [{\"aaxis\": {\"endlinecolor\": \"#2a3f5f\", \"gridcolor\": \"white\", \"linecolor\": \"white\", \"minorgridcolor\": \"white\", \"startlinecolor\": \"#2a3f5f\"}, \"baxis\": {\"endlinecolor\": \"#2a3f5f\", \"gridcolor\": \"white\", \"linecolor\": \"white\", \"minorgridcolor\": \"white\", \"startlinecolor\": \"#2a3f5f\"}, \"type\": \"carpet\"}], \"choropleth\": [{\"colorbar\": {\"outlinewidth\": 0, \"ticks\": \"\"}, \"type\": \"choropleth\"}], \"contour\": [{\"colorbar\": {\"outlinewidth\": 0, \"ticks\": \"\"}, \"colorscale\": [[0.0, \"#0d0887\"], [0.1111111111111111, \"#46039f\"], [0.2222222222222222, \"#7201a8\"], [0.3333333333333333, \"#9c179e\"], [0.4444444444444444, \"#bd3786\"], [0.5555555555555556, \"#d8576b\"], [0.6666666666666666, \"#ed7953\"], [0.7777777777777778, \"#fb9f3a\"], [0.8888888888888888, \"#fdca26\"], [1.0, \"#f0f921\"]], \"type\": \"contour\"}], \"contourcarpet\": [{\"colorbar\": {\"outlinewidth\": 0, \"ticks\": \"\"}, \"type\": \"contourcarpet\"}], \"heatmap\": [{\"colorbar\": {\"outlinewidth\": 0, \"ticks\": \"\"}, \"colorscale\": [[0.0, \"#0d0887\"], [0.1111111111111111, \"#46039f\"], [0.2222222222222222, \"#7201a8\"], [0.3333333333333333, \"#9c179e\"], [0.4444444444444444, \"#bd3786\"], [0.5555555555555556, \"#d8576b\"], [0.6666666666666666, \"#ed7953\"], [0.7777777777777778, \"#fb9f3a\"], [0.8888888888888888, \"#fdca26\"], [1.0, \"#f0f921\"]], \"type\": \"heatmap\"}], \"heatmapgl\": [{\"colorbar\": {\"outlinewidth\": 0, \"ticks\": \"\"}, \"colorscale\": [[0.0, \"#0d0887\"], [0.1111111111111111, \"#46039f\"], [0.2222222222222222, \"#7201a8\"], [0.3333333333333333, \"#9c179e\"], [0.4444444444444444, \"#bd3786\"], [0.5555555555555556, \"#d8576b\"], [0.6666666666666666, \"#ed7953\"], [0.7777777777777778, \"#fb9f3a\"], [0.8888888888888888, \"#fdca26\"], [1.0, \"#f0f921\"]], \"type\": \"heatmapgl\"}], \"histogram\": [{\"marker\": {\"colorbar\": {\"outlinewidth\": 0, \"ticks\": \"\"}}, \"type\": \"histogram\"}], \"histogram2d\": [{\"colorbar\": {\"outlinewidth\": 0, \"ticks\": \"\"}, \"colorscale\": [[0.0, \"#0d0887\"], [0.1111111111111111, \"#46039f\"], [0.2222222222222222, \"#7201a8\"], [0.3333333333333333, \"#9c179e\"], [0.4444444444444444, \"#bd3786\"], [0.5555555555555556, \"#d8576b\"], [0.6666666666666666, \"#ed7953\"], [0.7777777777777778, \"#fb9f3a\"], [0.8888888888888888, \"#fdca26\"], [1.0, \"#f0f921\"]], \"type\": \"histogram2d\"}], \"histogram2dcontour\": [{\"colorbar\": {\"outlinewidth\": 0, \"ticks\": \"\"}, \"colorscale\": [[0.0, \"#0d0887\"], [0.1111111111111111, \"#46039f\"], [0.2222222222222222, \"#7201a8\"], [0.3333333333333333, \"#9c179e\"], [0.4444444444444444, \"#bd3786\"], [0.5555555555555556, \"#d8576b\"], [0.6666666666666666, \"#ed7953\"], [0.7777777777777778, \"#fb9f3a\"], [0.8888888888888888, \"#fdca26\"], [1.0, \"#f0f921\"]], \"type\": \"histogram2dcontour\"}], \"mesh3d\": [{\"colorbar\": {\"outlinewidth\": 0, \"ticks\": \"\"}, \"type\": \"mesh3d\"}], \"parcoords\": [{\"line\": {\"colorbar\": {\"outlinewidth\": 0, \"ticks\": \"\"}}, \"type\": \"parcoords\"}], \"pie\": [{\"automargin\": true, \"type\": \"pie\"}], \"scatter\": [{\"marker\": {\"colorbar\": {\"outlinewidth\": 0, \"ticks\": \"\"}}, \"type\": \"scatter\"}], \"scatter3d\": [{\"line\": {\"colorbar\": {\"outlinewidth\": 0, \"ticks\": \"\"}}, \"marker\": {\"colorbar\": {\"outlinewidth\": 0, \"ticks\": \"\"}}, \"type\": \"scatter3d\"}], \"scattercarpet\": [{\"marker\": {\"colorbar\": {\"outlinewidth\": 0, \"ticks\": \"\"}}, \"type\": \"scattercarpet\"}], \"scattergeo\": [{\"marker\": {\"colorbar\": {\"outlinewidth\": 0, \"ticks\": \"\"}}, \"type\": \"scattergeo\"}], \"scattergl\": [{\"marker\": {\"colorbar\": {\"outlinewidth\": 0, \"ticks\": \"\"}}, \"type\": \"scattergl\"}], \"scattermapbox\": [{\"marker\": {\"colorbar\": {\"outlinewidth\": 0, \"ticks\": \"\"}}, \"type\": \"scattermapbox\"}], \"scatterpolar\": [{\"marker\": {\"colorbar\": {\"outlinewidth\": 0, \"ticks\": \"\"}}, \"type\": \"scatterpolar\"}], \"scatterpolargl\": [{\"marker\": {\"colorbar\": {\"outlinewidth\": 0, \"ticks\": \"\"}}, \"type\": \"scatterpolargl\"}], \"scatterternary\": [{\"marker\": {\"colorbar\": {\"outlinewidth\": 0, \"ticks\": \"\"}}, \"type\": \"scatterternary\"}], \"surface\": [{\"colorbar\": {\"outlinewidth\": 0, \"ticks\": \"\"}, \"colorscale\": [[0.0, \"#0d0887\"], [0.1111111111111111, \"#46039f\"], [0.2222222222222222, \"#7201a8\"], [0.3333333333333333, \"#9c179e\"], [0.4444444444444444, \"#bd3786\"], [0.5555555555555556, \"#d8576b\"], [0.6666666666666666, \"#ed7953\"], [0.7777777777777778, \"#fb9f3a\"], [0.8888888888888888, \"#fdca26\"], [1.0, \"#f0f921\"]], \"type\": \"surface\"}], \"table\": [{\"cells\": {\"fill\": {\"color\": \"#EBF0F8\"}, \"line\": {\"color\": \"white\"}}, \"header\": {\"fill\": {\"color\": \"#C8D4E3\"}, \"line\": {\"color\": \"white\"}}, \"type\": \"table\"}]}, \"layout\": {\"annotationdefaults\": {\"arrowcolor\": \"#2a3f5f\", \"arrowhead\": 0, \"arrowwidth\": 1}, \"coloraxis\": {\"colorbar\": {\"outlinewidth\": 0, \"ticks\": \"\"}}, \"colorscale\": {\"diverging\": [[0, \"#8e0152\"], [0.1, \"#c51b7d\"], [0.2, \"#de77ae\"], [0.3, \"#f1b6da\"], [0.4, \"#fde0ef\"], [0.5, \"#f7f7f7\"], [0.6, \"#e6f5d0\"], [0.7, \"#b8e186\"], [0.8, \"#7fbc41\"], [0.9, \"#4d9221\"], [1, \"#276419\"]], \"sequential\": [[0.0, \"#0d0887\"], [0.1111111111111111, \"#46039f\"], [0.2222222222222222, \"#7201a8\"], [0.3333333333333333, \"#9c179e\"], [0.4444444444444444, \"#bd3786\"], [0.5555555555555556, \"#d8576b\"], [0.6666666666666666, \"#ed7953\"], [0.7777777777777778, \"#fb9f3a\"], [0.8888888888888888, \"#fdca26\"], [1.0, \"#f0f921\"]], \"sequentialminus\": [[0.0, \"#0d0887\"], [0.1111111111111111, \"#46039f\"], [0.2222222222222222, \"#7201a8\"], [0.3333333333333333, \"#9c179e\"], [0.4444444444444444, \"#bd3786\"], [0.5555555555555556, \"#d8576b\"], [0.6666666666666666, \"#ed7953\"], [0.7777777777777778, \"#fb9f3a\"], [0.8888888888888888, \"#fdca26\"], [1.0, \"#f0f921\"]]}, \"colorway\": [\"#636efa\", \"#EF553B\", \"#00cc96\", \"#ab63fa\", \"#FFA15A\", \"#19d3f3\", \"#FF6692\", \"#B6E880\", \"#FF97FF\", \"#FECB52\"], \"font\": {\"color\": \"#2a3f5f\"}, \"geo\": {\"bgcolor\": \"white\", \"lakecolor\": \"white\", \"landcolor\": \"#E5ECF6\", \"showlakes\": true, \"showland\": true, \"subunitcolor\": \"white\"}, \"hoverlabel\": {\"align\": \"left\"}, \"hovermode\": \"closest\", \"mapbox\": {\"style\": \"light\"}, \"paper_bgcolor\": \"white\", \"plot_bgcolor\": \"#E5ECF6\", \"polar\": {\"angularaxis\": {\"gridcolor\": \"white\", \"linecolor\": \"white\", \"ticks\": \"\"}, \"bgcolor\": \"#E5ECF6\", \"radialaxis\": {\"gridcolor\": \"white\", \"linecolor\": \"white\", \"ticks\": \"\"}}, \"scene\": {\"xaxis\": {\"backgroundcolor\": \"#E5ECF6\", \"gridcolor\": \"white\", \"gridwidth\": 2, \"linecolor\": \"white\", \"showbackground\": true, \"ticks\": \"\", \"zerolinecolor\": \"white\"}, \"yaxis\": {\"backgroundcolor\": \"#E5ECF6\", \"gridcolor\": \"white\", \"gridwidth\": 2, \"linecolor\": \"white\", \"showbackground\": true, \"ticks\": \"\", \"zerolinecolor\": \"white\"}, \"zaxis\": {\"backgroundcolor\": \"#E5ECF6\", \"gridcolor\": \"white\", \"gridwidth\": 2, \"linecolor\": \"white\", \"showbackground\": true, \"ticks\": \"\", \"zerolinecolor\": \"white\"}}, \"shapedefaults\": {\"line\": {\"color\": \"#2a3f5f\"}}, \"ternary\": {\"aaxis\": {\"gridcolor\": \"white\", \"linecolor\": \"white\", \"ticks\": \"\"}, \"baxis\": {\"gridcolor\": \"white\", \"linecolor\": \"white\", \"ticks\": \"\"}, \"bgcolor\": \"#E5ECF6\", \"caxis\": {\"gridcolor\": \"white\", \"linecolor\": \"white\", \"ticks\": \"\"}}, \"title\": {\"x\": 0.05}, \"xaxis\": {\"automargin\": true, \"gridcolor\": \"white\", \"linecolor\": \"white\", \"ticks\": \"\", \"title\": {\"standoff\": 15}, \"zerolinecolor\": \"white\", \"zerolinewidth\": 2}, \"yaxis\": {\"automargin\": true, \"gridcolor\": \"white\", \"linecolor\": \"white\", \"ticks\": \"\", \"title\": {\"standoff\": 15}, \"zerolinecolor\": \"white\", \"zerolinewidth\": 2}}}, \"width\": 980, \"xaxis\": {\"anchor\": \"y\", \"autorange\": false, \"domain\": [0.0, 1.0], \"range\": [0, 12], \"title\": {\"text\": \"<b>Lethality (% deaths/cases)</b>\"}, \"type\": \"linear\"}, \"yaxis\": {\"anchor\": \"x\", \"autorange\": false, \"domain\": [0.0, 1.0], \"range\": [0, 0.8], \"title\": {\"text\": \"<b>Contamination (% cases/population)</b>\"}, \"type\": \"linear\"}},\n",
       "                        {\"responsive\": true}\n",
       "                    ).then(function(){\n",
       "                            \n",
       "var gd = document.getElementById('680aad00-3efc-4535-a8ea-beee862743ce');\n",
       "var x = new MutationObserver(function (mutations, observer) {{\n",
       "        var display = window.getComputedStyle(gd).display;\n",
       "        if (!display || display === 'none') {{\n",
       "            console.log([gd, 'removed!']);\n",
       "            Plotly.purge(gd);\n",
       "            observer.disconnect();\n",
       "        }}\n",
       "}});\n",
       "\n",
       "// Listen for the removal of the full notebook cells\n",
       "var notebookContainer = gd.closest('#notebook-container');\n",
       "if (notebookContainer) {{\n",
       "    x.observe(notebookContainer, {childList: true});\n",
       "}}\n",
       "\n",
       "// Listen for the clearing of the current output cell\n",
       "var outputEl = gd.closest('.output');\n",
       "if (outputEl) {{\n",
       "    x.observe(outputEl, {childList: true});\n",
       "}}\n",
       "\n",
       "                        })\n",
       "                };\n",
       "                });\n",
       "            </script>\n",
       "        </div>"
      ]
     },
     "metadata": {},
     "output_type": "display_data"
    }
   ],
   "source": [
    "fig = px.scatter(normalCovid, x='lethality_pct', y='contamRate',\n",
    "                 size='deathRate', color='obitosAcumulado', text='estado',\n",
    "                 size_max=40, color_continuous_scale='Sunsetdark')\n",
    "\n",
    "fig.update_traces(textposition='middle center',\n",
    "                  textfont=dict(family=\"sans serif\",\n",
    "                                size=13))\n",
    "\n",
    "fig.update_layout(\n",
    "    ## Chart general set:\n",
    "    height=520,\n",
    "    width=980,\n",
    "    plot_bgcolor='rgb(245,245,245)',\n",
    "   # title_text='Relação entre número de casos e letalidade da COVID-19 no Brasil, por estado - 2020.05.22',\n",
    "    xaxis_title=\"<b>Lethality (% deaths/cases)</b>\",\n",
    "    yaxis_title=\"<b>Contamination (% cases/population)</b>\",\n",
    "    hovermode=False,  #Disable the hover information.\n",
    "    ## Axis ranges:\n",
    "    xaxis=dict(\n",
    "        autorange=False,\n",
    "        range=[0, 12],\n",
    "        type=\"linear\"\n",
    "    ),\n",
    "    yaxis=dict(\n",
    "        autorange=False,\n",
    "        range=[0, 0.8],\n",
    "        type=\"linear\"),\n",
    "    ## Adjusting the colorbar title:\n",
    "    coloraxis=dict(\n",
    "        colorbar=dict(\n",
    "            title=dict(\n",
    "                text='<b>Accumulated<br> deaths</b>'\n",
    "            )\n",
    "        )),\n",
    "    ## Vertical and horizontal lines\n",
    "    shapes=[\n",
    "        dict(\n",
    "          type= 'line',\n",
    "          yref= 'y', y0= 0, y1= 0.8,\n",
    "          xref= 'x', x0= 6, x1= 6,\n",
    "          line=dict(\n",
    "                color=\"gray\",\n",
    "                width=1,\n",
    "                dash=\"dashdot\",\n",
    "                )),\n",
    "        dict(\n",
    "          type= 'line',\n",
    "          yref= 'y', y0= 0.4, y1= 0.4,\n",
    "          xref= 'x', x0= 0, x1= 12,\n",
    "          line=dict(\n",
    "                color=\"gray\",\n",
    "                width=1,\n",
    "                dash=\"dashdot\",\n",
    "                ))\n",
    "        ],    \n",
    "    ## Points annotations:\n",
    "    annotations=[\n",
    "        go.layout.Annotation(\n",
    "            text='<b>Critical zone</b>',\n",
    "            align='center',\n",
    "            showarrow=False,\n",
    "            xref='paper',\n",
    "            yref='paper',\n",
    "            x=.98,\n",
    "            y=.99,\n",
    "            bordercolor='#708090',\n",
    "            borderwidth=2,\n",
    "            bgcolor='#E9967A',\n",
    "            font=dict(\n",
    "                color='DarkRed'),\n",
    "            width=110,\n",
    "            height=20),\n",
    "        go.layout.Annotation(\n",
    "            text='High lethality',\n",
    "            align='center',\n",
    "            showarrow=False,\n",
    "            xref='paper',\n",
    "            yref='paper',\n",
    "            x=.98,\n",
    "            y=.01,\n",
    "            bordercolor='#708090',\n",
    "            borderwidth=2,\n",
    "            bgcolor='#DCDCDC',\n",
    "            font=dict(\n",
    "                color='black'),\n",
    "            width=110,\n",
    "            height=20),\n",
    "        go.layout.Annotation(\n",
    "            text='High contamination',\n",
    "            align='center',\n",
    "            showarrow=False,\n",
    "            xref='paper',\n",
    "            yref='paper',\n",
    "            x=0,\n",
    "            y=.99,\n",
    "            bordercolor='#708090',\n",
    "            borderwidth=2,\n",
    "            bgcolor='#DCDCDC',\n",
    "            font=dict(\n",
    "                color='DarkRed'),\n",
    "            width=110,\n",
    "            height=20),\n",
    "        go.layout.Annotation(\n",
    "            text='Controlled zone',\n",
    "            align='center',\n",
    "            showarrow=False,\n",
    "            xref='paper',\n",
    "            yref='paper',\n",
    "            x=0,\n",
    "            y=.01,\n",
    "            bordercolor='#708090',\n",
    "            borderwidth=2,\n",
    "            bgcolor='#DCDCDC',\n",
    "            font=dict(\n",
    "                color='black'),\n",
    "            width=110,\n",
    "            height=20),\n",
    "    ]\n",
    ")\n",
    "\n",
    "fig.show()"
   ]
  },
  {
   "cell_type": "markdown",
   "metadata": {},
   "source": [
    "---------------------------"
   ]
  },
  {
   "cell_type": "markdown",
   "metadata": {},
   "source": [
    "### Four-Quadrant chart by date:"
   ]
  },
  {
   "cell_type": "code",
   "execution_count": 209,
   "metadata": {
    "scrolled": true
   },
   "outputs": [
    {
     "data": {
      "text/plain": [
       "Timestamp('2020-06-01 00:00:00')"
      ]
     },
     "execution_count": 209,
     "metadata": {},
     "output_type": "execute_result"
    }
   ],
   "source": [
    "## Getting the last date from data:\n",
    "lastDay = covidData2.data.max()\n",
    "lastDay"
   ]
  },
  {
   "cell_type": "code",
   "execution_count": 210,
   "metadata": {},
   "outputs": [],
   "source": [
    "covidLastDay = covidData2[(covidData2.data == lastDay) &\n",
    "                         (covidData2.estado.isna() == False) & \n",
    "                         (covidData2.municipio.isna() == True) &\n",
    "                         (covidData2.populacaoTCU2019.isna() == False)]"
   ]
  },
  {
   "cell_type": "code",
   "execution_count": 211,
   "metadata": {},
   "outputs": [],
   "source": [
    "covidLastDay = covidLastDay[['regiao','estado','data','populacaoTCU2019','casosAcumulado','obitosAcumulado']]"
   ]
  },
  {
   "cell_type": "code",
   "execution_count": 212,
   "metadata": {},
   "outputs": [],
   "source": [
    "def covidDB_byDate(covidDB, timestamp):\n",
    "    '''Create a COVID-19 subset from a pandas.Timestamp list.'''\n",
    "    ### Selecting data:\n",
    "    covidSelected = covidDB[(covidDB.data.isin(timestamp)) &\n",
    "                         (covidDB.estado.isna() == False) & \n",
    "                         (covidDB.municipio.isna() == True) &\n",
    "                         (covidDB.populacaoTCU2019.isna() == False)]\n",
    "    ### Normalizing data:\n",
    "    ## Contamination rate (pct covidSelected population)\n",
    "    covidSelected['contamRate'] = (covidSelected['casosAcumulado'] / covidSelected['populacaoTCU2019']) * 100.0\n",
    "    ## Lethality rate (pct of cases)\n",
    "    covidSelected['lethality_pct'] = (covidSelected['obitosAcumulado'] / covidSelected['casosAcumulado']) * 100.0\n",
    "    ## Death rate (pct of population)\n",
    "    covidSelected['deathRate'] = (covidSelected['obitosAcumulado'] / covidSelected['populacaoTCU2019']) * 100.0\n",
    "    \n",
    "    return covidSelected"
   ]
  },
  {
   "cell_type": "markdown",
   "metadata": {},
   "source": [
    "In the previous versions of this notebook, the procedure below was performed manually."
   ]
  },
  {
   "cell_type": "code",
   "execution_count": 215,
   "metadata": {},
   "outputs": [],
   "source": [
    "def covidDB_TimeStamps_dates(listofdates):\n",
    "    '''Create a list of pandas.Timestamp type instances, given an input list with dates in string format.'''\n",
    "    weekDates = []\n",
    "    for date in listofdates:\n",
    "        weekDates.append(pd.Timestamp(date))\n",
    "    return weekDates"
   ]
  },
  {
   "cell_type": "code",
   "execution_count": 237,
   "metadata": {},
   "outputs": [
    {
     "data": {
      "text/plain": [
       "[Timestamp('2020-05-25 00:00:00'), Timestamp('2020-06-01 00:00:00')]"
      ]
     },
     "execution_count": 237,
     "metadata": {},
     "output_type": "execute_result"
    }
   ],
   "source": [
    "weekDates = covidDB_TimeStamps_dates(['2020-05-25',lastDay])\n",
    "weekDates"
   ]
  },
  {
   "cell_type": "code",
   "execution_count": 238,
   "metadata": {},
   "outputs": [
    {
     "name": "stderr",
     "output_type": "stream",
     "text": [
      "/home/tbnsilveira/anaconda3/envs/analytics/lib/python3.7/site-packages/ipykernel_launcher.py:10: SettingWithCopyWarning:\n",
      "\n",
      "\n",
      "A value is trying to be set on a copy of a slice from a DataFrame.\n",
      "Try using .loc[row_indexer,col_indexer] = value instead\n",
      "\n",
      "See the caveats in the documentation: https://pandas.pydata.org/pandas-docs/stable/user_guide/indexing.html#returning-a-view-versus-a-copy\n",
      "\n",
      "/home/tbnsilveira/anaconda3/envs/analytics/lib/python3.7/site-packages/ipykernel_launcher.py:12: SettingWithCopyWarning:\n",
      "\n",
      "\n",
      "A value is trying to be set on a copy of a slice from a DataFrame.\n",
      "Try using .loc[row_indexer,col_indexer] = value instead\n",
      "\n",
      "See the caveats in the documentation: https://pandas.pydata.org/pandas-docs/stable/user_guide/indexing.html#returning-a-view-versus-a-copy\n",
      "\n",
      "/home/tbnsilveira/anaconda3/envs/analytics/lib/python3.7/site-packages/ipykernel_launcher.py:14: SettingWithCopyWarning:\n",
      "\n",
      "\n",
      "A value is trying to be set on a copy of a slice from a DataFrame.\n",
      "Try using .loc[row_indexer,col_indexer] = value instead\n",
      "\n",
      "See the caveats in the documentation: https://pandas.pydata.org/pandas-docs/stable/user_guide/indexing.html#returning-a-view-versus-a-copy\n",
      "\n"
     ]
    }
   ],
   "source": [
    "fourQuadData = covidDB_byDate(covidData2, weekDates)"
   ]
  },
  {
   "cell_type": "code",
   "execution_count": 239,
   "metadata": {
    "scrolled": true
   },
   "outputs": [
    {
     "data": {
      "text/html": [
       "<div>\n",
       "<style scoped>\n",
       "    .dataframe tbody tr th:only-of-type {\n",
       "        vertical-align: middle;\n",
       "    }\n",
       "\n",
       "    .dataframe tbody tr th {\n",
       "        vertical-align: top;\n",
       "    }\n",
       "\n",
       "    .dataframe thead th {\n",
       "        text-align: right;\n",
       "    }\n",
       "</style>\n",
       "<table border=\"1\" class=\"dataframe\">\n",
       "  <thead>\n",
       "    <tr style=\"text-align: right;\">\n",
       "      <th></th>\n",
       "      <th>regiao</th>\n",
       "      <th>estado</th>\n",
       "      <th>municipio</th>\n",
       "      <th>coduf</th>\n",
       "      <th>codmun</th>\n",
       "      <th>codRegiaoSaude</th>\n",
       "      <th>nomeRegiaoSaude</th>\n",
       "      <th>data</th>\n",
       "      <th>semanaEpi</th>\n",
       "      <th>populacaoTCU2019</th>\n",
       "      <th>casosAcumulado</th>\n",
       "      <th>casosNovos</th>\n",
       "      <th>obitosAcumulado</th>\n",
       "      <th>obitosNovos</th>\n",
       "      <th>Recuperadosnovos</th>\n",
       "      <th>emAcompanhamentoNovos</th>\n",
       "      <th>contamRate</th>\n",
       "      <th>lethality_pct</th>\n",
       "      <th>deathRate</th>\n",
       "    </tr>\n",
       "  </thead>\n",
       "  <tbody>\n",
       "    <tr>\n",
       "      <th>238</th>\n",
       "      <td>Norte</td>\n",
       "      <td>AC</td>\n",
       "      <td>NaN</td>\n",
       "      <td>12</td>\n",
       "      <td>NaN</td>\n",
       "      <td>NaN</td>\n",
       "      <td>NaN</td>\n",
       "      <td>2020-05-25</td>\n",
       "      <td>22</td>\n",
       "      <td>881935.0</td>\n",
       "      <td>4501</td>\n",
       "      <td>341</td>\n",
       "      <td>97</td>\n",
       "      <td>5</td>\n",
       "      <td>NaN</td>\n",
       "      <td>NaN</td>\n",
       "      <td>0.510355</td>\n",
       "      <td>2.155077</td>\n",
       "      <td>0.010999</td>\n",
       "    </tr>\n",
       "    <tr>\n",
       "      <th>245</th>\n",
       "      <td>Norte</td>\n",
       "      <td>AC</td>\n",
       "      <td>NaN</td>\n",
       "      <td>12</td>\n",
       "      <td>NaN</td>\n",
       "      <td>NaN</td>\n",
       "      <td>NaN</td>\n",
       "      <td>2020-06-01</td>\n",
       "      <td>23</td>\n",
       "      <td>881935.0</td>\n",
       "      <td>6326</td>\n",
       "      <td>107</td>\n",
       "      <td>161</td>\n",
       "      <td>13</td>\n",
       "      <td>NaN</td>\n",
       "      <td>NaN</td>\n",
       "      <td>0.717286</td>\n",
       "      <td>2.545052</td>\n",
       "      <td>0.018255</td>\n",
       "    </tr>\n",
       "    <tr>\n",
       "      <th>1161</th>\n",
       "      <td>Nordeste</td>\n",
       "      <td>AL</td>\n",
       "      <td>NaN</td>\n",
       "      <td>27</td>\n",
       "      <td>NaN</td>\n",
       "      <td>NaN</td>\n",
       "      <td>NaN</td>\n",
       "      <td>2020-05-25</td>\n",
       "      <td>22</td>\n",
       "      <td>3337357.0</td>\n",
       "      <td>6682</td>\n",
       "      <td>468</td>\n",
       "      <td>337</td>\n",
       "      <td>21</td>\n",
       "      <td>NaN</td>\n",
       "      <td>NaN</td>\n",
       "      <td>0.200218</td>\n",
       "      <td>5.043400</td>\n",
       "      <td>0.010098</td>\n",
       "    </tr>\n",
       "    <tr>\n",
       "      <th>1168</th>\n",
       "      <td>Nordeste</td>\n",
       "      <td>AL</td>\n",
       "      <td>NaN</td>\n",
       "      <td>27</td>\n",
       "      <td>NaN</td>\n",
       "      <td>NaN</td>\n",
       "      <td>NaN</td>\n",
       "      <td>2020-06-01</td>\n",
       "      <td>23</td>\n",
       "      <td>3337357.0</td>\n",
       "      <td>10837</td>\n",
       "      <td>549</td>\n",
       "      <td>461</td>\n",
       "      <td>18</td>\n",
       "      <td>NaN</td>\n",
       "      <td>NaN</td>\n",
       "      <td>0.324718</td>\n",
       "      <td>4.253945</td>\n",
       "      <td>0.013813</td>\n",
       "    </tr>\n",
       "    <tr>\n",
       "      <th>317</th>\n",
       "      <td>Norte</td>\n",
       "      <td>AM</td>\n",
       "      <td>NaN</td>\n",
       "      <td>13</td>\n",
       "      <td>NaN</td>\n",
       "      <td>NaN</td>\n",
       "      <td>NaN</td>\n",
       "      <td>2020-05-25</td>\n",
       "      <td>22</td>\n",
       "      <td>4144597.0</td>\n",
       "      <td>30282</td>\n",
       "      <td>415</td>\n",
       "      <td>1781</td>\n",
       "      <td>23</td>\n",
       "      <td>NaN</td>\n",
       "      <td>NaN</td>\n",
       "      <td>0.730638</td>\n",
       "      <td>5.881382</td>\n",
       "      <td>0.042972</td>\n",
       "    </tr>\n",
       "    <tr>\n",
       "      <th>324</th>\n",
       "      <td>Norte</td>\n",
       "      <td>AM</td>\n",
       "      <td>NaN</td>\n",
       "      <td>13</td>\n",
       "      <td>NaN</td>\n",
       "      <td>NaN</td>\n",
       "      <td>NaN</td>\n",
       "      <td>2020-06-01</td>\n",
       "      <td>23</td>\n",
       "      <td>4144597.0</td>\n",
       "      <td>41774</td>\n",
       "      <td>396</td>\n",
       "      <td>2071</td>\n",
       "      <td>19</td>\n",
       "      <td>NaN</td>\n",
       "      <td>NaN</td>\n",
       "      <td>1.007915</td>\n",
       "      <td>4.957629</td>\n",
       "      <td>0.049969</td>\n",
       "    </tr>\n",
       "    <tr>\n",
       "      <th>538</th>\n",
       "      <td>Norte</td>\n",
       "      <td>AP</td>\n",
       "      <td>NaN</td>\n",
       "      <td>16</td>\n",
       "      <td>NaN</td>\n",
       "      <td>NaN</td>\n",
       "      <td>NaN</td>\n",
       "      <td>2020-05-25</td>\n",
       "      <td>22</td>\n",
       "      <td>845731.0</td>\n",
       "      <td>6584</td>\n",
       "      <td>231</td>\n",
       "      <td>168</td>\n",
       "      <td>5</td>\n",
       "      <td>NaN</td>\n",
       "      <td>NaN</td>\n",
       "      <td>0.778498</td>\n",
       "      <td>2.551640</td>\n",
       "      <td>0.019864</td>\n",
       "    </tr>\n",
       "    <tr>\n",
       "      <th>545</th>\n",
       "      <td>Norte</td>\n",
       "      <td>AP</td>\n",
       "      <td>NaN</td>\n",
       "      <td>16</td>\n",
       "      <td>NaN</td>\n",
       "      <td>NaN</td>\n",
       "      <td>NaN</td>\n",
       "      <td>2020-06-01</td>\n",
       "      <td>23</td>\n",
       "      <td>845731.0</td>\n",
       "      <td>9890</td>\n",
       "      <td>288</td>\n",
       "      <td>228</td>\n",
       "      <td>6</td>\n",
       "      <td>NaN</td>\n",
       "      <td>NaN</td>\n",
       "      <td>1.169403</td>\n",
       "      <td>2.305359</td>\n",
       "      <td>0.026959</td>\n",
       "    </tr>\n",
       "    <tr>\n",
       "      <th>1335</th>\n",
       "      <td>Nordeste</td>\n",
       "      <td>BA</td>\n",
       "      <td>NaN</td>\n",
       "      <td>29</td>\n",
       "      <td>NaN</td>\n",
       "      <td>NaN</td>\n",
       "      <td>NaN</td>\n",
       "      <td>2020-06-01</td>\n",
       "      <td>23</td>\n",
       "      <td>14873064.0</td>\n",
       "      <td>18898</td>\n",
       "      <td>506</td>\n",
       "      <td>701</td>\n",
       "      <td>34</td>\n",
       "      <td>NaN</td>\n",
       "      <td>NaN</td>\n",
       "      <td>0.127062</td>\n",
       "      <td>3.709387</td>\n",
       "      <td>0.004713</td>\n",
       "    </tr>\n",
       "    <tr>\n",
       "      <th>1328</th>\n",
       "      <td>Nordeste</td>\n",
       "      <td>BA</td>\n",
       "      <td>NaN</td>\n",
       "      <td>29</td>\n",
       "      <td>NaN</td>\n",
       "      <td>NaN</td>\n",
       "      <td>NaN</td>\n",
       "      <td>2020-05-25</td>\n",
       "      <td>22</td>\n",
       "      <td>14873064.0</td>\n",
       "      <td>14204</td>\n",
       "      <td>305</td>\n",
       "      <td>477</td>\n",
       "      <td>17</td>\n",
       "      <td>NaN</td>\n",
       "      <td>NaN</td>\n",
       "      <td>0.095502</td>\n",
       "      <td>3.358209</td>\n",
       "      <td>0.003207</td>\n",
       "    </tr>\n",
       "    <tr>\n",
       "      <th>844</th>\n",
       "      <td>Nordeste</td>\n",
       "      <td>CE</td>\n",
       "      <td>NaN</td>\n",
       "      <td>23</td>\n",
       "      <td>NaN</td>\n",
       "      <td>NaN</td>\n",
       "      <td>NaN</td>\n",
       "      <td>2020-06-01</td>\n",
       "      <td>23</td>\n",
       "      <td>9132078.0</td>\n",
       "      <td>50504</td>\n",
       "      <td>2015</td>\n",
       "      <td>3188</td>\n",
       "      <td>178</td>\n",
       "      <td>NaN</td>\n",
       "      <td>NaN</td>\n",
       "      <td>0.553040</td>\n",
       "      <td>6.312371</td>\n",
       "      <td>0.034910</td>\n",
       "    </tr>\n",
       "    <tr>\n",
       "      <th>837</th>\n",
       "      <td>Nordeste</td>\n",
       "      <td>CE</td>\n",
       "      <td>NaN</td>\n",
       "      <td>23</td>\n",
       "      <td>NaN</td>\n",
       "      <td>NaN</td>\n",
       "      <td>NaN</td>\n",
       "      <td>2020-05-25</td>\n",
       "      <td>22</td>\n",
       "      <td>9132078.0</td>\n",
       "      <td>36185</td>\n",
       "      <td>590</td>\n",
       "      <td>2493</td>\n",
       "      <td>169</td>\n",
       "      <td>NaN</td>\n",
       "      <td>NaN</td>\n",
       "      <td>0.396241</td>\n",
       "      <td>6.889595</td>\n",
       "      <td>0.027299</td>\n",
       "    </tr>\n",
       "    <tr>\n",
       "      <th>2255</th>\n",
       "      <td>Centro-Oeste</td>\n",
       "      <td>DF</td>\n",
       "      <td>NaN</td>\n",
       "      <td>53</td>\n",
       "      <td>NaN</td>\n",
       "      <td>NaN</td>\n",
       "      <td>NaN</td>\n",
       "      <td>2020-05-25</td>\n",
       "      <td>22</td>\n",
       "      <td>3015268.0</td>\n",
       "      <td>6930</td>\n",
       "      <td>292</td>\n",
       "      <td>114</td>\n",
       "      <td>10</td>\n",
       "      <td>NaN</td>\n",
       "      <td>NaN</td>\n",
       "      <td>0.229830</td>\n",
       "      <td>1.645022</td>\n",
       "      <td>0.003781</td>\n",
       "    </tr>\n",
       "    <tr>\n",
       "      <th>2262</th>\n",
       "      <td>Centro-Oeste</td>\n",
       "      <td>DF</td>\n",
       "      <td>NaN</td>\n",
       "      <td>53</td>\n",
       "      <td>NaN</td>\n",
       "      <td>NaN</td>\n",
       "      <td>NaN</td>\n",
       "      <td>2020-06-01</td>\n",
       "      <td>23</td>\n",
       "      <td>3015268.0</td>\n",
       "      <td>10510</td>\n",
       "      <td>730</td>\n",
       "      <td>171</td>\n",
       "      <td>1</td>\n",
       "      <td>NaN</td>\n",
       "      <td>NaN</td>\n",
       "      <td>0.348559</td>\n",
       "      <td>1.627022</td>\n",
       "      <td>0.005671</td>\n",
       "    </tr>\n",
       "    <tr>\n",
       "      <th>1509</th>\n",
       "      <td>Sudeste</td>\n",
       "      <td>ES</td>\n",
       "      <td>NaN</td>\n",
       "      <td>32</td>\n",
       "      <td>NaN</td>\n",
       "      <td>NaN</td>\n",
       "      <td>NaN</td>\n",
       "      <td>2020-06-01</td>\n",
       "      <td>23</td>\n",
       "      <td>4018650.0</td>\n",
       "      <td>14069</td>\n",
       "      <td>379</td>\n",
       "      <td>614</td>\n",
       "      <td>10</td>\n",
       "      <td>NaN</td>\n",
       "      <td>NaN</td>\n",
       "      <td>0.350093</td>\n",
       "      <td>4.364205</td>\n",
       "      <td>0.015279</td>\n",
       "    </tr>\n",
       "    <tr>\n",
       "      <th>1502</th>\n",
       "      <td>Sudeste</td>\n",
       "      <td>ES</td>\n",
       "      <td>NaN</td>\n",
       "      <td>32</td>\n",
       "      <td>NaN</td>\n",
       "      <td>NaN</td>\n",
       "      <td>NaN</td>\n",
       "      <td>2020-05-25</td>\n",
       "      <td>22</td>\n",
       "      <td>4018650.0</td>\n",
       "      <td>10365</td>\n",
       "      <td>358</td>\n",
       "      <td>465</td>\n",
       "      <td>19</td>\n",
       "      <td>NaN</td>\n",
       "      <td>NaN</td>\n",
       "      <td>0.257922</td>\n",
       "      <td>4.486252</td>\n",
       "      <td>0.011571</td>\n",
       "    </tr>\n",
       "    <tr>\n",
       "      <th>2175</th>\n",
       "      <td>Centro-Oeste</td>\n",
       "      <td>GO</td>\n",
       "      <td>NaN</td>\n",
       "      <td>52</td>\n",
       "      <td>NaN</td>\n",
       "      <td>NaN</td>\n",
       "      <td>NaN</td>\n",
       "      <td>2020-06-01</td>\n",
       "      <td>23</td>\n",
       "      <td>7018354.0</td>\n",
       "      <td>3906</td>\n",
       "      <td>204</td>\n",
       "      <td>127</td>\n",
       "      <td>3</td>\n",
       "      <td>NaN</td>\n",
       "      <td>NaN</td>\n",
       "      <td>0.055654</td>\n",
       "      <td>3.251408</td>\n",
       "      <td>0.001810</td>\n",
       "    </tr>\n",
       "    <tr>\n",
       "      <th>2168</th>\n",
       "      <td>Centro-Oeste</td>\n",
       "      <td>GO</td>\n",
       "      <td>NaN</td>\n",
       "      <td>52</td>\n",
       "      <td>NaN</td>\n",
       "      <td>NaN</td>\n",
       "      <td>NaN</td>\n",
       "      <td>2020-05-25</td>\n",
       "      <td>22</td>\n",
       "      <td>7018354.0</td>\n",
       "      <td>2512</td>\n",
       "      <td>69</td>\n",
       "      <td>96</td>\n",
       "      <td>1</td>\n",
       "      <td>NaN</td>\n",
       "      <td>NaN</td>\n",
       "      <td>0.035792</td>\n",
       "      <td>3.821656</td>\n",
       "      <td>0.001368</td>\n",
       "    </tr>\n",
       "    <tr>\n",
       "      <th>686</th>\n",
       "      <td>Nordeste</td>\n",
       "      <td>MA</td>\n",
       "      <td>NaN</td>\n",
       "      <td>21</td>\n",
       "      <td>NaN</td>\n",
       "      <td>NaN</td>\n",
       "      <td>NaN</td>\n",
       "      <td>2020-05-25</td>\n",
       "      <td>22</td>\n",
       "      <td>7075181.0</td>\n",
       "      <td>22786</td>\n",
       "      <td>1595</td>\n",
       "      <td>784</td>\n",
       "      <td>30</td>\n",
       "      <td>NaN</td>\n",
       "      <td>NaN</td>\n",
       "      <td>0.322055</td>\n",
       "      <td>3.440709</td>\n",
       "      <td>0.011081</td>\n",
       "    </tr>\n",
       "    <tr>\n",
       "      <th>693</th>\n",
       "      <td>Nordeste</td>\n",
       "      <td>MA</td>\n",
       "      <td>NaN</td>\n",
       "      <td>21</td>\n",
       "      <td>NaN</td>\n",
       "      <td>NaN</td>\n",
       "      <td>NaN</td>\n",
       "      <td>2020-06-01</td>\n",
       "      <td>23</td>\n",
       "      <td>7075181.0</td>\n",
       "      <td>35297</td>\n",
       "      <td>658</td>\n",
       "      <td>976</td>\n",
       "      <td>21</td>\n",
       "      <td>NaN</td>\n",
       "      <td>NaN</td>\n",
       "      <td>0.498885</td>\n",
       "      <td>2.765108</td>\n",
       "      <td>0.013795</td>\n",
       "    </tr>\n",
       "    <tr>\n",
       "      <th>1414</th>\n",
       "      <td>Sudeste</td>\n",
       "      <td>MG</td>\n",
       "      <td>NaN</td>\n",
       "      <td>31</td>\n",
       "      <td>NaN</td>\n",
       "      <td>NaN</td>\n",
       "      <td>NaN</td>\n",
       "      <td>2020-05-25</td>\n",
       "      <td>22</td>\n",
       "      <td>21168791.0</td>\n",
       "      <td>6962</td>\n",
       "      <td>294</td>\n",
       "      <td>230</td>\n",
       "      <td>4</td>\n",
       "      <td>NaN</td>\n",
       "      <td>NaN</td>\n",
       "      <td>0.032888</td>\n",
       "      <td>3.303648</td>\n",
       "      <td>0.001087</td>\n",
       "    </tr>\n",
       "    <tr>\n",
       "      <th>1421</th>\n",
       "      <td>Sudeste</td>\n",
       "      <td>MG</td>\n",
       "      <td>NaN</td>\n",
       "      <td>31</td>\n",
       "      <td>NaN</td>\n",
       "      <td>NaN</td>\n",
       "      <td>NaN</td>\n",
       "      <td>2020-06-01</td>\n",
       "      <td>23</td>\n",
       "      <td>21168791.0</td>\n",
       "      <td>10670</td>\n",
       "      <td>206</td>\n",
       "      <td>278</td>\n",
       "      <td>7</td>\n",
       "      <td>NaN</td>\n",
       "      <td>NaN</td>\n",
       "      <td>0.050404</td>\n",
       "      <td>2.605436</td>\n",
       "      <td>0.001313</td>\n",
       "    </tr>\n",
       "    <tr>\n",
       "      <th>2020</th>\n",
       "      <td>Centro-Oeste</td>\n",
       "      <td>MS</td>\n",
       "      <td>NaN</td>\n",
       "      <td>50</td>\n",
       "      <td>NaN</td>\n",
       "      <td>NaN</td>\n",
       "      <td>NaN</td>\n",
       "      <td>2020-06-01</td>\n",
       "      <td>23</td>\n",
       "      <td>2778986.0</td>\n",
       "      <td>1568</td>\n",
       "      <td>79</td>\n",
       "      <td>20</td>\n",
       "      <td>0</td>\n",
       "      <td>NaN</td>\n",
       "      <td>NaN</td>\n",
       "      <td>0.056423</td>\n",
       "      <td>1.275510</td>\n",
       "      <td>0.000720</td>\n",
       "    </tr>\n",
       "    <tr>\n",
       "      <th>2013</th>\n",
       "      <td>Centro-Oeste</td>\n",
       "      <td>MS</td>\n",
       "      <td>NaN</td>\n",
       "      <td>50</td>\n",
       "      <td>NaN</td>\n",
       "      <td>NaN</td>\n",
       "      <td>NaN</td>\n",
       "      <td>2020-05-25</td>\n",
       "      <td>22</td>\n",
       "      <td>2778986.0</td>\n",
       "      <td>1023</td>\n",
       "      <td>99</td>\n",
       "      <td>17</td>\n",
       "      <td>0</td>\n",
       "      <td>NaN</td>\n",
       "      <td>NaN</td>\n",
       "      <td>0.036812</td>\n",
       "      <td>1.661779</td>\n",
       "      <td>0.000612</td>\n",
       "    </tr>\n",
       "    <tr>\n",
       "      <th>2094</th>\n",
       "      <td>Centro-Oeste</td>\n",
       "      <td>MT</td>\n",
       "      <td>NaN</td>\n",
       "      <td>51</td>\n",
       "      <td>NaN</td>\n",
       "      <td>NaN</td>\n",
       "      <td>NaN</td>\n",
       "      <td>2020-06-01</td>\n",
       "      <td>23</td>\n",
       "      <td>3484466.0</td>\n",
       "      <td>2541</td>\n",
       "      <td>112</td>\n",
       "      <td>66</td>\n",
       "      <td>5</td>\n",
       "      <td>NaN</td>\n",
       "      <td>NaN</td>\n",
       "      <td>0.072924</td>\n",
       "      <td>2.597403</td>\n",
       "      <td>0.001894</td>\n",
       "    </tr>\n",
       "    <tr>\n",
       "      <th>2087</th>\n",
       "      <td>Centro-Oeste</td>\n",
       "      <td>MT</td>\n",
       "      <td>NaN</td>\n",
       "      <td>51</td>\n",
       "      <td>NaN</td>\n",
       "      <td>NaN</td>\n",
       "      <td>NaN</td>\n",
       "      <td>2020-05-25</td>\n",
       "      <td>22</td>\n",
       "      <td>3484466.0</td>\n",
       "      <td>1500</td>\n",
       "      <td>38</td>\n",
       "      <td>41</td>\n",
       "      <td>1</td>\n",
       "      <td>NaN</td>\n",
       "      <td>NaN</td>\n",
       "      <td>0.043048</td>\n",
       "      <td>2.733333</td>\n",
       "      <td>0.001177</td>\n",
       "    </tr>\n",
       "    <tr>\n",
       "      <th>464</th>\n",
       "      <td>Norte</td>\n",
       "      <td>PA</td>\n",
       "      <td>NaN</td>\n",
       "      <td>15</td>\n",
       "      <td>NaN</td>\n",
       "      <td>NaN</td>\n",
       "      <td>NaN</td>\n",
       "      <td>2020-05-25</td>\n",
       "      <td>22</td>\n",
       "      <td>8602865.0</td>\n",
       "      <td>26077</td>\n",
       "      <td>1952</td>\n",
       "      <td>2372</td>\n",
       "      <td>224</td>\n",
       "      <td>NaN</td>\n",
       "      <td>NaN</td>\n",
       "      <td>0.303120</td>\n",
       "      <td>9.096138</td>\n",
       "      <td>0.027572</td>\n",
       "    </tr>\n",
       "    <tr>\n",
       "      <th>471</th>\n",
       "      <td>Norte</td>\n",
       "      <td>PA</td>\n",
       "      <td>NaN</td>\n",
       "      <td>15</td>\n",
       "      <td>NaN</td>\n",
       "      <td>NaN</td>\n",
       "      <td>NaN</td>\n",
       "      <td>2020-06-01</td>\n",
       "      <td>23</td>\n",
       "      <td>8602865.0</td>\n",
       "      <td>38046</td>\n",
       "      <td>85</td>\n",
       "      <td>2925</td>\n",
       "      <td>2</td>\n",
       "      <td>NaN</td>\n",
       "      <td>NaN</td>\n",
       "      <td>0.442248</td>\n",
       "      <td>7.688062</td>\n",
       "      <td>0.034000</td>\n",
       "    </tr>\n",
       "    <tr>\n",
       "      <th>993</th>\n",
       "      <td>Nordeste</td>\n",
       "      <td>PB</td>\n",
       "      <td>NaN</td>\n",
       "      <td>25</td>\n",
       "      <td>NaN</td>\n",
       "      <td>NaN</td>\n",
       "      <td>NaN</td>\n",
       "      <td>2020-05-25</td>\n",
       "      <td>22</td>\n",
       "      <td>4018127.0</td>\n",
       "      <td>8016</td>\n",
       "      <td>193</td>\n",
       "      <td>279</td>\n",
       "      <td>7</td>\n",
       "      <td>NaN</td>\n",
       "      <td>NaN</td>\n",
       "      <td>0.199496</td>\n",
       "      <td>3.480539</td>\n",
       "      <td>0.006944</td>\n",
       "    </tr>\n",
       "    <tr>\n",
       "      <th>1000</th>\n",
       "      <td>Nordeste</td>\n",
       "      <td>PB</td>\n",
       "      <td>NaN</td>\n",
       "      <td>25</td>\n",
       "      <td>NaN</td>\n",
       "      <td>NaN</td>\n",
       "      <td>NaN</td>\n",
       "      <td>2020-06-01</td>\n",
       "      <td>23</td>\n",
       "      <td>4018127.0</td>\n",
       "      <td>13695</td>\n",
       "      <td>533</td>\n",
       "      <td>370</td>\n",
       "      <td>10</td>\n",
       "      <td>NaN</td>\n",
       "      <td>NaN</td>\n",
       "      <td>0.340830</td>\n",
       "      <td>2.701716</td>\n",
       "      <td>0.009208</td>\n",
       "    </tr>\n",
       "    <tr>\n",
       "      <th>1075</th>\n",
       "      <td>Nordeste</td>\n",
       "      <td>PE</td>\n",
       "      <td>NaN</td>\n",
       "      <td>26</td>\n",
       "      <td>NaN</td>\n",
       "      <td>NaN</td>\n",
       "      <td>NaN</td>\n",
       "      <td>2020-05-25</td>\n",
       "      <td>22</td>\n",
       "      <td>9557071.0</td>\n",
       "      <td>28366</td>\n",
       "      <td>607</td>\n",
       "      <td>2248</td>\n",
       "      <td>48</td>\n",
       "      <td>NaN</td>\n",
       "      <td>NaN</td>\n",
       "      <td>0.296806</td>\n",
       "      <td>7.924981</td>\n",
       "      <td>0.023522</td>\n",
       "    </tr>\n",
       "    <tr>\n",
       "      <th>1082</th>\n",
       "      <td>Nordeste</td>\n",
       "      <td>PE</td>\n",
       "      <td>NaN</td>\n",
       "      <td>26</td>\n",
       "      <td>NaN</td>\n",
       "      <td>NaN</td>\n",
       "      <td>NaN</td>\n",
       "      <td>2020-06-01</td>\n",
       "      <td>23</td>\n",
       "      <td>9557071.0</td>\n",
       "      <td>34900</td>\n",
       "      <td>450</td>\n",
       "      <td>2875</td>\n",
       "      <td>68</td>\n",
       "      <td>NaN</td>\n",
       "      <td>NaN</td>\n",
       "      <td>0.365175</td>\n",
       "      <td>8.237822</td>\n",
       "      <td>0.030082</td>\n",
       "    </tr>\n",
       "    <tr>\n",
       "      <th>760</th>\n",
       "      <td>Nordeste</td>\n",
       "      <td>PI</td>\n",
       "      <td>NaN</td>\n",
       "      <td>22</td>\n",
       "      <td>NaN</td>\n",
       "      <td>NaN</td>\n",
       "      <td>NaN</td>\n",
       "      <td>2020-05-25</td>\n",
       "      <td>22</td>\n",
       "      <td>3273227.0</td>\n",
       "      <td>3550</td>\n",
       "      <td>160</td>\n",
       "      <td>110</td>\n",
       "      <td>3</td>\n",
       "      <td>NaN</td>\n",
       "      <td>NaN</td>\n",
       "      <td>0.108456</td>\n",
       "      <td>3.098592</td>\n",
       "      <td>0.003361</td>\n",
       "    </tr>\n",
       "    <tr>\n",
       "      <th>767</th>\n",
       "      <td>Nordeste</td>\n",
       "      <td>PI</td>\n",
       "      <td>NaN</td>\n",
       "      <td>22</td>\n",
       "      <td>NaN</td>\n",
       "      <td>NaN</td>\n",
       "      <td>NaN</td>\n",
       "      <td>2020-06-01</td>\n",
       "      <td>23</td>\n",
       "      <td>3273227.0</td>\n",
       "      <td>5119</td>\n",
       "      <td>188</td>\n",
       "      <td>168</td>\n",
       "      <td>7</td>\n",
       "      <td>NaN</td>\n",
       "      <td>NaN</td>\n",
       "      <td>0.156390</td>\n",
       "      <td>3.281891</td>\n",
       "      <td>0.005133</td>\n",
       "    </tr>\n",
       "    <tr>\n",
       "      <th>1777</th>\n",
       "      <td>Sul</td>\n",
       "      <td>PR</td>\n",
       "      <td>NaN</td>\n",
       "      <td>41</td>\n",
       "      <td>NaN</td>\n",
       "      <td>NaN</td>\n",
       "      <td>NaN</td>\n",
       "      <td>2020-06-01</td>\n",
       "      <td>23</td>\n",
       "      <td>11433957.0</td>\n",
       "      <td>4835</td>\n",
       "      <td>148</td>\n",
       "      <td>190</td>\n",
       "      <td>8</td>\n",
       "      <td>NaN</td>\n",
       "      <td>NaN</td>\n",
       "      <td>0.042286</td>\n",
       "      <td>3.929679</td>\n",
       "      <td>0.001662</td>\n",
       "    </tr>\n",
       "    <tr>\n",
       "      <th>1770</th>\n",
       "      <td>Sul</td>\n",
       "      <td>PR</td>\n",
       "      <td>NaN</td>\n",
       "      <td>41</td>\n",
       "      <td>NaN</td>\n",
       "      <td>NaN</td>\n",
       "      <td>NaN</td>\n",
       "      <td>2020-05-25</td>\n",
       "      <td>22</td>\n",
       "      <td>11433957.0</td>\n",
       "      <td>3331</td>\n",
       "      <td>119</td>\n",
       "      <td>156</td>\n",
       "      <td>3</td>\n",
       "      <td>NaN</td>\n",
       "      <td>NaN</td>\n",
       "      <td>0.029133</td>\n",
       "      <td>4.683278</td>\n",
       "      <td>0.001364</td>\n",
       "    </tr>\n",
       "    <tr>\n",
       "      <th>1598</th>\n",
       "      <td>Sudeste</td>\n",
       "      <td>RJ</td>\n",
       "      <td>NaN</td>\n",
       "      <td>33</td>\n",
       "      <td>NaN</td>\n",
       "      <td>NaN</td>\n",
       "      <td>NaN</td>\n",
       "      <td>2020-06-01</td>\n",
       "      <td>23</td>\n",
       "      <td>17264943.0</td>\n",
       "      <td>54530</td>\n",
       "      <td>1142</td>\n",
       "      <td>5462</td>\n",
       "      <td>118</td>\n",
       "      <td>NaN</td>\n",
       "      <td>NaN</td>\n",
       "      <td>0.315842</td>\n",
       "      <td>10.016505</td>\n",
       "      <td>0.031636</td>\n",
       "    </tr>\n",
       "    <tr>\n",
       "      <th>1591</th>\n",
       "      <td>Sudeste</td>\n",
       "      <td>RJ</td>\n",
       "      <td>NaN</td>\n",
       "      <td>33</td>\n",
       "      <td>NaN</td>\n",
       "      <td>NaN</td>\n",
       "      <td>NaN</td>\n",
       "      <td>2020-05-25</td>\n",
       "      <td>22</td>\n",
       "      <td>17264943.0</td>\n",
       "      <td>39298</td>\n",
       "      <td>1386</td>\n",
       "      <td>4105</td>\n",
       "      <td>112</td>\n",
       "      <td>NaN</td>\n",
       "      <td>NaN</td>\n",
       "      <td>0.227617</td>\n",
       "      <td>10.445824</td>\n",
       "      <td>0.023777</td>\n",
       "    </tr>\n",
       "    <tr>\n",
       "      <th>925</th>\n",
       "      <td>Nordeste</td>\n",
       "      <td>RN</td>\n",
       "      <td>NaN</td>\n",
       "      <td>24</td>\n",
       "      <td>NaN</td>\n",
       "      <td>NaN</td>\n",
       "      <td>NaN</td>\n",
       "      <td>2020-06-01</td>\n",
       "      <td>23</td>\n",
       "      <td>3506853.0</td>\n",
       "      <td>7964</td>\n",
       "      <td>562</td>\n",
       "      <td>323</td>\n",
       "      <td>18</td>\n",
       "      <td>NaN</td>\n",
       "      <td>NaN</td>\n",
       "      <td>0.227098</td>\n",
       "      <td>4.055751</td>\n",
       "      <td>0.009211</td>\n",
       "    </tr>\n",
       "    <tr>\n",
       "      <th>918</th>\n",
       "      <td>Nordeste</td>\n",
       "      <td>RN</td>\n",
       "      <td>NaN</td>\n",
       "      <td>24</td>\n",
       "      <td>NaN</td>\n",
       "      <td>NaN</td>\n",
       "      <td>NaN</td>\n",
       "      <td>2020-05-25</td>\n",
       "      <td>22</td>\n",
       "      <td>3506853.0</td>\n",
       "      <td>4759</td>\n",
       "      <td>62</td>\n",
       "      <td>209</td>\n",
       "      <td>9</td>\n",
       "      <td>NaN</td>\n",
       "      <td>NaN</td>\n",
       "      <td>0.135706</td>\n",
       "      <td>4.391679</td>\n",
       "      <td>0.005960</td>\n",
       "    </tr>\n",
       "    <tr>\n",
       "      <th>170</th>\n",
       "      <td>Norte</td>\n",
       "      <td>RO</td>\n",
       "      <td>NaN</td>\n",
       "      <td>11</td>\n",
       "      <td>NaN</td>\n",
       "      <td>NaN</td>\n",
       "      <td>NaN</td>\n",
       "      <td>2020-06-01</td>\n",
       "      <td>23</td>\n",
       "      <td>1777225.0</td>\n",
       "      <td>5172</td>\n",
       "      <td>230</td>\n",
       "      <td>159</td>\n",
       "      <td>3</td>\n",
       "      <td>NaN</td>\n",
       "      <td>NaN</td>\n",
       "      <td>0.291015</td>\n",
       "      <td>3.074246</td>\n",
       "      <td>0.008947</td>\n",
       "    </tr>\n",
       "    <tr>\n",
       "      <th>163</th>\n",
       "      <td>Norte</td>\n",
       "      <td>RO</td>\n",
       "      <td>NaN</td>\n",
       "      <td>11</td>\n",
       "      <td>NaN</td>\n",
       "      <td>NaN</td>\n",
       "      <td>NaN</td>\n",
       "      <td>2020-05-25</td>\n",
       "      <td>22</td>\n",
       "      <td>1777225.0</td>\n",
       "      <td>3268</td>\n",
       "      <td>67</td>\n",
       "      <td>121</td>\n",
       "      <td>0</td>\n",
       "      <td>NaN</td>\n",
       "      <td>NaN</td>\n",
       "      <td>0.183882</td>\n",
       "      <td>3.702570</td>\n",
       "      <td>0.006808</td>\n",
       "    </tr>\n",
       "    <tr>\n",
       "      <th>389</th>\n",
       "      <td>Norte</td>\n",
       "      <td>RR</td>\n",
       "      <td>NaN</td>\n",
       "      <td>14</td>\n",
       "      <td>NaN</td>\n",
       "      <td>NaN</td>\n",
       "      <td>NaN</td>\n",
       "      <td>2020-05-25</td>\n",
       "      <td>22</td>\n",
       "      <td>605761.0</td>\n",
       "      <td>2514</td>\n",
       "      <td>75</td>\n",
       "      <td>86</td>\n",
       "      <td>2</td>\n",
       "      <td>NaN</td>\n",
       "      <td>NaN</td>\n",
       "      <td>0.415015</td>\n",
       "      <td>3.420843</td>\n",
       "      <td>0.014197</td>\n",
       "    </tr>\n",
       "    <tr>\n",
       "      <th>396</th>\n",
       "      <td>Norte</td>\n",
       "      <td>RR</td>\n",
       "      <td>NaN</td>\n",
       "      <td>14</td>\n",
       "      <td>NaN</td>\n",
       "      <td>NaN</td>\n",
       "      <td>NaN</td>\n",
       "      <td>2020-06-01</td>\n",
       "      <td>23</td>\n",
       "      <td>605761.0</td>\n",
       "      <td>3692</td>\n",
       "      <td>218</td>\n",
       "      <td>116</td>\n",
       "      <td>0</td>\n",
       "      <td>NaN</td>\n",
       "      <td>NaN</td>\n",
       "      <td>0.609481</td>\n",
       "      <td>3.141928</td>\n",
       "      <td>0.019149</td>\n",
       "    </tr>\n",
       "    <tr>\n",
       "      <th>1935</th>\n",
       "      <td>Sul</td>\n",
       "      <td>RS</td>\n",
       "      <td>NaN</td>\n",
       "      <td>43</td>\n",
       "      <td>NaN</td>\n",
       "      <td>NaN</td>\n",
       "      <td>NaN</td>\n",
       "      <td>2020-05-25</td>\n",
       "      <td>22</td>\n",
       "      <td>11377239.0</td>\n",
       "      <td>6559</td>\n",
       "      <td>89</td>\n",
       "      <td>197</td>\n",
       "      <td>17</td>\n",
       "      <td>NaN</td>\n",
       "      <td>NaN</td>\n",
       "      <td>0.057650</td>\n",
       "      <td>3.003507</td>\n",
       "      <td>0.001732</td>\n",
       "    </tr>\n",
       "    <tr>\n",
       "      <th>1942</th>\n",
       "      <td>Sul</td>\n",
       "      <td>RS</td>\n",
       "      <td>NaN</td>\n",
       "      <td>43</td>\n",
       "      <td>NaN</td>\n",
       "      <td>NaN</td>\n",
       "      <td>NaN</td>\n",
       "      <td>2020-06-01</td>\n",
       "      <td>23</td>\n",
       "      <td>11377239.0</td>\n",
       "      <td>9332</td>\n",
       "      <td>0</td>\n",
       "      <td>232</td>\n",
       "      <td>8</td>\n",
       "      <td>NaN</td>\n",
       "      <td>NaN</td>\n",
       "      <td>0.082023</td>\n",
       "      <td>2.486069</td>\n",
       "      <td>0.002039</td>\n",
       "    </tr>\n",
       "    <tr>\n",
       "      <th>1851</th>\n",
       "      <td>Sul</td>\n",
       "      <td>SC</td>\n",
       "      <td>NaN</td>\n",
       "      <td>42</td>\n",
       "      <td>NaN</td>\n",
       "      <td>NaN</td>\n",
       "      <td>NaN</td>\n",
       "      <td>2020-05-25</td>\n",
       "      <td>22</td>\n",
       "      <td>7164788.0</td>\n",
       "      <td>6875</td>\n",
       "      <td>179</td>\n",
       "      <td>109</td>\n",
       "      <td>4</td>\n",
       "      <td>NaN</td>\n",
       "      <td>NaN</td>\n",
       "      <td>0.095955</td>\n",
       "      <td>1.585455</td>\n",
       "      <td>0.001521</td>\n",
       "    </tr>\n",
       "    <tr>\n",
       "      <th>1858</th>\n",
       "      <td>Sul</td>\n",
       "      <td>SC</td>\n",
       "      <td>NaN</td>\n",
       "      <td>42</td>\n",
       "      <td>NaN</td>\n",
       "      <td>NaN</td>\n",
       "      <td>NaN</td>\n",
       "      <td>2020-06-01</td>\n",
       "      <td>23</td>\n",
       "      <td>7164788.0</td>\n",
       "      <td>9498</td>\n",
       "      <td>461</td>\n",
       "      <td>146</td>\n",
       "      <td>3</td>\n",
       "      <td>NaN</td>\n",
       "      <td>NaN</td>\n",
       "      <td>0.132565</td>\n",
       "      <td>1.537166</td>\n",
       "      <td>0.002038</td>\n",
       "    </tr>\n",
       "    <tr>\n",
       "      <th>1247</th>\n",
       "      <td>Nordeste</td>\n",
       "      <td>SE</td>\n",
       "      <td>NaN</td>\n",
       "      <td>28</td>\n",
       "      <td>NaN</td>\n",
       "      <td>NaN</td>\n",
       "      <td>NaN</td>\n",
       "      <td>2020-06-01</td>\n",
       "      <td>23</td>\n",
       "      <td>2298696.0</td>\n",
       "      <td>7233</td>\n",
       "      <td>234</td>\n",
       "      <td>166</td>\n",
       "      <td>8</td>\n",
       "      <td>NaN</td>\n",
       "      <td>NaN</td>\n",
       "      <td>0.314657</td>\n",
       "      <td>2.295037</td>\n",
       "      <td>0.007221</td>\n",
       "    </tr>\n",
       "    <tr>\n",
       "      <th>1240</th>\n",
       "      <td>Nordeste</td>\n",
       "      <td>SE</td>\n",
       "      <td>NaN</td>\n",
       "      <td>28</td>\n",
       "      <td>NaN</td>\n",
       "      <td>NaN</td>\n",
       "      <td>NaN</td>\n",
       "      <td>2020-05-25</td>\n",
       "      <td>22</td>\n",
       "      <td>2298696.0</td>\n",
       "      <td>5448</td>\n",
       "      <td>134</td>\n",
       "      <td>103</td>\n",
       "      <td>10</td>\n",
       "      <td>NaN</td>\n",
       "      <td>NaN</td>\n",
       "      <td>0.237004</td>\n",
       "      <td>1.890602</td>\n",
       "      <td>0.004481</td>\n",
       "    </tr>\n",
       "    <tr>\n",
       "      <th>1695</th>\n",
       "      <td>Sudeste</td>\n",
       "      <td>SP</td>\n",
       "      <td>NaN</td>\n",
       "      <td>35</td>\n",
       "      <td>NaN</td>\n",
       "      <td>NaN</td>\n",
       "      <td>NaN</td>\n",
       "      <td>2020-06-01</td>\n",
       "      <td>23</td>\n",
       "      <td>45919049.0</td>\n",
       "      <td>111296</td>\n",
       "      <td>1598</td>\n",
       "      <td>7667</td>\n",
       "      <td>52</td>\n",
       "      <td>NaN</td>\n",
       "      <td>NaN</td>\n",
       "      <td>0.242374</td>\n",
       "      <td>6.888837</td>\n",
       "      <td>0.016697</td>\n",
       "    </tr>\n",
       "    <tr>\n",
       "      <th>1688</th>\n",
       "      <td>Sudeste</td>\n",
       "      <td>SP</td>\n",
       "      <td>NaN</td>\n",
       "      <td>35</td>\n",
       "      <td>NaN</td>\n",
       "      <td>NaN</td>\n",
       "      <td>NaN</td>\n",
       "      <td>2020-05-25</td>\n",
       "      <td>22</td>\n",
       "      <td>45919049.0</td>\n",
       "      <td>83625</td>\n",
       "      <td>1464</td>\n",
       "      <td>6220</td>\n",
       "      <td>57</td>\n",
       "      <td>NaN</td>\n",
       "      <td>NaN</td>\n",
       "      <td>0.182114</td>\n",
       "      <td>7.437967</td>\n",
       "      <td>0.013546</td>\n",
       "    </tr>\n",
       "    <tr>\n",
       "      <th>613</th>\n",
       "      <td>Norte</td>\n",
       "      <td>TO</td>\n",
       "      <td>NaN</td>\n",
       "      <td>17</td>\n",
       "      <td>NaN</td>\n",
       "      <td>NaN</td>\n",
       "      <td>NaN</td>\n",
       "      <td>2020-05-25</td>\n",
       "      <td>22</td>\n",
       "      <td>1572866.0</td>\n",
       "      <td>2696</td>\n",
       "      <td>105</td>\n",
       "      <td>58</td>\n",
       "      <td>6</td>\n",
       "      <td>NaN</td>\n",
       "      <td>NaN</td>\n",
       "      <td>0.171407</td>\n",
       "      <td>2.151335</td>\n",
       "      <td>0.003688</td>\n",
       "    </tr>\n",
       "    <tr>\n",
       "      <th>620</th>\n",
       "      <td>Norte</td>\n",
       "      <td>TO</td>\n",
       "      <td>NaN</td>\n",
       "      <td>17</td>\n",
       "      <td>NaN</td>\n",
       "      <td>NaN</td>\n",
       "      <td>NaN</td>\n",
       "      <td>2020-06-01</td>\n",
       "      <td>23</td>\n",
       "      <td>1572866.0</td>\n",
       "      <td>4345</td>\n",
       "      <td>169</td>\n",
       "      <td>76</td>\n",
       "      <td>3</td>\n",
       "      <td>NaN</td>\n",
       "      <td>NaN</td>\n",
       "      <td>0.276247</td>\n",
       "      <td>1.749137</td>\n",
       "      <td>0.004832</td>\n",
       "    </tr>\n",
       "  </tbody>\n",
       "</table>\n",
       "</div>"
      ],
      "text/plain": [
       "            regiao estado municipio  coduf  codmun  codRegiaoSaude  \\\n",
       "238          Norte     AC       NaN     12     NaN             NaN   \n",
       "245          Norte     AC       NaN     12     NaN             NaN   \n",
       "1161      Nordeste     AL       NaN     27     NaN             NaN   \n",
       "1168      Nordeste     AL       NaN     27     NaN             NaN   \n",
       "317          Norte     AM       NaN     13     NaN             NaN   \n",
       "324          Norte     AM       NaN     13     NaN             NaN   \n",
       "538          Norte     AP       NaN     16     NaN             NaN   \n",
       "545          Norte     AP       NaN     16     NaN             NaN   \n",
       "1335      Nordeste     BA       NaN     29     NaN             NaN   \n",
       "1328      Nordeste     BA       NaN     29     NaN             NaN   \n",
       "844       Nordeste     CE       NaN     23     NaN             NaN   \n",
       "837       Nordeste     CE       NaN     23     NaN             NaN   \n",
       "2255  Centro-Oeste     DF       NaN     53     NaN             NaN   \n",
       "2262  Centro-Oeste     DF       NaN     53     NaN             NaN   \n",
       "1509       Sudeste     ES       NaN     32     NaN             NaN   \n",
       "1502       Sudeste     ES       NaN     32     NaN             NaN   \n",
       "2175  Centro-Oeste     GO       NaN     52     NaN             NaN   \n",
       "2168  Centro-Oeste     GO       NaN     52     NaN             NaN   \n",
       "686       Nordeste     MA       NaN     21     NaN             NaN   \n",
       "693       Nordeste     MA       NaN     21     NaN             NaN   \n",
       "1414       Sudeste     MG       NaN     31     NaN             NaN   \n",
       "1421       Sudeste     MG       NaN     31     NaN             NaN   \n",
       "2020  Centro-Oeste     MS       NaN     50     NaN             NaN   \n",
       "2013  Centro-Oeste     MS       NaN     50     NaN             NaN   \n",
       "2094  Centro-Oeste     MT       NaN     51     NaN             NaN   \n",
       "2087  Centro-Oeste     MT       NaN     51     NaN             NaN   \n",
       "464          Norte     PA       NaN     15     NaN             NaN   \n",
       "471          Norte     PA       NaN     15     NaN             NaN   \n",
       "993       Nordeste     PB       NaN     25     NaN             NaN   \n",
       "1000      Nordeste     PB       NaN     25     NaN             NaN   \n",
       "1075      Nordeste     PE       NaN     26     NaN             NaN   \n",
       "1082      Nordeste     PE       NaN     26     NaN             NaN   \n",
       "760       Nordeste     PI       NaN     22     NaN             NaN   \n",
       "767       Nordeste     PI       NaN     22     NaN             NaN   \n",
       "1777           Sul     PR       NaN     41     NaN             NaN   \n",
       "1770           Sul     PR       NaN     41     NaN             NaN   \n",
       "1598       Sudeste     RJ       NaN     33     NaN             NaN   \n",
       "1591       Sudeste     RJ       NaN     33     NaN             NaN   \n",
       "925       Nordeste     RN       NaN     24     NaN             NaN   \n",
       "918       Nordeste     RN       NaN     24     NaN             NaN   \n",
       "170          Norte     RO       NaN     11     NaN             NaN   \n",
       "163          Norte     RO       NaN     11     NaN             NaN   \n",
       "389          Norte     RR       NaN     14     NaN             NaN   \n",
       "396          Norte     RR       NaN     14     NaN             NaN   \n",
       "1935           Sul     RS       NaN     43     NaN             NaN   \n",
       "1942           Sul     RS       NaN     43     NaN             NaN   \n",
       "1851           Sul     SC       NaN     42     NaN             NaN   \n",
       "1858           Sul     SC       NaN     42     NaN             NaN   \n",
       "1247      Nordeste     SE       NaN     28     NaN             NaN   \n",
       "1240      Nordeste     SE       NaN     28     NaN             NaN   \n",
       "1695       Sudeste     SP       NaN     35     NaN             NaN   \n",
       "1688       Sudeste     SP       NaN     35     NaN             NaN   \n",
       "613          Norte     TO       NaN     17     NaN             NaN   \n",
       "620          Norte     TO       NaN     17     NaN             NaN   \n",
       "\n",
       "     nomeRegiaoSaude       data  semanaEpi  populacaoTCU2019  casosAcumulado  \\\n",
       "238              NaN 2020-05-25         22          881935.0            4501   \n",
       "245              NaN 2020-06-01         23          881935.0            6326   \n",
       "1161             NaN 2020-05-25         22         3337357.0            6682   \n",
       "1168             NaN 2020-06-01         23         3337357.0           10837   \n",
       "317              NaN 2020-05-25         22         4144597.0           30282   \n",
       "324              NaN 2020-06-01         23         4144597.0           41774   \n",
       "538              NaN 2020-05-25         22          845731.0            6584   \n",
       "545              NaN 2020-06-01         23          845731.0            9890   \n",
       "1335             NaN 2020-06-01         23        14873064.0           18898   \n",
       "1328             NaN 2020-05-25         22        14873064.0           14204   \n",
       "844              NaN 2020-06-01         23         9132078.0           50504   \n",
       "837              NaN 2020-05-25         22         9132078.0           36185   \n",
       "2255             NaN 2020-05-25         22         3015268.0            6930   \n",
       "2262             NaN 2020-06-01         23         3015268.0           10510   \n",
       "1509             NaN 2020-06-01         23         4018650.0           14069   \n",
       "1502             NaN 2020-05-25         22         4018650.0           10365   \n",
       "2175             NaN 2020-06-01         23         7018354.0            3906   \n",
       "2168             NaN 2020-05-25         22         7018354.0            2512   \n",
       "686              NaN 2020-05-25         22         7075181.0           22786   \n",
       "693              NaN 2020-06-01         23         7075181.0           35297   \n",
       "1414             NaN 2020-05-25         22        21168791.0            6962   \n",
       "1421             NaN 2020-06-01         23        21168791.0           10670   \n",
       "2020             NaN 2020-06-01         23         2778986.0            1568   \n",
       "2013             NaN 2020-05-25         22         2778986.0            1023   \n",
       "2094             NaN 2020-06-01         23         3484466.0            2541   \n",
       "2087             NaN 2020-05-25         22         3484466.0            1500   \n",
       "464              NaN 2020-05-25         22         8602865.0           26077   \n",
       "471              NaN 2020-06-01         23         8602865.0           38046   \n",
       "993              NaN 2020-05-25         22         4018127.0            8016   \n",
       "1000             NaN 2020-06-01         23         4018127.0           13695   \n",
       "1075             NaN 2020-05-25         22         9557071.0           28366   \n",
       "1082             NaN 2020-06-01         23         9557071.0           34900   \n",
       "760              NaN 2020-05-25         22         3273227.0            3550   \n",
       "767              NaN 2020-06-01         23         3273227.0            5119   \n",
       "1777             NaN 2020-06-01         23        11433957.0            4835   \n",
       "1770             NaN 2020-05-25         22        11433957.0            3331   \n",
       "1598             NaN 2020-06-01         23        17264943.0           54530   \n",
       "1591             NaN 2020-05-25         22        17264943.0           39298   \n",
       "925              NaN 2020-06-01         23         3506853.0            7964   \n",
       "918              NaN 2020-05-25         22         3506853.0            4759   \n",
       "170              NaN 2020-06-01         23         1777225.0            5172   \n",
       "163              NaN 2020-05-25         22         1777225.0            3268   \n",
       "389              NaN 2020-05-25         22          605761.0            2514   \n",
       "396              NaN 2020-06-01         23          605761.0            3692   \n",
       "1935             NaN 2020-05-25         22        11377239.0            6559   \n",
       "1942             NaN 2020-06-01         23        11377239.0            9332   \n",
       "1851             NaN 2020-05-25         22         7164788.0            6875   \n",
       "1858             NaN 2020-06-01         23         7164788.0            9498   \n",
       "1247             NaN 2020-06-01         23         2298696.0            7233   \n",
       "1240             NaN 2020-05-25         22         2298696.0            5448   \n",
       "1695             NaN 2020-06-01         23        45919049.0          111296   \n",
       "1688             NaN 2020-05-25         22        45919049.0           83625   \n",
       "613              NaN 2020-05-25         22         1572866.0            2696   \n",
       "620              NaN 2020-06-01         23         1572866.0            4345   \n",
       "\n",
       "      casosNovos  obitosAcumulado  obitosNovos  Recuperadosnovos  \\\n",
       "238          341               97            5               NaN   \n",
       "245          107              161           13               NaN   \n",
       "1161         468              337           21               NaN   \n",
       "1168         549              461           18               NaN   \n",
       "317          415             1781           23               NaN   \n",
       "324          396             2071           19               NaN   \n",
       "538          231              168            5               NaN   \n",
       "545          288              228            6               NaN   \n",
       "1335         506              701           34               NaN   \n",
       "1328         305              477           17               NaN   \n",
       "844         2015             3188          178               NaN   \n",
       "837          590             2493          169               NaN   \n",
       "2255         292              114           10               NaN   \n",
       "2262         730              171            1               NaN   \n",
       "1509         379              614           10               NaN   \n",
       "1502         358              465           19               NaN   \n",
       "2175         204              127            3               NaN   \n",
       "2168          69               96            1               NaN   \n",
       "686         1595              784           30               NaN   \n",
       "693          658              976           21               NaN   \n",
       "1414         294              230            4               NaN   \n",
       "1421         206              278            7               NaN   \n",
       "2020          79               20            0               NaN   \n",
       "2013          99               17            0               NaN   \n",
       "2094         112               66            5               NaN   \n",
       "2087          38               41            1               NaN   \n",
       "464         1952             2372          224               NaN   \n",
       "471           85             2925            2               NaN   \n",
       "993          193              279            7               NaN   \n",
       "1000         533              370           10               NaN   \n",
       "1075         607             2248           48               NaN   \n",
       "1082         450             2875           68               NaN   \n",
       "760          160              110            3               NaN   \n",
       "767          188              168            7               NaN   \n",
       "1777         148              190            8               NaN   \n",
       "1770         119              156            3               NaN   \n",
       "1598        1142             5462          118               NaN   \n",
       "1591        1386             4105          112               NaN   \n",
       "925          562              323           18               NaN   \n",
       "918           62              209            9               NaN   \n",
       "170          230              159            3               NaN   \n",
       "163           67              121            0               NaN   \n",
       "389           75               86            2               NaN   \n",
       "396          218              116            0               NaN   \n",
       "1935          89              197           17               NaN   \n",
       "1942           0              232            8               NaN   \n",
       "1851         179              109            4               NaN   \n",
       "1858         461              146            3               NaN   \n",
       "1247         234              166            8               NaN   \n",
       "1240         134              103           10               NaN   \n",
       "1695        1598             7667           52               NaN   \n",
       "1688        1464             6220           57               NaN   \n",
       "613          105               58            6               NaN   \n",
       "620          169               76            3               NaN   \n",
       "\n",
       "      emAcompanhamentoNovos  contamRate  lethality_pct  deathRate  \n",
       "238                     NaN    0.510355       2.155077   0.010999  \n",
       "245                     NaN    0.717286       2.545052   0.018255  \n",
       "1161                    NaN    0.200218       5.043400   0.010098  \n",
       "1168                    NaN    0.324718       4.253945   0.013813  \n",
       "317                     NaN    0.730638       5.881382   0.042972  \n",
       "324                     NaN    1.007915       4.957629   0.049969  \n",
       "538                     NaN    0.778498       2.551640   0.019864  \n",
       "545                     NaN    1.169403       2.305359   0.026959  \n",
       "1335                    NaN    0.127062       3.709387   0.004713  \n",
       "1328                    NaN    0.095502       3.358209   0.003207  \n",
       "844                     NaN    0.553040       6.312371   0.034910  \n",
       "837                     NaN    0.396241       6.889595   0.027299  \n",
       "2255                    NaN    0.229830       1.645022   0.003781  \n",
       "2262                    NaN    0.348559       1.627022   0.005671  \n",
       "1509                    NaN    0.350093       4.364205   0.015279  \n",
       "1502                    NaN    0.257922       4.486252   0.011571  \n",
       "2175                    NaN    0.055654       3.251408   0.001810  \n",
       "2168                    NaN    0.035792       3.821656   0.001368  \n",
       "686                     NaN    0.322055       3.440709   0.011081  \n",
       "693                     NaN    0.498885       2.765108   0.013795  \n",
       "1414                    NaN    0.032888       3.303648   0.001087  \n",
       "1421                    NaN    0.050404       2.605436   0.001313  \n",
       "2020                    NaN    0.056423       1.275510   0.000720  \n",
       "2013                    NaN    0.036812       1.661779   0.000612  \n",
       "2094                    NaN    0.072924       2.597403   0.001894  \n",
       "2087                    NaN    0.043048       2.733333   0.001177  \n",
       "464                     NaN    0.303120       9.096138   0.027572  \n",
       "471                     NaN    0.442248       7.688062   0.034000  \n",
       "993                     NaN    0.199496       3.480539   0.006944  \n",
       "1000                    NaN    0.340830       2.701716   0.009208  \n",
       "1075                    NaN    0.296806       7.924981   0.023522  \n",
       "1082                    NaN    0.365175       8.237822   0.030082  \n",
       "760                     NaN    0.108456       3.098592   0.003361  \n",
       "767                     NaN    0.156390       3.281891   0.005133  \n",
       "1777                    NaN    0.042286       3.929679   0.001662  \n",
       "1770                    NaN    0.029133       4.683278   0.001364  \n",
       "1598                    NaN    0.315842      10.016505   0.031636  \n",
       "1591                    NaN    0.227617      10.445824   0.023777  \n",
       "925                     NaN    0.227098       4.055751   0.009211  \n",
       "918                     NaN    0.135706       4.391679   0.005960  \n",
       "170                     NaN    0.291015       3.074246   0.008947  \n",
       "163                     NaN    0.183882       3.702570   0.006808  \n",
       "389                     NaN    0.415015       3.420843   0.014197  \n",
       "396                     NaN    0.609481       3.141928   0.019149  \n",
       "1935                    NaN    0.057650       3.003507   0.001732  \n",
       "1942                    NaN    0.082023       2.486069   0.002039  \n",
       "1851                    NaN    0.095955       1.585455   0.001521  \n",
       "1858                    NaN    0.132565       1.537166   0.002038  \n",
       "1247                    NaN    0.314657       2.295037   0.007221  \n",
       "1240                    NaN    0.237004       1.890602   0.004481  \n",
       "1695                    NaN    0.242374       6.888837   0.016697  \n",
       "1688                    NaN    0.182114       7.437967   0.013546  \n",
       "613                     NaN    0.171407       2.151335   0.003688  \n",
       "620                     NaN    0.276247       1.749137   0.004832  "
      ]
     },
     "execution_count": 239,
     "metadata": {},
     "output_type": "execute_result"
    }
   ],
   "source": [
    "fourQuadData.sort_values(by=['estado'])"
   ]
  },
  {
   "cell_type": "code",
   "execution_count": null,
   "metadata": {},
   "outputs": [],
   "source": []
  },
  {
   "cell_type": "markdown",
   "metadata": {},
   "source": [
    "#### Checking values to define the chart parameters:"
   ]
  },
  {
   "cell_type": "code",
   "execution_count": 240,
   "metadata": {},
   "outputs": [
    {
     "data": {
      "text/plain": [
       "1.169402564172296"
      ]
     },
     "execution_count": 240,
     "metadata": {},
     "output_type": "execute_result"
    }
   ],
   "source": [
    "fourQuadData.contamRate.max()"
   ]
  },
  {
   "cell_type": "code",
   "execution_count": 241,
   "metadata": {},
   "outputs": [
    {
     "data": {
      "text/plain": [
       "10.445824214972772"
      ]
     },
     "execution_count": 241,
     "metadata": {},
     "output_type": "execute_result"
    }
   ],
   "source": [
    "fourQuadData.lethality_pct.max()"
   ]
  },
  {
   "cell_type": "code",
   "execution_count": 242,
   "metadata": {},
   "outputs": [
    {
     "data": {
      "text/plain": [
       "0.049968670054048675"
      ]
     },
     "execution_count": 242,
     "metadata": {},
     "output_type": "execute_result"
    }
   ],
   "source": [
    "fourQuadData.deathRate.max()"
   ]
  },
  {
   "cell_type": "code",
   "execution_count": 243,
   "metadata": {},
   "outputs": [],
   "source": [
    "dates = fourQuadData.data.unique()"
   ]
  },
  {
   "cell_type": "code",
   "execution_count": 244,
   "metadata": {},
   "outputs": [
    {
     "data": {
      "text/plain": [
       "array(['2020-05-25T00:00:00.000000000', '2020-06-01T00:00:00.000000000'],\n",
       "      dtype='datetime64[ns]')"
      ]
     },
     "execution_count": 244,
     "metadata": {},
     "output_type": "execute_result"
    }
   ],
   "source": [
    "dates"
   ]
  },
  {
   "cell_type": "markdown",
   "metadata": {},
   "source": [
    "-------"
   ]
  },
  {
   "cell_type": "markdown",
   "metadata": {},
   "source": [
    "In the way data in \"fourQuadData\" is organized, the subtitle's come with the time information. I didn't find any other easier way to remove this as the following one, i.e., creating a new column \"label\" with the pandas.Timestamp converted to str_type:"
   ]
  },
  {
   "cell_type": "code",
   "execution_count": 245,
   "metadata": {},
   "outputs": [
    {
     "name": "stderr",
     "output_type": "stream",
     "text": [
      "/home/tbnsilveira/anaconda3/envs/analytics/lib/python3.7/site-packages/ipykernel_launcher.py:1: SettingWithCopyWarning:\n",
      "\n",
      "\n",
      "A value is trying to be set on a copy of a slice from a DataFrame.\n",
      "Try using .loc[row_indexer,col_indexer] = value instead\n",
      "\n",
      "See the caveats in the documentation: https://pandas.pydata.org/pandas-docs/stable/user_guide/indexing.html#returning-a-view-versus-a-copy\n",
      "\n"
     ]
    }
   ],
   "source": [
    "fourQuadData['label'] = ['{0}'.format(x.date()) for x in fourQuadData.data]"
   ]
  },
  {
   "cell_type": "markdown",
   "metadata": {},
   "source": [
    "--------------"
   ]
  },
  {
   "cell_type": "markdown",
   "metadata": {},
   "source": [
    "### Creating the FourQuad chart with data from different dates"
   ]
  },
  {
   "cell_type": "code",
   "execution_count": 246,
   "metadata": {
    "scrolled": false
   },
   "outputs": [
    {
     "data": {
      "application/vnd.plotly.v1+json": {
       "config": {
        "plotlyServerURL": "https://plot.ly"
       },
       "data": [
        {
         "hovertemplate": "label=2020-05-25<br>lethality_pct=%{x}<br>contamRate=%{y}<br>deathRate=%{marker.size}<br>estado=%{text}<extra></extra>",
         "legendgroup": "2020-05-25",
         "marker": {
          "color": "#636efa",
          "size": [
           0.006808366976606789,
           0.010998542976523213,
           0.04297160857859039,
           0.014197018295994623,
           0.027572209955636875,
           0.019864472273098656,
           0.003687536001159667,
           0.011080988599443606,
           0.00336059796647162,
           0.027299372607198495,
           0.005959759362596607,
           0.006943533641420492,
           0.023521850993887143,
           0.010097810932423472,
           0.004480801289078677,
           0.003207140102402571,
           0.0010865051291781378,
           0.011571049979470718,
           0.02377650479355767,
           0.013545576695196801,
           0.0013643570637881532,
           0.0015213290330432666,
           0.001731527306405359,
           0.0006117339202140636,
           0.0011766508842387903,
           0.001367842089469981,
           0.003780758459944522
          ],
          "sizemode": "area",
          "sizeref": 3.1230418783780424e-05,
          "symbol": "circle"
         },
         "mode": "markers+text",
         "name": "2020-05-25",
         "orientation": "v",
         "showlegend": true,
         "text": [
          "RO",
          "AC",
          "AM",
          "RR",
          "PA",
          "AP",
          "TO",
          "MA",
          "PI",
          "CE",
          "RN",
          "PB",
          "PE",
          "AL",
          "SE",
          "BA",
          "MG",
          "ES",
          "RJ",
          "SP",
          "PR",
          "SC",
          "RS",
          "MS",
          "MT",
          "GO",
          "DF"
         ],
         "textfont": {
          "family": "sans serif",
          "size": 13
         },
         "textposition": "middle center",
         "type": "scatter",
         "x": [
          3.7025703794369647,
          2.155076649633415,
          5.8813816788851465,
          3.4208432776451874,
          9.096138359473866,
          2.551640340218712,
          2.1513353115727005,
          3.4407092074080574,
          3.0985915492957745,
          6.889595136106122,
          4.3916789241437275,
          3.4805389221556884,
          7.9249806105901435,
          5.04340017958695,
          1.8906020558002938,
          3.3582089552238807,
          3.3036483769031886,
          4.486251808972503,
          10.445824214972772,
          7.437967115097161,
          4.683278294806365,
          1.5854545454545454,
          3.0035066321085533,
          1.6617790811339197,
          2.7333333333333334,
          3.821656050955414,
          1.645021645021645
         ],
         "xaxis": "x",
         "y": [
          0.18388217586405772,
          0.510355071518876,
          0.7306379848269928,
          0.4150151627457034,
          0.3031199489937364,
          0.7784981276552474,
          0.17140684584700794,
          0.32205536508535965,
          0.10845566164522046,
          0.39624059277636486,
          0.1357057167779773,
          0.19949593429973717,
          0.29680641694510795,
          0.2002183164701888,
          0.2370039361446664,
          0.09550150527154325,
          0.03288803786668781,
          0.25792243663916986,
          0.2276173167788622,
          0.18211396320511777,
          0.029132521663322683,
          0.09595538625846292,
          0.05765019087671446,
          0.036811988257587476,
          0.043048203081906954,
          0.03579186800779784,
          0.22983031690715386
         ],
         "yaxis": "y"
        },
        {
         "hovertemplate": "label=2020-06-01<br>lethality_pct=%{x}<br>contamRate=%{y}<br>deathRate=%{marker.size}<br>estado=%{text}<extra></extra>",
         "legendgroup": "2020-06-01",
         "marker": {
          "color": "#EF553B",
          "size": [
           0.008946531812235366,
           0.01825531360020863,
           0.049968670054048675,
           0.019149466538783445,
           0.03400030106249488,
           0.02695892665634818,
           0.004831943725657494,
           0.013794700093184894,
           0.005132549621520292,
           0.034909907690232174,
           0.00921053719674021,
           0.0092082704205218,
           0.030082438437466875,
           0.013813325934264748,
           0.007221485572689907,
           0.004713218473342144,
           0.0013132540257022709,
           0.015278762768591444,
           0.03163636277281657,
           0.01669677436046204,
           0.0016617169366650584,
           0.002037743475452449,
           0.0020391590613504738,
           0.000719686964957722,
           0.001894120935603906,
           0.001809541097527996,
           0.005671137689916783
          ],
          "sizemode": "area",
          "sizeref": 3.1230418783780424e-05,
          "symbol": "circle"
         },
         "mode": "markers+text",
         "name": "2020-06-01",
         "orientation": "v",
         "showlegend": true,
         "text": [
          "RO",
          "AC",
          "AM",
          "RR",
          "PA",
          "AP",
          "TO",
          "MA",
          "PI",
          "CE",
          "RN",
          "PB",
          "PE",
          "AL",
          "SE",
          "BA",
          "MG",
          "ES",
          "RJ",
          "SP",
          "PR",
          "SC",
          "RS",
          "MS",
          "MT",
          "GO",
          "DF"
         ],
         "textfont": {
          "family": "sans serif",
          "size": 13
         },
         "textposition": "middle center",
         "type": "scatter",
         "x": [
          3.074245939675174,
          2.5450521656655076,
          4.957629147316513,
          3.14192849404117,
          7.688061819902224,
          2.3053589484327603,
          1.7491369390103566,
          2.765107516219509,
          3.281890994334831,
          6.312371297322985,
          4.055750878955299,
          2.701715954728003,
          8.237822349570202,
          4.2539448186767554,
          2.2950366376330704,
          3.709387236744629,
          2.60543580131209,
          4.364204989693652,
          10.016504676324958,
          6.888836975273145,
          3.9296794208893484,
          1.5371657190987578,
          2.4860694384912128,
          1.2755102040816326,
          2.5974025974025974,
          3.2514080901177675,
          1.627021883920076
         ],
         "xaxis": "x",
         "y": [
          0.2910154876281844,
          0.7172864213349056,
          1.007914641640671,
          0.6094812970792112,
          0.4422480185380103,
          1.169402564172296,
          0.27624730905239225,
          0.49888476351347055,
          0.15639000900334746,
          0.5530395163072414,
          0.22709819886947072,
          0.3408304416460704,
          0.36517464398872834,
          0.32471803286253165,
          0.31465665751365124,
          0.12706191541971446,
          0.05040439012317709,
          0.350092692819728,
          0.3158423401687454,
          0.2423743575351484,
          0.042286323098818725,
          0.13256498308114628,
          0.08202341534708026,
          0.05642345805268541,
          0.07292365602075038,
          0.05565407501530986,
          0.3485593983685696
         ],
         "yaxis": "y"
        }
       ],
       "layout": {
        "annotations": [
         {
          "align": "center",
          "bgcolor": "#E9967A",
          "bordercolor": "#708090",
          "borderwidth": 2,
          "font": {
           "color": "DarkRed"
          },
          "height": 20,
          "showarrow": false,
          "text": "<b>Zona crítica</b>",
          "width": 110,
          "x": 0.98,
          "xref": "paper",
          "y": 0.99,
          "yref": "paper"
         },
         {
          "align": "center",
          "bgcolor": "#DCDCDC",
          "bordercolor": "#708090",
          "borderwidth": 2,
          "font": {
           "color": "black"
          },
          "height": 20,
          "showarrow": false,
          "text": "Alta letalidade",
          "width": 110,
          "x": 0.98,
          "xref": "paper",
          "y": 0.01,
          "yref": "paper"
         },
         {
          "align": "center",
          "bgcolor": "#DCDCDC",
          "bordercolor": "#708090",
          "borderwidth": 2,
          "font": {
           "color": "DarkRed"
          },
          "height": 20,
          "showarrow": false,
          "text": "Alta contaminação",
          "width": 110,
          "x": 0,
          "xref": "paper",
          "y": 0.99,
          "yref": "paper"
         },
         {
          "align": "center",
          "bgcolor": "#DCDCDC",
          "bordercolor": "#708090",
          "borderwidth": 2,
          "font": {
           "color": "black"
          },
          "height": 20,
          "showarrow": false,
          "text": "Zona controlada",
          "width": 110,
          "x": 0,
          "xref": "paper",
          "y": 0.01,
          "yref": "paper"
         }
        ],
        "height": 520,
        "hovermode": false,
        "legend": {
         "itemsizing": "constant",
         "title": {
          "text": "label"
         },
         "tracegroupgap": 0
        },
        "margin": {
         "t": 60
        },
        "plot_bgcolor": "rgb(245,245,245)",
        "shapes": [
         {
          "line": {
           "color": "gray",
           "dash": "dashdot",
           "width": 1
          },
          "type": "line",
          "x0": 6,
          "x1": 6,
          "xref": "x",
          "y0": -0.2,
          "y1": 1.2,
          "yref": "y"
         },
         {
          "line": {
           "color": "gray",
           "dash": "dashdot",
           "width": 1
          },
          "type": "line",
          "x0": 0,
          "x1": 12,
          "xref": "x",
          "y0": 0.4,
          "y1": 0.4,
          "yref": "y"
         }
        ],
        "template": {
         "data": {
          "bar": [
           {
            "error_x": {
             "color": "#2a3f5f"
            },
            "error_y": {
             "color": "#2a3f5f"
            },
            "marker": {
             "line": {
              "color": "#E5ECF6",
              "width": 0.5
             }
            },
            "type": "bar"
           }
          ],
          "barpolar": [
           {
            "marker": {
             "line": {
              "color": "#E5ECF6",
              "width": 0.5
             }
            },
            "type": "barpolar"
           }
          ],
          "carpet": [
           {
            "aaxis": {
             "endlinecolor": "#2a3f5f",
             "gridcolor": "white",
             "linecolor": "white",
             "minorgridcolor": "white",
             "startlinecolor": "#2a3f5f"
            },
            "baxis": {
             "endlinecolor": "#2a3f5f",
             "gridcolor": "white",
             "linecolor": "white",
             "minorgridcolor": "white",
             "startlinecolor": "#2a3f5f"
            },
            "type": "carpet"
           }
          ],
          "choropleth": [
           {
            "colorbar": {
             "outlinewidth": 0,
             "ticks": ""
            },
            "type": "choropleth"
           }
          ],
          "contour": [
           {
            "colorbar": {
             "outlinewidth": 0,
             "ticks": ""
            },
            "colorscale": [
             [
              0,
              "#0d0887"
             ],
             [
              0.1111111111111111,
              "#46039f"
             ],
             [
              0.2222222222222222,
              "#7201a8"
             ],
             [
              0.3333333333333333,
              "#9c179e"
             ],
             [
              0.4444444444444444,
              "#bd3786"
             ],
             [
              0.5555555555555556,
              "#d8576b"
             ],
             [
              0.6666666666666666,
              "#ed7953"
             ],
             [
              0.7777777777777778,
              "#fb9f3a"
             ],
             [
              0.8888888888888888,
              "#fdca26"
             ],
             [
              1,
              "#f0f921"
             ]
            ],
            "type": "contour"
           }
          ],
          "contourcarpet": [
           {
            "colorbar": {
             "outlinewidth": 0,
             "ticks": ""
            },
            "type": "contourcarpet"
           }
          ],
          "heatmap": [
           {
            "colorbar": {
             "outlinewidth": 0,
             "ticks": ""
            },
            "colorscale": [
             [
              0,
              "#0d0887"
             ],
             [
              0.1111111111111111,
              "#46039f"
             ],
             [
              0.2222222222222222,
              "#7201a8"
             ],
             [
              0.3333333333333333,
              "#9c179e"
             ],
             [
              0.4444444444444444,
              "#bd3786"
             ],
             [
              0.5555555555555556,
              "#d8576b"
             ],
             [
              0.6666666666666666,
              "#ed7953"
             ],
             [
              0.7777777777777778,
              "#fb9f3a"
             ],
             [
              0.8888888888888888,
              "#fdca26"
             ],
             [
              1,
              "#f0f921"
             ]
            ],
            "type": "heatmap"
           }
          ],
          "heatmapgl": [
           {
            "colorbar": {
             "outlinewidth": 0,
             "ticks": ""
            },
            "colorscale": [
             [
              0,
              "#0d0887"
             ],
             [
              0.1111111111111111,
              "#46039f"
             ],
             [
              0.2222222222222222,
              "#7201a8"
             ],
             [
              0.3333333333333333,
              "#9c179e"
             ],
             [
              0.4444444444444444,
              "#bd3786"
             ],
             [
              0.5555555555555556,
              "#d8576b"
             ],
             [
              0.6666666666666666,
              "#ed7953"
             ],
             [
              0.7777777777777778,
              "#fb9f3a"
             ],
             [
              0.8888888888888888,
              "#fdca26"
             ],
             [
              1,
              "#f0f921"
             ]
            ],
            "type": "heatmapgl"
           }
          ],
          "histogram": [
           {
            "marker": {
             "colorbar": {
              "outlinewidth": 0,
              "ticks": ""
             }
            },
            "type": "histogram"
           }
          ],
          "histogram2d": [
           {
            "colorbar": {
             "outlinewidth": 0,
             "ticks": ""
            },
            "colorscale": [
             [
              0,
              "#0d0887"
             ],
             [
              0.1111111111111111,
              "#46039f"
             ],
             [
              0.2222222222222222,
              "#7201a8"
             ],
             [
              0.3333333333333333,
              "#9c179e"
             ],
             [
              0.4444444444444444,
              "#bd3786"
             ],
             [
              0.5555555555555556,
              "#d8576b"
             ],
             [
              0.6666666666666666,
              "#ed7953"
             ],
             [
              0.7777777777777778,
              "#fb9f3a"
             ],
             [
              0.8888888888888888,
              "#fdca26"
             ],
             [
              1,
              "#f0f921"
             ]
            ],
            "type": "histogram2d"
           }
          ],
          "histogram2dcontour": [
           {
            "colorbar": {
             "outlinewidth": 0,
             "ticks": ""
            },
            "colorscale": [
             [
              0,
              "#0d0887"
             ],
             [
              0.1111111111111111,
              "#46039f"
             ],
             [
              0.2222222222222222,
              "#7201a8"
             ],
             [
              0.3333333333333333,
              "#9c179e"
             ],
             [
              0.4444444444444444,
              "#bd3786"
             ],
             [
              0.5555555555555556,
              "#d8576b"
             ],
             [
              0.6666666666666666,
              "#ed7953"
             ],
             [
              0.7777777777777778,
              "#fb9f3a"
             ],
             [
              0.8888888888888888,
              "#fdca26"
             ],
             [
              1,
              "#f0f921"
             ]
            ],
            "type": "histogram2dcontour"
           }
          ],
          "mesh3d": [
           {
            "colorbar": {
             "outlinewidth": 0,
             "ticks": ""
            },
            "type": "mesh3d"
           }
          ],
          "parcoords": [
           {
            "line": {
             "colorbar": {
              "outlinewidth": 0,
              "ticks": ""
             }
            },
            "type": "parcoords"
           }
          ],
          "pie": [
           {
            "automargin": true,
            "type": "pie"
           }
          ],
          "scatter": [
           {
            "marker": {
             "colorbar": {
              "outlinewidth": 0,
              "ticks": ""
             }
            },
            "type": "scatter"
           }
          ],
          "scatter3d": [
           {
            "line": {
             "colorbar": {
              "outlinewidth": 0,
              "ticks": ""
             }
            },
            "marker": {
             "colorbar": {
              "outlinewidth": 0,
              "ticks": ""
             }
            },
            "type": "scatter3d"
           }
          ],
          "scattercarpet": [
           {
            "marker": {
             "colorbar": {
              "outlinewidth": 0,
              "ticks": ""
             }
            },
            "type": "scattercarpet"
           }
          ],
          "scattergeo": [
           {
            "marker": {
             "colorbar": {
              "outlinewidth": 0,
              "ticks": ""
             }
            },
            "type": "scattergeo"
           }
          ],
          "scattergl": [
           {
            "marker": {
             "colorbar": {
              "outlinewidth": 0,
              "ticks": ""
             }
            },
            "type": "scattergl"
           }
          ],
          "scattermapbox": [
           {
            "marker": {
             "colorbar": {
              "outlinewidth": 0,
              "ticks": ""
             }
            },
            "type": "scattermapbox"
           }
          ],
          "scatterpolar": [
           {
            "marker": {
             "colorbar": {
              "outlinewidth": 0,
              "ticks": ""
             }
            },
            "type": "scatterpolar"
           }
          ],
          "scatterpolargl": [
           {
            "marker": {
             "colorbar": {
              "outlinewidth": 0,
              "ticks": ""
             }
            },
            "type": "scatterpolargl"
           }
          ],
          "scatterternary": [
           {
            "marker": {
             "colorbar": {
              "outlinewidth": 0,
              "ticks": ""
             }
            },
            "type": "scatterternary"
           }
          ],
          "surface": [
           {
            "colorbar": {
             "outlinewidth": 0,
             "ticks": ""
            },
            "colorscale": [
             [
              0,
              "#0d0887"
             ],
             [
              0.1111111111111111,
              "#46039f"
             ],
             [
              0.2222222222222222,
              "#7201a8"
             ],
             [
              0.3333333333333333,
              "#9c179e"
             ],
             [
              0.4444444444444444,
              "#bd3786"
             ],
             [
              0.5555555555555556,
              "#d8576b"
             ],
             [
              0.6666666666666666,
              "#ed7953"
             ],
             [
              0.7777777777777778,
              "#fb9f3a"
             ],
             [
              0.8888888888888888,
              "#fdca26"
             ],
             [
              1,
              "#f0f921"
             ]
            ],
            "type": "surface"
           }
          ],
          "table": [
           {
            "cells": {
             "fill": {
              "color": "#EBF0F8"
             },
             "line": {
              "color": "white"
             }
            },
            "header": {
             "fill": {
              "color": "#C8D4E3"
             },
             "line": {
              "color": "white"
             }
            },
            "type": "table"
           }
          ]
         },
         "layout": {
          "annotationdefaults": {
           "arrowcolor": "#2a3f5f",
           "arrowhead": 0,
           "arrowwidth": 1
          },
          "coloraxis": {
           "colorbar": {
            "outlinewidth": 0,
            "ticks": ""
           }
          },
          "colorscale": {
           "diverging": [
            [
             0,
             "#8e0152"
            ],
            [
             0.1,
             "#c51b7d"
            ],
            [
             0.2,
             "#de77ae"
            ],
            [
             0.3,
             "#f1b6da"
            ],
            [
             0.4,
             "#fde0ef"
            ],
            [
             0.5,
             "#f7f7f7"
            ],
            [
             0.6,
             "#e6f5d0"
            ],
            [
             0.7,
             "#b8e186"
            ],
            [
             0.8,
             "#7fbc41"
            ],
            [
             0.9,
             "#4d9221"
            ],
            [
             1,
             "#276419"
            ]
           ],
           "sequential": [
            [
             0,
             "#0d0887"
            ],
            [
             0.1111111111111111,
             "#46039f"
            ],
            [
             0.2222222222222222,
             "#7201a8"
            ],
            [
             0.3333333333333333,
             "#9c179e"
            ],
            [
             0.4444444444444444,
             "#bd3786"
            ],
            [
             0.5555555555555556,
             "#d8576b"
            ],
            [
             0.6666666666666666,
             "#ed7953"
            ],
            [
             0.7777777777777778,
             "#fb9f3a"
            ],
            [
             0.8888888888888888,
             "#fdca26"
            ],
            [
             1,
             "#f0f921"
            ]
           ],
           "sequentialminus": [
            [
             0,
             "#0d0887"
            ],
            [
             0.1111111111111111,
             "#46039f"
            ],
            [
             0.2222222222222222,
             "#7201a8"
            ],
            [
             0.3333333333333333,
             "#9c179e"
            ],
            [
             0.4444444444444444,
             "#bd3786"
            ],
            [
             0.5555555555555556,
             "#d8576b"
            ],
            [
             0.6666666666666666,
             "#ed7953"
            ],
            [
             0.7777777777777778,
             "#fb9f3a"
            ],
            [
             0.8888888888888888,
             "#fdca26"
            ],
            [
             1,
             "#f0f921"
            ]
           ]
          },
          "colorway": [
           "#636efa",
           "#EF553B",
           "#00cc96",
           "#ab63fa",
           "#FFA15A",
           "#19d3f3",
           "#FF6692",
           "#B6E880",
           "#FF97FF",
           "#FECB52"
          ],
          "font": {
           "color": "#2a3f5f"
          },
          "geo": {
           "bgcolor": "white",
           "lakecolor": "white",
           "landcolor": "#E5ECF6",
           "showlakes": true,
           "showland": true,
           "subunitcolor": "white"
          },
          "hoverlabel": {
           "align": "left"
          },
          "hovermode": "closest",
          "mapbox": {
           "style": "light"
          },
          "paper_bgcolor": "white",
          "plot_bgcolor": "#E5ECF6",
          "polar": {
           "angularaxis": {
            "gridcolor": "white",
            "linecolor": "white",
            "ticks": ""
           },
           "bgcolor": "#E5ECF6",
           "radialaxis": {
            "gridcolor": "white",
            "linecolor": "white",
            "ticks": ""
           }
          },
          "scene": {
           "xaxis": {
            "backgroundcolor": "#E5ECF6",
            "gridcolor": "white",
            "gridwidth": 2,
            "linecolor": "white",
            "showbackground": true,
            "ticks": "",
            "zerolinecolor": "white"
           },
           "yaxis": {
            "backgroundcolor": "#E5ECF6",
            "gridcolor": "white",
            "gridwidth": 2,
            "linecolor": "white",
            "showbackground": true,
            "ticks": "",
            "zerolinecolor": "white"
           },
           "zaxis": {
            "backgroundcolor": "#E5ECF6",
            "gridcolor": "white",
            "gridwidth": 2,
            "linecolor": "white",
            "showbackground": true,
            "ticks": "",
            "zerolinecolor": "white"
           }
          },
          "shapedefaults": {
           "line": {
            "color": "#2a3f5f"
           }
          },
          "ternary": {
           "aaxis": {
            "gridcolor": "white",
            "linecolor": "white",
            "ticks": ""
           },
           "baxis": {
            "gridcolor": "white",
            "linecolor": "white",
            "ticks": ""
           },
           "bgcolor": "#E5ECF6",
           "caxis": {
            "gridcolor": "white",
            "linecolor": "white",
            "ticks": ""
           }
          },
          "title": {
           "x": 0.05
          },
          "xaxis": {
           "automargin": true,
           "gridcolor": "white",
           "linecolor": "white",
           "ticks": "",
           "title": {
            "standoff": 15
           },
           "zerolinecolor": "white",
           "zerolinewidth": 2
          },
          "yaxis": {
           "automargin": true,
           "gridcolor": "white",
           "linecolor": "white",
           "ticks": "",
           "title": {
            "standoff": 15
           },
           "zerolinecolor": "white",
           "zerolinewidth": 2
          }
         }
        },
        "title": {
         "text": "Relação entre número de casos e letalidade da COVID-19 no Brasil, por estado, e sua evolução"
        },
        "width": 980,
        "xaxis": {
         "anchor": "y",
         "autorange": false,
         "domain": [
          0,
          1
         ],
         "range": [
          0,
          12
         ],
         "title": {
          "text": "<b>Letalidade (% óbitos/casos)</b>"
         },
         "type": "linear"
        },
        "yaxis": {
         "anchor": "x",
         "autorange": false,
         "domain": [
          0,
          1
         ],
         "range": [
          -0.2,
          1.2
         ],
         "title": {
          "text": "<b>Contaminação (% casos/população)</b>"
         },
         "type": "linear"
        }
       }
      },
      "text/html": [
       "<div>\n",
       "        \n",
       "        \n",
       "            <div id=\"77ada0f5-057b-4232-b647-8d245a72b1bb\" class=\"plotly-graph-div\" style=\"height:520px; width:980px;\"></div>\n",
       "            <script type=\"text/javascript\">\n",
       "                require([\"plotly\"], function(Plotly) {\n",
       "                    window.PLOTLYENV=window.PLOTLYENV || {};\n",
       "                    \n",
       "                if (document.getElementById(\"77ada0f5-057b-4232-b647-8d245a72b1bb\")) {\n",
       "                    Plotly.newPlot(\n",
       "                        '77ada0f5-057b-4232-b647-8d245a72b1bb',\n",
       "                        [{\"hovertemplate\": \"label=2020-05-25<br>lethality_pct=%{x}<br>contamRate=%{y}<br>deathRate=%{marker.size}<br>estado=%{text}<extra></extra>\", \"legendgroup\": \"2020-05-25\", \"marker\": {\"color\": \"#636efa\", \"size\": [0.006808366976606789, 0.010998542976523213, 0.04297160857859039, 0.014197018295994623, 0.027572209955636875, 0.019864472273098656, 0.003687536001159667, 0.011080988599443606, 0.00336059796647162, 0.027299372607198495, 0.005959759362596607, 0.006943533641420492, 0.023521850993887143, 0.010097810932423472, 0.004480801289078677, 0.003207140102402571, 0.0010865051291781378, 0.011571049979470718, 0.02377650479355767, 0.013545576695196801, 0.0013643570637881532, 0.0015213290330432666, 0.001731527306405359, 0.0006117339202140636, 0.0011766508842387903, 0.001367842089469981, 0.003780758459944522], \"sizemode\": \"area\", \"sizeref\": 3.1230418783780424e-05, \"symbol\": \"circle\"}, \"mode\": \"markers+text\", \"name\": \"2020-05-25\", \"orientation\": \"v\", \"showlegend\": true, \"text\": [\"RO\", \"AC\", \"AM\", \"RR\", \"PA\", \"AP\", \"TO\", \"MA\", \"PI\", \"CE\", \"RN\", \"PB\", \"PE\", \"AL\", \"SE\", \"BA\", \"MG\", \"ES\", \"RJ\", \"SP\", \"PR\", \"SC\", \"RS\", \"MS\", \"MT\", \"GO\", \"DF\"], \"textfont\": {\"family\": \"sans serif\", \"size\": 13}, \"textposition\": \"middle center\", \"type\": \"scatter\", \"x\": [3.7025703794369647, 2.155076649633415, 5.8813816788851465, 3.4208432776451874, 9.096138359473866, 2.551640340218712, 2.1513353115727005, 3.4407092074080574, 3.0985915492957745, 6.889595136106122, 4.3916789241437275, 3.4805389221556884, 7.9249806105901435, 5.04340017958695, 1.8906020558002938, 3.3582089552238807, 3.3036483769031886, 4.486251808972503, 10.445824214972772, 7.437967115097161, 4.683278294806365, 1.5854545454545454, 3.0035066321085533, 1.6617790811339197, 2.7333333333333334, 3.821656050955414, 1.645021645021645], \"xaxis\": \"x\", \"y\": [0.18388217586405772, 0.510355071518876, 0.7306379848269928, 0.4150151627457034, 0.3031199489937364, 0.7784981276552474, 0.17140684584700794, 0.32205536508535965, 0.10845566164522046, 0.39624059277636486, 0.1357057167779773, 0.19949593429973717, 0.29680641694510795, 0.2002183164701888, 0.2370039361446664, 0.09550150527154325, 0.03288803786668781, 0.25792243663916986, 0.2276173167788622, 0.18211396320511777, 0.029132521663322683, 0.09595538625846292, 0.05765019087671446, 0.036811988257587476, 0.043048203081906954, 0.03579186800779784, 0.22983031690715386], \"yaxis\": \"y\"}, {\"hovertemplate\": \"label=2020-06-01<br>lethality_pct=%{x}<br>contamRate=%{y}<br>deathRate=%{marker.size}<br>estado=%{text}<extra></extra>\", \"legendgroup\": \"2020-06-01\", \"marker\": {\"color\": \"#EF553B\", \"size\": [0.008946531812235366, 0.01825531360020863, 0.049968670054048675, 0.019149466538783445, 0.03400030106249488, 0.02695892665634818, 0.004831943725657494, 0.013794700093184894, 0.005132549621520292, 0.034909907690232174, 0.00921053719674021, 0.0092082704205218, 0.030082438437466875, 0.013813325934264748, 0.007221485572689907, 0.004713218473342144, 0.0013132540257022709, 0.015278762768591444, 0.03163636277281657, 0.01669677436046204, 0.0016617169366650584, 0.002037743475452449, 0.0020391590613504738, 0.000719686964957722, 0.001894120935603906, 0.001809541097527996, 0.005671137689916783], \"sizemode\": \"area\", \"sizeref\": 3.1230418783780424e-05, \"symbol\": \"circle\"}, \"mode\": \"markers+text\", \"name\": \"2020-06-01\", \"orientation\": \"v\", \"showlegend\": true, \"text\": [\"RO\", \"AC\", \"AM\", \"RR\", \"PA\", \"AP\", \"TO\", \"MA\", \"PI\", \"CE\", \"RN\", \"PB\", \"PE\", \"AL\", \"SE\", \"BA\", \"MG\", \"ES\", \"RJ\", \"SP\", \"PR\", \"SC\", \"RS\", \"MS\", \"MT\", \"GO\", \"DF\"], \"textfont\": {\"family\": \"sans serif\", \"size\": 13}, \"textposition\": \"middle center\", \"type\": \"scatter\", \"x\": [3.074245939675174, 2.5450521656655076, 4.957629147316513, 3.14192849404117, 7.688061819902224, 2.3053589484327603, 1.7491369390103566, 2.765107516219509, 3.281890994334831, 6.312371297322985, 4.055750878955299, 2.701715954728003, 8.237822349570202, 4.2539448186767554, 2.2950366376330704, 3.709387236744629, 2.60543580131209, 4.364204989693652, 10.016504676324958, 6.888836975273145, 3.9296794208893484, 1.5371657190987578, 2.4860694384912128, 1.2755102040816326, 2.5974025974025974, 3.2514080901177675, 1.627021883920076], \"xaxis\": \"x\", \"y\": [0.2910154876281844, 0.7172864213349056, 1.007914641640671, 0.6094812970792112, 0.4422480185380103, 1.169402564172296, 0.27624730905239225, 0.49888476351347055, 0.15639000900334746, 0.5530395163072414, 0.22709819886947072, 0.3408304416460704, 0.36517464398872834, 0.32471803286253165, 0.31465665751365124, 0.12706191541971446, 0.05040439012317709, 0.350092692819728, 0.3158423401687454, 0.2423743575351484, 0.042286323098818725, 0.13256498308114628, 0.08202341534708026, 0.05642345805268541, 0.07292365602075038, 0.05565407501530986, 0.3485593983685696], \"yaxis\": \"y\"}],\n",
       "                        {\"annotations\": [{\"align\": \"center\", \"bgcolor\": \"#E9967A\", \"bordercolor\": \"#708090\", \"borderwidth\": 2, \"font\": {\"color\": \"DarkRed\"}, \"height\": 20, \"showarrow\": false, \"text\": \"<b>Zona cr\\u00edtica</b>\", \"width\": 110, \"x\": 0.98, \"xref\": \"paper\", \"y\": 0.99, \"yref\": \"paper\"}, {\"align\": \"center\", \"bgcolor\": \"#DCDCDC\", \"bordercolor\": \"#708090\", \"borderwidth\": 2, \"font\": {\"color\": \"black\"}, \"height\": 20, \"showarrow\": false, \"text\": \"Alta letalidade\", \"width\": 110, \"x\": 0.98, \"xref\": \"paper\", \"y\": 0.01, \"yref\": \"paper\"}, {\"align\": \"center\", \"bgcolor\": \"#DCDCDC\", \"bordercolor\": \"#708090\", \"borderwidth\": 2, \"font\": {\"color\": \"DarkRed\"}, \"height\": 20, \"showarrow\": false, \"text\": \"Alta contamina\\u00e7\\u00e3o\", \"width\": 110, \"x\": 0, \"xref\": \"paper\", \"y\": 0.99, \"yref\": \"paper\"}, {\"align\": \"center\", \"bgcolor\": \"#DCDCDC\", \"bordercolor\": \"#708090\", \"borderwidth\": 2, \"font\": {\"color\": \"black\"}, \"height\": 20, \"showarrow\": false, \"text\": \"Zona controlada\", \"width\": 110, \"x\": 0, \"xref\": \"paper\", \"y\": 0.01, \"yref\": \"paper\"}], \"height\": 520, \"hovermode\": false, \"legend\": {\"itemsizing\": \"constant\", \"title\": {\"text\": \"label\"}, \"tracegroupgap\": 0}, \"margin\": {\"t\": 60}, \"plot_bgcolor\": \"rgb(245,245,245)\", \"shapes\": [{\"line\": {\"color\": \"gray\", \"dash\": \"dashdot\", \"width\": 1}, \"type\": \"line\", \"x0\": 6, \"x1\": 6, \"xref\": \"x\", \"y0\": -0.2, \"y1\": 1.2, \"yref\": \"y\"}, {\"line\": {\"color\": \"gray\", \"dash\": \"dashdot\", \"width\": 1}, \"type\": \"line\", \"x0\": 0, \"x1\": 12, \"xref\": \"x\", \"y0\": 0.4, \"y1\": 0.4, \"yref\": \"y\"}], \"template\": {\"data\": {\"bar\": [{\"error_x\": {\"color\": \"#2a3f5f\"}, \"error_y\": {\"color\": \"#2a3f5f\"}, \"marker\": {\"line\": {\"color\": \"#E5ECF6\", \"width\": 0.5}}, \"type\": \"bar\"}], \"barpolar\": [{\"marker\": {\"line\": {\"color\": \"#E5ECF6\", \"width\": 0.5}}, \"type\": \"barpolar\"}], \"carpet\": [{\"aaxis\": {\"endlinecolor\": \"#2a3f5f\", \"gridcolor\": \"white\", \"linecolor\": \"white\", \"minorgridcolor\": \"white\", \"startlinecolor\": \"#2a3f5f\"}, \"baxis\": {\"endlinecolor\": \"#2a3f5f\", \"gridcolor\": \"white\", \"linecolor\": \"white\", \"minorgridcolor\": \"white\", \"startlinecolor\": \"#2a3f5f\"}, \"type\": \"carpet\"}], \"choropleth\": [{\"colorbar\": {\"outlinewidth\": 0, \"ticks\": \"\"}, \"type\": \"choropleth\"}], \"contour\": [{\"colorbar\": {\"outlinewidth\": 0, \"ticks\": \"\"}, \"colorscale\": [[0.0, \"#0d0887\"], [0.1111111111111111, \"#46039f\"], [0.2222222222222222, \"#7201a8\"], [0.3333333333333333, \"#9c179e\"], [0.4444444444444444, \"#bd3786\"], [0.5555555555555556, \"#d8576b\"], [0.6666666666666666, \"#ed7953\"], [0.7777777777777778, \"#fb9f3a\"], [0.8888888888888888, \"#fdca26\"], [1.0, \"#f0f921\"]], \"type\": \"contour\"}], \"contourcarpet\": [{\"colorbar\": {\"outlinewidth\": 0, \"ticks\": \"\"}, \"type\": \"contourcarpet\"}], \"heatmap\": [{\"colorbar\": {\"outlinewidth\": 0, \"ticks\": \"\"}, \"colorscale\": [[0.0, \"#0d0887\"], [0.1111111111111111, \"#46039f\"], [0.2222222222222222, \"#7201a8\"], [0.3333333333333333, \"#9c179e\"], [0.4444444444444444, \"#bd3786\"], [0.5555555555555556, \"#d8576b\"], [0.6666666666666666, \"#ed7953\"], [0.7777777777777778, \"#fb9f3a\"], [0.8888888888888888, \"#fdca26\"], [1.0, \"#f0f921\"]], \"type\": \"heatmap\"}], \"heatmapgl\": [{\"colorbar\": {\"outlinewidth\": 0, \"ticks\": \"\"}, \"colorscale\": [[0.0, \"#0d0887\"], [0.1111111111111111, \"#46039f\"], [0.2222222222222222, \"#7201a8\"], [0.3333333333333333, \"#9c179e\"], [0.4444444444444444, \"#bd3786\"], [0.5555555555555556, \"#d8576b\"], [0.6666666666666666, \"#ed7953\"], [0.7777777777777778, \"#fb9f3a\"], [0.8888888888888888, \"#fdca26\"], [1.0, \"#f0f921\"]], \"type\": \"heatmapgl\"}], \"histogram\": [{\"marker\": {\"colorbar\": {\"outlinewidth\": 0, \"ticks\": \"\"}}, \"type\": \"histogram\"}], \"histogram2d\": [{\"colorbar\": {\"outlinewidth\": 0, \"ticks\": \"\"}, \"colorscale\": [[0.0, \"#0d0887\"], [0.1111111111111111, \"#46039f\"], [0.2222222222222222, \"#7201a8\"], [0.3333333333333333, \"#9c179e\"], [0.4444444444444444, \"#bd3786\"], [0.5555555555555556, \"#d8576b\"], [0.6666666666666666, \"#ed7953\"], [0.7777777777777778, \"#fb9f3a\"], [0.8888888888888888, \"#fdca26\"], [1.0, \"#f0f921\"]], \"type\": \"histogram2d\"}], \"histogram2dcontour\": [{\"colorbar\": {\"outlinewidth\": 0, \"ticks\": \"\"}, \"colorscale\": [[0.0, \"#0d0887\"], [0.1111111111111111, \"#46039f\"], [0.2222222222222222, \"#7201a8\"], [0.3333333333333333, \"#9c179e\"], [0.4444444444444444, \"#bd3786\"], [0.5555555555555556, \"#d8576b\"], [0.6666666666666666, \"#ed7953\"], [0.7777777777777778, \"#fb9f3a\"], [0.8888888888888888, \"#fdca26\"], [1.0, \"#f0f921\"]], \"type\": \"histogram2dcontour\"}], \"mesh3d\": [{\"colorbar\": {\"outlinewidth\": 0, \"ticks\": \"\"}, \"type\": \"mesh3d\"}], \"parcoords\": [{\"line\": {\"colorbar\": {\"outlinewidth\": 0, \"ticks\": \"\"}}, \"type\": \"parcoords\"}], \"pie\": [{\"automargin\": true, \"type\": \"pie\"}], \"scatter\": [{\"marker\": {\"colorbar\": {\"outlinewidth\": 0, \"ticks\": \"\"}}, \"type\": \"scatter\"}], \"scatter3d\": [{\"line\": {\"colorbar\": {\"outlinewidth\": 0, \"ticks\": \"\"}}, \"marker\": {\"colorbar\": {\"outlinewidth\": 0, \"ticks\": \"\"}}, \"type\": \"scatter3d\"}], \"scattercarpet\": [{\"marker\": {\"colorbar\": {\"outlinewidth\": 0, \"ticks\": \"\"}}, \"type\": \"scattercarpet\"}], \"scattergeo\": [{\"marker\": {\"colorbar\": {\"outlinewidth\": 0, \"ticks\": \"\"}}, \"type\": \"scattergeo\"}], \"scattergl\": [{\"marker\": {\"colorbar\": {\"outlinewidth\": 0, \"ticks\": \"\"}}, \"type\": \"scattergl\"}], \"scattermapbox\": [{\"marker\": {\"colorbar\": {\"outlinewidth\": 0, \"ticks\": \"\"}}, \"type\": \"scattermapbox\"}], \"scatterpolar\": [{\"marker\": {\"colorbar\": {\"outlinewidth\": 0, \"ticks\": \"\"}}, \"type\": \"scatterpolar\"}], \"scatterpolargl\": [{\"marker\": {\"colorbar\": {\"outlinewidth\": 0, \"ticks\": \"\"}}, \"type\": \"scatterpolargl\"}], \"scatterternary\": [{\"marker\": {\"colorbar\": {\"outlinewidth\": 0, \"ticks\": \"\"}}, \"type\": \"scatterternary\"}], \"surface\": [{\"colorbar\": {\"outlinewidth\": 0, \"ticks\": \"\"}, \"colorscale\": [[0.0, \"#0d0887\"], [0.1111111111111111, \"#46039f\"], [0.2222222222222222, \"#7201a8\"], [0.3333333333333333, \"#9c179e\"], [0.4444444444444444, \"#bd3786\"], [0.5555555555555556, \"#d8576b\"], [0.6666666666666666, \"#ed7953\"], [0.7777777777777778, \"#fb9f3a\"], [0.8888888888888888, \"#fdca26\"], [1.0, \"#f0f921\"]], \"type\": \"surface\"}], \"table\": [{\"cells\": {\"fill\": {\"color\": \"#EBF0F8\"}, \"line\": {\"color\": \"white\"}}, \"header\": {\"fill\": {\"color\": \"#C8D4E3\"}, \"line\": {\"color\": \"white\"}}, \"type\": \"table\"}]}, \"layout\": {\"annotationdefaults\": {\"arrowcolor\": \"#2a3f5f\", \"arrowhead\": 0, \"arrowwidth\": 1}, \"coloraxis\": {\"colorbar\": {\"outlinewidth\": 0, \"ticks\": \"\"}}, \"colorscale\": {\"diverging\": [[0, \"#8e0152\"], [0.1, \"#c51b7d\"], [0.2, \"#de77ae\"], [0.3, \"#f1b6da\"], [0.4, \"#fde0ef\"], [0.5, \"#f7f7f7\"], [0.6, \"#e6f5d0\"], [0.7, \"#b8e186\"], [0.8, \"#7fbc41\"], [0.9, \"#4d9221\"], [1, \"#276419\"]], \"sequential\": [[0.0, \"#0d0887\"], [0.1111111111111111, \"#46039f\"], [0.2222222222222222, \"#7201a8\"], [0.3333333333333333, \"#9c179e\"], [0.4444444444444444, \"#bd3786\"], [0.5555555555555556, \"#d8576b\"], [0.6666666666666666, \"#ed7953\"], [0.7777777777777778, \"#fb9f3a\"], [0.8888888888888888, \"#fdca26\"], [1.0, \"#f0f921\"]], \"sequentialminus\": [[0.0, \"#0d0887\"], [0.1111111111111111, \"#46039f\"], [0.2222222222222222, \"#7201a8\"], [0.3333333333333333, \"#9c179e\"], [0.4444444444444444, \"#bd3786\"], [0.5555555555555556, \"#d8576b\"], [0.6666666666666666, \"#ed7953\"], [0.7777777777777778, \"#fb9f3a\"], [0.8888888888888888, \"#fdca26\"], [1.0, \"#f0f921\"]]}, \"colorway\": [\"#636efa\", \"#EF553B\", \"#00cc96\", \"#ab63fa\", \"#FFA15A\", \"#19d3f3\", \"#FF6692\", \"#B6E880\", \"#FF97FF\", \"#FECB52\"], \"font\": {\"color\": \"#2a3f5f\"}, \"geo\": {\"bgcolor\": \"white\", \"lakecolor\": \"white\", \"landcolor\": \"#E5ECF6\", \"showlakes\": true, \"showland\": true, \"subunitcolor\": \"white\"}, \"hoverlabel\": {\"align\": \"left\"}, \"hovermode\": \"closest\", \"mapbox\": {\"style\": \"light\"}, \"paper_bgcolor\": \"white\", \"plot_bgcolor\": \"#E5ECF6\", \"polar\": {\"angularaxis\": {\"gridcolor\": \"white\", \"linecolor\": \"white\", \"ticks\": \"\"}, \"bgcolor\": \"#E5ECF6\", \"radialaxis\": {\"gridcolor\": \"white\", \"linecolor\": \"white\", \"ticks\": \"\"}}, \"scene\": {\"xaxis\": {\"backgroundcolor\": \"#E5ECF6\", \"gridcolor\": \"white\", \"gridwidth\": 2, \"linecolor\": \"white\", \"showbackground\": true, \"ticks\": \"\", \"zerolinecolor\": \"white\"}, \"yaxis\": {\"backgroundcolor\": \"#E5ECF6\", \"gridcolor\": \"white\", \"gridwidth\": 2, \"linecolor\": \"white\", \"showbackground\": true, \"ticks\": \"\", \"zerolinecolor\": \"white\"}, \"zaxis\": {\"backgroundcolor\": \"#E5ECF6\", \"gridcolor\": \"white\", \"gridwidth\": 2, \"linecolor\": \"white\", \"showbackground\": true, \"ticks\": \"\", \"zerolinecolor\": \"white\"}}, \"shapedefaults\": {\"line\": {\"color\": \"#2a3f5f\"}}, \"ternary\": {\"aaxis\": {\"gridcolor\": \"white\", \"linecolor\": \"white\", \"ticks\": \"\"}, \"baxis\": {\"gridcolor\": \"white\", \"linecolor\": \"white\", \"ticks\": \"\"}, \"bgcolor\": \"#E5ECF6\", \"caxis\": {\"gridcolor\": \"white\", \"linecolor\": \"white\", \"ticks\": \"\"}}, \"title\": {\"x\": 0.05}, \"xaxis\": {\"automargin\": true, \"gridcolor\": \"white\", \"linecolor\": \"white\", \"ticks\": \"\", \"title\": {\"standoff\": 15}, \"zerolinecolor\": \"white\", \"zerolinewidth\": 2}, \"yaxis\": {\"automargin\": true, \"gridcolor\": \"white\", \"linecolor\": \"white\", \"ticks\": \"\", \"title\": {\"standoff\": 15}, \"zerolinecolor\": \"white\", \"zerolinewidth\": 2}}}, \"title\": {\"text\": \"Rela\\u00e7\\u00e3o entre n\\u00famero de casos e letalidade da COVID-19 no Brasil, por estado, e sua evolu\\u00e7\\u00e3o\"}, \"width\": 980, \"xaxis\": {\"anchor\": \"y\", \"autorange\": false, \"domain\": [0.0, 1.0], \"range\": [0, 12], \"title\": {\"text\": \"<b>Letalidade (% \\u00f3bitos/casos)</b>\"}, \"type\": \"linear\"}, \"yaxis\": {\"anchor\": \"x\", \"autorange\": false, \"domain\": [0.0, 1.0], \"range\": [-0.2, 1.2], \"title\": {\"text\": \"<b>Contamina\\u00e7\\u00e3o (% casos/popula\\u00e7\\u00e3o)</b>\"}, \"type\": \"linear\"}},\n",
       "                        {\"responsive\": true}\n",
       "                    ).then(function(){\n",
       "                            \n",
       "var gd = document.getElementById('77ada0f5-057b-4232-b647-8d245a72b1bb');\n",
       "var x = new MutationObserver(function (mutations, observer) {{\n",
       "        var display = window.getComputedStyle(gd).display;\n",
       "        if (!display || display === 'none') {{\n",
       "            console.log([gd, 'removed!']);\n",
       "            Plotly.purge(gd);\n",
       "            observer.disconnect();\n",
       "        }}\n",
       "}});\n",
       "\n",
       "// Listen for the removal of the full notebook cells\n",
       "var notebookContainer = gd.closest('#notebook-container');\n",
       "if (notebookContainer) {{\n",
       "    x.observe(notebookContainer, {childList: true});\n",
       "}}\n",
       "\n",
       "// Listen for the clearing of the current output cell\n",
       "var outputEl = gd.closest('.output');\n",
       "if (outputEl) {{\n",
       "    x.observe(outputEl, {childList: true});\n",
       "}}\n",
       "\n",
       "                        })\n",
       "                };\n",
       "                });\n",
       "            </script>\n",
       "        </div>"
      ]
     },
     "metadata": {},
     "output_type": "display_data"
    }
   ],
   "source": [
    "fig2 = px.scatter(fourQuadData, x='lethality_pct', y='contamRate',\n",
    "                 size='deathRate', color='label', text='estado',\n",
    "                 size_max=40)\n",
    "\n",
    "fig2.update_traces(textposition='middle center',\n",
    "                   textfont=dict(family=\"sans serif\",size=13))\n",
    "\n",
    "fig2.update_layout(\n",
    "    ## Chart general set:\n",
    "    height=520,\n",
    "    width=980,\n",
    "    plot_bgcolor='rgb(245,245,245)',\n",
    "    title_text='Relação entre número de casos e letalidade da COVID-19 no Brasil, por estado, e sua evolução',\n",
    "    xaxis_title=\"<b>Letalidade (% óbitos/casos)</b>\",\n",
    "    yaxis_title=\"<b>Contaminação (% casos/população)</b>\",\n",
    "    hovermode=False,  #Disable the hover information.\n",
    "    ## Axis ranges:\n",
    "    xaxis=dict(\n",
    "        autorange=False,\n",
    "        range=[0, 12],\n",
    "        type=\"linear\"\n",
    "    ),\n",
    "    yaxis=dict(\n",
    "        autorange=False,\n",
    "        range=[-0.2, 1.2],\n",
    "        type=\"linear\"),\n",
    "#    ## Adjusting the colorbar title:\n",
    "#    coloraxis=dict(\n",
    "#        colorbar=dict(\n",
    "#            title=dict(\n",
    "#                text='<b>Óbitos <br>acumulados</b>'\n",
    "#            )\n",
    "#        )),\n",
    "    ## Vertical and horizontal lines\n",
    "    shapes=[\n",
    "        dict(\n",
    "          type= 'line',\n",
    "          yref= 'y', y0= -0.2, y1= 1.2,\n",
    "          xref= 'x', x0= 6, x1= 6,\n",
    "          line=dict(\n",
    "                color=\"gray\",\n",
    "                width=1,\n",
    "                dash=\"dashdot\",\n",
    "                )),\n",
    "        dict(\n",
    "          type= 'line',\n",
    "          yref= 'y', y0= 0.4, y1= 0.4,\n",
    "          xref= 'x', x0= 0, x1= 12,\n",
    "          line=dict(\n",
    "                color=\"gray\",\n",
    "                width=1,\n",
    "                dash=\"dashdot\",\n",
    "                ))\n",
    "        ])\n",
    "\n",
    "fig2.update_layout(\n",
    "    ## Points annotations:\n",
    "    annotations=[\n",
    "        go.layout.Annotation(\n",
    "            text='<b>Zona crítica</b>',\n",
    "            align='center',\n",
    "            showarrow=False,\n",
    "            xref='paper',\n",
    "            yref='paper',\n",
    "            x=.98,\n",
    "            y=.99,\n",
    "            bordercolor='#708090',\n",
    "            borderwidth=2,\n",
    "            bgcolor='#E9967A',\n",
    "            font=dict(\n",
    "                color='DarkRed'),\n",
    "            width=110,\n",
    "            height=20),\n",
    "        go.layout.Annotation(\n",
    "            text='Alta letalidade',\n",
    "            align='center',\n",
    "            showarrow=False,\n",
    "            xref='paper',\n",
    "            yref='paper',\n",
    "            x=.98,\n",
    "            y=.01,\n",
    "            bordercolor='#708090',\n",
    "            borderwidth=2,\n",
    "            bgcolor='#DCDCDC',\n",
    "            font=dict(\n",
    "                color='black'),\n",
    "            width=110,\n",
    "            height=20),\n",
    "        go.layout.Annotation(\n",
    "            text='Alta contaminação',\n",
    "            align='center',\n",
    "            showarrow=False,\n",
    "            xref='paper',\n",
    "            yref='paper',\n",
    "            x=0,\n",
    "            y=.99,\n",
    "            bordercolor='#708090',\n",
    "            borderwidth=2,\n",
    "            bgcolor='#DCDCDC',\n",
    "            font=dict(\n",
    "                color='DarkRed'),\n",
    "            width=110,\n",
    "            height=20),\n",
    "        go.layout.Annotation(\n",
    "            text='Zona controlada',\n",
    "            align='center',\n",
    "            showarrow=False,\n",
    "            xref='paper',\n",
    "            yref='paper',\n",
    "            x=0,\n",
    "            y=.01,\n",
    "            bordercolor='#708090',\n",
    "            borderwidth=2,\n",
    "            bgcolor='#DCDCDC',\n",
    "            font=dict(\n",
    "                color='black'),\n",
    "            width=110,\n",
    "            height=20),\n",
    "    ]\n",
    ")\n",
    "\n",
    "fig2.show()"
   ]
  },
  {
   "cell_type": "code",
   "execution_count": null,
   "metadata": {},
   "outputs": [],
   "source": []
  },
  {
   "cell_type": "code",
   "execution_count": null,
   "metadata": {},
   "outputs": [],
   "source": []
  },
  {
   "cell_type": "code",
   "execution_count": 279,
   "metadata": {},
   "outputs": [
    {
     "ename": "ValueError",
     "evalue": "\n    Invalid element(s) received for the 'shapes' property of layout\n        Invalid elements include: [[{'type': 'line', 'x0': 3.7025703794369647, 'y0': 3.7025703794369647, 'x1': 0.18388217586405772, 'y1': 0.18388217586405772, 'line': {'color': 'grey', 'width': 2}}, {'type': 'line', 'x0': 3.074245939675174, 'y0': 3.074245939675174, 'x1': 0.2910154876281844, 'y1': 0.2910154876281844, 'line': {'color': 'grey', 'width': 2}}, {'type': 'line', 'x0': 2.155076649633415, 'y0': 2.155076649633415, 'x1': 0.510355071518876, 'y1': 0.510355071518876, 'line': {'color': 'grey', 'width': 2}}, {'type': 'line', 'x0': 2.5450521656655076, 'y0': 2.5450521656655076, 'x1': 0.7172864213349056, 'y1': 0.7172864213349056, 'line': {'color': 'grey', 'width': 2}}, {'type': 'line', 'x0': 5.8813816788851465, 'y0': 5.8813816788851465, 'x1': 0.7306379848269928, 'y1': 0.7306379848269928, 'line': {'color': 'grey', 'width': 2}}, {'type': 'line', 'x0': 4.957629147316513, 'y0': 4.957629147316513, 'x1': 1.007914641640671, 'y1': 1.007914641640671, 'line': {'color': 'grey', 'width': 2}}, {'type': 'line', 'x0': 3.4208432776451874, 'y0': 3.4208432776451874, 'x1': 0.4150151627457034, 'y1': 0.4150151627457034, 'line': {'color': 'grey', 'width': 2}}, {'type': 'line', 'x0': 3.14192849404117, 'y0': 3.14192849404117, 'x1': 0.6094812970792112, 'y1': 0.6094812970792112, 'line': {'color': 'grey', 'width': 2}}, {'type': 'line', 'x0': 9.096138359473866, 'y0': 9.096138359473866, 'x1': 0.3031199489937364, 'y1': 0.3031199489937364, 'line': {'color': 'grey', 'width': 2}}, {'type': 'line', 'x0': 7.688061819902224, 'y0': 7.688061819902224, 'x1': 0.4422480185380103, 'y1': 0.4422480185380103, 'line': {'color': 'grey', 'width': 2}}, {'type': 'line', 'x0': 2.551640340218712, 'y0': 2.551640340218712, 'x1': 0.7784981276552474, 'y1': 0.7784981276552474, 'line': {'color': 'grey', 'width': 2}}, {'type': 'line', 'x0': 2.3053589484327603, 'y0': 2.3053589484327603, 'x1': 1.169402564172296, 'y1': 1.169402564172296, 'line': {'color': 'grey', 'width': 2}}, {'type': 'line', 'x0': 2.1513353115727005, 'y0': 2.1513353115727005, 'x1': 0.17140684584700794, 'y1': 0.17140684584700794, 'line': {'color': 'grey', 'width': 2}}, {'type': 'line', 'x0': 1.7491369390103566, 'y0': 1.7491369390103566, 'x1': 0.27624730905239225, 'y1': 0.27624730905239225, 'line': {'color': 'grey', 'width': 2}}, {'type': 'line', 'x0': 3.4407092074080574, 'y0': 3.4407092074080574, 'x1': 0.32205536508535965, 'y1': 0.32205536508535965, 'line': {'color': 'grey', 'width': 2}}, {'type': 'line', 'x0': 2.765107516219509, 'y0': 2.765107516219509, 'x1': 0.49888476351347055, 'y1': 0.49888476351347055, 'line': {'color': 'grey', 'width': 2}}, {'type': 'line', 'x0': 3.0985915492957745, 'y0': 3.0985915492957745, 'x1': 0.10845566164522046, 'y1': 0.10845566164522046, 'line': {'color': 'grey', 'width': 2}}, {'type': 'line', 'x0': 3.281890994334831, 'y0': 3.281890994334831, 'x1': 0.15639000900334746, 'y1': 0.15639000900334746, 'line': {'color': 'grey', 'width': 2}}, {'type': 'line', 'x0': 6.889595136106122, 'y0': 6.889595136106122, 'x1': 0.39624059277636486, 'y1': 0.39624059277636486, 'line': {'color': 'grey', 'width': 2}}, {'type': 'line', 'x0': 6.312371297322985, 'y0': 6.312371297322985, 'x1': 0.5530395163072414, 'y1': 0.5530395163072414, 'line': {'color': 'grey', 'width': 2}}, {'type': 'line', 'x0': 4.3916789241437275, 'y0': 4.3916789241437275, 'x1': 0.1357057167779773, 'y1': 0.1357057167779773, 'line': {'color': 'grey', 'width': 2}}, {'type': 'line', 'x0': 4.055750878955299, 'y0': 4.055750878955299, 'x1': 0.22709819886947072, 'y1': 0.22709819886947072, 'line': {'color': 'grey', 'width': 2}}, {'type': 'line', 'x0': 3.4805389221556884, 'y0': 3.4805389221556884, 'x1': 0.19949593429973717, 'y1': 0.19949593429973717, 'line': {'color': 'grey', 'width': 2}}, {'type': 'line', 'x0': 2.701715954728003, 'y0': 2.701715954728003, 'x1': 0.3408304416460704, 'y1': 0.3408304416460704, 'line': {'color': 'grey', 'width': 2}}, {'type': 'line', 'x0': 7.9249806105901435, 'y0': 7.9249806105901435, 'x1': 0.29680641694510795, 'y1': 0.29680641694510795, 'line': {'color': 'grey', 'width': 2}}, {'type': 'line', 'x0': 8.237822349570202, 'y0': 8.237822349570202, 'x1': 0.36517464398872834, 'y1': 0.36517464398872834, 'line': {'color': 'grey', 'width': 2}}, {'type': 'line', 'x0': 5.04340017958695, 'y0': 5.04340017958695, 'x1': 0.2002183164701888, 'y1': 0.2002183164701888, 'line': {'color': 'grey', 'width': 2}}, {'type': 'line', 'x0': 4.2539448186767554, 'y0': 4.2539448186767554, 'x1': 0.32471803286253165, 'y1': 0.32471803286253165, 'line': {'color': 'grey', 'width': 2}}, {'type': 'line', 'x0': 1.8906020558002938, 'y0': 1.8906020558002938, 'x1': 0.2370039361446664, 'y1': 0.2370039361446664, 'line': {'color': 'grey', 'width': 2}}, {'type': 'line', 'x0': 2.2950366376330704, 'y0': 2.2950366376330704, 'x1': 0.31465665751365124, 'y1': 0.31465665751365124, 'line': {'color': 'grey', 'width': 2}}, {'type': 'line', 'x0': 3.3582089552238807, 'y0': 3.3582089552238807, 'x1': 0.09550150527154325, 'y1': 0.09550150527154325, 'line': {'color': 'grey', 'width': 2}}, {'type': 'line', 'x0': 3.709387236744629, 'y0': 3.709387236744629, 'x1': 0.12706191541971446, 'y1': 0.12706191541971446, 'line': {'color': 'grey', 'width': 2}}, {'type': 'line', 'x0': 3.3036483769031886, 'y0': 3.3036483769031886, 'x1': 0.03288803786668781, 'y1': 0.03288803786668781, 'line': {'color': 'grey', 'width': 2}}, {'type': 'line', 'x0': 2.60543580131209, 'y0': 2.60543580131209, 'x1': 0.05040439012317709, 'y1': 0.05040439012317709, 'line': {'color': 'grey', 'width': 2}}, {'type': 'line', 'x0': 4.486251808972503, 'y0': 4.486251808972503, 'x1': 0.25792243663916986, 'y1': 0.25792243663916986, 'line': {'color': 'grey', 'width': 2}}, {'type': 'line', 'x0': 4.364204989693652, 'y0': 4.364204989693652, 'x1': 0.350092692819728, 'y1': 0.350092692819728, 'line': {'color': 'grey', 'width': 2}}, {'type': 'line', 'x0': 10.445824214972772, 'y0': 10.445824214972772, 'x1': 0.2276173167788622, 'y1': 0.2276173167788622, 'line': {'color': 'grey', 'width': 2}}, {'type': 'line', 'x0': 10.016504676324958, 'y0': 10.016504676324958, 'x1': 0.3158423401687454, 'y1': 0.3158423401687454, 'line': {'color': 'grey', 'width': 2}}, {'type': 'line', 'x0': 7.437967115097161, 'y0': 7.437967115097161, 'x1': 0.18211396320511777, 'y1': 0.18211396320511777, 'line': {'color': 'grey', 'width': 2}}, {'type': 'line', 'x0': 6.888836975273145, 'y0': 6.888836975273145, 'x1': 0.2423743575351484, 'y1': 0.2423743575351484, 'line': {'color': 'grey', 'width': 2}}, {'type': 'line', 'x0': 4.683278294806365, 'y0': 4.683278294806365, 'x1': 0.029132521663322683, 'y1': 0.029132521663322683, 'line': {'color': 'grey', 'width': 2}}, {'type': 'line', 'x0': 3.9296794208893484, 'y0': 3.9296794208893484, 'x1': 0.042286323098818725, 'y1': 0.042286323098818725, 'line': {'color': 'grey', 'width': 2}}, {'type': 'line', 'x0': 1.5854545454545454, 'y0': 1.5854545454545454, 'x1': 0.09595538625846292, 'y1': 0.09595538625846292, 'line': {'color': 'grey', 'width': 2}}, {'type': 'line', 'x0': 1.5371657190987578, 'y0': 1.5371657190987578, 'x1': 0.13256498308114628, 'y1': 0.13256498308114628, 'line': {'color': 'grey', 'width': 2}}, {'type': 'line', 'x0': 3.0035066321085533, 'y0': 3.0035066321085533, 'x1': 0.05765019087671446, 'y1': 0.05765019087671446, 'line': {'color': 'grey', 'width': 2}}, {'type': 'line', 'x0': 2.4860694384912128, 'y0': 2.4860694384912128, 'x1': 0.08202341534708026, 'y1': 0.08202341534708026, 'line': {'color': 'grey', 'width': 2}}, {'type': 'line', 'x0': 1.6617790811339197, 'y0': 1.6617790811339197, 'x1': 0.036811988257587476, 'y1': 0.036811988257587476, 'line': {'color': 'grey', 'width': 2}}, {'type': 'line', 'x0': 1.2755102040816326, 'y0': 1.2755102040816326, 'x1': 0.05642345805268541, 'y1': 0.05642345805268541, 'line': {'color': 'grey', 'width': 2}}, {'type': 'line', 'x0': 2.7333333333333334, 'y0': 2.7333333333333334, 'x1': 0.043048203081906954, 'y1': 0.043048203081906954, 'line': {'color': 'grey', 'width': 2}}, {'type': 'line', 'x0': 2.5974025974025974, 'y0': 2.5974025974025974, 'x1': 0.07292365602075038, 'y1': 0.07292365602075038, 'line': {'color': 'grey', 'width': 2}}, {'type': 'line', 'x0': 3.821656050955414, 'y0': 3.821656050955414, 'x1': 0.03579186800779784, 'y1': 0.03579186800779784, 'line': {'color': 'grey', 'width': 2}}, {'type': 'line', 'x0': 3.2514080901177675, 'y0': 3.2514080901177675, 'x1': 0.05565407501530986, 'y1': 0.05565407501530986, 'line': {'color': 'grey', 'width': 2}}, {'type': 'line', 'x0': 1.645021645021645, 'y0': 1.645021645021645, 'x1': 0.22983031690715386, 'y1': 0.22983031690715386, 'line': {'color': 'grey', 'width': 2}}, {'type': 'line', 'x0': 1.627021883920076, 'y0': 1.627021883920076, 'x1': 0.3485593983685696, 'y1': 0.3485593983685696, 'line': {'color': 'grey', 'width': 2}}]]\n\n    The 'shapes' property is a tuple of instances of\n    Shape that may be specified as:\n      - A list or tuple of instances of plotly.graph_objs.layout.Shape\n      - A list or tuple of dicts of string/value properties that\n        will be passed to the Shape constructor\n\n        Supported dict properties:\n            \n            editable\n                Determines whether the shape could be activated\n                for edit or not. Has no effect when the older\n                editable shapes mode is enabled via\n                `config.editable` or\n                `config.edits.shapePosition`.\n            fillcolor\n                Sets the color filling the shape's interior.\n                Only applies to closed shapes.\n            fillrule\n                Determines which regions of complex paths\n                constitute the interior. For more info please\n                visit https://developer.mozilla.org/en-\n                US/docs/Web/SVG/Attribute/fill-rule\n            layer\n                Specifies whether shapes are drawn below or\n                above traces.\n            line\n                :class:`plotly.graph_objects.layout.shape.Line`\n                instance or dict with compatible properties\n            name\n                When used in a template, named items are\n                created in the output figure in addition to any\n                items the figure already has in this array. You\n                can modify these items in the output figure by\n                making your own item with `templateitemname`\n                matching this `name` alongside your\n                modifications (including `visible: false` or\n                `enabled: false` to hide it). Has no effect\n                outside of a template.\n            opacity\n                Sets the opacity of the shape.\n            path\n                For `type` \"path\" - a valid SVG path with the\n                pixel values replaced by data values in\n                `xsizemode`/`ysizemode` being \"scaled\" and\n                taken unmodified as pixels relative to\n                `xanchor` and `yanchor` in case of \"pixel\" size\n                mode. There are a few restrictions / quirks\n                only absolute instructions, not relative. So\n                the allowed segments are: M, L, H, V, Q, C, T,\n                S, and Z arcs (A) are not allowed because\n                radius rx and ry are relative. In the future we\n                could consider supporting relative commands,\n                but we would have to decide on how to handle\n                date and log axes. Note that even as is, Q and\n                C Bezier paths that are smooth on linear axes\n                may not be smooth on log, and vice versa. no\n                chained \"polybezier\" commands - specify the\n                segment type for each one. On category axes,\n                values are numbers scaled to the serial numbers\n                of categories because using the categories\n                themselves there would be no way to describe\n                fractional positions On data axes: because\n                space and T are both normal components of path\n                strings, we can't use either to separate date\n                from time parts. Therefore we'll use underscore\n                for this purpose: 2015-02-21_13:45:56.789\n            templateitemname\n                Used to refer to a named item in this array in\n                the template. Named items from the template\n                will be created even without a matching item in\n                the input figure, but you can modify one by\n                making an item with `templateitemname` matching\n                its `name`, alongside your modifications\n                (including `visible: false` or `enabled: false`\n                to hide it). If there is no template or no\n                matching item, this item will be hidden unless\n                you explicitly show it with `visible: true`.\n            type\n                Specifies the shape type to be drawn. If\n                \"line\", a line is drawn from (`x0`,`y0`) to\n                (`x1`,`y1`) with respect to the axes' sizing\n                mode. If \"circle\", a circle is drawn from\n                ((`x0`+`x1`)/2, (`y0`+`y1`)/2)) with radius\n                (|(`x0`+`x1`)/2 - `x0`|, |(`y0`+`y1`)/2\n                -`y0`)|) with respect to the axes' sizing mode.\n                If \"rect\", a rectangle is drawn linking\n                (`x0`,`y0`), (`x1`,`y0`), (`x1`,`y1`),\n                (`x0`,`y1`), (`x0`,`y0`) with respect to the\n                axes' sizing mode. If \"path\", draw a custom SVG\n                path using `path`. with respect to the axes'\n                sizing mode.\n            visible\n                Determines whether or not this shape is\n                visible.\n            x0\n                Sets the shape's starting x position. See\n                `type` and `xsizemode` for more info.\n            x1\n                Sets the shape's end x position. See `type` and\n                `xsizemode` for more info.\n            xanchor\n                Only relevant in conjunction with `xsizemode`\n                set to \"pixel\". Specifies the anchor point on\n                the x axis to which `x0`, `x1` and x\n                coordinates within `path` are relative to. E.g.\n                useful to attach a pixel sized shape to a\n                certain data value. No effect when `xsizemode`\n                not set to \"pixel\".\n            xref\n                Sets the shape's x coordinate axis. If set to\n                an x axis id (e.g. \"x\" or \"x2\"), the `x`\n                position refers to an x coordinate. If set to\n                \"paper\", the `x` position refers to the\n                distance from the left side of the plotting\n                area in normalized coordinates where 0 (1)\n                corresponds to the left (right) side. If the\n                axis `type` is \"log\", then you must take the\n                log of your desired range. If the axis `type`\n                is \"date\", then you must convert the date to\n                unix time in milliseconds.\n            xsizemode\n                Sets the shapes's sizing mode along the x axis.\n                If set to \"scaled\", `x0`, `x1` and x\n                coordinates within `path` refer to data values\n                on the x axis or a fraction of the plot area's\n                width (`xref` set to \"paper\"). If set to\n                \"pixel\", `xanchor` specifies the x position in\n                terms of data or plot fraction but `x0`, `x1`\n                and x coordinates within `path` are pixels\n                relative to `xanchor`. This way, the shape can\n                have a fixed width while maintaining a position\n                relative to data or plot fraction.\n            y0\n                Sets the shape's starting y position. See\n                `type` and `ysizemode` for more info.\n            y1\n                Sets the shape's end y position. See `type` and\n                `ysizemode` for more info.\n            yanchor\n                Only relevant in conjunction with `ysizemode`\n                set to \"pixel\". Specifies the anchor point on\n                the y axis to which `y0`, `y1` and y\n                coordinates within `path` are relative to. E.g.\n                useful to attach a pixel sized shape to a\n                certain data value. No effect when `ysizemode`\n                not set to \"pixel\".\n            yref\n                Sets the annotation's y coordinate axis. If set\n                to an y axis id (e.g. \"y\" or \"y2\"), the `y`\n                position refers to an y coordinate If set to\n                \"paper\", the `y` position refers to the\n                distance from the bottom of the plotting area\n                in normalized coordinates where 0 (1)\n                corresponds to the bottom (top).\n            ysizemode\n                Sets the shapes's sizing mode along the y axis.\n                If set to \"scaled\", `y0`, `y1` and y\n                coordinates within `path` refer to data values\n                on the y axis or a fraction of the plot area's\n                height (`yref` set to \"paper\"). If set to\n                \"pixel\", `yanchor` specifies the y position in\n                terms of data or plot fraction but `y0`, `y1`\n                and y coordinates within `path` are pixels\n                relative to `yanchor`. This way, the shape can\n                have a fixed height while maintaining a\n                position relative to data or plot fraction.\n",
     "output_type": "error",
     "traceback": [
      "\u001b[0;31m---------------------------------------------------------------------------\u001b[0m",
      "\u001b[0;31mValueError\u001b[0m                                Traceback (most recent call last)",
      "\u001b[0;32m<ipython-input-279-fbf25f614371>\u001b[0m in \u001b[0;36m<module>\u001b[0;34m\u001b[0m\n\u001b[1;32m     52\u001b[0m                 \u001b[0mdash\u001b[0m\u001b[0;34m=\u001b[0m\u001b[0;34m\"dashdot\"\u001b[0m\u001b[0;34m,\u001b[0m\u001b[0;34m\u001b[0m\u001b[0;34m\u001b[0m\u001b[0m\n\u001b[1;32m     53\u001b[0m                 )),\n\u001b[0;32m---> 54\u001b[0;31m         \u001b[0mteste\u001b[0m\u001b[0;34m\u001b[0m\u001b[0;34m\u001b[0m\u001b[0m\n\u001b[0m\u001b[1;32m     55\u001b[0m     ])\n\u001b[1;32m     56\u001b[0m \u001b[0;34m\u001b[0m\u001b[0m\n",
      "\u001b[0;32m~/anaconda3/envs/analytics/lib/python3.7/site-packages/plotly/basedatatypes.py\u001b[0m in \u001b[0;36mupdate_layout\u001b[0;34m(self, dict1, overwrite, **kwargs)\u001b[0m\n\u001b[1;32m    963\u001b[0m             \u001b[0mThe\u001b[0m \u001b[0mFigure\u001b[0m \u001b[0mobject\u001b[0m \u001b[0mthat\u001b[0m \u001b[0mthe\u001b[0m \u001b[0mupdate_layout\u001b[0m \u001b[0mmethod\u001b[0m \u001b[0mwas\u001b[0m \u001b[0mcalled\u001b[0m \u001b[0mon\u001b[0m\u001b[0;34m\u001b[0m\u001b[0;34m\u001b[0m\u001b[0m\n\u001b[1;32m    964\u001b[0m         \"\"\"\n\u001b[0;32m--> 965\u001b[0;31m         \u001b[0mself\u001b[0m\u001b[0;34m.\u001b[0m\u001b[0mlayout\u001b[0m\u001b[0;34m.\u001b[0m\u001b[0mupdate\u001b[0m\u001b[0;34m(\u001b[0m\u001b[0mdict1\u001b[0m\u001b[0;34m,\u001b[0m \u001b[0moverwrite\u001b[0m\u001b[0;34m=\u001b[0m\u001b[0moverwrite\u001b[0m\u001b[0;34m,\u001b[0m \u001b[0;34m**\u001b[0m\u001b[0mkwargs\u001b[0m\u001b[0;34m)\u001b[0m\u001b[0;34m\u001b[0m\u001b[0;34m\u001b[0m\u001b[0m\n\u001b[0m\u001b[1;32m    966\u001b[0m         \u001b[0;32mreturn\u001b[0m \u001b[0mself\u001b[0m\u001b[0;34m\u001b[0m\u001b[0;34m\u001b[0m\u001b[0m\n\u001b[1;32m    967\u001b[0m \u001b[0;34m\u001b[0m\u001b[0m\n",
      "\u001b[0;32m~/anaconda3/envs/analytics/lib/python3.7/site-packages/plotly/basedatatypes.py\u001b[0m in \u001b[0;36mupdate\u001b[0;34m(self, dict1, overwrite, **kwargs)\u001b[0m\n\u001b[1;32m   4198\u001b[0m             \u001b[0;32mwith\u001b[0m \u001b[0mself\u001b[0m\u001b[0;34m.\u001b[0m\u001b[0mfigure\u001b[0m\u001b[0;34m.\u001b[0m\u001b[0mbatch_update\u001b[0m\u001b[0;34m(\u001b[0m\u001b[0;34m)\u001b[0m\u001b[0;34m:\u001b[0m\u001b[0;34m\u001b[0m\u001b[0;34m\u001b[0m\u001b[0m\n\u001b[1;32m   4199\u001b[0m                 \u001b[0mBaseFigure\u001b[0m\u001b[0;34m.\u001b[0m\u001b[0m_perform_update\u001b[0m\u001b[0;34m(\u001b[0m\u001b[0mself\u001b[0m\u001b[0;34m,\u001b[0m \u001b[0mdict1\u001b[0m\u001b[0;34m,\u001b[0m \u001b[0moverwrite\u001b[0m\u001b[0;34m=\u001b[0m\u001b[0moverwrite\u001b[0m\u001b[0;34m)\u001b[0m\u001b[0;34m\u001b[0m\u001b[0;34m\u001b[0m\u001b[0m\n\u001b[0;32m-> 4200\u001b[0;31m                 \u001b[0mBaseFigure\u001b[0m\u001b[0;34m.\u001b[0m\u001b[0m_perform_update\u001b[0m\u001b[0;34m(\u001b[0m\u001b[0mself\u001b[0m\u001b[0;34m,\u001b[0m \u001b[0mkwargs\u001b[0m\u001b[0;34m,\u001b[0m \u001b[0moverwrite\u001b[0m\u001b[0;34m=\u001b[0m\u001b[0moverwrite\u001b[0m\u001b[0;34m)\u001b[0m\u001b[0;34m\u001b[0m\u001b[0;34m\u001b[0m\u001b[0m\n\u001b[0m\u001b[1;32m   4201\u001b[0m         \u001b[0;32melse\u001b[0m\u001b[0;34m:\u001b[0m\u001b[0;34m\u001b[0m\u001b[0;34m\u001b[0m\u001b[0m\n\u001b[1;32m   4202\u001b[0m             \u001b[0mBaseFigure\u001b[0m\u001b[0;34m.\u001b[0m\u001b[0m_perform_update\u001b[0m\u001b[0;34m(\u001b[0m\u001b[0mself\u001b[0m\u001b[0;34m,\u001b[0m \u001b[0mdict1\u001b[0m\u001b[0;34m,\u001b[0m \u001b[0moverwrite\u001b[0m\u001b[0;34m=\u001b[0m\u001b[0moverwrite\u001b[0m\u001b[0;34m)\u001b[0m\u001b[0;34m\u001b[0m\u001b[0;34m\u001b[0m\u001b[0m\n",
      "\u001b[0;32m~/anaconda3/envs/analytics/lib/python3.7/site-packages/plotly/basedatatypes.py\u001b[0m in \u001b[0;36m_perform_update\u001b[0;34m(plotly_obj, update_obj, overwrite)\u001b[0m\n\u001b[1;32m   3318\u001b[0m                         \u001b[0;31m# plotly_obj is an empty or uninitialized list for key\u001b[0m\u001b[0;34m\u001b[0m\u001b[0;34m\u001b[0m\u001b[0;34m\u001b[0m\u001b[0m\n\u001b[1;32m   3319\u001b[0m                         \u001b[0;31m# In this case we accept val as is\u001b[0m\u001b[0;34m\u001b[0m\u001b[0;34m\u001b[0m\u001b[0;34m\u001b[0m\u001b[0m\n\u001b[0;32m-> 3320\u001b[0;31m                         \u001b[0mplotly_obj\u001b[0m\u001b[0;34m[\u001b[0m\u001b[0mkey\u001b[0m\u001b[0;34m]\u001b[0m \u001b[0;34m=\u001b[0m \u001b[0mval\u001b[0m\u001b[0;34m\u001b[0m\u001b[0;34m\u001b[0m\u001b[0m\n\u001b[0m\u001b[1;32m   3321\u001b[0m                 \u001b[0;32melse\u001b[0m\u001b[0;34m:\u001b[0m\u001b[0;34m\u001b[0m\u001b[0;34m\u001b[0m\u001b[0m\n\u001b[1;32m   3322\u001b[0m                     \u001b[0;31m# Assign non-compound value\u001b[0m\u001b[0;34m\u001b[0m\u001b[0;34m\u001b[0m\u001b[0;34m\u001b[0m\u001b[0m\n",
      "\u001b[0;32m~/anaconda3/envs/analytics/lib/python3.7/site-packages/plotly/basedatatypes.py\u001b[0m in \u001b[0;36m__setitem__\u001b[0;34m(self, prop, value)\u001b[0m\n\u001b[1;32m   4937\u001b[0m         \u001b[0;32mif\u001b[0m \u001b[0mmatch\u001b[0m \u001b[0;32mis\u001b[0m \u001b[0;32mNone\u001b[0m\u001b[0;34m:\u001b[0m\u001b[0;34m\u001b[0m\u001b[0;34m\u001b[0m\u001b[0m\n\u001b[1;32m   4938\u001b[0m             \u001b[0;31m# Set as ordinary property\u001b[0m\u001b[0;34m\u001b[0m\u001b[0;34m\u001b[0m\u001b[0;34m\u001b[0m\u001b[0m\n\u001b[0;32m-> 4939\u001b[0;31m             \u001b[0msuper\u001b[0m\u001b[0;34m(\u001b[0m\u001b[0mBaseLayoutHierarchyType\u001b[0m\u001b[0;34m,\u001b[0m \u001b[0mself\u001b[0m\u001b[0;34m)\u001b[0m\u001b[0;34m.\u001b[0m\u001b[0m__setitem__\u001b[0m\u001b[0;34m(\u001b[0m\u001b[0mprop\u001b[0m\u001b[0;34m,\u001b[0m \u001b[0mvalue\u001b[0m\u001b[0;34m)\u001b[0m\u001b[0;34m\u001b[0m\u001b[0;34m\u001b[0m\u001b[0m\n\u001b[0m\u001b[1;32m   4940\u001b[0m         \u001b[0;32melse\u001b[0m\u001b[0;34m:\u001b[0m\u001b[0;34m\u001b[0m\u001b[0;34m\u001b[0m\u001b[0m\n\u001b[1;32m   4941\u001b[0m             \u001b[0;31m# Set as subplotid property\u001b[0m\u001b[0;34m\u001b[0m\u001b[0;34m\u001b[0m\u001b[0;34m\u001b[0m\u001b[0m\n",
      "\u001b[0;32m~/anaconda3/envs/analytics/lib/python3.7/site-packages/plotly/basedatatypes.py\u001b[0m in \u001b[0;36m__setitem__\u001b[0;34m(self, prop, value)\u001b[0m\n\u001b[1;32m   3957\u001b[0m                 \u001b[0;31m# ### Handle compound array property ###\u001b[0m\u001b[0;34m\u001b[0m\u001b[0;34m\u001b[0m\u001b[0;34m\u001b[0m\u001b[0m\n\u001b[1;32m   3958\u001b[0m                 \u001b[0;32melif\u001b[0m \u001b[0misinstance\u001b[0m\u001b[0;34m(\u001b[0m\u001b[0mvalidator\u001b[0m\u001b[0;34m,\u001b[0m \u001b[0;34m(\u001b[0m\u001b[0mCompoundArrayValidator\u001b[0m\u001b[0;34m,\u001b[0m \u001b[0mBaseDataValidator\u001b[0m\u001b[0;34m)\u001b[0m\u001b[0;34m)\u001b[0m\u001b[0;34m:\u001b[0m\u001b[0;34m\u001b[0m\u001b[0;34m\u001b[0m\u001b[0m\n\u001b[0;32m-> 3959\u001b[0;31m                     \u001b[0mself\u001b[0m\u001b[0;34m.\u001b[0m\u001b[0m_set_array_prop\u001b[0m\u001b[0;34m(\u001b[0m\u001b[0mprop\u001b[0m\u001b[0;34m,\u001b[0m \u001b[0mvalue\u001b[0m\u001b[0;34m)\u001b[0m\u001b[0;34m\u001b[0m\u001b[0;34m\u001b[0m\u001b[0m\n\u001b[0m\u001b[1;32m   3960\u001b[0m \u001b[0;34m\u001b[0m\u001b[0m\n\u001b[1;32m   3961\u001b[0m                 \u001b[0;31m# ### Handle simple property ###\u001b[0m\u001b[0;34m\u001b[0m\u001b[0;34m\u001b[0m\u001b[0;34m\u001b[0m\u001b[0m\n",
      "\u001b[0;32m~/anaconda3/envs/analytics/lib/python3.7/site-packages/plotly/basedatatypes.py\u001b[0m in \u001b[0;36m_set_array_prop\u001b[0;34m(self, prop, val)\u001b[0m\n\u001b[1;32m   4412\u001b[0m         \u001b[0;31m# ------------\u001b[0m\u001b[0;34m\u001b[0m\u001b[0;34m\u001b[0m\u001b[0;34m\u001b[0m\u001b[0m\n\u001b[1;32m   4413\u001b[0m         \u001b[0mvalidator\u001b[0m \u001b[0;34m=\u001b[0m \u001b[0mself\u001b[0m\u001b[0;34m.\u001b[0m\u001b[0m_get_validator\u001b[0m\u001b[0;34m(\u001b[0m\u001b[0mprop\u001b[0m\u001b[0;34m)\u001b[0m\u001b[0;34m\u001b[0m\u001b[0;34m\u001b[0m\u001b[0m\n\u001b[0;32m-> 4414\u001b[0;31m         \u001b[0mval\u001b[0m \u001b[0;34m=\u001b[0m \u001b[0mvalidator\u001b[0m\u001b[0;34m.\u001b[0m\u001b[0mvalidate_coerce\u001b[0m\u001b[0;34m(\u001b[0m\u001b[0mval\u001b[0m\u001b[0;34m,\u001b[0m \u001b[0mskip_invalid\u001b[0m\u001b[0;34m=\u001b[0m\u001b[0mself\u001b[0m\u001b[0;34m.\u001b[0m\u001b[0m_skip_invalid\u001b[0m\u001b[0;34m)\u001b[0m\u001b[0;34m\u001b[0m\u001b[0;34m\u001b[0m\u001b[0m\n\u001b[0m\u001b[1;32m   4415\u001b[0m \u001b[0;34m\u001b[0m\u001b[0m\n\u001b[1;32m   4416\u001b[0m         \u001b[0;31m# Save deep copies of current and new states\u001b[0m\u001b[0;34m\u001b[0m\u001b[0;34m\u001b[0m\u001b[0;34m\u001b[0m\u001b[0m\n",
      "\u001b[0;32m~/anaconda3/envs/analytics/lib/python3.7/site-packages/_plotly_utils/basevalidators.py\u001b[0m in \u001b[0;36mvalidate_coerce\u001b[0;34m(self, v, skip_invalid)\u001b[0m\n\u001b[1;32m   2545\u001b[0m \u001b[0;34m\u001b[0m\u001b[0m\n\u001b[1;32m   2546\u001b[0m             \u001b[0;32mif\u001b[0m \u001b[0minvalid_els\u001b[0m\u001b[0;34m:\u001b[0m\u001b[0;34m\u001b[0m\u001b[0;34m\u001b[0m\u001b[0m\n\u001b[0;32m-> 2547\u001b[0;31m                 \u001b[0mself\u001b[0m\u001b[0;34m.\u001b[0m\u001b[0mraise_invalid_elements\u001b[0m\u001b[0;34m(\u001b[0m\u001b[0minvalid_els\u001b[0m\u001b[0;34m)\u001b[0m\u001b[0;34m\u001b[0m\u001b[0;34m\u001b[0m\u001b[0m\n\u001b[0m\u001b[1;32m   2548\u001b[0m \u001b[0;34m\u001b[0m\u001b[0m\n\u001b[1;32m   2549\u001b[0m             \u001b[0mv\u001b[0m \u001b[0;34m=\u001b[0m \u001b[0mto_scalar_or_list\u001b[0m\u001b[0;34m(\u001b[0m\u001b[0mres\u001b[0m\u001b[0;34m)\u001b[0m\u001b[0;34m\u001b[0m\u001b[0;34m\u001b[0m\u001b[0m\n",
      "\u001b[0;32m~/anaconda3/envs/analytics/lib/python3.7/site-packages/_plotly_utils/basevalidators.py\u001b[0m in \u001b[0;36mraise_invalid_elements\u001b[0;34m(self, invalid_els)\u001b[0m\n\u001b[1;32m    298\u001b[0m                     \u001b[0mpname\u001b[0m\u001b[0;34m=\u001b[0m\u001b[0mself\u001b[0m\u001b[0;34m.\u001b[0m\u001b[0mparent_name\u001b[0m\u001b[0;34m,\u001b[0m\u001b[0;34m\u001b[0m\u001b[0;34m\u001b[0m\u001b[0m\n\u001b[1;32m    299\u001b[0m                     \u001b[0minvalid\u001b[0m\u001b[0;34m=\u001b[0m\u001b[0minvalid_els\u001b[0m\u001b[0;34m[\u001b[0m\u001b[0;34m:\u001b[0m\u001b[0;36m10\u001b[0m\u001b[0;34m]\u001b[0m\u001b[0;34m,\u001b[0m\u001b[0;34m\u001b[0m\u001b[0;34m\u001b[0m\u001b[0m\n\u001b[0;32m--> 300\u001b[0;31m                     \u001b[0mvalid_clr_desc\u001b[0m\u001b[0;34m=\u001b[0m\u001b[0mself\u001b[0m\u001b[0;34m.\u001b[0m\u001b[0mdescription\u001b[0m\u001b[0;34m(\u001b[0m\u001b[0;34m)\u001b[0m\u001b[0;34m,\u001b[0m\u001b[0;34m\u001b[0m\u001b[0;34m\u001b[0m\u001b[0m\n\u001b[0m\u001b[1;32m    301\u001b[0m                 )\n\u001b[1;32m    302\u001b[0m             )\n",
      "\u001b[0;31mValueError\u001b[0m: \n    Invalid element(s) received for the 'shapes' property of layout\n        Invalid elements include: [[{'type': 'line', 'x0': 3.7025703794369647, 'y0': 3.7025703794369647, 'x1': 0.18388217586405772, 'y1': 0.18388217586405772, 'line': {'color': 'grey', 'width': 2}}, {'type': 'line', 'x0': 3.074245939675174, 'y0': 3.074245939675174, 'x1': 0.2910154876281844, 'y1': 0.2910154876281844, 'line': {'color': 'grey', 'width': 2}}, {'type': 'line', 'x0': 2.155076649633415, 'y0': 2.155076649633415, 'x1': 0.510355071518876, 'y1': 0.510355071518876, 'line': {'color': 'grey', 'width': 2}}, {'type': 'line', 'x0': 2.5450521656655076, 'y0': 2.5450521656655076, 'x1': 0.7172864213349056, 'y1': 0.7172864213349056, 'line': {'color': 'grey', 'width': 2}}, {'type': 'line', 'x0': 5.8813816788851465, 'y0': 5.8813816788851465, 'x1': 0.7306379848269928, 'y1': 0.7306379848269928, 'line': {'color': 'grey', 'width': 2}}, {'type': 'line', 'x0': 4.957629147316513, 'y0': 4.957629147316513, 'x1': 1.007914641640671, 'y1': 1.007914641640671, 'line': {'color': 'grey', 'width': 2}}, {'type': 'line', 'x0': 3.4208432776451874, 'y0': 3.4208432776451874, 'x1': 0.4150151627457034, 'y1': 0.4150151627457034, 'line': {'color': 'grey', 'width': 2}}, {'type': 'line', 'x0': 3.14192849404117, 'y0': 3.14192849404117, 'x1': 0.6094812970792112, 'y1': 0.6094812970792112, 'line': {'color': 'grey', 'width': 2}}, {'type': 'line', 'x0': 9.096138359473866, 'y0': 9.096138359473866, 'x1': 0.3031199489937364, 'y1': 0.3031199489937364, 'line': {'color': 'grey', 'width': 2}}, {'type': 'line', 'x0': 7.688061819902224, 'y0': 7.688061819902224, 'x1': 0.4422480185380103, 'y1': 0.4422480185380103, 'line': {'color': 'grey', 'width': 2}}, {'type': 'line', 'x0': 2.551640340218712, 'y0': 2.551640340218712, 'x1': 0.7784981276552474, 'y1': 0.7784981276552474, 'line': {'color': 'grey', 'width': 2}}, {'type': 'line', 'x0': 2.3053589484327603, 'y0': 2.3053589484327603, 'x1': 1.169402564172296, 'y1': 1.169402564172296, 'line': {'color': 'grey', 'width': 2}}, {'type': 'line', 'x0': 2.1513353115727005, 'y0': 2.1513353115727005, 'x1': 0.17140684584700794, 'y1': 0.17140684584700794, 'line': {'color': 'grey', 'width': 2}}, {'type': 'line', 'x0': 1.7491369390103566, 'y0': 1.7491369390103566, 'x1': 0.27624730905239225, 'y1': 0.27624730905239225, 'line': {'color': 'grey', 'width': 2}}, {'type': 'line', 'x0': 3.4407092074080574, 'y0': 3.4407092074080574, 'x1': 0.32205536508535965, 'y1': 0.32205536508535965, 'line': {'color': 'grey', 'width': 2}}, {'type': 'line', 'x0': 2.765107516219509, 'y0': 2.765107516219509, 'x1': 0.49888476351347055, 'y1': 0.49888476351347055, 'line': {'color': 'grey', 'width': 2}}, {'type': 'line', 'x0': 3.0985915492957745, 'y0': 3.0985915492957745, 'x1': 0.10845566164522046, 'y1': 0.10845566164522046, 'line': {'color': 'grey', 'width': 2}}, {'type': 'line', 'x0': 3.281890994334831, 'y0': 3.281890994334831, 'x1': 0.15639000900334746, 'y1': 0.15639000900334746, 'line': {'color': 'grey', 'width': 2}}, {'type': 'line', 'x0': 6.889595136106122, 'y0': 6.889595136106122, 'x1': 0.39624059277636486, 'y1': 0.39624059277636486, 'line': {'color': 'grey', 'width': 2}}, {'type': 'line', 'x0': 6.312371297322985, 'y0': 6.312371297322985, 'x1': 0.5530395163072414, 'y1': 0.5530395163072414, 'line': {'color': 'grey', 'width': 2}}, {'type': 'line', 'x0': 4.3916789241437275, 'y0': 4.3916789241437275, 'x1': 0.1357057167779773, 'y1': 0.1357057167779773, 'line': {'color': 'grey', 'width': 2}}, {'type': 'line', 'x0': 4.055750878955299, 'y0': 4.055750878955299, 'x1': 0.22709819886947072, 'y1': 0.22709819886947072, 'line': {'color': 'grey', 'width': 2}}, {'type': 'line', 'x0': 3.4805389221556884, 'y0': 3.4805389221556884, 'x1': 0.19949593429973717, 'y1': 0.19949593429973717, 'line': {'color': 'grey', 'width': 2}}, {'type': 'line', 'x0': 2.701715954728003, 'y0': 2.701715954728003, 'x1': 0.3408304416460704, 'y1': 0.3408304416460704, 'line': {'color': 'grey', 'width': 2}}, {'type': 'line', 'x0': 7.9249806105901435, 'y0': 7.9249806105901435, 'x1': 0.29680641694510795, 'y1': 0.29680641694510795, 'line': {'color': 'grey', 'width': 2}}, {'type': 'line', 'x0': 8.237822349570202, 'y0': 8.237822349570202, 'x1': 0.36517464398872834, 'y1': 0.36517464398872834, 'line': {'color': 'grey', 'width': 2}}, {'type': 'line', 'x0': 5.04340017958695, 'y0': 5.04340017958695, 'x1': 0.2002183164701888, 'y1': 0.2002183164701888, 'line': {'color': 'grey', 'width': 2}}, {'type': 'line', 'x0': 4.2539448186767554, 'y0': 4.2539448186767554, 'x1': 0.32471803286253165, 'y1': 0.32471803286253165, 'line': {'color': 'grey', 'width': 2}}, {'type': 'line', 'x0': 1.8906020558002938, 'y0': 1.8906020558002938, 'x1': 0.2370039361446664, 'y1': 0.2370039361446664, 'line': {'color': 'grey', 'width': 2}}, {'type': 'line', 'x0': 2.2950366376330704, 'y0': 2.2950366376330704, 'x1': 0.31465665751365124, 'y1': 0.31465665751365124, 'line': {'color': 'grey', 'width': 2}}, {'type': 'line', 'x0': 3.3582089552238807, 'y0': 3.3582089552238807, 'x1': 0.09550150527154325, 'y1': 0.09550150527154325, 'line': {'color': 'grey', 'width': 2}}, {'type': 'line', 'x0': 3.709387236744629, 'y0': 3.709387236744629, 'x1': 0.12706191541971446, 'y1': 0.12706191541971446, 'line': {'color': 'grey', 'width': 2}}, {'type': 'line', 'x0': 3.3036483769031886, 'y0': 3.3036483769031886, 'x1': 0.03288803786668781, 'y1': 0.03288803786668781, 'line': {'color': 'grey', 'width': 2}}, {'type': 'line', 'x0': 2.60543580131209, 'y0': 2.60543580131209, 'x1': 0.05040439012317709, 'y1': 0.05040439012317709, 'line': {'color': 'grey', 'width': 2}}, {'type': 'line', 'x0': 4.486251808972503, 'y0': 4.486251808972503, 'x1': 0.25792243663916986, 'y1': 0.25792243663916986, 'line': {'color': 'grey', 'width': 2}}, {'type': 'line', 'x0': 4.364204989693652, 'y0': 4.364204989693652, 'x1': 0.350092692819728, 'y1': 0.350092692819728, 'line': {'color': 'grey', 'width': 2}}, {'type': 'line', 'x0': 10.445824214972772, 'y0': 10.445824214972772, 'x1': 0.2276173167788622, 'y1': 0.2276173167788622, 'line': {'color': 'grey', 'width': 2}}, {'type': 'line', 'x0': 10.016504676324958, 'y0': 10.016504676324958, 'x1': 0.3158423401687454, 'y1': 0.3158423401687454, 'line': {'color': 'grey', 'width': 2}}, {'type': 'line', 'x0': 7.437967115097161, 'y0': 7.437967115097161, 'x1': 0.18211396320511777, 'y1': 0.18211396320511777, 'line': {'color': 'grey', 'width': 2}}, {'type': 'line', 'x0': 6.888836975273145, 'y0': 6.888836975273145, 'x1': 0.2423743575351484, 'y1': 0.2423743575351484, 'line': {'color': 'grey', 'width': 2}}, {'type': 'line', 'x0': 4.683278294806365, 'y0': 4.683278294806365, 'x1': 0.029132521663322683, 'y1': 0.029132521663322683, 'line': {'color': 'grey', 'width': 2}}, {'type': 'line', 'x0': 3.9296794208893484, 'y0': 3.9296794208893484, 'x1': 0.042286323098818725, 'y1': 0.042286323098818725, 'line': {'color': 'grey', 'width': 2}}, {'type': 'line', 'x0': 1.5854545454545454, 'y0': 1.5854545454545454, 'x1': 0.09595538625846292, 'y1': 0.09595538625846292, 'line': {'color': 'grey', 'width': 2}}, {'type': 'line', 'x0': 1.5371657190987578, 'y0': 1.5371657190987578, 'x1': 0.13256498308114628, 'y1': 0.13256498308114628, 'line': {'color': 'grey', 'width': 2}}, {'type': 'line', 'x0': 3.0035066321085533, 'y0': 3.0035066321085533, 'x1': 0.05765019087671446, 'y1': 0.05765019087671446, 'line': {'color': 'grey', 'width': 2}}, {'type': 'line', 'x0': 2.4860694384912128, 'y0': 2.4860694384912128, 'x1': 0.08202341534708026, 'y1': 0.08202341534708026, 'line': {'color': 'grey', 'width': 2}}, {'type': 'line', 'x0': 1.6617790811339197, 'y0': 1.6617790811339197, 'x1': 0.036811988257587476, 'y1': 0.036811988257587476, 'line': {'color': 'grey', 'width': 2}}, {'type': 'line', 'x0': 1.2755102040816326, 'y0': 1.2755102040816326, 'x1': 0.05642345805268541, 'y1': 0.05642345805268541, 'line': {'color': 'grey', 'width': 2}}, {'type': 'line', 'x0': 2.7333333333333334, 'y0': 2.7333333333333334, 'x1': 0.043048203081906954, 'y1': 0.043048203081906954, 'line': {'color': 'grey', 'width': 2}}, {'type': 'line', 'x0': 2.5974025974025974, 'y0': 2.5974025974025974, 'x1': 0.07292365602075038, 'y1': 0.07292365602075038, 'line': {'color': 'grey', 'width': 2}}, {'type': 'line', 'x0': 3.821656050955414, 'y0': 3.821656050955414, 'x1': 0.03579186800779784, 'y1': 0.03579186800779784, 'line': {'color': 'grey', 'width': 2}}, {'type': 'line', 'x0': 3.2514080901177675, 'y0': 3.2514080901177675, 'x1': 0.05565407501530986, 'y1': 0.05565407501530986, 'line': {'color': 'grey', 'width': 2}}, {'type': 'line', 'x0': 1.645021645021645, 'y0': 1.645021645021645, 'x1': 0.22983031690715386, 'y1': 0.22983031690715386, 'line': {'color': 'grey', 'width': 2}}, {'type': 'line', 'x0': 1.627021883920076, 'y0': 1.627021883920076, 'x1': 0.3485593983685696, 'y1': 0.3485593983685696, 'line': {'color': 'grey', 'width': 2}}]]\n\n    The 'shapes' property is a tuple of instances of\n    Shape that may be specified as:\n      - A list or tuple of instances of plotly.graph_objs.layout.Shape\n      - A list or tuple of dicts of string/value properties that\n        will be passed to the Shape constructor\n\n        Supported dict properties:\n            \n            editable\n                Determines whether the shape could be activated\n                for edit or not. Has no effect when the older\n                editable shapes mode is enabled via\n                `config.editable` or\n                `config.edits.shapePosition`.\n            fillcolor\n                Sets the color filling the shape's interior.\n                Only applies to closed shapes.\n            fillrule\n                Determines which regions of complex paths\n                constitute the interior. For more info please\n                visit https://developer.mozilla.org/en-\n                US/docs/Web/SVG/Attribute/fill-rule\n            layer\n                Specifies whether shapes are drawn below or\n                above traces.\n            line\n                :class:`plotly.graph_objects.layout.shape.Line`\n                instance or dict with compatible properties\n            name\n                When used in a template, named items are\n                created in the output figure in addition to any\n                items the figure already has in this array. You\n                can modify these items in the output figure by\n                making your own item with `templateitemname`\n                matching this `name` alongside your\n                modifications (including `visible: false` or\n                `enabled: false` to hide it). Has no effect\n                outside of a template.\n            opacity\n                Sets the opacity of the shape.\n            path\n                For `type` \"path\" - a valid SVG path with the\n                pixel values replaced by data values in\n                `xsizemode`/`ysizemode` being \"scaled\" and\n                taken unmodified as pixels relative to\n                `xanchor` and `yanchor` in case of \"pixel\" size\n                mode. There are a few restrictions / quirks\n                only absolute instructions, not relative. So\n                the allowed segments are: M, L, H, V, Q, C, T,\n                S, and Z arcs (A) are not allowed because\n                radius rx and ry are relative. In the future we\n                could consider supporting relative commands,\n                but we would have to decide on how to handle\n                date and log axes. Note that even as is, Q and\n                C Bezier paths that are smooth on linear axes\n                may not be smooth on log, and vice versa. no\n                chained \"polybezier\" commands - specify the\n                segment type for each one. On category axes,\n                values are numbers scaled to the serial numbers\n                of categories because using the categories\n                themselves there would be no way to describe\n                fractional positions On data axes: because\n                space and T are both normal components of path\n                strings, we can't use either to separate date\n                from time parts. Therefore we'll use underscore\n                for this purpose: 2015-02-21_13:45:56.789\n            templateitemname\n                Used to refer to a named item in this array in\n                the template. Named items from the template\n                will be created even without a matching item in\n                the input figure, but you can modify one by\n                making an item with `templateitemname` matching\n                its `name`, alongside your modifications\n                (including `visible: false` or `enabled: false`\n                to hide it). If there is no template or no\n                matching item, this item will be hidden unless\n                you explicitly show it with `visible: true`.\n            type\n                Specifies the shape type to be drawn. If\n                \"line\", a line is drawn from (`x0`,`y0`) to\n                (`x1`,`y1`) with respect to the axes' sizing\n                mode. If \"circle\", a circle is drawn from\n                ((`x0`+`x1`)/2, (`y0`+`y1`)/2)) with radius\n                (|(`x0`+`x1`)/2 - `x0`|, |(`y0`+`y1`)/2\n                -`y0`)|) with respect to the axes' sizing mode.\n                If \"rect\", a rectangle is drawn linking\n                (`x0`,`y0`), (`x1`,`y0`), (`x1`,`y1`),\n                (`x0`,`y1`), (`x0`,`y0`) with respect to the\n                axes' sizing mode. If \"path\", draw a custom SVG\n                path using `path`. with respect to the axes'\n                sizing mode.\n            visible\n                Determines whether or not this shape is\n                visible.\n            x0\n                Sets the shape's starting x position. See\n                `type` and `xsizemode` for more info.\n            x1\n                Sets the shape's end x position. See `type` and\n                `xsizemode` for more info.\n            xanchor\n                Only relevant in conjunction with `xsizemode`\n                set to \"pixel\". Specifies the anchor point on\n                the x axis to which `x0`, `x1` and x\n                coordinates within `path` are relative to. E.g.\n                useful to attach a pixel sized shape to a\n                certain data value. No effect when `xsizemode`\n                not set to \"pixel\".\n            xref\n                Sets the shape's x coordinate axis. If set to\n                an x axis id (e.g. \"x\" or \"x2\"), the `x`\n                position refers to an x coordinate. If set to\n                \"paper\", the `x` position refers to the\n                distance from the left side of the plotting\n                area in normalized coordinates where 0 (1)\n                corresponds to the left (right) side. If the\n                axis `type` is \"log\", then you must take the\n                log of your desired range. If the axis `type`\n                is \"date\", then you must convert the date to\n                unix time in milliseconds.\n            xsizemode\n                Sets the shapes's sizing mode along the x axis.\n                If set to \"scaled\", `x0`, `x1` and x\n                coordinates within `path` refer to data values\n                on the x axis or a fraction of the plot area's\n                width (`xref` set to \"paper\"). If set to\n                \"pixel\", `xanchor` specifies the x position in\n                terms of data or plot fraction but `x0`, `x1`\n                and x coordinates within `path` are pixels\n                relative to `xanchor`. This way, the shape can\n                have a fixed width while maintaining a position\n                relative to data or plot fraction.\n            y0\n                Sets the shape's starting y position. See\n                `type` and `ysizemode` for more info.\n            y1\n                Sets the shape's end y position. See `type` and\n                `ysizemode` for more info.\n            yanchor\n                Only relevant in conjunction with `ysizemode`\n                set to \"pixel\". Specifies the anchor point on\n                the y axis to which `y0`, `y1` and y\n                coordinates within `path` are relative to. E.g.\n                useful to attach a pixel sized shape to a\n                certain data value. No effect when `ysizemode`\n                not set to \"pixel\".\n            yref\n                Sets the annotation's y coordinate axis. If set\n                to an y axis id (e.g. \"y\" or \"y2\"), the `y`\n                position refers to an y coordinate If set to\n                \"paper\", the `y` position refers to the\n                distance from the bottom of the plotting area\n                in normalized coordinates where 0 (1)\n                corresponds to the bottom (top).\n            ysizemode\n                Sets the shapes's sizing mode along the y axis.\n                If set to \"scaled\", `y0`, `y1` and y\n                coordinates within `path` refer to data values\n                on the y axis or a fraction of the plot area's\n                height (`yref` set to \"paper\"). If set to\n                \"pixel\", `yanchor` specifies the y position in\n                terms of data or plot fraction but `y0`, `y1`\n                and y coordinates within `path` are pixels\n                relative to `yanchor`. This way, the shape can\n                have a fixed height while maintaining a\n                position relative to data or plot fraction.\n"
     ]
    }
   ],
   "source": [
    "fig2 = px.scatter(fourQuadData, x='lethality_pct', y='contamRate',\n",
    "                 size='deathRate', color='label', text='estado',\n",
    "                 size_max=40)\n",
    "\n",
    "fig2.update_traces(textposition='middle center',\n",
    "                   textfont=dict(family=\"sans serif\",size=13))\n",
    "\n",
    "fig2.update_layout(\n",
    "    ## Chart general set:\n",
    "    height=520,\n",
    "    width=980,\n",
    "    plot_bgcolor='rgb(245,245,245)',\n",
    "    title_text='Relação entre número de casos e letalidade da COVID-19 no Brasil, por estado, e sua evolução',\n",
    "    xaxis_title=\"<b>Letalidade (% óbitos/casos)</b>\",\n",
    "    yaxis_title=\"<b>Contaminação (% casos/população)</b>\",\n",
    "    hovermode=False,  #Disable the hover information.\n",
    "    ## Axis ranges:\n",
    "    xaxis=dict(\n",
    "        autorange=False,\n",
    "        range=[0, 12],\n",
    "        type=\"linear\"\n",
    "    ),\n",
    "    yaxis=dict(\n",
    "        autorange=False,\n",
    "        range=[-0.2, 1.2],\n",
    "        type=\"linear\"),\n",
    "#    ## Adjusting the colorbar title:\n",
    "#    coloraxis=dict(\n",
    "#        colorbar=dict(\n",
    "#            title=dict(\n",
    "#                text='<b>Óbitos <br>acumulados</b>'\n",
    "#            )\n",
    "#        )),\n",
    "    ## Vertical and horizontal lines, as well those connecting the points\n",
    "    shapes=[\n",
    "        dict(\n",
    "          type= 'line',\n",
    "          yref= 'y', y0= -0.2, y1= 1.2,\n",
    "          xref= 'x', x0= 6, x1= 6,\n",
    "          line=dict(\n",
    "                color=\"gray\",\n",
    "                width=1,\n",
    "                dash=\"dashdot\",\n",
    "                )),\n",
    "        dict(\n",
    "          type= 'line',\n",
    "          yref= 'y', y0= 0.4, y1= 0.4,\n",
    "          xref= 'x', x0= 0, x1= 12,\n",
    "          line=dict(\n",
    "                color=\"gray\",\n",
    "                width=1,\n",
    "                dash=\"dashdot\",\n",
    "                )),\n",
    "        teste\n",
    "    ])\n",
    "    "
   ]
  },
  {
   "cell_type": "code",
   "execution_count": 278,
   "metadata": {},
   "outputs": [
    {
     "data": {
      "text/plain": [
       "[{'type': 'line',\n",
       "  'x0': 3.7025703794369647,\n",
       "  'y0': 3.7025703794369647,\n",
       "  'x1': 0.18388217586405772,\n",
       "  'y1': 0.18388217586405772,\n",
       "  'line': {'color': 'grey', 'width': 2}},\n",
       " {'type': 'line',\n",
       "  'x0': 3.074245939675174,\n",
       "  'y0': 3.074245939675174,\n",
       "  'x1': 0.2910154876281844,\n",
       "  'y1': 0.2910154876281844,\n",
       "  'line': {'color': 'grey', 'width': 2}},\n",
       " {'type': 'line',\n",
       "  'x0': 2.155076649633415,\n",
       "  'y0': 2.155076649633415,\n",
       "  'x1': 0.510355071518876,\n",
       "  'y1': 0.510355071518876,\n",
       "  'line': {'color': 'grey', 'width': 2}},\n",
       " {'type': 'line',\n",
       "  'x0': 2.5450521656655076,\n",
       "  'y0': 2.5450521656655076,\n",
       "  'x1': 0.7172864213349056,\n",
       "  'y1': 0.7172864213349056,\n",
       "  'line': {'color': 'grey', 'width': 2}},\n",
       " {'type': 'line',\n",
       "  'x0': 5.8813816788851465,\n",
       "  'y0': 5.8813816788851465,\n",
       "  'x1': 0.7306379848269928,\n",
       "  'y1': 0.7306379848269928,\n",
       "  'line': {'color': 'grey', 'width': 2}},\n",
       " {'type': 'line',\n",
       "  'x0': 4.957629147316513,\n",
       "  'y0': 4.957629147316513,\n",
       "  'x1': 1.007914641640671,\n",
       "  'y1': 1.007914641640671,\n",
       "  'line': {'color': 'grey', 'width': 2}},\n",
       " {'type': 'line',\n",
       "  'x0': 3.4208432776451874,\n",
       "  'y0': 3.4208432776451874,\n",
       "  'x1': 0.4150151627457034,\n",
       "  'y1': 0.4150151627457034,\n",
       "  'line': {'color': 'grey', 'width': 2}},\n",
       " {'type': 'line',\n",
       "  'x0': 3.14192849404117,\n",
       "  'y0': 3.14192849404117,\n",
       "  'x1': 0.6094812970792112,\n",
       "  'y1': 0.6094812970792112,\n",
       "  'line': {'color': 'grey', 'width': 2}},\n",
       " {'type': 'line',\n",
       "  'x0': 9.096138359473866,\n",
       "  'y0': 9.096138359473866,\n",
       "  'x1': 0.3031199489937364,\n",
       "  'y1': 0.3031199489937364,\n",
       "  'line': {'color': 'grey', 'width': 2}},\n",
       " {'type': 'line',\n",
       "  'x0': 7.688061819902224,\n",
       "  'y0': 7.688061819902224,\n",
       "  'x1': 0.4422480185380103,\n",
       "  'y1': 0.4422480185380103,\n",
       "  'line': {'color': 'grey', 'width': 2}},\n",
       " {'type': 'line',\n",
       "  'x0': 2.551640340218712,\n",
       "  'y0': 2.551640340218712,\n",
       "  'x1': 0.7784981276552474,\n",
       "  'y1': 0.7784981276552474,\n",
       "  'line': {'color': 'grey', 'width': 2}},\n",
       " {'type': 'line',\n",
       "  'x0': 2.3053589484327603,\n",
       "  'y0': 2.3053589484327603,\n",
       "  'x1': 1.169402564172296,\n",
       "  'y1': 1.169402564172296,\n",
       "  'line': {'color': 'grey', 'width': 2}},\n",
       " {'type': 'line',\n",
       "  'x0': 2.1513353115727005,\n",
       "  'y0': 2.1513353115727005,\n",
       "  'x1': 0.17140684584700794,\n",
       "  'y1': 0.17140684584700794,\n",
       "  'line': {'color': 'grey', 'width': 2}},\n",
       " {'type': 'line',\n",
       "  'x0': 1.7491369390103566,\n",
       "  'y0': 1.7491369390103566,\n",
       "  'x1': 0.27624730905239225,\n",
       "  'y1': 0.27624730905239225,\n",
       "  'line': {'color': 'grey', 'width': 2}},\n",
       " {'type': 'line',\n",
       "  'x0': 3.4407092074080574,\n",
       "  'y0': 3.4407092074080574,\n",
       "  'x1': 0.32205536508535965,\n",
       "  'y1': 0.32205536508535965,\n",
       "  'line': {'color': 'grey', 'width': 2}},\n",
       " {'type': 'line',\n",
       "  'x0': 2.765107516219509,\n",
       "  'y0': 2.765107516219509,\n",
       "  'x1': 0.49888476351347055,\n",
       "  'y1': 0.49888476351347055,\n",
       "  'line': {'color': 'grey', 'width': 2}},\n",
       " {'type': 'line',\n",
       "  'x0': 3.0985915492957745,\n",
       "  'y0': 3.0985915492957745,\n",
       "  'x1': 0.10845566164522046,\n",
       "  'y1': 0.10845566164522046,\n",
       "  'line': {'color': 'grey', 'width': 2}},\n",
       " {'type': 'line',\n",
       "  'x0': 3.281890994334831,\n",
       "  'y0': 3.281890994334831,\n",
       "  'x1': 0.15639000900334746,\n",
       "  'y1': 0.15639000900334746,\n",
       "  'line': {'color': 'grey', 'width': 2}},\n",
       " {'type': 'line',\n",
       "  'x0': 6.889595136106122,\n",
       "  'y0': 6.889595136106122,\n",
       "  'x1': 0.39624059277636486,\n",
       "  'y1': 0.39624059277636486,\n",
       "  'line': {'color': 'grey', 'width': 2}},\n",
       " {'type': 'line',\n",
       "  'x0': 6.312371297322985,\n",
       "  'y0': 6.312371297322985,\n",
       "  'x1': 0.5530395163072414,\n",
       "  'y1': 0.5530395163072414,\n",
       "  'line': {'color': 'grey', 'width': 2}},\n",
       " {'type': 'line',\n",
       "  'x0': 4.3916789241437275,\n",
       "  'y0': 4.3916789241437275,\n",
       "  'x1': 0.1357057167779773,\n",
       "  'y1': 0.1357057167779773,\n",
       "  'line': {'color': 'grey', 'width': 2}},\n",
       " {'type': 'line',\n",
       "  'x0': 4.055750878955299,\n",
       "  'y0': 4.055750878955299,\n",
       "  'x1': 0.22709819886947072,\n",
       "  'y1': 0.22709819886947072,\n",
       "  'line': {'color': 'grey', 'width': 2}},\n",
       " {'type': 'line',\n",
       "  'x0': 3.4805389221556884,\n",
       "  'y0': 3.4805389221556884,\n",
       "  'x1': 0.19949593429973717,\n",
       "  'y1': 0.19949593429973717,\n",
       "  'line': {'color': 'grey', 'width': 2}},\n",
       " {'type': 'line',\n",
       "  'x0': 2.701715954728003,\n",
       "  'y0': 2.701715954728003,\n",
       "  'x1': 0.3408304416460704,\n",
       "  'y1': 0.3408304416460704,\n",
       "  'line': {'color': 'grey', 'width': 2}},\n",
       " {'type': 'line',\n",
       "  'x0': 7.9249806105901435,\n",
       "  'y0': 7.9249806105901435,\n",
       "  'x1': 0.29680641694510795,\n",
       "  'y1': 0.29680641694510795,\n",
       "  'line': {'color': 'grey', 'width': 2}},\n",
       " {'type': 'line',\n",
       "  'x0': 8.237822349570202,\n",
       "  'y0': 8.237822349570202,\n",
       "  'x1': 0.36517464398872834,\n",
       "  'y1': 0.36517464398872834,\n",
       "  'line': {'color': 'grey', 'width': 2}},\n",
       " {'type': 'line',\n",
       "  'x0': 5.04340017958695,\n",
       "  'y0': 5.04340017958695,\n",
       "  'x1': 0.2002183164701888,\n",
       "  'y1': 0.2002183164701888,\n",
       "  'line': {'color': 'grey', 'width': 2}},\n",
       " {'type': 'line',\n",
       "  'x0': 4.2539448186767554,\n",
       "  'y0': 4.2539448186767554,\n",
       "  'x1': 0.32471803286253165,\n",
       "  'y1': 0.32471803286253165,\n",
       "  'line': {'color': 'grey', 'width': 2}},\n",
       " {'type': 'line',\n",
       "  'x0': 1.8906020558002938,\n",
       "  'y0': 1.8906020558002938,\n",
       "  'x1': 0.2370039361446664,\n",
       "  'y1': 0.2370039361446664,\n",
       "  'line': {'color': 'grey', 'width': 2}},\n",
       " {'type': 'line',\n",
       "  'x0': 2.2950366376330704,\n",
       "  'y0': 2.2950366376330704,\n",
       "  'x1': 0.31465665751365124,\n",
       "  'y1': 0.31465665751365124,\n",
       "  'line': {'color': 'grey', 'width': 2}},\n",
       " {'type': 'line',\n",
       "  'x0': 3.3582089552238807,\n",
       "  'y0': 3.3582089552238807,\n",
       "  'x1': 0.09550150527154325,\n",
       "  'y1': 0.09550150527154325,\n",
       "  'line': {'color': 'grey', 'width': 2}},\n",
       " {'type': 'line',\n",
       "  'x0': 3.709387236744629,\n",
       "  'y0': 3.709387236744629,\n",
       "  'x1': 0.12706191541971446,\n",
       "  'y1': 0.12706191541971446,\n",
       "  'line': {'color': 'grey', 'width': 2}},\n",
       " {'type': 'line',\n",
       "  'x0': 3.3036483769031886,\n",
       "  'y0': 3.3036483769031886,\n",
       "  'x1': 0.03288803786668781,\n",
       "  'y1': 0.03288803786668781,\n",
       "  'line': {'color': 'grey', 'width': 2}},\n",
       " {'type': 'line',\n",
       "  'x0': 2.60543580131209,\n",
       "  'y0': 2.60543580131209,\n",
       "  'x1': 0.05040439012317709,\n",
       "  'y1': 0.05040439012317709,\n",
       "  'line': {'color': 'grey', 'width': 2}},\n",
       " {'type': 'line',\n",
       "  'x0': 4.486251808972503,\n",
       "  'y0': 4.486251808972503,\n",
       "  'x1': 0.25792243663916986,\n",
       "  'y1': 0.25792243663916986,\n",
       "  'line': {'color': 'grey', 'width': 2}},\n",
       " {'type': 'line',\n",
       "  'x0': 4.364204989693652,\n",
       "  'y0': 4.364204989693652,\n",
       "  'x1': 0.350092692819728,\n",
       "  'y1': 0.350092692819728,\n",
       "  'line': {'color': 'grey', 'width': 2}},\n",
       " {'type': 'line',\n",
       "  'x0': 10.445824214972772,\n",
       "  'y0': 10.445824214972772,\n",
       "  'x1': 0.2276173167788622,\n",
       "  'y1': 0.2276173167788622,\n",
       "  'line': {'color': 'grey', 'width': 2}},\n",
       " {'type': 'line',\n",
       "  'x0': 10.016504676324958,\n",
       "  'y0': 10.016504676324958,\n",
       "  'x1': 0.3158423401687454,\n",
       "  'y1': 0.3158423401687454,\n",
       "  'line': {'color': 'grey', 'width': 2}},\n",
       " {'type': 'line',\n",
       "  'x0': 7.437967115097161,\n",
       "  'y0': 7.437967115097161,\n",
       "  'x1': 0.18211396320511777,\n",
       "  'y1': 0.18211396320511777,\n",
       "  'line': {'color': 'grey', 'width': 2}},\n",
       " {'type': 'line',\n",
       "  'x0': 6.888836975273145,\n",
       "  'y0': 6.888836975273145,\n",
       "  'x1': 0.2423743575351484,\n",
       "  'y1': 0.2423743575351484,\n",
       "  'line': {'color': 'grey', 'width': 2}},\n",
       " {'type': 'line',\n",
       "  'x0': 4.683278294806365,\n",
       "  'y0': 4.683278294806365,\n",
       "  'x1': 0.029132521663322683,\n",
       "  'y1': 0.029132521663322683,\n",
       "  'line': {'color': 'grey', 'width': 2}},\n",
       " {'type': 'line',\n",
       "  'x0': 3.9296794208893484,\n",
       "  'y0': 3.9296794208893484,\n",
       "  'x1': 0.042286323098818725,\n",
       "  'y1': 0.042286323098818725,\n",
       "  'line': {'color': 'grey', 'width': 2}},\n",
       " {'type': 'line',\n",
       "  'x0': 1.5854545454545454,\n",
       "  'y0': 1.5854545454545454,\n",
       "  'x1': 0.09595538625846292,\n",
       "  'y1': 0.09595538625846292,\n",
       "  'line': {'color': 'grey', 'width': 2}},\n",
       " {'type': 'line',\n",
       "  'x0': 1.5371657190987578,\n",
       "  'y0': 1.5371657190987578,\n",
       "  'x1': 0.13256498308114628,\n",
       "  'y1': 0.13256498308114628,\n",
       "  'line': {'color': 'grey', 'width': 2}},\n",
       " {'type': 'line',\n",
       "  'x0': 3.0035066321085533,\n",
       "  'y0': 3.0035066321085533,\n",
       "  'x1': 0.05765019087671446,\n",
       "  'y1': 0.05765019087671446,\n",
       "  'line': {'color': 'grey', 'width': 2}},\n",
       " {'type': 'line',\n",
       "  'x0': 2.4860694384912128,\n",
       "  'y0': 2.4860694384912128,\n",
       "  'x1': 0.08202341534708026,\n",
       "  'y1': 0.08202341534708026,\n",
       "  'line': {'color': 'grey', 'width': 2}},\n",
       " {'type': 'line',\n",
       "  'x0': 1.6617790811339197,\n",
       "  'y0': 1.6617790811339197,\n",
       "  'x1': 0.036811988257587476,\n",
       "  'y1': 0.036811988257587476,\n",
       "  'line': {'color': 'grey', 'width': 2}},\n",
       " {'type': 'line',\n",
       "  'x0': 1.2755102040816326,\n",
       "  'y0': 1.2755102040816326,\n",
       "  'x1': 0.05642345805268541,\n",
       "  'y1': 0.05642345805268541,\n",
       "  'line': {'color': 'grey', 'width': 2}},\n",
       " {'type': 'line',\n",
       "  'x0': 2.7333333333333334,\n",
       "  'y0': 2.7333333333333334,\n",
       "  'x1': 0.043048203081906954,\n",
       "  'y1': 0.043048203081906954,\n",
       "  'line': {'color': 'grey', 'width': 2}},\n",
       " {'type': 'line',\n",
       "  'x0': 2.5974025974025974,\n",
       "  'y0': 2.5974025974025974,\n",
       "  'x1': 0.07292365602075038,\n",
       "  'y1': 0.07292365602075038,\n",
       "  'line': {'color': 'grey', 'width': 2}},\n",
       " {'type': 'line',\n",
       "  'x0': 3.821656050955414,\n",
       "  'y0': 3.821656050955414,\n",
       "  'x1': 0.03579186800779784,\n",
       "  'y1': 0.03579186800779784,\n",
       "  'line': {'color': 'grey', 'width': 2}},\n",
       " {'type': 'line',\n",
       "  'x0': 3.2514080901177675,\n",
       "  'y0': 3.2514080901177675,\n",
       "  'x1': 0.05565407501530986,\n",
       "  'y1': 0.05565407501530986,\n",
       "  'line': {'color': 'grey', 'width': 2}},\n",
       " {'type': 'line',\n",
       "  'x0': 1.645021645021645,\n",
       "  'y0': 1.645021645021645,\n",
       "  'x1': 0.22983031690715386,\n",
       "  'y1': 0.22983031690715386,\n",
       "  'line': {'color': 'grey', 'width': 2}},\n",
       " {'type': 'line',\n",
       "  'x0': 1.627021883920076,\n",
       "  'y0': 1.627021883920076,\n",
       "  'x1': 0.3485593983685696,\n",
       "  'y1': 0.3485593983685696,\n",
       "  'line': {'color': 'grey', 'width': 2}}]"
      ]
     },
     "execution_count": 278,
     "metadata": {},
     "output_type": "execute_result"
    }
   ],
   "source": [
    "teste"
   ]
  },
  {
   "cell_type": "code",
   "execution_count": 277,
   "metadata": {},
   "outputs": [],
   "source": [
    "# Lines connecting points:\n",
    "teste=[\n",
    "    dict(\n",
    "        type='line',\n",
    "        x0 = fourQuadData['lethality_pct'].iloc[i],\n",
    "        y0 = fourQuadData['lethality_pct'].iloc[i],\n",
    "        x1 = fourQuadData['contamRate'].iloc[i],\n",
    "        y1 = fourQuadData['contamRate'].iloc[i],\n",
    "        line = dict(\n",
    "            color = 'grey',\n",
    "            width = 2))\n",
    "        for i in range(len(fourQuadData['lethality_pct']))]\n",
    "\n",
    "# Horizontal line shape\n",
    "shapes=[dict(\n",
    "        type='line',\n",
    "        x0 = df['value1'].loc[i],\n",
    "        y0 = i + 1,\n",
    "        x1 = df['value2'].loc[i],\n",
    "        y1 = i + 1,\n",
    "        line = dict(\n",
    "            color = 'grey',\n",
    "            width = 2\n",
    "        )\n",
    "    ) for i in range(len(df['value1']))]\n",
    "\n",
    "\n",
    "layout = go.Layout(\n",
    "    shapes = shapes,\n",
    "    title='Lollipop Chart'\n",
    ")\n",
    "\n",
    "    \n",
    "#fig2.show()"
   ]
  },
  {
   "cell_type": "code",
   "execution_count": 273,
   "metadata": {
    "scrolled": true
   },
   "outputs": [
    {
     "data": {
      "text/plain": [
       "[3.7025703794369647,\n",
       " 3.074245939675174,\n",
       " 2.155076649633415,\n",
       " 2.5450521656655076,\n",
       " 5.8813816788851465,\n",
       " 4.957629147316513,\n",
       " 3.4208432776451874,\n",
       " 3.14192849404117,\n",
       " 9.096138359473866,\n",
       " 7.688061819902224,\n",
       " 2.551640340218712,\n",
       " 2.3053589484327603,\n",
       " 2.1513353115727005,\n",
       " 1.7491369390103566,\n",
       " 3.4407092074080574,\n",
       " 2.765107516219509,\n",
       " 3.0985915492957745,\n",
       " 3.281890994334831,\n",
       " 6.889595136106122,\n",
       " 6.312371297322985,\n",
       " 4.3916789241437275,\n",
       " 4.055750878955299,\n",
       " 3.4805389221556884,\n",
       " 2.701715954728003,\n",
       " 7.9249806105901435,\n",
       " 8.237822349570202,\n",
       " 5.04340017958695,\n",
       " 4.2539448186767554,\n",
       " 1.8906020558002938,\n",
       " 2.2950366376330704,\n",
       " 3.3582089552238807,\n",
       " 3.709387236744629,\n",
       " 3.3036483769031886,\n",
       " 2.60543580131209,\n",
       " 4.486251808972503,\n",
       " 4.364204989693652,\n",
       " 10.445824214972772,\n",
       " 10.016504676324958,\n",
       " 7.437967115097161,\n",
       " 6.888836975273145,\n",
       " 4.683278294806365,\n",
       " 3.9296794208893484,\n",
       " 1.5854545454545454,\n",
       " 1.5371657190987578,\n",
       " 3.0035066321085533,\n",
       " 2.4860694384912128,\n",
       " 1.6617790811339197,\n",
       " 1.2755102040816326,\n",
       " 2.7333333333333334,\n",
       " 2.5974025974025974,\n",
       " 3.821656050955414,\n",
       " 3.2514080901177675,\n",
       " 1.645021645021645,\n",
       " 1.627021883920076]"
      ]
     },
     "execution_count": 273,
     "metadata": {},
     "output_type": "execute_result"
    }
   ],
   "source": [
    "[fourQuadData['lethality_pct'].iloc[i] for i in range(len(fourQuadData['lethality_pct']))]"
   ]
  },
  {
   "cell_type": "code",
   "execution_count": null,
   "metadata": {},
   "outputs": [],
   "source": []
  },
  {
   "cell_type": "code",
   "execution_count": null,
   "metadata": {},
   "outputs": [],
   "source": []
  },
  {
   "cell_type": "code",
   "execution_count": 262,
   "metadata": {
    "scrolled": false
   },
   "outputs": [
    {
     "ename": "SyntaxError",
     "evalue": "invalid syntax (<ipython-input-262-0bd81ccd3edd>, line 66)",
     "output_type": "error",
     "traceback": [
      "\u001b[0;36m  File \u001b[0;32m\"<ipython-input-262-0bd81ccd3edd>\"\u001b[0;36m, line \u001b[0;32m66\u001b[0m\n\u001b[0;31m    ) for i in range(len(fourQuadData['lethality_pct']))]\u001b[0m\n\u001b[0m        ^\u001b[0m\n\u001b[0;31mSyntaxError\u001b[0m\u001b[0;31m:\u001b[0m invalid syntax\n"
     ]
    }
   ],
   "source": [
    "fig2.update_layout(\n",
    "    ## Points annotations:\n",
    "    annotations=[\n",
    "        go.layout.Annotation(\n",
    "            text='<b>Zona crítica</b>',\n",
    "            align='center',\n",
    "            showarrow=False,\n",
    "            xref='paper',\n",
    "            yref='paper',\n",
    "            x=.98,\n",
    "            y=.99,\n",
    "            bordercolor='#708090',\n",
    "            borderwidth=2,\n",
    "            bgcolor='#E9967A',\n",
    "            font=dict(\n",
    "                color='DarkRed'),\n",
    "            width=110,\n",
    "            height=20),\n",
    "        go.layout.Annotation(\n",
    "            text='Alta letalidade',\n",
    "            align='center',\n",
    "            showarrow=False,\n",
    "            xref='paper',\n",
    "            yref='paper',\n",
    "            x=.98,\n",
    "            y=.01,\n",
    "            bordercolor='#708090',\n",
    "            borderwidth=2,\n",
    "            bgcolor='#DCDCDC',\n",
    "            font=dict(\n",
    "                color='black'),\n",
    "            width=110,\n",
    "            height=20),\n",
    "        go.layout.Annotation(\n",
    "            text='Alta contaminação',\n",
    "            align='center',\n",
    "            showarrow=False,\n",
    "            xref='paper',\n",
    "            yref='paper',\n",
    "            x=0,\n",
    "            y=.99,\n",
    "            bordercolor='#708090',\n",
    "            borderwidth=2,\n",
    "            bgcolor='#DCDCDC',\n",
    "            font=dict(\n",
    "                color='DarkRed'),\n",
    "            width=110,\n",
    "            height=20),\n",
    "        go.layout.Annotation(\n",
    "            text='Zona controlada',\n",
    "            align='center',\n",
    "            showarrow=False,\n",
    "            xref='paper',\n",
    "            yref='paper',\n",
    "            x=0,\n",
    "            y=.01,\n",
    "            bordercolor='#708090',\n",
    "            borderwidth=2,\n",
    "            bgcolor='#DCDCDC',\n",
    "            font=dict(\n",
    "                color='black'),\n",
    "            width=110,\n",
    "            height=20),\n",
    "    ]\n",
    ")\n",
    "\n",
    "fig2.show()"
   ]
  },
  {
   "cell_type": "code",
   "execution_count": null,
   "metadata": {},
   "outputs": [],
   "source": []
  },
  {
   "cell_type": "markdown",
   "metadata": {},
   "source": [
    "--------------------"
   ]
  },
  {
   "cell_type": "markdown",
   "metadata": {},
   "source": [
    "## [Trying on how to set traces - Remove it before commit]"
   ]
  },
  {
   "cell_type": "code",
   "execution_count": 250,
   "metadata": {},
   "outputs": [],
   "source": [
    "import numpy as np\n",
    "import plotly.offline as pyo\n"
   ]
  },
  {
   "cell_type": "code",
   "execution_count": null,
   "metadata": {},
   "outputs": [],
   "source": [
    "# Create a dataframe\n",
    "value1 = np.random.uniform(size = 20)\n",
    "value2 = value1 + np.random.uniform(size = 20) / 4\n",
    "df = pd.DataFrame({'group':list(map(chr, range(65, 85))), 'value1':value1 , 'value2':value2 })"
   ]
  },
  {
   "cell_type": "code",
   "execution_count": 255,
   "metadata": {},
   "outputs": [
    {
     "data": {
      "text/html": [
       "<div>\n",
       "<style scoped>\n",
       "    .dataframe tbody tr th:only-of-type {\n",
       "        vertical-align: middle;\n",
       "    }\n",
       "\n",
       "    .dataframe tbody tr th {\n",
       "        vertical-align: top;\n",
       "    }\n",
       "\n",
       "    .dataframe thead th {\n",
       "        text-align: right;\n",
       "    }\n",
       "</style>\n",
       "<table border=\"1\" class=\"dataframe\">\n",
       "  <thead>\n",
       "    <tr style=\"text-align: right;\">\n",
       "      <th></th>\n",
       "      <th>group</th>\n",
       "      <th>value1</th>\n",
       "      <th>value2</th>\n",
       "    </tr>\n",
       "  </thead>\n",
       "  <tbody>\n",
       "    <tr>\n",
       "      <th>0</th>\n",
       "      <td>A</td>\n",
       "      <td>0.201193</td>\n",
       "      <td>0.305342</td>\n",
       "    </tr>\n",
       "    <tr>\n",
       "      <th>1</th>\n",
       "      <td>B</td>\n",
       "      <td>0.463718</td>\n",
       "      <td>0.530620</td>\n",
       "    </tr>\n",
       "    <tr>\n",
       "      <th>2</th>\n",
       "      <td>C</td>\n",
       "      <td>0.562745</td>\n",
       "      <td>0.781506</td>\n",
       "    </tr>\n",
       "    <tr>\n",
       "      <th>3</th>\n",
       "      <td>D</td>\n",
       "      <td>0.150556</td>\n",
       "      <td>0.237809</td>\n",
       "    </tr>\n",
       "    <tr>\n",
       "      <th>4</th>\n",
       "      <td>E</td>\n",
       "      <td>0.747062</td>\n",
       "      <td>0.915700</td>\n",
       "    </tr>\n",
       "    <tr>\n",
       "      <th>5</th>\n",
       "      <td>F</td>\n",
       "      <td>0.857759</td>\n",
       "      <td>0.931001</td>\n",
       "    </tr>\n",
       "    <tr>\n",
       "      <th>6</th>\n",
       "      <td>G</td>\n",
       "      <td>0.283046</td>\n",
       "      <td>0.483694</td>\n",
       "    </tr>\n",
       "    <tr>\n",
       "      <th>7</th>\n",
       "      <td>H</td>\n",
       "      <td>0.148538</td>\n",
       "      <td>0.393370</td>\n",
       "    </tr>\n",
       "    <tr>\n",
       "      <th>8</th>\n",
       "      <td>I</td>\n",
       "      <td>0.631776</td>\n",
       "      <td>0.879156</td>\n",
       "    </tr>\n",
       "    <tr>\n",
       "      <th>9</th>\n",
       "      <td>J</td>\n",
       "      <td>0.104203</td>\n",
       "      <td>0.232829</td>\n",
       "    </tr>\n",
       "    <tr>\n",
       "      <th>10</th>\n",
       "      <td>K</td>\n",
       "      <td>0.833572</td>\n",
       "      <td>1.005581</td>\n",
       "    </tr>\n",
       "    <tr>\n",
       "      <th>11</th>\n",
       "      <td>L</td>\n",
       "      <td>0.794833</td>\n",
       "      <td>0.903503</td>\n",
       "    </tr>\n",
       "    <tr>\n",
       "      <th>12</th>\n",
       "      <td>M</td>\n",
       "      <td>0.697047</td>\n",
       "      <td>0.872701</td>\n",
       "    </tr>\n",
       "    <tr>\n",
       "      <th>13</th>\n",
       "      <td>N</td>\n",
       "      <td>0.524308</td>\n",
       "      <td>0.764695</td>\n",
       "    </tr>\n",
       "    <tr>\n",
       "      <th>14</th>\n",
       "      <td>O</td>\n",
       "      <td>0.295987</td>\n",
       "      <td>0.464269</td>\n",
       "    </tr>\n",
       "    <tr>\n",
       "      <th>15</th>\n",
       "      <td>P</td>\n",
       "      <td>0.417735</td>\n",
       "      <td>0.524177</td>\n",
       "    </tr>\n",
       "    <tr>\n",
       "      <th>16</th>\n",
       "      <td>Q</td>\n",
       "      <td>0.663821</td>\n",
       "      <td>0.851521</td>\n",
       "    </tr>\n",
       "    <tr>\n",
       "      <th>17</th>\n",
       "      <td>R</td>\n",
       "      <td>0.546542</td>\n",
       "      <td>0.634439</td>\n",
       "    </tr>\n",
       "    <tr>\n",
       "      <th>18</th>\n",
       "      <td>S</td>\n",
       "      <td>0.534924</td>\n",
       "      <td>0.661514</td>\n",
       "    </tr>\n",
       "    <tr>\n",
       "      <th>19</th>\n",
       "      <td>T</td>\n",
       "      <td>0.594610</td>\n",
       "      <td>0.787321</td>\n",
       "    </tr>\n",
       "  </tbody>\n",
       "</table>\n",
       "</div>"
      ],
      "text/plain": [
       "   group    value1    value2\n",
       "0      A  0.201193  0.305342\n",
       "1      B  0.463718  0.530620\n",
       "2      C  0.562745  0.781506\n",
       "3      D  0.150556  0.237809\n",
       "4      E  0.747062  0.915700\n",
       "5      F  0.857759  0.931001\n",
       "6      G  0.283046  0.483694\n",
       "7      H  0.148538  0.393370\n",
       "8      I  0.631776  0.879156\n",
       "9      J  0.104203  0.232829\n",
       "10     K  0.833572  1.005581\n",
       "11     L  0.794833  0.903503\n",
       "12     M  0.697047  0.872701\n",
       "13     N  0.524308  0.764695\n",
       "14     O  0.295987  0.464269\n",
       "15     P  0.417735  0.524177\n",
       "16     Q  0.663821  0.851521\n",
       "17     R  0.546542  0.634439\n",
       "18     S  0.534924  0.661514\n",
       "19     T  0.594610  0.787321"
      ]
     },
     "execution_count": 255,
     "metadata": {},
     "output_type": "execute_result"
    }
   ],
   "source": [
    "df"
   ]
  },
  {
   "cell_type": "code",
   "execution_count": null,
   "metadata": {},
   "outputs": [],
   "source": []
  },
  {
   "cell_type": "code",
   "execution_count": null,
   "metadata": {},
   "outputs": [],
   "source": []
  },
  {
   "cell_type": "code",
   "execution_count": null,
   "metadata": {},
   "outputs": [],
   "source": []
  },
  {
   "cell_type": "markdown",
   "metadata": {},
   "source": [
    "--------------------\n",
    "## Another try:\n"
   ]
  },
  {
   "cell_type": "code",
   "execution_count": null,
   "metadata": {},
   "outputs": [],
   "source": [
    "fig2 = px.scatter(fourQuadData, x='lethality_pct', y='contamRate',\n",
    "                 size='deathRate', color='label', text='estado',\n",
    "                 size_max=40)\n",
    "\n",
    "fig2.update_traces(textposition='middle center',\n",
    "                   textfont=dict(family=\"sans serif\",size=13))\n",
    "\n",
    "fig2.update_layout(\n",
    "    ## Chart general set:\n",
    "    height=520,\n",
    "    width=980,\n",
    "    plot_bgcolor='rgb(245,245,245)',\n",
    "    title_text='Relação entre número de casos e letalidade da COVID-19 no Brasil, por estado, e sua evolução',\n",
    "    xaxis_title=\"<b>Letalidade (% óbitos/casos)</b>\",\n",
    "    yaxis_title=\"<b>Contaminação (% casos/população)</b>\",\n",
    "    hovermode=False,  #Disable the hover information.\n",
    "    ## Axis ranges:\n",
    "    xaxis=dict(\n",
    "        autorange=False,\n",
    "        range=[0, 12],\n",
    "        type=\"linear\"\n",
    "    ),\n",
    "    yaxis=dict(\n",
    "        autorange=False,\n",
    "        range=[-0.2, 1.2],\n",
    "        type=\"linear\"),\n",
    "#    ## Adjusting the colorbar title:\n",
    "#    coloraxis=dict(\n",
    "#        colorbar=dict(\n",
    "#            title=dict(\n",
    "#                text='<b>Óbitos <br>acumulados</b>'\n",
    "#            )\n",
    "#        )),\n",
    "    ## Vertical and horizontal lines, as well those connecting the points\n",
    "    shapes=[\n",
    "        dict(\n",
    "          type= 'line',\n",
    "          yref= 'y', y0= -0.2, y1= 1.2,\n",
    "          xref= 'x', x0= 6, x1= 6,\n",
    "          line=dict(\n",
    "                color=\"gray\",\n",
    "                width=1,\n",
    "                dash=\"dashdot\",\n",
    "                )),\n",
    "        dict(\n",
    "          type= 'line',\n",
    "          yref= 'y', y0= 0.4, y1= 0.4,\n",
    "          xref= 'x', x0= 0, x1= 12,\n",
    "          line=dict(\n",
    "                color=\"gray\",\n",
    "                width=1,\n",
    "                dash=\"dashdot\",\n",
    "                )),\n",
    "        teste\n",
    "    ])\n",
    "    "
   ]
  },
  {
   "cell_type": "code",
   "execution_count": 282,
   "metadata": {},
   "outputs": [
    {
     "data": {
      "text/html": [
       "<div>\n",
       "<style scoped>\n",
       "    .dataframe tbody tr th:only-of-type {\n",
       "        vertical-align: middle;\n",
       "    }\n",
       "\n",
       "    .dataframe tbody tr th {\n",
       "        vertical-align: top;\n",
       "    }\n",
       "\n",
       "    .dataframe thead th {\n",
       "        text-align: right;\n",
       "    }\n",
       "</style>\n",
       "<table border=\"1\" class=\"dataframe\">\n",
       "  <thead>\n",
       "    <tr style=\"text-align: right;\">\n",
       "      <th></th>\n",
       "      <th>regiao</th>\n",
       "      <th>estado</th>\n",
       "      <th>municipio</th>\n",
       "      <th>coduf</th>\n",
       "      <th>codmun</th>\n",
       "      <th>codRegiaoSaude</th>\n",
       "      <th>nomeRegiaoSaude</th>\n",
       "      <th>data</th>\n",
       "      <th>semanaEpi</th>\n",
       "      <th>populacaoTCU2019</th>\n",
       "      <th>casosAcumulado</th>\n",
       "      <th>casosNovos</th>\n",
       "      <th>obitosAcumulado</th>\n",
       "      <th>obitosNovos</th>\n",
       "      <th>Recuperadosnovos</th>\n",
       "      <th>emAcompanhamentoNovos</th>\n",
       "      <th>contamRate</th>\n",
       "      <th>lethality_pct</th>\n",
       "      <th>deathRate</th>\n",
       "      <th>label</th>\n",
       "    </tr>\n",
       "  </thead>\n",
       "  <tbody>\n",
       "    <tr>\n",
       "      <th>163</th>\n",
       "      <td>Norte</td>\n",
       "      <td>RO</td>\n",
       "      <td>NaN</td>\n",
       "      <td>11</td>\n",
       "      <td>NaN</td>\n",
       "      <td>NaN</td>\n",
       "      <td>NaN</td>\n",
       "      <td>2020-05-25</td>\n",
       "      <td>22</td>\n",
       "      <td>1777225.0</td>\n",
       "      <td>3268</td>\n",
       "      <td>67</td>\n",
       "      <td>121</td>\n",
       "      <td>0</td>\n",
       "      <td>NaN</td>\n",
       "      <td>NaN</td>\n",
       "      <td>0.183882</td>\n",
       "      <td>3.702570</td>\n",
       "      <td>0.006808</td>\n",
       "      <td>2020-05-25</td>\n",
       "    </tr>\n",
       "    <tr>\n",
       "      <th>170</th>\n",
       "      <td>Norte</td>\n",
       "      <td>RO</td>\n",
       "      <td>NaN</td>\n",
       "      <td>11</td>\n",
       "      <td>NaN</td>\n",
       "      <td>NaN</td>\n",
       "      <td>NaN</td>\n",
       "      <td>2020-06-01</td>\n",
       "      <td>23</td>\n",
       "      <td>1777225.0</td>\n",
       "      <td>5172</td>\n",
       "      <td>230</td>\n",
       "      <td>159</td>\n",
       "      <td>3</td>\n",
       "      <td>NaN</td>\n",
       "      <td>NaN</td>\n",
       "      <td>0.291015</td>\n",
       "      <td>3.074246</td>\n",
       "      <td>0.008947</td>\n",
       "      <td>2020-06-01</td>\n",
       "    </tr>\n",
       "    <tr>\n",
       "      <th>238</th>\n",
       "      <td>Norte</td>\n",
       "      <td>AC</td>\n",
       "      <td>NaN</td>\n",
       "      <td>12</td>\n",
       "      <td>NaN</td>\n",
       "      <td>NaN</td>\n",
       "      <td>NaN</td>\n",
       "      <td>2020-05-25</td>\n",
       "      <td>22</td>\n",
       "      <td>881935.0</td>\n",
       "      <td>4501</td>\n",
       "      <td>341</td>\n",
       "      <td>97</td>\n",
       "      <td>5</td>\n",
       "      <td>NaN</td>\n",
       "      <td>NaN</td>\n",
       "      <td>0.510355</td>\n",
       "      <td>2.155077</td>\n",
       "      <td>0.010999</td>\n",
       "      <td>2020-05-25</td>\n",
       "    </tr>\n",
       "    <tr>\n",
       "      <th>245</th>\n",
       "      <td>Norte</td>\n",
       "      <td>AC</td>\n",
       "      <td>NaN</td>\n",
       "      <td>12</td>\n",
       "      <td>NaN</td>\n",
       "      <td>NaN</td>\n",
       "      <td>NaN</td>\n",
       "      <td>2020-06-01</td>\n",
       "      <td>23</td>\n",
       "      <td>881935.0</td>\n",
       "      <td>6326</td>\n",
       "      <td>107</td>\n",
       "      <td>161</td>\n",
       "      <td>13</td>\n",
       "      <td>NaN</td>\n",
       "      <td>NaN</td>\n",
       "      <td>0.717286</td>\n",
       "      <td>2.545052</td>\n",
       "      <td>0.018255</td>\n",
       "      <td>2020-06-01</td>\n",
       "    </tr>\n",
       "    <tr>\n",
       "      <th>317</th>\n",
       "      <td>Norte</td>\n",
       "      <td>AM</td>\n",
       "      <td>NaN</td>\n",
       "      <td>13</td>\n",
       "      <td>NaN</td>\n",
       "      <td>NaN</td>\n",
       "      <td>NaN</td>\n",
       "      <td>2020-05-25</td>\n",
       "      <td>22</td>\n",
       "      <td>4144597.0</td>\n",
       "      <td>30282</td>\n",
       "      <td>415</td>\n",
       "      <td>1781</td>\n",
       "      <td>23</td>\n",
       "      <td>NaN</td>\n",
       "      <td>NaN</td>\n",
       "      <td>0.730638</td>\n",
       "      <td>5.881382</td>\n",
       "      <td>0.042972</td>\n",
       "      <td>2020-05-25</td>\n",
       "    </tr>\n",
       "    <tr>\n",
       "      <th>324</th>\n",
       "      <td>Norte</td>\n",
       "      <td>AM</td>\n",
       "      <td>NaN</td>\n",
       "      <td>13</td>\n",
       "      <td>NaN</td>\n",
       "      <td>NaN</td>\n",
       "      <td>NaN</td>\n",
       "      <td>2020-06-01</td>\n",
       "      <td>23</td>\n",
       "      <td>4144597.0</td>\n",
       "      <td>41774</td>\n",
       "      <td>396</td>\n",
       "      <td>2071</td>\n",
       "      <td>19</td>\n",
       "      <td>NaN</td>\n",
       "      <td>NaN</td>\n",
       "      <td>1.007915</td>\n",
       "      <td>4.957629</td>\n",
       "      <td>0.049969</td>\n",
       "      <td>2020-06-01</td>\n",
       "    </tr>\n",
       "    <tr>\n",
       "      <th>389</th>\n",
       "      <td>Norte</td>\n",
       "      <td>RR</td>\n",
       "      <td>NaN</td>\n",
       "      <td>14</td>\n",
       "      <td>NaN</td>\n",
       "      <td>NaN</td>\n",
       "      <td>NaN</td>\n",
       "      <td>2020-05-25</td>\n",
       "      <td>22</td>\n",
       "      <td>605761.0</td>\n",
       "      <td>2514</td>\n",
       "      <td>75</td>\n",
       "      <td>86</td>\n",
       "      <td>2</td>\n",
       "      <td>NaN</td>\n",
       "      <td>NaN</td>\n",
       "      <td>0.415015</td>\n",
       "      <td>3.420843</td>\n",
       "      <td>0.014197</td>\n",
       "      <td>2020-05-25</td>\n",
       "    </tr>\n",
       "    <tr>\n",
       "      <th>396</th>\n",
       "      <td>Norte</td>\n",
       "      <td>RR</td>\n",
       "      <td>NaN</td>\n",
       "      <td>14</td>\n",
       "      <td>NaN</td>\n",
       "      <td>NaN</td>\n",
       "      <td>NaN</td>\n",
       "      <td>2020-06-01</td>\n",
       "      <td>23</td>\n",
       "      <td>605761.0</td>\n",
       "      <td>3692</td>\n",
       "      <td>218</td>\n",
       "      <td>116</td>\n",
       "      <td>0</td>\n",
       "      <td>NaN</td>\n",
       "      <td>NaN</td>\n",
       "      <td>0.609481</td>\n",
       "      <td>3.141928</td>\n",
       "      <td>0.019149</td>\n",
       "      <td>2020-06-01</td>\n",
       "    </tr>\n",
       "    <tr>\n",
       "      <th>464</th>\n",
       "      <td>Norte</td>\n",
       "      <td>PA</td>\n",
       "      <td>NaN</td>\n",
       "      <td>15</td>\n",
       "      <td>NaN</td>\n",
       "      <td>NaN</td>\n",
       "      <td>NaN</td>\n",
       "      <td>2020-05-25</td>\n",
       "      <td>22</td>\n",
       "      <td>8602865.0</td>\n",
       "      <td>26077</td>\n",
       "      <td>1952</td>\n",
       "      <td>2372</td>\n",
       "      <td>224</td>\n",
       "      <td>NaN</td>\n",
       "      <td>NaN</td>\n",
       "      <td>0.303120</td>\n",
       "      <td>9.096138</td>\n",
       "      <td>0.027572</td>\n",
       "      <td>2020-05-25</td>\n",
       "    </tr>\n",
       "    <tr>\n",
       "      <th>471</th>\n",
       "      <td>Norte</td>\n",
       "      <td>PA</td>\n",
       "      <td>NaN</td>\n",
       "      <td>15</td>\n",
       "      <td>NaN</td>\n",
       "      <td>NaN</td>\n",
       "      <td>NaN</td>\n",
       "      <td>2020-06-01</td>\n",
       "      <td>23</td>\n",
       "      <td>8602865.0</td>\n",
       "      <td>38046</td>\n",
       "      <td>85</td>\n",
       "      <td>2925</td>\n",
       "      <td>2</td>\n",
       "      <td>NaN</td>\n",
       "      <td>NaN</td>\n",
       "      <td>0.442248</td>\n",
       "      <td>7.688062</td>\n",
       "      <td>0.034000</td>\n",
       "      <td>2020-06-01</td>\n",
       "    </tr>\n",
       "    <tr>\n",
       "      <th>538</th>\n",
       "      <td>Norte</td>\n",
       "      <td>AP</td>\n",
       "      <td>NaN</td>\n",
       "      <td>16</td>\n",
       "      <td>NaN</td>\n",
       "      <td>NaN</td>\n",
       "      <td>NaN</td>\n",
       "      <td>2020-05-25</td>\n",
       "      <td>22</td>\n",
       "      <td>845731.0</td>\n",
       "      <td>6584</td>\n",
       "      <td>231</td>\n",
       "      <td>168</td>\n",
       "      <td>5</td>\n",
       "      <td>NaN</td>\n",
       "      <td>NaN</td>\n",
       "      <td>0.778498</td>\n",
       "      <td>2.551640</td>\n",
       "      <td>0.019864</td>\n",
       "      <td>2020-05-25</td>\n",
       "    </tr>\n",
       "    <tr>\n",
       "      <th>545</th>\n",
       "      <td>Norte</td>\n",
       "      <td>AP</td>\n",
       "      <td>NaN</td>\n",
       "      <td>16</td>\n",
       "      <td>NaN</td>\n",
       "      <td>NaN</td>\n",
       "      <td>NaN</td>\n",
       "      <td>2020-06-01</td>\n",
       "      <td>23</td>\n",
       "      <td>845731.0</td>\n",
       "      <td>9890</td>\n",
       "      <td>288</td>\n",
       "      <td>228</td>\n",
       "      <td>6</td>\n",
       "      <td>NaN</td>\n",
       "      <td>NaN</td>\n",
       "      <td>1.169403</td>\n",
       "      <td>2.305359</td>\n",
       "      <td>0.026959</td>\n",
       "      <td>2020-06-01</td>\n",
       "    </tr>\n",
       "    <tr>\n",
       "      <th>613</th>\n",
       "      <td>Norte</td>\n",
       "      <td>TO</td>\n",
       "      <td>NaN</td>\n",
       "      <td>17</td>\n",
       "      <td>NaN</td>\n",
       "      <td>NaN</td>\n",
       "      <td>NaN</td>\n",
       "      <td>2020-05-25</td>\n",
       "      <td>22</td>\n",
       "      <td>1572866.0</td>\n",
       "      <td>2696</td>\n",
       "      <td>105</td>\n",
       "      <td>58</td>\n",
       "      <td>6</td>\n",
       "      <td>NaN</td>\n",
       "      <td>NaN</td>\n",
       "      <td>0.171407</td>\n",
       "      <td>2.151335</td>\n",
       "      <td>0.003688</td>\n",
       "      <td>2020-05-25</td>\n",
       "    </tr>\n",
       "    <tr>\n",
       "      <th>620</th>\n",
       "      <td>Norte</td>\n",
       "      <td>TO</td>\n",
       "      <td>NaN</td>\n",
       "      <td>17</td>\n",
       "      <td>NaN</td>\n",
       "      <td>NaN</td>\n",
       "      <td>NaN</td>\n",
       "      <td>2020-06-01</td>\n",
       "      <td>23</td>\n",
       "      <td>1572866.0</td>\n",
       "      <td>4345</td>\n",
       "      <td>169</td>\n",
       "      <td>76</td>\n",
       "      <td>3</td>\n",
       "      <td>NaN</td>\n",
       "      <td>NaN</td>\n",
       "      <td>0.276247</td>\n",
       "      <td>1.749137</td>\n",
       "      <td>0.004832</td>\n",
       "      <td>2020-06-01</td>\n",
       "    </tr>\n",
       "    <tr>\n",
       "      <th>686</th>\n",
       "      <td>Nordeste</td>\n",
       "      <td>MA</td>\n",
       "      <td>NaN</td>\n",
       "      <td>21</td>\n",
       "      <td>NaN</td>\n",
       "      <td>NaN</td>\n",
       "      <td>NaN</td>\n",
       "      <td>2020-05-25</td>\n",
       "      <td>22</td>\n",
       "      <td>7075181.0</td>\n",
       "      <td>22786</td>\n",
       "      <td>1595</td>\n",
       "      <td>784</td>\n",
       "      <td>30</td>\n",
       "      <td>NaN</td>\n",
       "      <td>NaN</td>\n",
       "      <td>0.322055</td>\n",
       "      <td>3.440709</td>\n",
       "      <td>0.011081</td>\n",
       "      <td>2020-05-25</td>\n",
       "    </tr>\n",
       "    <tr>\n",
       "      <th>693</th>\n",
       "      <td>Nordeste</td>\n",
       "      <td>MA</td>\n",
       "      <td>NaN</td>\n",
       "      <td>21</td>\n",
       "      <td>NaN</td>\n",
       "      <td>NaN</td>\n",
       "      <td>NaN</td>\n",
       "      <td>2020-06-01</td>\n",
       "      <td>23</td>\n",
       "      <td>7075181.0</td>\n",
       "      <td>35297</td>\n",
       "      <td>658</td>\n",
       "      <td>976</td>\n",
       "      <td>21</td>\n",
       "      <td>NaN</td>\n",
       "      <td>NaN</td>\n",
       "      <td>0.498885</td>\n",
       "      <td>2.765108</td>\n",
       "      <td>0.013795</td>\n",
       "      <td>2020-06-01</td>\n",
       "    </tr>\n",
       "    <tr>\n",
       "      <th>760</th>\n",
       "      <td>Nordeste</td>\n",
       "      <td>PI</td>\n",
       "      <td>NaN</td>\n",
       "      <td>22</td>\n",
       "      <td>NaN</td>\n",
       "      <td>NaN</td>\n",
       "      <td>NaN</td>\n",
       "      <td>2020-05-25</td>\n",
       "      <td>22</td>\n",
       "      <td>3273227.0</td>\n",
       "      <td>3550</td>\n",
       "      <td>160</td>\n",
       "      <td>110</td>\n",
       "      <td>3</td>\n",
       "      <td>NaN</td>\n",
       "      <td>NaN</td>\n",
       "      <td>0.108456</td>\n",
       "      <td>3.098592</td>\n",
       "      <td>0.003361</td>\n",
       "      <td>2020-05-25</td>\n",
       "    </tr>\n",
       "    <tr>\n",
       "      <th>767</th>\n",
       "      <td>Nordeste</td>\n",
       "      <td>PI</td>\n",
       "      <td>NaN</td>\n",
       "      <td>22</td>\n",
       "      <td>NaN</td>\n",
       "      <td>NaN</td>\n",
       "      <td>NaN</td>\n",
       "      <td>2020-06-01</td>\n",
       "      <td>23</td>\n",
       "      <td>3273227.0</td>\n",
       "      <td>5119</td>\n",
       "      <td>188</td>\n",
       "      <td>168</td>\n",
       "      <td>7</td>\n",
       "      <td>NaN</td>\n",
       "      <td>NaN</td>\n",
       "      <td>0.156390</td>\n",
       "      <td>3.281891</td>\n",
       "      <td>0.005133</td>\n",
       "      <td>2020-06-01</td>\n",
       "    </tr>\n",
       "    <tr>\n",
       "      <th>837</th>\n",
       "      <td>Nordeste</td>\n",
       "      <td>CE</td>\n",
       "      <td>NaN</td>\n",
       "      <td>23</td>\n",
       "      <td>NaN</td>\n",
       "      <td>NaN</td>\n",
       "      <td>NaN</td>\n",
       "      <td>2020-05-25</td>\n",
       "      <td>22</td>\n",
       "      <td>9132078.0</td>\n",
       "      <td>36185</td>\n",
       "      <td>590</td>\n",
       "      <td>2493</td>\n",
       "      <td>169</td>\n",
       "      <td>NaN</td>\n",
       "      <td>NaN</td>\n",
       "      <td>0.396241</td>\n",
       "      <td>6.889595</td>\n",
       "      <td>0.027299</td>\n",
       "      <td>2020-05-25</td>\n",
       "    </tr>\n",
       "    <tr>\n",
       "      <th>844</th>\n",
       "      <td>Nordeste</td>\n",
       "      <td>CE</td>\n",
       "      <td>NaN</td>\n",
       "      <td>23</td>\n",
       "      <td>NaN</td>\n",
       "      <td>NaN</td>\n",
       "      <td>NaN</td>\n",
       "      <td>2020-06-01</td>\n",
       "      <td>23</td>\n",
       "      <td>9132078.0</td>\n",
       "      <td>50504</td>\n",
       "      <td>2015</td>\n",
       "      <td>3188</td>\n",
       "      <td>178</td>\n",
       "      <td>NaN</td>\n",
       "      <td>NaN</td>\n",
       "      <td>0.553040</td>\n",
       "      <td>6.312371</td>\n",
       "      <td>0.034910</td>\n",
       "      <td>2020-06-01</td>\n",
       "    </tr>\n",
       "    <tr>\n",
       "      <th>918</th>\n",
       "      <td>Nordeste</td>\n",
       "      <td>RN</td>\n",
       "      <td>NaN</td>\n",
       "      <td>24</td>\n",
       "      <td>NaN</td>\n",
       "      <td>NaN</td>\n",
       "      <td>NaN</td>\n",
       "      <td>2020-05-25</td>\n",
       "      <td>22</td>\n",
       "      <td>3506853.0</td>\n",
       "      <td>4759</td>\n",
       "      <td>62</td>\n",
       "      <td>209</td>\n",
       "      <td>9</td>\n",
       "      <td>NaN</td>\n",
       "      <td>NaN</td>\n",
       "      <td>0.135706</td>\n",
       "      <td>4.391679</td>\n",
       "      <td>0.005960</td>\n",
       "      <td>2020-05-25</td>\n",
       "    </tr>\n",
       "    <tr>\n",
       "      <th>925</th>\n",
       "      <td>Nordeste</td>\n",
       "      <td>RN</td>\n",
       "      <td>NaN</td>\n",
       "      <td>24</td>\n",
       "      <td>NaN</td>\n",
       "      <td>NaN</td>\n",
       "      <td>NaN</td>\n",
       "      <td>2020-06-01</td>\n",
       "      <td>23</td>\n",
       "      <td>3506853.0</td>\n",
       "      <td>7964</td>\n",
       "      <td>562</td>\n",
       "      <td>323</td>\n",
       "      <td>18</td>\n",
       "      <td>NaN</td>\n",
       "      <td>NaN</td>\n",
       "      <td>0.227098</td>\n",
       "      <td>4.055751</td>\n",
       "      <td>0.009211</td>\n",
       "      <td>2020-06-01</td>\n",
       "    </tr>\n",
       "    <tr>\n",
       "      <th>993</th>\n",
       "      <td>Nordeste</td>\n",
       "      <td>PB</td>\n",
       "      <td>NaN</td>\n",
       "      <td>25</td>\n",
       "      <td>NaN</td>\n",
       "      <td>NaN</td>\n",
       "      <td>NaN</td>\n",
       "      <td>2020-05-25</td>\n",
       "      <td>22</td>\n",
       "      <td>4018127.0</td>\n",
       "      <td>8016</td>\n",
       "      <td>193</td>\n",
       "      <td>279</td>\n",
       "      <td>7</td>\n",
       "      <td>NaN</td>\n",
       "      <td>NaN</td>\n",
       "      <td>0.199496</td>\n",
       "      <td>3.480539</td>\n",
       "      <td>0.006944</td>\n",
       "      <td>2020-05-25</td>\n",
       "    </tr>\n",
       "    <tr>\n",
       "      <th>1000</th>\n",
       "      <td>Nordeste</td>\n",
       "      <td>PB</td>\n",
       "      <td>NaN</td>\n",
       "      <td>25</td>\n",
       "      <td>NaN</td>\n",
       "      <td>NaN</td>\n",
       "      <td>NaN</td>\n",
       "      <td>2020-06-01</td>\n",
       "      <td>23</td>\n",
       "      <td>4018127.0</td>\n",
       "      <td>13695</td>\n",
       "      <td>533</td>\n",
       "      <td>370</td>\n",
       "      <td>10</td>\n",
       "      <td>NaN</td>\n",
       "      <td>NaN</td>\n",
       "      <td>0.340830</td>\n",
       "      <td>2.701716</td>\n",
       "      <td>0.009208</td>\n",
       "      <td>2020-06-01</td>\n",
       "    </tr>\n",
       "    <tr>\n",
       "      <th>1075</th>\n",
       "      <td>Nordeste</td>\n",
       "      <td>PE</td>\n",
       "      <td>NaN</td>\n",
       "      <td>26</td>\n",
       "      <td>NaN</td>\n",
       "      <td>NaN</td>\n",
       "      <td>NaN</td>\n",
       "      <td>2020-05-25</td>\n",
       "      <td>22</td>\n",
       "      <td>9557071.0</td>\n",
       "      <td>28366</td>\n",
       "      <td>607</td>\n",
       "      <td>2248</td>\n",
       "      <td>48</td>\n",
       "      <td>NaN</td>\n",
       "      <td>NaN</td>\n",
       "      <td>0.296806</td>\n",
       "      <td>7.924981</td>\n",
       "      <td>0.023522</td>\n",
       "      <td>2020-05-25</td>\n",
       "    </tr>\n",
       "    <tr>\n",
       "      <th>1082</th>\n",
       "      <td>Nordeste</td>\n",
       "      <td>PE</td>\n",
       "      <td>NaN</td>\n",
       "      <td>26</td>\n",
       "      <td>NaN</td>\n",
       "      <td>NaN</td>\n",
       "      <td>NaN</td>\n",
       "      <td>2020-06-01</td>\n",
       "      <td>23</td>\n",
       "      <td>9557071.0</td>\n",
       "      <td>34900</td>\n",
       "      <td>450</td>\n",
       "      <td>2875</td>\n",
       "      <td>68</td>\n",
       "      <td>NaN</td>\n",
       "      <td>NaN</td>\n",
       "      <td>0.365175</td>\n",
       "      <td>8.237822</td>\n",
       "      <td>0.030082</td>\n",
       "      <td>2020-06-01</td>\n",
       "    </tr>\n",
       "    <tr>\n",
       "      <th>1161</th>\n",
       "      <td>Nordeste</td>\n",
       "      <td>AL</td>\n",
       "      <td>NaN</td>\n",
       "      <td>27</td>\n",
       "      <td>NaN</td>\n",
       "      <td>NaN</td>\n",
       "      <td>NaN</td>\n",
       "      <td>2020-05-25</td>\n",
       "      <td>22</td>\n",
       "      <td>3337357.0</td>\n",
       "      <td>6682</td>\n",
       "      <td>468</td>\n",
       "      <td>337</td>\n",
       "      <td>21</td>\n",
       "      <td>NaN</td>\n",
       "      <td>NaN</td>\n",
       "      <td>0.200218</td>\n",
       "      <td>5.043400</td>\n",
       "      <td>0.010098</td>\n",
       "      <td>2020-05-25</td>\n",
       "    </tr>\n",
       "    <tr>\n",
       "      <th>1168</th>\n",
       "      <td>Nordeste</td>\n",
       "      <td>AL</td>\n",
       "      <td>NaN</td>\n",
       "      <td>27</td>\n",
       "      <td>NaN</td>\n",
       "      <td>NaN</td>\n",
       "      <td>NaN</td>\n",
       "      <td>2020-06-01</td>\n",
       "      <td>23</td>\n",
       "      <td>3337357.0</td>\n",
       "      <td>10837</td>\n",
       "      <td>549</td>\n",
       "      <td>461</td>\n",
       "      <td>18</td>\n",
       "      <td>NaN</td>\n",
       "      <td>NaN</td>\n",
       "      <td>0.324718</td>\n",
       "      <td>4.253945</td>\n",
       "      <td>0.013813</td>\n",
       "      <td>2020-06-01</td>\n",
       "    </tr>\n",
       "    <tr>\n",
       "      <th>1240</th>\n",
       "      <td>Nordeste</td>\n",
       "      <td>SE</td>\n",
       "      <td>NaN</td>\n",
       "      <td>28</td>\n",
       "      <td>NaN</td>\n",
       "      <td>NaN</td>\n",
       "      <td>NaN</td>\n",
       "      <td>2020-05-25</td>\n",
       "      <td>22</td>\n",
       "      <td>2298696.0</td>\n",
       "      <td>5448</td>\n",
       "      <td>134</td>\n",
       "      <td>103</td>\n",
       "      <td>10</td>\n",
       "      <td>NaN</td>\n",
       "      <td>NaN</td>\n",
       "      <td>0.237004</td>\n",
       "      <td>1.890602</td>\n",
       "      <td>0.004481</td>\n",
       "      <td>2020-05-25</td>\n",
       "    </tr>\n",
       "    <tr>\n",
       "      <th>1247</th>\n",
       "      <td>Nordeste</td>\n",
       "      <td>SE</td>\n",
       "      <td>NaN</td>\n",
       "      <td>28</td>\n",
       "      <td>NaN</td>\n",
       "      <td>NaN</td>\n",
       "      <td>NaN</td>\n",
       "      <td>2020-06-01</td>\n",
       "      <td>23</td>\n",
       "      <td>2298696.0</td>\n",
       "      <td>7233</td>\n",
       "      <td>234</td>\n",
       "      <td>166</td>\n",
       "      <td>8</td>\n",
       "      <td>NaN</td>\n",
       "      <td>NaN</td>\n",
       "      <td>0.314657</td>\n",
       "      <td>2.295037</td>\n",
       "      <td>0.007221</td>\n",
       "      <td>2020-06-01</td>\n",
       "    </tr>\n",
       "    <tr>\n",
       "      <th>1328</th>\n",
       "      <td>Nordeste</td>\n",
       "      <td>BA</td>\n",
       "      <td>NaN</td>\n",
       "      <td>29</td>\n",
       "      <td>NaN</td>\n",
       "      <td>NaN</td>\n",
       "      <td>NaN</td>\n",
       "      <td>2020-05-25</td>\n",
       "      <td>22</td>\n",
       "      <td>14873064.0</td>\n",
       "      <td>14204</td>\n",
       "      <td>305</td>\n",
       "      <td>477</td>\n",
       "      <td>17</td>\n",
       "      <td>NaN</td>\n",
       "      <td>NaN</td>\n",
       "      <td>0.095502</td>\n",
       "      <td>3.358209</td>\n",
       "      <td>0.003207</td>\n",
       "      <td>2020-05-25</td>\n",
       "    </tr>\n",
       "    <tr>\n",
       "      <th>1335</th>\n",
       "      <td>Nordeste</td>\n",
       "      <td>BA</td>\n",
       "      <td>NaN</td>\n",
       "      <td>29</td>\n",
       "      <td>NaN</td>\n",
       "      <td>NaN</td>\n",
       "      <td>NaN</td>\n",
       "      <td>2020-06-01</td>\n",
       "      <td>23</td>\n",
       "      <td>14873064.0</td>\n",
       "      <td>18898</td>\n",
       "      <td>506</td>\n",
       "      <td>701</td>\n",
       "      <td>34</td>\n",
       "      <td>NaN</td>\n",
       "      <td>NaN</td>\n",
       "      <td>0.127062</td>\n",
       "      <td>3.709387</td>\n",
       "      <td>0.004713</td>\n",
       "      <td>2020-06-01</td>\n",
       "    </tr>\n",
       "    <tr>\n",
       "      <th>1414</th>\n",
       "      <td>Sudeste</td>\n",
       "      <td>MG</td>\n",
       "      <td>NaN</td>\n",
       "      <td>31</td>\n",
       "      <td>NaN</td>\n",
       "      <td>NaN</td>\n",
       "      <td>NaN</td>\n",
       "      <td>2020-05-25</td>\n",
       "      <td>22</td>\n",
       "      <td>21168791.0</td>\n",
       "      <td>6962</td>\n",
       "      <td>294</td>\n",
       "      <td>230</td>\n",
       "      <td>4</td>\n",
       "      <td>NaN</td>\n",
       "      <td>NaN</td>\n",
       "      <td>0.032888</td>\n",
       "      <td>3.303648</td>\n",
       "      <td>0.001087</td>\n",
       "      <td>2020-05-25</td>\n",
       "    </tr>\n",
       "    <tr>\n",
       "      <th>1421</th>\n",
       "      <td>Sudeste</td>\n",
       "      <td>MG</td>\n",
       "      <td>NaN</td>\n",
       "      <td>31</td>\n",
       "      <td>NaN</td>\n",
       "      <td>NaN</td>\n",
       "      <td>NaN</td>\n",
       "      <td>2020-06-01</td>\n",
       "      <td>23</td>\n",
       "      <td>21168791.0</td>\n",
       "      <td>10670</td>\n",
       "      <td>206</td>\n",
       "      <td>278</td>\n",
       "      <td>7</td>\n",
       "      <td>NaN</td>\n",
       "      <td>NaN</td>\n",
       "      <td>0.050404</td>\n",
       "      <td>2.605436</td>\n",
       "      <td>0.001313</td>\n",
       "      <td>2020-06-01</td>\n",
       "    </tr>\n",
       "    <tr>\n",
       "      <th>1502</th>\n",
       "      <td>Sudeste</td>\n",
       "      <td>ES</td>\n",
       "      <td>NaN</td>\n",
       "      <td>32</td>\n",
       "      <td>NaN</td>\n",
       "      <td>NaN</td>\n",
       "      <td>NaN</td>\n",
       "      <td>2020-05-25</td>\n",
       "      <td>22</td>\n",
       "      <td>4018650.0</td>\n",
       "      <td>10365</td>\n",
       "      <td>358</td>\n",
       "      <td>465</td>\n",
       "      <td>19</td>\n",
       "      <td>NaN</td>\n",
       "      <td>NaN</td>\n",
       "      <td>0.257922</td>\n",
       "      <td>4.486252</td>\n",
       "      <td>0.011571</td>\n",
       "      <td>2020-05-25</td>\n",
       "    </tr>\n",
       "    <tr>\n",
       "      <th>1509</th>\n",
       "      <td>Sudeste</td>\n",
       "      <td>ES</td>\n",
       "      <td>NaN</td>\n",
       "      <td>32</td>\n",
       "      <td>NaN</td>\n",
       "      <td>NaN</td>\n",
       "      <td>NaN</td>\n",
       "      <td>2020-06-01</td>\n",
       "      <td>23</td>\n",
       "      <td>4018650.0</td>\n",
       "      <td>14069</td>\n",
       "      <td>379</td>\n",
       "      <td>614</td>\n",
       "      <td>10</td>\n",
       "      <td>NaN</td>\n",
       "      <td>NaN</td>\n",
       "      <td>0.350093</td>\n",
       "      <td>4.364205</td>\n",
       "      <td>0.015279</td>\n",
       "      <td>2020-06-01</td>\n",
       "    </tr>\n",
       "    <tr>\n",
       "      <th>1591</th>\n",
       "      <td>Sudeste</td>\n",
       "      <td>RJ</td>\n",
       "      <td>NaN</td>\n",
       "      <td>33</td>\n",
       "      <td>NaN</td>\n",
       "      <td>NaN</td>\n",
       "      <td>NaN</td>\n",
       "      <td>2020-05-25</td>\n",
       "      <td>22</td>\n",
       "      <td>17264943.0</td>\n",
       "      <td>39298</td>\n",
       "      <td>1386</td>\n",
       "      <td>4105</td>\n",
       "      <td>112</td>\n",
       "      <td>NaN</td>\n",
       "      <td>NaN</td>\n",
       "      <td>0.227617</td>\n",
       "      <td>10.445824</td>\n",
       "      <td>0.023777</td>\n",
       "      <td>2020-05-25</td>\n",
       "    </tr>\n",
       "    <tr>\n",
       "      <th>1598</th>\n",
       "      <td>Sudeste</td>\n",
       "      <td>RJ</td>\n",
       "      <td>NaN</td>\n",
       "      <td>33</td>\n",
       "      <td>NaN</td>\n",
       "      <td>NaN</td>\n",
       "      <td>NaN</td>\n",
       "      <td>2020-06-01</td>\n",
       "      <td>23</td>\n",
       "      <td>17264943.0</td>\n",
       "      <td>54530</td>\n",
       "      <td>1142</td>\n",
       "      <td>5462</td>\n",
       "      <td>118</td>\n",
       "      <td>NaN</td>\n",
       "      <td>NaN</td>\n",
       "      <td>0.315842</td>\n",
       "      <td>10.016505</td>\n",
       "      <td>0.031636</td>\n",
       "      <td>2020-06-01</td>\n",
       "    </tr>\n",
       "    <tr>\n",
       "      <th>1688</th>\n",
       "      <td>Sudeste</td>\n",
       "      <td>SP</td>\n",
       "      <td>NaN</td>\n",
       "      <td>35</td>\n",
       "      <td>NaN</td>\n",
       "      <td>NaN</td>\n",
       "      <td>NaN</td>\n",
       "      <td>2020-05-25</td>\n",
       "      <td>22</td>\n",
       "      <td>45919049.0</td>\n",
       "      <td>83625</td>\n",
       "      <td>1464</td>\n",
       "      <td>6220</td>\n",
       "      <td>57</td>\n",
       "      <td>NaN</td>\n",
       "      <td>NaN</td>\n",
       "      <td>0.182114</td>\n",
       "      <td>7.437967</td>\n",
       "      <td>0.013546</td>\n",
       "      <td>2020-05-25</td>\n",
       "    </tr>\n",
       "    <tr>\n",
       "      <th>1695</th>\n",
       "      <td>Sudeste</td>\n",
       "      <td>SP</td>\n",
       "      <td>NaN</td>\n",
       "      <td>35</td>\n",
       "      <td>NaN</td>\n",
       "      <td>NaN</td>\n",
       "      <td>NaN</td>\n",
       "      <td>2020-06-01</td>\n",
       "      <td>23</td>\n",
       "      <td>45919049.0</td>\n",
       "      <td>111296</td>\n",
       "      <td>1598</td>\n",
       "      <td>7667</td>\n",
       "      <td>52</td>\n",
       "      <td>NaN</td>\n",
       "      <td>NaN</td>\n",
       "      <td>0.242374</td>\n",
       "      <td>6.888837</td>\n",
       "      <td>0.016697</td>\n",
       "      <td>2020-06-01</td>\n",
       "    </tr>\n",
       "    <tr>\n",
       "      <th>1770</th>\n",
       "      <td>Sul</td>\n",
       "      <td>PR</td>\n",
       "      <td>NaN</td>\n",
       "      <td>41</td>\n",
       "      <td>NaN</td>\n",
       "      <td>NaN</td>\n",
       "      <td>NaN</td>\n",
       "      <td>2020-05-25</td>\n",
       "      <td>22</td>\n",
       "      <td>11433957.0</td>\n",
       "      <td>3331</td>\n",
       "      <td>119</td>\n",
       "      <td>156</td>\n",
       "      <td>3</td>\n",
       "      <td>NaN</td>\n",
       "      <td>NaN</td>\n",
       "      <td>0.029133</td>\n",
       "      <td>4.683278</td>\n",
       "      <td>0.001364</td>\n",
       "      <td>2020-05-25</td>\n",
       "    </tr>\n",
       "    <tr>\n",
       "      <th>1777</th>\n",
       "      <td>Sul</td>\n",
       "      <td>PR</td>\n",
       "      <td>NaN</td>\n",
       "      <td>41</td>\n",
       "      <td>NaN</td>\n",
       "      <td>NaN</td>\n",
       "      <td>NaN</td>\n",
       "      <td>2020-06-01</td>\n",
       "      <td>23</td>\n",
       "      <td>11433957.0</td>\n",
       "      <td>4835</td>\n",
       "      <td>148</td>\n",
       "      <td>190</td>\n",
       "      <td>8</td>\n",
       "      <td>NaN</td>\n",
       "      <td>NaN</td>\n",
       "      <td>0.042286</td>\n",
       "      <td>3.929679</td>\n",
       "      <td>0.001662</td>\n",
       "      <td>2020-06-01</td>\n",
       "    </tr>\n",
       "    <tr>\n",
       "      <th>1851</th>\n",
       "      <td>Sul</td>\n",
       "      <td>SC</td>\n",
       "      <td>NaN</td>\n",
       "      <td>42</td>\n",
       "      <td>NaN</td>\n",
       "      <td>NaN</td>\n",
       "      <td>NaN</td>\n",
       "      <td>2020-05-25</td>\n",
       "      <td>22</td>\n",
       "      <td>7164788.0</td>\n",
       "      <td>6875</td>\n",
       "      <td>179</td>\n",
       "      <td>109</td>\n",
       "      <td>4</td>\n",
       "      <td>NaN</td>\n",
       "      <td>NaN</td>\n",
       "      <td>0.095955</td>\n",
       "      <td>1.585455</td>\n",
       "      <td>0.001521</td>\n",
       "      <td>2020-05-25</td>\n",
       "    </tr>\n",
       "    <tr>\n",
       "      <th>1858</th>\n",
       "      <td>Sul</td>\n",
       "      <td>SC</td>\n",
       "      <td>NaN</td>\n",
       "      <td>42</td>\n",
       "      <td>NaN</td>\n",
       "      <td>NaN</td>\n",
       "      <td>NaN</td>\n",
       "      <td>2020-06-01</td>\n",
       "      <td>23</td>\n",
       "      <td>7164788.0</td>\n",
       "      <td>9498</td>\n",
       "      <td>461</td>\n",
       "      <td>146</td>\n",
       "      <td>3</td>\n",
       "      <td>NaN</td>\n",
       "      <td>NaN</td>\n",
       "      <td>0.132565</td>\n",
       "      <td>1.537166</td>\n",
       "      <td>0.002038</td>\n",
       "      <td>2020-06-01</td>\n",
       "    </tr>\n",
       "    <tr>\n",
       "      <th>1935</th>\n",
       "      <td>Sul</td>\n",
       "      <td>RS</td>\n",
       "      <td>NaN</td>\n",
       "      <td>43</td>\n",
       "      <td>NaN</td>\n",
       "      <td>NaN</td>\n",
       "      <td>NaN</td>\n",
       "      <td>2020-05-25</td>\n",
       "      <td>22</td>\n",
       "      <td>11377239.0</td>\n",
       "      <td>6559</td>\n",
       "      <td>89</td>\n",
       "      <td>197</td>\n",
       "      <td>17</td>\n",
       "      <td>NaN</td>\n",
       "      <td>NaN</td>\n",
       "      <td>0.057650</td>\n",
       "      <td>3.003507</td>\n",
       "      <td>0.001732</td>\n",
       "      <td>2020-05-25</td>\n",
       "    </tr>\n",
       "    <tr>\n",
       "      <th>1942</th>\n",
       "      <td>Sul</td>\n",
       "      <td>RS</td>\n",
       "      <td>NaN</td>\n",
       "      <td>43</td>\n",
       "      <td>NaN</td>\n",
       "      <td>NaN</td>\n",
       "      <td>NaN</td>\n",
       "      <td>2020-06-01</td>\n",
       "      <td>23</td>\n",
       "      <td>11377239.0</td>\n",
       "      <td>9332</td>\n",
       "      <td>0</td>\n",
       "      <td>232</td>\n",
       "      <td>8</td>\n",
       "      <td>NaN</td>\n",
       "      <td>NaN</td>\n",
       "      <td>0.082023</td>\n",
       "      <td>2.486069</td>\n",
       "      <td>0.002039</td>\n",
       "      <td>2020-06-01</td>\n",
       "    </tr>\n",
       "    <tr>\n",
       "      <th>2013</th>\n",
       "      <td>Centro-Oeste</td>\n",
       "      <td>MS</td>\n",
       "      <td>NaN</td>\n",
       "      <td>50</td>\n",
       "      <td>NaN</td>\n",
       "      <td>NaN</td>\n",
       "      <td>NaN</td>\n",
       "      <td>2020-05-25</td>\n",
       "      <td>22</td>\n",
       "      <td>2778986.0</td>\n",
       "      <td>1023</td>\n",
       "      <td>99</td>\n",
       "      <td>17</td>\n",
       "      <td>0</td>\n",
       "      <td>NaN</td>\n",
       "      <td>NaN</td>\n",
       "      <td>0.036812</td>\n",
       "      <td>1.661779</td>\n",
       "      <td>0.000612</td>\n",
       "      <td>2020-05-25</td>\n",
       "    </tr>\n",
       "    <tr>\n",
       "      <th>2020</th>\n",
       "      <td>Centro-Oeste</td>\n",
       "      <td>MS</td>\n",
       "      <td>NaN</td>\n",
       "      <td>50</td>\n",
       "      <td>NaN</td>\n",
       "      <td>NaN</td>\n",
       "      <td>NaN</td>\n",
       "      <td>2020-06-01</td>\n",
       "      <td>23</td>\n",
       "      <td>2778986.0</td>\n",
       "      <td>1568</td>\n",
       "      <td>79</td>\n",
       "      <td>20</td>\n",
       "      <td>0</td>\n",
       "      <td>NaN</td>\n",
       "      <td>NaN</td>\n",
       "      <td>0.056423</td>\n",
       "      <td>1.275510</td>\n",
       "      <td>0.000720</td>\n",
       "      <td>2020-06-01</td>\n",
       "    </tr>\n",
       "    <tr>\n",
       "      <th>2087</th>\n",
       "      <td>Centro-Oeste</td>\n",
       "      <td>MT</td>\n",
       "      <td>NaN</td>\n",
       "      <td>51</td>\n",
       "      <td>NaN</td>\n",
       "      <td>NaN</td>\n",
       "      <td>NaN</td>\n",
       "      <td>2020-05-25</td>\n",
       "      <td>22</td>\n",
       "      <td>3484466.0</td>\n",
       "      <td>1500</td>\n",
       "      <td>38</td>\n",
       "      <td>41</td>\n",
       "      <td>1</td>\n",
       "      <td>NaN</td>\n",
       "      <td>NaN</td>\n",
       "      <td>0.043048</td>\n",
       "      <td>2.733333</td>\n",
       "      <td>0.001177</td>\n",
       "      <td>2020-05-25</td>\n",
       "    </tr>\n",
       "    <tr>\n",
       "      <th>2094</th>\n",
       "      <td>Centro-Oeste</td>\n",
       "      <td>MT</td>\n",
       "      <td>NaN</td>\n",
       "      <td>51</td>\n",
       "      <td>NaN</td>\n",
       "      <td>NaN</td>\n",
       "      <td>NaN</td>\n",
       "      <td>2020-06-01</td>\n",
       "      <td>23</td>\n",
       "      <td>3484466.0</td>\n",
       "      <td>2541</td>\n",
       "      <td>112</td>\n",
       "      <td>66</td>\n",
       "      <td>5</td>\n",
       "      <td>NaN</td>\n",
       "      <td>NaN</td>\n",
       "      <td>0.072924</td>\n",
       "      <td>2.597403</td>\n",
       "      <td>0.001894</td>\n",
       "      <td>2020-06-01</td>\n",
       "    </tr>\n",
       "    <tr>\n",
       "      <th>2168</th>\n",
       "      <td>Centro-Oeste</td>\n",
       "      <td>GO</td>\n",
       "      <td>NaN</td>\n",
       "      <td>52</td>\n",
       "      <td>NaN</td>\n",
       "      <td>NaN</td>\n",
       "      <td>NaN</td>\n",
       "      <td>2020-05-25</td>\n",
       "      <td>22</td>\n",
       "      <td>7018354.0</td>\n",
       "      <td>2512</td>\n",
       "      <td>69</td>\n",
       "      <td>96</td>\n",
       "      <td>1</td>\n",
       "      <td>NaN</td>\n",
       "      <td>NaN</td>\n",
       "      <td>0.035792</td>\n",
       "      <td>3.821656</td>\n",
       "      <td>0.001368</td>\n",
       "      <td>2020-05-25</td>\n",
       "    </tr>\n",
       "    <tr>\n",
       "      <th>2175</th>\n",
       "      <td>Centro-Oeste</td>\n",
       "      <td>GO</td>\n",
       "      <td>NaN</td>\n",
       "      <td>52</td>\n",
       "      <td>NaN</td>\n",
       "      <td>NaN</td>\n",
       "      <td>NaN</td>\n",
       "      <td>2020-06-01</td>\n",
       "      <td>23</td>\n",
       "      <td>7018354.0</td>\n",
       "      <td>3906</td>\n",
       "      <td>204</td>\n",
       "      <td>127</td>\n",
       "      <td>3</td>\n",
       "      <td>NaN</td>\n",
       "      <td>NaN</td>\n",
       "      <td>0.055654</td>\n",
       "      <td>3.251408</td>\n",
       "      <td>0.001810</td>\n",
       "      <td>2020-06-01</td>\n",
       "    </tr>\n",
       "    <tr>\n",
       "      <th>2255</th>\n",
       "      <td>Centro-Oeste</td>\n",
       "      <td>DF</td>\n",
       "      <td>NaN</td>\n",
       "      <td>53</td>\n",
       "      <td>NaN</td>\n",
       "      <td>NaN</td>\n",
       "      <td>NaN</td>\n",
       "      <td>2020-05-25</td>\n",
       "      <td>22</td>\n",
       "      <td>3015268.0</td>\n",
       "      <td>6930</td>\n",
       "      <td>292</td>\n",
       "      <td>114</td>\n",
       "      <td>10</td>\n",
       "      <td>NaN</td>\n",
       "      <td>NaN</td>\n",
       "      <td>0.229830</td>\n",
       "      <td>1.645022</td>\n",
       "      <td>0.003781</td>\n",
       "      <td>2020-05-25</td>\n",
       "    </tr>\n",
       "    <tr>\n",
       "      <th>2262</th>\n",
       "      <td>Centro-Oeste</td>\n",
       "      <td>DF</td>\n",
       "      <td>NaN</td>\n",
       "      <td>53</td>\n",
       "      <td>NaN</td>\n",
       "      <td>NaN</td>\n",
       "      <td>NaN</td>\n",
       "      <td>2020-06-01</td>\n",
       "      <td>23</td>\n",
       "      <td>3015268.0</td>\n",
       "      <td>10510</td>\n",
       "      <td>730</td>\n",
       "      <td>171</td>\n",
       "      <td>1</td>\n",
       "      <td>NaN</td>\n",
       "      <td>NaN</td>\n",
       "      <td>0.348559</td>\n",
       "      <td>1.627022</td>\n",
       "      <td>0.005671</td>\n",
       "      <td>2020-06-01</td>\n",
       "    </tr>\n",
       "  </tbody>\n",
       "</table>\n",
       "</div>"
      ],
      "text/plain": [
       "            regiao estado municipio  coduf  codmun  codRegiaoSaude  \\\n",
       "163          Norte     RO       NaN     11     NaN             NaN   \n",
       "170          Norte     RO       NaN     11     NaN             NaN   \n",
       "238          Norte     AC       NaN     12     NaN             NaN   \n",
       "245          Norte     AC       NaN     12     NaN             NaN   \n",
       "317          Norte     AM       NaN     13     NaN             NaN   \n",
       "324          Norte     AM       NaN     13     NaN             NaN   \n",
       "389          Norte     RR       NaN     14     NaN             NaN   \n",
       "396          Norte     RR       NaN     14     NaN             NaN   \n",
       "464          Norte     PA       NaN     15     NaN             NaN   \n",
       "471          Norte     PA       NaN     15     NaN             NaN   \n",
       "538          Norte     AP       NaN     16     NaN             NaN   \n",
       "545          Norte     AP       NaN     16     NaN             NaN   \n",
       "613          Norte     TO       NaN     17     NaN             NaN   \n",
       "620          Norte     TO       NaN     17     NaN             NaN   \n",
       "686       Nordeste     MA       NaN     21     NaN             NaN   \n",
       "693       Nordeste     MA       NaN     21     NaN             NaN   \n",
       "760       Nordeste     PI       NaN     22     NaN             NaN   \n",
       "767       Nordeste     PI       NaN     22     NaN             NaN   \n",
       "837       Nordeste     CE       NaN     23     NaN             NaN   \n",
       "844       Nordeste     CE       NaN     23     NaN             NaN   \n",
       "918       Nordeste     RN       NaN     24     NaN             NaN   \n",
       "925       Nordeste     RN       NaN     24     NaN             NaN   \n",
       "993       Nordeste     PB       NaN     25     NaN             NaN   \n",
       "1000      Nordeste     PB       NaN     25     NaN             NaN   \n",
       "1075      Nordeste     PE       NaN     26     NaN             NaN   \n",
       "1082      Nordeste     PE       NaN     26     NaN             NaN   \n",
       "1161      Nordeste     AL       NaN     27     NaN             NaN   \n",
       "1168      Nordeste     AL       NaN     27     NaN             NaN   \n",
       "1240      Nordeste     SE       NaN     28     NaN             NaN   \n",
       "1247      Nordeste     SE       NaN     28     NaN             NaN   \n",
       "1328      Nordeste     BA       NaN     29     NaN             NaN   \n",
       "1335      Nordeste     BA       NaN     29     NaN             NaN   \n",
       "1414       Sudeste     MG       NaN     31     NaN             NaN   \n",
       "1421       Sudeste     MG       NaN     31     NaN             NaN   \n",
       "1502       Sudeste     ES       NaN     32     NaN             NaN   \n",
       "1509       Sudeste     ES       NaN     32     NaN             NaN   \n",
       "1591       Sudeste     RJ       NaN     33     NaN             NaN   \n",
       "1598       Sudeste     RJ       NaN     33     NaN             NaN   \n",
       "1688       Sudeste     SP       NaN     35     NaN             NaN   \n",
       "1695       Sudeste     SP       NaN     35     NaN             NaN   \n",
       "1770           Sul     PR       NaN     41     NaN             NaN   \n",
       "1777           Sul     PR       NaN     41     NaN             NaN   \n",
       "1851           Sul     SC       NaN     42     NaN             NaN   \n",
       "1858           Sul     SC       NaN     42     NaN             NaN   \n",
       "1935           Sul     RS       NaN     43     NaN             NaN   \n",
       "1942           Sul     RS       NaN     43     NaN             NaN   \n",
       "2013  Centro-Oeste     MS       NaN     50     NaN             NaN   \n",
       "2020  Centro-Oeste     MS       NaN     50     NaN             NaN   \n",
       "2087  Centro-Oeste     MT       NaN     51     NaN             NaN   \n",
       "2094  Centro-Oeste     MT       NaN     51     NaN             NaN   \n",
       "2168  Centro-Oeste     GO       NaN     52     NaN             NaN   \n",
       "2175  Centro-Oeste     GO       NaN     52     NaN             NaN   \n",
       "2255  Centro-Oeste     DF       NaN     53     NaN             NaN   \n",
       "2262  Centro-Oeste     DF       NaN     53     NaN             NaN   \n",
       "\n",
       "     nomeRegiaoSaude       data  semanaEpi  populacaoTCU2019  casosAcumulado  \\\n",
       "163              NaN 2020-05-25         22         1777225.0            3268   \n",
       "170              NaN 2020-06-01         23         1777225.0            5172   \n",
       "238              NaN 2020-05-25         22          881935.0            4501   \n",
       "245              NaN 2020-06-01         23          881935.0            6326   \n",
       "317              NaN 2020-05-25         22         4144597.0           30282   \n",
       "324              NaN 2020-06-01         23         4144597.0           41774   \n",
       "389              NaN 2020-05-25         22          605761.0            2514   \n",
       "396              NaN 2020-06-01         23          605761.0            3692   \n",
       "464              NaN 2020-05-25         22         8602865.0           26077   \n",
       "471              NaN 2020-06-01         23         8602865.0           38046   \n",
       "538              NaN 2020-05-25         22          845731.0            6584   \n",
       "545              NaN 2020-06-01         23          845731.0            9890   \n",
       "613              NaN 2020-05-25         22         1572866.0            2696   \n",
       "620              NaN 2020-06-01         23         1572866.0            4345   \n",
       "686              NaN 2020-05-25         22         7075181.0           22786   \n",
       "693              NaN 2020-06-01         23         7075181.0           35297   \n",
       "760              NaN 2020-05-25         22         3273227.0            3550   \n",
       "767              NaN 2020-06-01         23         3273227.0            5119   \n",
       "837              NaN 2020-05-25         22         9132078.0           36185   \n",
       "844              NaN 2020-06-01         23         9132078.0           50504   \n",
       "918              NaN 2020-05-25         22         3506853.0            4759   \n",
       "925              NaN 2020-06-01         23         3506853.0            7964   \n",
       "993              NaN 2020-05-25         22         4018127.0            8016   \n",
       "1000             NaN 2020-06-01         23         4018127.0           13695   \n",
       "1075             NaN 2020-05-25         22         9557071.0           28366   \n",
       "1082             NaN 2020-06-01         23         9557071.0           34900   \n",
       "1161             NaN 2020-05-25         22         3337357.0            6682   \n",
       "1168             NaN 2020-06-01         23         3337357.0           10837   \n",
       "1240             NaN 2020-05-25         22         2298696.0            5448   \n",
       "1247             NaN 2020-06-01         23         2298696.0            7233   \n",
       "1328             NaN 2020-05-25         22        14873064.0           14204   \n",
       "1335             NaN 2020-06-01         23        14873064.0           18898   \n",
       "1414             NaN 2020-05-25         22        21168791.0            6962   \n",
       "1421             NaN 2020-06-01         23        21168791.0           10670   \n",
       "1502             NaN 2020-05-25         22         4018650.0           10365   \n",
       "1509             NaN 2020-06-01         23         4018650.0           14069   \n",
       "1591             NaN 2020-05-25         22        17264943.0           39298   \n",
       "1598             NaN 2020-06-01         23        17264943.0           54530   \n",
       "1688             NaN 2020-05-25         22        45919049.0           83625   \n",
       "1695             NaN 2020-06-01         23        45919049.0          111296   \n",
       "1770             NaN 2020-05-25         22        11433957.0            3331   \n",
       "1777             NaN 2020-06-01         23        11433957.0            4835   \n",
       "1851             NaN 2020-05-25         22         7164788.0            6875   \n",
       "1858             NaN 2020-06-01         23         7164788.0            9498   \n",
       "1935             NaN 2020-05-25         22        11377239.0            6559   \n",
       "1942             NaN 2020-06-01         23        11377239.0            9332   \n",
       "2013             NaN 2020-05-25         22         2778986.0            1023   \n",
       "2020             NaN 2020-06-01         23         2778986.0            1568   \n",
       "2087             NaN 2020-05-25         22         3484466.0            1500   \n",
       "2094             NaN 2020-06-01         23         3484466.0            2541   \n",
       "2168             NaN 2020-05-25         22         7018354.0            2512   \n",
       "2175             NaN 2020-06-01         23         7018354.0            3906   \n",
       "2255             NaN 2020-05-25         22         3015268.0            6930   \n",
       "2262             NaN 2020-06-01         23         3015268.0           10510   \n",
       "\n",
       "      casosNovos  obitosAcumulado  obitosNovos  Recuperadosnovos  \\\n",
       "163           67              121            0               NaN   \n",
       "170          230              159            3               NaN   \n",
       "238          341               97            5               NaN   \n",
       "245          107              161           13               NaN   \n",
       "317          415             1781           23               NaN   \n",
       "324          396             2071           19               NaN   \n",
       "389           75               86            2               NaN   \n",
       "396          218              116            0               NaN   \n",
       "464         1952             2372          224               NaN   \n",
       "471           85             2925            2               NaN   \n",
       "538          231              168            5               NaN   \n",
       "545          288              228            6               NaN   \n",
       "613          105               58            6               NaN   \n",
       "620          169               76            3               NaN   \n",
       "686         1595              784           30               NaN   \n",
       "693          658              976           21               NaN   \n",
       "760          160              110            3               NaN   \n",
       "767          188              168            7               NaN   \n",
       "837          590             2493          169               NaN   \n",
       "844         2015             3188          178               NaN   \n",
       "918           62              209            9               NaN   \n",
       "925          562              323           18               NaN   \n",
       "993          193              279            7               NaN   \n",
       "1000         533              370           10               NaN   \n",
       "1075         607             2248           48               NaN   \n",
       "1082         450             2875           68               NaN   \n",
       "1161         468              337           21               NaN   \n",
       "1168         549              461           18               NaN   \n",
       "1240         134              103           10               NaN   \n",
       "1247         234              166            8               NaN   \n",
       "1328         305              477           17               NaN   \n",
       "1335         506              701           34               NaN   \n",
       "1414         294              230            4               NaN   \n",
       "1421         206              278            7               NaN   \n",
       "1502         358              465           19               NaN   \n",
       "1509         379              614           10               NaN   \n",
       "1591        1386             4105          112               NaN   \n",
       "1598        1142             5462          118               NaN   \n",
       "1688        1464             6220           57               NaN   \n",
       "1695        1598             7667           52               NaN   \n",
       "1770         119              156            3               NaN   \n",
       "1777         148              190            8               NaN   \n",
       "1851         179              109            4               NaN   \n",
       "1858         461              146            3               NaN   \n",
       "1935          89              197           17               NaN   \n",
       "1942           0              232            8               NaN   \n",
       "2013          99               17            0               NaN   \n",
       "2020          79               20            0               NaN   \n",
       "2087          38               41            1               NaN   \n",
       "2094         112               66            5               NaN   \n",
       "2168          69               96            1               NaN   \n",
       "2175         204              127            3               NaN   \n",
       "2255         292              114           10               NaN   \n",
       "2262         730              171            1               NaN   \n",
       "\n",
       "      emAcompanhamentoNovos  contamRate  lethality_pct  deathRate       label  \n",
       "163                     NaN    0.183882       3.702570   0.006808  2020-05-25  \n",
       "170                     NaN    0.291015       3.074246   0.008947  2020-06-01  \n",
       "238                     NaN    0.510355       2.155077   0.010999  2020-05-25  \n",
       "245                     NaN    0.717286       2.545052   0.018255  2020-06-01  \n",
       "317                     NaN    0.730638       5.881382   0.042972  2020-05-25  \n",
       "324                     NaN    1.007915       4.957629   0.049969  2020-06-01  \n",
       "389                     NaN    0.415015       3.420843   0.014197  2020-05-25  \n",
       "396                     NaN    0.609481       3.141928   0.019149  2020-06-01  \n",
       "464                     NaN    0.303120       9.096138   0.027572  2020-05-25  \n",
       "471                     NaN    0.442248       7.688062   0.034000  2020-06-01  \n",
       "538                     NaN    0.778498       2.551640   0.019864  2020-05-25  \n",
       "545                     NaN    1.169403       2.305359   0.026959  2020-06-01  \n",
       "613                     NaN    0.171407       2.151335   0.003688  2020-05-25  \n",
       "620                     NaN    0.276247       1.749137   0.004832  2020-06-01  \n",
       "686                     NaN    0.322055       3.440709   0.011081  2020-05-25  \n",
       "693                     NaN    0.498885       2.765108   0.013795  2020-06-01  \n",
       "760                     NaN    0.108456       3.098592   0.003361  2020-05-25  \n",
       "767                     NaN    0.156390       3.281891   0.005133  2020-06-01  \n",
       "837                     NaN    0.396241       6.889595   0.027299  2020-05-25  \n",
       "844                     NaN    0.553040       6.312371   0.034910  2020-06-01  \n",
       "918                     NaN    0.135706       4.391679   0.005960  2020-05-25  \n",
       "925                     NaN    0.227098       4.055751   0.009211  2020-06-01  \n",
       "993                     NaN    0.199496       3.480539   0.006944  2020-05-25  \n",
       "1000                    NaN    0.340830       2.701716   0.009208  2020-06-01  \n",
       "1075                    NaN    0.296806       7.924981   0.023522  2020-05-25  \n",
       "1082                    NaN    0.365175       8.237822   0.030082  2020-06-01  \n",
       "1161                    NaN    0.200218       5.043400   0.010098  2020-05-25  \n",
       "1168                    NaN    0.324718       4.253945   0.013813  2020-06-01  \n",
       "1240                    NaN    0.237004       1.890602   0.004481  2020-05-25  \n",
       "1247                    NaN    0.314657       2.295037   0.007221  2020-06-01  \n",
       "1328                    NaN    0.095502       3.358209   0.003207  2020-05-25  \n",
       "1335                    NaN    0.127062       3.709387   0.004713  2020-06-01  \n",
       "1414                    NaN    0.032888       3.303648   0.001087  2020-05-25  \n",
       "1421                    NaN    0.050404       2.605436   0.001313  2020-06-01  \n",
       "1502                    NaN    0.257922       4.486252   0.011571  2020-05-25  \n",
       "1509                    NaN    0.350093       4.364205   0.015279  2020-06-01  \n",
       "1591                    NaN    0.227617      10.445824   0.023777  2020-05-25  \n",
       "1598                    NaN    0.315842      10.016505   0.031636  2020-06-01  \n",
       "1688                    NaN    0.182114       7.437967   0.013546  2020-05-25  \n",
       "1695                    NaN    0.242374       6.888837   0.016697  2020-06-01  \n",
       "1770                    NaN    0.029133       4.683278   0.001364  2020-05-25  \n",
       "1777                    NaN    0.042286       3.929679   0.001662  2020-06-01  \n",
       "1851                    NaN    0.095955       1.585455   0.001521  2020-05-25  \n",
       "1858                    NaN    0.132565       1.537166   0.002038  2020-06-01  \n",
       "1935                    NaN    0.057650       3.003507   0.001732  2020-05-25  \n",
       "1942                    NaN    0.082023       2.486069   0.002039  2020-06-01  \n",
       "2013                    NaN    0.036812       1.661779   0.000612  2020-05-25  \n",
       "2020                    NaN    0.056423       1.275510   0.000720  2020-06-01  \n",
       "2087                    NaN    0.043048       2.733333   0.001177  2020-05-25  \n",
       "2094                    NaN    0.072924       2.597403   0.001894  2020-06-01  \n",
       "2168                    NaN    0.035792       3.821656   0.001368  2020-05-25  \n",
       "2175                    NaN    0.055654       3.251408   0.001810  2020-06-01  \n",
       "2255                    NaN    0.229830       1.645022   0.003781  2020-05-25  \n",
       "2262                    NaN    0.348559       1.627022   0.005671  2020-06-01  "
      ]
     },
     "execution_count": 282,
     "metadata": {},
     "output_type": "execute_result"
    }
   ],
   "source": [
    "fourQuadData"
   ]
  },
  {
   "cell_type": "code",
   "execution_count": null,
   "metadata": {},
   "outputs": [],
   "source": []
  },
  {
   "cell_type": "code",
   "execution_count": 363,
   "metadata": {},
   "outputs": [],
   "source": [
    "# Setting the plot dataframe\n",
    "plot_df = fourQuadData[['estado','contamRate','lethality_pct','deathRate','label']]"
   ]
  },
  {
   "cell_type": "markdown",
   "metadata": {},
   "source": [
    "Trying now to use the plotly.go, which is quite different than its express way:"
   ]
  },
  {
   "cell_type": "code",
   "execution_count": 307,
   "metadata": {},
   "outputs": [],
   "source": [
    "size= [x for x in plot_df['deathRate']]"
   ]
  },
  {
   "cell_type": "code",
   "execution_count": 347,
   "metadata": {
    "scrolled": true
   },
   "outputs": [
    {
     "data": {
      "text/plain": [
       "[0.006808366976606789,\n",
       " 0.008946531812235366,\n",
       " 0.010998542976523213,\n",
       " 0.01825531360020863,\n",
       " 0.04297160857859039,\n",
       " 0.049968670054048675,\n",
       " 0.014197018295994623,\n",
       " 0.019149466538783445,\n",
       " 0.027572209955636875,\n",
       " 0.03400030106249488,\n",
       " 0.019864472273098656,\n",
       " 0.02695892665634818,\n",
       " 0.003687536001159667,\n",
       " 0.004831943725657494,\n",
       " 0.011080988599443606,\n",
       " 0.013794700093184894,\n",
       " 0.00336059796647162,\n",
       " 0.005132549621520292,\n",
       " 0.027299372607198495,\n",
       " 0.034909907690232174,\n",
       " 0.005959759362596607,\n",
       " 0.00921053719674021,\n",
       " 0.006943533641420492,\n",
       " 0.0092082704205218,\n",
       " 0.023521850993887143,\n",
       " 0.030082438437466875,\n",
       " 0.010097810932423472,\n",
       " 0.013813325934264748,\n",
       " 0.004480801289078677,\n",
       " 0.007221485572689907,\n",
       " 0.003207140102402571,\n",
       " 0.004713218473342144,\n",
       " 0.0010865051291781378,\n",
       " 0.0013132540257022709,\n",
       " 0.011571049979470718,\n",
       " 0.015278762768591444,\n",
       " 0.02377650479355767,\n",
       " 0.03163636277281657,\n",
       " 0.013545576695196801,\n",
       " 0.01669677436046204,\n",
       " 0.0013643570637881532,\n",
       " 0.0016617169366650584,\n",
       " 0.0015213290330432666,\n",
       " 0.002037743475452449,\n",
       " 0.001731527306405359,\n",
       " 0.0020391590613504738,\n",
       " 0.0006117339202140636,\n",
       " 0.000719686964957722,\n",
       " 0.0011766508842387903,\n",
       " 0.001894120935603906,\n",
       " 0.001367842089469981,\n",
       " 0.001809541097527996,\n",
       " 0.003780758459944522,\n",
       " 0.005671137689916783]"
      ]
     },
     "execution_count": 347,
     "metadata": {},
     "output_type": "execute_result"
    }
   ],
   "source": [
    "### The list \"size\"\n",
    "size"
   ]
  },
  {
   "cell_type": "code",
   "execution_count": 376,
   "metadata": {},
   "outputs": [],
   "source": [
    "## Here we turn the previous array into a pandas.Dataframe\n",
    "size_df = pd.DataFrame(size, columns=['size'])"
   ]
  },
  {
   "cell_type": "code",
   "execution_count": 377,
   "metadata": {},
   "outputs": [],
   "source": [
    "def scale_range(dataset, t_min, t_max):\n",
    "    '''Scale the values of a given dataframe or seies between a given range, where:\n",
    "    dataset = pandas.Series or pandas.Dataframe\n",
    "    t_min = minimum of the target scaling range\n",
    "    t_max = maximum of the target scaling rage\n",
    "    \n",
    "    This function was implemented based on https://stats.stackexchange.com/questions/281162/scale-a-number-between-a-range/281164'''\n",
    "    ## Finding the limits of the measurements range:\n",
    "    r_min = dataset.min()\n",
    "    r_max = dataset.max()\n",
    "    \n",
    "    ## Linearly mapping the values to the new range:\n",
    "    return ((dataset - r_min)/(r_max - r_min))*(t_max - t_min) + t_min    "
   ]
  },
  {
   "cell_type": "code",
   "execution_count": 380,
   "metadata": {},
   "outputs": [],
   "source": [
    "size_Scale = scale_range(size_df,6,60)"
   ]
  },
  {
   "cell_type": "code",
   "execution_count": 383,
   "metadata": {},
   "outputs": [
    {
     "name": "stderr",
     "output_type": "stream",
     "text": [
      "/home/tbnsilveira/anaconda3/envs/analytics/lib/python3.7/site-packages/ipykernel_launcher.py:1: SettingWithCopyWarning:\n",
      "\n",
      "\n",
      "A value is trying to be set on a copy of a slice from a DataFrame.\n",
      "Try using .loc[row_indexer,col_indexer] = value instead\n",
      "\n",
      "See the caveats in the documentation: https://pandas.pydata.org/pandas-docs/stable/user_guide/indexing.html#returning-a-view-versus-a-copy\n",
      "\n"
     ]
    }
   ],
   "source": [
    "plot_df['size'] = size_Scale['size'].values"
   ]
  },
  {
   "cell_type": "markdown",
   "metadata": {},
   "source": [
    "### Creating the chart:"
   ]
  },
  {
   "cell_type": "code",
   "execution_count": 474,
   "metadata": {
    "scrolled": true
   },
   "outputs": [
    {
     "data": {
      "text/html": [
       "<div>\n",
       "<style scoped>\n",
       "    .dataframe tbody tr th:only-of-type {\n",
       "        vertical-align: middle;\n",
       "    }\n",
       "\n",
       "    .dataframe tbody tr th {\n",
       "        vertical-align: top;\n",
       "    }\n",
       "\n",
       "    .dataframe thead th {\n",
       "        text-align: right;\n",
       "    }\n",
       "</style>\n",
       "<table border=\"1\" class=\"dataframe\">\n",
       "  <thead>\n",
       "    <tr style=\"text-align: right;\">\n",
       "      <th></th>\n",
       "      <th>estado</th>\n",
       "      <th>contamRate</th>\n",
       "      <th>lethality_pct</th>\n",
       "      <th>deathRate</th>\n",
       "      <th>label</th>\n",
       "      <th>size</th>\n",
       "    </tr>\n",
       "  </thead>\n",
       "  <tbody>\n",
       "    <tr>\n",
       "      <th>163</th>\n",
       "      <td>RO</td>\n",
       "      <td>0.183882</td>\n",
       "      <td>3.702570</td>\n",
       "      <td>0.006808</td>\n",
       "      <td>2020-05-25</td>\n",
       "      <td>12.779557</td>\n",
       "    </tr>\n",
       "    <tr>\n",
       "      <th>170</th>\n",
       "      <td>RO</td>\n",
       "      <td>0.291015</td>\n",
       "      <td>3.074246</td>\n",
       "      <td>0.008947</td>\n",
       "      <td>2020-06-01</td>\n",
       "      <td>15.118862</td>\n",
       "    </tr>\n",
       "    <tr>\n",
       "      <th>238</th>\n",
       "      <td>AC</td>\n",
       "      <td>0.510355</td>\n",
       "      <td>2.155077</td>\n",
       "      <td>0.010999</td>\n",
       "      <td>2020-05-25</td>\n",
       "      <td>17.363908</td>\n",
       "    </tr>\n",
       "    <tr>\n",
       "      <th>245</th>\n",
       "      <td>AC</td>\n",
       "      <td>0.717286</td>\n",
       "      <td>2.545052</td>\n",
       "      <td>0.018255</td>\n",
       "      <td>2020-06-01</td>\n",
       "      <td>25.303332</td>\n",
       "    </tr>\n",
       "    <tr>\n",
       "      <th>317</th>\n",
       "      <td>AM</td>\n",
       "      <td>0.730638</td>\n",
       "      <td>5.881382</td>\n",
       "      <td>0.042972</td>\n",
       "      <td>2020-05-25</td>\n",
       "      <td>52.344717</td>\n",
       "    </tr>\n",
       "    <tr>\n",
       "      <th>324</th>\n",
       "      <td>AM</td>\n",
       "      <td>1.007915</td>\n",
       "      <td>4.957629</td>\n",
       "      <td>0.049969</td>\n",
       "      <td>2020-06-01</td>\n",
       "      <td>60.000000</td>\n",
       "    </tr>\n",
       "    <tr>\n",
       "      <th>389</th>\n",
       "      <td>RR</td>\n",
       "      <td>0.415015</td>\n",
       "      <td>3.420843</td>\n",
       "      <td>0.014197</td>\n",
       "      <td>2020-05-25</td>\n",
       "      <td>20.863268</td>\n",
       "    </tr>\n",
       "    <tr>\n",
       "      <th>396</th>\n",
       "      <td>RR</td>\n",
       "      <td>0.609481</td>\n",
       "      <td>3.141928</td>\n",
       "      <td>0.019149</td>\n",
       "      <td>2020-06-01</td>\n",
       "      <td>26.281598</td>\n",
       "    </tr>\n",
       "    <tr>\n",
       "      <th>464</th>\n",
       "      <td>PA</td>\n",
       "      <td>0.303120</td>\n",
       "      <td>9.096138</td>\n",
       "      <td>0.027572</td>\n",
       "      <td>2020-05-25</td>\n",
       "      <td>35.496679</td>\n",
       "    </tr>\n",
       "    <tr>\n",
       "      <th>471</th>\n",
       "      <td>PA</td>\n",
       "      <td>0.442248</td>\n",
       "      <td>7.688062</td>\n",
       "      <td>0.034000</td>\n",
       "      <td>2020-06-01</td>\n",
       "      <td>42.529468</td>\n",
       "    </tr>\n",
       "    <tr>\n",
       "      <th>538</th>\n",
       "      <td>AP</td>\n",
       "      <td>0.778498</td>\n",
       "      <td>2.551640</td>\n",
       "      <td>0.019864</td>\n",
       "      <td>2020-05-25</td>\n",
       "      <td>27.063866</td>\n",
       "    </tr>\n",
       "    <tr>\n",
       "      <th>545</th>\n",
       "      <td>AP</td>\n",
       "      <td>1.169403</td>\n",
       "      <td>2.305359</td>\n",
       "      <td>0.026959</td>\n",
       "      <td>2020-06-01</td>\n",
       "      <td>34.825704</td>\n",
       "    </tr>\n",
       "    <tr>\n",
       "      <th>613</th>\n",
       "      <td>TO</td>\n",
       "      <td>0.171407</td>\n",
       "      <td>2.151335</td>\n",
       "      <td>0.003688</td>\n",
       "      <td>2020-05-25</td>\n",
       "      <td>9.365146</td>\n",
       "    </tr>\n",
       "    <tr>\n",
       "      <th>620</th>\n",
       "      <td>TO</td>\n",
       "      <td>0.276247</td>\n",
       "      <td>1.749137</td>\n",
       "      <td>0.004832</td>\n",
       "      <td>2020-06-01</td>\n",
       "      <td>10.617210</td>\n",
       "    </tr>\n",
       "    <tr>\n",
       "      <th>686</th>\n",
       "      <td>MA</td>\n",
       "      <td>0.322055</td>\n",
       "      <td>3.440709</td>\n",
       "      <td>0.011081</td>\n",
       "      <td>2020-05-25</td>\n",
       "      <td>17.454110</td>\n",
       "    </tr>\n",
       "    <tr>\n",
       "      <th>693</th>\n",
       "      <td>MA</td>\n",
       "      <td>0.498885</td>\n",
       "      <td>2.765108</td>\n",
       "      <td>0.013795</td>\n",
       "      <td>2020-06-01</td>\n",
       "      <td>20.423103</td>\n",
       "    </tr>\n",
       "    <tr>\n",
       "      <th>760</th>\n",
       "      <td>PI</td>\n",
       "      <td>0.108456</td>\n",
       "      <td>3.098592</td>\n",
       "      <td>0.003361</td>\n",
       "      <td>2020-05-25</td>\n",
       "      <td>9.007453</td>\n",
       "    </tr>\n",
       "    <tr>\n",
       "      <th>767</th>\n",
       "      <td>PI</td>\n",
       "      <td>0.156390</td>\n",
       "      <td>3.281891</td>\n",
       "      <td>0.005133</td>\n",
       "      <td>2020-06-01</td>\n",
       "      <td>10.946094</td>\n",
       "    </tr>\n",
       "    <tr>\n",
       "      <th>837</th>\n",
       "      <td>CE</td>\n",
       "      <td>0.396241</td>\n",
       "      <td>6.889595</td>\n",
       "      <td>0.027299</td>\n",
       "      <td>2020-05-25</td>\n",
       "      <td>35.198176</td>\n",
       "    </tr>\n",
       "    <tr>\n",
       "      <th>844</th>\n",
       "      <td>CE</td>\n",
       "      <td>0.553040</td>\n",
       "      <td>6.312371</td>\n",
       "      <td>0.034910</td>\n",
       "      <td>2020-06-01</td>\n",
       "      <td>43.524643</td>\n",
       "    </tr>\n",
       "    <tr>\n",
       "      <th>918</th>\n",
       "      <td>RN</td>\n",
       "      <td>0.135706</td>\n",
       "      <td>4.391679</td>\n",
       "      <td>0.005960</td>\n",
       "      <td>2020-05-25</td>\n",
       "      <td>11.851120</td>\n",
       "    </tr>\n",
       "    <tr>\n",
       "      <th>925</th>\n",
       "      <td>RN</td>\n",
       "      <td>0.227098</td>\n",
       "      <td>4.055751</td>\n",
       "      <td>0.009211</td>\n",
       "      <td>2020-06-01</td>\n",
       "      <td>15.407703</td>\n",
       "    </tr>\n",
       "    <tr>\n",
       "      <th>993</th>\n",
       "      <td>PB</td>\n",
       "      <td>0.199496</td>\n",
       "      <td>3.480539</td>\n",
       "      <td>0.006944</td>\n",
       "      <td>2020-05-25</td>\n",
       "      <td>12.927439</td>\n",
       "    </tr>\n",
       "    <tr>\n",
       "      <th>1000</th>\n",
       "      <td>PB</td>\n",
       "      <td>0.340830</td>\n",
       "      <td>2.701716</td>\n",
       "      <td>0.009208</td>\n",
       "      <td>2020-06-01</td>\n",
       "      <td>15.405223</td>\n",
       "    </tr>\n",
       "    <tr>\n",
       "      <th>1075</th>\n",
       "      <td>PE</td>\n",
       "      <td>0.296806</td>\n",
       "      <td>7.924981</td>\n",
       "      <td>0.023522</td>\n",
       "      <td>2020-05-25</td>\n",
       "      <td>31.065298</td>\n",
       "    </tr>\n",
       "    <tr>\n",
       "      <th>1082</th>\n",
       "      <td>PE</td>\n",
       "      <td>0.365175</td>\n",
       "      <td>8.237822</td>\n",
       "      <td>0.030082</td>\n",
       "      <td>2020-06-01</td>\n",
       "      <td>38.243048</td>\n",
       "    </tr>\n",
       "    <tr>\n",
       "      <th>1161</th>\n",
       "      <td>AL</td>\n",
       "      <td>0.200218</td>\n",
       "      <td>5.043400</td>\n",
       "      <td>0.010098</td>\n",
       "      <td>2020-05-25</td>\n",
       "      <td>16.378443</td>\n",
       "    </tr>\n",
       "    <tr>\n",
       "      <th>1168</th>\n",
       "      <td>AL</td>\n",
       "      <td>0.324718</td>\n",
       "      <td>4.253945</td>\n",
       "      <td>0.013813</td>\n",
       "      <td>2020-06-01</td>\n",
       "      <td>20.443481</td>\n",
       "    </tr>\n",
       "    <tr>\n",
       "      <th>1240</th>\n",
       "      <td>SE</td>\n",
       "      <td>0.237004</td>\n",
       "      <td>1.890602</td>\n",
       "      <td>0.004481</td>\n",
       "      <td>2020-05-25</td>\n",
       "      <td>10.233035</td>\n",
       "    </tr>\n",
       "    <tr>\n",
       "      <th>1247</th>\n",
       "      <td>SE</td>\n",
       "      <td>0.314657</td>\n",
       "      <td>2.295037</td>\n",
       "      <td>0.007221</td>\n",
       "      <td>2020-06-01</td>\n",
       "      <td>13.231539</td>\n",
       "    </tr>\n",
       "    <tr>\n",
       "      <th>1328</th>\n",
       "      <td>BA</td>\n",
       "      <td>0.095502</td>\n",
       "      <td>3.358209</td>\n",
       "      <td>0.003207</td>\n",
       "      <td>2020-05-25</td>\n",
       "      <td>8.839559</td>\n",
       "    </tr>\n",
       "    <tr>\n",
       "      <th>1335</th>\n",
       "      <td>BA</td>\n",
       "      <td>0.127062</td>\n",
       "      <td>3.709387</td>\n",
       "      <td>0.004713</td>\n",
       "      <td>2020-06-01</td>\n",
       "      <td>10.487316</td>\n",
       "    </tr>\n",
       "    <tr>\n",
       "      <th>1414</th>\n",
       "      <td>MG</td>\n",
       "      <td>0.032888</td>\n",
       "      <td>3.303648</td>\n",
       "      <td>0.001087</td>\n",
       "      <td>2020-05-25</td>\n",
       "      <td>6.519433</td>\n",
       "    </tr>\n",
       "    <tr>\n",
       "      <th>1421</th>\n",
       "      <td>MG</td>\n",
       "      <td>0.050404</td>\n",
       "      <td>2.605436</td>\n",
       "      <td>0.001313</td>\n",
       "      <td>2020-06-01</td>\n",
       "      <td>6.767513</td>\n",
       "    </tr>\n",
       "    <tr>\n",
       "      <th>1502</th>\n",
       "      <td>ES</td>\n",
       "      <td>0.257922</td>\n",
       "      <td>4.486252</td>\n",
       "      <td>0.011571</td>\n",
       "      <td>2020-05-25</td>\n",
       "      <td>17.990272</td>\n",
       "    </tr>\n",
       "    <tr>\n",
       "      <th>1509</th>\n",
       "      <td>ES</td>\n",
       "      <td>0.350093</td>\n",
       "      <td>4.364205</td>\n",
       "      <td>0.015279</td>\n",
       "      <td>2020-06-01</td>\n",
       "      <td>22.046773</td>\n",
       "    </tr>\n",
       "    <tr>\n",
       "      <th>1591</th>\n",
       "      <td>RJ</td>\n",
       "      <td>0.227617</td>\n",
       "      <td>10.445824</td>\n",
       "      <td>0.023777</td>\n",
       "      <td>2020-05-25</td>\n",
       "      <td>31.343908</td>\n",
       "    </tr>\n",
       "    <tr>\n",
       "      <th>1598</th>\n",
       "      <td>RJ</td>\n",
       "      <td>0.315842</td>\n",
       "      <td>10.016505</td>\n",
       "      <td>0.031636</td>\n",
       "      <td>2020-06-01</td>\n",
       "      <td>39.943151</td>\n",
       "    </tr>\n",
       "    <tr>\n",
       "      <th>1688</th>\n",
       "      <td>SP</td>\n",
       "      <td>0.182114</td>\n",
       "      <td>7.437967</td>\n",
       "      <td>0.013546</td>\n",
       "      <td>2020-05-25</td>\n",
       "      <td>20.150544</td>\n",
       "    </tr>\n",
       "    <tr>\n",
       "      <th>1695</th>\n",
       "      <td>SP</td>\n",
       "      <td>0.242374</td>\n",
       "      <td>6.888837</td>\n",
       "      <td>0.016697</td>\n",
       "      <td>2020-06-01</td>\n",
       "      <td>23.598179</td>\n",
       "    </tr>\n",
       "    <tr>\n",
       "      <th>1770</th>\n",
       "      <td>PR</td>\n",
       "      <td>0.029133</td>\n",
       "      <td>4.683278</td>\n",
       "      <td>0.001364</td>\n",
       "      <td>2020-05-25</td>\n",
       "      <td>6.823423</td>\n",
       "    </tr>\n",
       "    <tr>\n",
       "      <th>1777</th>\n",
       "      <td>PR</td>\n",
       "      <td>0.042286</td>\n",
       "      <td>3.929679</td>\n",
       "      <td>0.001662</td>\n",
       "      <td>2020-06-01</td>\n",
       "      <td>7.148756</td>\n",
       "    </tr>\n",
       "    <tr>\n",
       "      <th>1851</th>\n",
       "      <td>SC</td>\n",
       "      <td>0.095955</td>\n",
       "      <td>1.585455</td>\n",
       "      <td>0.001521</td>\n",
       "      <td>2020-05-25</td>\n",
       "      <td>6.995162</td>\n",
       "    </tr>\n",
       "    <tr>\n",
       "      <th>1858</th>\n",
       "      <td>SC</td>\n",
       "      <td>0.132565</td>\n",
       "      <td>1.537166</td>\n",
       "      <td>0.002038</td>\n",
       "      <td>2020-06-01</td>\n",
       "      <td>7.560156</td>\n",
       "    </tr>\n",
       "    <tr>\n",
       "      <th>1935</th>\n",
       "      <td>RS</td>\n",
       "      <td>0.057650</td>\n",
       "      <td>3.003507</td>\n",
       "      <td>0.001732</td>\n",
       "      <td>2020-05-25</td>\n",
       "      <td>7.225134</td>\n",
       "    </tr>\n",
       "    <tr>\n",
       "      <th>1942</th>\n",
       "      <td>RS</td>\n",
       "      <td>0.082023</td>\n",
       "      <td>2.486069</td>\n",
       "      <td>0.002039</td>\n",
       "      <td>2020-06-01</td>\n",
       "      <td>7.561705</td>\n",
       "    </tr>\n",
       "    <tr>\n",
       "      <th>2013</th>\n",
       "      <td>MS</td>\n",
       "      <td>0.036812</td>\n",
       "      <td>1.661779</td>\n",
       "      <td>0.000612</td>\n",
       "      <td>2020-05-25</td>\n",
       "      <td>6.000000</td>\n",
       "    </tr>\n",
       "    <tr>\n",
       "      <th>2020</th>\n",
       "      <td>MS</td>\n",
       "      <td>0.056423</td>\n",
       "      <td>1.275510</td>\n",
       "      <td>0.000720</td>\n",
       "      <td>2020-06-01</td>\n",
       "      <td>6.118108</td>\n",
       "    </tr>\n",
       "    <tr>\n",
       "      <th>2087</th>\n",
       "      <td>MT</td>\n",
       "      <td>0.043048</td>\n",
       "      <td>2.733333</td>\n",
       "      <td>0.001177</td>\n",
       "      <td>2020-05-25</td>\n",
       "      <td>6.618059</td>\n",
       "    </tr>\n",
       "    <tr>\n",
       "      <th>2094</th>\n",
       "      <td>MT</td>\n",
       "      <td>0.072924</td>\n",
       "      <td>2.597403</td>\n",
       "      <td>0.001894</td>\n",
       "      <td>2020-06-01</td>\n",
       "      <td>7.403023</td>\n",
       "    </tr>\n",
       "    <tr>\n",
       "      <th>2168</th>\n",
       "      <td>GO</td>\n",
       "      <td>0.035792</td>\n",
       "      <td>3.821656</td>\n",
       "      <td>0.001368</td>\n",
       "      <td>2020-05-25</td>\n",
       "      <td>6.827236</td>\n",
       "    </tr>\n",
       "    <tr>\n",
       "      <th>2175</th>\n",
       "      <td>GO</td>\n",
       "      <td>0.055654</td>\n",
       "      <td>3.251408</td>\n",
       "      <td>0.001810</td>\n",
       "      <td>2020-06-01</td>\n",
       "      <td>7.310486</td>\n",
       "    </tr>\n",
       "    <tr>\n",
       "      <th>2255</th>\n",
       "      <td>DF</td>\n",
       "      <td>0.229830</td>\n",
       "      <td>1.645022</td>\n",
       "      <td>0.003781</td>\n",
       "      <td>2020-05-25</td>\n",
       "      <td>9.467138</td>\n",
       "    </tr>\n",
       "    <tr>\n",
       "      <th>2262</th>\n",
       "      <td>DF</td>\n",
       "      <td>0.348559</td>\n",
       "      <td>1.627022</td>\n",
       "      <td>0.005671</td>\n",
       "      <td>2020-06-01</td>\n",
       "      <td>11.535348</td>\n",
       "    </tr>\n",
       "  </tbody>\n",
       "</table>\n",
       "</div>"
      ],
      "text/plain": [
       "     estado  contamRate  lethality_pct  deathRate       label       size\n",
       "163      RO    0.183882       3.702570   0.006808  2020-05-25  12.779557\n",
       "170      RO    0.291015       3.074246   0.008947  2020-06-01  15.118862\n",
       "238      AC    0.510355       2.155077   0.010999  2020-05-25  17.363908\n",
       "245      AC    0.717286       2.545052   0.018255  2020-06-01  25.303332\n",
       "317      AM    0.730638       5.881382   0.042972  2020-05-25  52.344717\n",
       "324      AM    1.007915       4.957629   0.049969  2020-06-01  60.000000\n",
       "389      RR    0.415015       3.420843   0.014197  2020-05-25  20.863268\n",
       "396      RR    0.609481       3.141928   0.019149  2020-06-01  26.281598\n",
       "464      PA    0.303120       9.096138   0.027572  2020-05-25  35.496679\n",
       "471      PA    0.442248       7.688062   0.034000  2020-06-01  42.529468\n",
       "538      AP    0.778498       2.551640   0.019864  2020-05-25  27.063866\n",
       "545      AP    1.169403       2.305359   0.026959  2020-06-01  34.825704\n",
       "613      TO    0.171407       2.151335   0.003688  2020-05-25   9.365146\n",
       "620      TO    0.276247       1.749137   0.004832  2020-06-01  10.617210\n",
       "686      MA    0.322055       3.440709   0.011081  2020-05-25  17.454110\n",
       "693      MA    0.498885       2.765108   0.013795  2020-06-01  20.423103\n",
       "760      PI    0.108456       3.098592   0.003361  2020-05-25   9.007453\n",
       "767      PI    0.156390       3.281891   0.005133  2020-06-01  10.946094\n",
       "837      CE    0.396241       6.889595   0.027299  2020-05-25  35.198176\n",
       "844      CE    0.553040       6.312371   0.034910  2020-06-01  43.524643\n",
       "918      RN    0.135706       4.391679   0.005960  2020-05-25  11.851120\n",
       "925      RN    0.227098       4.055751   0.009211  2020-06-01  15.407703\n",
       "993      PB    0.199496       3.480539   0.006944  2020-05-25  12.927439\n",
       "1000     PB    0.340830       2.701716   0.009208  2020-06-01  15.405223\n",
       "1075     PE    0.296806       7.924981   0.023522  2020-05-25  31.065298\n",
       "1082     PE    0.365175       8.237822   0.030082  2020-06-01  38.243048\n",
       "1161     AL    0.200218       5.043400   0.010098  2020-05-25  16.378443\n",
       "1168     AL    0.324718       4.253945   0.013813  2020-06-01  20.443481\n",
       "1240     SE    0.237004       1.890602   0.004481  2020-05-25  10.233035\n",
       "1247     SE    0.314657       2.295037   0.007221  2020-06-01  13.231539\n",
       "1328     BA    0.095502       3.358209   0.003207  2020-05-25   8.839559\n",
       "1335     BA    0.127062       3.709387   0.004713  2020-06-01  10.487316\n",
       "1414     MG    0.032888       3.303648   0.001087  2020-05-25   6.519433\n",
       "1421     MG    0.050404       2.605436   0.001313  2020-06-01   6.767513\n",
       "1502     ES    0.257922       4.486252   0.011571  2020-05-25  17.990272\n",
       "1509     ES    0.350093       4.364205   0.015279  2020-06-01  22.046773\n",
       "1591     RJ    0.227617      10.445824   0.023777  2020-05-25  31.343908\n",
       "1598     RJ    0.315842      10.016505   0.031636  2020-06-01  39.943151\n",
       "1688     SP    0.182114       7.437967   0.013546  2020-05-25  20.150544\n",
       "1695     SP    0.242374       6.888837   0.016697  2020-06-01  23.598179\n",
       "1770     PR    0.029133       4.683278   0.001364  2020-05-25   6.823423\n",
       "1777     PR    0.042286       3.929679   0.001662  2020-06-01   7.148756\n",
       "1851     SC    0.095955       1.585455   0.001521  2020-05-25   6.995162\n",
       "1858     SC    0.132565       1.537166   0.002038  2020-06-01   7.560156\n",
       "1935     RS    0.057650       3.003507   0.001732  2020-05-25   7.225134\n",
       "1942     RS    0.082023       2.486069   0.002039  2020-06-01   7.561705\n",
       "2013     MS    0.036812       1.661779   0.000612  2020-05-25   6.000000\n",
       "2020     MS    0.056423       1.275510   0.000720  2020-06-01   6.118108\n",
       "2087     MT    0.043048       2.733333   0.001177  2020-05-25   6.618059\n",
       "2094     MT    0.072924       2.597403   0.001894  2020-06-01   7.403023\n",
       "2168     GO    0.035792       3.821656   0.001368  2020-05-25   6.827236\n",
       "2175     GO    0.055654       3.251408   0.001810  2020-06-01   7.310486\n",
       "2255     DF    0.229830       1.645022   0.003781  2020-05-25   9.467138\n",
       "2262     DF    0.348559       1.627022   0.005671  2020-06-01  11.535348"
      ]
     },
     "execution_count": 474,
     "metadata": {},
     "output_type": "execute_result"
    }
   ],
   "source": [
    "plot_df"
   ]
  },
  {
   "cell_type": "code",
   "execution_count": 475,
   "metadata": {},
   "outputs": [
    {
     "data": {
      "text/plain": [
       "array(['2020-05-25', '2020-06-01'], dtype=object)"
      ]
     },
     "execution_count": 475,
     "metadata": {},
     "output_type": "execute_result"
    }
   ],
   "source": [
    "## Picking the \"days\" from the label column:\n",
    "day = plot_df.label.unique()\n",
    "day"
   ]
  },
  {
   "cell_type": "code",
   "execution_count": 476,
   "metadata": {},
   "outputs": [],
   "source": [
    "## Data points for Week-0:\n",
    "data_0 = plot_df[plot_df['label'] == day[0]]\n",
    "\n",
    "## Data points for Week-1:\n",
    "data_1 = plot_df[plot_df['label'] == day[1]]"
   ]
  },
  {
   "cell_type": "code",
   "execution_count": 477,
   "metadata": {},
   "outputs": [],
   "source": [
    "## Selecting the colormap:\n",
    "colors = px.colors.cyclical.Phase"
   ]
  },
  {
   "cell_type": "code",
   "execution_count": 481,
   "metadata": {},
   "outputs": [],
   "source": [
    "def lineMaker(data_0, data_1):\n",
    "    '''From two subsets of a pandas.Dataframe, this function creates a list of dicts,\n",
    "    each one corresponding to a line connecting the equivalent points of both subsets.\n",
    "    The code was inspired from https://stackoverflow.com/questions/55939775/succint-way-to-add-line-segments-to-plotly-graph-with-python-jupyter-notebook'''\n",
    "    idx_0 = data_0.index.values\n",
    "    idx_1 = data_1.index.values\n",
    "    lines = []\n",
    "    for i in range(len(idx_0)):\n",
    "        a = idx_0[i]\n",
    "        b = idx_1[i]\n",
    "        lines.append(dict(type='line',\n",
    "                         x0 = data_0['lethality_pct'].loc[a],\n",
    "                         x1 = data_1['lethality_pct'].loc[b],\n",
    "                         y0 = data_0['contamRate'].loc[a],\n",
    "                         y1 = data_1['contamRate'].loc[b],\n",
    "                         line = dict(\n",
    "                             color = 'grey',\n",
    "                             width = 2\n",
    "                         )\n",
    "                        ))\n",
    "    return lines"
   ]
  },
  {
   "cell_type": "code",
   "execution_count": null,
   "metadata": {},
   "outputs": [],
   "source": []
  },
  {
   "cell_type": "code",
   "execution_count": 480,
   "metadata": {},
   "outputs": [
    {
     "data": {
      "application/vnd.plotly.v1+json": {
       "config": {
        "plotlyServerURL": "https://plot.ly"
       },
       "data": [
        {
         "marker": {
          "color": "rgb(167, 119, 12)",
          "size": [
           12.779557469650623,
           17.36390815507287,
           52.344716887405546,
           20.86326773410186,
           35.49667908812563,
           27.063865638594212,
           9.365146327573687,
           17.454109532760278,
           9.007452855165214,
           35.19817561587358,
           11.851120359367018,
           12.927439418403443,
           31.06529819079008,
           16.37844320948758,
           10.233034995368484,
           8.839559032962422,
           6.519433483766939,
           17.99027155160413,
           31.343907566885083,
           20.150544271128076,
           6.823423270091124,
           6.9951617734048535,
           7.2251336405964235,
           6,
           6.61805935389947,
           6.827236136155347,
           9.46713833049567
          ]
         },
         "mode": "markers+text",
         "name": "2020-05-25",
         "text": [
          "RO",
          "AC",
          "AM",
          "RR",
          "PA",
          "AP",
          "TO",
          "MA",
          "PI",
          "CE",
          "RN",
          "PB",
          "PE",
          "AL",
          "SE",
          "BA",
          "MG",
          "ES",
          "RJ",
          "SP",
          "PR",
          "SC",
          "RS",
          "MS",
          "MT",
          "GO",
          "DF"
         ],
         "textposition": "middle center",
         "type": "scatter",
         "x": [
          3.7025703794369647,
          2.155076649633415,
          5.8813816788851465,
          3.4208432776451874,
          9.096138359473866,
          2.551640340218712,
          2.1513353115727005,
          3.4407092074080574,
          3.0985915492957745,
          6.889595136106122,
          4.3916789241437275,
          3.4805389221556884,
          7.9249806105901435,
          5.04340017958695,
          1.8906020558002938,
          3.3582089552238807,
          3.3036483769031886,
          4.486251808972503,
          10.445824214972772,
          7.437967115097161,
          4.683278294806365,
          1.5854545454545454,
          3.0035066321085533,
          1.6617790811339197,
          2.7333333333333334,
          3.821656050955414,
          1.645021645021645
         ],
         "y": [
          0.18388217586405772,
          0.510355071518876,
          0.7306379848269928,
          0.4150151627457034,
          0.3031199489937364,
          0.7784981276552474,
          0.17140684584700794,
          0.32205536508535965,
          0.10845566164522046,
          0.39624059277636486,
          0.1357057167779773,
          0.19949593429973717,
          0.29680641694510795,
          0.2002183164701888,
          0.2370039361446664,
          0.09550150527154325,
          0.03288803786668781,
          0.25792243663916986,
          0.2276173167788622,
          0.18211396320511777,
          0.029132521663322683,
          0.09595538625846292,
          0.05765019087671446,
          0.036811988257587476,
          0.043048203081906954,
          0.03579186800779784,
          0.22983031690715386
         ]
        },
        {
         "marker": {
          "color": "rgb(217, 67, 96)",
          "size": [
           15.118861935609837,
           25.303331554783966,
           60,
           26.281598490805155,
           42.52946813380509,
           34.82570352206153,
           10.617209805649257,
           20.42310299428057,
           10.946094044585298,
           43.524642505338704,
           15.407702610902259,
           15.405222596432514,
           38.2430476562892,
           20.443480989697157,
           13.231538608188025,
           10.487315932017298,
           6.767512910316057,
           22.046773155950458,
           39.94315144476891,
           23.59817873253204,
           7.148756128917937,
           7.560155917581066,
           7.561704669275986,
           6.118108312078987,
           7.40302263988345,
           7.3104862789611555,
           11.535347713300634
          ]
         },
         "mode": "markers+text",
         "name": "2020-06-01",
         "text": [
          "RO",
          "AC",
          "AM",
          "RR",
          "PA",
          "AP",
          "TO",
          "MA",
          "PI",
          "CE",
          "RN",
          "PB",
          "PE",
          "AL",
          "SE",
          "BA",
          "MG",
          "ES",
          "RJ",
          "SP",
          "PR",
          "SC",
          "RS",
          "MS",
          "MT",
          "GO",
          "DF"
         ],
         "textposition": "middle center",
         "type": "scatter",
         "x": [
          3.074245939675174,
          2.5450521656655076,
          4.957629147316513,
          3.14192849404117,
          7.688061819902224,
          2.3053589484327603,
          1.7491369390103566,
          2.765107516219509,
          3.281890994334831,
          6.312371297322985,
          4.055750878955299,
          2.701715954728003,
          8.237822349570202,
          4.2539448186767554,
          2.2950366376330704,
          3.709387236744629,
          2.60543580131209,
          4.364204989693652,
          10.016504676324958,
          6.888836975273145,
          3.9296794208893484,
          1.5371657190987578,
          2.4860694384912128,
          1.2755102040816326,
          2.5974025974025974,
          3.2514080901177675,
          1.627021883920076
         ],
         "y": [
          0.2910154876281844,
          0.7172864213349056,
          1.007914641640671,
          0.6094812970792112,
          0.4422480185380103,
          1.169402564172296,
          0.27624730905239225,
          0.49888476351347055,
          0.15639000900334746,
          0.5530395163072414,
          0.22709819886947072,
          0.3408304416460704,
          0.36517464398872834,
          0.32471803286253165,
          0.31465665751365124,
          0.12706191541971446,
          0.05040439012317709,
          0.350092692819728,
          0.3158423401687454,
          0.2423743575351484,
          0.042286323098818725,
          0.13256498308114628,
          0.08202341534708026,
          0.05642345805268541,
          0.07292365602075038,
          0.05565407501530986,
          0.3485593983685696
         ]
        }
       ],
       "layout": {
        "shapes": [
         {
          "line": {
           "color": "grey",
           "width": 2
          },
          "type": "line",
          "x0": 3.7025703794369647,
          "x1": 3.074245939675174,
          "y0": 0.18388217586405772,
          "y1": 0.2910154876281844
         },
         {
          "line": {
           "color": "grey",
           "width": 2
          },
          "type": "line",
          "x0": 2.155076649633415,
          "x1": 2.5450521656655076,
          "y0": 0.510355071518876,
          "y1": 0.7172864213349056
         },
         {
          "line": {
           "color": "grey",
           "width": 2
          },
          "type": "line",
          "x0": 5.8813816788851465,
          "x1": 4.957629147316513,
          "y0": 0.7306379848269928,
          "y1": 1.007914641640671
         },
         {
          "line": {
           "color": "grey",
           "width": 2
          },
          "type": "line",
          "x0": 3.4208432776451874,
          "x1": 3.14192849404117,
          "y0": 0.4150151627457034,
          "y1": 0.6094812970792112
         },
         {
          "line": {
           "color": "grey",
           "width": 2
          },
          "type": "line",
          "x0": 9.096138359473866,
          "x1": 7.688061819902224,
          "y0": 0.3031199489937364,
          "y1": 0.4422480185380103
         },
         {
          "line": {
           "color": "grey",
           "width": 2
          },
          "type": "line",
          "x0": 2.551640340218712,
          "x1": 2.3053589484327603,
          "y0": 0.7784981276552474,
          "y1": 1.169402564172296
         },
         {
          "line": {
           "color": "grey",
           "width": 2
          },
          "type": "line",
          "x0": 2.1513353115727005,
          "x1": 1.7491369390103566,
          "y0": 0.17140684584700794,
          "y1": 0.27624730905239225
         },
         {
          "line": {
           "color": "grey",
           "width": 2
          },
          "type": "line",
          "x0": 3.4407092074080574,
          "x1": 2.765107516219509,
          "y0": 0.32205536508535965,
          "y1": 0.49888476351347055
         },
         {
          "line": {
           "color": "grey",
           "width": 2
          },
          "type": "line",
          "x0": 3.0985915492957745,
          "x1": 3.281890994334831,
          "y0": 0.10845566164522046,
          "y1": 0.15639000900334746
         },
         {
          "line": {
           "color": "grey",
           "width": 2
          },
          "type": "line",
          "x0": 6.889595136106122,
          "x1": 6.312371297322985,
          "y0": 0.39624059277636486,
          "y1": 0.5530395163072414
         },
         {
          "line": {
           "color": "grey",
           "width": 2
          },
          "type": "line",
          "x0": 4.3916789241437275,
          "x1": 4.055750878955299,
          "y0": 0.1357057167779773,
          "y1": 0.22709819886947072
         },
         {
          "line": {
           "color": "grey",
           "width": 2
          },
          "type": "line",
          "x0": 3.4805389221556884,
          "x1": 2.701715954728003,
          "y0": 0.19949593429973717,
          "y1": 0.3408304416460704
         },
         {
          "line": {
           "color": "grey",
           "width": 2
          },
          "type": "line",
          "x0": 7.9249806105901435,
          "x1": 8.237822349570202,
          "y0": 0.29680641694510795,
          "y1": 0.36517464398872834
         },
         {
          "line": {
           "color": "grey",
           "width": 2
          },
          "type": "line",
          "x0": 5.04340017958695,
          "x1": 4.2539448186767554,
          "y0": 0.2002183164701888,
          "y1": 0.32471803286253165
         },
         {
          "line": {
           "color": "grey",
           "width": 2
          },
          "type": "line",
          "x0": 1.8906020558002938,
          "x1": 2.2950366376330704,
          "y0": 0.2370039361446664,
          "y1": 0.31465665751365124
         },
         {
          "line": {
           "color": "grey",
           "width": 2
          },
          "type": "line",
          "x0": 3.3582089552238807,
          "x1": 3.709387236744629,
          "y0": 0.09550150527154325,
          "y1": 0.12706191541971446
         },
         {
          "line": {
           "color": "grey",
           "width": 2
          },
          "type": "line",
          "x0": 3.3036483769031886,
          "x1": 2.60543580131209,
          "y0": 0.03288803786668781,
          "y1": 0.05040439012317709
         },
         {
          "line": {
           "color": "grey",
           "width": 2
          },
          "type": "line",
          "x0": 4.486251808972503,
          "x1": 4.364204989693652,
          "y0": 0.25792243663916986,
          "y1": 0.350092692819728
         },
         {
          "line": {
           "color": "grey",
           "width": 2
          },
          "type": "line",
          "x0": 10.445824214972772,
          "x1": 10.016504676324958,
          "y0": 0.2276173167788622,
          "y1": 0.3158423401687454
         },
         {
          "line": {
           "color": "grey",
           "width": 2
          },
          "type": "line",
          "x0": 7.437967115097161,
          "x1": 6.888836975273145,
          "y0": 0.18211396320511777,
          "y1": 0.2423743575351484
         },
         {
          "line": {
           "color": "grey",
           "width": 2
          },
          "type": "line",
          "x0": 4.683278294806365,
          "x1": 3.9296794208893484,
          "y0": 0.029132521663322683,
          "y1": 0.042286323098818725
         },
         {
          "line": {
           "color": "grey",
           "width": 2
          },
          "type": "line",
          "x0": 1.5854545454545454,
          "x1": 1.5371657190987578,
          "y0": 0.09595538625846292,
          "y1": 0.13256498308114628
         },
         {
          "line": {
           "color": "grey",
           "width": 2
          },
          "type": "line",
          "x0": 3.0035066321085533,
          "x1": 2.4860694384912128,
          "y0": 0.05765019087671446,
          "y1": 0.08202341534708026
         },
         {
          "line": {
           "color": "grey",
           "width": 2
          },
          "type": "line",
          "x0": 1.6617790811339197,
          "x1": 1.2755102040816326,
          "y0": 0.036811988257587476,
          "y1": 0.05642345805268541
         },
         {
          "line": {
           "color": "grey",
           "width": 2
          },
          "type": "line",
          "x0": 2.7333333333333334,
          "x1": 2.5974025974025974,
          "y0": 0.043048203081906954,
          "y1": 0.07292365602075038
         },
         {
          "line": {
           "color": "grey",
           "width": 2
          },
          "type": "line",
          "x0": 3.821656050955414,
          "x1": 3.2514080901177675,
          "y0": 0.03579186800779784,
          "y1": 0.05565407501530986
         },
         {
          "line": {
           "color": "grey",
           "width": 2
          },
          "type": "line",
          "x0": 1.645021645021645,
          "x1": 1.627021883920076,
          "y0": 0.22983031690715386,
          "y1": 0.3485593983685696
         }
        ],
        "template": {
         "data": {
          "bar": [
           {
            "error_x": {
             "color": "#2a3f5f"
            },
            "error_y": {
             "color": "#2a3f5f"
            },
            "marker": {
             "line": {
              "color": "#E5ECF6",
              "width": 0.5
             }
            },
            "type": "bar"
           }
          ],
          "barpolar": [
           {
            "marker": {
             "line": {
              "color": "#E5ECF6",
              "width": 0.5
             }
            },
            "type": "barpolar"
           }
          ],
          "carpet": [
           {
            "aaxis": {
             "endlinecolor": "#2a3f5f",
             "gridcolor": "white",
             "linecolor": "white",
             "minorgridcolor": "white",
             "startlinecolor": "#2a3f5f"
            },
            "baxis": {
             "endlinecolor": "#2a3f5f",
             "gridcolor": "white",
             "linecolor": "white",
             "minorgridcolor": "white",
             "startlinecolor": "#2a3f5f"
            },
            "type": "carpet"
           }
          ],
          "choropleth": [
           {
            "colorbar": {
             "outlinewidth": 0,
             "ticks": ""
            },
            "type": "choropleth"
           }
          ],
          "contour": [
           {
            "colorbar": {
             "outlinewidth": 0,
             "ticks": ""
            },
            "colorscale": [
             [
              0,
              "#0d0887"
             ],
             [
              0.1111111111111111,
              "#46039f"
             ],
             [
              0.2222222222222222,
              "#7201a8"
             ],
             [
              0.3333333333333333,
              "#9c179e"
             ],
             [
              0.4444444444444444,
              "#bd3786"
             ],
             [
              0.5555555555555556,
              "#d8576b"
             ],
             [
              0.6666666666666666,
              "#ed7953"
             ],
             [
              0.7777777777777778,
              "#fb9f3a"
             ],
             [
              0.8888888888888888,
              "#fdca26"
             ],
             [
              1,
              "#f0f921"
             ]
            ],
            "type": "contour"
           }
          ],
          "contourcarpet": [
           {
            "colorbar": {
             "outlinewidth": 0,
             "ticks": ""
            },
            "type": "contourcarpet"
           }
          ],
          "heatmap": [
           {
            "colorbar": {
             "outlinewidth": 0,
             "ticks": ""
            },
            "colorscale": [
             [
              0,
              "#0d0887"
             ],
             [
              0.1111111111111111,
              "#46039f"
             ],
             [
              0.2222222222222222,
              "#7201a8"
             ],
             [
              0.3333333333333333,
              "#9c179e"
             ],
             [
              0.4444444444444444,
              "#bd3786"
             ],
             [
              0.5555555555555556,
              "#d8576b"
             ],
             [
              0.6666666666666666,
              "#ed7953"
             ],
             [
              0.7777777777777778,
              "#fb9f3a"
             ],
             [
              0.8888888888888888,
              "#fdca26"
             ],
             [
              1,
              "#f0f921"
             ]
            ],
            "type": "heatmap"
           }
          ],
          "heatmapgl": [
           {
            "colorbar": {
             "outlinewidth": 0,
             "ticks": ""
            },
            "colorscale": [
             [
              0,
              "#0d0887"
             ],
             [
              0.1111111111111111,
              "#46039f"
             ],
             [
              0.2222222222222222,
              "#7201a8"
             ],
             [
              0.3333333333333333,
              "#9c179e"
             ],
             [
              0.4444444444444444,
              "#bd3786"
             ],
             [
              0.5555555555555556,
              "#d8576b"
             ],
             [
              0.6666666666666666,
              "#ed7953"
             ],
             [
              0.7777777777777778,
              "#fb9f3a"
             ],
             [
              0.8888888888888888,
              "#fdca26"
             ],
             [
              1,
              "#f0f921"
             ]
            ],
            "type": "heatmapgl"
           }
          ],
          "histogram": [
           {
            "marker": {
             "colorbar": {
              "outlinewidth": 0,
              "ticks": ""
             }
            },
            "type": "histogram"
           }
          ],
          "histogram2d": [
           {
            "colorbar": {
             "outlinewidth": 0,
             "ticks": ""
            },
            "colorscale": [
             [
              0,
              "#0d0887"
             ],
             [
              0.1111111111111111,
              "#46039f"
             ],
             [
              0.2222222222222222,
              "#7201a8"
             ],
             [
              0.3333333333333333,
              "#9c179e"
             ],
             [
              0.4444444444444444,
              "#bd3786"
             ],
             [
              0.5555555555555556,
              "#d8576b"
             ],
             [
              0.6666666666666666,
              "#ed7953"
             ],
             [
              0.7777777777777778,
              "#fb9f3a"
             ],
             [
              0.8888888888888888,
              "#fdca26"
             ],
             [
              1,
              "#f0f921"
             ]
            ],
            "type": "histogram2d"
           }
          ],
          "histogram2dcontour": [
           {
            "colorbar": {
             "outlinewidth": 0,
             "ticks": ""
            },
            "colorscale": [
             [
              0,
              "#0d0887"
             ],
             [
              0.1111111111111111,
              "#46039f"
             ],
             [
              0.2222222222222222,
              "#7201a8"
             ],
             [
              0.3333333333333333,
              "#9c179e"
             ],
             [
              0.4444444444444444,
              "#bd3786"
             ],
             [
              0.5555555555555556,
              "#d8576b"
             ],
             [
              0.6666666666666666,
              "#ed7953"
             ],
             [
              0.7777777777777778,
              "#fb9f3a"
             ],
             [
              0.8888888888888888,
              "#fdca26"
             ],
             [
              1,
              "#f0f921"
             ]
            ],
            "type": "histogram2dcontour"
           }
          ],
          "mesh3d": [
           {
            "colorbar": {
             "outlinewidth": 0,
             "ticks": ""
            },
            "type": "mesh3d"
           }
          ],
          "parcoords": [
           {
            "line": {
             "colorbar": {
              "outlinewidth": 0,
              "ticks": ""
             }
            },
            "type": "parcoords"
           }
          ],
          "pie": [
           {
            "automargin": true,
            "type": "pie"
           }
          ],
          "scatter": [
           {
            "marker": {
             "colorbar": {
              "outlinewidth": 0,
              "ticks": ""
             }
            },
            "type": "scatter"
           }
          ],
          "scatter3d": [
           {
            "line": {
             "colorbar": {
              "outlinewidth": 0,
              "ticks": ""
             }
            },
            "marker": {
             "colorbar": {
              "outlinewidth": 0,
              "ticks": ""
             }
            },
            "type": "scatter3d"
           }
          ],
          "scattercarpet": [
           {
            "marker": {
             "colorbar": {
              "outlinewidth": 0,
              "ticks": ""
             }
            },
            "type": "scattercarpet"
           }
          ],
          "scattergeo": [
           {
            "marker": {
             "colorbar": {
              "outlinewidth": 0,
              "ticks": ""
             }
            },
            "type": "scattergeo"
           }
          ],
          "scattergl": [
           {
            "marker": {
             "colorbar": {
              "outlinewidth": 0,
              "ticks": ""
             }
            },
            "type": "scattergl"
           }
          ],
          "scattermapbox": [
           {
            "marker": {
             "colorbar": {
              "outlinewidth": 0,
              "ticks": ""
             }
            },
            "type": "scattermapbox"
           }
          ],
          "scatterpolar": [
           {
            "marker": {
             "colorbar": {
              "outlinewidth": 0,
              "ticks": ""
             }
            },
            "type": "scatterpolar"
           }
          ],
          "scatterpolargl": [
           {
            "marker": {
             "colorbar": {
              "outlinewidth": 0,
              "ticks": ""
             }
            },
            "type": "scatterpolargl"
           }
          ],
          "scatterternary": [
           {
            "marker": {
             "colorbar": {
              "outlinewidth": 0,
              "ticks": ""
             }
            },
            "type": "scatterternary"
           }
          ],
          "surface": [
           {
            "colorbar": {
             "outlinewidth": 0,
             "ticks": ""
            },
            "colorscale": [
             [
              0,
              "#0d0887"
             ],
             [
              0.1111111111111111,
              "#46039f"
             ],
             [
              0.2222222222222222,
              "#7201a8"
             ],
             [
              0.3333333333333333,
              "#9c179e"
             ],
             [
              0.4444444444444444,
              "#bd3786"
             ],
             [
              0.5555555555555556,
              "#d8576b"
             ],
             [
              0.6666666666666666,
              "#ed7953"
             ],
             [
              0.7777777777777778,
              "#fb9f3a"
             ],
             [
              0.8888888888888888,
              "#fdca26"
             ],
             [
              1,
              "#f0f921"
             ]
            ],
            "type": "surface"
           }
          ],
          "table": [
           {
            "cells": {
             "fill": {
              "color": "#EBF0F8"
             },
             "line": {
              "color": "white"
             }
            },
            "header": {
             "fill": {
              "color": "#C8D4E3"
             },
             "line": {
              "color": "white"
             }
            },
            "type": "table"
           }
          ]
         },
         "layout": {
          "annotationdefaults": {
           "arrowcolor": "#2a3f5f",
           "arrowhead": 0,
           "arrowwidth": 1
          },
          "coloraxis": {
           "colorbar": {
            "outlinewidth": 0,
            "ticks": ""
           }
          },
          "colorscale": {
           "diverging": [
            [
             0,
             "#8e0152"
            ],
            [
             0.1,
             "#c51b7d"
            ],
            [
             0.2,
             "#de77ae"
            ],
            [
             0.3,
             "#f1b6da"
            ],
            [
             0.4,
             "#fde0ef"
            ],
            [
             0.5,
             "#f7f7f7"
            ],
            [
             0.6,
             "#e6f5d0"
            ],
            [
             0.7,
             "#b8e186"
            ],
            [
             0.8,
             "#7fbc41"
            ],
            [
             0.9,
             "#4d9221"
            ],
            [
             1,
             "#276419"
            ]
           ],
           "sequential": [
            [
             0,
             "#0d0887"
            ],
            [
             0.1111111111111111,
             "#46039f"
            ],
            [
             0.2222222222222222,
             "#7201a8"
            ],
            [
             0.3333333333333333,
             "#9c179e"
            ],
            [
             0.4444444444444444,
             "#bd3786"
            ],
            [
             0.5555555555555556,
             "#d8576b"
            ],
            [
             0.6666666666666666,
             "#ed7953"
            ],
            [
             0.7777777777777778,
             "#fb9f3a"
            ],
            [
             0.8888888888888888,
             "#fdca26"
            ],
            [
             1,
             "#f0f921"
            ]
           ],
           "sequentialminus": [
            [
             0,
             "#0d0887"
            ],
            [
             0.1111111111111111,
             "#46039f"
            ],
            [
             0.2222222222222222,
             "#7201a8"
            ],
            [
             0.3333333333333333,
             "#9c179e"
            ],
            [
             0.4444444444444444,
             "#bd3786"
            ],
            [
             0.5555555555555556,
             "#d8576b"
            ],
            [
             0.6666666666666666,
             "#ed7953"
            ],
            [
             0.7777777777777778,
             "#fb9f3a"
            ],
            [
             0.8888888888888888,
             "#fdca26"
            ],
            [
             1,
             "#f0f921"
            ]
           ]
          },
          "colorway": [
           "#636efa",
           "#EF553B",
           "#00cc96",
           "#ab63fa",
           "#FFA15A",
           "#19d3f3",
           "#FF6692",
           "#B6E880",
           "#FF97FF",
           "#FECB52"
          ],
          "font": {
           "color": "#2a3f5f"
          },
          "geo": {
           "bgcolor": "white",
           "lakecolor": "white",
           "landcolor": "#E5ECF6",
           "showlakes": true,
           "showland": true,
           "subunitcolor": "white"
          },
          "hoverlabel": {
           "align": "left"
          },
          "hovermode": "closest",
          "mapbox": {
           "style": "light"
          },
          "paper_bgcolor": "white",
          "plot_bgcolor": "#E5ECF6",
          "polar": {
           "angularaxis": {
            "gridcolor": "white",
            "linecolor": "white",
            "ticks": ""
           },
           "bgcolor": "#E5ECF6",
           "radialaxis": {
            "gridcolor": "white",
            "linecolor": "white",
            "ticks": ""
           }
          },
          "scene": {
           "xaxis": {
            "backgroundcolor": "#E5ECF6",
            "gridcolor": "white",
            "gridwidth": 2,
            "linecolor": "white",
            "showbackground": true,
            "ticks": "",
            "zerolinecolor": "white"
           },
           "yaxis": {
            "backgroundcolor": "#E5ECF6",
            "gridcolor": "white",
            "gridwidth": 2,
            "linecolor": "white",
            "showbackground": true,
            "ticks": "",
            "zerolinecolor": "white"
           },
           "zaxis": {
            "backgroundcolor": "#E5ECF6",
            "gridcolor": "white",
            "gridwidth": 2,
            "linecolor": "white",
            "showbackground": true,
            "ticks": "",
            "zerolinecolor": "white"
           }
          },
          "shapedefaults": {
           "line": {
            "color": "#2a3f5f"
           }
          },
          "ternary": {
           "aaxis": {
            "gridcolor": "white",
            "linecolor": "white",
            "ticks": ""
           },
           "baxis": {
            "gridcolor": "white",
            "linecolor": "white",
            "ticks": ""
           },
           "bgcolor": "#E5ECF6",
           "caxis": {
            "gridcolor": "white",
            "linecolor": "white",
            "ticks": ""
           }
          },
          "title": {
           "x": 0.05
          },
          "xaxis": {
           "automargin": true,
           "gridcolor": "white",
           "linecolor": "white",
           "ticks": "",
           "title": {
            "standoff": 15
           },
           "zerolinecolor": "white",
           "zerolinewidth": 2
          },
          "yaxis": {
           "automargin": true,
           "gridcolor": "white",
           "linecolor": "white",
           "ticks": "",
           "title": {
            "standoff": 15
           },
           "zerolinecolor": "white",
           "zerolinewidth": 2
          }
         }
        },
        "title": {
         "text": "Scrpt"
        }
       }
      },
      "text/html": [
       "<div>\n",
       "        \n",
       "        \n",
       "            <div id=\"29b02bca-1298-43d3-b208-7fa8abc9b70e\" class=\"plotly-graph-div\" style=\"height:525px; width:100%;\"></div>\n",
       "            <script type=\"text/javascript\">\n",
       "                require([\"plotly\"], function(Plotly) {\n",
       "                    window.PLOTLYENV=window.PLOTLYENV || {};\n",
       "                    \n",
       "                if (document.getElementById(\"29b02bca-1298-43d3-b208-7fa8abc9b70e\")) {\n",
       "                    Plotly.newPlot(\n",
       "                        '29b02bca-1298-43d3-b208-7fa8abc9b70e',\n",
       "                        [{\"marker\": {\"color\": \"rgb(167, 119, 12)\", \"size\": [12.779557469650623, 17.36390815507287, 52.344716887405546, 20.86326773410186, 35.49667908812563, 27.063865638594212, 9.365146327573687, 17.454109532760278, 9.007452855165214, 35.19817561587358, 11.851120359367018, 12.927439418403443, 31.06529819079008, 16.37844320948758, 10.233034995368484, 8.839559032962422, 6.519433483766939, 17.99027155160413, 31.343907566885083, 20.150544271128076, 6.823423270091124, 6.9951617734048535, 7.2251336405964235, 6.0, 6.61805935389947, 6.827236136155347, 9.46713833049567]}, \"mode\": \"markers+text\", \"name\": \"2020-05-25\", \"text\": [\"RO\", \"AC\", \"AM\", \"RR\", \"PA\", \"AP\", \"TO\", \"MA\", \"PI\", \"CE\", \"RN\", \"PB\", \"PE\", \"AL\", \"SE\", \"BA\", \"MG\", \"ES\", \"RJ\", \"SP\", \"PR\", \"SC\", \"RS\", \"MS\", \"MT\", \"GO\", \"DF\"], \"textposition\": \"middle center\", \"type\": \"scatter\", \"x\": [3.7025703794369647, 2.155076649633415, 5.8813816788851465, 3.4208432776451874, 9.096138359473866, 2.551640340218712, 2.1513353115727005, 3.4407092074080574, 3.0985915492957745, 6.889595136106122, 4.3916789241437275, 3.4805389221556884, 7.9249806105901435, 5.04340017958695, 1.8906020558002938, 3.3582089552238807, 3.3036483769031886, 4.486251808972503, 10.445824214972772, 7.437967115097161, 4.683278294806365, 1.5854545454545454, 3.0035066321085533, 1.6617790811339197, 2.7333333333333334, 3.821656050955414, 1.645021645021645], \"y\": [0.18388217586405772, 0.510355071518876, 0.7306379848269928, 0.4150151627457034, 0.3031199489937364, 0.7784981276552474, 0.17140684584700794, 0.32205536508535965, 0.10845566164522046, 0.39624059277636486, 0.1357057167779773, 0.19949593429973717, 0.29680641694510795, 0.2002183164701888, 0.2370039361446664, 0.09550150527154325, 0.03288803786668781, 0.25792243663916986, 0.2276173167788622, 0.18211396320511777, 0.029132521663322683, 0.09595538625846292, 0.05765019087671446, 0.036811988257587476, 0.043048203081906954, 0.03579186800779784, 0.22983031690715386]}, {\"marker\": {\"color\": \"rgb(217, 67, 96)\", \"size\": [15.118861935609837, 25.303331554783966, 60.0, 26.281598490805155, 42.52946813380509, 34.82570352206153, 10.617209805649257, 20.42310299428057, 10.946094044585298, 43.524642505338704, 15.407702610902259, 15.405222596432514, 38.2430476562892, 20.443480989697157, 13.231538608188025, 10.487315932017298, 6.767512910316057, 22.046773155950458, 39.94315144476891, 23.59817873253204, 7.148756128917937, 7.560155917581066, 7.561704669275986, 6.118108312078987, 7.40302263988345, 7.3104862789611555, 11.535347713300634]}, \"mode\": \"markers+text\", \"name\": \"2020-06-01\", \"text\": [\"RO\", \"AC\", \"AM\", \"RR\", \"PA\", \"AP\", \"TO\", \"MA\", \"PI\", \"CE\", \"RN\", \"PB\", \"PE\", \"AL\", \"SE\", \"BA\", \"MG\", \"ES\", \"RJ\", \"SP\", \"PR\", \"SC\", \"RS\", \"MS\", \"MT\", \"GO\", \"DF\"], \"textposition\": \"middle center\", \"type\": \"scatter\", \"x\": [3.074245939675174, 2.5450521656655076, 4.957629147316513, 3.14192849404117, 7.688061819902224, 2.3053589484327603, 1.7491369390103566, 2.765107516219509, 3.281890994334831, 6.312371297322985, 4.055750878955299, 2.701715954728003, 8.237822349570202, 4.2539448186767554, 2.2950366376330704, 3.709387236744629, 2.60543580131209, 4.364204989693652, 10.016504676324958, 6.888836975273145, 3.9296794208893484, 1.5371657190987578, 2.4860694384912128, 1.2755102040816326, 2.5974025974025974, 3.2514080901177675, 1.627021883920076], \"y\": [0.2910154876281844, 0.7172864213349056, 1.007914641640671, 0.6094812970792112, 0.4422480185380103, 1.169402564172296, 0.27624730905239225, 0.49888476351347055, 0.15639000900334746, 0.5530395163072414, 0.22709819886947072, 0.3408304416460704, 0.36517464398872834, 0.32471803286253165, 0.31465665751365124, 0.12706191541971446, 0.05040439012317709, 0.350092692819728, 0.3158423401687454, 0.2423743575351484, 0.042286323098818725, 0.13256498308114628, 0.08202341534708026, 0.05642345805268541, 0.07292365602075038, 0.05565407501530986, 0.3485593983685696]}],\n",
       "                        {\"shapes\": [{\"line\": {\"color\": \"grey\", \"width\": 2}, \"type\": \"line\", \"x0\": 3.7025703794369647, \"x1\": 3.074245939675174, \"y0\": 0.18388217586405772, \"y1\": 0.2910154876281844}, {\"line\": {\"color\": \"grey\", \"width\": 2}, \"type\": \"line\", \"x0\": 2.155076649633415, \"x1\": 2.5450521656655076, \"y0\": 0.510355071518876, \"y1\": 0.7172864213349056}, {\"line\": {\"color\": \"grey\", \"width\": 2}, \"type\": \"line\", \"x0\": 5.8813816788851465, \"x1\": 4.957629147316513, \"y0\": 0.7306379848269928, \"y1\": 1.007914641640671}, {\"line\": {\"color\": \"grey\", \"width\": 2}, \"type\": \"line\", \"x0\": 3.4208432776451874, \"x1\": 3.14192849404117, \"y0\": 0.4150151627457034, \"y1\": 0.6094812970792112}, {\"line\": {\"color\": \"grey\", \"width\": 2}, \"type\": \"line\", \"x0\": 9.096138359473866, \"x1\": 7.688061819902224, \"y0\": 0.3031199489937364, \"y1\": 0.4422480185380103}, {\"line\": {\"color\": \"grey\", \"width\": 2}, \"type\": \"line\", \"x0\": 2.551640340218712, \"x1\": 2.3053589484327603, \"y0\": 0.7784981276552474, \"y1\": 1.169402564172296}, {\"line\": {\"color\": \"grey\", \"width\": 2}, \"type\": \"line\", \"x0\": 2.1513353115727005, \"x1\": 1.7491369390103566, \"y0\": 0.17140684584700794, \"y1\": 0.27624730905239225}, {\"line\": {\"color\": \"grey\", \"width\": 2}, \"type\": \"line\", \"x0\": 3.4407092074080574, \"x1\": 2.765107516219509, \"y0\": 0.32205536508535965, \"y1\": 0.49888476351347055}, {\"line\": {\"color\": \"grey\", \"width\": 2}, \"type\": \"line\", \"x0\": 3.0985915492957745, \"x1\": 3.281890994334831, \"y0\": 0.10845566164522046, \"y1\": 0.15639000900334746}, {\"line\": {\"color\": \"grey\", \"width\": 2}, \"type\": \"line\", \"x0\": 6.889595136106122, \"x1\": 6.312371297322985, \"y0\": 0.39624059277636486, \"y1\": 0.5530395163072414}, {\"line\": {\"color\": \"grey\", \"width\": 2}, \"type\": \"line\", \"x0\": 4.3916789241437275, \"x1\": 4.055750878955299, \"y0\": 0.1357057167779773, \"y1\": 0.22709819886947072}, {\"line\": {\"color\": \"grey\", \"width\": 2}, \"type\": \"line\", \"x0\": 3.4805389221556884, \"x1\": 2.701715954728003, \"y0\": 0.19949593429973717, \"y1\": 0.3408304416460704}, {\"line\": {\"color\": \"grey\", \"width\": 2}, \"type\": \"line\", \"x0\": 7.9249806105901435, \"x1\": 8.237822349570202, \"y0\": 0.29680641694510795, \"y1\": 0.36517464398872834}, {\"line\": {\"color\": \"grey\", \"width\": 2}, \"type\": \"line\", \"x0\": 5.04340017958695, \"x1\": 4.2539448186767554, \"y0\": 0.2002183164701888, \"y1\": 0.32471803286253165}, {\"line\": {\"color\": \"grey\", \"width\": 2}, \"type\": \"line\", \"x0\": 1.8906020558002938, \"x1\": 2.2950366376330704, \"y0\": 0.2370039361446664, \"y1\": 0.31465665751365124}, {\"line\": {\"color\": \"grey\", \"width\": 2}, \"type\": \"line\", \"x0\": 3.3582089552238807, \"x1\": 3.709387236744629, \"y0\": 0.09550150527154325, \"y1\": 0.12706191541971446}, {\"line\": {\"color\": \"grey\", \"width\": 2}, \"type\": \"line\", \"x0\": 3.3036483769031886, \"x1\": 2.60543580131209, \"y0\": 0.03288803786668781, \"y1\": 0.05040439012317709}, {\"line\": {\"color\": \"grey\", \"width\": 2}, \"type\": \"line\", \"x0\": 4.486251808972503, \"x1\": 4.364204989693652, \"y0\": 0.25792243663916986, \"y1\": 0.350092692819728}, {\"line\": {\"color\": \"grey\", \"width\": 2}, \"type\": \"line\", \"x0\": 10.445824214972772, \"x1\": 10.016504676324958, \"y0\": 0.2276173167788622, \"y1\": 0.3158423401687454}, {\"line\": {\"color\": \"grey\", \"width\": 2}, \"type\": \"line\", \"x0\": 7.437967115097161, \"x1\": 6.888836975273145, \"y0\": 0.18211396320511777, \"y1\": 0.2423743575351484}, {\"line\": {\"color\": \"grey\", \"width\": 2}, \"type\": \"line\", \"x0\": 4.683278294806365, \"x1\": 3.9296794208893484, \"y0\": 0.029132521663322683, \"y1\": 0.042286323098818725}, {\"line\": {\"color\": \"grey\", \"width\": 2}, \"type\": \"line\", \"x0\": 1.5854545454545454, \"x1\": 1.5371657190987578, \"y0\": 0.09595538625846292, \"y1\": 0.13256498308114628}, {\"line\": {\"color\": \"grey\", \"width\": 2}, \"type\": \"line\", \"x0\": 3.0035066321085533, \"x1\": 2.4860694384912128, \"y0\": 0.05765019087671446, \"y1\": 0.08202341534708026}, {\"line\": {\"color\": \"grey\", \"width\": 2}, \"type\": \"line\", \"x0\": 1.6617790811339197, \"x1\": 1.2755102040816326, \"y0\": 0.036811988257587476, \"y1\": 0.05642345805268541}, {\"line\": {\"color\": \"grey\", \"width\": 2}, \"type\": \"line\", \"x0\": 2.7333333333333334, \"x1\": 2.5974025974025974, \"y0\": 0.043048203081906954, \"y1\": 0.07292365602075038}, {\"line\": {\"color\": \"grey\", \"width\": 2}, \"type\": \"line\", \"x0\": 3.821656050955414, \"x1\": 3.2514080901177675, \"y0\": 0.03579186800779784, \"y1\": 0.05565407501530986}, {\"line\": {\"color\": \"grey\", \"width\": 2}, \"type\": \"line\", \"x0\": 1.645021645021645, \"x1\": 1.627021883920076, \"y0\": 0.22983031690715386, \"y1\": 0.3485593983685696}], \"template\": {\"data\": {\"bar\": [{\"error_x\": {\"color\": \"#2a3f5f\"}, \"error_y\": {\"color\": \"#2a3f5f\"}, \"marker\": {\"line\": {\"color\": \"#E5ECF6\", \"width\": 0.5}}, \"type\": \"bar\"}], \"barpolar\": [{\"marker\": {\"line\": {\"color\": \"#E5ECF6\", \"width\": 0.5}}, \"type\": \"barpolar\"}], \"carpet\": [{\"aaxis\": {\"endlinecolor\": \"#2a3f5f\", \"gridcolor\": \"white\", \"linecolor\": \"white\", \"minorgridcolor\": \"white\", \"startlinecolor\": \"#2a3f5f\"}, \"baxis\": {\"endlinecolor\": \"#2a3f5f\", \"gridcolor\": \"white\", \"linecolor\": \"white\", \"minorgridcolor\": \"white\", \"startlinecolor\": \"#2a3f5f\"}, \"type\": \"carpet\"}], \"choropleth\": [{\"colorbar\": {\"outlinewidth\": 0, \"ticks\": \"\"}, \"type\": \"choropleth\"}], \"contour\": [{\"colorbar\": {\"outlinewidth\": 0, \"ticks\": \"\"}, \"colorscale\": [[0.0, \"#0d0887\"], [0.1111111111111111, \"#46039f\"], [0.2222222222222222, \"#7201a8\"], [0.3333333333333333, \"#9c179e\"], [0.4444444444444444, \"#bd3786\"], [0.5555555555555556, \"#d8576b\"], [0.6666666666666666, \"#ed7953\"], [0.7777777777777778, \"#fb9f3a\"], [0.8888888888888888, \"#fdca26\"], [1.0, \"#f0f921\"]], \"type\": \"contour\"}], \"contourcarpet\": [{\"colorbar\": {\"outlinewidth\": 0, \"ticks\": \"\"}, \"type\": \"contourcarpet\"}], \"heatmap\": [{\"colorbar\": {\"outlinewidth\": 0, \"ticks\": \"\"}, \"colorscale\": [[0.0, \"#0d0887\"], [0.1111111111111111, \"#46039f\"], [0.2222222222222222, \"#7201a8\"], [0.3333333333333333, \"#9c179e\"], [0.4444444444444444, \"#bd3786\"], [0.5555555555555556, \"#d8576b\"], [0.6666666666666666, \"#ed7953\"], [0.7777777777777778, \"#fb9f3a\"], [0.8888888888888888, \"#fdca26\"], [1.0, \"#f0f921\"]], \"type\": \"heatmap\"}], \"heatmapgl\": [{\"colorbar\": {\"outlinewidth\": 0, \"ticks\": \"\"}, \"colorscale\": [[0.0, \"#0d0887\"], [0.1111111111111111, \"#46039f\"], [0.2222222222222222, \"#7201a8\"], [0.3333333333333333, \"#9c179e\"], [0.4444444444444444, \"#bd3786\"], [0.5555555555555556, \"#d8576b\"], [0.6666666666666666, \"#ed7953\"], [0.7777777777777778, \"#fb9f3a\"], [0.8888888888888888, \"#fdca26\"], [1.0, \"#f0f921\"]], \"type\": \"heatmapgl\"}], \"histogram\": [{\"marker\": {\"colorbar\": {\"outlinewidth\": 0, \"ticks\": \"\"}}, \"type\": \"histogram\"}], \"histogram2d\": [{\"colorbar\": {\"outlinewidth\": 0, \"ticks\": \"\"}, \"colorscale\": [[0.0, \"#0d0887\"], [0.1111111111111111, \"#46039f\"], [0.2222222222222222, \"#7201a8\"], [0.3333333333333333, \"#9c179e\"], [0.4444444444444444, \"#bd3786\"], [0.5555555555555556, \"#d8576b\"], [0.6666666666666666, \"#ed7953\"], [0.7777777777777778, \"#fb9f3a\"], [0.8888888888888888, \"#fdca26\"], [1.0, \"#f0f921\"]], \"type\": \"histogram2d\"}], \"histogram2dcontour\": [{\"colorbar\": {\"outlinewidth\": 0, \"ticks\": \"\"}, \"colorscale\": [[0.0, \"#0d0887\"], [0.1111111111111111, \"#46039f\"], [0.2222222222222222, \"#7201a8\"], [0.3333333333333333, \"#9c179e\"], [0.4444444444444444, \"#bd3786\"], [0.5555555555555556, \"#d8576b\"], [0.6666666666666666, \"#ed7953\"], [0.7777777777777778, \"#fb9f3a\"], [0.8888888888888888, \"#fdca26\"], [1.0, \"#f0f921\"]], \"type\": \"histogram2dcontour\"}], \"mesh3d\": [{\"colorbar\": {\"outlinewidth\": 0, \"ticks\": \"\"}, \"type\": \"mesh3d\"}], \"parcoords\": [{\"line\": {\"colorbar\": {\"outlinewidth\": 0, \"ticks\": \"\"}}, \"type\": \"parcoords\"}], \"pie\": [{\"automargin\": true, \"type\": \"pie\"}], \"scatter\": [{\"marker\": {\"colorbar\": {\"outlinewidth\": 0, \"ticks\": \"\"}}, \"type\": \"scatter\"}], \"scatter3d\": [{\"line\": {\"colorbar\": {\"outlinewidth\": 0, \"ticks\": \"\"}}, \"marker\": {\"colorbar\": {\"outlinewidth\": 0, \"ticks\": \"\"}}, \"type\": \"scatter3d\"}], \"scattercarpet\": [{\"marker\": {\"colorbar\": {\"outlinewidth\": 0, \"ticks\": \"\"}}, \"type\": \"scattercarpet\"}], \"scattergeo\": [{\"marker\": {\"colorbar\": {\"outlinewidth\": 0, \"ticks\": \"\"}}, \"type\": \"scattergeo\"}], \"scattergl\": [{\"marker\": {\"colorbar\": {\"outlinewidth\": 0, \"ticks\": \"\"}}, \"type\": \"scattergl\"}], \"scattermapbox\": [{\"marker\": {\"colorbar\": {\"outlinewidth\": 0, \"ticks\": \"\"}}, \"type\": \"scattermapbox\"}], \"scatterpolar\": [{\"marker\": {\"colorbar\": {\"outlinewidth\": 0, \"ticks\": \"\"}}, \"type\": \"scatterpolar\"}], \"scatterpolargl\": [{\"marker\": {\"colorbar\": {\"outlinewidth\": 0, \"ticks\": \"\"}}, \"type\": \"scatterpolargl\"}], \"scatterternary\": [{\"marker\": {\"colorbar\": {\"outlinewidth\": 0, \"ticks\": \"\"}}, \"type\": \"scatterternary\"}], \"surface\": [{\"colorbar\": {\"outlinewidth\": 0, \"ticks\": \"\"}, \"colorscale\": [[0.0, \"#0d0887\"], [0.1111111111111111, \"#46039f\"], [0.2222222222222222, \"#7201a8\"], [0.3333333333333333, \"#9c179e\"], [0.4444444444444444, \"#bd3786\"], [0.5555555555555556, \"#d8576b\"], [0.6666666666666666, \"#ed7953\"], [0.7777777777777778, \"#fb9f3a\"], [0.8888888888888888, \"#fdca26\"], [1.0, \"#f0f921\"]], \"type\": \"surface\"}], \"table\": [{\"cells\": {\"fill\": {\"color\": \"#EBF0F8\"}, \"line\": {\"color\": \"white\"}}, \"header\": {\"fill\": {\"color\": \"#C8D4E3\"}, \"line\": {\"color\": \"white\"}}, \"type\": \"table\"}]}, \"layout\": {\"annotationdefaults\": {\"arrowcolor\": \"#2a3f5f\", \"arrowhead\": 0, \"arrowwidth\": 1}, \"coloraxis\": {\"colorbar\": {\"outlinewidth\": 0, \"ticks\": \"\"}}, \"colorscale\": {\"diverging\": [[0, \"#8e0152\"], [0.1, \"#c51b7d\"], [0.2, \"#de77ae\"], [0.3, \"#f1b6da\"], [0.4, \"#fde0ef\"], [0.5, \"#f7f7f7\"], [0.6, \"#e6f5d0\"], [0.7, \"#b8e186\"], [0.8, \"#7fbc41\"], [0.9, \"#4d9221\"], [1, \"#276419\"]], \"sequential\": [[0.0, \"#0d0887\"], [0.1111111111111111, \"#46039f\"], [0.2222222222222222, \"#7201a8\"], [0.3333333333333333, \"#9c179e\"], [0.4444444444444444, \"#bd3786\"], [0.5555555555555556, \"#d8576b\"], [0.6666666666666666, \"#ed7953\"], [0.7777777777777778, \"#fb9f3a\"], [0.8888888888888888, \"#fdca26\"], [1.0, \"#f0f921\"]], \"sequentialminus\": [[0.0, \"#0d0887\"], [0.1111111111111111, \"#46039f\"], [0.2222222222222222, \"#7201a8\"], [0.3333333333333333, \"#9c179e\"], [0.4444444444444444, \"#bd3786\"], [0.5555555555555556, \"#d8576b\"], [0.6666666666666666, \"#ed7953\"], [0.7777777777777778, \"#fb9f3a\"], [0.8888888888888888, \"#fdca26\"], [1.0, \"#f0f921\"]]}, \"colorway\": [\"#636efa\", \"#EF553B\", \"#00cc96\", \"#ab63fa\", \"#FFA15A\", \"#19d3f3\", \"#FF6692\", \"#B6E880\", \"#FF97FF\", \"#FECB52\"], \"font\": {\"color\": \"#2a3f5f\"}, \"geo\": {\"bgcolor\": \"white\", \"lakecolor\": \"white\", \"landcolor\": \"#E5ECF6\", \"showlakes\": true, \"showland\": true, \"subunitcolor\": \"white\"}, \"hoverlabel\": {\"align\": \"left\"}, \"hovermode\": \"closest\", \"mapbox\": {\"style\": \"light\"}, \"paper_bgcolor\": \"white\", \"plot_bgcolor\": \"#E5ECF6\", \"polar\": {\"angularaxis\": {\"gridcolor\": \"white\", \"linecolor\": \"white\", \"ticks\": \"\"}, \"bgcolor\": \"#E5ECF6\", \"radialaxis\": {\"gridcolor\": \"white\", \"linecolor\": \"white\", \"ticks\": \"\"}}, \"scene\": {\"xaxis\": {\"backgroundcolor\": \"#E5ECF6\", \"gridcolor\": \"white\", \"gridwidth\": 2, \"linecolor\": \"white\", \"showbackground\": true, \"ticks\": \"\", \"zerolinecolor\": \"white\"}, \"yaxis\": {\"backgroundcolor\": \"#E5ECF6\", \"gridcolor\": \"white\", \"gridwidth\": 2, \"linecolor\": \"white\", \"showbackground\": true, \"ticks\": \"\", \"zerolinecolor\": \"white\"}, \"zaxis\": {\"backgroundcolor\": \"#E5ECF6\", \"gridcolor\": \"white\", \"gridwidth\": 2, \"linecolor\": \"white\", \"showbackground\": true, \"ticks\": \"\", \"zerolinecolor\": \"white\"}}, \"shapedefaults\": {\"line\": {\"color\": \"#2a3f5f\"}}, \"ternary\": {\"aaxis\": {\"gridcolor\": \"white\", \"linecolor\": \"white\", \"ticks\": \"\"}, \"baxis\": {\"gridcolor\": \"white\", \"linecolor\": \"white\", \"ticks\": \"\"}, \"bgcolor\": \"#E5ECF6\", \"caxis\": {\"gridcolor\": \"white\", \"linecolor\": \"white\", \"ticks\": \"\"}}, \"title\": {\"x\": 0.05}, \"xaxis\": {\"automargin\": true, \"gridcolor\": \"white\", \"linecolor\": \"white\", \"ticks\": \"\", \"title\": {\"standoff\": 15}, \"zerolinecolor\": \"white\", \"zerolinewidth\": 2}, \"yaxis\": {\"automargin\": true, \"gridcolor\": \"white\", \"linecolor\": \"white\", \"ticks\": \"\", \"title\": {\"standoff\": 15}, \"zerolinecolor\": \"white\", \"zerolinewidth\": 2}}}, \"title\": {\"text\": \"Scrpt\"}},\n",
       "                        {\"responsive\": true}\n",
       "                    ).then(function(){\n",
       "                            \n",
       "var gd = document.getElementById('29b02bca-1298-43d3-b208-7fa8abc9b70e');\n",
       "var x = new MutationObserver(function (mutations, observer) {{\n",
       "        var display = window.getComputedStyle(gd).display;\n",
       "        if (!display || display === 'none') {{\n",
       "            console.log([gd, 'removed!']);\n",
       "            Plotly.purge(gd);\n",
       "            observer.disconnect();\n",
       "        }}\n",
       "}});\n",
       "\n",
       "// Listen for the removal of the full notebook cells\n",
       "var notebookContainer = gd.closest('#notebook-container');\n",
       "if (notebookContainer) {{\n",
       "    x.observe(notebookContainer, {childList: true});\n",
       "}}\n",
       "\n",
       "// Listen for the clearing of the current output cell\n",
       "var outputEl = gd.closest('.output');\n",
       "if (outputEl) {{\n",
       "    x.observe(outputEl, {childList: true});\n",
       "}}\n",
       "\n",
       "                        })\n",
       "                };\n",
       "                });\n",
       "            </script>\n",
       "        </div>"
      ]
     },
     "metadata": {},
     "output_type": "display_data"
    }
   ],
   "source": [
    "fig7 = go.Figure()\n",
    "\n",
    "## Trace for Week-0 data:\n",
    "fig7.add_trace(go.Scatter(\n",
    "    x= data_0['lethality_pct'],\n",
    "    y= data_0['contamRate'],\n",
    "    name=day[0],\n",
    "    mode= 'markers+text',\n",
    "    text=data_1['estado'],\n",
    "    textposition='middle center',\n",
    "    marker= dict(color=colors[0],\n",
    "                 size= data_0['size']\n",
    "                 )\n",
    "    ))\n",
    "\n",
    "## Trace for Week-1 data:\n",
    "fig7.add_trace(go.Scatter(\n",
    "    x= data_1['lethality_pct'],\n",
    "    y= data_1['contamRate'],\n",
    "    name= day[1],\n",
    "    mode= 'markers+text',\n",
    "    text=data_1['estado'],\n",
    "    textposition='middle center',\n",
    "    marker= dict(color=colors[2],\n",
    "                 size = data_1['size']\n",
    "                 )\n",
    "    ))\n",
    "\n",
    "fig7.update_layout(shapes = lineMaker(data_0, data_1),\n",
    "                   title='Scrpt')\n",
    "\n",
    "fig7.show()"
   ]
  },
  {
   "cell_type": "code",
   "execution_count": null,
   "metadata": {},
   "outputs": [],
   "source": []
  },
  {
   "cell_type": "code",
   "execution_count": null,
   "metadata": {},
   "outputs": [],
   "source": []
  },
  {
   "cell_type": "code",
   "execution_count": null,
   "metadata": {},
   "outputs": [],
   "source": []
  },
  {
   "cell_type": "code",
   "execution_count": null,
   "metadata": {},
   "outputs": [],
   "source": []
  },
  {
   "cell_type": "code",
   "execution_count": null,
   "metadata": {},
   "outputs": [],
   "source": []
  },
  {
   "cell_type": "code",
   "execution_count": null,
   "metadata": {},
   "outputs": [],
   "source": []
  }
 ],
 "metadata": {
  "anaconda-cloud": {},
  "kernelspec": {
   "display_name": "Python [conda env:analytics]",
   "language": "python",
   "name": "conda-env-analytics-py"
  },
  "language_info": {
   "codemirror_mode": {
    "name": "ipython",
    "version": 3
   },
   "file_extension": ".py",
   "mimetype": "text/x-python",
   "name": "python",
   "nbconvert_exporter": "python",
   "pygments_lexer": "ipython3",
   "version": "3.7.4"
  }
 },
 "nbformat": 4,
 "nbformat_minor": 4
}
